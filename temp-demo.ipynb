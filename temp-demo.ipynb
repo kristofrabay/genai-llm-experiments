{
 "cells": [
  {
   "cell_type": "code",
   "execution_count": 1,
   "metadata": {},
   "outputs": [
    {
     "name": "stderr",
     "output_type": "stream",
     "text": [
      "Tracing client error 403: {\n",
      "  \"error\": {\n",
      "    \"message\": \"Traces ingestion is not permitted for zero data retention organizations.\",\n",
      "    \"type\": \"invalid_request_error\",\n",
      "    \"param\": null,\n",
      "    \"code\": \"zdr_forbidden\"\n",
      "  }\n",
      "}\n",
      "Tracing client error 403: {\n",
      "  \"error\": {\n",
      "    \"message\": \"Traces ingestion is not permitted for zero data retention organizations.\",\n",
      "    \"type\": \"invalid_request_error\",\n",
      "    \"param\": null,\n",
      "    \"code\": \"zdr_forbidden\"\n",
      "  }\n",
      "}\n"
     ]
    }
   ],
   "source": [
    "from dotenv import load_dotenv\n",
    "load_dotenv()\n",
    "\n",
    "from openai import OpenAI\n",
    "client = OpenAI()\n",
    "\n",
    "from agents import Agent, Runner, function_tool"
   ]
  },
  {
   "cell_type": "code",
   "execution_count": 2,
   "metadata": {},
   "outputs": [],
   "source": [
    "def pretty_print_agent_run_events(agent_run_response, display_last_step=False):\n",
    "    \n",
    "    for e, i in enumerate(agent_run_response.new_items):\n",
    "        print(\"\\n\" + \"=\" * 60)\n",
    "        print(f\"✨ Step {e+1}: {i.type} ✨\")\n",
    "        print(\"=\" * 60 + \"\\n\")\n",
    "\n",
    "        if i.type == 'message_output_item':\n",
    "            #print(f\"Output: {i.raw_item.content[0].text}\")\n",
    "            print(\"📝 Output:\")\n",
    "            if display_last_step:\n",
    "                display(Markdown(i.raw_item.content[0].text))\n",
    "            else:\n",
    "                print(i.raw_item.content[0].text)\n",
    "        \n",
    "        else:\n",
    "            print(\"📝 Output:\")\n",
    "            print(f\"{i.raw_item}\")\n",
    "\n",
    "        print(\"\\n\")"
   ]
  },
  {
   "cell_type": "code",
   "execution_count": 3,
   "metadata": {},
   "outputs": [],
   "source": [
    "async def main(agent, user_input):\n",
    "    result = await Runner.run(agent, user_input)\n",
    "    return result\n",
    "\n",
    "agent = Agent(\n",
    "    name=\"Financial analyst\", \n",
    "    instructions=\"You are a helpful assistant specializing in financial analysis and numbers.\",\n",
    "    model = \"gpt-4o\",\n",
    "    )"
   ]
  },
  {
   "cell_type": "code",
   "execution_count": 4,
   "metadata": {},
   "outputs": [],
   "source": [
    "user_input = \"What is 156800 / 15.76\""
   ]
  },
  {
   "cell_type": "code",
   "execution_count": 5,
   "metadata": {},
   "outputs": [
    {
     "data": {
      "text/plain": [
       "9949.238578680202"
      ]
     },
     "execution_count": 5,
     "metadata": {},
     "output_type": "execute_result"
    }
   ],
   "source": [
    "156800 / 15.76"
   ]
  },
  {
   "cell_type": "markdown",
   "metadata": {},
   "source": [
    "No tools"
   ]
  },
  {
   "cell_type": "code",
   "execution_count": 6,
   "metadata": {},
   "outputs": [
    {
     "name": "stdout",
     "output_type": "stream",
     "text": [
      "156800 divided by 15.76 is approximately 9944.67.\n"
     ]
    }
   ],
   "source": [
    "r = await main(agent, user_input)\n",
    "print(r.final_output)"
   ]
  },
  {
   "cell_type": "code",
   "execution_count": null,
   "metadata": {},
   "outputs": [],
   "source": []
  },
  {
   "cell_type": "markdown",
   "metadata": {},
   "source": [
    "Tools"
   ]
  },
  {
   "cell_type": "code",
   "execution_count": 7,
   "metadata": {},
   "outputs": [],
   "source": [
    "@function_tool  \n",
    "async def divide(a: float, b: float) -> float:\n",
    "    \"\"\"Divide two numbers\"\"\"\n",
    "    return a / b"
   ]
  },
  {
   "cell_type": "code",
   "execution_count": 8,
   "metadata": {},
   "outputs": [],
   "source": [
    "agent = Agent(\n",
    "    name=\"Financial analyst\", \n",
    "    instructions=\"You are a helpful assistant specializing in financial analysis and numbers.\",\n",
    "    model = \"gpt-4o\",\n",
    "    tools = [divide],\n",
    "    )"
   ]
  },
  {
   "cell_type": "code",
   "execution_count": 9,
   "metadata": {},
   "outputs": [
    {
     "name": "stdout",
     "output_type": "stream",
     "text": [
      "The result of 156800 divided by 15.76 is approximately 9949.24.\n"
     ]
    }
   ],
   "source": [
    "r = await main(agent, user_input)\n",
    "print(r.final_output)"
   ]
  },
  {
   "cell_type": "code",
   "execution_count": 10,
   "metadata": {},
   "outputs": [
    {
     "name": "stdout",
     "output_type": "stream",
     "text": [
      "\n",
      "============================================================\n",
      "✨ Step 1: tool_call_item ✨\n",
      "============================================================\n",
      "\n",
      "📝 Output:\n",
      "ResponseFunctionToolCall(id='fc_67f692f26d448192b8414d63ce880b7f09ca11df2b4ec6fc', arguments='{\"a\":156800,\"b\":15.76}', call_id='call_K04G6ecsHeYfWE7zM166QIem', name='divide', type='function_call', status='completed')\n",
      "\n",
      "\n",
      "\n",
      "============================================================\n",
      "✨ Step 2: tool_call_output_item ✨\n",
      "============================================================\n",
      "\n",
      "📝 Output:\n",
      "{'call_id': 'call_K04G6ecsHeYfWE7zM166QIem', 'output': '9949.238578680202', 'type': 'function_call_output'}\n",
      "\n",
      "\n",
      "\n",
      "============================================================\n",
      "✨ Step 3: message_output_item ✨\n",
      "============================================================\n",
      "\n",
      "📝 Output:\n",
      "The result of 156800 divided by 15.76 is approximately 9949.24.\n",
      "\n",
      "\n"
     ]
    }
   ],
   "source": [
    "pretty_print_agent_run_events(r)"
   ]
  },
  {
   "cell_type": "code",
   "execution_count": null,
   "metadata": {},
   "outputs": [],
   "source": []
  }
 ],
 "metadata": {
  "kernelspec": {
   "display_name": "venv",
   "language": "python",
   "name": "python3"
  },
  "language_info": {
   "codemirror_mode": {
    "name": "ipython",
    "version": 3
   },
   "file_extension": ".py",
   "mimetype": "text/x-python",
   "name": "python",
   "nbconvert_exporter": "python",
   "pygments_lexer": "ipython3",
   "version": "3.13.2"
  }
 },
 "nbformat": 4,
 "nbformat_minor": 2
}
