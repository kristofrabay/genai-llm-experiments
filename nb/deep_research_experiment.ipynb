{
 "cells": [
  {
   "cell_type": "markdown",
   "metadata": {},
   "source": [
    "## Deep Research Experiment with `LangGraph`\n",
    "\n",
    "This notebook aims to test multi-round research with back-and-forth between an OpenAI LLM and Perplexity. Orchestrated with `LangGraph`.\n",
    "\n"
   ]
  },
  {
   "cell_type": "code",
   "execution_count": 101,
   "metadata": {},
   "outputs": [],
   "source": [
    "import os\n",
    "\n",
    "from dotenv import load_dotenv\n",
    "load_dotenv()\n",
    "\n",
    "from IPython.display import display, Markdown, Image\n",
    "from langchain_core.messages import BaseMessage, SystemMessage, AIMessage\n",
    "from langchain_openai import ChatOpenAI\n",
    "from langgraph.graph import START, END, StateGraph\n",
    "from langgraph.constants import Send\n",
    "from langgraph.graph.state import CompiledStateGraph\n",
    "from langgraph.graph.message import add_messages\n",
    "import operator\n",
    "\n",
    "from pydantic import BaseModel, Field\n",
    "from typing import Annotated, Sequence, TypedDict, List, Dict"
   ]
  },
  {
   "cell_type": "markdown",
   "metadata": {},
   "source": [
    "### Prompts"
   ]
  },
  {
   "cell_type": "code",
   "execution_count": 22,
   "metadata": {},
   "outputs": [],
   "source": [
    "system_message_content = \"\"\"You are a helpful assistant that can help with research.\"\"\"\n",
    "system_message = SystemMessage(content=system_message_content)\n",
    "\n",
    "### research question writer\n",
    "\n",
    "user_message_template = \"\"\"\n",
    "A user requires help with their research question. They have provided a topic they are interested in and the reason for their interest. Additionally, they have provided some background on themselves to help you understand their perspective.\n",
    "\n",
    "<topic>\n",
    "{topic}\n",
    "</topic>\n",
    "\n",
    "<reason>\n",
    "{reason}\n",
    "</reason>\n",
    "\n",
    "<background>\n",
    "{background}\n",
    "</background>\n",
    "\n",
    "\n",
    "Your task is to write research questions that can be submitted to Perplexity or Google Scholar for further research. Return a list of research questions.\n",
    "\"\"\"\n",
    "\n",
    "### answer writer prompt\n",
    "\n",
    "answer_writer_template = \"\"\"\n",
    "You are assisting a user with their research. The topic is:\n",
    "\n",
    "<topic>\n",
    "{topic}\n",
    "</topic>\n",
    "\n",
    "The question you need to answer is:\n",
    "<question>\n",
    "{question}\n",
    "</question>\n",
    "\n",
    "Provide a detailed answer to the question.\n",
    "\"\"\""
   ]
  },
  {
   "cell_type": "code",
   "execution_count": null,
   "metadata": {},
   "outputs": [],
   "source": []
  },
  {
   "cell_type": "markdown",
   "metadata": {},
   "source": [
    "### Structured Outputs"
   ]
  },
  {
   "cell_type": "code",
   "execution_count": 5,
   "metadata": {},
   "outputs": [],
   "source": [
    "class ResearchQuestion(BaseModel):\n",
    "    question: str = Field(description=\"A research question that can be submitted to Perplexity or Google Scholar for further research.\")\n",
    "\n",
    "class ResearchQuestions(BaseModel):\n",
    "    questions: List[ResearchQuestion] = Field(description=\"A list of research questions that can be submitted to Perplexity or Google Scholar for further research.\")"
   ]
  },
  {
   "cell_type": "code",
   "execution_count": null,
   "metadata": {},
   "outputs": [],
   "source": []
  },
  {
   "cell_type": "markdown",
   "metadata": {},
   "source": [
    "### LLMs"
   ]
  },
  {
   "cell_type": "code",
   "execution_count": 49,
   "metadata": {},
   "outputs": [],
   "source": [
    "question_writer_model = \"gpt-4o-2024-11-20\"\n",
    "question_writer_llm = ChatOpenAI(\n",
    "    model=question_writer_model, \n",
    "    temperature=0.0\n",
    "    )\n",
    "question_writer_llm = question_writer_llm.with_structured_output(ResearchQuestions, method=\"json_schema\", include_raw=True)\n",
    "\n",
    "answer_writer_model = \"llama-3.1-sonar-large-128k-online\"\n",
    "answer_writer_llm = ChatOpenAI(\n",
    "    model=answer_writer_model, \n",
    "    temperature=0.0, \n",
    "    base_url=\"https://api.perplexity.ai\", \n",
    "    api_key=os.getenv('PPLX_API_KEY')\n",
    "    )"
   ]
  },
  {
   "cell_type": "markdown",
   "metadata": {},
   "source": [
    "Test question writer"
   ]
  },
  {
   "cell_type": "code",
   "execution_count": 18,
   "metadata": {},
   "outputs": [],
   "source": [
    "topic = \"The impact of AI on the job market\"\n",
    "reason = \"I am interested in the impact of AI on the job market because I am a software engineer and I want to understand how AI is changing the job market.\"\n",
    "background = \"I am a software engineer and I have been working in the tech industry for 10 years.\"\n",
    "\n",
    "user_message = user_message_template.format(topic=topic, reason=reason, background=background)\n",
    "\n",
    "test_response = question_writer_llm.invoke([system_message] + [user_message])"
   ]
  },
  {
   "cell_type": "code",
   "execution_count": 20,
   "metadata": {},
   "outputs": [
    {
     "data": {
      "text/plain": [
       "[ResearchQuestion(question='What are the current trends in the adoption of AI technologies in the job market?'),\n",
       " ResearchQuestion(question='How is AI impacting the demand for software engineering roles in the tech industry?'),\n",
       " ResearchQuestion(question='What are the potential long-term effects of AI on employment across various industries?'),\n",
       " ResearchQuestion(question='How can software engineers adapt their skills to remain competitive in an AI-driven job market?'),\n",
       " ResearchQuestion(question='What are the ethical considerations of AI replacing human jobs in the workforce?')]"
      ]
     },
     "execution_count": 20,
     "metadata": {},
     "output_type": "execute_result"
    }
   ],
   "source": [
    "test_response.questions"
   ]
  },
  {
   "cell_type": "markdown",
   "metadata": {},
   "source": [
    "Test answer writer"
   ]
  },
  {
   "cell_type": "code",
   "execution_count": 23,
   "metadata": {},
   "outputs": [],
   "source": [
    "answer_writer_prompt = answer_writer_template.format(topic=topic, question=test_response.questions[0].question)\n",
    "test_answer = answer_writer_llm.invoke([system_message] + [answer_writer_prompt])"
   ]
  },
  {
   "cell_type": "code",
   "execution_count": 28,
   "metadata": {},
   "outputs": [
    {
     "name": "stdout",
     "output_type": "stream",
     "text": [
      "The current trends in the adoption of AI technologies in the job market are multifaceted and indicate a significant shift towards increased integration and demand for AI skills. Here are some key points highlighting these trends:\n",
      "\n",
      "## Growing Demand for AI Skills\n",
      "There is a pronounced increase in the demand for workers with AI skills across various industries. Both tech and non-tech firms are driving this demand, with a particular focus on roles such as machine-learning specialists, natural language processing experts, and those who can implement and integrate AI tools into business operations[1][2][5].\n",
      "\n",
      "## Rebound in Tech Industry Hiring\n",
      "After several slow years, the tech industry is showing signs of a hiring rebound, with AI-related jobs being a significant part of this resurgence. This includes not only roles in AI development but also positions that involve the implementation and management of AI tools within existing workflows[1][2].\n",
      "\n",
      "## Increased Adoption Across Sectors\n",
      "AI adoptio\n"
     ]
    }
   ],
   "source": [
    "print(test_answer.content[:1000])"
   ]
  },
  {
   "cell_type": "code",
   "execution_count": null,
   "metadata": {},
   "outputs": [],
   "source": []
  },
  {
   "cell_type": "markdown",
   "metadata": {},
   "source": [
    "### Build the graph"
   ]
  },
  {
   "cell_type": "code",
   "execution_count": 102,
   "metadata": {},
   "outputs": [],
   "source": [
    "class AgentState(TypedDict):\n",
    "\n",
    "    topic: str\n",
    "    reason: str\n",
    "    background: str\n",
    "\n",
    "    messages: Annotated[Sequence[BaseMessage], add_messages]\n",
    "\n",
    "    questions: List[str]\n",
    "    question: str\n",
    "    questions_with_answers: Annotated[List[Dict[str, str]], operator.add]"
   ]
  },
  {
   "cell_type": "code",
   "execution_count": 103,
   "metadata": {},
   "outputs": [],
   "source": [
    "def write_questions(state: AgentState) -> AgentState:\n",
    "\n",
    "    user_message = user_message_template.format(\n",
    "        topic=state['topic'], \n",
    "        reason=state['reason'], \n",
    "        background=state['background']\n",
    "        )\n",
    "    \n",
    "    response = question_writer_llm.invoke([system_message] + [user_message])\n",
    "\n",
    "    response_parsed = response[\"parsed\"]\n",
    "    response_raw = response[\"raw\"]\n",
    "    response_raw.name = 'Question Writer'\n",
    "    \n",
    "    questions = [question.question for question in response_parsed.questions]\n",
    "    \n",
    "    return {\n",
    "        'questions': questions,\n",
    "        'messages': [system_message] + [user_message] + [response_raw]\n",
    "        }\n",
    "\n",
    "def answer_question(state: AgentState) -> AgentState:\n",
    "\n",
    "    print(f'Answering question: {state[\"question\"]}')\n",
    "\n",
    "    user_message = answer_writer_template.format(\n",
    "        topic=state['topic'], \n",
    "        question=state['question']\n",
    "        )\n",
    "    \n",
    "    response = answer_writer_llm.invoke([system_message] + [user_message])\n",
    "    response.name = 'Answer Writer'\n",
    "\n",
    "    return {\n",
    "        'messages': [response],\n",
    "        'questions_with_answers': [{'question': state['question'], 'answer': response.content}]\n",
    "        }\n",
    "\n",
    "def send_questions_to_answer_writer(state: AgentState) -> AgentState:\n",
    "\n",
    "    return [Send(\"answer_question\", {\"question\": q, \"topic\": state['topic']}) for q in state['questions']]\n"
   ]
  },
  {
   "cell_type": "code",
   "execution_count": 104,
   "metadata": {},
   "outputs": [],
   "source": [
    "workflow = StateGraph(AgentState)\n",
    "\n",
    "workflow.add_node(\"write_questions\", write_questions)\n",
    "workflow.add_node(\"answer_question\", answer_question)\n",
    "\n",
    "workflow.add_edge(START, \"write_questions\")\n",
    "workflow.add_conditional_edges(\"write_questions\", send_questions_to_answer_writer, [\"answer_question\"])\n",
    "workflow.add_edge(\"answer_question\", END)\n",
    "\n",
    "app = workflow.compile()"
   ]
  },
  {
   "cell_type": "code",
   "execution_count": 105,
   "metadata": {},
   "outputs": [
    {
     "data": {
      "image/jpeg": "[encoded data removed]",
      "text/plain": [
       "<IPython.core.display.Image object>"
      ]
     },
     "metadata": {},
     "output_type": "display_data"
    }
   ],
   "source": [
    "display(Image(app.get_graph().draw_mermaid_png()))"
   ]
  },
  {
   "cell_type": "code",
   "execution_count": 106,
   "metadata": {},
   "outputs": [
    {
     "name": "stdout",
     "output_type": "stream",
     "text": [
      "Answering question: How is AI impacting the demand for software engineering roles in the tech industry?\n",
      "Answering question: What are the potential long-term effects of AI on employment across various industries?\n",
      "\n",
      "Answering question: What are the current trends in the adoption of AI technologies in the job market?\n",
      "\n",
      "\n",
      "Answering question: How can software engineers adapt their skills to remain competitive in an AI-driven job market?\n",
      "\n",
      "Answering question: What are the ethical considerations of AI replacing human jobs in the workforce?\n",
      "\n"
     ]
    }
   ],
   "source": [
    "test = app.invoke({\"topic\": topic, \"reason\": reason, \"background\": background})"
   ]
  },
  {
   "cell_type": "code",
   "execution_count": 107,
   "metadata": {},
   "outputs": [
    {
     "data": {
      "text/plain": [
       "{'topic': 'The impact of AI on the job market',\n",
       " 'reason': 'I am interested in the impact of AI on the job market because I am a software engineer and I want to understand how AI is changing the job market.',\n",
       " 'background': 'I am a software engineer and I have been working in the tech industry for 10 years.',\n",
       " 'messages': [SystemMessage(content='You are a helpful assistant that can help with research.', id='2efb145b-3ea1-462e-96c0-d1495db4c45c'),\n",
       "  HumanMessage(content='\\nA user requires help with their research question. They have provided a topic they are interested in and the reason for their interest. Additionally, they have provided some background on themselves to help you understand their perspective.\\n\\n<topic>\\nThe impact of AI on the job market\\n</topic>\\n\\n<reason>\\nI am interested in the impact of AI on the job market because I am a software engineer and I want to understand how AI is changing the job market.\\n</reason>\\n\\n<background>\\nI am a software engineer and I have been working in the tech industry for 10 years.\\n</background>\\n\\n\\nYour task is to write research questions that can be submitted to Perplexity or Google Scholar for further research. Return a list of research questions.\\n', id='57efe2cf-4823-4dda-818c-c6d458c39edc'),\n",
       "  AIMessage(content='{\"questions\":[{\"question\":\"What are the current trends in the adoption of AI technologies in the job market?\"},{\"question\":\"How is AI impacting the demand for software engineering roles in the tech industry?\"},{\"question\":\"What are the potential long-term effects of AI on employment across various industries?\"},{\"question\":\"How can software engineers adapt their skills to remain competitive in an AI-driven job market?\"},{\"question\":\"What are the ethical considerations of AI replacing human jobs in the workforce?\"}]}', additional_kwargs={'parsed': ResearchQuestions(questions=[ResearchQuestion(question='What are the current trends in the adoption of AI technologies in the job market?'), ResearchQuestion(question='How is AI impacting the demand for software engineering roles in the tech industry?'), ResearchQuestion(question='What are the potential long-term effects of AI on employment across various industries?'), ResearchQuestion(question='How can software engineers adapt their skills to remain competitive in an AI-driven job market?'), ResearchQuestion(question='What are the ethical considerations of AI replacing human jobs in the workforce?')]), 'refusal': None}, response_metadata={'token_usage': {'completion_tokens': 98, 'prompt_tokens': 289, 'total_tokens': 387, 'completion_tokens_details': {'accepted_prediction_tokens': 0, 'audio_tokens': 0, 'reasoning_tokens': 0, 'rejected_prediction_tokens': 0}, 'prompt_tokens_details': {'audio_tokens': 0, 'cached_tokens': 0}}, 'model_name': 'gpt-4o-2024-11-20', 'system_fingerprint': 'fp_ec7eab8ec3', 'finish_reason': 'stop', 'logprobs': None}, name='Question Writer', id='run-2ee0c34d-29c2-4f12-8c1d-1b6867c50050-0', usage_metadata={'input_tokens': 289, 'output_tokens': 98, 'total_tokens': 387}),\n",
       "  AIMessage(content='The current trends in the adoption of AI technologies in the job market are multifaceted and reflect both the opportunities and challenges associated with this technological shift.\\n\\n## Job Creation and Displacement\\nAI and related technologies are expected to create new job opportunities while also displacing some existing roles. According to the World Economic Forum’s Future of Jobs Report 2025, AI and data processing alone are forecast to create 11 million new roles but also replace 9 million jobs by 2030. Additionally, robots and automation are predicted to displace 5 million more jobs than they create[1].\\n\\n## Growing Demand for AI-Related Jobs\\nThere is a significant increase in demand for jobs related to AI, machine learning, and data science. The fastest-growing jobs include big data specialists, fintech engineers, and AI and machine learning specialists. These roles are expected to transform businesses, with 86% of surveyed executives anticipating AI and information processing technologies to impact their businesses by 2030[1].\\n\\n## Sector-Specific Trends\\nAI-related job postings are on the rise, particularly within the software development sector. Despite a decline in overall tech job postings, the share of AI-related jobs within software development has increased, with almost a quarter of these jobs now involving AI[2].\\n\\n## Skills and Training\\nThe integration of AI is driving a need for continuous learning, upskilling, and reskilling. Technological skills are projected to grow in importance more rapidly than any other skills over the next five years, with 39% of workers’ key skills expected to change by 2030[1].\\n\\n## Geographic and Remote Work Implications\\nAI could enable more remote work opportunities, allowing workers to access a global job market. However, it might also concentrate high-level jobs in tech hubs, potentially limiting local job opportunities[3].\\n\\n## Adoption in Various Sectors\\nWhile AI adoption is more pronounced in tech-heavy sectors such as mathematics and software development, it is still relatively minor in other areas like accounting, sales, and less tech-centered roles. However, there is a growing trend towards incorporating AI skills in these sectors as well[4].\\n\\n## Employer Strategies and Worker Demand\\nEmployers are adopting more flexible hiring approaches, including skills-based hiring and offering remote or hybrid work options, which are in high demand by workers. This flexibility is driven by worker preferences and the need for employers to attract talent in a competitive labor market[4].\\n\\n## Funding and Investment\\nAI companies continue to receive significant funding, with 41% of US venture capital deal value going to AI companies in the first half of 2024. This investment indicates a strong belief in the potential of AI to drive workplace efficiency and productivity[5].\\n\\n## Regulatory and Ethical Considerations\\nAs AI becomes more prevalent, there is a growing need for new regulations and policies to protect workers’ rights and ensure responsible AI use. This includes ensuring that AI-driven hiring processes do not overlook unique human qualities or unconventional career paths[3].\\n\\nIn summary, the adoption of AI technologies in the job market is characterized by rapid growth in AI-related job opportunities, a shift towards more flexible and skills-based hiring, and significant investments in AI technologies. However, it also necessitates continuous learning and adaptation by workers and careful consideration of the ethical and regulatory implications.', additional_kwargs={'refusal': None}, response_metadata={'token_usage': {'completion_tokens': 662, 'prompt_tokens': 77, 'total_tokens': 739, 'completion_tokens_details': None, 'prompt_tokens_details': None}, 'model_name': 'llama-3.1-sonar-large-128k-online', 'system_fingerprint': None, 'finish_reason': 'stop', 'logprobs': None}, name='Answer Writer', id='run-103a7020-2e4f-4dc4-b4b3-4ee2536049e4-0', usage_metadata={'input_tokens': 77, 'output_tokens': 662, 'total_tokens': 739}),\n",
       "  AIMessage(content='The impact of AI on the demand for software engineering roles in the tech industry is multifaceted, involving both positive and negative effects.\\n\\n## Automation and Efficiency\\nAI is significantly automating routine and repetitive tasks in software engineering, such as code generation, code review, testing, and debugging. Tools like GitHub Copilot and other AI assistants are handling these tasks, which improves efficiency and reduces the time spent on mundane coding chores. This automation allows software engineers to focus on more complex, creative, and high-value tasks like system design, technology integration, and architectural decisions[1][3][5].\\n\\n## Job Displacement and Reskilling\\nWhile AI enhances productivity, it also poses a risk to certain software engineering roles, particularly those that involve fundamental or entry-level coding. There is a likelihood that low-level or entry-level developers who are not skilled in more complicated tasks may see their jobs displaced by AI. According to Gartner, up to 80% of software engineers may need to reskill to fit into new roles created as generative AI takes over more programming functions[5].\\n\\n## New Job Opportunities\\nDespite the potential for job displacement, AI is also creating new employment opportunities within the tech industry. Roles such as machine learning specialists, AI programmers, data analysts, and cybersecurity experts are emerging as AI becomes more integrated into software development. These new roles require a combination of technical skills, creativity, and adaptability to leverage AI effectively[1][2][4].\\n\\n## Shift in Skill Requirements\\nThe skills required for software engineers are evolving. While AI can manage routine coding tasks, human engineers need to develop skills in areas like complex problem-solving, innovation, and high-level thinking. There is an increasing need for engineers to be adaptable and continuously learn new technologies and methods to stay relevant in the field[1][3][5].\\n\\n## Enhanced Collaboration and Learning\\nAI is revolutionizing the way software engineers collaborate and learn. AI-powered tools facilitate better code reviews, simulate pair programming, and customize learning to individual needs. This enhances teamwork and the acquisition of new skills, making software engineers more effective and collaborative[1][3].\\n\\n## Economic and Productivity Impact\\nThe overall impact of AI on the tech industry is expected to be positive in terms of productivity and economic output. While there may be job displacement in certain areas, the net effect is likely to be an increase in jobs globally. For example, the World Economic Forum predicts that by 2025, AI will have displaced 75 million jobs but will have created 133 million new jobs, resulting in a net gain of 58 million jobs[2].\\n\\nIn summary, AI is transforming the demand for software engineering roles by automating routine tasks, creating new job opportunities, and requiring engineers to develop more advanced and creative skills. While there are challenges associated with job displacement and the need for reskilling, the overall trend suggests that AI will enhance the productivity and value of software engineers rather than replace them entirely.', additional_kwargs={'refusal': None}, response_metadata={'token_usage': {'completion_tokens': 594, 'prompt_tokens': 76, 'total_tokens': 670, 'completion_tokens_details': None, 'prompt_tokens_details': None}, 'model_name': 'llama-3.1-sonar-large-128k-online', 'system_fingerprint': None, 'finish_reason': 'stop', 'logprobs': None}, name='Answer Writer', id='run-580fc35d-152a-48c7-9b56-262c8c77285d-0', usage_metadata={'input_tokens': 76, 'output_tokens': 594, 'total_tokens': 670}),\n",
       "  AIMessage(content='The potential long-term effects of AI on employment across various industries are multifaceted, involving both positive and negative impacts.\\n\\n### Job Displacement and Automation\\n\\nOne of the most significant concerns is the displacement of jobs due to automation. AI and automation are expected to replace a substantial number of jobs, particularly those involving routine, repetitive, or predictable tasks. For example:\\n\\n- **Manufacturing and Warehousing**: AI-driven robots are increasingly taking over tasks such as assembly, packaging, and inventory management, which could lead to significant job displacement in these sectors[2][5].\\n- **Customer Service**: Automated systems can handle a large portion of customer inquiries and complaints, reducing the need for human customer service representatives[5].\\n- **Transportation**: Autonomous vehicle technology threatens jobs related to driving, such as truck drivers and taxi drivers[5].\\n- **Administrative Roles**: AI can automate tasks like data entry, document review, and other clerical functions, affecting jobs in administrative and clerical roles[1][5].\\n\\n### Creation of New Job Roles\\n\\nDespite the job displacement, AI is also expected to create new job opportunities across various industries. These new roles often require a combination of technical skills, creativity, and adaptability:\\n\\n- **AI and Machine Learning Specialists**: Jobs such as AI ethicists, machine learning engineers, and data analysts are emerging as AI becomes more integrated into various sectors[2][5].\\n- **Healthcare**: AI is being used to assist doctors and nurses with diagnosis and treatment recommendations, creating new roles in healthcare technology and data analysis[2].\\n- **High-Tech Manufacturing**: New job roles are emerging in high-tech manufacturing, such as operating and maintaining advanced machines and robots[2].\\n\\n### Economic Impact and Productivity\\n\\nAI is projected to have a significant positive impact on the economy by increasing productivity and driving economic growth:\\n\\n- **Global Economic Activity**: According to McKinsey, AI could deliver an additional $13 trillion in global economic activity by 2030, representing a 16% increase in cumulative GDP compared to today[1].\\n- **Increased Productivity**: AI can automate mundane tasks, freeing up workers to focus on more complex and creative work, which can lead to increased productivity and economic growth[2][4].\\n\\n### Changes in Skill Requirements\\n\\nThe integration of AI will necessitate a shift in the skills required for many jobs. Workers will need to acquire new skills to remain relevant:\\n\\n- **Technical Skills**: There will be a greater demand for skills in areas such as data analysis, machine learning, and AI development[2][5].\\n- **Soft Skills**: Skills like critical thinking, creativity, and problem-solving will become more valuable as AI takes over routine tasks[2].\\n\\n### Impact on Labour Demand and Supply\\n\\nAI will affect both the demand and supply of labour in several ways:\\n\\n- **Labour Demand**: While AI may replace some jobs, it is also expected to create new demand for labour by boosting economic growth and developing new products and services. This could lead to new job opportunities in sectors such as healthcare, education, and finance[4].\\n- **Labour Supply**: AI can improve the quality and quantity of the labour force by enhancing educational attainment, providing tailored on-the-job training, and improving health outcomes. This can lead to a more productive and economically active labour force[4].\\n\\n### Workplace Experience and Inclusivity\\n\\nAI has the potential to reshape the workplace experience, making it more engaging, inclusive, and safer:\\n\\n- **Automation of Repetitive Tasks**: AI can automate repetitive tasks, reducing the workload and improving the overall work environment[4].\\n- **Inclusivity**: AI can increase access to the workplace for differently abled groups and improve health and safety monitoring[4].\\n\\n### Challenges and Policy Considerations\\n\\nWhile AI offers many benefits, there are also challenges that need to be addressed through policy and other measures:\\n\\n- **Job Displacement and Reskilling**: There is a need for policies that support workers in reskilling and upskilling to adapt to the changing job market[2][4].\\n- **Bias and Discrimination**: There is a risk that AI could amplify existing biases in recruitment and other processes, highlighting the need for human checkpoints and evaluations to ensure fairness[4].\\n\\nIn summary, the long-term effects of AI on employment will be a mix of job displacement, the creation of new job roles, increased productivity, and changes in skill requirements. While there are challenges to be addressed, careful adoption and policy measures can help ensure that the benefits of AI are balanced with the needs of workers and society.', additional_kwargs={'refusal': None}, response_metadata={'token_usage': {'completion_tokens': 919, 'prompt_tokens': 76, 'total_tokens': 995, 'completion_tokens_details': None, 'prompt_tokens_details': None}, 'model_name': 'llama-3.1-sonar-large-128k-online', 'system_fingerprint': None, 'finish_reason': 'stop', 'logprobs': None}, name='Answer Writer', id='run-ba7a3c07-3dbd-4495-9d5b-831829f0633d-0', usage_metadata={'input_tokens': 76, 'output_tokens': 919, 'total_tokens': 995}),\n",
       "  AIMessage(content='To remain competitive in an AI-driven job market, software engineers need to adapt their skills and mindset in several key areas. Here are some detailed recommendations based on current trends and expert insights:\\n\\n## Embrace Lifelong Learning and Adaptability\\n\\nThe field of AI and software development is rapidly evolving, making continuous learning and adaptability crucial. Software engineers should commit to ongoing education, staying updated with the latest advancements in AI, machine learning, and related technologies. This includes participating in online courses, attending conferences, and engaging with AI communities and open-source projects[3][4][5].\\n\\n## Develop AI and Machine Learning Proficiency\\n\\nAcquiring skills in AI and machine learning is essential. This includes understanding neural networks, deep learning, natural language processing, and other AI techniques. Developers should also learn about data science, including data analysis, statistics, and data visualization. Proficiency in tools like TensorFlow, PyTorch, R, Hadoop, and Spark can be highly valuable[2][4][5].\\n\\n## Focus on High-Value Skills\\n\\nWhile AI can automate routine and mundane coding tasks, it is less capable of handling complex, creative, and innovative work. Software engineers should focus on developing skills that are harder to automate, such as system design, technology integration, and solving intricate problems. Emphasizing high-value skills like critical thinking, problem-solving, and contextual understanding will make them more indispensable[1][3][5].\\n\\n## Interdisciplinary Collaboration\\n\\nEffective collaboration with data scientists, domain experts, and other stakeholders is vital. Software engineers need to develop strong communication and teamwork skills to work seamlessly in interdisciplinary teams. This collaboration can lead to cross-disciplinary innovation and knowledge sharing, which are essential in the AI era[3][4].\\n\\n## Business Acumen and Contextual Understanding\\n\\nUnderstanding the business side of projects and being able to make informed decisions based on business needs is critical. Software engineers should develop the ability to gather requirements, understand business contexts, and create software solutions that align with specific needs. This involves a deep understanding of the impact of uncertainty on decision-making and the ability to adapt software systems accordingly[3][4].\\n\\n## Automation and Efficiency\\n\\nSoftware engineers should learn to leverage AI tools to automate repetitive and mundane tasks such as code generation, code refactoring, bug detection, and DevOps processes. This allows them to focus more on complex and creative aspects of software development, enhancing productivity and efficiency[1][4][5].\\n\\n## Expert-Generalist Approach\\n\\nGiven the rapid evolution of AI, it is impractical for software engineers to master every AI-related skill. Instead, they should aim to be expert-generalists, having a broad knowledge base that allows them to acquire deep expertise in specific areas as needed. This approach makes it easier to adapt to new technologies and market demands[2][4].\\n\\n## Ethical, Social, and Business Implications\\n\\nUnderstanding the ethical, social, and business implications of AI is crucial. Software engineers should consider the broader impact of AI on society and business, ensuring that their solutions are not only technically sound but also ethically and socially responsible[3].\\n\\nBy focusing on these areas, software engineers can not only remain competitive but also thrive in an AI-driven job market. The key is to see AI as a tool that enhances their work rather than a threat, and to continuously adapt and evolve their skills to meet the changing demands of the industry.', additional_kwargs={'refusal': None}, response_metadata={'token_usage': {'completion_tokens': 680, 'prompt_tokens': 78, 'total_tokens': 758, 'completion_tokens_details': None, 'prompt_tokens_details': None}, 'model_name': 'llama-3.1-sonar-large-128k-online', 'system_fingerprint': None, 'finish_reason': 'stop', 'logprobs': None}, name='Answer Writer', id='run-29a45f67-41d4-4317-80af-a13483d5c649-0', usage_metadata={'input_tokens': 78, 'output_tokens': 680, 'total_tokens': 758}),\n",
       "  AIMessage(content='The impact of AI on the job market raises several significant ethical considerations, which can be categorized into various key areas:\\n\\n## Job Displacement and Economic Inequality\\n\\nOne of the most pressing ethical concerns is the potential for AI to displace human workers, particularly in sectors where tasks are routine or repetitive. This displacement can lead to financial hardship, reduced self-esteem, and a diminished sense of purpose for the affected workers[2][4][5].\\n\\n- **Economic Inequality**: The automation of jobs can exacerbate economic inequality as the wealth generated by increased productivity is often concentrated in the hands of those who own or control AI technologies. This can lead to a widening wealth gap and a polarization of the labor market, with high-paying jobs requiring advanced technical skills and low-paying, non-automatable jobs on the other end, leaving a shrinking middle class[2].\\n\\n## Corporate Ethical Responsibilities\\n\\nCompanies deploying AI technologies have ethical responsibilities to consider the broader impact of job displacement.\\n\\n- **Corporate Accountability**: Decisions made solely based on profitability can harm workers and communities. Companies should ensure that the benefits of AI-driven productivity gains are fairly distributed and contribute to retraining and supporting displaced workers[2].\\n- **Fair Distribution of Benefits**: There is an ethical imperative to ensure that the benefits of AI are shared equitably. This includes investing in programs that help workers transition to new roles and providing support for those who lose their jobs due to automation[2].\\n\\n## Bias and Fairness in AI Systems\\n\\nAI systems can perpetuate biases present in the data they are trained on, which can lead to unfair treatment of certain groups of workers.\\n\\n- **Bias in Recruitment and Decision-Making**: AI systems used in recruitment or decision-making processes can be trained on biased data, leading to the unfair prioritization of certain candidates over others. Ensuring diverse participation in data collection and decision-making, along with regular reviews of AI systems, is crucial to mitigate these biases[3][4].\\n\\n## Privacy Concerns\\n\\nThe use of AI in the workplace also raises significant privacy concerns.\\n\\n- **Data Protection**: AI systems can collect, store, and analyze vast amounts of personal and professional information. Ensuring that this data is properly protected to avoid privacy violations, unauthorized access, and misuse is essential. Transparent data tactics and robust cybersecurity measures are necessary to address these concerns[3].\\n\\n## Human Connection and Creativity\\n\\nThe integration of AI into the workforce must be balanced with the need to protect human connection and creativity.\\n\\n- **Human-Centered AI Design**: AI systems should be designed with a human-centered approach, focusing on augmenting human capabilities rather than replacing human labor. This ensures that AI enhances human potential rather than rendering it obsolete[1][2][5].\\n- **Protecting Creativity**: The use of generative AI tools, for example, must be managed to ensure they enhance creativity rather than stifle it. Leaving space for human creativity to flourish is crucial as we continue to engage with AI tools[1].\\n\\n## Regulatory Frameworks\\n\\nEstablishing robust legal and regulatory frameworks is essential to govern the ethical use of AI.\\n\\n- **Regulatory Guidelines**: Clear guidelines should be set to address issues such as data privacy, algorithmic transparency, and accountability. This ensures that AI technologies are developed and deployed responsibly, minimizing potential harms[2].\\n- **Public Support for Regulation**: There is significant public backing for the regulation of AI, with many advocating for government rules to protect workers’ jobs and ensure ethical use of AI technologies[1].\\n\\n## Mitigating Adverse Effects\\n\\nTo mitigate the adverse effects of AI-induced job displacement, several strategies can be employed:\\n\\n- **Reskilling and Retraining**: Encouraging the development of new skills and retraining programs can help workers transition to new roles created by AI advancements[2][4].\\n- **Creating New Job Opportunities**: AI can also create new job opportunities in fields such as AI ethics, data science, and AI maintenance. Fostering innovation and entrepreneurship in these areas can help offset job losses in other sectors[2][4].\\n\\nIn summary, the ethical considerations of AI replacing human jobs involve addressing job displacement, economic inequality, bias in AI systems, privacy concerns, the protection of human connection and creativity, and the establishment of robust regulatory frameworks. By prioritizing these ethical concerns and implementing human-centered approaches, we can ensure that AI is used as a tool for human progress rather than a threat to human well-being.', additional_kwargs={'refusal': None}, response_metadata={'token_usage': {'completion_tokens': 894, 'prompt_tokens': 75, 'total_tokens': 969, 'completion_tokens_details': None, 'prompt_tokens_details': None}, 'model_name': 'llama-3.1-sonar-large-128k-online', 'system_fingerprint': None, 'finish_reason': 'stop', 'logprobs': None}, name='Answer Writer', id='run-bcc035db-742f-4e7d-9c2d-7b7a69d68105-0', usage_metadata={'input_tokens': 75, 'output_tokens': 894, 'total_tokens': 969})],\n",
       " 'questions': ['What are the current trends in the adoption of AI technologies in the job market?',\n",
       "  'How is AI impacting the demand for software engineering roles in the tech industry?',\n",
       "  'What are the potential long-term effects of AI on employment across various industries?',\n",
       "  'How can software engineers adapt their skills to remain competitive in an AI-driven job market?',\n",
       "  'What are the ethical considerations of AI replacing human jobs in the workforce?'],\n",
       " 'questions_with_answers': [{'question': 'What are the current trends in the adoption of AI technologies in the job market?',\n",
       "   'answer': 'The current trends in the adoption of AI technologies in the job market are multifaceted and reflect both the opportunities and challenges associated with this technological shift.\\n\\n## Job Creation and Displacement\\nAI and related technologies are expected to create new job opportunities while also displacing some existing roles. According to the World Economic Forum’s Future of Jobs Report 2025, AI and data processing alone are forecast to create 11 million new roles but also replace 9 million jobs by 2030. Additionally, robots and automation are predicted to displace 5 million more jobs than they create[1].\\n\\n## Growing Demand for AI-Related Jobs\\nThere is a significant increase in demand for jobs related to AI, machine learning, and data science. The fastest-growing jobs include big data specialists, fintech engineers, and AI and machine learning specialists. These roles are expected to transform businesses, with 86% of surveyed executives anticipating AI and information processing technologies to impact their businesses by 2030[1].\\n\\n## Sector-Specific Trends\\nAI-related job postings are on the rise, particularly within the software development sector. Despite a decline in overall tech job postings, the share of AI-related jobs within software development has increased, with almost a quarter of these jobs now involving AI[2].\\n\\n## Skills and Training\\nThe integration of AI is driving a need for continuous learning, upskilling, and reskilling. Technological skills are projected to grow in importance more rapidly than any other skills over the next five years, with 39% of workers’ key skills expected to change by 2030[1].\\n\\n## Geographic and Remote Work Implications\\nAI could enable more remote work opportunities, allowing workers to access a global job market. However, it might also concentrate high-level jobs in tech hubs, potentially limiting local job opportunities[3].\\n\\n## Adoption in Various Sectors\\nWhile AI adoption is more pronounced in tech-heavy sectors such as mathematics and software development, it is still relatively minor in other areas like accounting, sales, and less tech-centered roles. However, there is a growing trend towards incorporating AI skills in these sectors as well[4].\\n\\n## Employer Strategies and Worker Demand\\nEmployers are adopting more flexible hiring approaches, including skills-based hiring and offering remote or hybrid work options, which are in high demand by workers. This flexibility is driven by worker preferences and the need for employers to attract talent in a competitive labor market[4].\\n\\n## Funding and Investment\\nAI companies continue to receive significant funding, with 41% of US venture capital deal value going to AI companies in the first half of 2024. This investment indicates a strong belief in the potential of AI to drive workplace efficiency and productivity[5].\\n\\n## Regulatory and Ethical Considerations\\nAs AI becomes more prevalent, there is a growing need for new regulations and policies to protect workers’ rights and ensure responsible AI use. This includes ensuring that AI-driven hiring processes do not overlook unique human qualities or unconventional career paths[3].\\n\\nIn summary, the adoption of AI technologies in the job market is characterized by rapid growth in AI-related job opportunities, a shift towards more flexible and skills-based hiring, and significant investments in AI technologies. However, it also necessitates continuous learning and adaptation by workers and careful consideration of the ethical and regulatory implications.'},\n",
       "  {'question': 'How is AI impacting the demand for software engineering roles in the tech industry?',\n",
       "   'answer': 'The impact of AI on the demand for software engineering roles in the tech industry is multifaceted, involving both positive and negative effects.\\n\\n## Automation and Efficiency\\nAI is significantly automating routine and repetitive tasks in software engineering, such as code generation, code review, testing, and debugging. Tools like GitHub Copilot and other AI assistants are handling these tasks, which improves efficiency and reduces the time spent on mundane coding chores. This automation allows software engineers to focus on more complex, creative, and high-value tasks like system design, technology integration, and architectural decisions[1][3][5].\\n\\n## Job Displacement and Reskilling\\nWhile AI enhances productivity, it also poses a risk to certain software engineering roles, particularly those that involve fundamental or entry-level coding. There is a likelihood that low-level or entry-level developers who are not skilled in more complicated tasks may see their jobs displaced by AI. According to Gartner, up to 80% of software engineers may need to reskill to fit into new roles created as generative AI takes over more programming functions[5].\\n\\n## New Job Opportunities\\nDespite the potential for job displacement, AI is also creating new employment opportunities within the tech industry. Roles such as machine learning specialists, AI programmers, data analysts, and cybersecurity experts are emerging as AI becomes more integrated into software development. These new roles require a combination of technical skills, creativity, and adaptability to leverage AI effectively[1][2][4].\\n\\n## Shift in Skill Requirements\\nThe skills required for software engineers are evolving. While AI can manage routine coding tasks, human engineers need to develop skills in areas like complex problem-solving, innovation, and high-level thinking. There is an increasing need for engineers to be adaptable and continuously learn new technologies and methods to stay relevant in the field[1][3][5].\\n\\n## Enhanced Collaboration and Learning\\nAI is revolutionizing the way software engineers collaborate and learn. AI-powered tools facilitate better code reviews, simulate pair programming, and customize learning to individual needs. This enhances teamwork and the acquisition of new skills, making software engineers more effective and collaborative[1][3].\\n\\n## Economic and Productivity Impact\\nThe overall impact of AI on the tech industry is expected to be positive in terms of productivity and economic output. While there may be job displacement in certain areas, the net effect is likely to be an increase in jobs globally. For example, the World Economic Forum predicts that by 2025, AI will have displaced 75 million jobs but will have created 133 million new jobs, resulting in a net gain of 58 million jobs[2].\\n\\nIn summary, AI is transforming the demand for software engineering roles by automating routine tasks, creating new job opportunities, and requiring engineers to develop more advanced and creative skills. While there are challenges associated with job displacement and the need for reskilling, the overall trend suggests that AI will enhance the productivity and value of software engineers rather than replace them entirely.'},\n",
       "  {'question': 'What are the potential long-term effects of AI on employment across various industries?',\n",
       "   'answer': 'The potential long-term effects of AI on employment across various industries are multifaceted, involving both positive and negative impacts.\\n\\n### Job Displacement and Automation\\n\\nOne of the most significant concerns is the displacement of jobs due to automation. AI and automation are expected to replace a substantial number of jobs, particularly those involving routine, repetitive, or predictable tasks. For example:\\n\\n- **Manufacturing and Warehousing**: AI-driven robots are increasingly taking over tasks such as assembly, packaging, and inventory management, which could lead to significant job displacement in these sectors[2][5].\\n- **Customer Service**: Automated systems can handle a large portion of customer inquiries and complaints, reducing the need for human customer service representatives[5].\\n- **Transportation**: Autonomous vehicle technology threatens jobs related to driving, such as truck drivers and taxi drivers[5].\\n- **Administrative Roles**: AI can automate tasks like data entry, document review, and other clerical functions, affecting jobs in administrative and clerical roles[1][5].\\n\\n### Creation of New Job Roles\\n\\nDespite the job displacement, AI is also expected to create new job opportunities across various industries. These new roles often require a combination of technical skills, creativity, and adaptability:\\n\\n- **AI and Machine Learning Specialists**: Jobs such as AI ethicists, machine learning engineers, and data analysts are emerging as AI becomes more integrated into various sectors[2][5].\\n- **Healthcare**: AI is being used to assist doctors and nurses with diagnosis and treatment recommendations, creating new roles in healthcare technology and data analysis[2].\\n- **High-Tech Manufacturing**: New job roles are emerging in high-tech manufacturing, such as operating and maintaining advanced machines and robots[2].\\n\\n### Economic Impact and Productivity\\n\\nAI is projected to have a significant positive impact on the economy by increasing productivity and driving economic growth:\\n\\n- **Global Economic Activity**: According to McKinsey, AI could deliver an additional $13 trillion in global economic activity by 2030, representing a 16% increase in cumulative GDP compared to today[1].\\n- **Increased Productivity**: AI can automate mundane tasks, freeing up workers to focus on more complex and creative work, which can lead to increased productivity and economic growth[2][4].\\n\\n### Changes in Skill Requirements\\n\\nThe integration of AI will necessitate a shift in the skills required for many jobs. Workers will need to acquire new skills to remain relevant:\\n\\n- **Technical Skills**: There will be a greater demand for skills in areas such as data analysis, machine learning, and AI development[2][5].\\n- **Soft Skills**: Skills like critical thinking, creativity, and problem-solving will become more valuable as AI takes over routine tasks[2].\\n\\n### Impact on Labour Demand and Supply\\n\\nAI will affect both the demand and supply of labour in several ways:\\n\\n- **Labour Demand**: While AI may replace some jobs, it is also expected to create new demand for labour by boosting economic growth and developing new products and services. This could lead to new job opportunities in sectors such as healthcare, education, and finance[4].\\n- **Labour Supply**: AI can improve the quality and quantity of the labour force by enhancing educational attainment, providing tailored on-the-job training, and improving health outcomes. This can lead to a more productive and economically active labour force[4].\\n\\n### Workplace Experience and Inclusivity\\n\\nAI has the potential to reshape the workplace experience, making it more engaging, inclusive, and safer:\\n\\n- **Automation of Repetitive Tasks**: AI can automate repetitive tasks, reducing the workload and improving the overall work environment[4].\\n- **Inclusivity**: AI can increase access to the workplace for differently abled groups and improve health and safety monitoring[4].\\n\\n### Challenges and Policy Considerations\\n\\nWhile AI offers many benefits, there are also challenges that need to be addressed through policy and other measures:\\n\\n- **Job Displacement and Reskilling**: There is a need for policies that support workers in reskilling and upskilling to adapt to the changing job market[2][4].\\n- **Bias and Discrimination**: There is a risk that AI could amplify existing biases in recruitment and other processes, highlighting the need for human checkpoints and evaluations to ensure fairness[4].\\n\\nIn summary, the long-term effects of AI on employment will be a mix of job displacement, the creation of new job roles, increased productivity, and changes in skill requirements. While there are challenges to be addressed, careful adoption and policy measures can help ensure that the benefits of AI are balanced with the needs of workers and society.'},\n",
       "  {'question': 'How can software engineers adapt their skills to remain competitive in an AI-driven job market?',\n",
       "   'answer': 'To remain competitive in an AI-driven job market, software engineers need to adapt their skills and mindset in several key areas. Here are some detailed recommendations based on current trends and expert insights:\\n\\n## Embrace Lifelong Learning and Adaptability\\n\\nThe field of AI and software development is rapidly evolving, making continuous learning and adaptability crucial. Software engineers should commit to ongoing education, staying updated with the latest advancements in AI, machine learning, and related technologies. This includes participating in online courses, attending conferences, and engaging with AI communities and open-source projects[3][4][5].\\n\\n## Develop AI and Machine Learning Proficiency\\n\\nAcquiring skills in AI and machine learning is essential. This includes understanding neural networks, deep learning, natural language processing, and other AI techniques. Developers should also learn about data science, including data analysis, statistics, and data visualization. Proficiency in tools like TensorFlow, PyTorch, R, Hadoop, and Spark can be highly valuable[2][4][5].\\n\\n## Focus on High-Value Skills\\n\\nWhile AI can automate routine and mundane coding tasks, it is less capable of handling complex, creative, and innovative work. Software engineers should focus on developing skills that are harder to automate, such as system design, technology integration, and solving intricate problems. Emphasizing high-value skills like critical thinking, problem-solving, and contextual understanding will make them more indispensable[1][3][5].\\n\\n## Interdisciplinary Collaboration\\n\\nEffective collaboration with data scientists, domain experts, and other stakeholders is vital. Software engineers need to develop strong communication and teamwork skills to work seamlessly in interdisciplinary teams. This collaboration can lead to cross-disciplinary innovation and knowledge sharing, which are essential in the AI era[3][4].\\n\\n## Business Acumen and Contextual Understanding\\n\\nUnderstanding the business side of projects and being able to make informed decisions based on business needs is critical. Software engineers should develop the ability to gather requirements, understand business contexts, and create software solutions that align with specific needs. This involves a deep understanding of the impact of uncertainty on decision-making and the ability to adapt software systems accordingly[3][4].\\n\\n## Automation and Efficiency\\n\\nSoftware engineers should learn to leverage AI tools to automate repetitive and mundane tasks such as code generation, code refactoring, bug detection, and DevOps processes. This allows them to focus more on complex and creative aspects of software development, enhancing productivity and efficiency[1][4][5].\\n\\n## Expert-Generalist Approach\\n\\nGiven the rapid evolution of AI, it is impractical for software engineers to master every AI-related skill. Instead, they should aim to be expert-generalists, having a broad knowledge base that allows them to acquire deep expertise in specific areas as needed. This approach makes it easier to adapt to new technologies and market demands[2][4].\\n\\n## Ethical, Social, and Business Implications\\n\\nUnderstanding the ethical, social, and business implications of AI is crucial. Software engineers should consider the broader impact of AI on society and business, ensuring that their solutions are not only technically sound but also ethically and socially responsible[3].\\n\\nBy focusing on these areas, software engineers can not only remain competitive but also thrive in an AI-driven job market. The key is to see AI as a tool that enhances their work rather than a threat, and to continuously adapt and evolve their skills to meet the changing demands of the industry.'},\n",
       "  {'question': 'What are the ethical considerations of AI replacing human jobs in the workforce?',\n",
       "   'answer': 'The impact of AI on the job market raises several significant ethical considerations, which can be categorized into various key areas:\\n\\n## Job Displacement and Economic Inequality\\n\\nOne of the most pressing ethical concerns is the potential for AI to displace human workers, particularly in sectors where tasks are routine or repetitive. This displacement can lead to financial hardship, reduced self-esteem, and a diminished sense of purpose for the affected workers[2][4][5].\\n\\n- **Economic Inequality**: The automation of jobs can exacerbate economic inequality as the wealth generated by increased productivity is often concentrated in the hands of those who own or control AI technologies. This can lead to a widening wealth gap and a polarization of the labor market, with high-paying jobs requiring advanced technical skills and low-paying, non-automatable jobs on the other end, leaving a shrinking middle class[2].\\n\\n## Corporate Ethical Responsibilities\\n\\nCompanies deploying AI technologies have ethical responsibilities to consider the broader impact of job displacement.\\n\\n- **Corporate Accountability**: Decisions made solely based on profitability can harm workers and communities. Companies should ensure that the benefits of AI-driven productivity gains are fairly distributed and contribute to retraining and supporting displaced workers[2].\\n- **Fair Distribution of Benefits**: There is an ethical imperative to ensure that the benefits of AI are shared equitably. This includes investing in programs that help workers transition to new roles and providing support for those who lose their jobs due to automation[2].\\n\\n## Bias and Fairness in AI Systems\\n\\nAI systems can perpetuate biases present in the data they are trained on, which can lead to unfair treatment of certain groups of workers.\\n\\n- **Bias in Recruitment and Decision-Making**: AI systems used in recruitment or decision-making processes can be trained on biased data, leading to the unfair prioritization of certain candidates over others. Ensuring diverse participation in data collection and decision-making, along with regular reviews of AI systems, is crucial to mitigate these biases[3][4].\\n\\n## Privacy Concerns\\n\\nThe use of AI in the workplace also raises significant privacy concerns.\\n\\n- **Data Protection**: AI systems can collect, store, and analyze vast amounts of personal and professional information. Ensuring that this data is properly protected to avoid privacy violations, unauthorized access, and misuse is essential. Transparent data tactics and robust cybersecurity measures are necessary to address these concerns[3].\\n\\n## Human Connection and Creativity\\n\\nThe integration of AI into the workforce must be balanced with the need to protect human connection and creativity.\\n\\n- **Human-Centered AI Design**: AI systems should be designed with a human-centered approach, focusing on augmenting human capabilities rather than replacing human labor. This ensures that AI enhances human potential rather than rendering it obsolete[1][2][5].\\n- **Protecting Creativity**: The use of generative AI tools, for example, must be managed to ensure they enhance creativity rather than stifle it. Leaving space for human creativity to flourish is crucial as we continue to engage with AI tools[1].\\n\\n## Regulatory Frameworks\\n\\nEstablishing robust legal and regulatory frameworks is essential to govern the ethical use of AI.\\n\\n- **Regulatory Guidelines**: Clear guidelines should be set to address issues such as data privacy, algorithmic transparency, and accountability. This ensures that AI technologies are developed and deployed responsibly, minimizing potential harms[2].\\n- **Public Support for Regulation**: There is significant public backing for the regulation of AI, with many advocating for government rules to protect workers’ jobs and ensure ethical use of AI technologies[1].\\n\\n## Mitigating Adverse Effects\\n\\nTo mitigate the adverse effects of AI-induced job displacement, several strategies can be employed:\\n\\n- **Reskilling and Retraining**: Encouraging the development of new skills and retraining programs can help workers transition to new roles created by AI advancements[2][4].\\n- **Creating New Job Opportunities**: AI can also create new job opportunities in fields such as AI ethics, data science, and AI maintenance. Fostering innovation and entrepreneurship in these areas can help offset job losses in other sectors[2][4].\\n\\nIn summary, the ethical considerations of AI replacing human jobs involve addressing job displacement, economic inequality, bias in AI systems, privacy concerns, the protection of human connection and creativity, and the establishment of robust regulatory frameworks. By prioritizing these ethical concerns and implementing human-centered approaches, we can ensure that AI is used as a tool for human progress rather than a threat to human well-being.'}]}"
      ]
     },
     "execution_count": 107,
     "metadata": {},
     "output_type": "execute_result"
    }
   ],
   "source": [
    "test"
   ]
  },
  {
   "cell_type": "code",
   "execution_count": null,
   "metadata": {},
   "outputs": [],
   "source": []
  }
 ],
 "metadata": {
  "kernelspec": {
   "display_name": "venv",
   "language": "python",
   "name": "python3"
  },
  "language_info": {
   "codemirror_mode": {
    "name": "ipython",
    "version": 3
   },
   "file_extension": ".py",
   "mimetype": "text/x-python",
   "name": "python",
   "nbconvert_exporter": "python",
   "pygments_lexer": "ipython3",
   "version": "3.13.1"
  }
 },
 "nbformat": 4,
 "nbformat_minor": 2
}
