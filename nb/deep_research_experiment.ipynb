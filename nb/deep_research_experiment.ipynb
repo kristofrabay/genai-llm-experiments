{
 "cells": [
  {
   "cell_type": "markdown",
   "metadata": {},
   "source": [
    "## Deep Research Experiment with `LangGraph`\n",
    "\n",
    "This notebook aims to test multi-round research with back-and-forth between an OpenAI LLM and Perplexity. Orchestrated with `LangGraph`.\n",
    "\n"
   ]
  },
  {
   "cell_type": "code",
   "execution_count": 101,
   "metadata": {},
   "outputs": [],
   "source": [
    "import os\n",
    "\n",
    "from dotenv import load_dotenv\n",
    "load_dotenv()\n",
    "\n",
    "from IPython.display import display, Markdown, Image\n",
    "from langchain_core.messages import BaseMessage, SystemMessage, AIMessage\n",
    "from langchain_openai import ChatOpenAI\n",
    "from langgraph.graph import START, END, StateGraph\n",
    "from langgraph.constants import Send\n",
    "from langgraph.graph.state import CompiledStateGraph\n",
    "from langgraph.graph.message import add_messages\n",
    "import operator\n",
    "\n",
    "from pydantic import BaseModel, Field\n",
    "from typing import Annotated, Sequence, TypedDict, List, Dict"
   ]
  },
  {
   "cell_type": "markdown",
   "metadata": {},
   "source": [
    "### Prompts"
   ]
  },
  {
   "cell_type": "code",
   "execution_count": 109,
   "metadata": {},
   "outputs": [],
   "source": [
    "system_message_content = \"\"\"You are a helpful assistant that can help with research.\"\"\"\n",
    "system_message = SystemMessage(content=system_message_content)\n",
    "\n",
    "### research question writer\n",
    "\n",
    "user_message_template = \"\"\"\n",
    "A user requires help with their research question. They have provided a topic they are interested in and the reason for their interest. Additionally, they have provided some background on themselves to help you understand their perspective.\n",
    "\n",
    "<topic>\n",
    "{topic}\n",
    "</topic>\n",
    "\n",
    "<reason>\n",
    "{reason}\n",
    "</reason>\n",
    "\n",
    "<background>\n",
    "{background}\n",
    "</background>\n",
    "\n",
    "\n",
    "Your task is to write research questions that can be submitted to Perplexity or Google Scholar for further research. Return a list of research questions.\n",
    "\"\"\"\n",
    "\n",
    "### answer writer prompt\n",
    "\n",
    "answer_writer_template = \"\"\"\n",
    "You are assisting a user with their research. The topic is:\n",
    "\n",
    "<topic>\n",
    "{topic}\n",
    "</topic>\n",
    "\n",
    "The question you need to answer is:\n",
    "<question>\n",
    "{question}\n",
    "</question>\n",
    "\n",
    "Provide a detailed answer to the question.\n",
    "\"\"\"\n",
    "\n",
    "### further research validator\n",
    "\n",
    "further_research_validator_template = \"\"\"\n",
    "You are assisting a user with their research. The user has provided a research topic, for which questions have been already generated and answered. You will be provided with this list of questions and answers. Your task is to decide if, given the user's background and reason for interest, the answers are sufficient to carry out the research.\n",
    "\n",
    "<topic>\n",
    "{topic}\n",
    "</topic>\n",
    "\n",
    "<reason>\n",
    "{reason}\n",
    "</reason>\n",
    "\n",
    "<background>\n",
    "{background}\n",
    "</background>\n",
    "\n",
    "<questions and answers>\n",
    "{questions_with_answers}\n",
    "</questions and answers>\n",
    "\n",
    "Return with the decision if further questions are needed, and if so, generate the next round of questions.\n",
    "\"\"\"\n"
   ]
  },
  {
   "cell_type": "code",
   "execution_count": null,
   "metadata": {},
   "outputs": [],
   "source": []
  },
  {
   "cell_type": "markdown",
   "metadata": {},
   "source": [
    "### Structured Outputs"
   ]
  },
  {
   "cell_type": "code",
   "execution_count": 110,
   "metadata": {},
   "outputs": [],
   "source": [
    "class ResearchQuestion(BaseModel):\n",
    "    question: str = Field(description=\"A research question that can be submitted to Perplexity or Google Scholar for further research.\")\n",
    "\n",
    "class ResearchQuestions(BaseModel):\n",
    "    questions: List[ResearchQuestion] = Field(description=\"A list of research questions that can be submitted to Perplexity or Google Scholar for further research.\")\n",
    "\n",
    "class FurtherResearchValidator(BaseModel):\n",
    "    decision: bool = Field(description=\"A decision if further questions are needed (True) or not (False).\")\n",
    "    questions: List[ResearchQuestion] = Field(description=\"A list of research questions that can be submitted to Perplexity or Google Scholar for further research.\")\n"
   ]
  },
  {
   "cell_type": "code",
   "execution_count": null,
   "metadata": {},
   "outputs": [],
   "source": []
  },
  {
   "cell_type": "markdown",
   "metadata": {},
   "source": [
    "### LLMs"
   ]
  },
  {
   "cell_type": "code",
   "execution_count": 125,
   "metadata": {},
   "outputs": [],
   "source": [
    "question_writer_model = \"gpt-4o-2024-11-20\"\n",
    "further_research_validator_model = \"gpt-4o-2024-11-20\"\n",
    "\n",
    "question_writer_llm = ChatOpenAI(\n",
    "    model=question_writer_model, \n",
    "    temperature=0.0\n",
    "    )\n",
    "question_writer_llm = question_writer_llm.with_structured_output(ResearchQuestions, method=\"json_schema\", include_raw=True)\n",
    "\n",
    "answer_writer_model = \"llama-3.1-sonar-large-128k-online\"\n",
    "answer_writer_llm = ChatOpenAI(\n",
    "    model=answer_writer_model, \n",
    "    temperature=0.0, \n",
    "    base_url=\"https://api.perplexity.ai\", \n",
    "    api_key=os.getenv('PPLX_API_KEY')\n",
    "    )\n",
    "\n",
    "further_research_validator_llm = ChatOpenAI(\n",
    "    model=further_research_validator_model, \n",
    "    temperature=0.0\n",
    "    )\n",
    "further_research_validator_llm = further_research_validator_llm.with_structured_output(FurtherResearchValidator, method=\"json_schema\", include_raw=True)"
   ]
  },
  {
   "cell_type": "markdown",
   "metadata": {},
   "source": [
    "Test question writer"
   ]
  },
  {
   "cell_type": "code",
   "execution_count": 111,
   "metadata": {},
   "outputs": [],
   "source": [
    "topic = \"The impact of AI on the job market\"\n",
    "reason = \"I am interested in the impact of AI on the job market because I am a software engineer and I want to understand how AI is changing the job market.\"\n",
    "background = \"I am a software engineer and I have been working in the tech industry for 10 years.\"\n",
    "\n",
    "user_message = user_message_template.format(topic=topic, reason=reason, background=background)\n",
    "\n",
    "test_response = question_writer_llm.invoke([system_message] + [user_message])"
   ]
  },
  {
   "cell_type": "code",
   "execution_count": 114,
   "metadata": {},
   "outputs": [
    {
     "data": {
      "text/plain": [
       "[ResearchQuestion(question='What are the current trends in the adoption of AI technologies in the job market?'),\n",
       " ResearchQuestion(question='How is AI impacting the demand for software engineering roles in the tech industry?'),\n",
       " ResearchQuestion(question='What are the potential long-term effects of AI on employment across various industries?'),\n",
       " ResearchQuestion(question='How can software engineers adapt their skills to remain competitive in an AI-driven job market?'),\n",
       " ResearchQuestion(question='What are the ethical considerations of AI replacing human jobs in the workforce?')]"
      ]
     },
     "execution_count": 114,
     "metadata": {},
     "output_type": "execute_result"
    }
   ],
   "source": [
    "test_response['parsed'].questions"
   ]
  },
  {
   "cell_type": "code",
   "execution_count": null,
   "metadata": {},
   "outputs": [],
   "source": []
  },
  {
   "cell_type": "markdown",
   "metadata": {},
   "source": [
    "Test answer writer"
   ]
  },
  {
   "cell_type": "code",
   "execution_count": 119,
   "metadata": {},
   "outputs": [],
   "source": [
    "answer_writer_prompt = answer_writer_template.format(topic=topic, question=test_response['parsed'].questions[0].question)\n",
    "test_answer = answer_writer_llm.invoke([system_message] + [answer_writer_prompt])"
   ]
  },
  {
   "cell_type": "code",
   "execution_count": 120,
   "metadata": {},
   "outputs": [
    {
     "name": "stdout",
     "output_type": "stream",
     "text": [
      "The adoption of AI technologies in the job market is undergoing significant transformations, driven by several key trends and forecasts. Here are some of the current and anticipated developments:\n",
      "\n",
      "## Rapid Growth in AI-Related Jobs\n",
      "\n",
      "AI is creating a substantial number of new job opportunities across various sectors. According to the World Economic Forum’s Future of Jobs Report 2025, AI and data processing alone are expected to create 11 million new roles by 2030, although they will also replace 9 million jobs[1].\n",
      "\n",
      "Machine Learning Engineers, AI and machine learning specialists, and big data specialists are among the fastest-growing job titles. These roles are in high demand as companies integrate AI technologies to drive digital transformat\n"
     ]
    }
   ],
   "source": [
    "print(test_answer.content[:750])"
   ]
  },
  {
   "cell_type": "code",
   "execution_count": null,
   "metadata": {},
   "outputs": [],
   "source": []
  },
  {
   "cell_type": "markdown",
   "metadata": {},
   "source": [
    "Test further research validator"
   ]
  },
  {
   "cell_type": "code",
   "execution_count": 126,
   "metadata": {},
   "outputs": [],
   "source": [
    "further_research_validator_prompt = further_research_validator_template.format(\n",
    "    topic=topic, \n",
    "    reason=reason, \n",
    "    background=background, \n",
    "    questions_with_answers=test_response['raw'].content\n",
    "    )\n",
    "test_further_research_validator = further_research_validator_llm.invoke([system_message] + [further_research_validator_prompt])"
   ]
  },
  {
   "cell_type": "code",
   "execution_count": 129,
   "metadata": {},
   "outputs": [
    {
     "data": {
      "text/plain": [
       "True"
      ]
     },
     "execution_count": 129,
     "metadata": {},
     "output_type": "execute_result"
    }
   ],
   "source": [
    "test_further_research_validator['parsed'].decision"
   ]
  },
  {
   "cell_type": "code",
   "execution_count": 130,
   "metadata": {},
   "outputs": [
    {
     "data": {
      "text/plain": [
       "[ResearchQuestion(question='What specific AI technologies are most influential in shaping the job market currently?'),\n",
       " ResearchQuestion(question='Are there any case studies or examples of industries where AI has significantly altered the job landscape?'),\n",
       " ResearchQuestion(question='What are the educational or training resources available for software engineers to learn AI-related skills?'),\n",
       " ResearchQuestion(question='How do different regions or countries vary in their adoption of AI and its impact on their job markets?'),\n",
       " ResearchQuestion(question='What are the predictions for the job market in the next 5-10 years considering the advancements in AI?')]"
      ]
     },
     "execution_count": 130,
     "metadata": {},
     "output_type": "execute_result"
    }
   ],
   "source": [
    "test_further_research_validator['parsed'].questions"
   ]
  },
  {
   "cell_type": "code",
   "execution_count": null,
   "metadata": {},
   "outputs": [],
   "source": []
  },
  {
   "cell_type": "markdown",
   "metadata": {},
   "source": [
    "### Build the graph"
   ]
  },
  {
   "cell_type": "code",
   "execution_count": 157,
   "metadata": {},
   "outputs": [],
   "source": [
    "class AgentState(TypedDict):\n",
    "\n",
    "    topic: str\n",
    "    reason: str\n",
    "    background: str\n",
    "\n",
    "    messages: Annotated[Sequence[BaseMessage], add_messages]\n",
    "\n",
    "    questions: List[str]\n",
    "    question: str\n",
    "    questions_with_answers: Annotated[List[Dict[str, str]], operator.add]\n",
    "\n",
    "    further_research_rounds: int = 3\n",
    "    further_research_needed: bool = False\n"
   ]
  },
  {
   "cell_type": "code",
   "execution_count": 158,
   "metadata": {},
   "outputs": [],
   "source": [
    "def write_questions(state: AgentState) -> AgentState:\n",
    "\n",
    "    user_message = user_message_template.format(\n",
    "        topic=state['topic'], \n",
    "        reason=state['reason'], \n",
    "        background=state['background']\n",
    "        )\n",
    "    \n",
    "    response = question_writer_llm.invoke([system_message] + [user_message])\n",
    "\n",
    "    response_parsed = response[\"parsed\"]\n",
    "    response_raw = response[\"raw\"]\n",
    "    response_raw.name = 'Question Writer'\n",
    "    \n",
    "    questions = [question.question for question in response_parsed.questions]\n",
    "    \n",
    "    return {\n",
    "        'questions': questions,\n",
    "        'messages': [system_message] + [user_message] + [response_raw]\n",
    "        }\n",
    "\n",
    "def answer_question(state: AgentState) -> AgentState:\n",
    "\n",
    "    print(f'Answering question: {state[\"question\"]}')\n",
    "\n",
    "    user_message = answer_writer_template.format(\n",
    "        topic=state['topic'], \n",
    "        question=state['question']\n",
    "        )\n",
    "    \n",
    "    response = answer_writer_llm.invoke([system_message] + [user_message])\n",
    "    response.name = 'Answer Writer'\n",
    "\n",
    "    return {\n",
    "        'messages': [response],\n",
    "        'questions_with_answers': [{'question': state['question'], 'answer': response.content}]\n",
    "        }\n",
    "\n",
    "def send_questions_to_answer_writer(state: AgentState) -> AgentState:\n",
    "\n",
    "    return [Send(\"answer_question\", {\"question\": q, \"topic\": state['topic']}) for q in state['questions']]\n",
    "\n",
    "def validate_further_research(state: AgentState) -> AgentState:\n",
    "\n",
    "    rounds_remaining = state['further_research_rounds']\n",
    "\n",
    "    if rounds_remaining == 0:\n",
    "\n",
    "        print('No further research rounds left.')\n",
    "\n",
    "        return {\n",
    "            'further_research_needed': False,\n",
    "        }\n",
    "\n",
    "    user_message = further_research_validator_template.format(\n",
    "        topic=state['topic'], \n",
    "        reason=state['reason'], \n",
    "        background=state['background'], \n",
    "        questions_with_answers=state['questions_with_answers']\n",
    "        )\n",
    "    \n",
    "    response = further_research_validator_llm.invoke([system_message] + [user_message])\n",
    "    response_raw = response['raw']\n",
    "    response_raw.name = 'Further Research Validator'\n",
    "\n",
    "    if response['parsed'].decision:\n",
    "\n",
    "        print(f'Further research needed. {rounds_remaining} rounds remaining max.')\n",
    "        print(f'New questions: {response[\"parsed\"].questions}')\n",
    "    \n",
    "        return {\n",
    "            'further_research_rounds': rounds_remaining - 1,\n",
    "            'further_research_needed': True,\n",
    "            'questions': response['parsed'].questions, # overwrite questions with new questions\n",
    "            'messages': [response_raw]\n",
    "            }\n",
    "    \n",
    "    else:\n",
    "\n",
    "        print('No further research needed.')\n",
    "\n",
    "        return {\n",
    "            'further_research_needed': False,\n",
    "            'messages': [response_raw]\n",
    "            }\n",
    "    \n",
    "def route_from_validation(state: AgentState):\n",
    "    if state['further_research_needed']:\n",
    "        return \"go_deeper\"\n",
    "    else:\n",
    "        return \"end\""
   ]
  },
  {
   "cell_type": "code",
   "execution_count": 159,
   "metadata": {},
   "outputs": [],
   "source": [
    "workflow = StateGraph(AgentState)\n",
    "\n",
    "workflow.add_node(\"write_questions\", write_questions)\n",
    "workflow.add_node(\"answer_question\", answer_question)\n",
    "workflow.add_node(\"validate_further_research\", validate_further_research)\n",
    "\n",
    "workflow.add_edge(START, \"write_questions\")\n",
    "workflow.add_conditional_edges(\"write_questions\", send_questions_to_answer_writer, [\"answer_question\"])\n",
    "workflow.add_edge(\"answer_question\", \"validate_further_research\")\n",
    "\n",
    "workflow.add_conditional_edges(\"validate_further_research\", route_from_validation, {\"end\": END, \"go_deeper\": \"answer_question\"})\n",
    "\n",
    "app = workflow.compile()"
   ]
  },
  {
   "cell_type": "code",
   "execution_count": 160,
   "metadata": {},
   "outputs": [
    {
     "data": {
      "image/jpeg": "[encoded data removed]",
      "text/plain": [
       "<IPython.core.display.Image object>"
      ]
     },
     "metadata": {},
     "output_type": "display_data"
    }
   ],
   "source": [
    "display(Image(app.get_graph().draw_mermaid_png()))"
   ]
  },
  {
   "cell_type": "code",
   "execution_count": 163,
   "metadata": {},
   "outputs": [
    {
     "name": "stdout",
     "output_type": "stream",
     "text": [
      "Answering question: What are the current trends in the adoption of AI technologies in the job market?Answering question: How is AI impacting the demand for software engineering roles in the tech industry?\n",
      "\n",
      "Answering question: What are the potential long-term effects of AI on employment across various industries?\n",
      "Answering question: How can software engineers adapt their skills to remain competitive in an AI-driven job market?\n",
      "Answering question: What are the ethical considerations of AI replacing human jobs in the workforce?\n",
      "No further research needed.\n"
     ]
    }
   ],
   "source": [
    "test = app.invoke({\n",
    "    \"topic\": topic, \n",
    "    \"reason\": reason, \n",
    "    \"background\": background, \n",
    "    \"further_research_rounds\": 3,\n",
    "    \"further_research_needed\": True\n",
    "    })"
   ]
  },
  {
   "cell_type": "code",
   "execution_count": 165,
   "metadata": {},
   "outputs": [
    {
     "data": {
      "text/plain": [
       "{'topic': 'The impact of AI on the job market',\n",
       " 'reason': 'I am interested in the impact of AI on the job market because I am a software engineer and I want to understand how AI is changing the job market.',\n",
       " 'background': 'I am a software engineer and I have been working in the tech industry for 10 years.',\n",
       " 'messages': [SystemMessage(content='You are a helpful assistant that can help with research.', id='821c4c80-04c5-465d-87bf-d659dd6df6d4'),\n",
       "  HumanMessage(content='\\nA user requires help with their research question. They have provided a topic they are interested in and the reason for their interest. Additionally, they have provided some background on themselves to help you understand their perspective.\\n\\n<topic>\\nThe impact of AI on the job market\\n</topic>\\n\\n<reason>\\nI am interested in the impact of AI on the job market because I am a software engineer and I want to understand how AI is changing the job market.\\n</reason>\\n\\n<background>\\nI am a software engineer and I have been working in the tech industry for 10 years.\\n</background>\\n\\n\\nYour task is to write research questions that can be submitted to Perplexity or Google Scholar for further research. Return a list of research questions.\\n', id='29692932-48c5-430b-a878-4e9a63598baa'),\n",
       "  AIMessage(content='{\"questions\":[{\"question\":\"What are the current trends in the adoption of AI technologies in the job market?\"},{\"question\":\"How is AI impacting the demand for software engineering roles in the tech industry?\"},{\"question\":\"What are the potential long-term effects of AI on employment across various industries?\"},{\"question\":\"How can software engineers adapt their skills to remain competitive in an AI-driven job market?\"},{\"question\":\"What are the ethical considerations of AI replacing human jobs in the workforce?\"}]}', additional_kwargs={'parsed': ResearchQuestions(questions=[ResearchQuestion(question='What are the current trends in the adoption of AI technologies in the job market?'), ResearchQuestion(question='How is AI impacting the demand for software engineering roles in the tech industry?'), ResearchQuestion(question='What are the potential long-term effects of AI on employment across various industries?'), ResearchQuestion(question='How can software engineers adapt their skills to remain competitive in an AI-driven job market?'), ResearchQuestion(question='What are the ethical considerations of AI replacing human jobs in the workforce?')]), 'refusal': None}, response_metadata={'token_usage': {'completion_tokens': 98, 'prompt_tokens': 289, 'total_tokens': 387, 'completion_tokens_details': {'accepted_prediction_tokens': 0, 'audio_tokens': 0, 'reasoning_tokens': 0, 'rejected_prediction_tokens': 0}, 'prompt_tokens_details': {'audio_tokens': 0, 'cached_tokens': 0}}, 'model_name': 'gpt-4o-2024-11-20', 'system_fingerprint': 'fp_ec7eab8ec3', 'finish_reason': 'stop', 'logprobs': None}, name='Question Writer', id='run-abd485c0-9c2b-486c-b0c8-20f7e6a48d29-0', usage_metadata={'input_tokens': 289, 'output_tokens': 98, 'total_tokens': 387}),\n",
       "  AIMessage(content=\"The current trends in the adoption of AI technologies in the job market are multifaceted and reflect both the transformative potential of AI and the challenges it presents. Here are some key points from recent studies and reports:\\n\\n## Job Creation and Replacement\\nAI is expected to create new job opportunities while also replacing some existing roles. According to the World Economic Forum's Future of Jobs Report 2025, AI and data processing alone will create 11 million new roles but replace 9 million by 2030. Additionally, robots and automation are forecast to displace 5 million more jobs than they create[1].\\n\\n## Growing Demand for AI Specialists\\nThere is a significant increase in demand for professionals with AI-related skills. The fastest-growing jobs include big data specialists, fintech engineers, and AI and machine learning specialists. These roles are expected to see rapid growth due to the expanding use of AI and information processing technologies, with 86% of surveyed executives anticipating these technologies to transform their businesses by 2030[1].\\n\\n## Shift in Job Postings\\nAI-related job postings are on the rise, although they still constitute a small fraction of overall job postings. As of February 2024, AI-related job postings accounted for about 2% of all jobs, which is below the recent peak of 3.3% in March 2022. However, there is an increasing trend of AI-related jobs within specific sectors, particularly in Software Development, where 22% of jobs were AI-related by the end of February 2024[2].\\n\\n## Technological Skills and Continuous Learning\\nTechnological skills are projected to grow in importance more rapidly than any other skills over the next five years. This emphasizes the need for continuous learning, upskilling, and reskilling programs to adapt to the changing job market. By 2030, 39% of workers’ key skills are expected to change, highlighting the necessity for ongoing education and training[1].\\n\\n## Impact on Various Sectors\\nAI is transforming industries by driving efficiencies and enabling smarter data-driven decisions. While AI is not yet widely adopted in non-tech sectors, it is making significant inroads in tech-heavy areas such as mathematics, data science, and software development. For instance, job postings for roles like data scientists and data analysts, which heavily utilize generative AI, are among the highest categories for AI adoption[4].\\n\\n## Employer Strategies and Hiring Trends\\nEmployers are increasingly adopting skills-based hiring approaches, with fewer job postings requiring experience or education. There is also a rise in mentions of benefits and pay transparency in job postings. This shift is driven by worker demand for flexibility, particularly in remote or hybrid work arrangements[4].\\n\\n## Investment and Funding\\nAI companies continue to attract significant funding, with AI receiving 41% of US venture capital deal value in the first half of 2024. This investment is expected to drive further innovation and job creation in AI-related fields[5].\\n\\n## Overall Labor Market Impact\\nWhile AI is not yet replacing jobs on a large scale, its impact is growing. The adoption of generative AI, for example, is still minor but growing rapidly. Even if the number of job postings asking for Gen AI skills were to triple in 2025, they would still only account for about six in every thousand postings, indicating there is substantial room for further growth[4].\\n\\nIn summary, the current trends in AI adoption in the job market involve significant job creation in AI-related fields, a shift towards technological skills, ongoing changes in job postings and employer strategies, and continued investment in AI technologies. While AI is transforming the labor market, it is doing so in a way that enhances productivity and creates new opportunities rather than outright replacing existing jobs.\", additional_kwargs={'refusal': None}, response_metadata={'token_usage': {'completion_tokens': 750, 'prompt_tokens': 77, 'total_tokens': 827, 'completion_tokens_details': None, 'prompt_tokens_details': None}, 'model_name': 'llama-3.1-sonar-large-128k-online', 'system_fingerprint': None, 'finish_reason': 'stop', 'logprobs': None}, name='Answer Writer', id='run-21c2c9df-e0a5-4663-a833-5b8d3cb912d0-0', usage_metadata={'input_tokens': 77, 'output_tokens': 750, 'total_tokens': 827}),\n",
       "  AIMessage(content='The impact of AI on the demand for software engineering roles in the tech industry is multifaceted, involving both positive and negative aspects.\\n\\n### Automation and Task Redistribution\\nAI is automating many routine and repetitive tasks that were previously handled by software engineers. This includes code generation, code review, testing, debugging, and DevOps tasks such as provisioning infrastructure and deploying code[1][2][5].\\n- While AI takes over these mundane tasks, it frees up software engineers to focus on more complex, creative, and high-value tasks like system design, technology integration, and problem-solving[1][2][3].\\n\\n### Job Displacement and New Opportunities\\nThere is a concern that AI could lead to job displacement, particularly for entry-level or low-level developers who specialize in fundamental coding tasks. According to some reports, automation might put up to 7.5 million development-related professions at risk worldwide[1].\\n- However, AI is also creating new job opportunities in areas such as machine learning, data science, and cybersecurity. These roles require skills that are complementary to AI, such as critical thinking, creativity, and complex problem-solving[1][4][5].\\n\\n### Enhanced Productivity and Innovation\\nAI tools like GitHub Copilot and other AI assistants are acting as force multipliers, significantly increasing what individual engineers can accomplish. By handling routine coding tasks and catching errors, AI enables developers to be more productive and focus on innovative and challenging aspects of projects[1][3][5].\\n- This shift allows software engineers to spend more time on architectural decisions, innovation, and cross-disciplinary collaboration, leading to faster development cycles and higher-quality software[2][3].\\n\\n### Skill Evolution\\nThe integration of AI in software development necessitates a change in the skill sets of software engineers. There is a growing demand for skills in AI, machine learning, data science, and related technologies. Developers need to adapt by acquiring new skills such as math, algebra, calculus, statistics, and expertise in tools like Hadoop and Spark[5].\\n- This evolution ensures that software engineers remain relevant and valuable in a landscape where AI is increasingly prevalent[1][4][5].\\n\\n### New Roles and Responsibilities\\nAI is transforming the role of software engineers, elevating them to become architects and problem solvers. Software engineers are now more focused on high-level thinking, innovation, and strategic decision-making, rather than just line-by-line coding[2][3].\\n- This transformation includes tasks such as streamlining development cycles, enhancing software quality, and enabling better collaboration across different domains and teams[2][3].\\n\\n### Economic and Employment Impact\\nWhile AI may displace some jobs, it is also expected to create a net gain in employment opportunities. Reports suggest that by 2025, AI will have displaced 75 million jobs globally but will have created 133 million new jobs, resulting in a net gain of 58 million jobs[4].\\n- In the tech industry specifically, the demand for AI-related roles such as data scientists, software engineers with AI expertise, and machine learning engineers is increasing rapidly[5].\\n\\nIn summary, AI is not replacing software engineers but is instead transforming their roles and enhancing their capabilities. While there are challenges related to job displacement and the need for continuous skill adaptation, the overall impact is positive, leading to increased productivity, innovation, and new employment opportunities in the tech industry.', additional_kwargs={'refusal': None}, response_metadata={'token_usage': {'completion_tokens': 677, 'prompt_tokens': 76, 'total_tokens': 753, 'completion_tokens_details': None, 'prompt_tokens_details': None}, 'model_name': 'llama-3.1-sonar-large-128k-online', 'system_fingerprint': None, 'finish_reason': 'stop', 'logprobs': None}, name='Answer Writer', id='run-9e893886-9570-4f9a-ace5-52c271a7f3b8-0', usage_metadata={'input_tokens': 76, 'output_tokens': 677, 'total_tokens': 753}),\n",
       "  AIMessage(content='The potential long-term effects of AI on employment are multifaceted and impact various industries in several ways.\\n\\n### Job Displacement and Automation\\n\\nOne of the most significant effects of AI is the automation of routine and repetitive tasks, which can lead to job displacement in certain sectors. For example:\\n\\n- **Manufacturing and Warehousing**: AI-driven robots are increasingly taking over tasks such as assembly, packaging, and inventory management, potentially displacing factory and warehouse workers[2][5].\\n- **Customer Service**: Automated systems can handle a substantial portion of customer inquiries and complaints, reducing the need for human customer service representatives[5].\\n- **Transportation**: Autonomous vehicle technology threatens jobs related to driving, such as truck drivers and taxi drivers[5].\\n- **Administrative Roles**: AI can automate tasks like data entry, document review, and other clerical functions, affecting jobs in administrative and clerical sectors[1][5].\\n\\n### Creation of New Job Roles\\n\\nDespite the potential for job displacement, AI is also creating new job opportunities across various industries:\\n\\n- **AI and Machine Learning**: New roles such as AI ethicists, machine learning engineers, and data analysts are emerging as AI becomes more integrated into different sectors[2][5].\\n- **Healthcare**: AI is being used to assist doctors and nurses with diagnosis and treatment recommendations, creating new roles in healthcare technology and data analysis[2].\\n- **High-Tech Manufacturing**: The integration of AI in manufacturing processes is creating new job roles focused on operating, maintaining, and programming AI-enabled machines[2].\\n\\n### Economic Impact and Productivity\\n\\nAI is expected to have a positive impact on the economy by increasing productivity and driving economic growth:\\n\\n- **Global Economic Activity**: According to McKinsey, AI could deliver additional global economic activity of around $13 trillion by 2030, leading to a 1.2% additional GDP growth per year[1].\\n- **Increased Productivity**: AI can automate mundane tasks, freeing up workers to focus on more complex and creative work, which can lead to increased productivity and output[2][4].\\n- **New Products and Services**: AI can create new products, markets, and sectors of the economy, which in turn can create new job opportunities and stimulate economic growth[4].\\n\\n### Changes in Skill Requirements\\n\\nThe advent of AI is changing the skill requirements for many jobs, emphasizing the need for workers to acquire new skills:\\n\\n- **Technical Skills**: Jobs of the future will require a combination of technical skills, such as programming and data analysis, along with a deep understanding of business processes[2].\\n- **Creativity and Problem-Solving**: AI is creating new job opportunities that require skills such as critical thinking, creativity, and problem-solving[2][5].\\n- **Reskilling and Upskilling**: There is a growing need for workers to reskill and upskill to remain relevant in the job market, particularly in industries heavily impacted by automation[2][4].\\n\\n### Impact on Labour Demand and Supply\\n\\nAI affects both the demand and supply of labour in several ways:\\n\\n- **Labour Demand**: While AI may replace some jobs, it also increases the demand for labour by boosting economic growth and creating new products and services. This can lead to new job opportunities in various sectors[4].\\n- **Labour Supply**: AI can improve the quality and quantity of the labour force by enhancing educational attainment, providing tailored on-the-job training, and improving health outcomes. This can lead to a more productive and economically active labour force[4].\\n\\n### Workplace Experience and Inclusivity\\n\\nAI is also transforming the workplace experience, making it more inclusive and efficient:\\n\\n- **Automation of Repetitive Tasks**: AI can automate repetitive tasks, making work more engaging and reducing the risk of health and safety issues[4].\\n- **Inclusivity**: AI can increase access to the workplace for differently abled groups and improve the overall inclusivity of the work environment[4].\\n\\n### Challenges and Concerns\\n\\nWhile AI offers many benefits, there are also concerns that need to be addressed:\\n\\n- **Job Displacement and Unemployment**: The risk of job displacement and the need for reskilling and upskilling are significant challenges. By 2025, AI is expected to displace 75 million jobs globally, although it is also projected to create 133 million new jobs, resulting in a net gain of 58 million jobs[2].\\n- **Bias and Discrimination**: There is a risk that AI could amplify existing biases in recruitment decisions and other areas, which can have negative consequences for marginalized individuals and communities[4].\\n\\nIn summary, the impact of AI on employment is complex, involving both the displacement of certain jobs and the creation of new ones. It is crucial for workers, businesses, and policymakers to adapt to these changes by investing in education, reskilling, and upskilling, and by implementing policies that ensure the benefits of AI are balanced with the needs of workers and society.', additional_kwargs={'refusal': None}, response_metadata={'token_usage': {'completion_tokens': 998, 'prompt_tokens': 76, 'total_tokens': 1074, 'completion_tokens_details': None, 'prompt_tokens_details': None}, 'model_name': 'llama-3.1-sonar-large-128k-online', 'system_fingerprint': None, 'finish_reason': 'stop', 'logprobs': None}, name='Answer Writer', id='run-dec3c27d-f072-4223-b2a8-47468b79265b-0', usage_metadata={'input_tokens': 76, 'output_tokens': 998, 'total_tokens': 1074}),\n",
       "  AIMessage(content='To remain competitive in an AI-driven job market, software engineers need to adapt their skills in several key areas. Here are some detailed recommendations based on current trends and expert advice:\\n\\n## Embrace AI as a Tool\\nSoftware engineers should view AI as a complementary tool rather than a replacement. AI can automate repetitive, mundane, and error-prone tasks such as code generation, code review, testing, and debugging, allowing engineers to focus on more complex and creative aspects of software development[1][3][4].\\n\\n## Upskilling and Reskilling\\nA significant portion of the software engineering workforce will need to upskill to keep pace with AI advancements. By 2027, up to 80% of software engineers may need to acquire new skills, particularly in areas such as:\\n- **AI and Machine Learning**: Understanding AI and machine learning techniques, including neural networks, natural language processing, and computer vision, is crucial. This includes learning about different ML algorithms, data preprocessing, feature engineering, model evaluation, and deployment[3][4][5].\\n- **Data Science**: Proficiency in data science, including data analysis, statistics, and data visualization, is essential for deriving meaningful insights from vast datasets[3][4].\\n- **Natural Language Prompt Engineering and Retrieval Augmented Generation (RAG)**: These skills will become increasingly important as AI-native software engineering evolves[2].\\n\\n## Adaptability and Lifelong Learning\\nThe ability to adapt to evolving technologies and commit to continuous learning is paramount. Software engineers should stay updated with the latest research, techniques, and advancements in AI through online courses, conferences, and participation in AI communities[3][4][5].\\n\\n## Interdisciplinary Collaboration\\nWorking effectively with data scientists, domain experts, and other stakeholders is critical. This involves good communication and teamwork skills to develop AI solutions that meet diverse needs. Understanding the business side of projects and being able to make informed decisions and adapt software systems accordingly is also vital[3][4].\\n\\n## Focus on High-Value Skills\\nEngineers should focus on developing skills that are hard to automate, such as:\\n- **Problem-Solving and Critical Thinking**: Strong problem-solving skills and critical thinking are essential for designing effective AI solutions and breaking down complex problems into manageable components[4][5].\\n- **System Design and Technology Integration**: Skills in system design, technology integration, and architecture will remain valuable as AI cannot readily manage these aspects[1][3].\\n- **Business Acumen**: Understanding business needs and being able to deliver value beyond coding abilities will keep engineers in demand[5].\\n\\n## New Roles and Opportunities\\nThe integration of AI in software development is creating new roles and opportunities, such as:\\n- **AI Engineers**: This role combines skills in software engineering, data science, and AI/machine learning. AI engineers will be responsible for steering AI agents and ensuring they are used effectively in software development[2][4].\\n- **Data Scientists and Machine Learning Engineers**: These roles are increasingly in demand as AI adoption grows, and software engineers can transition into these fields by acquiring the necessary skills[4].\\n\\n## Contextual Understanding and Adaptation\\nSoftware engineers need to understand complex contexts, make informed decisions, and adapt software systems accordingly. While AI can help with data analysis and pattern recognition, human engineers are better equipped to handle these nuanced tasks[4].\\n\\nBy focusing on these areas, software engineers can not only remain competitive but also thrive in an AI-driven job market, leveraging AI to enhance their productivity, creativity, and innovation.', additional_kwargs={'refusal': None}, response_metadata={'token_usage': {'completion_tokens': 706, 'prompt_tokens': 78, 'total_tokens': 784, 'completion_tokens_details': None, 'prompt_tokens_details': None}, 'model_name': 'llama-3.1-sonar-large-128k-online', 'system_fingerprint': None, 'finish_reason': 'stop', 'logprobs': None}, name='Answer Writer', id='run-72a8e4e4-04ea-4a8c-9e60-e55b723a749b-0', usage_metadata={'input_tokens': 78, 'output_tokens': 706, 'total_tokens': 784}),\n",
       "  AIMessage(content='The impact of AI on the job market raises several significant ethical considerations, particularly when it comes to AI replacing human jobs. Here are some of the key ethical concerns and strategies to address them:\\n\\n## Job Displacement and Economic Inequality\\nOne of the most pressing ethical concerns is the potential for widespread job displacement. As AI automates tasks, especially those that are routine or repetitive, it threatens to eliminate jobs across various sectors, including manufacturing, transportation, customer service, and data analysis[2][4][5].\\n\\nThis displacement can lead to economic hardship for affected workers, reduced self-esteem, and a diminished sense of purpose. Moreover, the wealth generated by increased productivity through AI is often concentrated in the hands of those who own or control the AI technologies, exacerbating economic inequality and widening the wealth gap[2][5].\\n\\n## Corporate Ethical Responsibilities\\nCompanies have an ethical responsibility to consider the broader impact of job displacement. Decisions made solely based on profitability can harm workers and communities, raising questions about corporate ethics. There is an ethical imperative to ensure that the benefits of AI-driven productivity gains are fairly distributed. This includes contributing to retraining and supporting displaced workers[2].\\n\\n## Fair Distribution of Benefits and Retraining\\nOrganizations should prioritize retraining programs to help workers adapt to new roles that AI creates or enhances. For instance, AI has given rise to new job opportunities in fields such as AI ethics, data science, AI maintenance, and machine learning engineering. Encouraging the development of these sectors can help offset job losses in other areas[2][4].\\n\\n## Bias and Fairness in AI Systems\\nAI systems can perpetuate biases if they are trained on biased data. This can lead to unfair treatment of certain groups of workers, particularly in recruitment processes. Ensuring that AI systems are designed with diverse participation in data collection and decision-making, and regularly reviewing these systems for fairness, is crucial to mitigate these biases[3][4].\\n\\n## Privacy Concerns\\nThe use of AI in the workplace also raises significant privacy concerns. AI systems can collect, store, and analyze vast amounts of personal and professional information, which must be properly protected to avoid privacy violations and unauthorized access. Establishing transparent data tactics and robust cybersecurity measures is essential to address these concerns[3][5].\\n\\n## Human-Centered AI Design\\nAI systems should be designed with a human-centered approach, focusing on augmenting human capabilities rather than simply replacing human labor. This approach ensures that AI is used as a tool to enhance productivity and efficiency while preserving the value and dignity of human work[2][3].\\n\\n## Regulatory Frameworks\\nEstablishing robust legal and regulatory frameworks is essential to govern the ethical use of AI. These frameworks should address issues such as data privacy, algorithmic transparency, and accountability. Clear guidelines can help ensure that AI technologies are developed and deployed responsibly, minimizing potential harms[2][3].\\n\\n## Protecting Human Connection and Creativity\\nThe increasing reliance on AI raises questions about the impact on human connection and creativity. It is important to ensure that there is enough space for human creativity to flourish. Generative AI, for example, can enhance content creation but also poses questions about ownership and the potential stifling of human innovation[1].\\n\\n## Collaborative Effort\\nAddressing the ethical implications of AI and job displacement requires a collaborative effort involving policymakers, businesses, labor unions, and civil society. By working together, it is possible to shape a future where AI is used as a tool for human progress rather than a threat to human well-being[2].\\n\\nIn summary, the ethical considerations of AI replacing human jobs involve addressing job displacement, economic inequality, corporate responsibilities, bias in AI systems, privacy concerns, human-centered AI design, regulatory frameworks, and the protection of human connection and creativity. By prioritizing these ethical concerns and implementing strategies to mitigate the adverse effects, we can ensure that AI is used responsibly and ethically in the workforce.', additional_kwargs={'refusal': None}, response_metadata={'token_usage': {'completion_tokens': 791, 'prompt_tokens': 75, 'total_tokens': 866, 'completion_tokens_details': None, 'prompt_tokens_details': None}, 'model_name': 'llama-3.1-sonar-large-128k-online', 'system_fingerprint': None, 'finish_reason': 'stop', 'logprobs': None}, name='Answer Writer', id='run-e1fc4ab6-e7b8-406c-b9b7-0e449febeb8f-0', usage_metadata={'input_tokens': 75, 'output_tokens': 791, 'total_tokens': 866}),\n",
       "  AIMessage(content='{\"decision\":false,\"questions\":[]}', additional_kwargs={'parsed': FurtherResearchValidator(decision=False, questions=[]), 'refusal': None}, response_metadata={'token_usage': {'completion_tokens': 9, 'prompt_tokens': 4598, 'total_tokens': 4607, 'completion_tokens_details': {'accepted_prediction_tokens': 0, 'audio_tokens': 0, 'reasoning_tokens': 0, 'rejected_prediction_tokens': 0}, 'prompt_tokens_details': {'audio_tokens': 0, 'cached_tokens': 0}}, 'model_name': 'gpt-4o-2024-11-20', 'system_fingerprint': 'fp_ec7eab8ec3', 'finish_reason': 'stop', 'logprobs': None}, name='Further Research Validator', id='run-c2b592da-8970-4c43-b0d5-68e8b4111add-0', usage_metadata={'input_tokens': 4598, 'output_tokens': 9, 'total_tokens': 4607})],\n",
       " 'questions': ['What are the current trends in the adoption of AI technologies in the job market?',\n",
       "  'How is AI impacting the demand for software engineering roles in the tech industry?',\n",
       "  'What are the potential long-term effects of AI on employment across various industries?',\n",
       "  'How can software engineers adapt their skills to remain competitive in an AI-driven job market?',\n",
       "  'What are the ethical considerations of AI replacing human jobs in the workforce?'],\n",
       " 'questions_with_answers': [{'question': 'What are the current trends in the adoption of AI technologies in the job market?',\n",
       "   'answer': \"The current trends in the adoption of AI technologies in the job market are multifaceted and reflect both the transformative potential of AI and the challenges it presents. Here are some key points from recent studies and reports:\\n\\n## Job Creation and Replacement\\nAI is expected to create new job opportunities while also replacing some existing roles. According to the World Economic Forum's Future of Jobs Report 2025, AI and data processing alone will create 11 million new roles but replace 9 million by 2030. Additionally, robots and automation are forecast to displace 5 million more jobs than they create[1].\\n\\n## Growing Demand for AI Specialists\\nThere is a significant increase in demand for professionals with AI-related skills. The fastest-growing jobs include big data specialists, fintech engineers, and AI and machine learning specialists. These roles are expected to see rapid growth due to the expanding use of AI and information processing technologies, with 86% of surveyed executives anticipating these technologies to transform their businesses by 2030[1].\\n\\n## Shift in Job Postings\\nAI-related job postings are on the rise, although they still constitute a small fraction of overall job postings. As of February 2024, AI-related job postings accounted for about 2% of all jobs, which is below the recent peak of 3.3% in March 2022. However, there is an increasing trend of AI-related jobs within specific sectors, particularly in Software Development, where 22% of jobs were AI-related by the end of February 2024[2].\\n\\n## Technological Skills and Continuous Learning\\nTechnological skills are projected to grow in importance more rapidly than any other skills over the next five years. This emphasizes the need for continuous learning, upskilling, and reskilling programs to adapt to the changing job market. By 2030, 39% of workers’ key skills are expected to change, highlighting the necessity for ongoing education and training[1].\\n\\n## Impact on Various Sectors\\nAI is transforming industries by driving efficiencies and enabling smarter data-driven decisions. While AI is not yet widely adopted in non-tech sectors, it is making significant inroads in tech-heavy areas such as mathematics, data science, and software development. For instance, job postings for roles like data scientists and data analysts, which heavily utilize generative AI, are among the highest categories for AI adoption[4].\\n\\n## Employer Strategies and Hiring Trends\\nEmployers are increasingly adopting skills-based hiring approaches, with fewer job postings requiring experience or education. There is also a rise in mentions of benefits and pay transparency in job postings. This shift is driven by worker demand for flexibility, particularly in remote or hybrid work arrangements[4].\\n\\n## Investment and Funding\\nAI companies continue to attract significant funding, with AI receiving 41% of US venture capital deal value in the first half of 2024. This investment is expected to drive further innovation and job creation in AI-related fields[5].\\n\\n## Overall Labor Market Impact\\nWhile AI is not yet replacing jobs on a large scale, its impact is growing. The adoption of generative AI, for example, is still minor but growing rapidly. Even if the number of job postings asking for Gen AI skills were to triple in 2025, they would still only account for about six in every thousand postings, indicating there is substantial room for further growth[4].\\n\\nIn summary, the current trends in AI adoption in the job market involve significant job creation in AI-related fields, a shift towards technological skills, ongoing changes in job postings and employer strategies, and continued investment in AI technologies. While AI is transforming the labor market, it is doing so in a way that enhances productivity and creates new opportunities rather than outright replacing existing jobs.\"},\n",
       "  {'question': 'How is AI impacting the demand for software engineering roles in the tech industry?',\n",
       "   'answer': 'The impact of AI on the demand for software engineering roles in the tech industry is multifaceted, involving both positive and negative aspects.\\n\\n### Automation and Task Redistribution\\nAI is automating many routine and repetitive tasks that were previously handled by software engineers. This includes code generation, code review, testing, debugging, and DevOps tasks such as provisioning infrastructure and deploying code[1][2][5].\\n- While AI takes over these mundane tasks, it frees up software engineers to focus on more complex, creative, and high-value tasks like system design, technology integration, and problem-solving[1][2][3].\\n\\n### Job Displacement and New Opportunities\\nThere is a concern that AI could lead to job displacement, particularly for entry-level or low-level developers who specialize in fundamental coding tasks. According to some reports, automation might put up to 7.5 million development-related professions at risk worldwide[1].\\n- However, AI is also creating new job opportunities in areas such as machine learning, data science, and cybersecurity. These roles require skills that are complementary to AI, such as critical thinking, creativity, and complex problem-solving[1][4][5].\\n\\n### Enhanced Productivity and Innovation\\nAI tools like GitHub Copilot and other AI assistants are acting as force multipliers, significantly increasing what individual engineers can accomplish. By handling routine coding tasks and catching errors, AI enables developers to be more productive and focus on innovative and challenging aspects of projects[1][3][5].\\n- This shift allows software engineers to spend more time on architectural decisions, innovation, and cross-disciplinary collaboration, leading to faster development cycles and higher-quality software[2][3].\\n\\n### Skill Evolution\\nThe integration of AI in software development necessitates a change in the skill sets of software engineers. There is a growing demand for skills in AI, machine learning, data science, and related technologies. Developers need to adapt by acquiring new skills such as math, algebra, calculus, statistics, and expertise in tools like Hadoop and Spark[5].\\n- This evolution ensures that software engineers remain relevant and valuable in a landscape where AI is increasingly prevalent[1][4][5].\\n\\n### New Roles and Responsibilities\\nAI is transforming the role of software engineers, elevating them to become architects and problem solvers. Software engineers are now more focused on high-level thinking, innovation, and strategic decision-making, rather than just line-by-line coding[2][3].\\n- This transformation includes tasks such as streamlining development cycles, enhancing software quality, and enabling better collaboration across different domains and teams[2][3].\\n\\n### Economic and Employment Impact\\nWhile AI may displace some jobs, it is also expected to create a net gain in employment opportunities. Reports suggest that by 2025, AI will have displaced 75 million jobs globally but will have created 133 million new jobs, resulting in a net gain of 58 million jobs[4].\\n- In the tech industry specifically, the demand for AI-related roles such as data scientists, software engineers with AI expertise, and machine learning engineers is increasing rapidly[5].\\n\\nIn summary, AI is not replacing software engineers but is instead transforming their roles and enhancing their capabilities. While there are challenges related to job displacement and the need for continuous skill adaptation, the overall impact is positive, leading to increased productivity, innovation, and new employment opportunities in the tech industry.'},\n",
       "  {'question': 'What are the potential long-term effects of AI on employment across various industries?',\n",
       "   'answer': 'The potential long-term effects of AI on employment are multifaceted and impact various industries in several ways.\\n\\n### Job Displacement and Automation\\n\\nOne of the most significant effects of AI is the automation of routine and repetitive tasks, which can lead to job displacement in certain sectors. For example:\\n\\n- **Manufacturing and Warehousing**: AI-driven robots are increasingly taking over tasks such as assembly, packaging, and inventory management, potentially displacing factory and warehouse workers[2][5].\\n- **Customer Service**: Automated systems can handle a substantial portion of customer inquiries and complaints, reducing the need for human customer service representatives[5].\\n- **Transportation**: Autonomous vehicle technology threatens jobs related to driving, such as truck drivers and taxi drivers[5].\\n- **Administrative Roles**: AI can automate tasks like data entry, document review, and other clerical functions, affecting jobs in administrative and clerical sectors[1][5].\\n\\n### Creation of New Job Roles\\n\\nDespite the potential for job displacement, AI is also creating new job opportunities across various industries:\\n\\n- **AI and Machine Learning**: New roles such as AI ethicists, machine learning engineers, and data analysts are emerging as AI becomes more integrated into different sectors[2][5].\\n- **Healthcare**: AI is being used to assist doctors and nurses with diagnosis and treatment recommendations, creating new roles in healthcare technology and data analysis[2].\\n- **High-Tech Manufacturing**: The integration of AI in manufacturing processes is creating new job roles focused on operating, maintaining, and programming AI-enabled machines[2].\\n\\n### Economic Impact and Productivity\\n\\nAI is expected to have a positive impact on the economy by increasing productivity and driving economic growth:\\n\\n- **Global Economic Activity**: According to McKinsey, AI could deliver additional global economic activity of around $13 trillion by 2030, leading to a 1.2% additional GDP growth per year[1].\\n- **Increased Productivity**: AI can automate mundane tasks, freeing up workers to focus on more complex and creative work, which can lead to increased productivity and output[2][4].\\n- **New Products and Services**: AI can create new products, markets, and sectors of the economy, which in turn can create new job opportunities and stimulate economic growth[4].\\n\\n### Changes in Skill Requirements\\n\\nThe advent of AI is changing the skill requirements for many jobs, emphasizing the need for workers to acquire new skills:\\n\\n- **Technical Skills**: Jobs of the future will require a combination of technical skills, such as programming and data analysis, along with a deep understanding of business processes[2].\\n- **Creativity and Problem-Solving**: AI is creating new job opportunities that require skills such as critical thinking, creativity, and problem-solving[2][5].\\n- **Reskilling and Upskilling**: There is a growing need for workers to reskill and upskill to remain relevant in the job market, particularly in industries heavily impacted by automation[2][4].\\n\\n### Impact on Labour Demand and Supply\\n\\nAI affects both the demand and supply of labour in several ways:\\n\\n- **Labour Demand**: While AI may replace some jobs, it also increases the demand for labour by boosting economic growth and creating new products and services. This can lead to new job opportunities in various sectors[4].\\n- **Labour Supply**: AI can improve the quality and quantity of the labour force by enhancing educational attainment, providing tailored on-the-job training, and improving health outcomes. This can lead to a more productive and economically active labour force[4].\\n\\n### Workplace Experience and Inclusivity\\n\\nAI is also transforming the workplace experience, making it more inclusive and efficient:\\n\\n- **Automation of Repetitive Tasks**: AI can automate repetitive tasks, making work more engaging and reducing the risk of health and safety issues[4].\\n- **Inclusivity**: AI can increase access to the workplace for differently abled groups and improve the overall inclusivity of the work environment[4].\\n\\n### Challenges and Concerns\\n\\nWhile AI offers many benefits, there are also concerns that need to be addressed:\\n\\n- **Job Displacement and Unemployment**: The risk of job displacement and the need for reskilling and upskilling are significant challenges. By 2025, AI is expected to displace 75 million jobs globally, although it is also projected to create 133 million new jobs, resulting in a net gain of 58 million jobs[2].\\n- **Bias and Discrimination**: There is a risk that AI could amplify existing biases in recruitment decisions and other areas, which can have negative consequences for marginalized individuals and communities[4].\\n\\nIn summary, the impact of AI on employment is complex, involving both the displacement of certain jobs and the creation of new ones. It is crucial for workers, businesses, and policymakers to adapt to these changes by investing in education, reskilling, and upskilling, and by implementing policies that ensure the benefits of AI are balanced with the needs of workers and society.'},\n",
       "  {'question': 'How can software engineers adapt their skills to remain competitive in an AI-driven job market?',\n",
       "   'answer': 'To remain competitive in an AI-driven job market, software engineers need to adapt their skills in several key areas. Here are some detailed recommendations based on current trends and expert advice:\\n\\n## Embrace AI as a Tool\\nSoftware engineers should view AI as a complementary tool rather than a replacement. AI can automate repetitive, mundane, and error-prone tasks such as code generation, code review, testing, and debugging, allowing engineers to focus on more complex and creative aspects of software development[1][3][4].\\n\\n## Upskilling and Reskilling\\nA significant portion of the software engineering workforce will need to upskill to keep pace with AI advancements. By 2027, up to 80% of software engineers may need to acquire new skills, particularly in areas such as:\\n- **AI and Machine Learning**: Understanding AI and machine learning techniques, including neural networks, natural language processing, and computer vision, is crucial. This includes learning about different ML algorithms, data preprocessing, feature engineering, model evaluation, and deployment[3][4][5].\\n- **Data Science**: Proficiency in data science, including data analysis, statistics, and data visualization, is essential for deriving meaningful insights from vast datasets[3][4].\\n- **Natural Language Prompt Engineering and Retrieval Augmented Generation (RAG)**: These skills will become increasingly important as AI-native software engineering evolves[2].\\n\\n## Adaptability and Lifelong Learning\\nThe ability to adapt to evolving technologies and commit to continuous learning is paramount. Software engineers should stay updated with the latest research, techniques, and advancements in AI through online courses, conferences, and participation in AI communities[3][4][5].\\n\\n## Interdisciplinary Collaboration\\nWorking effectively with data scientists, domain experts, and other stakeholders is critical. This involves good communication and teamwork skills to develop AI solutions that meet diverse needs. Understanding the business side of projects and being able to make informed decisions and adapt software systems accordingly is also vital[3][4].\\n\\n## Focus on High-Value Skills\\nEngineers should focus on developing skills that are hard to automate, such as:\\n- **Problem-Solving and Critical Thinking**: Strong problem-solving skills and critical thinking are essential for designing effective AI solutions and breaking down complex problems into manageable components[4][5].\\n- **System Design and Technology Integration**: Skills in system design, technology integration, and architecture will remain valuable as AI cannot readily manage these aspects[1][3].\\n- **Business Acumen**: Understanding business needs and being able to deliver value beyond coding abilities will keep engineers in demand[5].\\n\\n## New Roles and Opportunities\\nThe integration of AI in software development is creating new roles and opportunities, such as:\\n- **AI Engineers**: This role combines skills in software engineering, data science, and AI/machine learning. AI engineers will be responsible for steering AI agents and ensuring they are used effectively in software development[2][4].\\n- **Data Scientists and Machine Learning Engineers**: These roles are increasingly in demand as AI adoption grows, and software engineers can transition into these fields by acquiring the necessary skills[4].\\n\\n## Contextual Understanding and Adaptation\\nSoftware engineers need to understand complex contexts, make informed decisions, and adapt software systems accordingly. While AI can help with data analysis and pattern recognition, human engineers are better equipped to handle these nuanced tasks[4].\\n\\nBy focusing on these areas, software engineers can not only remain competitive but also thrive in an AI-driven job market, leveraging AI to enhance their productivity, creativity, and innovation.'},\n",
       "  {'question': 'What are the ethical considerations of AI replacing human jobs in the workforce?',\n",
       "   'answer': 'The impact of AI on the job market raises several significant ethical considerations, particularly when it comes to AI replacing human jobs. Here are some of the key ethical concerns and strategies to address them:\\n\\n## Job Displacement and Economic Inequality\\nOne of the most pressing ethical concerns is the potential for widespread job displacement. As AI automates tasks, especially those that are routine or repetitive, it threatens to eliminate jobs across various sectors, including manufacturing, transportation, customer service, and data analysis[2][4][5].\\n\\nThis displacement can lead to economic hardship for affected workers, reduced self-esteem, and a diminished sense of purpose. Moreover, the wealth generated by increased productivity through AI is often concentrated in the hands of those who own or control the AI technologies, exacerbating economic inequality and widening the wealth gap[2][5].\\n\\n## Corporate Ethical Responsibilities\\nCompanies have an ethical responsibility to consider the broader impact of job displacement. Decisions made solely based on profitability can harm workers and communities, raising questions about corporate ethics. There is an ethical imperative to ensure that the benefits of AI-driven productivity gains are fairly distributed. This includes contributing to retraining and supporting displaced workers[2].\\n\\n## Fair Distribution of Benefits and Retraining\\nOrganizations should prioritize retraining programs to help workers adapt to new roles that AI creates or enhances. For instance, AI has given rise to new job opportunities in fields such as AI ethics, data science, AI maintenance, and machine learning engineering. Encouraging the development of these sectors can help offset job losses in other areas[2][4].\\n\\n## Bias and Fairness in AI Systems\\nAI systems can perpetuate biases if they are trained on biased data. This can lead to unfair treatment of certain groups of workers, particularly in recruitment processes. Ensuring that AI systems are designed with diverse participation in data collection and decision-making, and regularly reviewing these systems for fairness, is crucial to mitigate these biases[3][4].\\n\\n## Privacy Concerns\\nThe use of AI in the workplace also raises significant privacy concerns. AI systems can collect, store, and analyze vast amounts of personal and professional information, which must be properly protected to avoid privacy violations and unauthorized access. Establishing transparent data tactics and robust cybersecurity measures is essential to address these concerns[3][5].\\n\\n## Human-Centered AI Design\\nAI systems should be designed with a human-centered approach, focusing on augmenting human capabilities rather than simply replacing human labor. This approach ensures that AI is used as a tool to enhance productivity and efficiency while preserving the value and dignity of human work[2][3].\\n\\n## Regulatory Frameworks\\nEstablishing robust legal and regulatory frameworks is essential to govern the ethical use of AI. These frameworks should address issues such as data privacy, algorithmic transparency, and accountability. Clear guidelines can help ensure that AI technologies are developed and deployed responsibly, minimizing potential harms[2][3].\\n\\n## Protecting Human Connection and Creativity\\nThe increasing reliance on AI raises questions about the impact on human connection and creativity. It is important to ensure that there is enough space for human creativity to flourish. Generative AI, for example, can enhance content creation but also poses questions about ownership and the potential stifling of human innovation[1].\\n\\n## Collaborative Effort\\nAddressing the ethical implications of AI and job displacement requires a collaborative effort involving policymakers, businesses, labor unions, and civil society. By working together, it is possible to shape a future where AI is used as a tool for human progress rather than a threat to human well-being[2].\\n\\nIn summary, the ethical considerations of AI replacing human jobs involve addressing job displacement, economic inequality, corporate responsibilities, bias in AI systems, privacy concerns, human-centered AI design, regulatory frameworks, and the protection of human connection and creativity. By prioritizing these ethical concerns and implementing strategies to mitigate the adverse effects, we can ensure that AI is used responsibly and ethically in the workforce.'}],\n",
       " 'further_research_rounds': 3,\n",
       " 'further_research_needed': False}"
      ]
     },
     "execution_count": 165,
     "metadata": {},
     "output_type": "execute_result"
    }
   ],
   "source": [
    "test"
   ]
  },
  {
   "cell_type": "code",
   "execution_count": null,
   "metadata": {},
   "outputs": [],
   "source": []
  }
 ],
 "metadata": {
  "kernelspec": {
   "display_name": "venv",
   "language": "python",
   "name": "python3"
  },
  "language_info": {
   "codemirror_mode": {
    "name": "ipython",
    "version": 3
   },
   "file_extension": ".py",
   "mimetype": "text/x-python",
   "name": "python",
   "nbconvert_exporter": "python",
   "pygments_lexer": "ipython3",
   "version": "3.13.1"
  }
 },
 "nbformat": 4,
 "nbformat_minor": 2
}
