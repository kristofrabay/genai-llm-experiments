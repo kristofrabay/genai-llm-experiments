{
 "cells": [
  {
   "cell_type": "markdown",
   "metadata": {},
   "source": [
    "## Deep Research Experiment with `LangGraph`\n",
    "\n",
    "This notebook aims to test multi-round research with back-and-forth between an OpenAI LLM and Perplexity. Orchestrated with `LangGraph`.\n",
    "\n"
   ]
  },
  {
   "cell_type": "code",
   "execution_count": 3,
   "metadata": {},
   "outputs": [],
   "source": [
    "import json\n",
    "import os\n",
    "import time\n",
    "\n",
    "from dotenv import load_dotenv\n",
    "load_dotenv()\n",
    "\n",
    "from IPython.display import display, Markdown\n",
    "from langchain_core.messages import BaseMessage, SystemMessage, ToolMessage, AIMessage\n",
    "from langchain_core.tools import BaseTool, tool\n",
    "from langchain_openai import ChatOpenAI\n",
    "from langgraph.graph import END, StateGraph\n",
    "from langgraph.graph.state import CompiledStateGraph\n",
    "from langgraph.graph.message import add_messages\n",
    "from pydantic import BaseModel, Field\n",
    "from typing import Annotated, ClassVar, Sequence, TypedDict, Optional, List"
   ]
  },
  {
   "cell_type": "markdown",
   "metadata": {},
   "source": [
    "### Prompts"
   ]
  },
  {
   "cell_type": "code",
   "execution_count": 22,
   "metadata": {},
   "outputs": [],
   "source": [
    "system_message_content = \"\"\"You are a helpful assistant that can help with research.\"\"\"\n",
    "system_message = SystemMessage(content=system_message_content)\n",
    "\n",
    "### research question writer\n",
    "\n",
    "user_message_template = \"\"\"\n",
    "A user requires help with their research question. They have provided a topic they are interested in and the reason for their interest. Additionally, they have provided some background on themselves to help you understand their perspective.\n",
    "\n",
    "<topic>\n",
    "{topic}\n",
    "</topic>\n",
    "\n",
    "<reason>\n",
    "{reason}\n",
    "</reason>\n",
    "\n",
    "<background>\n",
    "{background}\n",
    "</background>\n",
    "\n",
    "\n",
    "Your task is to write research questions that can be submitted to Perplexity or Google Scholar for further research. Return a list of research questions.\n",
    "\"\"\"\n",
    "\n",
    "### answer writer prompt\n",
    "\n",
    "answer_writer_template = \"\"\"\n",
    "You are assisting a user with their research. The topic is:\n",
    "\n",
    "<topic>\n",
    "{topic}\n",
    "</topic>\n",
    "\n",
    "The question you need to answer is:\n",
    "<question>\n",
    "{question}\n",
    "</question>\n",
    "\n",
    "Provide a detailed answer to the question.\n",
    "\"\"\""
   ]
  },
  {
   "cell_type": "code",
   "execution_count": null,
   "metadata": {},
   "outputs": [],
   "source": []
  },
  {
   "cell_type": "markdown",
   "metadata": {},
   "source": [
    "### Structured Outputs"
   ]
  },
  {
   "cell_type": "code",
   "execution_count": 5,
   "metadata": {},
   "outputs": [],
   "source": [
    "class ResearchQuestion(BaseModel):\n",
    "    question: str = Field(description=\"A research question that can be submitted to Perplexity or Google Scholar for further research.\")\n",
    "\n",
    "class ResearchQuestions(BaseModel):\n",
    "    questions: List[ResearchQuestion] = Field(description=\"A list of research questions that can be submitted to Perplexity or Google Scholar for further research.\")"
   ]
  },
  {
   "cell_type": "code",
   "execution_count": null,
   "metadata": {},
   "outputs": [],
   "source": []
  },
  {
   "cell_type": "markdown",
   "metadata": {},
   "source": [
    "### LLMs"
   ]
  },
  {
   "cell_type": "code",
   "execution_count": 21,
   "metadata": {},
   "outputs": [],
   "source": [
    "question_writer_model = \"gpt-4o-2024-11-20\"\n",
    "question_writer_llm = ChatOpenAI(\n",
    "    model=question_writer_model, \n",
    "    temperature=0.0\n",
    "    )\n",
    "question_writer_llm = question_writer_llm.with_structured_output(ResearchQuestions, method=\"json_schema\")\n",
    "\n",
    "answer_writer_model = \"llama-3.1-sonar-large-128k-online\"\n",
    "answer_writer_llm = ChatOpenAI(\n",
    "    model=answer_writer_model, \n",
    "    temperature=0.0, \n",
    "    base_url=\"https://api.perplexity.ai\", \n",
    "    api_key=os.getenv('PPLX_API_KEY')\n",
    "    )"
   ]
  },
  {
   "cell_type": "markdown",
   "metadata": {},
   "source": [
    "Test question writer"
   ]
  },
  {
   "cell_type": "code",
   "execution_count": 18,
   "metadata": {},
   "outputs": [],
   "source": [
    "topic = \"The impact of AI on the job market\"\n",
    "reason = \"I am interested in the impact of AI on the job market because I am a software engineer and I want to understand how AI is changing the job market.\"\n",
    "background = \"I am a software engineer and I have been working in the tech industry for 10 years.\"\n",
    "\n",
    "user_message = user_message_template.format(topic=topic, reason=reason, background=background)\n",
    "\n",
    "test_response = question_writer_llm.invoke([system_message] + [user_message])"
   ]
  },
  {
   "cell_type": "code",
   "execution_count": 20,
   "metadata": {},
   "outputs": [
    {
     "data": {
      "text/plain": [
       "[ResearchQuestion(question='What are the current trends in the adoption of AI technologies in the job market?'),\n",
       " ResearchQuestion(question='How is AI impacting the demand for software engineering roles in the tech industry?'),\n",
       " ResearchQuestion(question='What are the potential long-term effects of AI on employment across various industries?'),\n",
       " ResearchQuestion(question='How can software engineers adapt their skills to remain competitive in an AI-driven job market?'),\n",
       " ResearchQuestion(question='What are the ethical considerations of AI replacing human jobs in the workforce?')]"
      ]
     },
     "execution_count": 20,
     "metadata": {},
     "output_type": "execute_result"
    }
   ],
   "source": [
    "test_response.questions"
   ]
  },
  {
   "cell_type": "markdown",
   "metadata": {},
   "source": [
    "Test answer writer"
   ]
  },
  {
   "cell_type": "code",
   "execution_count": 23,
   "metadata": {},
   "outputs": [],
   "source": [
    "answer_writer_prompt = answer_writer_template.format(topic=topic, question=test_response.questions[0].question)\n",
    "test_answer = answer_writer_llm.invoke([system_message] + [answer_writer_prompt])"
   ]
  },
  {
   "cell_type": "code",
   "execution_count": 28,
   "metadata": {},
   "outputs": [
    {
     "name": "stdout",
     "output_type": "stream",
     "text": [
      "The current trends in the adoption of AI technologies in the job market are multifaceted and indicate a significant shift towards increased integration and demand for AI skills. Here are some key points highlighting these trends:\n",
      "\n",
      "## Growing Demand for AI Skills\n",
      "There is a pronounced increase in the demand for workers with AI skills across various industries. Both tech and non-tech firms are driving this demand, with a particular focus on roles such as machine-learning specialists, natural language processing experts, and those who can implement and integrate AI tools into business operations[1][2][5].\n",
      "\n",
      "## Rebound in Tech Industry Hiring\n",
      "After several slow years, the tech industry is showing signs of a hiring rebound, with AI-related jobs being a significant part of this resurgence. This includes not only roles in AI development but also positions that involve the implementation and management of AI tools within existing workflows[1][2].\n",
      "\n",
      "## Increased Adoption Across Sectors\n",
      "AI adoptio\n"
     ]
    }
   ],
   "source": [
    "print(test_answer.content[:1000])"
   ]
  },
  {
   "cell_type": "code",
   "execution_count": null,
   "metadata": {},
   "outputs": [],
   "source": []
  },
  {
   "cell_type": "code",
   "execution_count": null,
   "metadata": {},
   "outputs": [],
   "source": []
  }
 ],
 "metadata": {
  "kernelspec": {
   "display_name": "venv",
   "language": "python",
   "name": "python3"
  },
  "language_info": {
   "codemirror_mode": {
    "name": "ipython",
    "version": 3
   },
   "file_extension": ".py",
   "mimetype": "text/x-python",
   "name": "python",
   "nbconvert_exporter": "python",
   "pygments_lexer": "ipython3",
   "version": "3.13.1"
  }
 },
 "nbformat": 4,
 "nbformat_minor": 2
}
