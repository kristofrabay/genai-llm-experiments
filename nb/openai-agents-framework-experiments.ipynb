{
 "cells": [
  {
   "cell_type": "markdown",
   "metadata": {},
   "source": [
    "## Testing OpenAI's new Responses API and Agents SDK\n",
    "\n",
    "OpenAI announced on March 11th, 2025 new Responses API and Agents SDK (https://openai.com/index/new-tools-for-building-agents/) \n",
    "\n",
    "This notebook aims to test these new products"
   ]
  },
  {
   "cell_type": "code",
   "execution_count": 137,
   "metadata": {},
   "outputs": [],
   "source": [
    "from dotenv import load_dotenv\n",
    "load_dotenv()\n",
    "\n",
    "from openai import OpenAI\n",
    "client = OpenAI()\n",
    "\n",
    "from pydantic import BaseModel, Field\n",
    "import json\n",
    "\n",
    "from IPython.display import display, Markdown\n",
    "\n",
    "#prev openai version: 1.59.8\n",
    "#new openai version: 1.66.2"
   ]
  },
  {
   "cell_type": "markdown",
   "metadata": {},
   "source": [
    "### 1. Responses API"
   ]
  },
  {
   "cell_type": "markdown",
   "metadata": {},
   "source": [
    "Syntax"
   ]
  },
  {
   "cell_type": "code",
   "execution_count": 8,
   "metadata": {},
   "outputs": [],
   "source": [
    "MODEL_NAME = \"gpt-4o\"\n",
    "instruction = \"Write a one-sentence bedtime story about a unicorn.\"\n",
    "\n",
    "### ChatCompletions\n",
    "\n",
    "completion = client.chat.completions.create(\n",
    "    model=MODEL_NAME,\n",
    "    temperature=0.0,\n",
    "    messages=[\n",
    "        {\n",
    "            \"role\": \"user\",\n",
    "            \"content\": instruction\n",
    "        }\n",
    "    ]\n",
    ")\n",
    "\n",
    "### Responses API\n",
    "\n",
    "response = client.responses.create(\n",
    "    model=MODEL_NAME,\n",
    "    temperature=0.0,\n",
    "    input=[\n",
    "        {\n",
    "            \"role\": \"user\",\n",
    "            \"content\": instruction\n",
    "        }\n",
    "    ]\n",
    ")"
   ]
  },
  {
   "cell_type": "code",
   "execution_count": 9,
   "metadata": {},
   "outputs": [
    {
     "name": "stdout",
     "output_type": "stream",
     "text": [
      "ChatCompletion response: \n",
      "In a moonlit meadow, a gentle unicorn named Luna sprinkled stardust with her shimmering horn, lulling the entire forest into a peaceful, enchanted slumber.\n",
      "------------------------------------------------------------\n",
      "Responses response: \n",
      "Under the shimmering moonlight, Luna the unicorn gently trotted through the enchanted forest, her mane sparkling with stardust, as she whispered dreams of magic and wonder to all the sleeping creatures.\n"
     ]
    }
   ],
   "source": [
    "print(f'ChatCompletion response: \\n{completion.choices[0].message.content}')\n",
    "print('---' * 20)\n",
    "print(f'Responses response: \\n{response.output_text}')"
   ]
  },
  {
   "cell_type": "code",
   "execution_count": 18,
   "metadata": {},
   "outputs": [
    {
     "data": {
      "text/plain": [
       "True"
      ]
     },
     "execution_count": 18,
     "metadata": {},
     "output_type": "execute_result"
    }
   ],
   "source": [
    "response.output_text == response.output[0].content[0].text"
   ]
  },
  {
   "cell_type": "code",
   "execution_count": null,
   "metadata": {},
   "outputs": [],
   "source": []
  },
  {
   "cell_type": "markdown",
   "metadata": {},
   "source": [
    "Explore new Responses output object"
   ]
  },
  {
   "cell_type": "code",
   "execution_count": 37,
   "metadata": {},
   "outputs": [],
   "source": [
    "MODEL_NAME = \"o3-mini\"\n",
    "\n",
    "system_message = \"You are a witty joke writer. You have no political correctness filter. You're number one goal is to tell jokes without being afraid of offending anyone\"\n",
    "\n",
    "topic = \"us-canada geopolitical relations\"\n",
    "\n",
    "response = client.responses.create(\n",
    "    model=MODEL_NAME,\n",
    "    temperature=None if 'o3' in MODEL_NAME or 'o1' in MODEL_NAME else 0.0,\n",
    "    reasoning={\n",
    "        \"effort\": \"high\",\n",
    "        #\"generate_summary\" : \"concise\" # detailed\n",
    "        },\n",
    "    instructions=system_message,\n",
    "    input=[\n",
    "        {\n",
    "            \"role\": \"user\",\n",
    "            \"content\": f\"Given the user's preferred topic, generate a joke. User's topic: {topic}\"\n",
    "        }\n",
    "    ]\n",
    ")"
   ]
  },
  {
   "cell_type": "code",
   "execution_count": 38,
   "metadata": {},
   "outputs": [
    {
     "name": "stdout",
     "output_type": "stream",
     "text": [
      "Why did the U.S. call off its plans to invade Canada? Because every time a missile was about to launch, Ottawa simply shouted, \"Sorry, eh?\"—proving that a barrage of polite apologies is the ultimate weapon of mass deterrence!\n"
     ]
    }
   ],
   "source": [
    "print(response.output_text)"
   ]
  },
  {
   "cell_type": "code",
   "execution_count": 49,
   "metadata": {},
   "outputs": [
    {
     "name": "stdout",
     "output_type": "stream",
     "text": [
      "Input tokens: 83\n",
      "Reasoning tokens: 3264\n",
      "Net output tokens: 52\n",
      "Output tokens: 3316\n"
     ]
    }
   ],
   "source": [
    "input_tokens = response.usage.input_tokens\n",
    "output_tokens = response.usage.output_tokens\n",
    "reasoning_tokens = response.usage.output_tokens_details.reasoning_tokens\n",
    "net_output_tokens = output_tokens - reasoning_tokens\n",
    "\n",
    "print(f'Input tokens: {input_tokens}')\n",
    "print(f'Reasoning tokens: {reasoning_tokens}')\n",
    "print(f'Net output tokens: {net_output_tokens}')\n",
    "print(f'Output tokens: {output_tokens}')"
   ]
  },
  {
   "cell_type": "code",
   "execution_count": 51,
   "metadata": {},
   "outputs": [
    {
     "data": {
      "text/plain": [
       "Reasoning(effort='high', generate_summary=None)"
      ]
     },
     "execution_count": 51,
     "metadata": {},
     "output_type": "execute_result"
    }
   ],
   "source": [
    "response.reasoning"
   ]
  },
  {
   "cell_type": "code",
   "execution_count": 52,
   "metadata": {},
   "outputs": [
    {
     "data": {
      "text/plain": [
       "[ResponseReasoningItem(id='rs_67d1cdee27a08192beb956158fb8a02d04bbb1bb73a141e7', summary=[], type='reasoning', status=None),\n",
       " ResponseOutputMessage(id='msg_67d1cdf354348192a050188302163acc04bbb1bb73a141e7', content=[ResponseOutputText(annotations=[], text='Why did the U.S. call off its plans to invade Canada? Because every time a missile was about to launch, Ottawa simply shouted, \"Sorry, eh?\"—proving that a barrage of polite apologies is the ultimate weapon of mass deterrence!', type='output_text')], role='assistant', status='completed', type='message')]"
      ]
     },
     "execution_count": 52,
     "metadata": {},
     "output_type": "execute_result"
    }
   ],
   "source": [
    "response.output"
   ]
  },
  {
   "cell_type": "code",
   "execution_count": 55,
   "metadata": {},
   "outputs": [
    {
     "data": {
      "text/plain": [
       "'Why did the U.S. call off its plans to invade Canada? Because every time a missile was about to launch, Ottawa simply shouted, \"Sorry, eh?\"—proving that a barrage of polite apologies is the ultimate weapon of mass deterrence!'"
      ]
     },
     "execution_count": 55,
     "metadata": {},
     "output_type": "execute_result"
    }
   ],
   "source": [
    "response.output[-1].content[0].text"
   ]
  },
  {
   "cell_type": "code",
   "execution_count": null,
   "metadata": {},
   "outputs": [],
   "source": []
  },
  {
   "cell_type": "markdown",
   "metadata": {},
   "source": [
    "Structured output\n",
    "\n",
    "The direct BaseModel passing is still in beta, so will convert class to JSON schema\n",
    "\n",
    "https://platform.openai.com/docs/guides/structured-outputs?api-mode=responses&example=structured-data"
   ]
  },
  {
   "cell_type": "code",
   "execution_count": 84,
   "metadata": {},
   "outputs": [],
   "source": [
    "class Joke(BaseModel):\n",
    "    \"\"\"A joke about the user's preferred topic\"\"\"\n",
    "\n",
    "    joke: str = Field(description=\"A joke about the user's preferred topic\")\n",
    "    explanation: str = Field(description=\"An explanation of the joke\")\n",
    "\n",
    "    @classmethod\n",
    "    def get_name(cls):\n",
    "        return \"joke\""
   ]
  },
  {
   "cell_type": "code",
   "execution_count": 87,
   "metadata": {},
   "outputs": [],
   "source": [
    "structured_format = {\n",
    "    \"format\": {\n",
    "        \"type\": \"json_schema\",\n",
    "        \"name\": Joke.get_name(),\n",
    "        \"schema\": {\n",
    "            **Joke.model_json_schema(),\n",
    "            \"additionalProperties\": False\n",
    "        },\n",
    "        \"strict\": True\n",
    "    }\n",
    "}"
   ]
  },
  {
   "cell_type": "code",
   "execution_count": null,
   "metadata": {},
   "outputs": [],
   "source": [
    "response = client.responses.create(\n",
    "    model=MODEL_NAME,\n",
    "    temperature=None if 'o3' in MODEL_NAME or 'o1' in MODEL_NAME else 0.0,\n",
    "    reasoning={\n",
    "        \"effort\": \"high\",\n",
    "        #\"generate_summary\" : \"concise\" # detailed\n",
    "        },\n",
    "    instructions=system_message,\n",
    "    input=[\n",
    "        {\n",
    "            \"role\": \"user\",\n",
    "            \"content\": f\"Given the user's preferred topic, generate a joke. User's topic: {topic}\"\n",
    "        }\n",
    "    ],\n",
    "    text=structured_format\n",
    ")"
   ]
  },
  {
   "cell_type": "code",
   "execution_count": 94,
   "metadata": {},
   "outputs": [
    {
     "name": "stdout",
     "output_type": "stream",
     "text": [
      "{'joke': \"At the latest summit, the US declared, 'We need a wall to keep out our problems,' while Canada just smiled and said, 'Sorry, eh? How about we resolve them over some hockey and maple syrup instead?'\", 'explanation': 'This joke plays on the classic stereotypes: the US with its bold, sometimes confrontational policies (like building walls), and Canada with its trademark politeness and laid-back charm, suggesting that even geopolitical disputes could be smoothed over with a friendly game of hockey and a taste of maple syrup.'}\n"
     ]
    }
   ],
   "source": [
    "try:\n",
    "    response_dict = json.loads(response.output[-1].content[0].text)\n",
    "except json.JSONDecodeError as e:\n",
    "    response_dict = response.output[-1].content[0].text\n",
    "\n",
    "print(response_dict)"
   ]
  },
  {
   "cell_type": "code",
   "execution_count": null,
   "metadata": {},
   "outputs": [],
   "source": []
  },
  {
   "cell_type": "code",
   "execution_count": null,
   "metadata": {},
   "outputs": [],
   "source": []
  },
  {
   "cell_type": "code",
   "execution_count": null,
   "metadata": {},
   "outputs": [],
   "source": []
  },
  {
   "cell_type": "code",
   "execution_count": null,
   "metadata": {},
   "outputs": [],
   "source": []
  },
  {
   "cell_type": "markdown",
   "metadata": {},
   "source": [
    "#### Web search tool\n",
    "\n",
    "https://platform.openai.com/docs/guides/tools-web-search?api-mode=responses\n",
    "\n",
    "Available values for `search_context_size`:\n",
    "\n",
    "- high: Most comprehensive context, highest cost, slower response.\n",
    "- medium (default): Balanced context, cost, and latency.\n",
    "- low: Least context, lowest cost, fastest response, but potentially lower answer quality.\n",
    "\n",
    "Bots: https://platform.openai.com/docs/bots"
   ]
  },
  {
   "cell_type": "code",
   "execution_count": 105,
   "metadata": {},
   "outputs": [],
   "source": [
    "MODEL_NAME = 'gpt-4o'\n",
    "\n",
    "response = client.responses.create(\n",
    "    model=MODEL_NAME,\n",
    "    temperature=None if 'o3' in MODEL_NAME or 'o1' in MODEL_NAME else 0.0,\n",
    "    instructions=system_message,\n",
    "    input=[\n",
    "        {\n",
    "            \"role\": \"user\",\n",
    "            \"content\": f\"Given the user's preferred topic, generate a joke. User's topic: {topic}. Make sure your knowledge is up to date about the topic and cite your sources!\"\n",
    "        }\n",
    "    ],\n",
    "    tools=[{\n",
    "        \"type\": \"web_search_preview\",\n",
    "        \"search_context_size\": \"low\",\n",
    "    }],\n",
    ")"
   ]
  },
  {
   "cell_type": "code",
   "execution_count": 106,
   "metadata": {},
   "outputs": [
    {
     "data": {
      "text/plain": [
       "[ResponseFunctionWebSearch(id='ws_67d2cbd4a52c8192a0f61e3ac6b8e4a50c3c7808f881c0ef', status='completed', type='web_search_call'),\n",
       " ResponseOutputMessage(id='msg_67d2cbd81fd48192a4220fa8f2dcdc760c3c7808f881c0ef', content=[ResponseOutputText(annotations=[AnnotationURLCitation(end_index=319, start_index=226, title=\"Canada's incoming prime minister says he'll meet Trump if Canadian sovereignty is respected\", type='url_citation', url='https://apnews.com/article/413e1d8ab73b059f6bf92aa79e40d5a2?utm_source=openai')], text=\"Why did the United States propose making Canada the 51st state?\\n\\nBecause they figured, if you're going to impose tariffs on your neighbor's steel and aluminum, you might as well go all the way and annex their maple syrup too! ([apnews.com](https://apnews.com/article/413e1d8ab73b059f6bf92aa79e40d5a2?utm_source=openai))\\n\\n*Note: This joke references recent tensions between the U.S. and Canada over tariffs and President Trump's remarks about Canada becoming the 51st state.* \", type='output_text')], role='assistant', status='completed', type='message')]"
      ]
     },
     "execution_count": 106,
     "metadata": {},
     "output_type": "execute_result"
    }
   ],
   "source": [
    "response.output"
   ]
  },
  {
   "cell_type": "code",
   "execution_count": 107,
   "metadata": {},
   "outputs": [
    {
     "data": {
      "text/plain": [
       "{'id': 'ws_67d2cbd4a52c8192a0f61e3ac6b8e4a50c3c7808f881c0ef',\n",
       " 'status': 'completed',\n",
       " 'type': 'web_search_call'}"
      ]
     },
     "execution_count": 107,
     "metadata": {},
     "output_type": "execute_result"
    }
   ],
   "source": [
    "response.output[0].model_dump()"
   ]
  },
  {
   "cell_type": "code",
   "execution_count": 108,
   "metadata": {},
   "outputs": [
    {
     "data": {
      "text/plain": [
       "{'id': 'msg_67d2cbd81fd48192a4220fa8f2dcdc760c3c7808f881c0ef',\n",
       " 'content': [{'annotations': [{'end_index': 319,\n",
       "     'start_index': 226,\n",
       "     'title': \"Canada's incoming prime minister says he'll meet Trump if Canadian sovereignty is respected\",\n",
       "     'type': 'url_citation',\n",
       "     'url': 'https://apnews.com/article/413e1d8ab73b059f6bf92aa79e40d5a2?utm_source=openai'}],\n",
       "   'text': \"Why did the United States propose making Canada the 51st state?\\n\\nBecause they figured, if you're going to impose tariffs on your neighbor's steel and aluminum, you might as well go all the way and annex their maple syrup too! ([apnews.com](https://apnews.com/article/413e1d8ab73b059f6bf92aa79e40d5a2?utm_source=openai))\\n\\n*Note: This joke references recent tensions between the U.S. and Canada over tariffs and President Trump's remarks about Canada becoming the 51st state.* \",\n",
       "   'type': 'output_text'}],\n",
       " 'role': 'assistant',\n",
       " 'status': 'completed',\n",
       " 'type': 'message'}"
      ]
     },
     "execution_count": 108,
     "metadata": {},
     "output_type": "execute_result"
    }
   ],
   "source": [
    "response.output[-1].model_dump()"
   ]
  },
  {
   "cell_type": "code",
   "execution_count": 109,
   "metadata": {},
   "outputs": [],
   "source": [
    "### save output\n",
    "\n",
    "output = {\n",
    "   \"id\":\"msg_67d2cbd81fd48192a4220fa8f2dcdc760c3c7808f881c0ef\",\n",
    "   \"content\":[\n",
    "      {\n",
    "         \"annotations\":[\n",
    "            {\n",
    "               \"end_index\":319,\n",
    "               \"start_index\":226,\n",
    "               \"title\":\"Canada's incoming prime minister says he'll meet Trump if Canadian sovereignty is respected\",\n",
    "               \"type\":\"url_citation\",\n",
    "               \"url\":\"https://apnews.com/article/413e1d8ab73b059f6bf92aa79e40d5a2?utm_source=openai\"\n",
    "            }\n",
    "         ],\n",
    "         \"text\":\"Why did the United States propose making Canada the 51st state?\\n\\nBecause they figured, if you're going to impose tariffs on your neighbor's steel and aluminum, you might as well go all the way and annex their maple syrup too! ([apnews.com](https://apnews.com/article/413e1d8ab73b059f6bf92aa79e40d5a2?utm_source=openai))\\n\\n*Note: This joke references recent tensions between the U.S. and Canada over tariffs and President Trump's remarks about Canada becoming the 51st state.* \",\n",
    "         \"type\":\"output_text\"\n",
    "      }\n",
    "   ],\n",
    "   \"role\":\"assistant\",\n",
    "   \"status\":\"completed\",\n",
    "   \"type\":\"message\"\n",
    "}"
   ]
  },
  {
   "cell_type": "code",
   "execution_count": 111,
   "metadata": {},
   "outputs": [
    {
     "data": {
      "text/plain": [
       "{'annotations': [{'end_index': 319,\n",
       "   'start_index': 226,\n",
       "   'title': \"Canada's incoming prime minister says he'll meet Trump if Canadian sovereignty is respected\",\n",
       "   'type': 'url_citation',\n",
       "   'url': 'https://apnews.com/article/413e1d8ab73b059f6bf92aa79e40d5a2?utm_source=openai'}],\n",
       " 'text': \"Why did the United States propose making Canada the 51st state?\\n\\nBecause they figured, if you're going to impose tariffs on your neighbor's steel and aluminum, you might as well go all the way and annex their maple syrup too! ([apnews.com](https://apnews.com/article/413e1d8ab73b059f6bf92aa79e40d5a2?utm_source=openai))\\n\\n*Note: This joke references recent tensions between the U.S. and Canada over tariffs and President Trump's remarks about Canada becoming the 51st state.* \",\n",
       " 'type': 'output_text'}"
      ]
     },
     "execution_count": 111,
     "metadata": {},
     "output_type": "execute_result"
    }
   ],
   "source": [
    "output['content'][0]"
   ]
  },
  {
   "cell_type": "code",
   "execution_count": 113,
   "metadata": {},
   "outputs": [
    {
     "name": "stdout",
     "output_type": "stream",
     "text": [
      "Why did the United States propose making Canada the 51st state?\n",
      "\n",
      "Because they figured, if you're going to impose tariffs on your neighbor's steel and aluminum, you might as well go all the way and annex their maple syrup too! ([apnews.com](https://apnews.com/article/413e1d8ab73b059f6bf92aa79e40d5a2?utm_source=openai))\n",
      "\n",
      "*Note: This joke references recent tensions between the U.S. and Canada over tariffs and President Trump's remarks about Canada becoming the 51st state.* \n"
     ]
    }
   ],
   "source": [
    "print(output['content'][0]['text'])"
   ]
  },
  {
   "cell_type": "code",
   "execution_count": 114,
   "metadata": {},
   "outputs": [
    {
     "name": "stdout",
     "output_type": "stream",
     "text": [
      "([apnews.com](https://apnews.com/article/413e1d8ab73b059f6bf92aa79e40d5a2?utm_source=openai))\n"
     ]
    }
   ],
   "source": [
    "print(output['content'][0]['text'][226:319])"
   ]
  },
  {
   "cell_type": "code",
   "execution_count": null,
   "metadata": {},
   "outputs": [],
   "source": []
  },
  {
   "cell_type": "markdown",
   "metadata": {},
   "source": [
    "News search and summarization"
   ]
  },
  {
   "cell_type": "code",
   "execution_count": 122,
   "metadata": {},
   "outputs": [],
   "source": [
    "MODEL_NAME = 'gpt-4o'\n",
    "\n",
    "sys = \"Your job is to keep users up to date with the US stock market news. You are a professional market analyst.\"\n",
    "\n",
    "usr = \"The US stock market has been dropping for a while. I'd like to know the underlying reasoning behind and for how many more weeks / months we expect downward trends.\"\n",
    "\n",
    "response = client.responses.create(\n",
    "    model=MODEL_NAME,\n",
    "    temperature=None if 'o3' in MODEL_NAME or 'o1' in MODEL_NAME else 0.0,\n",
    "    instructions=sys,\n",
    "    input=[\n",
    "        {\n",
    "            \"role\": \"user\",\n",
    "            \"content\": usr\n",
    "        }\n",
    "    ],\n",
    "    tools=[{\n",
    "        \"type\": \"web_search_preview\",\n",
    "        \"search_context_size\": \"high\",\n",
    "    }],\n",
    ")"
   ]
  },
  {
   "cell_type": "code",
   "execution_count": 123,
   "metadata": {},
   "outputs": [
    {
     "data": {
      "text/plain": [
       "[ResponseFunctionWebSearch(id='ws_67d2d0e6f7188192852eacf5cd1fc6db0a06afc8514ea352', status='completed', type='web_search_call'),\n",
       " ResponseOutputMessage(id='msg_67d2d0e9c2bc8192aad8186da12afb940a06afc8514ea352', content=[ResponseOutputText(annotations=[AnnotationURLCitation(end_index=601, start_index=452, title='Corporate gloom deepens as new Trump tariffs take effect', type='url_citation', url='https://www.reuters.com/business/retail-consumer/corporate-gloom-deepens-new-trump-tariffs-take-effect-2025-03-12/?utm_source=openai'), AnnotationURLCitation(end_index=1070, start_index=916, title='Futures slip as government funding bill deadline looms, growth fears persist', type='url_citation', url='https://www.reuters.com/markets/us/futures-slip-government-funding-bill-deadline-looms-growth-fears-persist-2025-03-13/?utm_source=openai'), AnnotationURLCitation(end_index=1600, start_index=1451, title='Corporate gloom deepens as new Trump tariffs take effect', type='url_citation', url='https://www.reuters.com/business/retail-consumer/corporate-gloom-deepens-new-trump-tariffs-take-effect-2025-03-12/?utm_source=openai'), AnnotationURLCitation(end_index=2139, start_index=1902, title='Ominous market signals show more trouble could await US stocks', type='url_citation', url='https://www.reuters.com/markets/us/ominous-market-signals-show-more-trouble-could-await-us-stocks-2025-03-12/?utm_source=openai'), AnnotationURLCitation(end_index=2139, start_index=1902, title=\"Introducing the 'Maleficent 7'\", type='url_citation', url='https://www.ft.com/content/d8772ea6-ce65-47ba-bd3b-31758cf7c135?utm_source=openai'), AnnotationURLCitation(end_index=2509, start_index=2376, title='Goldman Sachs lowers S&P 500 year-end target to 6,200', type='url_citation', url='https://www.reuters.com/markets/us/goldman-sachs-cuts-sp-500-2025-year-end-target-6200-2025-03-12/?utm_source=openai'), AnnotationURLCitation(end_index=2852, start_index=2718, title='Stifel expects S&P 500 to peak in early 2025 before falling', type='url_citation', url='https://www.reuters.com/markets/us/stifel-expects-sp-500-peak-early-2025-before-falling-2024-12-12/?utm_source=openai'), AnnotationURLCitation(end_index=3389, start_index=3197, title='Corporate gloom deepens as new Trump tariffs take effect', type='url_citation', url='https://www.reuters.com/business/retail-consumer/corporate-gloom-deepens-new-trump-tariffs-take-effect-2025-03-12/?utm_source=openai'), AnnotationURLCitation(end_index=3609, start_index=3392, title='Futures slip as government funding bill deadline looms, growth fears persist', type='url_citation', url='https://www.reuters.com/markets/us/futures-slip-government-funding-bill-deadline-looms-growth-fears-persist-2025-03-13/?utm_source=openai'), AnnotationURLCitation(end_index=3805, start_index=3612, title='Ominous market signals show more trouble could await US stocks', type='url_citation', url='https://www.reuters.com/markets/us/ominous-market-signals-show-more-trouble-could-await-us-stocks-2025-03-12/?utm_source=openai')], text='The recent downturn in the U.S. stock market can be attributed to several key factors:\\n\\n1. **Trade Policies and Tariffs**: President Donald Trump\\'s administration has implemented new tariffs on steel and aluminum imports, leading to increased costs for businesses and concerns about inflation. This has particularly affected industries like automotive and manufacturing, with companies such as Porsche considering price hikes to offset tariff impacts. ([reuters.com](https://www.reuters.com/business/retail-consumer/corporate-gloom-deepens-new-trump-tariffs-take-effect-2025-03-12/?utm_source=openai))\\n\\n2. **Government Funding Uncertainty**: Investors are apprehensive about a potential government shutdown due to delays in passing a funding bill. The Senate is currently focused on a stopgap measure to prevent a partial shutdown, which could be extended until April 11. This uncertainty adds to market volatility. ([reuters.com](https://www.reuters.com/markets/us/futures-slip-government-funding-bill-deadline-looms-growth-fears-persist-2025-03-13/?utm_source=openai))\\n\\n3. **Economic Indicators and Recession Fears**: Despite a slight easing in inflation, the escalation of trade wars and policy unpredictability have heightened fears of an economic slowdown or recession. Analysts have noted that continuous geopolitical shifts make long-term business planning challenging, with over 900 major U.S. companies discussing tariffs in future outlooks. ([reuters.com](https://www.reuters.com/business/retail-consumer/corporate-gloom-deepens-new-trump-tariffs-take-effect-2025-03-12/?utm_source=openai))\\n\\n4. **Market Technicals and Valuations**: The S&P 500 has fallen below critical trend lines, and major stocks like Nvidia and Tesla have seen significant declines. The \"Magnificent 7\" tech stocks have been rebranded as the \"Maleficent 7\" due to their substantial contributions to the market downturn. ([reuters.com](https://www.reuters.com/markets/us/ominous-market-signals-show-more-trouble-could-await-us-stocks-2025-03-12/?utm_source=openai), [ft.com](https://www.ft.com/content/d8772ea6-ce65-47ba-bd3b-31758cf7c135?utm_source=openai))\\n\\nAs for the duration of this downward trend, forecasts vary:\\n\\n- **Goldman Sachs** has reduced its year-end target for the S&P 500 Index in 2025 from 6,500 to 6,200, citing increased policy uncertainty and concerns over economic growth. ([reuters.com](https://www.reuters.com/markets/us/goldman-sachs-cuts-sp-500-2025-year-end-target-6200-2025-03-12/?utm_source=openai))\\n\\n- **Stifel** anticipates that the S&P 500 will peak in early 2025 before declining by 10% to 15% in the latter half of the year, attributing this forecast to slowed economic growth and persistent inflation. ([reuters.com](https://www.reuters.com/markets/us/stifel-expects-sp-500-peak-early-2025-before-falling-2024-12-12/?utm_source=openai))\\n\\nGiven these projections, the market may experience continued volatility over the next several months. However, it\\'s important to note that market conditions are influenced by a complex interplay of factors, and predictions can change as new information becomes available.\\n\\n\\n## Recent Developments in U.S. Stock Market and Economic Policies:\\n- [Corporate gloom deepens as new Trump tariffs take effect](https://www.reuters.com/business/retail-consumer/corporate-gloom-deepens-new-trump-tariffs-take-effect-2025-03-12/?utm_source=openai)\\n- [Futures slip as government funding bill deadline looms, growth fears persist](https://www.reuters.com/markets/us/futures-slip-government-funding-bill-deadline-looms-growth-fears-persist-2025-03-13/?utm_source=openai)\\n- [Ominous market signals show more trouble could await US stocks](https://www.reuters.com/markets/us/ominous-market-signals-show-more-trouble-could-await-us-stocks-2025-03-12/?utm_source=openai) ', type='output_text')], role='assistant', status='completed', type='message')]"
      ]
     },
     "execution_count": 123,
     "metadata": {},
     "output_type": "execute_result"
    }
   ],
   "source": [
    "response.output"
   ]
  },
  {
   "cell_type": "code",
   "execution_count": 129,
   "metadata": {},
   "outputs": [
    {
     "data": {
      "text/plain": [
       "{'annotations': [{'end_index': 601,\n",
       "   'start_index': 452,\n",
       "   'title': 'Corporate gloom deepens as new Trump tariffs take effect',\n",
       "   'type': 'url_citation',\n",
       "   'url': 'https://www.reuters.com/business/retail-consumer/corporate-gloom-deepens-new-trump-tariffs-take-effect-2025-03-12/?utm_source=openai'},\n",
       "  {'end_index': 1070,\n",
       "   'start_index': 916,\n",
       "   'title': 'Futures slip as government funding bill deadline looms, growth fears persist',\n",
       "   'type': 'url_citation',\n",
       "   'url': 'https://www.reuters.com/markets/us/futures-slip-government-funding-bill-deadline-looms-growth-fears-persist-2025-03-13/?utm_source=openai'},\n",
       "  {'end_index': 1600,\n",
       "   'start_index': 1451,\n",
       "   'title': 'Corporate gloom deepens as new Trump tariffs take effect',\n",
       "   'type': 'url_citation',\n",
       "   'url': 'https://www.reuters.com/business/retail-consumer/corporate-gloom-deepens-new-trump-tariffs-take-effect-2025-03-12/?utm_source=openai'},\n",
       "  {'end_index': 2139,\n",
       "   'start_index': 1902,\n",
       "   'title': 'Ominous market signals show more trouble could await US stocks',\n",
       "   'type': 'url_citation',\n",
       "   'url': 'https://www.reuters.com/markets/us/ominous-market-signals-show-more-trouble-could-await-us-stocks-2025-03-12/?utm_source=openai'},\n",
       "  {'end_index': 2139,\n",
       "   'start_index': 1902,\n",
       "   'title': \"Introducing the 'Maleficent 7'\",\n",
       "   'type': 'url_citation',\n",
       "   'url': 'https://www.ft.com/content/d8772ea6-ce65-47ba-bd3b-31758cf7c135?utm_source=openai'},\n",
       "  {'end_index': 2509,\n",
       "   'start_index': 2376,\n",
       "   'title': 'Goldman Sachs lowers S&P 500 year-end target to 6,200',\n",
       "   'type': 'url_citation',\n",
       "   'url': 'https://www.reuters.com/markets/us/goldman-sachs-cuts-sp-500-2025-year-end-target-6200-2025-03-12/?utm_source=openai'},\n",
       "  {'end_index': 2852,\n",
       "   'start_index': 2718,\n",
       "   'title': 'Stifel expects S&P 500 to peak in early 2025 before falling',\n",
       "   'type': 'url_citation',\n",
       "   'url': 'https://www.reuters.com/markets/us/stifel-expects-sp-500-peak-early-2025-before-falling-2024-12-12/?utm_source=openai'},\n",
       "  {'end_index': 3389,\n",
       "   'start_index': 3197,\n",
       "   'title': 'Corporate gloom deepens as new Trump tariffs take effect',\n",
       "   'type': 'url_citation',\n",
       "   'url': 'https://www.reuters.com/business/retail-consumer/corporate-gloom-deepens-new-trump-tariffs-take-effect-2025-03-12/?utm_source=openai'},\n",
       "  {'end_index': 3609,\n",
       "   'start_index': 3392,\n",
       "   'title': 'Futures slip as government funding bill deadline looms, growth fears persist',\n",
       "   'type': 'url_citation',\n",
       "   'url': 'https://www.reuters.com/markets/us/futures-slip-government-funding-bill-deadline-looms-growth-fears-persist-2025-03-13/?utm_source=openai'},\n",
       "  {'end_index': 3805,\n",
       "   'start_index': 3612,\n",
       "   'title': 'Ominous market signals show more trouble could await US stocks',\n",
       "   'type': 'url_citation',\n",
       "   'url': 'https://www.reuters.com/markets/us/ominous-market-signals-show-more-trouble-could-await-us-stocks-2025-03-12/?utm_source=openai'}],\n",
       " 'text': 'The recent downturn in the U.S. stock market can be attributed to several key factors:\\n\\n1. **Trade Policies and Tariffs**: President Donald Trump\\'s administration has implemented new tariffs on steel and aluminum imports, leading to increased costs for businesses and concerns about inflation. This has particularly affected industries like automotive and manufacturing, with companies such as Porsche considering price hikes to offset tariff impacts. ([reuters.com](https://www.reuters.com/business/retail-consumer/corporate-gloom-deepens-new-trump-tariffs-take-effect-2025-03-12/?utm_source=openai))\\n\\n2. **Government Funding Uncertainty**: Investors are apprehensive about a potential government shutdown due to delays in passing a funding bill. The Senate is currently focused on a stopgap measure to prevent a partial shutdown, which could be extended until April 11. This uncertainty adds to market volatility. ([reuters.com](https://www.reuters.com/markets/us/futures-slip-government-funding-bill-deadline-looms-growth-fears-persist-2025-03-13/?utm_source=openai))\\n\\n3. **Economic Indicators and Recession Fears**: Despite a slight easing in inflation, the escalation of trade wars and policy unpredictability have heightened fears of an economic slowdown or recession. Analysts have noted that continuous geopolitical shifts make long-term business planning challenging, with over 900 major U.S. companies discussing tariffs in future outlooks. ([reuters.com](https://www.reuters.com/business/retail-consumer/corporate-gloom-deepens-new-trump-tariffs-take-effect-2025-03-12/?utm_source=openai))\\n\\n4. **Market Technicals and Valuations**: The S&P 500 has fallen below critical trend lines, and major stocks like Nvidia and Tesla have seen significant declines. The \"Magnificent 7\" tech stocks have been rebranded as the \"Maleficent 7\" due to their substantial contributions to the market downturn. ([reuters.com](https://www.reuters.com/markets/us/ominous-market-signals-show-more-trouble-could-await-us-stocks-2025-03-12/?utm_source=openai), [ft.com](https://www.ft.com/content/d8772ea6-ce65-47ba-bd3b-31758cf7c135?utm_source=openai))\\n\\nAs for the duration of this downward trend, forecasts vary:\\n\\n- **Goldman Sachs** has reduced its year-end target for the S&P 500 Index in 2025 from 6,500 to 6,200, citing increased policy uncertainty and concerns over economic growth. ([reuters.com](https://www.reuters.com/markets/us/goldman-sachs-cuts-sp-500-2025-year-end-target-6200-2025-03-12/?utm_source=openai))\\n\\n- **Stifel** anticipates that the S&P 500 will peak in early 2025 before declining by 10% to 15% in the latter half of the year, attributing this forecast to slowed economic growth and persistent inflation. ([reuters.com](https://www.reuters.com/markets/us/stifel-expects-sp-500-peak-early-2025-before-falling-2024-12-12/?utm_source=openai))\\n\\nGiven these projections, the market may experience continued volatility over the next several months. However, it\\'s important to note that market conditions are influenced by a complex interplay of factors, and predictions can change as new information becomes available.\\n\\n\\n## Recent Developments in U.S. Stock Market and Economic Policies:\\n- [Corporate gloom deepens as new Trump tariffs take effect](https://www.reuters.com/business/retail-consumer/corporate-gloom-deepens-new-trump-tariffs-take-effect-2025-03-12/?utm_source=openai)\\n- [Futures slip as government funding bill deadline looms, growth fears persist](https://www.reuters.com/markets/us/futures-slip-government-funding-bill-deadline-looms-growth-fears-persist-2025-03-13/?utm_source=openai)\\n- [Ominous market signals show more trouble could await US stocks](https://www.reuters.com/markets/us/ominous-market-signals-show-more-trouble-could-await-us-stocks-2025-03-12/?utm_source=openai) ',\n",
       " 'type': 'output_text'}"
      ]
     },
     "execution_count": 129,
     "metadata": {},
     "output_type": "execute_result"
    }
   ],
   "source": [
    "response.output[1].content[0].model_dump()"
   ]
  },
  {
   "cell_type": "code",
   "execution_count": 130,
   "metadata": {},
   "outputs": [
    {
     "data": {
      "text/plain": [
       "[{'end_index': 601,\n",
       "  'start_index': 452,\n",
       "  'title': 'Corporate gloom deepens as new Trump tariffs take effect',\n",
       "  'type': 'url_citation',\n",
       "  'url': 'https://www.reuters.com/business/retail-consumer/corporate-gloom-deepens-new-trump-tariffs-take-effect-2025-03-12/?utm_source=openai'},\n",
       " {'end_index': 1070,\n",
       "  'start_index': 916,\n",
       "  'title': 'Futures slip as government funding bill deadline looms, growth fears persist',\n",
       "  'type': 'url_citation',\n",
       "  'url': 'https://www.reuters.com/markets/us/futures-slip-government-funding-bill-deadline-looms-growth-fears-persist-2025-03-13/?utm_source=openai'},\n",
       " {'end_index': 1600,\n",
       "  'start_index': 1451,\n",
       "  'title': 'Corporate gloom deepens as new Trump tariffs take effect',\n",
       "  'type': 'url_citation',\n",
       "  'url': 'https://www.reuters.com/business/retail-consumer/corporate-gloom-deepens-new-trump-tariffs-take-effect-2025-03-12/?utm_source=openai'},\n",
       " {'end_index': 2139,\n",
       "  'start_index': 1902,\n",
       "  'title': 'Ominous market signals show more trouble could await US stocks',\n",
       "  'type': 'url_citation',\n",
       "  'url': 'https://www.reuters.com/markets/us/ominous-market-signals-show-more-trouble-could-await-us-stocks-2025-03-12/?utm_source=openai'},\n",
       " {'end_index': 2139,\n",
       "  'start_index': 1902,\n",
       "  'title': \"Introducing the 'Maleficent 7'\",\n",
       "  'type': 'url_citation',\n",
       "  'url': 'https://www.ft.com/content/d8772ea6-ce65-47ba-bd3b-31758cf7c135?utm_source=openai'},\n",
       " {'end_index': 2509,\n",
       "  'start_index': 2376,\n",
       "  'title': 'Goldman Sachs lowers S&P 500 year-end target to 6,200',\n",
       "  'type': 'url_citation',\n",
       "  'url': 'https://www.reuters.com/markets/us/goldman-sachs-cuts-sp-500-2025-year-end-target-6200-2025-03-12/?utm_source=openai'},\n",
       " {'end_index': 2852,\n",
       "  'start_index': 2718,\n",
       "  'title': 'Stifel expects S&P 500 to peak in early 2025 before falling',\n",
       "  'type': 'url_citation',\n",
       "  'url': 'https://www.reuters.com/markets/us/stifel-expects-sp-500-peak-early-2025-before-falling-2024-12-12/?utm_source=openai'},\n",
       " {'end_index': 3389,\n",
       "  'start_index': 3197,\n",
       "  'title': 'Corporate gloom deepens as new Trump tariffs take effect',\n",
       "  'type': 'url_citation',\n",
       "  'url': 'https://www.reuters.com/business/retail-consumer/corporate-gloom-deepens-new-trump-tariffs-take-effect-2025-03-12/?utm_source=openai'},\n",
       " {'end_index': 3609,\n",
       "  'start_index': 3392,\n",
       "  'title': 'Futures slip as government funding bill deadline looms, growth fears persist',\n",
       "  'type': 'url_citation',\n",
       "  'url': 'https://www.reuters.com/markets/us/futures-slip-government-funding-bill-deadline-looms-growth-fears-persist-2025-03-13/?utm_source=openai'},\n",
       " {'end_index': 3805,\n",
       "  'start_index': 3612,\n",
       "  'title': 'Ominous market signals show more trouble could await US stocks',\n",
       "  'type': 'url_citation',\n",
       "  'url': 'https://www.reuters.com/markets/us/ominous-market-signals-show-more-trouble-could-await-us-stocks-2025-03-12/?utm_source=openai'}]"
      ]
     },
     "execution_count": 130,
     "metadata": {},
     "output_type": "execute_result"
    }
   ],
   "source": [
    "response.output[1].content[0].model_dump()['annotations']"
   ]
  },
  {
   "cell_type": "code",
   "execution_count": 134,
   "metadata": {},
   "outputs": [],
   "source": [
    "def count_unique_titles(citations_list):\n",
    "    # Extract all titles\n",
    "    titles = [citation['title'] for citation in citations_list if 'title' in citation]\n",
    "    \n",
    "    # Count unique titles\n",
    "    unique_titles = set(titles)\n",
    "    unique_count = len(unique_titles)\n",
    "    \n",
    "    # Create a dictionary with counts and URLs for each title\n",
    "    title_info = {}\n",
    "    for citation in citations_list:\n",
    "        if 'title' not in citation:\n",
    "            continue\n",
    "            \n",
    "        title = citation['title']\n",
    "        url = citation.get('url', 'No URL provided')\n",
    "        \n",
    "        if title not in title_info:\n",
    "            title_info[title] = {'count': 1, 'urls': [url]}\n",
    "        else:\n",
    "            title_info[title]['count'] += 1\n",
    "            if url not in title_info[title]['urls']:\n",
    "                title_info[title]['urls'].append(url)\n",
    "    \n",
    "    return unique_count, title_info"
   ]
  },
  {
   "cell_type": "code",
   "execution_count": 133,
   "metadata": {},
   "outputs": [
    {
     "name": "stdout",
     "output_type": "stream",
     "text": [
      "Number of unique titles: 6\n",
      "\n",
      "Title information:\n",
      "\n",
      "- 'Corporate gloom deepens as new Trump tariffs take effect'\n",
      "  Count: 3\n",
      "  URLs:\n",
      "    * https://www.reuters.com/business/retail-consumer/corporate-gloom-deepens-new-trump-tariffs-take-effect-2025-03-12/?utm_source=openai\n",
      "\n",
      "- 'Futures slip as government funding bill deadline looms, growth fears persist'\n",
      "  Count: 2\n",
      "  URLs:\n",
      "    * https://www.reuters.com/markets/us/futures-slip-government-funding-bill-deadline-looms-growth-fears-persist-2025-03-13/?utm_source=openai\n",
      "\n",
      "- 'Ominous market signals show more trouble could await US stocks'\n",
      "  Count: 2\n",
      "  URLs:\n",
      "    * https://www.reuters.com/markets/us/ominous-market-signals-show-more-trouble-could-await-us-stocks-2025-03-12/?utm_source=openai\n",
      "\n",
      "- 'Introducing the 'Maleficent 7''\n",
      "  Count: 1\n",
      "  URLs:\n",
      "    * https://www.ft.com/content/d8772ea6-ce65-47ba-bd3b-31758cf7c135?utm_source=openai\n",
      "\n",
      "- 'Goldman Sachs lowers S&P 500 year-end target to 6,200'\n",
      "  Count: 1\n",
      "  URLs:\n",
      "    * https://www.reuters.com/markets/us/goldman-sachs-cuts-sp-500-2025-year-end-target-6200-2025-03-12/?utm_source=openai\n",
      "\n",
      "- 'Stifel expects S&P 500 to peak in early 2025 before falling'\n",
      "  Count: 1\n",
      "  URLs:\n",
      "    * https://www.reuters.com/markets/us/stifel-expects-sp-500-peak-early-2025-before-falling-2024-12-12/?utm_source=openai\n"
     ]
    }
   ],
   "source": [
    "unique_count, title_info = count_unique_titles(response.output[1].content[0].model_dump()['annotations'])\n",
    "\n",
    "print(f\"Number of unique titles: {unique_count}\")\n",
    "print(\"\\nTitle information:\")\n",
    "for title, info in title_info.items():\n",
    "    print(f\"\\n- '{title}'\")\n",
    "    print(f\"  Count: {info['count']}\")\n",
    "    print(f\"  URLs:\")\n",
    "    for url in info['urls']:\n",
    "        print(f\"    * {url}\")"
   ]
  },
  {
   "cell_type": "code",
   "execution_count": 138,
   "metadata": {},
   "outputs": [
    {
     "data": {
      "text/markdown": [
       "The recent downturn in the U.S. stock market can be attributed to several key factors:\n",
       "\n",
       "1. **Trade Policies and Tariffs**: President Donald Trump's administration has implemented new tariffs on steel and aluminum imports, leading to increased costs for businesses and concerns about inflation. This has particularly affected industries like automotive and manufacturing, with companies such as Porsche considering price hikes to offset tariff impacts. ([reuters.com](https://www.reuters.com/business/retail-consumer/corporate-gloom-deepens-new-trump-tariffs-take-effect-2025-03-12/?utm_source=openai))\n",
       "\n",
       "2. **Government Funding Uncertainty**: Investors are apprehensive about a potential government shutdown due to delays in passing a funding bill. The Senate is currently focused on a stopgap measure to prevent a partial shutdown, which could be extended until April 11. This uncertainty adds to market volatility. ([reuters.com](https://www.reuters.com/markets/us/futures-slip-government-funding-bill-deadline-looms-growth-fears-persist-2025-03-13/?utm_source=openai))\n",
       "\n",
       "3. **Economic Indicators and Recession Fears**: Despite a slight easing in inflation, the escalation of trade wars and policy unpredictability have heightened fears of an economic slowdown or recession. Analysts have noted that continuous geopolitical shifts make long-term business planning challenging, with over 900 major U.S. companies discussing tariffs in future outlooks. ([reuters.com](https://www.reuters.com/business/retail-consumer/corporate-gloom-deepens-new-trump-tariffs-take-effect-2025-03-12/?utm_source=openai))\n",
       "\n",
       "4. **Market Technicals and Valuations**: The S&P 500 has fallen below critical trend lines, and major stocks like Nvidia and Tesla have seen significant declines. The \"Magnificent 7\" tech stocks have been rebranded as the \"Maleficent 7\" due to their substantial contributions to the market downturn. ([reuters.com](https://www.reuters.com/markets/us/ominous-market-signals-show-more-trouble-could-await-us-stocks-2025-03-12/?utm_source=openai), [ft.com](https://www.ft.com/content/d8772ea6-ce65-47ba-bd3b-31758cf7c135?utm_source=openai))\n",
       "\n",
       "As for the duration of this downward trend, forecasts vary:\n",
       "\n",
       "- **Goldman Sachs** has reduced its year-end target for the S&P 500 Index in 2025 from 6,500 to 6,200, citing increased policy uncertainty and concerns over economic growth. ([reuters.com](https://www.reuters.com/markets/us/goldman-sachs-cuts-sp-500-2025-year-end-target-6200-2025-03-12/?utm_source=openai))\n",
       "\n",
       "- **Stifel** anticipates that the S&P 500 will peak in early 2025 before declining by 10% to 15% in the latter half of the year, attributing this forecast to slowed economic growth and persistent inflation. ([reuters.com](https://www.reuters.com/markets/us/stifel-expects-sp-500-peak-early-2025-before-falling-2024-12-12/?utm_source=openai))\n",
       "\n",
       "Given these projections, the market may experience continued volatility over the next several months. However, it's important to note that market conditions are influenced by a complex interplay of factors, and predictions can change as new information becomes available.\n",
       "\n",
       "\n",
       "## Recent Developments in U.S. Stock Market and Economic Policies:\n",
       "- [Corporate gloom deepens as new Trump tariffs take effect](https://www.reuters.com/business/retail-consumer/corporate-gloom-deepens-new-trump-tariffs-take-effect-2025-03-12/?utm_source=openai)\n",
       "- [Futures slip as government funding bill deadline looms, growth fears persist](https://www.reuters.com/markets/us/futures-slip-government-funding-bill-deadline-looms-growth-fears-persist-2025-03-13/?utm_source=openai)\n",
       "- [Ominous market signals show more trouble could await US stocks](https://www.reuters.com/markets/us/ominous-market-signals-show-more-trouble-could-await-us-stocks-2025-03-12/?utm_source=openai) "
      ],
      "text/plain": [
       "<IPython.core.display.Markdown object>"
      ]
     },
     "metadata": {},
     "output_type": "display_data"
    }
   ],
   "source": [
    "display(Markdown(response.output[1].content[0].model_dump()['text']))"
   ]
  },
  {
   "cell_type": "code",
   "execution_count": null,
   "metadata": {},
   "outputs": [],
   "source": []
  },
  {
   "cell_type": "markdown",
   "metadata": {},
   "source": [
    "Web search with the old Chat.Completions API\n",
    "\n",
    "Using `gpt-4o-search-preview` model"
   ]
  },
  {
   "cell_type": "code",
   "execution_count": 144,
   "metadata": {},
   "outputs": [],
   "source": [
    "sys = \"Your job is to keep users up to date with the US stock market news. You are a professional market analyst.\"\n",
    "\n",
    "usr = \"The US stock market has been dropping for a while. I'd like to know the underlying reasoning behind and for how many more weeks / months we expect downward trends.\"\n",
    "\n",
    "r = client.chat.completions.create(\n",
    "    model=\"gpt-4o-search-preview\",\n",
    "    messages=[\n",
    "        {\n",
    "            \"role\": \"system\",\n",
    "            \"content\": sys\n",
    "        },\n",
    "        {\n",
    "            \"role\": \"user\",\n",
    "            \"content\": usr\n",
    "        }\n",
    "    ],\n",
    ")"
   ]
  },
  {
   "cell_type": "code",
   "execution_count": 152,
   "metadata": {},
   "outputs": [
    {
     "data": {
      "text/markdown": [
       "The recent downturn in the U.S. stock market can be attributed to several interrelated factors:\n",
       "\n",
       "1. **Trade Policies and Tariffs**: President Donald Trump's implementation of tariffs on European Union goods has intensified global trade tensions, leading to concerns about potential economic slowdowns. ([reuters.com](https://www.reuters.com/markets/global-markets-trading-day-2025-03-12/?utm_source=openai))\n",
       "\n",
       "2. **Investor Shift to Value Stocks**: Amid market volatility, investors are reallocating funds from growth-oriented stocks, particularly in the technology sector, to value stocks in sectors like banks, energy, and utilities. This shift reflects a move towards stability in uncertain times. ([reuters.com](https://www.reuters.com/markets/us/us-investors-seek-refuge-value-funds-2025-03-12/?utm_source=openai))\n",
       "\n",
       "3. **Hedge Fund De-risking**: Hedge funds have been reducing their equity positions and leverage to mitigate losses during increased market volatility. This de-risking has contributed to downward pressure on stock prices. ([ft.com](https://www.ft.com/content/a642cc9d-5c7c-4254-b6c1-be0bdc6fb4f1?utm_source=openai))\n",
       "\n",
       "4. **Economic Indicators**: Recent data, including an uptick in the U.S. unemployment rate and jobless claims, has renewed fears of a potential recession. Such indicators can negatively impact investor confidence and market performance. ([cbsnews.com](https://www.cbsnews.com/news/why-is-the-stock-market-down-what-should-investors-do/?utm_source=openai))\n",
       "\n",
       "As of March 13, 2025, major indices reflect these trends:\n",
       "\n",
       "- **S&P 500 (SPY)**: Currently at 558.87 USD, up 0.55% from the previous close.\n",
       "\n",
       "- **Dow Jones Industrial Average (DIA)**: At 413.95 USD, down 0.20% from the previous close.\n",
       "\n",
       "- **Nasdaq Composite (QQQ)**: At 476.92 USD, up 1.16% from the previous close.\n",
       "\n",
       "Predicting the exact duration of market downturns is challenging due to the complex interplay of economic policies, global events, and investor sentiment. While some analysts suggest that the market may experience continued volatility in the coming weeks, others believe that the recent de-risking by hedge funds and shifts towards value stocks could stabilize the market sooner. It's essential to monitor ongoing economic indicators and policy developments to gauge the market's trajectory.\n",
       "\n",
       "\n",
       "## Recent Developments in U.S. Stock Market:\n",
       "- [US investors seek refuge in value funds](https://www.reuters.com/markets/us/us-investors-seek-refuge-value-funds-2025-03-12/?utm_source=openai)\n",
       "- [Hedge funds slash bets as Trump's trade war causes 'a lot of pain'](https://www.ft.com/content/a642cc9d-5c7c-4254-b6c1-be0bdc6fb4f1?utm_source=openai)\n",
       "- [Trading Day: Finally, a bounce on Wall Street. But for how long?](https://www.reuters.com/markets/global-markets-trading-day-2025-03-12/?utm_source=openai) "
      ],
      "text/plain": [
       "<IPython.core.display.Markdown object>"
      ]
     },
     "metadata": {},
     "output_type": "display_data"
    }
   ],
   "source": [
    "display(Markdown(r.choices[0].message.content))"
   ]
  },
  {
   "cell_type": "code",
   "execution_count": 160,
   "metadata": {},
   "outputs": [
    {
     "data": {
      "text/plain": [
       "[Annotation(type='url_citation', url_citation=AnnotationURLCitation(end_index=407, start_index=302, title='Trading Day: Finally, a bounce on Wall Street. But for how long?', url='https://www.reuters.com/markets/global-markets-trading-day-2025-03-12/?utm_source=openai')),\n",
       " Annotation(type='url_citation', url_citation=AnnotationURLCitation(end_index=818, start_index=700, title='US investors seek refuge in value funds', url='https://www.reuters.com/markets/us/us-investors-seek-refuge-value-funds-2025-03-12/?utm_source=openai')),\n",
       " Annotation(type='url_citation', url_citation=AnnotationURLCitation(end_index=1135, start_index=1042, title=\"Hedge funds slash bets as Trump's trade war causes 'a lot of pain'\", url='https://www.ft.com/content/a642cc9d-5c7c-4254-b6c1-be0bdc6fb4f1?utm_source=openai')),\n",
       " Annotation(type='url_citation', url_citation=AnnotationURLCitation(end_index=1492, start_index=1374, title='4 reasons the stock market is plunging — and what experts say you should do - CBS News', url='https://www.cbsnews.com/news/why-is-the-stock-market-down-what-should-investors-do/?utm_source=openai')),\n",
       " Annotation(type='url_citation', url_citation=AnnotationURLCitation(end_index=2493, start_index=2349, title='US investors seek refuge in value funds', url='https://www.reuters.com/markets/us/us-investors-seek-refuge-value-funds-2025-03-12/?utm_source=openai')),\n",
       " Annotation(type='url_citation', url_citation=AnnotationURLCitation(end_index=2647, start_index=2496, title=\"Hedge funds slash bets as Trump's trade war causes 'a lot of pain'\", url='https://www.ft.com/content/a642cc9d-5c7c-4254-b6c1-be0bdc6fb4f1?utm_source=openai')),\n",
       " Annotation(type='url_citation', url_citation=AnnotationURLCitation(end_index=2806, start_index=2650, title='Trading Day: Finally, a bounce on Wall Street. But for how long?', url='https://www.reuters.com/markets/global-markets-trading-day-2025-03-12/?utm_source=openai'))]"
      ]
     },
     "execution_count": 160,
     "metadata": {},
     "output_type": "execute_result"
    }
   ],
   "source": [
    "r.choices[0].message.annotations"
   ]
  },
  {
   "cell_type": "code",
   "execution_count": null,
   "metadata": {},
   "outputs": [],
   "source": []
  },
  {
   "cell_type": "markdown",
   "metadata": {},
   "source": [
    "Additional tools\n",
    "\n",
    "Custom tools: define functions and provide as JSON schemas"
   ]
  },
  {
   "cell_type": "code",
   "execution_count": 164,
   "metadata": {},
   "outputs": [],
   "source": [
    "import requests\n",
    "\n",
    "def get_weather(latitude: float, longitude: float):\n",
    "\n",
    "    \"\"\"Get current temperature for provided coordinates in celsius.\"\"\"\n",
    "\n",
    "    response = requests.get(f\"https://api.open-meteo.com/v1/forecast?latitude={latitude}&longitude={longitude}&current=temperature_2m,wind_speed_10m&hourly=temperature_2m,relative_humidity_2m,wind_speed_10m\")\n",
    "    data = response.json()\n",
    "    \n",
    "    return data['current']['temperature_2m']"
   ]
  },
  {
   "cell_type": "code",
   "execution_count": 165,
   "metadata": {},
   "outputs": [
    {
     "name": "stdout",
     "output_type": "stream",
     "text": [
      "Weather data for Budapest is: 12.4 C\n"
     ]
    }
   ],
   "source": [
    "### test on Budapest\n",
    "\n",
    "lat = '47.497913'\n",
    "lon = '19.040236'\n",
    "\n",
    "bp_weather = get_weather(lat, lon)\n",
    "print(f'Weather data for Budapest is: {bp_weather} C')"
   ]
  },
  {
   "cell_type": "code",
   "execution_count": 169,
   "metadata": {},
   "outputs": [
    {
     "name": "stdout",
     "output_type": "stream",
     "text": [
      "{'type': 'function', 'name': 'get_weather', 'description': 'Get current temperature for provided coordinates in celsius.', 'parameters': {'type': 'object', 'properties': {'latitude': {'type': 'number'}, 'longitude': {'type': 'number'}}, 'required': ['latitude', 'longitude'], 'additionalProperties': False}, 'strict': True}\n"
     ]
    }
   ],
   "source": [
    "import inspect\n",
    "\n",
    "def function_to_json(func) -> dict:\n",
    "    \"\"\"\n",
    "    Converts a Python function into a JSON-serializable dictionary\n",
    "    that describes the function's signature for LLM function calling.\n",
    "    \"\"\"\n",
    "    type_map = {\n",
    "        str: \"string\",\n",
    "        int: \"integer\",\n",
    "        float: \"number\",\n",
    "        bool: \"boolean\",\n",
    "        list: \"array\",\n",
    "        dict: \"object\",\n",
    "        type(None): \"null\",\n",
    "    }\n",
    "    \n",
    "    signature = inspect.signature(func)\n",
    "    parameters = {}\n",
    "    \n",
    "    for param in signature.parameters.values():\n",
    "        param_type = type_map.get(param.annotation, \"string\")\n",
    "        parameters[param.name] = {\"type\": param_type}\n",
    "    \n",
    "    required = [\n",
    "        param.name\n",
    "        for param in signature.parameters.values()\n",
    "        if param.default == inspect._empty\n",
    "    ]\n",
    "    \n",
    "    return {\n",
    "        \"type\": \"function\",\n",
    "        \"name\": func.__name__,\n",
    "        \"description\": func.__doc__ or \"\",\n",
    "        \"parameters\": {\n",
    "            \"type\": \"object\",\n",
    "            \"properties\": parameters,\n",
    "            \"required\": required,\n",
    "            \"additionalProperties\": False\n",
    "        },\n",
    "        \"strict\": True\n",
    "}\n",
    "\n",
    "# Generate the schema\n",
    "tool_schema = function_to_json(get_weather)\n",
    "print(tool_schema)"
   ]
  },
  {
   "cell_type": "code",
   "execution_count": null,
   "metadata": {},
   "outputs": [
    {
     "data": {
      "text/plain": [
       "[ResponseFunctionToolCall(id='fc_67d328ff8f188192b2585555471780480b90233318eabe11', arguments='{\"latitude\":40.7128,\"longitude\":-74.006}', call_id='call_zBRYrfNAZEllq8bb1FxeARRR', name='get_weather', type='function_call', status='completed')]"
      ]
     },
     "execution_count": 173,
     "metadata": {},
     "output_type": "execute_result"
    }
   ],
   "source": [
    "user_msg = 'What is the weather like in New York?'\n",
    "\n",
    "response = client.responses.create(\n",
    "    model='gpt-4o',\n",
    "    temperature=None if 'o3' in MODEL_NAME or 'o1' in MODEL_NAME else 0.0,\n",
    "    instructions=\"You are a helpful AI assistant\",\n",
    "    input=[\n",
    "        {\n",
    "            \"role\": \"user\",\n",
    "            \"content\": user_msg\n",
    "        }\n",
    "    ],\n",
    "    tools=[tool_schema],\n",
    ")\n",
    "\n",
    "response.output"
   ]
  },
  {
   "cell_type": "markdown",
   "metadata": {},
   "source": [
    "Coordinates make sense: https://www.latlong.net/c/?lat=40.7143&long=-74.0060\n",
    "\n",
    "Now add more tools!"
   ]
  },
  {
   "cell_type": "code",
   "execution_count": 175,
   "metadata": {},
   "outputs": [
    {
     "data": {
      "text/plain": [
       "[ResponseFunctionWebSearch(id='ws_67d32a06fce48192bc3e8e2bd8806de90d396eb2505debc1', status='completed', type='web_search_call'),\n",
       " ResponseOutputMessage(id='msg_67d32a0a0a4c81928f04084d36ec50aa0d396eb2505debc1', content=[ResponseOutputText(annotations=[], text='As of March 13, 2025, NVIDIA Corporation (NVDA) stock is trading at $117.35, up $1.61 (1.39%) from the previous close.\\n\\n## Stock market information for NVIDIA Corp (NVDA)\\n- NVIDIA Corp is a equity in the USA market.\\n- The price is 117.35 USD currently with a change of 1.61 USD (0.01%) from the previous close.\\n- The latest open price was 116.99 USD and the intraday volume is 220606315.\\n- The intraday high is 117.73 USD and the intraday low is 113.85 USD.\\n- The latest trade time is Thursday, March 13, 18:39:37 UTC.\\n\\n\\nIn New York, NY, the current weather is mostly cloudy with a temperature of 48°F (9°C).\\n\\n## Weather for New York, NY:\\nCurrent Conditions: Mostly cloudy, 48°F (9°C)\\n\\nDaily Forecast:\\n* Thursday, March 13: Low: 41°F (5°C), High: 50°F (10°C), Description: Cooler with a blend of sun and clouds\\n* Friday, March 14: Low: 42°F (6°C), High: 51°F (10°C), Description: Intervals of clouds and sun\\n* Saturday, March 15: Low: 49°F (10°C), High: 52°F (11°C), Description: Mostly cloudy\\n* Sunday, March 16: Low: 54°F (12°C), High: 61°F (16°C), Description: Windy with a thick cloud cover; a brief afternoon shower or two\\n* Monday, March 17: Low: 38°F (4°C), High: 59°F (15°C), Description: Considerable cloudiness\\n* Tuesday, March 18: Low: 45°F (7°C), High: 55°F (13°C), Description: Plenty of sunshine\\n* Wednesday, March 19: Low: 51°F (10°C), High: 61°F (16°C), Description: Mild with times of clouds and sun\\n ', type='output_text')], role='assistant', status='completed', type='message'),\n",
       " ResponseFunctionToolCall(id='fc_67d32a0d573081929a48a8a47a4fe2010d396eb2505debc1', arguments='{\"latitude\":40.7128,\"longitude\":-74.006}', call_id='call_AXvtm9QNY4T2QqXsxIsRv3TK', name='get_weather', type='function_call', status='completed')]"
      ]
     },
     "execution_count": 175,
     "metadata": {},
     "output_type": "execute_result"
    }
   ],
   "source": [
    "user_msg = 'First tell me the current NVIDIA stock price, then look up the weather in New York!'\n",
    "\n",
    "response = client.responses.create(\n",
    "    model='gpt-4o',\n",
    "    temperature=None if 'o3' in MODEL_NAME or 'o1' in MODEL_NAME else 0.0,\n",
    "    instructions=\"You are a helpful AI assistant\",\n",
    "    input=[\n",
    "        {\n",
    "            \"role\": \"user\",\n",
    "            \"content\": user_msg\n",
    "        }\n",
    "    ],\n",
    "    tools=[\n",
    "        tool_schema,\n",
    "        {\n",
    "            \"type\": \"web_search_preview\",\n",
    "            \"search_context_size\": \"high\",\n",
    "        }\n",
    "        ],\n",
    ")\n",
    "\n",
    "\n",
    "response.output"
   ]
  },
  {
   "cell_type": "markdown",
   "metadata": {},
   "source": [
    "First, it called the web search, it also ran the 'function', as it should, then it called my function and is waiting for me to run it!"
   ]
  },
  {
   "cell_type": "code",
   "execution_count": null,
   "metadata": {},
   "outputs": [],
   "source": []
  },
  {
   "cell_type": "code",
   "execution_count": null,
   "metadata": {},
   "outputs": [],
   "source": []
  },
  {
   "cell_type": "code",
   "execution_count": null,
   "metadata": {},
   "outputs": [],
   "source": []
  },
  {
   "cell_type": "code",
   "execution_count": null,
   "metadata": {},
   "outputs": [],
   "source": []
  },
  {
   "cell_type": "code",
   "execution_count": 57,
   "metadata": {},
   "outputs": [],
   "source": []
  },
  {
   "cell_type": "markdown",
   "metadata": {},
   "source": [
    "Takeaways:\n",
    "\n",
    "General:\n",
    "\n",
    "- system_message can be passed as `instructions` parameter or as a separate `system` message in the `input` parameter.\n",
    "- there is a `generate_summary` parameter that could be used to show concise or detailed reasoning - but does not work yet with any of the reasoning models.\n",
    "- no direct Structured Output support, but `json_schema` in `text` field works\n",
    "\n",
    "Web search:\n",
    "- for non-obvious web queries, ask in the prompt the model to cite its sources otherwise the `annotations` is empty\n",
    "- only `gpt-4o` and `gpt-4.5` support - does not run with o1 or o3-mini\n",
    "- `gpt-4.5-preview` finished in 7 minutes but with incomplete status\n",
    "- for market news search the used web sources are high quality (ft, reuters)\n",
    "- `gpt-4o` + web search tool in Responses API ~ `gpt-4o-search-preview` in Chat.Competions API"
   ]
  },
  {
   "cell_type": "code",
   "execution_count": null,
   "metadata": {},
   "outputs": [],
   "source": []
  },
  {
   "cell_type": "markdown",
   "metadata": {},
   "source": []
  }
 ],
 "metadata": {
  "kernelspec": {
   "display_name": "venv",
   "language": "python",
   "name": "python3"
  },
  "language_info": {
   "codemirror_mode": {
    "name": "ipython",
    "version": 3
   },
   "file_extension": ".py",
   "mimetype": "text/x-python",
   "name": "python",
   "nbconvert_exporter": "python",
   "pygments_lexer": "ipython3",
   "version": "3.13.1"
  }
 },
 "nbformat": 4,
 "nbformat_minor": 2
}
