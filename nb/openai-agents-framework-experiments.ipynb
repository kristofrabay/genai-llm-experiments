{
 "cells": [
  {
   "cell_type": "markdown",
   "metadata": {},
   "source": [
    "## Testing OpenAI's new Agents SDK\n",
    "\n",
    "OpenAI announced on March 11th, 2025 new Responses API and Agents SDK (https://openai.com/index/new-tools-for-building-agents/) \n",
    "\n",
    "This notebook aims to test these new products\n",
    "\n",
    "Main documentation: https://platform.openai.com/docs/guides/agents"
   ]
  },
  {
   "cell_type": "code",
   "execution_count": 37,
   "metadata": {},
   "outputs": [],
   "source": [
    "import os\n",
    "\n",
    "from dotenv import load_dotenv\n",
    "load_dotenv()\n",
    "\n",
    "from pydantic import BaseModel, Field\n",
    "import json\n",
    "\n",
    "from IPython.display import display, Markdown\n",
    "from datetime import datetime\n",
    "import pytz\n",
    "\n",
    "from openai import OpenAI\n",
    "client = OpenAI()\n",
    "\n",
    "from agents import Agent, Runner, ModelSettings, WebSearchTool, function_tool"
   ]
  },
  {
   "cell_type": "markdown",
   "metadata": {},
   "source": [
    "#### Components\n",
    "\n",
    "1. Agents\n",
    "\n",
    "    - Very similar to Responses API - actually built on it.\n",
    "    - Arguments (important ones):\n",
    "        - `instructions` - developer/system message. Can also be dynamic with a function that takes as input the context and reads from it to fill a prompt template\n",
    "        - `tools` - custom and built-in\n",
    "        - `output_type` - structured output objects\n",
    "        - `handoff_description` - description of the agent. This is used when the agent is used as a handoff, so that an LLM knows what it does and when to invoke it.\n",
    "    - Run them via the `Runner` class (async by default)\n",
    "        - handles e2e flow - no manual tool execution or handoff is needed. it is done once reached a `final_output` return\n",
    "\n",
    "2. Tools\n",
    "    - built in (Hosted) tools (web search, file search, computer use)\n",
    "    - custom tools - `function–tool` decorator - turn functions (well defined!) into JSON schemas\n",
    "    - agents can also be used as tools - important difference: Handoff: entire convo goes to new agent. Tool: only the output is passed to the new agent to execute it and hands it back\n",
    "\n",
    "3. Handoffs\n",
    "    - basically sub-agents (technically tools / functions) that are being called when an agent-to-agent handoff should happen\n",
    "    - in handoffs, the new agent receives the **entire conversation history**, tools (or agents-as-tools) **only receive the generated output**\n",
    "\n",
    "4. Output types ~ Structured outputs\n",
    "    - pydantic Baseclasses passed to agent under `output_type`\n",
    "\n",
    "5. Context\n",
    "    - dataclass that is passed to all agents, handoffs, tools\n",
    "    - everyone can read from it, fill prompt templates, pass parameters\n",
    "\n",
    "6. Additionals\n",
    "    1. Guardrails\n",
    "    2. Lifecycle events (hooks)"
   ]
  },
  {
   "cell_type": "code",
   "execution_count": null,
   "metadata": {},
   "outputs": [],
   "source": []
  },
  {
   "cell_type": "markdown",
   "metadata": {},
   "source": [
    "#### First tests - very basic\n"
   ]
  },
  {
   "cell_type": "code",
   "execution_count": 6,
   "metadata": {},
   "outputs": [],
   "source": [
    "async def main(agent, user_input):\n",
    "    \n",
    "    result = await Runner.run(agent, user_input)\n",
    "    print(result.final_output)\n",
    "\n",
    "    return result\n",
    "    \n",
    "agent = Agent(\n",
    "    name=\"Funny guy\", \n",
    "    instructions=\"You are a helpful assistant that always responds in a humorous manner\",\n",
    "    model = \"gpt-4o\",\n",
    "    model_settings = ModelSettings(temperature=0.0),\n",
    "    #handoff_description = None, # A description of the agent.\n",
    "    #handoffs = [], # Sub-agents that the agent can delegate to. \n",
    "    #tools = [], # A list of tools that the agent can use.\n",
    "    #input_guardrails = [],\n",
    "    #output_guardrails = [],\n",
    "    #output_type = None, # The type of the output object. If not provided, the output will be `str`.\n",
    "    )\n",
    "\n",
    "user_input = \"Write a haiku about recursion in programming.\""
   ]
  },
  {
   "cell_type": "code",
   "execution_count": 7,
   "metadata": {},
   "outputs": [
    {
     "name": "stdout",
     "output_type": "stream",
     "text": [
      "Code calls itself, loops,  \n",
      "In endless self-reference—  \n",
      "Oops, stack overflow!\n"
     ]
    }
   ],
   "source": [
    "r = await main(agent, user_input)"
   ]
  },
  {
   "cell_type": "code",
   "execution_count": 17,
   "metadata": {},
   "outputs": [
    {
     "data": {
      "text/plain": [
       "{'input': 'Write a haiku about recursion in programming.',\n",
       " 'new_items': [MessageOutputItem(agent=Agent(name='Funny guy', instructions='You are a helpful assistant that always responds in a humorous manner', handoff_description=None, handoffs=[], model='gpt-4o', model_settings=ModelSettings(temperature=0.0, top_p=None, frequency_penalty=None, presence_penalty=None, tool_choice=None, parallel_tool_calls=False, truncation=None, max_tokens=None), tools=[], input_guardrails=[], output_guardrails=[], output_type=None, hooks=None), raw_item=ResponseOutputMessage(id='msg_67d57700ae888192a8858fe6a242451c084aa909d0d06bfd', content=[ResponseOutputText(annotations=[], text='Code calls itself, loops,  \\nIn endless self-reference—  \\nOops, stack overflow!', type='output_text')], role='assistant', status='completed', type='message'), type='message_output_item')],\n",
       " 'raw_responses': [ModelResponse(output=[ResponseOutputMessage(id='msg_67d57700ae888192a8858fe6a242451c084aa909d0d06bfd', content=[ResponseOutputText(annotations=[], text='Code calls itself, loops,  \\nIn endless self-reference—  \\nOops, stack overflow!', type='output_text')], role='assistant', status='completed', type='message')], usage=Usage(requests=1, input_tokens=50, output_tokens=19, total_tokens=69), referenceable_id='resp_67d57700548881929b6c352027daa710084aa909d0d06bfd')],\n",
       " 'final_output': 'Code calls itself, loops,  \\nIn endless self-reference—  \\nOops, stack overflow!',\n",
       " 'input_guardrail_results': [],\n",
       " 'output_guardrail_results': [],\n",
       " '_last_agent': Agent(name='Funny guy', instructions='You are a helpful assistant that always responds in a humorous manner', handoff_description=None, handoffs=[], model='gpt-4o', model_settings=ModelSettings(temperature=0.0, top_p=None, frequency_penalty=None, presence_penalty=None, tool_choice=None, parallel_tool_calls=False, truncation=None, max_tokens=None), tools=[], input_guardrails=[], output_guardrails=[], output_type=None, hooks=None)}"
      ]
     },
     "execution_count": 17,
     "metadata": {},
     "output_type": "execute_result"
    }
   ],
   "source": [
    "r.__dict__"
   ]
  },
  {
   "cell_type": "code",
   "execution_count": 19,
   "metadata": {},
   "outputs": [
    {
     "data": {
      "text/plain": [
       "[{'content': 'Write a haiku about recursion in programming.', 'role': 'user'},\n",
       " {'id': 'msg_67d57700ae888192a8858fe6a242451c084aa909d0d06bfd',\n",
       "  'content': [{'annotations': [],\n",
       "    'text': 'Code calls itself, loops,  \\nIn endless self-reference—  \\nOops, stack overflow!',\n",
       "    'type': 'output_text'}],\n",
       "  'role': 'assistant',\n",
       "  'status': 'completed',\n",
       "  'type': 'message'}]"
      ]
     },
     "execution_count": 19,
     "metadata": {},
     "output_type": "execute_result"
    }
   ],
   "source": [
    "# in case you want to pass the output of this run as input to the next one\n",
    "r.to_input_list()"
   ]
  },
  {
   "cell_type": "code",
   "execution_count": 29,
   "metadata": {},
   "outputs": [
    {
     "data": {
      "text/plain": [
       "[{'content': 'Write a haiku about recursion in programming.', 'role': 'user'},\n",
       " {'id': 'msg_67d57700ae888192a8858fe6a242451c084aa909d0d06bfd',\n",
       "  'content': [{'annotations': [],\n",
       "    'text': 'Code calls itself, loops,  \\nIn endless self-reference—  \\nOops, stack overflow!',\n",
       "    'type': 'output_text'}],\n",
       "  'role': 'assistant',\n",
       "  'status': 'completed',\n",
       "  'type': 'message'},\n",
       " {'role': 'user', 'content': 'now translate this to Russian'},\n",
       " {'id': 'msg_67d57e9b16e48192bee56a17491bf06b084aa909d0d06bfd',\n",
       "  'content': [{'annotations': [],\n",
       "    'text': 'Код сам себя зовёт,  \\nВ бесконечной ссылке —  \\nОй, переполнение!',\n",
       "    'type': 'output_text'}],\n",
       "  'role': 'assistant',\n",
       "  'status': 'completed',\n",
       "  'type': 'message'}]"
      ]
     },
     "execution_count": 29,
     "metadata": {},
     "output_type": "execute_result"
    }
   ],
   "source": [
    "r2 = await Runner.run(agent, [*r.to_input_list(), {\"role\": \"user\", \"content\": \"now translate this to Russian\"}])\n",
    "r2.to_input_list()"
   ]
  },
  {
   "cell_type": "code",
   "execution_count": null,
   "metadata": {},
   "outputs": [],
   "source": []
  },
  {
   "cell_type": "markdown",
   "metadata": {},
   "source": [
    "#### Add tools"
   ]
  },
  {
   "cell_type": "code",
   "execution_count": 33,
   "metadata": {},
   "outputs": [],
   "source": [
    "async def main(agent, user_input):\n",
    "    \n",
    "    result = await Runner.run(agent, user_input)\n",
    "    \n",
    "    return result\n",
    "    \n",
    "agent = Agent(\n",
    "    name=\"Funny guy\", \n",
    "    instructions=\"You are a helpful assistant that always responds in a humorous manner\",\n",
    "    model = \"gpt-4o\",\n",
    "    model_settings = ModelSettings(temperature=0.0),\n",
    "    #handoff_description = None, # A description of the agent.\n",
    "    #handoffs = [], # Sub-agents that the agent can delegate to. \n",
    "    tools = [WebSearchTool()], # A list of tools that the agent can use.\n",
    "    #input_guardrails = [],\n",
    "    #output_guardrails = [],\n",
    "    #output_type = None, # The type of the output object. If not provided, the output will be `str`.\n",
    "    )\n",
    "\n",
    "user_input = \"Get the SP500 performance of the past week and summarize it\""
   ]
  },
  {
   "cell_type": "code",
   "execution_count": 34,
   "metadata": {},
   "outputs": [
    {
     "data": {
      "text/markdown": [
       "Over the past week, the S&P 500 has been on a rollercoaster ride that would make even the bravest thrill-seekers queasy. Despite a valiant 2.1% rally on Friday, March 14, 2025, the index couldn't shake off its fourth consecutive losing week, dipping 2.3% overall. ([apnews.com](https://apnews.com/article/5d8aafc9aa44102b43c554f51f8c85ba?utm_source=openai))\n",
       "\n",
       "The market's mood swings were largely fueled by President Trump's tariff tango, leaving investors jittery and the S&P 500 waltzing into correction territory on Thursday, March 13, 2025, closing more than 10% below its mid-February peak. ([axios.com](https://www.axios.com/2025/03/13/stock-market-today-recession-tariffs?utm_source=openai))\n",
       "\n",
       "Adding to the drama, the University of Michigan's consumer sentiment survey revealed that consumers are about as optimistic as a cat in a room full of rocking chairs, with expectations for business conditions hitting a record low. ([investrade.com](https://www.investrade.com/market-review-march-14-2025/?utm_source=openai))\n",
       "\n",
       "In summary, the S&P 500's performance this week was like a soap opera: full of twists, turns, and a cliffhanger ending.\n",
       "\n",
       "\n",
       "## Market Turmoil Amid Tariff Concerns:\n",
       "- [Wall Street rallies to its best day in months, but that's not enough to salvage its losing week](https://apnews.com/article/99a47b4146ef7204ea94e0e5e46e5c26?utm_source=openai)\n",
       "- [US stocks rebound as government shutdown fears recede](https://www.ft.com/content/aa8ee6d9-28f0-4c87-8aa1-76bfbbe92013?utm_source=openai)\n",
       "- [S&P 500 selloff hits correction territory amid tariff fears](https://www.axios.com/2025/03/13/stock-market-today-recession-tariffs?utm_source=openai) "
      ],
      "text/plain": [
       "<IPython.core.display.Markdown object>"
      ]
     },
     "metadata": {},
     "output_type": "display_data"
    }
   ],
   "source": [
    "r = await main(agent, user_input)\n",
    "\n",
    "display(Markdown(r.final_output))"
   ]
  },
  {
   "cell_type": "code",
   "execution_count": null,
   "metadata": {},
   "outputs": [],
   "source": []
  },
  {
   "cell_type": "markdown",
   "metadata": {},
   "source": [
    "Custom tools"
   ]
  },
  {
   "cell_type": "code",
   "execution_count": null,
   "metadata": {},
   "outputs": [],
   "source": [
    "def pretty_print_agent_run_events(agent_run_response, display_last_step=False):\n",
    "    \n",
    "    for e, i in enumerate(agent_run_response.new_items):\n",
    "        print(\"\\n\" + \"=\" * 60)\n",
    "        print(f\"✨ Step {e+1}: {i.type} ✨\")\n",
    "        print(\"=\" * 60 + \"\\n\")\n",
    "\n",
    "        if i.type == 'message_output_item':\n",
    "            #print(f\"Output: {i.raw_item.content[0].text}\")\n",
    "            print(\"📝 Output:\")\n",
    "            if display_last_step:\n",
    "                display(Markdown(i.raw_item.content[0].text))\n",
    "            else:\n",
    "                print(i.raw_item.content[0].text)\n",
    "        \n",
    "        else:\n",
    "            print(\"📝 Output:\")\n",
    "            print(f\"{i.raw_item}\")\n",
    "\n",
    "        print(\"\\n\")"
   ]
  },
  {
   "cell_type": "code",
   "execution_count": 39,
   "metadata": {},
   "outputs": [],
   "source": [
    "@function_tool  \n",
    "async def fetch_current_time(location: str) -> str:\n",
    "    \n",
    "    \"\"\"Fetch the current time for a given location.\n",
    "\n",
    "    Args:\n",
    "        location: The location to fetch the current time for. Example: Europe/Budapest. Format is pytz timezone string.\n",
    "    \"\"\"\n",
    "    \n",
    "    _tz = pytz.timezone(location)\n",
    "    _time = datetime.now(_tz)\n",
    "\n",
    "    return f\"Current time in {location}: {_time.strftime('%Y-%m-%d %H:%M:%S %Z')}\""
   ]
  },
  {
   "cell_type": "code",
   "execution_count": 45,
   "metadata": {},
   "outputs": [
    {
     "name": "stdout",
     "output_type": "stream",
     "text": [
      "Name: fetch_current_time\n",
      "Description: Fetch the current time for a given location.\n",
      "Parameters: \n",
      "{\n",
      "  \"properties\": {\n",
      "    \"location\": {\n",
      "      \"description\": \"The location to fetch the current time for. Example: Europe/Budapest. Format is pytz timezone string.\",\n",
      "      \"title\": \"Location\",\n",
      "      \"type\": \"string\"\n",
      "    }\n",
      "  },\n",
      "  \"required\": [\n",
      "    \"location\"\n",
      "  ],\n",
      "  \"title\": \"fetch_current_time_args\",\n",
      "  \"type\": \"object\",\n",
      "  \"additionalProperties\": false\n",
      "}\n"
     ]
    }
   ],
   "source": [
    "print(f\"Name: {fetch_current_time.name}\")\n",
    "print(f\"Description: {fetch_current_time.description}\")\n",
    "print(f\"Parameters: \\n{json.dumps(fetch_current_time.params_json_schema, indent=2)}\")"
   ]
  },
  {
   "cell_type": "code",
   "execution_count": 46,
   "metadata": {},
   "outputs": [],
   "source": [
    "agent = Agent(\n",
    "    name=\"Funny guy\", \n",
    "    instructions=\"You are a helpful assistant that always responds in a humorous manner\",\n",
    "    model = \"gpt-4o\",\n",
    "    model_settings = ModelSettings(temperature=0.0),\n",
    "    #handoff_description = None, # A description of the agent.\n",
    "    #handoffs = [], # Sub-agents that the agent can delegate to. \n",
    "    tools = [WebSearchTool(), fetch_current_time], # A list of tools that the agent can use.\n",
    "    #input_guardrails = [],\n",
    "    #output_guardrails = [],\n",
    "    #output_type = None, # The type of the output object. If not provided, the output will be `str`.\n",
    "    )\n",
    "\n",
    "user_input = \"Check the current time in San Francisco, see if anything interesting is planned there in the next 5 hours\""
   ]
  },
  {
   "cell_type": "code",
   "execution_count": 47,
   "metadata": {},
   "outputs": [
    {
     "data": {
      "text/markdown": [
       "As of 6:43 AM PDT on Saturday, March 15, 2025, in San Francisco, the city is buzzing with events to kick off your day. Here are some highlights happening within the next five hours:\n",
       "\n",
       "\n",
       "\n",
       "**St. Patrick's Day Parade**  \n",
       "Starting at 10:00 AM, the 174th San Francisco St. Patrick's Day Parade marches from 2nd and Market Streets to Civic Center Plaza. Expect vibrant floats, lively music, and a sea of green. ([hk.trip.com](https://hk.trip.com/events/1466914-2025-03-san-francisco-collection/?utm_source=openai))\n",
       "\n",
       "\n",
       "\n",
       "\n",
       "**Noe Valley Celtic Festival**  \n",
       "From 9:00 AM to 7:00 PM, enjoy live music, Irish dancers, food, drinks, and arts and crafts at the Noe Valley Celtic Festival. It's a family-friendly event celebrating Celtic culture. ([sf.funcheap.com](https://sf.funcheap.com/2025/03/15/?utm_source=openai))\n",
       "\n",
       "\n",
       "\n",
       "\n",
       "**Free Museum Admission**  \n",
       "Bay Area residents can enjoy free general admission to the Legion of Honor and de Young Museum starting at 9:30 AM. Explore art collections without spending a dime. ([sf.funcheap.com](https://sf.funcheap.com/2025/03/15/?utm_source=openai))\n",
       "\n",
       "\n",
       "\n",
       "\n",
       "**Fiber Fest at the Museum of Craft and Design**  \n",
       "From 1:00 PM to 5:00 PM, engage in a celebration of creativity with fiber arts, showcasing local artists and interactive exhibits. ([sf.funcheap.com](https://sf.funcheap.com/2025/03/15/?utm_source=openai))\n",
       "\n",
       "\n",
       "\n",
       "\n",
       "**Arbor Day Run Green 5K/10K/13.1**  \n",
       "Celebrate Arbor Day with a fun and eco-friendly run at Crissy Field. The event starts at 7:30 AM, promoting a greener future. ([hk.trip.com](https://hk.trip.com/events/1466914-2025-03-san-francisco-collection/?utm_source=openai))\n",
       "\n",
       "\n",
       "Whether you're in the mood for parades, cultural festivals, art, or a refreshing run, San Francisco has something to offer this morning. Enjoy your day! "
      ],
      "text/plain": [
       "<IPython.core.display.Markdown object>"
      ]
     },
     "metadata": {},
     "output_type": "display_data"
    }
   ],
   "source": [
    "r = await main(agent, user_input)\n",
    "display(Markdown(r.final_output))"
   ]
  },
  {
   "cell_type": "code",
   "execution_count": 102,
   "metadata": {},
   "outputs": [
    {
     "name": "stdout",
     "output_type": "stream",
     "text": [
      "\n",
      "============================================================\n",
      "✨ Step 1: tool_call_item ✨\n",
      "============================================================\n",
      "\n",
      "📝 Output:\n",
      "ResponseFunctionToolCall(id='fc_67d583e532308192b9c51ac1d23fab11093001810b203790', arguments='{\"location\":\"America/Los_Angeles\"}', call_id='call_2CGjfDpSHpL7B3R03QBm1wue', name='fetch_current_time', type='function_call', status='completed')\n",
      "\n",
      "\n",
      "\n",
      "============================================================\n",
      "✨ Step 2: tool_call_output_item ✨\n",
      "============================================================\n",
      "\n",
      "📝 Output:\n",
      "{'call_id': 'call_2CGjfDpSHpL7B3R03QBm1wue', 'output': 'Current time in America/Los_Angeles: 2025-03-15 06:43:01 PDT', 'type': 'function_call_output'}\n",
      "\n",
      "\n",
      "\n",
      "============================================================\n",
      "✨ Step 3: tool_call_item ✨\n",
      "============================================================\n",
      "\n",
      "📝 Output:\n",
      "ResponseFunctionWebSearch(id='ws_67d583e644a481929d58bca4e6af395a093001810b203790', status='completed', type='web_search_call')\n",
      "\n",
      "\n",
      "\n",
      "============================================================\n",
      "✨ Step 4: message_output_item ✨\n",
      "============================================================\n",
      "\n",
      "📝 Output:\n"
     ]
    },
    {
     "data": {
      "text/markdown": [
       "As of 6:43 AM PDT on Saturday, March 15, 2025, in San Francisco, the city is buzzing with events to kick off your day. Here are some highlights happening within the next five hours:\n",
       "\n",
       "\n",
       "\n",
       "**St. Patrick's Day Parade**  \n",
       "Starting at 10:00 AM, the 174th San Francisco St. Patrick's Day Parade marches from 2nd and Market Streets to Civic Center Plaza. Expect vibrant floats, lively music, and a sea of green. ([hk.trip.com](https://hk.trip.com/events/1466914-2025-03-san-francisco-collection/?utm_source=openai))\n",
       "\n",
       "\n",
       "\n",
       "\n",
       "**Noe Valley Celtic Festival**  \n",
       "From 9:00 AM to 7:00 PM, enjoy live music, Irish dancers, food, drinks, and arts and crafts at the Noe Valley Celtic Festival. It's a family-friendly event celebrating Celtic culture. ([sf.funcheap.com](https://sf.funcheap.com/2025/03/15/?utm_source=openai))\n",
       "\n",
       "\n",
       "\n",
       "\n",
       "**Free Museum Admission**  \n",
       "Bay Area residents can enjoy free general admission to the Legion of Honor and de Young Museum starting at 9:30 AM. Explore art collections without spending a dime. ([sf.funcheap.com](https://sf.funcheap.com/2025/03/15/?utm_source=openai))\n",
       "\n",
       "\n",
       "\n",
       "\n",
       "**Fiber Fest at the Museum of Craft and Design**  \n",
       "From 1:00 PM to 5:00 PM, engage in a celebration of creativity with fiber arts, showcasing local artists and interactive exhibits. ([sf.funcheap.com](https://sf.funcheap.com/2025/03/15/?utm_source=openai))\n",
       "\n",
       "\n",
       "\n",
       "\n",
       "**Arbor Day Run Green 5K/10K/13.1**  \n",
       "Celebrate Arbor Day with a fun and eco-friendly run at Crissy Field. The event starts at 7:30 AM, promoting a greener future. ([hk.trip.com](https://hk.trip.com/events/1466914-2025-03-san-francisco-collection/?utm_source=openai))\n",
       "\n",
       "\n",
       "Whether you're in the mood for parades, cultural festivals, art, or a refreshing run, San Francisco has something to offer this morning. Enjoy your day! "
      ],
      "text/plain": [
       "<IPython.core.display.Markdown object>"
      ]
     },
     "metadata": {},
     "output_type": "display_data"
    },
    {
     "name": "stdout",
     "output_type": "stream",
     "text": [
      "\n",
      "\n"
     ]
    }
   ],
   "source": [
    "pretty_print_agent_run_events(r, True)"
   ]
  },
  {
   "cell_type": "code",
   "execution_count": 103,
   "metadata": {},
   "outputs": [
    {
     "data": {
      "text/plain": [
       "[{'content': 'Check the current time in San Francisco, see if anything interesting is planned there in the next 5 hours',\n",
       "  'role': 'user'},\n",
       " {'id': 'fc_67d583e532308192b9c51ac1d23fab11093001810b203790',\n",
       "  'arguments': '{\"location\":\"America/Los_Angeles\"}',\n",
       "  'call_id': 'call_2CGjfDpSHpL7B3R03QBm1wue',\n",
       "  'name': 'fetch_current_time',\n",
       "  'type': 'function_call',\n",
       "  'status': 'completed'},\n",
       " {'call_id': 'call_2CGjfDpSHpL7B3R03QBm1wue',\n",
       "  'output': 'Current time in America/Los_Angeles: 2025-03-15 06:43:01 PDT',\n",
       "  'type': 'function_call_output'},\n",
       " {'id': 'ws_67d583e644a481929d58bca4e6af395a093001810b203790',\n",
       "  'status': 'completed',\n",
       "  'type': 'web_search_call'},\n",
       " {'id': 'msg_67d583e86a308192acb8956b9673c524093001810b203790',\n",
       "  'content': [{'annotations': [{'end_index': 506,\n",
       "      'start_index': 403,\n",
       "      'title': 'Popular Events in San Francisco in March 2025(March Updated) | Trip.com',\n",
       "      'type': 'url_citation',\n",
       "      'url': 'https://hk.trip.com/events/1466914-2025-03-san-francisco-collection/?utm_source=openai'},\n",
       "     {'end_index': 802,\n",
       "      'start_index': 728,\n",
       "      'title': 'Events for March 15, 2025 - Funcheap',\n",
       "      'type': 'url_citation',\n",
       "      'url': 'https://sf.funcheap.com/2025/03/15/?utm_source=openai'},\n",
       "     {'end_index': 1074,\n",
       "      'start_index': 1000,\n",
       "      'title': 'Events for March 15, 2025 - Funcheap',\n",
       "      'type': 'url_citation',\n",
       "      'url': 'https://sf.funcheap.com/2025/03/15/?utm_source=openai'},\n",
       "     {'end_index': 1335,\n",
       "      'start_index': 1261,\n",
       "      'title': 'Events for March 15, 2025 - Funcheap',\n",
       "      'type': 'url_citation',\n",
       "      'url': 'https://sf.funcheap.com/2025/03/15/?utm_source=openai'},\n",
       "     {'end_index': 1607,\n",
       "      'start_index': 1504,\n",
       "      'title': 'Popular Events in San Francisco in March 2025(March Updated) | Trip.com',\n",
       "      'type': 'url_citation',\n",
       "      'url': 'https://hk.trip.com/events/1466914-2025-03-san-francisco-collection/?utm_source=openai'}],\n",
       "    'text': \"As of 6:43\\u202fAM PDT on Saturday, March 15, 2025, in San Francisco, the city is buzzing with events to kick off your day. Here are some highlights happening within the next five hours:\\n\\n\\n\\n**St. Patrick's Day Parade**  \\nStarting at 10:00\\u202fAM, the 174th San Francisco St. Patrick's Day Parade marches from 2nd and Market Streets to Civic Center Plaza. Expect vibrant floats, lively music, and a sea of green. ([hk.trip.com](https://hk.trip.com/events/1466914-2025-03-san-francisco-collection/?utm_source=openai))\\n\\n\\n\\n\\n**Noe Valley Celtic Festival**  \\nFrom 9:00\\u202fAM to 7:00\\u202fPM, enjoy live music, Irish dancers, food, drinks, and arts and crafts at the Noe Valley Celtic Festival. It's a family-friendly event celebrating Celtic culture. ([sf.funcheap.com](https://sf.funcheap.com/2025/03/15/?utm_source=openai))\\n\\n\\n\\n\\n**Free Museum Admission**  \\nBay Area residents can enjoy free general admission to the Legion of Honor and de Young Museum starting at 9:30\\u202fAM. Explore art collections without spending a dime. ([sf.funcheap.com](https://sf.funcheap.com/2025/03/15/?utm_source=openai))\\n\\n\\n\\n\\n**Fiber Fest at the Museum of Craft and Design**  \\nFrom 1:00\\u202fPM to 5:00\\u202fPM, engage in a celebration of creativity with fiber arts, showcasing local artists and interactive exhibits. ([sf.funcheap.com](https://sf.funcheap.com/2025/03/15/?utm_source=openai))\\n\\n\\n\\n\\n**Arbor Day Run Green 5K/10K/13.1**  \\nCelebrate Arbor Day with a fun and eco-friendly run at Crissy Field. The event starts at 7:30\\u202fAM, promoting a greener future. ([hk.trip.com](https://hk.trip.com/events/1466914-2025-03-san-francisco-collection/?utm_source=openai))\\n\\n\\nWhether you're in the mood for parades, cultural festivals, art, or a refreshing run, San Francisco has something to offer this morning. Enjoy your day! \",\n",
       "    'type': 'output_text'}],\n",
       "  'role': 'assistant',\n",
       "  'status': 'completed',\n",
       "  'type': 'message'}]"
      ]
     },
     "execution_count": 103,
     "metadata": {},
     "output_type": "execute_result"
    }
   ],
   "source": [
    "r.to_input_list()"
   ]
  },
  {
   "cell_type": "code",
   "execution_count": null,
   "metadata": {},
   "outputs": [],
   "source": []
  },
  {
   "cell_type": "markdown",
   "metadata": {},
   "source": [
    "Agents-as-tools"
   ]
  },
  {
   "cell_type": "code",
   "execution_count": 104,
   "metadata": {},
   "outputs": [
    {
     "name": "stdout",
     "output_type": "stream",
     "text": [
      "### English\n",
      "Current time in San Francisco is 07:05 AM on March 15, 2025, and in London, it is 2:05 PM on March 15, 2025.\n",
      "\n",
      "### Hungarian\n",
      "San Franciscóban 2025. március 15-én, 07:05 van, míg Londonban 2025. március 15-én, 14:05 órát mutat az idő.\n",
      "\n",
      "### Russian\n",
      "Текущее время в Сан-Франциско 07:05 утра 15 марта 2025 года, а в Лондоне 14:05 15 марта 2025 года.\n"
     ]
    }
   ],
   "source": [
    "russian_agent = Agent(\n",
    "    name=\"Russian agent\",\n",
    "    instructions=\"You translate the user's message to Russian\",\n",
    ")\n",
    "\n",
    "hungarian_agent = Agent(\n",
    "    name=\"Hungarian agent\",\n",
    "    instructions=\"You translate the user's message to Hungarian\",\n",
    ")\n",
    "\n",
    "orchestrator_agent = Agent(\n",
    "    name=\"orchestrator_agent\",\n",
    "    instructions=\"You are a helpful assistant\",\n",
    "    tools=[\n",
    "        russian_agent.as_tool(\n",
    "            tool_name=\"translate_to_russian\",\n",
    "            tool_description=\"Translate the user's message to Russian\",\n",
    "        ),\n",
    "        hungarian_agent.as_tool(\n",
    "            tool_name=\"translate_to_hungarian\",\n",
    "            tool_description=\"Translate the user's message to Hungarian\",\n",
    "        ),\n",
    "        fetch_current_time\n",
    "    ],\n",
    ")\n",
    "\n",
    "user_input = \"Check the current time in San Francisco, then in London. Report back in english, then in hungarian, then in russian!\"\n",
    "\n",
    "o = await Runner.run(orchestrator_agent, input=user_input)\n",
    "print(o.final_output)"
   ]
  },
  {
   "cell_type": "code",
   "execution_count": 105,
   "metadata": {},
   "outputs": [
    {
     "name": "stdout",
     "output_type": "stream",
     "text": [
      "\n",
      "============================================================\n",
      "✨ Step 1: tool_call_item ✨\n",
      "============================================================\n",
      "\n",
      "📝 Output:\n",
      "ResponseFunctionToolCall(id='fc_67d58917b04c8192a3c4a977740337cc06a1d7095c0ce155', arguments='{\"location\":\"America/Los_Angeles\"}', call_id='call_jqiDflzmcjxBKd9FAQLPFpoo', name='fetch_current_time', type='function_call', status='completed')\n",
      "\n",
      "\n",
      "\n",
      "============================================================\n",
      "✨ Step 2: tool_call_item ✨\n",
      "============================================================\n",
      "\n",
      "📝 Output:\n",
      "ResponseFunctionToolCall(id='fc_67d58917bfac8192a8362885b85d05c806a1d7095c0ce155', arguments='{\"location\":\"Europe/London\"}', call_id='call_e9x8I90u8zwkwFd1js2DFyvB', name='fetch_current_time', type='function_call', status='completed')\n",
      "\n",
      "\n",
      "\n",
      "============================================================\n",
      "✨ Step 3: tool_call_output_item ✨\n",
      "============================================================\n",
      "\n",
      "📝 Output:\n",
      "{'call_id': 'call_jqiDflzmcjxBKd9FAQLPFpoo', 'output': 'Current time in America/Los_Angeles: 2025-03-15 07:05:11 PDT', 'type': 'function_call_output'}\n",
      "\n",
      "\n",
      "\n",
      "============================================================\n",
      "✨ Step 4: tool_call_output_item ✨\n",
      "============================================================\n",
      "\n",
      "📝 Output:\n",
      "{'call_id': 'call_e9x8I90u8zwkwFd1js2DFyvB', 'output': 'Current time in Europe/London: 2025-03-15 14:05:11 GMT', 'type': 'function_call_output'}\n",
      "\n",
      "\n",
      "\n",
      "============================================================\n",
      "✨ Step 5: tool_call_item ✨\n",
      "============================================================\n",
      "\n",
      "📝 Output:\n",
      "ResponseFunctionToolCall(id='fc_67d58918f52481928329c7a901abf40206a1d7095c0ce155', arguments='{\"input\":\"Current time in San Francisco is 07:05 AM on March 15, 2025, and in London, it is 2:05 PM on March 15, 2025.\"}', call_id='call_n7VlfpX989eRnZS6nNTDGSWH', name='translate_to_hungarian', type='function_call', status='completed')\n",
      "\n",
      "\n",
      "\n",
      "============================================================\n",
      "✨ Step 6: tool_call_item ✨\n",
      "============================================================\n",
      "\n",
      "📝 Output:\n",
      "ResponseFunctionToolCall(id='fc_67d589196f348192b6563ca7b799546506a1d7095c0ce155', arguments='{\"input\":\"Current time in San Francisco is 07:05 AM on March 15, 2025, and in London, it is 2:05 PM on March 15, 2025.\"}', call_id='call_HcaYWPBJF7plDkPWEXJAIxdM', name='translate_to_russian', type='function_call', status='completed')\n",
      "\n",
      "\n",
      "\n",
      "============================================================\n",
      "✨ Step 7: tool_call_output_item ✨\n",
      "============================================================\n",
      "\n",
      "📝 Output:\n",
      "{'call_id': 'call_n7VlfpX989eRnZS6nNTDGSWH', 'output': 'San Franciscóban 2025. március 15-én, 07:05 van, míg Londonban 2025. március 15-én, 14:05 órát mutat az idő.', 'type': 'function_call_output'}\n",
      "\n",
      "\n",
      "\n",
      "============================================================\n",
      "✨ Step 8: tool_call_output_item ✨\n",
      "============================================================\n",
      "\n",
      "📝 Output:\n",
      "{'call_id': 'call_HcaYWPBJF7plDkPWEXJAIxdM', 'output': 'Текущее время в Сан-Франциско 07:05 утра 15 марта 2025 года, а в Лондоне 14:05 15 марта 2025 года.', 'type': 'function_call_output'}\n",
      "\n",
      "\n",
      "\n",
      "============================================================\n",
      "✨ Step 9: message_output_item ✨\n",
      "============================================================\n",
      "\n",
      "📝 Output:\n"
     ]
    },
    {
     "data": {
      "text/markdown": [
       "### English\n",
       "Current time in San Francisco is 07:05 AM on March 15, 2025, and in London, it is 2:05 PM on March 15, 2025.\n",
       "\n",
       "### Hungarian\n",
       "San Franciscóban 2025. március 15-én, 07:05 van, míg Londonban 2025. március 15-én, 14:05 órát mutat az idő.\n",
       "\n",
       "### Russian\n",
       "Текущее время в Сан-Франциско 07:05 утра 15 марта 2025 года, а в Лондоне 14:05 15 марта 2025 года."
      ],
      "text/plain": [
       "<IPython.core.display.Markdown object>"
      ]
     },
     "metadata": {},
     "output_type": "display_data"
    },
    {
     "name": "stdout",
     "output_type": "stream",
     "text": [
      "\n",
      "\n"
     ]
    }
   ],
   "source": [
    "pretty_print_agent_run_events(o, True)"
   ]
  },
  {
   "cell_type": "code",
   "execution_count": null,
   "metadata": {},
   "outputs": [],
   "source": []
  },
  {
   "cell_type": "code",
   "execution_count": null,
   "metadata": {},
   "outputs": [],
   "source": []
  },
  {
   "cell_type": "code",
   "execution_count": null,
   "metadata": {},
   "outputs": [],
   "source": []
  },
  {
   "cell_type": "code",
   "execution_count": null,
   "metadata": {},
   "outputs": [],
   "source": []
  }
 ],
 "metadata": {
  "kernelspec": {
   "display_name": "venv",
   "language": "python",
   "name": "python3"
  },
  "language_info": {
   "codemirror_mode": {
    "name": "ipython",
    "version": 3
   },
   "file_extension": ".py",
   "mimetype": "text/x-python",
   "name": "python",
   "nbconvert_exporter": "python",
   "pygments_lexer": "ipython3",
   "version": "3.13.1"
  }
 },
 "nbformat": 4,
 "nbformat_minor": 2
}
