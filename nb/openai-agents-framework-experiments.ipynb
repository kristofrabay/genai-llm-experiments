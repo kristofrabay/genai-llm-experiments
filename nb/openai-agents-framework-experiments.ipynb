{
 "cells": [
  {
   "cell_type": "markdown",
   "metadata": {},
   "source": [
    "## Testing OpenAI's new Agents SDK\n",
    "\n",
    "OpenAI announced on March 11th, 2025 new Responses API and Agents SDK (https://openai.com/index/new-tools-for-building-agents/) \n",
    "\n",
    "This notebook aims to test these new products\n",
    "\n",
    "Main documentation: https://platform.openai.com/docs/guides/agents"
   ]
  },
  {
   "cell_type": "code",
   "execution_count": 1,
   "metadata": {},
   "outputs": [],
   "source": [
    "import os\n",
    "\n",
    "from dotenv import load_dotenv\n",
    "load_dotenv()\n",
    "\n",
    "from pydantic import BaseModel, Field\n",
    "import json\n",
    "\n",
    "from IPython.display import display, Markdown\n",
    "from datetime import datetime\n",
    "import pytz\n",
    "\n",
    "from openai import OpenAI\n",
    "client = OpenAI()\n",
    "\n",
    "from agents import Agent, Runner, ModelSettings, WebSearchTool, function_tool, handoff"
   ]
  },
  {
   "cell_type": "markdown",
   "metadata": {},
   "source": [
    "#### Components\n",
    "\n",
    "1. Agents\n",
    "\n",
    "    - Very similar to Responses API - actually built on it.\n",
    "    - Arguments (important ones):\n",
    "        - `instructions` - developer/system message. Can also be dynamic with a function that takes as input the context and reads from it to fill a prompt template\n",
    "        - `tools` - custom and built-in\n",
    "        - `output_type` - structured output objects\n",
    "        - `handoff_description` - description of the agent. This is used when the agent is used as a handoff, so that an LLM knows what it does and when to invoke it.\n",
    "    - Run them via the `Runner` class (async by default)\n",
    "        - handles e2e flow - no manual tool execution or handoff is needed. it is done once reached a `final_output` return\n",
    "\n",
    "2. Tools\n",
    "    - built in (Hosted) tools (web search, file search, computer use)\n",
    "    - custom tools - `function–tool` decorator - turn functions (well defined!) into JSON schemas\n",
    "    - agents can also be used as tools - important difference: Handoff: entire convo goes to new agent. Tool: only the output is passed to the new agent to execute it and hands it back\n",
    "\n",
    "3. Handoffs\n",
    "    - basically sub-agents (technically tools / functions) that are being called when an agent-to-agent handoff should happen\n",
    "    - in handoffs, the new agent receives the **entire conversation history**, tools (or agents-as-tools) **only receive the generated output**\n",
    "\n",
    "4. Output types ~ Structured outputs\n",
    "    - pydantic Baseclasses passed to agent under `output_type`\n",
    "\n",
    "5. Context\n",
    "    - dataclass that is passed to all agents, handoffs, tools\n",
    "    - everyone can read from it, fill prompt templates, pass parameters\n",
    "\n",
    "6. Additionals\n",
    "    1. Guardrails\n",
    "    2. Lifecycle events (hooks)"
   ]
  },
  {
   "cell_type": "code",
   "execution_count": null,
   "metadata": {},
   "outputs": [],
   "source": []
  },
  {
   "cell_type": "markdown",
   "metadata": {},
   "source": [
    "#### First tests - very basic\n"
   ]
  },
  {
   "cell_type": "code",
   "execution_count": 2,
   "metadata": {},
   "outputs": [],
   "source": [
    "async def main(agent, user_input):\n",
    "    \n",
    "    result = await Runner.run(agent, user_input)\n",
    "    print(result.final_output)\n",
    "\n",
    "    return result\n",
    "    \n",
    "agent = Agent(\n",
    "    name=\"Funny guy\", \n",
    "    instructions=\"You are a helpful assistant that always responds in a humorous manner\",\n",
    "    model = \"gpt-4o\",\n",
    "    model_settings = ModelSettings(temperature=0.0),\n",
    "    #handoff_description = None, # A description of the agent.\n",
    "    #handoffs = [], # Sub-agents that the agent can delegate to. \n",
    "    #tools = [], # A list of tools that the agent can use.\n",
    "    #input_guardrails = [],\n",
    "    #output_guardrails = [],\n",
    "    #output_type = None, # The type of the output object. If not provided, the output will be `str`.\n",
    "    )\n",
    "\n",
    "user_input = \"Write a haiku about recursion in programming.\""
   ]
  },
  {
   "cell_type": "code",
   "execution_count": 3,
   "metadata": {},
   "outputs": [
    {
     "name": "stdout",
     "output_type": "stream",
     "text": [
      "Code calls itself, loops,  \n",
      "In endless self-reflection—  \n",
      "Oops, stack overflow!\n"
     ]
    }
   ],
   "source": [
    "r = await main(agent, user_input)"
   ]
  },
  {
   "cell_type": "code",
   "execution_count": 4,
   "metadata": {},
   "outputs": [
    {
     "data": {
      "text/plain": [
       "{'input': 'Write a haiku about recursion in programming.',\n",
       " 'new_items': [MessageOutputItem(agent=Agent(name='Funny guy', instructions='You are a helpful assistant that always responds in a humorous manner', handoff_description=None, handoffs=[], model='gpt-4o', model_settings=ModelSettings(temperature=0.0, top_p=None, frequency_penalty=None, presence_penalty=None, tool_choice=None, parallel_tool_calls=False, truncation=None, max_tokens=None), tools=[], input_guardrails=[], output_guardrails=[], output_type=None, hooks=None), raw_item=ResponseOutputMessage(id='msg_67d712031fd08192a09250421eaefe0d0f0e59e8dd15abd1', content=[ResponseOutputText(annotations=[], text='Code calls itself, loops,  \\nIn endless self-reflection—  \\nOops, stack overflow!', type='output_text')], role='assistant', status='completed', type='message'), type='message_output_item')],\n",
       " 'raw_responses': [ModelResponse(output=[ResponseOutputMessage(id='msg_67d712031fd08192a09250421eaefe0d0f0e59e8dd15abd1', content=[ResponseOutputText(annotations=[], text='Code calls itself, loops,  \\nIn endless self-reflection—  \\nOops, stack overflow!', type='output_text')], role='assistant', status='completed', type='message')], usage=Usage(requests=1, input_tokens=50, output_tokens=20, total_tokens=70), referenceable_id='resp_67d71202b4948192a36e933f886c00be0f0e59e8dd15abd1')],\n",
       " 'final_output': 'Code calls itself, loops,  \\nIn endless self-reflection—  \\nOops, stack overflow!',\n",
       " 'input_guardrail_results': [],\n",
       " 'output_guardrail_results': [],\n",
       " '_last_agent': Agent(name='Funny guy', instructions='You are a helpful assistant that always responds in a humorous manner', handoff_description=None, handoffs=[], model='gpt-4o', model_settings=ModelSettings(temperature=0.0, top_p=None, frequency_penalty=None, presence_penalty=None, tool_choice=None, parallel_tool_calls=False, truncation=None, max_tokens=None), tools=[], input_guardrails=[], output_guardrails=[], output_type=None, hooks=None)}"
      ]
     },
     "execution_count": 4,
     "metadata": {},
     "output_type": "execute_result"
    }
   ],
   "source": [
    "r.__dict__"
   ]
  },
  {
   "cell_type": "code",
   "execution_count": 5,
   "metadata": {},
   "outputs": [
    {
     "data": {
      "text/plain": [
       "[{'content': 'Write a haiku about recursion in programming.', 'role': 'user'},\n",
       " {'id': 'msg_67d712031fd08192a09250421eaefe0d0f0e59e8dd15abd1',\n",
       "  'content': [{'annotations': [],\n",
       "    'text': 'Code calls itself, loops,  \\nIn endless self-reflection—  \\nOops, stack overflow!',\n",
       "    'type': 'output_text'}],\n",
       "  'role': 'assistant',\n",
       "  'status': 'completed',\n",
       "  'type': 'message'}]"
      ]
     },
     "execution_count": 5,
     "metadata": {},
     "output_type": "execute_result"
    }
   ],
   "source": [
    "# in case you want to pass the output of this run as input to the next one\n",
    "r.to_input_list()"
   ]
  },
  {
   "cell_type": "code",
   "execution_count": 6,
   "metadata": {},
   "outputs": [
    {
     "data": {
      "text/plain": [
       "[{'content': 'Write a haiku about recursion in programming.', 'role': 'user'},\n",
       " {'id': 'msg_67d712031fd08192a09250421eaefe0d0f0e59e8dd15abd1',\n",
       "  'content': [{'annotations': [],\n",
       "    'text': 'Code calls itself, loops,  \\nIn endless self-reflection—  \\nOops, stack overflow!',\n",
       "    'type': 'output_text'}],\n",
       "  'role': 'assistant',\n",
       "  'status': 'completed',\n",
       "  'type': 'message'},\n",
       " {'role': 'user', 'content': 'now translate this to Russian'},\n",
       " {'id': 'msg_67d712042d588192a9d59969738b094f0f0e59e8dd15abd1',\n",
       "  'content': [{'annotations': [],\n",
       "    'text': 'Код сам себя зовёт,  \\nВ бесконечном размышленье—  \\nОй, переполнение!',\n",
       "    'type': 'output_text'}],\n",
       "  'role': 'assistant',\n",
       "  'status': 'completed',\n",
       "  'type': 'message'}]"
      ]
     },
     "execution_count": 6,
     "metadata": {},
     "output_type": "execute_result"
    }
   ],
   "source": [
    "r2 = await Runner.run(agent, [*r.to_input_list(), {\"role\": \"user\", \"content\": \"now translate this to Russian\"}])\n",
    "r2.to_input_list()"
   ]
  },
  {
   "cell_type": "code",
   "execution_count": null,
   "metadata": {},
   "outputs": [],
   "source": []
  },
  {
   "cell_type": "markdown",
   "metadata": {},
   "source": [
    "#### Add tools"
   ]
  },
  {
   "cell_type": "code",
   "execution_count": 33,
   "metadata": {},
   "outputs": [],
   "source": [
    "async def main(agent, user_input):\n",
    "    \n",
    "    result = await Runner.run(agent, user_input)\n",
    "    \n",
    "    return result\n",
    "    \n",
    "agent = Agent(\n",
    "    name=\"Funny guy\", \n",
    "    instructions=\"You are a helpful assistant that always responds in a humorous manner\",\n",
    "    model = \"gpt-4o\",\n",
    "    model_settings = ModelSettings(temperature=0.0),\n",
    "    #handoff_description = None, # A description of the agent.\n",
    "    #handoffs = [], # Sub-agents that the agent can delegate to. \n",
    "    tools = [WebSearchTool()], # A list of tools that the agent can use.\n",
    "    #input_guardrails = [],\n",
    "    #output_guardrails = [],\n",
    "    #output_type = None, # The type of the output object. If not provided, the output will be `str`.\n",
    "    )\n",
    "\n",
    "user_input = \"Get the SP500 performance of the past week and summarize it\""
   ]
  },
  {
   "cell_type": "code",
   "execution_count": 34,
   "metadata": {},
   "outputs": [
    {
     "data": {
      "text/markdown": [
       "Over the past week, the S&P 500 has been on a rollercoaster ride that would make even the bravest thrill-seekers queasy. Despite a valiant 2.1% rally on Friday, March 14, 2025, the index couldn't shake off its fourth consecutive losing week, dipping 2.3% overall. ([apnews.com](https://apnews.com/article/5d8aafc9aa44102b43c554f51f8c85ba?utm_source=openai))\n",
       "\n",
       "The market's mood swings were largely fueled by President Trump's tariff tango, leaving investors jittery and the S&P 500 waltzing into correction territory on Thursday, March 13, 2025, closing more than 10% below its mid-February peak. ([axios.com](https://www.axios.com/2025/03/13/stock-market-today-recession-tariffs?utm_source=openai))\n",
       "\n",
       "Adding to the drama, the University of Michigan's consumer sentiment survey revealed that consumers are about as optimistic as a cat in a room full of rocking chairs, with expectations for business conditions hitting a record low. ([investrade.com](https://www.investrade.com/market-review-march-14-2025/?utm_source=openai))\n",
       "\n",
       "In summary, the S&P 500's performance this week was like a soap opera: full of twists, turns, and a cliffhanger ending.\n",
       "\n",
       "\n",
       "## Market Turmoil Amid Tariff Concerns:\n",
       "- [Wall Street rallies to its best day in months, but that's not enough to salvage its losing week](https://apnews.com/article/99a47b4146ef7204ea94e0e5e46e5c26?utm_source=openai)\n",
       "- [US stocks rebound as government shutdown fears recede](https://www.ft.com/content/aa8ee6d9-28f0-4c87-8aa1-76bfbbe92013?utm_source=openai)\n",
       "- [S&P 500 selloff hits correction territory amid tariff fears](https://www.axios.com/2025/03/13/stock-market-today-recession-tariffs?utm_source=openai) "
      ],
      "text/plain": [
       "<IPython.core.display.Markdown object>"
      ]
     },
     "metadata": {},
     "output_type": "display_data"
    }
   ],
   "source": [
    "r = await main(agent, user_input)\n",
    "\n",
    "display(Markdown(r.final_output))"
   ]
  },
  {
   "cell_type": "code",
   "execution_count": null,
   "metadata": {},
   "outputs": [],
   "source": []
  },
  {
   "cell_type": "markdown",
   "metadata": {},
   "source": [
    "Custom tools"
   ]
  },
  {
   "cell_type": "code",
   "execution_count": 16,
   "metadata": {},
   "outputs": [],
   "source": [
    "def pretty_print_agent_run_events(agent_run_response, display_last_step=False):\n",
    "    \n",
    "    for e, i in enumerate(agent_run_response.new_items):\n",
    "        print(\"\\n\" + \"=\" * 60)\n",
    "        print(f\"✨ Step {e+1}: {i.type} ✨\")\n",
    "        print(\"=\" * 60 + \"\\n\")\n",
    "\n",
    "        if i.type == 'message_output_item':\n",
    "            #print(f\"Output: {i.raw_item.content[0].text}\")\n",
    "            print(\"📝 Output:\")\n",
    "            if display_last_step:\n",
    "                display(Markdown(i.raw_item.content[0].text))\n",
    "            else:\n",
    "                print(i.raw_item.content[0].text)\n",
    "        \n",
    "        else:\n",
    "            print(\"📝 Output:\")\n",
    "            print(f\"{i.raw_item}\")\n",
    "\n",
    "        print(\"\\n\")"
   ]
  },
  {
   "cell_type": "code",
   "execution_count": 39,
   "metadata": {},
   "outputs": [],
   "source": [
    "@function_tool  \n",
    "async def fetch_current_time(location: str) -> str:\n",
    "    \n",
    "    \"\"\"Fetch the current time for a given location.\n",
    "\n",
    "    Args:\n",
    "        location: The location to fetch the current time for. Example: Europe/Budapest. Format is pytz timezone string.\n",
    "    \"\"\"\n",
    "    \n",
    "    _tz = pytz.timezone(location)\n",
    "    _time = datetime.now(_tz)\n",
    "\n",
    "    return f\"Current time in {location}: {_time.strftime('%Y-%m-%d %H:%M:%S %Z')}\""
   ]
  },
  {
   "cell_type": "code",
   "execution_count": 45,
   "metadata": {},
   "outputs": [
    {
     "name": "stdout",
     "output_type": "stream",
     "text": [
      "Name: fetch_current_time\n",
      "Description: Fetch the current time for a given location.\n",
      "Parameters: \n",
      "{\n",
      "  \"properties\": {\n",
      "    \"location\": {\n",
      "      \"description\": \"The location to fetch the current time for. Example: Europe/Budapest. Format is pytz timezone string.\",\n",
      "      \"title\": \"Location\",\n",
      "      \"type\": \"string\"\n",
      "    }\n",
      "  },\n",
      "  \"required\": [\n",
      "    \"location\"\n",
      "  ],\n",
      "  \"title\": \"fetch_current_time_args\",\n",
      "  \"type\": \"object\",\n",
      "  \"additionalProperties\": false\n",
      "}\n"
     ]
    }
   ],
   "source": [
    "print(f\"Name: {fetch_current_time.name}\")\n",
    "print(f\"Description: {fetch_current_time.description}\")\n",
    "print(f\"Parameters: \\n{json.dumps(fetch_current_time.params_json_schema, indent=2)}\")"
   ]
  },
  {
   "cell_type": "code",
   "execution_count": 46,
   "metadata": {},
   "outputs": [],
   "source": [
    "agent = Agent(\n",
    "    name=\"Funny guy\", \n",
    "    instructions=\"You are a helpful assistant that always responds in a humorous manner\",\n",
    "    model = \"gpt-4o\",\n",
    "    model_settings = ModelSettings(temperature=0.0),\n",
    "    #handoff_description = None, # A description of the agent.\n",
    "    #handoffs = [], # Sub-agents that the agent can delegate to. \n",
    "    tools = [WebSearchTool(), fetch_current_time], # A list of tools that the agent can use.\n",
    "    #input_guardrails = [],\n",
    "    #output_guardrails = [],\n",
    "    #output_type = None, # The type of the output object. If not provided, the output will be `str`.\n",
    "    )\n",
    "\n",
    "user_input = \"Check the current time in San Francisco, see if anything interesting is planned there in the next 5 hours\""
   ]
  },
  {
   "cell_type": "code",
   "execution_count": 47,
   "metadata": {},
   "outputs": [
    {
     "data": {
      "text/markdown": [
       "As of 6:43 AM PDT on Saturday, March 15, 2025, in San Francisco, the city is buzzing with events to kick off your day. Here are some highlights happening within the next five hours:\n",
       "\n",
       "\n",
       "\n",
       "**St. Patrick's Day Parade**  \n",
       "Starting at 10:00 AM, the 174th San Francisco St. Patrick's Day Parade marches from 2nd and Market Streets to Civic Center Plaza. Expect vibrant floats, lively music, and a sea of green. ([hk.trip.com](https://hk.trip.com/events/1466914-2025-03-san-francisco-collection/?utm_source=openai))\n",
       "\n",
       "\n",
       "\n",
       "\n",
       "**Noe Valley Celtic Festival**  \n",
       "From 9:00 AM to 7:00 PM, enjoy live music, Irish dancers, food, drinks, and arts and crafts at the Noe Valley Celtic Festival. It's a family-friendly event celebrating Celtic culture. ([sf.funcheap.com](https://sf.funcheap.com/2025/03/15/?utm_source=openai))\n",
       "\n",
       "\n",
       "\n",
       "\n",
       "**Free Museum Admission**  \n",
       "Bay Area residents can enjoy free general admission to the Legion of Honor and de Young Museum starting at 9:30 AM. Explore art collections without spending a dime. ([sf.funcheap.com](https://sf.funcheap.com/2025/03/15/?utm_source=openai))\n",
       "\n",
       "\n",
       "\n",
       "\n",
       "**Fiber Fest at the Museum of Craft and Design**  \n",
       "From 1:00 PM to 5:00 PM, engage in a celebration of creativity with fiber arts, showcasing local artists and interactive exhibits. ([sf.funcheap.com](https://sf.funcheap.com/2025/03/15/?utm_source=openai))\n",
       "\n",
       "\n",
       "\n",
       "\n",
       "**Arbor Day Run Green 5K/10K/13.1**  \n",
       "Celebrate Arbor Day with a fun and eco-friendly run at Crissy Field. The event starts at 7:30 AM, promoting a greener future. ([hk.trip.com](https://hk.trip.com/events/1466914-2025-03-san-francisco-collection/?utm_source=openai))\n",
       "\n",
       "\n",
       "Whether you're in the mood for parades, cultural festivals, art, or a refreshing run, San Francisco has something to offer this morning. Enjoy your day! "
      ],
      "text/plain": [
       "<IPython.core.display.Markdown object>"
      ]
     },
     "metadata": {},
     "output_type": "display_data"
    }
   ],
   "source": [
    "r = await main(agent, user_input)\n",
    "display(Markdown(r.final_output))"
   ]
  },
  {
   "cell_type": "code",
   "execution_count": 102,
   "metadata": {},
   "outputs": [
    {
     "name": "stdout",
     "output_type": "stream",
     "text": [
      "\n",
      "============================================================\n",
      "✨ Step 1: tool_call_item ✨\n",
      "============================================================\n",
      "\n",
      "📝 Output:\n",
      "ResponseFunctionToolCall(id='fc_67d583e532308192b9c51ac1d23fab11093001810b203790', arguments='{\"location\":\"America/Los_Angeles\"}', call_id='call_2CGjfDpSHpL7B3R03QBm1wue', name='fetch_current_time', type='function_call', status='completed')\n",
      "\n",
      "\n",
      "\n",
      "============================================================\n",
      "✨ Step 2: tool_call_output_item ✨\n",
      "============================================================\n",
      "\n",
      "📝 Output:\n",
      "{'call_id': 'call_2CGjfDpSHpL7B3R03QBm1wue', 'output': 'Current time in America/Los_Angeles: 2025-03-15 06:43:01 PDT', 'type': 'function_call_output'}\n",
      "\n",
      "\n",
      "\n",
      "============================================================\n",
      "✨ Step 3: tool_call_item ✨\n",
      "============================================================\n",
      "\n",
      "📝 Output:\n",
      "ResponseFunctionWebSearch(id='ws_67d583e644a481929d58bca4e6af395a093001810b203790', status='completed', type='web_search_call')\n",
      "\n",
      "\n",
      "\n",
      "============================================================\n",
      "✨ Step 4: message_output_item ✨\n",
      "============================================================\n",
      "\n",
      "📝 Output:\n"
     ]
    },
    {
     "data": {
      "text/markdown": [
       "As of 6:43 AM PDT on Saturday, March 15, 2025, in San Francisco, the city is buzzing with events to kick off your day. Here are some highlights happening within the next five hours:\n",
       "\n",
       "\n",
       "\n",
       "**St. Patrick's Day Parade**  \n",
       "Starting at 10:00 AM, the 174th San Francisco St. Patrick's Day Parade marches from 2nd and Market Streets to Civic Center Plaza. Expect vibrant floats, lively music, and a sea of green. ([hk.trip.com](https://hk.trip.com/events/1466914-2025-03-san-francisco-collection/?utm_source=openai))\n",
       "\n",
       "\n",
       "\n",
       "\n",
       "**Noe Valley Celtic Festival**  \n",
       "From 9:00 AM to 7:00 PM, enjoy live music, Irish dancers, food, drinks, and arts and crafts at the Noe Valley Celtic Festival. It's a family-friendly event celebrating Celtic culture. ([sf.funcheap.com](https://sf.funcheap.com/2025/03/15/?utm_source=openai))\n",
       "\n",
       "\n",
       "\n",
       "\n",
       "**Free Museum Admission**  \n",
       "Bay Area residents can enjoy free general admission to the Legion of Honor and de Young Museum starting at 9:30 AM. Explore art collections without spending a dime. ([sf.funcheap.com](https://sf.funcheap.com/2025/03/15/?utm_source=openai))\n",
       "\n",
       "\n",
       "\n",
       "\n",
       "**Fiber Fest at the Museum of Craft and Design**  \n",
       "From 1:00 PM to 5:00 PM, engage in a celebration of creativity with fiber arts, showcasing local artists and interactive exhibits. ([sf.funcheap.com](https://sf.funcheap.com/2025/03/15/?utm_source=openai))\n",
       "\n",
       "\n",
       "\n",
       "\n",
       "**Arbor Day Run Green 5K/10K/13.1**  \n",
       "Celebrate Arbor Day with a fun and eco-friendly run at Crissy Field. The event starts at 7:30 AM, promoting a greener future. ([hk.trip.com](https://hk.trip.com/events/1466914-2025-03-san-francisco-collection/?utm_source=openai))\n",
       "\n",
       "\n",
       "Whether you're in the mood for parades, cultural festivals, art, or a refreshing run, San Francisco has something to offer this morning. Enjoy your day! "
      ],
      "text/plain": [
       "<IPython.core.display.Markdown object>"
      ]
     },
     "metadata": {},
     "output_type": "display_data"
    },
    {
     "name": "stdout",
     "output_type": "stream",
     "text": [
      "\n",
      "\n"
     ]
    }
   ],
   "source": [
    "pretty_print_agent_run_events(r, True)"
   ]
  },
  {
   "cell_type": "code",
   "execution_count": 103,
   "metadata": {},
   "outputs": [
    {
     "data": {
      "text/plain": [
       "[{'content': 'Check the current time in San Francisco, see if anything interesting is planned there in the next 5 hours',\n",
       "  'role': 'user'},\n",
       " {'id': 'fc_67d583e532308192b9c51ac1d23fab11093001810b203790',\n",
       "  'arguments': '{\"location\":\"America/Los_Angeles\"}',\n",
       "  'call_id': 'call_2CGjfDpSHpL7B3R03QBm1wue',\n",
       "  'name': 'fetch_current_time',\n",
       "  'type': 'function_call',\n",
       "  'status': 'completed'},\n",
       " {'call_id': 'call_2CGjfDpSHpL7B3R03QBm1wue',\n",
       "  'output': 'Current time in America/Los_Angeles: 2025-03-15 06:43:01 PDT',\n",
       "  'type': 'function_call_output'},\n",
       " {'id': 'ws_67d583e644a481929d58bca4e6af395a093001810b203790',\n",
       "  'status': 'completed',\n",
       "  'type': 'web_search_call'},\n",
       " {'id': 'msg_67d583e86a308192acb8956b9673c524093001810b203790',\n",
       "  'content': [{'annotations': [{'end_index': 506,\n",
       "      'start_index': 403,\n",
       "      'title': 'Popular Events in San Francisco in March 2025(March Updated) | Trip.com',\n",
       "      'type': 'url_citation',\n",
       "      'url': 'https://hk.trip.com/events/1466914-2025-03-san-francisco-collection/?utm_source=openai'},\n",
       "     {'end_index': 802,\n",
       "      'start_index': 728,\n",
       "      'title': 'Events for March 15, 2025 - Funcheap',\n",
       "      'type': 'url_citation',\n",
       "      'url': 'https://sf.funcheap.com/2025/03/15/?utm_source=openai'},\n",
       "     {'end_index': 1074,\n",
       "      'start_index': 1000,\n",
       "      'title': 'Events for March 15, 2025 - Funcheap',\n",
       "      'type': 'url_citation',\n",
       "      'url': 'https://sf.funcheap.com/2025/03/15/?utm_source=openai'},\n",
       "     {'end_index': 1335,\n",
       "      'start_index': 1261,\n",
       "      'title': 'Events for March 15, 2025 - Funcheap',\n",
       "      'type': 'url_citation',\n",
       "      'url': 'https://sf.funcheap.com/2025/03/15/?utm_source=openai'},\n",
       "     {'end_index': 1607,\n",
       "      'start_index': 1504,\n",
       "      'title': 'Popular Events in San Francisco in March 2025(March Updated) | Trip.com',\n",
       "      'type': 'url_citation',\n",
       "      'url': 'https://hk.trip.com/events/1466914-2025-03-san-francisco-collection/?utm_source=openai'}],\n",
       "    'text': \"As of 6:43\\u202fAM PDT on Saturday, March 15, 2025, in San Francisco, the city is buzzing with events to kick off your day. Here are some highlights happening within the next five hours:\\n\\n\\n\\n**St. Patrick's Day Parade**  \\nStarting at 10:00\\u202fAM, the 174th San Francisco St. Patrick's Day Parade marches from 2nd and Market Streets to Civic Center Plaza. Expect vibrant floats, lively music, and a sea of green. ([hk.trip.com](https://hk.trip.com/events/1466914-2025-03-san-francisco-collection/?utm_source=openai))\\n\\n\\n\\n\\n**Noe Valley Celtic Festival**  \\nFrom 9:00\\u202fAM to 7:00\\u202fPM, enjoy live music, Irish dancers, food, drinks, and arts and crafts at the Noe Valley Celtic Festival. It's a family-friendly event celebrating Celtic culture. ([sf.funcheap.com](https://sf.funcheap.com/2025/03/15/?utm_source=openai))\\n\\n\\n\\n\\n**Free Museum Admission**  \\nBay Area residents can enjoy free general admission to the Legion of Honor and de Young Museum starting at 9:30\\u202fAM. Explore art collections without spending a dime. ([sf.funcheap.com](https://sf.funcheap.com/2025/03/15/?utm_source=openai))\\n\\n\\n\\n\\n**Fiber Fest at the Museum of Craft and Design**  \\nFrom 1:00\\u202fPM to 5:00\\u202fPM, engage in a celebration of creativity with fiber arts, showcasing local artists and interactive exhibits. ([sf.funcheap.com](https://sf.funcheap.com/2025/03/15/?utm_source=openai))\\n\\n\\n\\n\\n**Arbor Day Run Green 5K/10K/13.1**  \\nCelebrate Arbor Day with a fun and eco-friendly run at Crissy Field. The event starts at 7:30\\u202fAM, promoting a greener future. ([hk.trip.com](https://hk.trip.com/events/1466914-2025-03-san-francisco-collection/?utm_source=openai))\\n\\n\\nWhether you're in the mood for parades, cultural festivals, art, or a refreshing run, San Francisco has something to offer this morning. Enjoy your day! \",\n",
       "    'type': 'output_text'}],\n",
       "  'role': 'assistant',\n",
       "  'status': 'completed',\n",
       "  'type': 'message'}]"
      ]
     },
     "execution_count": 103,
     "metadata": {},
     "output_type": "execute_result"
    }
   ],
   "source": [
    "r.to_input_list()"
   ]
  },
  {
   "cell_type": "code",
   "execution_count": null,
   "metadata": {},
   "outputs": [],
   "source": []
  },
  {
   "cell_type": "markdown",
   "metadata": {},
   "source": [
    "Agents-as-tools"
   ]
  },
  {
   "cell_type": "code",
   "execution_count": 104,
   "metadata": {},
   "outputs": [
    {
     "name": "stdout",
     "output_type": "stream",
     "text": [
      "### English\n",
      "Current time in San Francisco is 07:05 AM on March 15, 2025, and in London, it is 2:05 PM on March 15, 2025.\n",
      "\n",
      "### Hungarian\n",
      "San Franciscóban 2025. március 15-én, 07:05 van, míg Londonban 2025. március 15-én, 14:05 órát mutat az idő.\n",
      "\n",
      "### Russian\n",
      "Текущее время в Сан-Франциско 07:05 утра 15 марта 2025 года, а в Лондоне 14:05 15 марта 2025 года.\n"
     ]
    }
   ],
   "source": [
    "russian_agent = Agent(\n",
    "    name=\"Russian agent\",\n",
    "    instructions=\"You translate the user's message to Russian\",\n",
    ")\n",
    "\n",
    "hungarian_agent = Agent(\n",
    "    name=\"Hungarian agent\",\n",
    "    instructions=\"You translate the user's message to Hungarian\",\n",
    ")\n",
    "\n",
    "orchestrator_agent = Agent(\n",
    "    name=\"orchestrator_agent\",\n",
    "    instructions=\"You are a helpful assistant\",\n",
    "    tools=[\n",
    "        russian_agent.as_tool(\n",
    "            tool_name=\"translate_to_russian\",\n",
    "            tool_description=\"Translate the user's message to Russian\",\n",
    "        ),\n",
    "        hungarian_agent.as_tool(\n",
    "            tool_name=\"translate_to_hungarian\",\n",
    "            tool_description=\"Translate the user's message to Hungarian\",\n",
    "        ),\n",
    "        fetch_current_time\n",
    "    ],\n",
    ")\n",
    "\n",
    "user_input = \"Check the current time in San Francisco, then in London. Report back in english, then in hungarian, then in russian!\"\n",
    "\n",
    "o = await Runner.run(orchestrator_agent, input=user_input)\n",
    "print(o.final_output)"
   ]
  },
  {
   "cell_type": "code",
   "execution_count": 105,
   "metadata": {},
   "outputs": [
    {
     "name": "stdout",
     "output_type": "stream",
     "text": [
      "\n",
      "============================================================\n",
      "✨ Step 1: tool_call_item ✨\n",
      "============================================================\n",
      "\n",
      "📝 Output:\n",
      "ResponseFunctionToolCall(id='fc_67d58917b04c8192a3c4a977740337cc06a1d7095c0ce155', arguments='{\"location\":\"America/Los_Angeles\"}', call_id='call_jqiDflzmcjxBKd9FAQLPFpoo', name='fetch_current_time', type='function_call', status='completed')\n",
      "\n",
      "\n",
      "\n",
      "============================================================\n",
      "✨ Step 2: tool_call_item ✨\n",
      "============================================================\n",
      "\n",
      "📝 Output:\n",
      "ResponseFunctionToolCall(id='fc_67d58917bfac8192a8362885b85d05c806a1d7095c0ce155', arguments='{\"location\":\"Europe/London\"}', call_id='call_e9x8I90u8zwkwFd1js2DFyvB', name='fetch_current_time', type='function_call', status='completed')\n",
      "\n",
      "\n",
      "\n",
      "============================================================\n",
      "✨ Step 3: tool_call_output_item ✨\n",
      "============================================================\n",
      "\n",
      "📝 Output:\n",
      "{'call_id': 'call_jqiDflzmcjxBKd9FAQLPFpoo', 'output': 'Current time in America/Los_Angeles: 2025-03-15 07:05:11 PDT', 'type': 'function_call_output'}\n",
      "\n",
      "\n",
      "\n",
      "============================================================\n",
      "✨ Step 4: tool_call_output_item ✨\n",
      "============================================================\n",
      "\n",
      "📝 Output:\n",
      "{'call_id': 'call_e9x8I90u8zwkwFd1js2DFyvB', 'output': 'Current time in Europe/London: 2025-03-15 14:05:11 GMT', 'type': 'function_call_output'}\n",
      "\n",
      "\n",
      "\n",
      "============================================================\n",
      "✨ Step 5: tool_call_item ✨\n",
      "============================================================\n",
      "\n",
      "📝 Output:\n",
      "ResponseFunctionToolCall(id='fc_67d58918f52481928329c7a901abf40206a1d7095c0ce155', arguments='{\"input\":\"Current time in San Francisco is 07:05 AM on March 15, 2025, and in London, it is 2:05 PM on March 15, 2025.\"}', call_id='call_n7VlfpX989eRnZS6nNTDGSWH', name='translate_to_hungarian', type='function_call', status='completed')\n",
      "\n",
      "\n",
      "\n",
      "============================================================\n",
      "✨ Step 6: tool_call_item ✨\n",
      "============================================================\n",
      "\n",
      "📝 Output:\n",
      "ResponseFunctionToolCall(id='fc_67d589196f348192b6563ca7b799546506a1d7095c0ce155', arguments='{\"input\":\"Current time in San Francisco is 07:05 AM on March 15, 2025, and in London, it is 2:05 PM on March 15, 2025.\"}', call_id='call_HcaYWPBJF7plDkPWEXJAIxdM', name='translate_to_russian', type='function_call', status='completed')\n",
      "\n",
      "\n",
      "\n",
      "============================================================\n",
      "✨ Step 7: tool_call_output_item ✨\n",
      "============================================================\n",
      "\n",
      "📝 Output:\n",
      "{'call_id': 'call_n7VlfpX989eRnZS6nNTDGSWH', 'output': 'San Franciscóban 2025. március 15-én, 07:05 van, míg Londonban 2025. március 15-én, 14:05 órát mutat az idő.', 'type': 'function_call_output'}\n",
      "\n",
      "\n",
      "\n",
      "============================================================\n",
      "✨ Step 8: tool_call_output_item ✨\n",
      "============================================================\n",
      "\n",
      "📝 Output:\n",
      "{'call_id': 'call_HcaYWPBJF7plDkPWEXJAIxdM', 'output': 'Текущее время в Сан-Франциско 07:05 утра 15 марта 2025 года, а в Лондоне 14:05 15 марта 2025 года.', 'type': 'function_call_output'}\n",
      "\n",
      "\n",
      "\n",
      "============================================================\n",
      "✨ Step 9: message_output_item ✨\n",
      "============================================================\n",
      "\n",
      "📝 Output:\n"
     ]
    },
    {
     "data": {
      "text/markdown": [
       "### English\n",
       "Current time in San Francisco is 07:05 AM on March 15, 2025, and in London, it is 2:05 PM on March 15, 2025.\n",
       "\n",
       "### Hungarian\n",
       "San Franciscóban 2025. március 15-én, 07:05 van, míg Londonban 2025. március 15-én, 14:05 órát mutat az idő.\n",
       "\n",
       "### Russian\n",
       "Текущее время в Сан-Франциско 07:05 утра 15 марта 2025 года, а в Лондоне 14:05 15 марта 2025 года."
      ],
      "text/plain": [
       "<IPython.core.display.Markdown object>"
      ]
     },
     "metadata": {},
     "output_type": "display_data"
    },
    {
     "name": "stdout",
     "output_type": "stream",
     "text": [
      "\n",
      "\n"
     ]
    }
   ],
   "source": [
    "pretty_print_agent_run_events(o, True)"
   ]
  },
  {
   "cell_type": "code",
   "execution_count": null,
   "metadata": {},
   "outputs": [],
   "source": []
  },
  {
   "cell_type": "markdown",
   "metadata": {},
   "source": [
    "#### Handoffs\n",
    "\n",
    "Handoffs transfer the entire conversation to another agent, instead of simply invoking them. Upon transfer users can decide to apply some filters, most commonly to drop tool calls to limit the amount being sent.\n",
    "\n",
    "For that we can use `handoff_filters` from `agents.extensions` and set them to `handoff_filters.remove_all_tools`\n",
    "\n",
    "Example code:\n",
    "```python\n",
    "from agents import Agent, handoff\n",
    "from agents.extensions import handoff_filters\n",
    "\n",
    "agent = Agent(name=\"FAQ agent\")\n",
    "\n",
    "handoff_obj = handoff(\n",
    "    agent=agent,\n",
    "    input_filter=handoff_filters.remove_all_tools,\n",
    ")\n",
    "```\n",
    "\n",
    "To make sure that LLMs understand handoffs properly, it is recommended including information about handoffs in your agents. Available prompts in the Agents SDK:\n",
    "\n",
    "```python\n",
    "RECOMMENDED_PROMPT_PREFIX = \"# System context\\nYou are part of a multi-agent system called the Agents SDK, designed to make agent coordination and execution easy. Agents uses two primary abstraction: **Agents** and **Handoffs**. An agent encompasses instructions and tools and can hand off a conversation to another agent when appropriate. Handoffs are achieved by calling a handoff function, generally named `transfer_to_<agent_name>`. Transfers between agents are handled seamlessly in the background; do not mention or draw attention to these transfers in your conversation with the user.\\n\"\n",
    "```\n",
    "\n",
    "Or create the prompt with the function: `agents.extensions.handoff_prompt.prompt_with_handoff_instructions`"
   ]
  },
  {
   "cell_type": "code",
   "execution_count": 9,
   "metadata": {},
   "outputs": [
    {
     "name": "stdout",
     "output_type": "stream",
     "text": [
      "# System context\n",
      "You are part of a multi-agent system called the Agents SDK, designed to make agent coordination and execution easy. Agents uses two primary abstraction: **Agents** and **Handoffs**. An agent encompasses instructions and tools and can hand off a conversation to another agent when appropriate. Handoffs are achieved by calling a handoff function, generally named `transfer_to_<agent_name>`. Transfers between agents are handled seamlessly in the background; do not mention or draw attention to these transfers in your conversation with the user.\n",
      "\n",
      "\n",
      "HERE GOES MY CUSTOM PROMPT\n"
     ]
    }
   ],
   "source": [
    "from agents.extensions.handoff_prompt import prompt_with_handoff_instructions\n",
    "\n",
    "p = prompt_with_handoff_instructions(\"HERE GOES MY CUSTOM PROMPT\")\n",
    "print(p)"
   ]
  },
  {
   "cell_type": "code",
   "execution_count": null,
   "metadata": {},
   "outputs": [],
   "source": []
  },
  {
   "cell_type": "markdown",
   "metadata": {},
   "source": [
    "Previous agents-as-tools but now enabling Handoffs"
   ]
  },
  {
   "cell_type": "code",
   "execution_count": null,
   "metadata": {},
   "outputs": [
    {
     "name": "stdout",
     "output_type": "stream",
     "text": [
      "A kérésed a magyar nyelvű agentnek lett átadva.\n"
     ]
    }
   ],
   "source": [
    "russian_agent = Agent(\n",
    "    name=\"Russian agent\",\n",
    "    instructions=prompt_with_handoff_instructions(\"You translate the user's message ONLY to Russian\"),\n",
    "    handoff_description=\"This agent ONLY speaks Russian fluently and can translate any language to Russian\",\n",
    ")\n",
    "\n",
    "hungarian_agent = Agent(\n",
    "    name=\"Hungarian agent\",\n",
    "    instructions=prompt_with_handoff_instructions(\"You translate the user's message ONLY to Hungarian\"),\n",
    "    handoff_description=\"This agent ONLY speaks Hungarian fluently and can translate any language to Hungarian\",\n",
    "    handoffs=[russian_agent]\n",
    ")\n",
    "\n",
    "orchestrator_agent = Agent(\n",
    "    name=\"orchestrator_agent\",\n",
    "    instructions=prompt_with_handoff_instructions(\"You are a helpful assistant\"),\n",
    "    tools=[fetch_current_time],\n",
    "    handoffs=[russian_agent, hungarian_agent]\n",
    ")\n",
    "\n",
    "#russian_agent.handoffs.append()\n",
    "\n",
    "user_input = \"Check the current time in San Francisco, then in London. Translate your response to Hungarian, then to Russian.\"\n",
    "\n",
    "o = await Runner.run(orchestrator_agent, input=user_input)\n",
    "print(o.final_output)"
   ]
  },
  {
   "cell_type": "code",
   "execution_count": 140,
   "metadata": {},
   "outputs": [
    {
     "name": "stdout",
     "output_type": "stream",
     "text": [
      "\n",
      "============================================================\n",
      "✨ Step 1: tool_call_item ✨\n",
      "============================================================\n",
      "\n",
      "📝 Output:\n",
      "ResponseFunctionToolCall(id='fc_67d6a8cf08b48192ba69dae4ab1d898c009caa1fac26db26', arguments='{\"location\":\"America/Los_Angeles\"}', call_id='call_AJz3UQnc2866c9C6zNCLAI14', name='fetch_current_time', type='function_call', status='completed')\n",
      "\n",
      "\n",
      "\n",
      "============================================================\n",
      "✨ Step 2: tool_call_item ✨\n",
      "============================================================\n",
      "\n",
      "📝 Output:\n",
      "ResponseFunctionToolCall(id='fc_67d6a8cf23c88192879c39d754c17d1c009caa1fac26db26', arguments='{\"location\":\"Europe/London\"}', call_id='call_8U6vYmhW80ASjvaFn64TX9AY', name='fetch_current_time', type='function_call', status='completed')\n",
      "\n",
      "\n",
      "\n",
      "============================================================\n",
      "✨ Step 3: tool_call_output_item ✨\n",
      "============================================================\n",
      "\n",
      "📝 Output:\n",
      "{'call_id': 'call_AJz3UQnc2866c9C6zNCLAI14', 'output': 'Current time in America/Los_Angeles: 2025-03-16 03:32:47 PDT', 'type': 'function_call_output'}\n",
      "\n",
      "\n",
      "\n",
      "============================================================\n",
      "✨ Step 4: tool_call_output_item ✨\n",
      "============================================================\n",
      "\n",
      "📝 Output:\n",
      "{'call_id': 'call_8U6vYmhW80ASjvaFn64TX9AY', 'output': 'Current time in Europe/London: 2025-03-16 10:32:47 GMT', 'type': 'function_call_output'}\n",
      "\n",
      "\n",
      "\n",
      "============================================================\n",
      "✨ Step 5: handoff_call_item ✨\n",
      "============================================================\n",
      "\n",
      "📝 Output:\n",
      "ResponseFunctionToolCall(id='fc_67d6a8d06cb8819291a2ee83bec5a056009caa1fac26db26', arguments='{}', call_id='call_Id3cNWuTsXGvcDu4c0hZFEDm', name='transfer_to_hungarian_agent', type='function_call', status='completed')\n",
      "\n",
      "\n",
      "\n",
      "============================================================\n",
      "✨ Step 6: handoff_call_item ✨\n",
      "============================================================\n",
      "\n",
      "📝 Output:\n",
      "ResponseFunctionToolCall(id='fc_67d6a8d07e44819296a906fdc1b2bbe2009caa1fac26db26', arguments='{}', call_id='call_mJ8nhGQIzp3HHkjN9tb8NLmX', name='transfer_to_russian_agent', type='function_call', status='completed')\n",
      "\n",
      "\n",
      "\n",
      "============================================================\n",
      "✨ Step 7: tool_call_output_item ✨\n",
      "============================================================\n",
      "\n",
      "📝 Output:\n",
      "{'call_id': 'call_mJ8nhGQIzp3HHkjN9tb8NLmX', 'output': 'Multiple handoffs detected, ignoring this one.', 'type': 'function_call_output'}\n",
      "\n",
      "\n",
      "\n",
      "============================================================\n",
      "✨ Step 8: handoff_output_item ✨\n",
      "============================================================\n",
      "\n",
      "📝 Output:\n",
      "{'call_id': 'call_Id3cNWuTsXGvcDu4c0hZFEDm', 'output': \"{'assistant': 'Hungarian agent'}\", 'type': 'function_call_output'}\n",
      "\n",
      "\n",
      "\n",
      "============================================================\n",
      "✨ Step 9: message_output_item ✨\n",
      "============================================================\n",
      "\n",
      "📝 Output:\n"
     ]
    },
    {
     "data": {
      "text/markdown": [
       "A kérésed a magyar nyelvű agentnek lett átadva."
      ],
      "text/plain": [
       "<IPython.core.display.Markdown object>"
      ]
     },
     "metadata": {},
     "output_type": "display_data"
    },
    {
     "name": "stdout",
     "output_type": "stream",
     "text": [
      "\n",
      "\n"
     ]
    }
   ],
   "source": [
    "pretty_print_agent_run_events(o, True)"
   ]
  },
  {
   "cell_type": "code",
   "execution_count": 141,
   "metadata": {},
   "outputs": [
    {
     "data": {
      "text/plain": [
       "{'input': 'Check the current time in San Francisco, then in London. Translate your response to Hungarian, then to Russian.',\n",
       " 'new_items': [ToolCallItem(agent=Agent(name='orchestrator_agent', instructions='# System context\\nYou are part of a multi-agent system called the Agents SDK, designed to make agent coordination and execution easy. Agents uses two primary abstraction: **Agents** and **Handoffs**. An agent encompasses instructions and tools and can hand off a conversation to another agent when appropriate. Handoffs are achieved by calling a handoff function, generally named `transfer_to_<agent_name>`. Transfers between agents are handled seamlessly in the background; do not mention or draw attention to these transfers in your conversation with the user.\\n\\n\\nYou are a helpful assistant', handoff_description=None, handoffs=[Agent(name='Russian agent', instructions=\"# System context\\nYou are part of a multi-agent system called the Agents SDK, designed to make agent coordination and execution easy. Agents uses two primary abstraction: **Agents** and **Handoffs**. An agent encompasses instructions and tools and can hand off a conversation to another agent when appropriate. Handoffs are achieved by calling a handoff function, generally named `transfer_to_<agent_name>`. Transfers between agents are handled seamlessly in the background; do not mention or draw attention to these transfers in your conversation with the user.\\n\\n\\nYou translate the user's message ONLY to Russian\", handoff_description='This agent ONLY speaks Russian fluently and can translate any language to Russian', handoffs=[], model=None, model_settings=ModelSettings(temperature=None, top_p=None, frequency_penalty=None, presence_penalty=None, tool_choice=None, parallel_tool_calls=False, truncation=None, max_tokens=None), tools=[], input_guardrails=[], output_guardrails=[], output_type=None, hooks=None), Agent(name='Hungarian agent', instructions=\"# System context\\nYou are part of a multi-agent system called the Agents SDK, designed to make agent coordination and execution easy. Agents uses two primary abstraction: **Agents** and **Handoffs**. An agent encompasses instructions and tools and can hand off a conversation to another agent when appropriate. Handoffs are achieved by calling a handoff function, generally named `transfer_to_<agent_name>`. Transfers between agents are handled seamlessly in the background; do not mention or draw attention to these transfers in your conversation with the user.\\n\\n\\nYou translate the user's message ONLY to Hungarian\", handoff_description='This agent ONLY speaks Hungarian fluently and can translate any language to Hungarian', handoffs=[Agent(name='Russian agent', instructions=\"# System context\\nYou are part of a multi-agent system called the Agents SDK, designed to make agent coordination and execution easy. Agents uses two primary abstraction: **Agents** and **Handoffs**. An agent encompasses instructions and tools and can hand off a conversation to another agent when appropriate. Handoffs are achieved by calling a handoff function, generally named `transfer_to_<agent_name>`. Transfers between agents are handled seamlessly in the background; do not mention or draw attention to these transfers in your conversation with the user.\\n\\n\\nYou translate the user's message ONLY to Russian\", handoff_description='This agent ONLY speaks Russian fluently and can translate any language to Russian', handoffs=[], model=None, model_settings=ModelSettings(temperature=None, top_p=None, frequency_penalty=None, presence_penalty=None, tool_choice=None, parallel_tool_calls=False, truncation=None, max_tokens=None), tools=[], input_guardrails=[], output_guardrails=[], output_type=None, hooks=None)], model=None, model_settings=ModelSettings(temperature=None, top_p=None, frequency_penalty=None, presence_penalty=None, tool_choice=None, parallel_tool_calls=False, truncation=None, max_tokens=None), tools=[], input_guardrails=[], output_guardrails=[], output_type=None, hooks=None)], model=None, model_settings=ModelSettings(temperature=None, top_p=None, frequency_penalty=None, presence_penalty=None, tool_choice=None, parallel_tool_calls=False, truncation=None, max_tokens=None), tools=[FunctionTool(name='fetch_current_time', description='Fetch the current time for a given location.', params_json_schema={'properties': {'location': {'description': 'The location to fetch the current time for. Example: Europe/Budapest. Format is pytz timezone string.', 'title': 'Location', 'type': 'string'}}, 'required': ['location'], 'title': 'fetch_current_time_args', 'type': 'object', 'additionalProperties': False}, on_invoke_tool=<function function_tool.<locals>._create_function_tool.<locals>._on_invoke_tool at 0x1148468e0>, strict_json_schema=True)], input_guardrails=[], output_guardrails=[], output_type=None, hooks=None), raw_item=ResponseFunctionToolCall(id='fc_67d6a8cf08b48192ba69dae4ab1d898c009caa1fac26db26', arguments='{\"location\":\"America/Los_Angeles\"}', call_id='call_AJz3UQnc2866c9C6zNCLAI14', name='fetch_current_time', type='function_call', status='completed'), type='tool_call_item'),\n",
       "  ToolCallItem(agent=Agent(name='orchestrator_agent', instructions='# System context\\nYou are part of a multi-agent system called the Agents SDK, designed to make agent coordination and execution easy. Agents uses two primary abstraction: **Agents** and **Handoffs**. An agent encompasses instructions and tools and can hand off a conversation to another agent when appropriate. Handoffs are achieved by calling a handoff function, generally named `transfer_to_<agent_name>`. Transfers between agents are handled seamlessly in the background; do not mention or draw attention to these transfers in your conversation with the user.\\n\\n\\nYou are a helpful assistant', handoff_description=None, handoffs=[Agent(name='Russian agent', instructions=\"# System context\\nYou are part of a multi-agent system called the Agents SDK, designed to make agent coordination and execution easy. Agents uses two primary abstraction: **Agents** and **Handoffs**. An agent encompasses instructions and tools and can hand off a conversation to another agent when appropriate. Handoffs are achieved by calling a handoff function, generally named `transfer_to_<agent_name>`. Transfers between agents are handled seamlessly in the background; do not mention or draw attention to these transfers in your conversation with the user.\\n\\n\\nYou translate the user's message ONLY to Russian\", handoff_description='This agent ONLY speaks Russian fluently and can translate any language to Russian', handoffs=[], model=None, model_settings=ModelSettings(temperature=None, top_p=None, frequency_penalty=None, presence_penalty=None, tool_choice=None, parallel_tool_calls=False, truncation=None, max_tokens=None), tools=[], input_guardrails=[], output_guardrails=[], output_type=None, hooks=None), Agent(name='Hungarian agent', instructions=\"# System context\\nYou are part of a multi-agent system called the Agents SDK, designed to make agent coordination and execution easy. Agents uses two primary abstraction: **Agents** and **Handoffs**. An agent encompasses instructions and tools and can hand off a conversation to another agent when appropriate. Handoffs are achieved by calling a handoff function, generally named `transfer_to_<agent_name>`. Transfers between agents are handled seamlessly in the background; do not mention or draw attention to these transfers in your conversation with the user.\\n\\n\\nYou translate the user's message ONLY to Hungarian\", handoff_description='This agent ONLY speaks Hungarian fluently and can translate any language to Hungarian', handoffs=[Agent(name='Russian agent', instructions=\"# System context\\nYou are part of a multi-agent system called the Agents SDK, designed to make agent coordination and execution easy. Agents uses two primary abstraction: **Agents** and **Handoffs**. An agent encompasses instructions and tools and can hand off a conversation to another agent when appropriate. Handoffs are achieved by calling a handoff function, generally named `transfer_to_<agent_name>`. Transfers between agents are handled seamlessly in the background; do not mention or draw attention to these transfers in your conversation with the user.\\n\\n\\nYou translate the user's message ONLY to Russian\", handoff_description='This agent ONLY speaks Russian fluently and can translate any language to Russian', handoffs=[], model=None, model_settings=ModelSettings(temperature=None, top_p=None, frequency_penalty=None, presence_penalty=None, tool_choice=None, parallel_tool_calls=False, truncation=None, max_tokens=None), tools=[], input_guardrails=[], output_guardrails=[], output_type=None, hooks=None)], model=None, model_settings=ModelSettings(temperature=None, top_p=None, frequency_penalty=None, presence_penalty=None, tool_choice=None, parallel_tool_calls=False, truncation=None, max_tokens=None), tools=[], input_guardrails=[], output_guardrails=[], output_type=None, hooks=None)], model=None, model_settings=ModelSettings(temperature=None, top_p=None, frequency_penalty=None, presence_penalty=None, tool_choice=None, parallel_tool_calls=False, truncation=None, max_tokens=None), tools=[FunctionTool(name='fetch_current_time', description='Fetch the current time for a given location.', params_json_schema={'properties': {'location': {'description': 'The location to fetch the current time for. Example: Europe/Budapest. Format is pytz timezone string.', 'title': 'Location', 'type': 'string'}}, 'required': ['location'], 'title': 'fetch_current_time_args', 'type': 'object', 'additionalProperties': False}, on_invoke_tool=<function function_tool.<locals>._create_function_tool.<locals>._on_invoke_tool at 0x1148468e0>, strict_json_schema=True)], input_guardrails=[], output_guardrails=[], output_type=None, hooks=None), raw_item=ResponseFunctionToolCall(id='fc_67d6a8cf23c88192879c39d754c17d1c009caa1fac26db26', arguments='{\"location\":\"Europe/London\"}', call_id='call_8U6vYmhW80ASjvaFn64TX9AY', name='fetch_current_time', type='function_call', status='completed'), type='tool_call_item'),\n",
       "  ToolCallOutputItem(agent=Agent(name='orchestrator_agent', instructions='# System context\\nYou are part of a multi-agent system called the Agents SDK, designed to make agent coordination and execution easy. Agents uses two primary abstraction: **Agents** and **Handoffs**. An agent encompasses instructions and tools and can hand off a conversation to another agent when appropriate. Handoffs are achieved by calling a handoff function, generally named `transfer_to_<agent_name>`. Transfers between agents are handled seamlessly in the background; do not mention or draw attention to these transfers in your conversation with the user.\\n\\n\\nYou are a helpful assistant', handoff_description=None, handoffs=[Agent(name='Russian agent', instructions=\"# System context\\nYou are part of a multi-agent system called the Agents SDK, designed to make agent coordination and execution easy. Agents uses two primary abstraction: **Agents** and **Handoffs**. An agent encompasses instructions and tools and can hand off a conversation to another agent when appropriate. Handoffs are achieved by calling a handoff function, generally named `transfer_to_<agent_name>`. Transfers between agents are handled seamlessly in the background; do not mention or draw attention to these transfers in your conversation with the user.\\n\\n\\nYou translate the user's message ONLY to Russian\", handoff_description='This agent ONLY speaks Russian fluently and can translate any language to Russian', handoffs=[], model=None, model_settings=ModelSettings(temperature=None, top_p=None, frequency_penalty=None, presence_penalty=None, tool_choice=None, parallel_tool_calls=False, truncation=None, max_tokens=None), tools=[], input_guardrails=[], output_guardrails=[], output_type=None, hooks=None), Agent(name='Hungarian agent', instructions=\"# System context\\nYou are part of a multi-agent system called the Agents SDK, designed to make agent coordination and execution easy. Agents uses two primary abstraction: **Agents** and **Handoffs**. An agent encompasses instructions and tools and can hand off a conversation to another agent when appropriate. Handoffs are achieved by calling a handoff function, generally named `transfer_to_<agent_name>`. Transfers between agents are handled seamlessly in the background; do not mention or draw attention to these transfers in your conversation with the user.\\n\\n\\nYou translate the user's message ONLY to Hungarian\", handoff_description='This agent ONLY speaks Hungarian fluently and can translate any language to Hungarian', handoffs=[Agent(name='Russian agent', instructions=\"# System context\\nYou are part of a multi-agent system called the Agents SDK, designed to make agent coordination and execution easy. Agents uses two primary abstraction: **Agents** and **Handoffs**. An agent encompasses instructions and tools and can hand off a conversation to another agent when appropriate. Handoffs are achieved by calling a handoff function, generally named `transfer_to_<agent_name>`. Transfers between agents are handled seamlessly in the background; do not mention or draw attention to these transfers in your conversation with the user.\\n\\n\\nYou translate the user's message ONLY to Russian\", handoff_description='This agent ONLY speaks Russian fluently and can translate any language to Russian', handoffs=[], model=None, model_settings=ModelSettings(temperature=None, top_p=None, frequency_penalty=None, presence_penalty=None, tool_choice=None, parallel_tool_calls=False, truncation=None, max_tokens=None), tools=[], input_guardrails=[], output_guardrails=[], output_type=None, hooks=None)], model=None, model_settings=ModelSettings(temperature=None, top_p=None, frequency_penalty=None, presence_penalty=None, tool_choice=None, parallel_tool_calls=False, truncation=None, max_tokens=None), tools=[], input_guardrails=[], output_guardrails=[], output_type=None, hooks=None)], model=None, model_settings=ModelSettings(temperature=None, top_p=None, frequency_penalty=None, presence_penalty=None, tool_choice=None, parallel_tool_calls=False, truncation=None, max_tokens=None), tools=[FunctionTool(name='fetch_current_time', description='Fetch the current time for a given location.', params_json_schema={'properties': {'location': {'description': 'The location to fetch the current time for. Example: Europe/Budapest. Format is pytz timezone string.', 'title': 'Location', 'type': 'string'}}, 'required': ['location'], 'title': 'fetch_current_time_args', 'type': 'object', 'additionalProperties': False}, on_invoke_tool=<function function_tool.<locals>._create_function_tool.<locals>._on_invoke_tool at 0x1148468e0>, strict_json_schema=True)], input_guardrails=[], output_guardrails=[], output_type=None, hooks=None), raw_item={'call_id': 'call_AJz3UQnc2866c9C6zNCLAI14', 'output': 'Current time in America/Los_Angeles: 2025-03-16 03:32:47 PDT', 'type': 'function_call_output'}, output='Current time in America/Los_Angeles: 2025-03-16 03:32:47 PDT', type='tool_call_output_item'),\n",
       "  ToolCallOutputItem(agent=Agent(name='orchestrator_agent', instructions='# System context\\nYou are part of a multi-agent system called the Agents SDK, designed to make agent coordination and execution easy. Agents uses two primary abstraction: **Agents** and **Handoffs**. An agent encompasses instructions and tools and can hand off a conversation to another agent when appropriate. Handoffs are achieved by calling a handoff function, generally named `transfer_to_<agent_name>`. Transfers between agents are handled seamlessly in the background; do not mention or draw attention to these transfers in your conversation with the user.\\n\\n\\nYou are a helpful assistant', handoff_description=None, handoffs=[Agent(name='Russian agent', instructions=\"# System context\\nYou are part of a multi-agent system called the Agents SDK, designed to make agent coordination and execution easy. Agents uses two primary abstraction: **Agents** and **Handoffs**. An agent encompasses instructions and tools and can hand off a conversation to another agent when appropriate. Handoffs are achieved by calling a handoff function, generally named `transfer_to_<agent_name>`. Transfers between agents are handled seamlessly in the background; do not mention or draw attention to these transfers in your conversation with the user.\\n\\n\\nYou translate the user's message ONLY to Russian\", handoff_description='This agent ONLY speaks Russian fluently and can translate any language to Russian', handoffs=[], model=None, model_settings=ModelSettings(temperature=None, top_p=None, frequency_penalty=None, presence_penalty=None, tool_choice=None, parallel_tool_calls=False, truncation=None, max_tokens=None), tools=[], input_guardrails=[], output_guardrails=[], output_type=None, hooks=None), Agent(name='Hungarian agent', instructions=\"# System context\\nYou are part of a multi-agent system called the Agents SDK, designed to make agent coordination and execution easy. Agents uses two primary abstraction: **Agents** and **Handoffs**. An agent encompasses instructions and tools and can hand off a conversation to another agent when appropriate. Handoffs are achieved by calling a handoff function, generally named `transfer_to_<agent_name>`. Transfers between agents are handled seamlessly in the background; do not mention or draw attention to these transfers in your conversation with the user.\\n\\n\\nYou translate the user's message ONLY to Hungarian\", handoff_description='This agent ONLY speaks Hungarian fluently and can translate any language to Hungarian', handoffs=[Agent(name='Russian agent', instructions=\"# System context\\nYou are part of a multi-agent system called the Agents SDK, designed to make agent coordination and execution easy. Agents uses two primary abstraction: **Agents** and **Handoffs**. An agent encompasses instructions and tools and can hand off a conversation to another agent when appropriate. Handoffs are achieved by calling a handoff function, generally named `transfer_to_<agent_name>`. Transfers between agents are handled seamlessly in the background; do not mention or draw attention to these transfers in your conversation with the user.\\n\\n\\nYou translate the user's message ONLY to Russian\", handoff_description='This agent ONLY speaks Russian fluently and can translate any language to Russian', handoffs=[], model=None, model_settings=ModelSettings(temperature=None, top_p=None, frequency_penalty=None, presence_penalty=None, tool_choice=None, parallel_tool_calls=False, truncation=None, max_tokens=None), tools=[], input_guardrails=[], output_guardrails=[], output_type=None, hooks=None)], model=None, model_settings=ModelSettings(temperature=None, top_p=None, frequency_penalty=None, presence_penalty=None, tool_choice=None, parallel_tool_calls=False, truncation=None, max_tokens=None), tools=[], input_guardrails=[], output_guardrails=[], output_type=None, hooks=None)], model=None, model_settings=ModelSettings(temperature=None, top_p=None, frequency_penalty=None, presence_penalty=None, tool_choice=None, parallel_tool_calls=False, truncation=None, max_tokens=None), tools=[FunctionTool(name='fetch_current_time', description='Fetch the current time for a given location.', params_json_schema={'properties': {'location': {'description': 'The location to fetch the current time for. Example: Europe/Budapest. Format is pytz timezone string.', 'title': 'Location', 'type': 'string'}}, 'required': ['location'], 'title': 'fetch_current_time_args', 'type': 'object', 'additionalProperties': False}, on_invoke_tool=<function function_tool.<locals>._create_function_tool.<locals>._on_invoke_tool at 0x1148468e0>, strict_json_schema=True)], input_guardrails=[], output_guardrails=[], output_type=None, hooks=None), raw_item={'call_id': 'call_8U6vYmhW80ASjvaFn64TX9AY', 'output': 'Current time in Europe/London: 2025-03-16 10:32:47 GMT', 'type': 'function_call_output'}, output='Current time in Europe/London: 2025-03-16 10:32:47 GMT', type='tool_call_output_item'),\n",
       "  HandoffCallItem(agent=Agent(name='orchestrator_agent', instructions='# System context\\nYou are part of a multi-agent system called the Agents SDK, designed to make agent coordination and execution easy. Agents uses two primary abstraction: **Agents** and **Handoffs**. An agent encompasses instructions and tools and can hand off a conversation to another agent when appropriate. Handoffs are achieved by calling a handoff function, generally named `transfer_to_<agent_name>`. Transfers between agents are handled seamlessly in the background; do not mention or draw attention to these transfers in your conversation with the user.\\n\\n\\nYou are a helpful assistant', handoff_description=None, handoffs=[Agent(name='Russian agent', instructions=\"# System context\\nYou are part of a multi-agent system called the Agents SDK, designed to make agent coordination and execution easy. Agents uses two primary abstraction: **Agents** and **Handoffs**. An agent encompasses instructions and tools and can hand off a conversation to another agent when appropriate. Handoffs are achieved by calling a handoff function, generally named `transfer_to_<agent_name>`. Transfers between agents are handled seamlessly in the background; do not mention or draw attention to these transfers in your conversation with the user.\\n\\n\\nYou translate the user's message ONLY to Russian\", handoff_description='This agent ONLY speaks Russian fluently and can translate any language to Russian', handoffs=[], model=None, model_settings=ModelSettings(temperature=None, top_p=None, frequency_penalty=None, presence_penalty=None, tool_choice=None, parallel_tool_calls=False, truncation=None, max_tokens=None), tools=[], input_guardrails=[], output_guardrails=[], output_type=None, hooks=None), Agent(name='Hungarian agent', instructions=\"# System context\\nYou are part of a multi-agent system called the Agents SDK, designed to make agent coordination and execution easy. Agents uses two primary abstraction: **Agents** and **Handoffs**. An agent encompasses instructions and tools and can hand off a conversation to another agent when appropriate. Handoffs are achieved by calling a handoff function, generally named `transfer_to_<agent_name>`. Transfers between agents are handled seamlessly in the background; do not mention or draw attention to these transfers in your conversation with the user.\\n\\n\\nYou translate the user's message ONLY to Hungarian\", handoff_description='This agent ONLY speaks Hungarian fluently and can translate any language to Hungarian', handoffs=[Agent(name='Russian agent', instructions=\"# System context\\nYou are part of a multi-agent system called the Agents SDK, designed to make agent coordination and execution easy. Agents uses two primary abstraction: **Agents** and **Handoffs**. An agent encompasses instructions and tools and can hand off a conversation to another agent when appropriate. Handoffs are achieved by calling a handoff function, generally named `transfer_to_<agent_name>`. Transfers between agents are handled seamlessly in the background; do not mention or draw attention to these transfers in your conversation with the user.\\n\\n\\nYou translate the user's message ONLY to Russian\", handoff_description='This agent ONLY speaks Russian fluently and can translate any language to Russian', handoffs=[], model=None, model_settings=ModelSettings(temperature=None, top_p=None, frequency_penalty=None, presence_penalty=None, tool_choice=None, parallel_tool_calls=False, truncation=None, max_tokens=None), tools=[], input_guardrails=[], output_guardrails=[], output_type=None, hooks=None)], model=None, model_settings=ModelSettings(temperature=None, top_p=None, frequency_penalty=None, presence_penalty=None, tool_choice=None, parallel_tool_calls=False, truncation=None, max_tokens=None), tools=[], input_guardrails=[], output_guardrails=[], output_type=None, hooks=None)], model=None, model_settings=ModelSettings(temperature=None, top_p=None, frequency_penalty=None, presence_penalty=None, tool_choice=None, parallel_tool_calls=False, truncation=None, max_tokens=None), tools=[FunctionTool(name='fetch_current_time', description='Fetch the current time for a given location.', params_json_schema={'properties': {'location': {'description': 'The location to fetch the current time for. Example: Europe/Budapest. Format is pytz timezone string.', 'title': 'Location', 'type': 'string'}}, 'required': ['location'], 'title': 'fetch_current_time_args', 'type': 'object', 'additionalProperties': False}, on_invoke_tool=<function function_tool.<locals>._create_function_tool.<locals>._on_invoke_tool at 0x1148468e0>, strict_json_schema=True)], input_guardrails=[], output_guardrails=[], output_type=None, hooks=None), raw_item=ResponseFunctionToolCall(id='fc_67d6a8d06cb8819291a2ee83bec5a056009caa1fac26db26', arguments='{}', call_id='call_Id3cNWuTsXGvcDu4c0hZFEDm', name='transfer_to_hungarian_agent', type='function_call', status='completed'), type='handoff_call_item'),\n",
       "  HandoffCallItem(agent=Agent(name='orchestrator_agent', instructions='# System context\\nYou are part of a multi-agent system called the Agents SDK, designed to make agent coordination and execution easy. Agents uses two primary abstraction: **Agents** and **Handoffs**. An agent encompasses instructions and tools and can hand off a conversation to another agent when appropriate. Handoffs are achieved by calling a handoff function, generally named `transfer_to_<agent_name>`. Transfers between agents are handled seamlessly in the background; do not mention or draw attention to these transfers in your conversation with the user.\\n\\n\\nYou are a helpful assistant', handoff_description=None, handoffs=[Agent(name='Russian agent', instructions=\"# System context\\nYou are part of a multi-agent system called the Agents SDK, designed to make agent coordination and execution easy. Agents uses two primary abstraction: **Agents** and **Handoffs**. An agent encompasses instructions and tools and can hand off a conversation to another agent when appropriate. Handoffs are achieved by calling a handoff function, generally named `transfer_to_<agent_name>`. Transfers between agents are handled seamlessly in the background; do not mention or draw attention to these transfers in your conversation with the user.\\n\\n\\nYou translate the user's message ONLY to Russian\", handoff_description='This agent ONLY speaks Russian fluently and can translate any language to Russian', handoffs=[], model=None, model_settings=ModelSettings(temperature=None, top_p=None, frequency_penalty=None, presence_penalty=None, tool_choice=None, parallel_tool_calls=False, truncation=None, max_tokens=None), tools=[], input_guardrails=[], output_guardrails=[], output_type=None, hooks=None), Agent(name='Hungarian agent', instructions=\"# System context\\nYou are part of a multi-agent system called the Agents SDK, designed to make agent coordination and execution easy. Agents uses two primary abstraction: **Agents** and **Handoffs**. An agent encompasses instructions and tools and can hand off a conversation to another agent when appropriate. Handoffs are achieved by calling a handoff function, generally named `transfer_to_<agent_name>`. Transfers between agents are handled seamlessly in the background; do not mention or draw attention to these transfers in your conversation with the user.\\n\\n\\nYou translate the user's message ONLY to Hungarian\", handoff_description='This agent ONLY speaks Hungarian fluently and can translate any language to Hungarian', handoffs=[Agent(name='Russian agent', instructions=\"# System context\\nYou are part of a multi-agent system called the Agents SDK, designed to make agent coordination and execution easy. Agents uses two primary abstraction: **Agents** and **Handoffs**. An agent encompasses instructions and tools and can hand off a conversation to another agent when appropriate. Handoffs are achieved by calling a handoff function, generally named `transfer_to_<agent_name>`. Transfers between agents are handled seamlessly in the background; do not mention or draw attention to these transfers in your conversation with the user.\\n\\n\\nYou translate the user's message ONLY to Russian\", handoff_description='This agent ONLY speaks Russian fluently and can translate any language to Russian', handoffs=[], model=None, model_settings=ModelSettings(temperature=None, top_p=None, frequency_penalty=None, presence_penalty=None, tool_choice=None, parallel_tool_calls=False, truncation=None, max_tokens=None), tools=[], input_guardrails=[], output_guardrails=[], output_type=None, hooks=None)], model=None, model_settings=ModelSettings(temperature=None, top_p=None, frequency_penalty=None, presence_penalty=None, tool_choice=None, parallel_tool_calls=False, truncation=None, max_tokens=None), tools=[], input_guardrails=[], output_guardrails=[], output_type=None, hooks=None)], model=None, model_settings=ModelSettings(temperature=None, top_p=None, frequency_penalty=None, presence_penalty=None, tool_choice=None, parallel_tool_calls=False, truncation=None, max_tokens=None), tools=[FunctionTool(name='fetch_current_time', description='Fetch the current time for a given location.', params_json_schema={'properties': {'location': {'description': 'The location to fetch the current time for. Example: Europe/Budapest. Format is pytz timezone string.', 'title': 'Location', 'type': 'string'}}, 'required': ['location'], 'title': 'fetch_current_time_args', 'type': 'object', 'additionalProperties': False}, on_invoke_tool=<function function_tool.<locals>._create_function_tool.<locals>._on_invoke_tool at 0x1148468e0>, strict_json_schema=True)], input_guardrails=[], output_guardrails=[], output_type=None, hooks=None), raw_item=ResponseFunctionToolCall(id='fc_67d6a8d07e44819296a906fdc1b2bbe2009caa1fac26db26', arguments='{}', call_id='call_mJ8nhGQIzp3HHkjN9tb8NLmX', name='transfer_to_russian_agent', type='function_call', status='completed'), type='handoff_call_item'),\n",
       "  ToolCallOutputItem(agent=Agent(name='orchestrator_agent', instructions='# System context\\nYou are part of a multi-agent system called the Agents SDK, designed to make agent coordination and execution easy. Agents uses two primary abstraction: **Agents** and **Handoffs**. An agent encompasses instructions and tools and can hand off a conversation to another agent when appropriate. Handoffs are achieved by calling a handoff function, generally named `transfer_to_<agent_name>`. Transfers between agents are handled seamlessly in the background; do not mention or draw attention to these transfers in your conversation with the user.\\n\\n\\nYou are a helpful assistant', handoff_description=None, handoffs=[Agent(name='Russian agent', instructions=\"# System context\\nYou are part of a multi-agent system called the Agents SDK, designed to make agent coordination and execution easy. Agents uses two primary abstraction: **Agents** and **Handoffs**. An agent encompasses instructions and tools and can hand off a conversation to another agent when appropriate. Handoffs are achieved by calling a handoff function, generally named `transfer_to_<agent_name>`. Transfers between agents are handled seamlessly in the background; do not mention or draw attention to these transfers in your conversation with the user.\\n\\n\\nYou translate the user's message ONLY to Russian\", handoff_description='This agent ONLY speaks Russian fluently and can translate any language to Russian', handoffs=[], model=None, model_settings=ModelSettings(temperature=None, top_p=None, frequency_penalty=None, presence_penalty=None, tool_choice=None, parallel_tool_calls=False, truncation=None, max_tokens=None), tools=[], input_guardrails=[], output_guardrails=[], output_type=None, hooks=None), Agent(name='Hungarian agent', instructions=\"# System context\\nYou are part of a multi-agent system called the Agents SDK, designed to make agent coordination and execution easy. Agents uses two primary abstraction: **Agents** and **Handoffs**. An agent encompasses instructions and tools and can hand off a conversation to another agent when appropriate. Handoffs are achieved by calling a handoff function, generally named `transfer_to_<agent_name>`. Transfers between agents are handled seamlessly in the background; do not mention or draw attention to these transfers in your conversation with the user.\\n\\n\\nYou translate the user's message ONLY to Hungarian\", handoff_description='This agent ONLY speaks Hungarian fluently and can translate any language to Hungarian', handoffs=[Agent(name='Russian agent', instructions=\"# System context\\nYou are part of a multi-agent system called the Agents SDK, designed to make agent coordination and execution easy. Agents uses two primary abstraction: **Agents** and **Handoffs**. An agent encompasses instructions and tools and can hand off a conversation to another agent when appropriate. Handoffs are achieved by calling a handoff function, generally named `transfer_to_<agent_name>`. Transfers between agents are handled seamlessly in the background; do not mention or draw attention to these transfers in your conversation with the user.\\n\\n\\nYou translate the user's message ONLY to Russian\", handoff_description='This agent ONLY speaks Russian fluently and can translate any language to Russian', handoffs=[], model=None, model_settings=ModelSettings(temperature=None, top_p=None, frequency_penalty=None, presence_penalty=None, tool_choice=None, parallel_tool_calls=False, truncation=None, max_tokens=None), tools=[], input_guardrails=[], output_guardrails=[], output_type=None, hooks=None)], model=None, model_settings=ModelSettings(temperature=None, top_p=None, frequency_penalty=None, presence_penalty=None, tool_choice=None, parallel_tool_calls=False, truncation=None, max_tokens=None), tools=[], input_guardrails=[], output_guardrails=[], output_type=None, hooks=None)], model=None, model_settings=ModelSettings(temperature=None, top_p=None, frequency_penalty=None, presence_penalty=None, tool_choice=None, parallel_tool_calls=False, truncation=None, max_tokens=None), tools=[FunctionTool(name='fetch_current_time', description='Fetch the current time for a given location.', params_json_schema={'properties': {'location': {'description': 'The location to fetch the current time for. Example: Europe/Budapest. Format is pytz timezone string.', 'title': 'Location', 'type': 'string'}}, 'required': ['location'], 'title': 'fetch_current_time_args', 'type': 'object', 'additionalProperties': False}, on_invoke_tool=<function function_tool.<locals>._create_function_tool.<locals>._on_invoke_tool at 0x1148468e0>, strict_json_schema=True)], input_guardrails=[], output_guardrails=[], output_type=None, hooks=None), raw_item={'call_id': 'call_mJ8nhGQIzp3HHkjN9tb8NLmX', 'output': 'Multiple handoffs detected, ignoring this one.', 'type': 'function_call_output'}, output='Multiple handoffs detected, ignoring this one.', type='tool_call_output_item'),\n",
       "  HandoffOutputItem(agent=Agent(name='orchestrator_agent', instructions='# System context\\nYou are part of a multi-agent system called the Agents SDK, designed to make agent coordination and execution easy. Agents uses two primary abstraction: **Agents** and **Handoffs**. An agent encompasses instructions and tools and can hand off a conversation to another agent when appropriate. Handoffs are achieved by calling a handoff function, generally named `transfer_to_<agent_name>`. Transfers between agents are handled seamlessly in the background; do not mention or draw attention to these transfers in your conversation with the user.\\n\\n\\nYou are a helpful assistant', handoff_description=None, handoffs=[Agent(name='Russian agent', instructions=\"# System context\\nYou are part of a multi-agent system called the Agents SDK, designed to make agent coordination and execution easy. Agents uses two primary abstraction: **Agents** and **Handoffs**. An agent encompasses instructions and tools and can hand off a conversation to another agent when appropriate. Handoffs are achieved by calling a handoff function, generally named `transfer_to_<agent_name>`. Transfers between agents are handled seamlessly in the background; do not mention or draw attention to these transfers in your conversation with the user.\\n\\n\\nYou translate the user's message ONLY to Russian\", handoff_description='This agent ONLY speaks Russian fluently and can translate any language to Russian', handoffs=[], model=None, model_settings=ModelSettings(temperature=None, top_p=None, frequency_penalty=None, presence_penalty=None, tool_choice=None, parallel_tool_calls=False, truncation=None, max_tokens=None), tools=[], input_guardrails=[], output_guardrails=[], output_type=None, hooks=None), Agent(name='Hungarian agent', instructions=\"# System context\\nYou are part of a multi-agent system called the Agents SDK, designed to make agent coordination and execution easy. Agents uses two primary abstraction: **Agents** and **Handoffs**. An agent encompasses instructions and tools and can hand off a conversation to another agent when appropriate. Handoffs are achieved by calling a handoff function, generally named `transfer_to_<agent_name>`. Transfers between agents are handled seamlessly in the background; do not mention or draw attention to these transfers in your conversation with the user.\\n\\n\\nYou translate the user's message ONLY to Hungarian\", handoff_description='This agent ONLY speaks Hungarian fluently and can translate any language to Hungarian', handoffs=[Agent(name='Russian agent', instructions=\"# System context\\nYou are part of a multi-agent system called the Agents SDK, designed to make agent coordination and execution easy. Agents uses two primary abstraction: **Agents** and **Handoffs**. An agent encompasses instructions and tools and can hand off a conversation to another agent when appropriate. Handoffs are achieved by calling a handoff function, generally named `transfer_to_<agent_name>`. Transfers between agents are handled seamlessly in the background; do not mention or draw attention to these transfers in your conversation with the user.\\n\\n\\nYou translate the user's message ONLY to Russian\", handoff_description='This agent ONLY speaks Russian fluently and can translate any language to Russian', handoffs=[], model=None, model_settings=ModelSettings(temperature=None, top_p=None, frequency_penalty=None, presence_penalty=None, tool_choice=None, parallel_tool_calls=False, truncation=None, max_tokens=None), tools=[], input_guardrails=[], output_guardrails=[], output_type=None, hooks=None)], model=None, model_settings=ModelSettings(temperature=None, top_p=None, frequency_penalty=None, presence_penalty=None, tool_choice=None, parallel_tool_calls=False, truncation=None, max_tokens=None), tools=[], input_guardrails=[], output_guardrails=[], output_type=None, hooks=None)], model=None, model_settings=ModelSettings(temperature=None, top_p=None, frequency_penalty=None, presence_penalty=None, tool_choice=None, parallel_tool_calls=False, truncation=None, max_tokens=None), tools=[FunctionTool(name='fetch_current_time', description='Fetch the current time for a given location.', params_json_schema={'properties': {'location': {'description': 'The location to fetch the current time for. Example: Europe/Budapest. Format is pytz timezone string.', 'title': 'Location', 'type': 'string'}}, 'required': ['location'], 'title': 'fetch_current_time_args', 'type': 'object', 'additionalProperties': False}, on_invoke_tool=<function function_tool.<locals>._create_function_tool.<locals>._on_invoke_tool at 0x1148468e0>, strict_json_schema=True)], input_guardrails=[], output_guardrails=[], output_type=None, hooks=None), raw_item={'call_id': 'call_Id3cNWuTsXGvcDu4c0hZFEDm', 'output': \"{'assistant': 'Hungarian agent'}\", 'type': 'function_call_output'}, source_agent=Agent(name='orchestrator_agent', instructions='# System context\\nYou are part of a multi-agent system called the Agents SDK, designed to make agent coordination and execution easy. Agents uses two primary abstraction: **Agents** and **Handoffs**. An agent encompasses instructions and tools and can hand off a conversation to another agent when appropriate. Handoffs are achieved by calling a handoff function, generally named `transfer_to_<agent_name>`. Transfers between agents are handled seamlessly in the background; do not mention or draw attention to these transfers in your conversation with the user.\\n\\n\\nYou are a helpful assistant', handoff_description=None, handoffs=[Agent(name='Russian agent', instructions=\"# System context\\nYou are part of a multi-agent system called the Agents SDK, designed to make agent coordination and execution easy. Agents uses two primary abstraction: **Agents** and **Handoffs**. An agent encompasses instructions and tools and can hand off a conversation to another agent when appropriate. Handoffs are achieved by calling a handoff function, generally named `transfer_to_<agent_name>`. Transfers between agents are handled seamlessly in the background; do not mention or draw attention to these transfers in your conversation with the user.\\n\\n\\nYou translate the user's message ONLY to Russian\", handoff_description='This agent ONLY speaks Russian fluently and can translate any language to Russian', handoffs=[], model=None, model_settings=ModelSettings(temperature=None, top_p=None, frequency_penalty=None, presence_penalty=None, tool_choice=None, parallel_tool_calls=False, truncation=None, max_tokens=None), tools=[], input_guardrails=[], output_guardrails=[], output_type=None, hooks=None), Agent(name='Hungarian agent', instructions=\"# System context\\nYou are part of a multi-agent system called the Agents SDK, designed to make agent coordination and execution easy. Agents uses two primary abstraction: **Agents** and **Handoffs**. An agent encompasses instructions and tools and can hand off a conversation to another agent when appropriate. Handoffs are achieved by calling a handoff function, generally named `transfer_to_<agent_name>`. Transfers between agents are handled seamlessly in the background; do not mention or draw attention to these transfers in your conversation with the user.\\n\\n\\nYou translate the user's message ONLY to Hungarian\", handoff_description='This agent ONLY speaks Hungarian fluently and can translate any language to Hungarian', handoffs=[Agent(name='Russian agent', instructions=\"# System context\\nYou are part of a multi-agent system called the Agents SDK, designed to make agent coordination and execution easy. Agents uses two primary abstraction: **Agents** and **Handoffs**. An agent encompasses instructions and tools and can hand off a conversation to another agent when appropriate. Handoffs are achieved by calling a handoff function, generally named `transfer_to_<agent_name>`. Transfers between agents are handled seamlessly in the background; do not mention or draw attention to these transfers in your conversation with the user.\\n\\n\\nYou translate the user's message ONLY to Russian\", handoff_description='This agent ONLY speaks Russian fluently and can translate any language to Russian', handoffs=[], model=None, model_settings=ModelSettings(temperature=None, top_p=None, frequency_penalty=None, presence_penalty=None, tool_choice=None, parallel_tool_calls=False, truncation=None, max_tokens=None), tools=[], input_guardrails=[], output_guardrails=[], output_type=None, hooks=None)], model=None, model_settings=ModelSettings(temperature=None, top_p=None, frequency_penalty=None, presence_penalty=None, tool_choice=None, parallel_tool_calls=False, truncation=None, max_tokens=None), tools=[], input_guardrails=[], output_guardrails=[], output_type=None, hooks=None)], model=None, model_settings=ModelSettings(temperature=None, top_p=None, frequency_penalty=None, presence_penalty=None, tool_choice=None, parallel_tool_calls=False, truncation=None, max_tokens=None), tools=[FunctionTool(name='fetch_current_time', description='Fetch the current time for a given location.', params_json_schema={'properties': {'location': {'description': 'The location to fetch the current time for. Example: Europe/Budapest. Format is pytz timezone string.', 'title': 'Location', 'type': 'string'}}, 'required': ['location'], 'title': 'fetch_current_time_args', 'type': 'object', 'additionalProperties': False}, on_invoke_tool=<function function_tool.<locals>._create_function_tool.<locals>._on_invoke_tool at 0x1148468e0>, strict_json_schema=True)], input_guardrails=[], output_guardrails=[], output_type=None, hooks=None), target_agent=Agent(name='Hungarian agent', instructions=\"# System context\\nYou are part of a multi-agent system called the Agents SDK, designed to make agent coordination and execution easy. Agents uses two primary abstraction: **Agents** and **Handoffs**. An agent encompasses instructions and tools and can hand off a conversation to another agent when appropriate. Handoffs are achieved by calling a handoff function, generally named `transfer_to_<agent_name>`. Transfers between agents are handled seamlessly in the background; do not mention or draw attention to these transfers in your conversation with the user.\\n\\n\\nYou translate the user's message ONLY to Hungarian\", handoff_description='This agent ONLY speaks Hungarian fluently and can translate any language to Hungarian', handoffs=[Agent(name='Russian agent', instructions=\"# System context\\nYou are part of a multi-agent system called the Agents SDK, designed to make agent coordination and execution easy. Agents uses two primary abstraction: **Agents** and **Handoffs**. An agent encompasses instructions and tools and can hand off a conversation to another agent when appropriate. Handoffs are achieved by calling a handoff function, generally named `transfer_to_<agent_name>`. Transfers between agents are handled seamlessly in the background; do not mention or draw attention to these transfers in your conversation with the user.\\n\\n\\nYou translate the user's message ONLY to Russian\", handoff_description='This agent ONLY speaks Russian fluently and can translate any language to Russian', handoffs=[], model=None, model_settings=ModelSettings(temperature=None, top_p=None, frequency_penalty=None, presence_penalty=None, tool_choice=None, parallel_tool_calls=False, truncation=None, max_tokens=None), tools=[], input_guardrails=[], output_guardrails=[], output_type=None, hooks=None)], model=None, model_settings=ModelSettings(temperature=None, top_p=None, frequency_penalty=None, presence_penalty=None, tool_choice=None, parallel_tool_calls=False, truncation=None, max_tokens=None), tools=[], input_guardrails=[], output_guardrails=[], output_type=None, hooks=None), type='handoff_output_item'),\n",
       "  MessageOutputItem(agent=Agent(name='Hungarian agent', instructions=\"# System context\\nYou are part of a multi-agent system called the Agents SDK, designed to make agent coordination and execution easy. Agents uses two primary abstraction: **Agents** and **Handoffs**. An agent encompasses instructions and tools and can hand off a conversation to another agent when appropriate. Handoffs are achieved by calling a handoff function, generally named `transfer_to_<agent_name>`. Transfers between agents are handled seamlessly in the background; do not mention or draw attention to these transfers in your conversation with the user.\\n\\n\\nYou translate the user's message ONLY to Hungarian\", handoff_description='This agent ONLY speaks Hungarian fluently and can translate any language to Hungarian', handoffs=[Agent(name='Russian agent', instructions=\"# System context\\nYou are part of a multi-agent system called the Agents SDK, designed to make agent coordination and execution easy. Agents uses two primary abstraction: **Agents** and **Handoffs**. An agent encompasses instructions and tools and can hand off a conversation to another agent when appropriate. Handoffs are achieved by calling a handoff function, generally named `transfer_to_<agent_name>`. Transfers between agents are handled seamlessly in the background; do not mention or draw attention to these transfers in your conversation with the user.\\n\\n\\nYou translate the user's message ONLY to Russian\", handoff_description='This agent ONLY speaks Russian fluently and can translate any language to Russian', handoffs=[], model=None, model_settings=ModelSettings(temperature=None, top_p=None, frequency_penalty=None, presence_penalty=None, tool_choice=None, parallel_tool_calls=False, truncation=None, max_tokens=None), tools=[], input_guardrails=[], output_guardrails=[], output_type=None, hooks=None)], model=None, model_settings=ModelSettings(temperature=None, top_p=None, frequency_penalty=None, presence_penalty=None, tool_choice=None, parallel_tool_calls=False, truncation=None, max_tokens=None), tools=[], input_guardrails=[], output_guardrails=[], output_type=None, hooks=None), raw_item=ResponseOutputMessage(id='msg_67d6a8d151e0819280af16195c1213cb009caa1fac26db26', content=[ResponseOutputText(annotations=[], text='A kérésed a magyar nyelvű agentnek lett átadva.', type='output_text')], role='assistant', status='completed', type='message'), type='message_output_item')],\n",
       " 'raw_responses': [ModelResponse(output=[ResponseFunctionToolCall(id='fc_67d6a8cf08b48192ba69dae4ab1d898c009caa1fac26db26', arguments='{\"location\":\"America/Los_Angeles\"}', call_id='call_AJz3UQnc2866c9C6zNCLAI14', name='fetch_current_time', type='function_call', status='completed'), ResponseFunctionToolCall(id='fc_67d6a8cf23c88192879c39d754c17d1c009caa1fac26db26', arguments='{\"location\":\"Europe/London\"}', call_id='call_8U6vYmhW80ASjvaFn64TX9AY', name='fetch_current_time', type='function_call', status='completed')], usage=Usage(requests=1, input_tokens=0, output_tokens=0, total_tokens=0), referenceable_id='resp_67d6a8ce71188192bc5d9f260ae2dc00009caa1fac26db26'),\n",
       "  ModelResponse(output=[ResponseFunctionToolCall(id='fc_67d6a8d06cb8819291a2ee83bec5a056009caa1fac26db26', arguments='{}', call_id='call_Id3cNWuTsXGvcDu4c0hZFEDm', name='transfer_to_hungarian_agent', type='function_call', status='completed'), ResponseFunctionToolCall(id='fc_67d6a8d07e44819296a906fdc1b2bbe2009caa1fac26db26', arguments='{}', call_id='call_mJ8nhGQIzp3HHkjN9tb8NLmX', name='transfer_to_russian_agent', type='function_call', status='completed')], usage=Usage(requests=1, input_tokens=0, output_tokens=0, total_tokens=0), referenceable_id='resp_67d6a8cfb0108192a622c2e2a186b53f009caa1fac26db26'),\n",
       "  ModelResponse(output=[ResponseOutputMessage(id='msg_67d6a8d151e0819280af16195c1213cb009caa1fac26db26', content=[ResponseOutputText(annotations=[], text='A kérésed a magyar nyelvű agentnek lett átadva.', type='output_text')], role='assistant', status='completed', type='message')], usage=Usage(requests=1, input_tokens=570, output_tokens=19, total_tokens=589), referenceable_id='resp_67d6a8d0e9f081929f841a6b7d31b8f1009caa1fac26db26')],\n",
       " 'final_output': 'A kérésed a magyar nyelvű agentnek lett átadva.',\n",
       " 'input_guardrail_results': [],\n",
       " 'output_guardrail_results': [],\n",
       " '_last_agent': Agent(name='Hungarian agent', instructions=\"# System context\\nYou are part of a multi-agent system called the Agents SDK, designed to make agent coordination and execution easy. Agents uses two primary abstraction: **Agents** and **Handoffs**. An agent encompasses instructions and tools and can hand off a conversation to another agent when appropriate. Handoffs are achieved by calling a handoff function, generally named `transfer_to_<agent_name>`. Transfers between agents are handled seamlessly in the background; do not mention or draw attention to these transfers in your conversation with the user.\\n\\n\\nYou translate the user's message ONLY to Hungarian\", handoff_description='This agent ONLY speaks Hungarian fluently and can translate any language to Hungarian', handoffs=[Agent(name='Russian agent', instructions=\"# System context\\nYou are part of a multi-agent system called the Agents SDK, designed to make agent coordination and execution easy. Agents uses two primary abstraction: **Agents** and **Handoffs**. An agent encompasses instructions and tools and can hand off a conversation to another agent when appropriate. Handoffs are achieved by calling a handoff function, generally named `transfer_to_<agent_name>`. Transfers between agents are handled seamlessly in the background; do not mention or draw attention to these transfers in your conversation with the user.\\n\\n\\nYou translate the user's message ONLY to Russian\", handoff_description='This agent ONLY speaks Russian fluently and can translate any language to Russian', handoffs=[], model=None, model_settings=ModelSettings(temperature=None, top_p=None, frequency_penalty=None, presence_penalty=None, tool_choice=None, parallel_tool_calls=False, truncation=None, max_tokens=None), tools=[], input_guardrails=[], output_guardrails=[], output_type=None, hooks=None)], model=None, model_settings=ModelSettings(temperature=None, top_p=None, frequency_penalty=None, presence_penalty=None, tool_choice=None, parallel_tool_calls=False, truncation=None, max_tokens=None), tools=[], input_guardrails=[], output_guardrails=[], output_type=None, hooks=None)}"
      ]
     },
     "execution_count": 141,
     "metadata": {},
     "output_type": "execute_result"
    }
   ],
   "source": [
    "o.__dict__"
   ]
  },
  {
   "cell_type": "code",
   "execution_count": 142,
   "metadata": {},
   "outputs": [
    {
     "data": {
      "text/plain": [
       "ResponseOutputMessage(id='msg_67d6a8d151e0819280af16195c1213cb009caa1fac26db26', content=[ResponseOutputText(annotations=[], text='A kérésed a magyar nyelvű agentnek lett átadva.', type='output_text')], role='assistant', status='completed', type='message')"
      ]
     },
     "execution_count": 142,
     "metadata": {},
     "output_type": "execute_result"
    }
   ],
   "source": [
    "o.new_items[-1].raw_item"
   ]
  },
  {
   "cell_type": "code",
   "execution_count": null,
   "metadata": {},
   "outputs": [],
   "source": []
  },
  {
   "cell_type": "markdown",
   "metadata": {},
   "source": [
    "#### Takeaways\n",
    "\n",
    "- Multiple handoffs detected, ignoring this one. --> Multiple handoffs are not allowed.\n",
    "- Even with clear handoff policies (who can handoff to whom) the AI doesnt fully comply with the instruction\n",
    "- Highly sensitive to the prompt!"
   ]
  },
  {
   "cell_type": "code",
   "execution_count": null,
   "metadata": {},
   "outputs": [],
   "source": []
  },
  {
   "cell_type": "markdown",
   "metadata": {},
   "source": [
    "#### Car Dealership Team\n",
    "\n",
    "Let's try something 'easier' - more difference across agents"
   ]
  },
  {
   "cell_type": "markdown",
   "metadata": {},
   "source": [
    "1. Tools"
   ]
  },
  {
   "cell_type": "code",
   "execution_count": 50,
   "metadata": {},
   "outputs": [],
   "source": [
    "# Tool 1: Car Database Lookup - Simplified to return just one car\n",
    "@function_tool\n",
    "async def search_car_inventory(budget: float, preferences: str) -> str:\n",
    "    \"\"\"\n",
    "    Search the car inventory based on user's budget and preferences.\n",
    "    \n",
    "    Args:\n",
    "        budget: Maximum budget in dollars\n",
    "        preferences: User's preferences (e.g., \"SUV, good mileage, family car\")\n",
    "    \n",
    "    Returns:\n",
    "        Details of the best matching car\n",
    "    \"\"\"\n",
    "    # Just return one pre-selected car for demo purposes\n",
    "    car = {\n",
    "        \"id\": \"C001\",\n",
    "        \"make\": \"Toyota\",\n",
    "        \"model\": \"RAV4 Hybrid\",\n",
    "        \"year\": 2023,\n",
    "        \"price\": 32999,\n",
    "        \"features\": \"SUV, excellent fuel economy, spacious interior, advanced safety features\",\n",
    "        \"availability\": \"In stock\"\n",
    "    }\n",
    "    \n",
    "    results = \"I've found the perfect car for you:\\n\\n\"\n",
    "    results += f\"ID: {car['id']}\\n\"\n",
    "    results += f\"Make & Model: {car['make']} {car['model']} ({car['year']})\\n\"\n",
    "    results += f\"Price: ${car['price']}\\n\"\n",
    "    results += f\"Features: {car['features']}\\n\"\n",
    "    results += f\"Availability: {car['availability']}\\n\"\n",
    "    \n",
    "    return results\n",
    "\n",
    "# Tool 2: Financial Planning - Simplified to calculate a fixed rate loan\n",
    "@function_tool\n",
    "async def create_financial_plan(loan_amount: float) -> str:\n",
    "    \"\"\"\n",
    "    Create a simple financial plan for purchasing a car.\n",
    "    \n",
    "    Args:\n",
    "        loan_amount: The loan amount in dollars\n",
    "    \n",
    "    Returns:\n",
    "        A simple financial plan with fixed interest rate\n",
    "    \"\"\"\n",
    "    # Fixed parameters for demo\n",
    "    interest_rate = 5.0  # 5% annual interest\n",
    "    years = 3\n",
    "    months = years * 12\n",
    "    \n",
    "    # Calculate monthly payment using annuity formula\n",
    "    monthly_rate = interest_rate / 100 / 12\n",
    "    monthly_payment = loan_amount * (monthly_rate * (1 + monthly_rate) ** months) / ((1 + monthly_rate) ** months - 1)\n",
    "    total_paid = monthly_payment * months\n",
    "    interest_paid = total_paid - loan_amount\n",
    "    \n",
    "    # Format the results\n",
    "    result = f\"Financial Plan Summary:\\n\\n\"\n",
    "    result += f\"Loan Amount: ${loan_amount:.2f}\\n\"\n",
    "    result += f\"Interest Rate: {interest_rate}% (fixed)\\n\"\n",
    "    result += f\"Loan Term: {years} years\\n\"\n",
    "    result += f\"Monthly Payment: ${monthly_payment:.2f}\\n\"\n",
    "    result += f\"Total Amount Paid: ${total_paid:.2f}\\n\"\n",
    "    result += f\"Total Interest Paid: ${interest_paid:.2f}\\n\"\n",
    "    \n",
    "    return result\n",
    "\n",
    "# Tool 3: Background Check - Simplified to just return approval\n",
    "@function_tool\n",
    "async def perform_background_check(name: str) -> str:\n",
    "    \"\"\"\n",
    "    Perform a simple background check on the potential buyer.\n",
    "    \n",
    "    Args:\n",
    "        name: Buyer's name\n",
    "    \n",
    "    Returns:\n",
    "        Simple approval message\n",
    "    \"\"\"\n",
    "    return f\"Background check for {name} completed. Result: Approved for auto loan.\"\n"
   ]
  },
  {
   "cell_type": "code",
   "execution_count": 51,
   "metadata": {},
   "outputs": [],
   "source": [
    "\n",
    "# \"You do not directly talk to the customer, you may only use the tool available to you to ask clarifying questions. \"\n",
    "\n",
    "#@function_tool\n",
    "#async def ask_clarifying_questions_of_customer(question: str) -> str:\n",
    "#    \"\"\"\n",
    "#    Ask clarifying questions of the customer. Always use this tool when you need more information from the customer.\n",
    "#    \n",
    "#    Args:\n",
    "#        question: The question to ask the human user\n",
    "#    \n",
    "#    Returns:\n",
    "#        The human user's response\n",
    "#    \"\"\"\n",
    "#    # Use the built-in input function\n",
    "#    response = input(f\"Enter your response to this question - {question}:\")\n",
    "#    return f\"Human feedback: {response}\""
   ]
  },
  {
   "cell_type": "code",
   "execution_count": null,
   "metadata": {},
   "outputs": [],
   "source": []
  },
  {
   "cell_type": "markdown",
   "metadata": {},
   "source": [
    "2. Agents"
   ]
  },
  {
   "cell_type": "code",
   "execution_count": 74,
   "metadata": {},
   "outputs": [],
   "source": [
    "model = \"gpt-4o-2024-11-20\"\n",
    "model = \"gpt-4.5-preview\"\n",
    "model_settings = ModelSettings(temperature=0.0 if \"o1\" not in model or \"o3\" not in model else None)\n",
    "\n",
    "car_salesman = Agent(\n",
    "    name=\"car_salesman\",\n",
    "    instructions=prompt_with_handoff_instructions(\n",
    "        \"You are MatchMaker Mike, an expert car salesman who helps customers find their perfect vehicle. \"\n",
    "        \"Your job is to understand the customer's needs, preferences, and budget, then recommend the best car option. \"\n",
    "        \"After finding a match, you should hand off to the Finance Specialist for payment planning. \"\n",
    "        \"When the process is complete and the customer is ready to buy, congratulate them warmly.\"\n",
    "    ),\n",
    "    tools=[search_car_inventory],\n",
    "    handoff_description=\"Expert at matching customers with their perfect vehicle based on needs and preferences\",\n",
    "    model = model,\n",
    "    model_settings = model_settings,\n",
    ")\n",
    "\n",
    "financial_planner = Agent(\n",
    "    name=\"financial_planner\",\n",
    "    instructions=prompt_with_handoff_instructions(\n",
    "        \"You are Finance Fiona, a financial expert who helps customers understand their car financing options. \"\n",
    "        \"Create a simple payment plan based on the loan amount needed for the vehicle. \"\n",
    "        \"Explain the loan terms and monthly payments in simple terms. \"\n",
    "        \"After creating a financial plan, hand off to the legal counsel for background verification.\"\n",
    "    ),\n",
    "    tools=[create_financial_plan],\n",
    "    handoff_description=\"Expert at creating car financing plans and explaining financial terms\",\n",
    "    model = model,\n",
    "    model_settings = model_settings,\n",
    ")\n",
    "\n",
    "legal_counsel = Agent(\n",
    "    name=\"legal_counsel\",\n",
    "    instructions=prompt_with_handoff_instructions(\n",
    "        \"You are Legal Eagle, a legal and compliance specialist who ensures all car purchases meet requirements. \"\n",
    "        \"You perform a simple background check on the customer to approve their loan. \"\n",
    "        \"You do not directly talk to the customer, you may only use the tool available to you to ask clarifying questions. \"\n",
    "        \"After completing the verification, hand off back to the car salesman for him to finalize the purchase.\"\n",
    "    ),\n",
    "    tools=[perform_background_check],\n",
    "    handoff_description=\"Expert at verifying buyer eligibility for auto loans\",\n",
    "    model = model,\n",
    "    model_settings = model_settings,\n",
    ")\n",
    "\n",
    "# Set up handoffs between agents\n",
    "car_salesman.handoffs.append(financial_planner)\n",
    "financial_planner.handoffs.append(legal_counsel)\n",
    "legal_counsel.handoffs.append(car_salesman)"
   ]
  },
  {
   "cell_type": "markdown",
   "metadata": {},
   "source": [
    "3. Construct team and run !"
   ]
  },
  {
   "cell_type": "code",
   "execution_count": 75,
   "metadata": {},
   "outputs": [],
   "source": [
    "user_input = \"\"\"\n",
    "\n",
    "Hi, I'm looking to buy a new car. \n",
    "My budget is around $35,000 and I need something good for a family with two kids.\n",
    "My name is John Doe, I make 70k USD per year and would like to finance my purchase with a 20k loan.\n",
    "\n",
    "\"\"\"\n",
    "\n",
    "async def main():\n",
    "    result = await Runner.run(car_salesman, input=user_input, max_turns=25)\n",
    "    print(result.final_output)\n",
    "\n",
    "    return result"
   ]
  },
  {
   "cell_type": "code",
   "execution_count": 76,
   "metadata": {},
   "outputs": [
    {
     "name": "stdout",
     "output_type": "stream",
     "text": [
      "Congratulations, John! Your background check has been successfully completed, and you're approved for the auto loan. You're all set to finalize your purchase of the 2023 Toyota RAV4 Hybrid.\n",
      "\n",
      "Enjoy your new car, and thank you for choosing us! Safe travels to you and your family!\n"
     ]
    }
   ],
   "source": [
    "c = await main()"
   ]
  },
  {
   "cell_type": "code",
   "execution_count": 79,
   "metadata": {},
   "outputs": [
    {
     "data": {
      "text/plain": [
       "[ToolCallItem(agent=Agent(name='car_salesman', instructions=\"# System context\\nYou are part of a multi-agent system called the Agents SDK, designed to make agent coordination and execution easy. Agents uses two primary abstraction: **Agents** and **Handoffs**. An agent encompasses instructions and tools and can hand off a conversation to another agent when appropriate. Handoffs are achieved by calling a handoff function, generally named `transfer_to_<agent_name>`. Transfers between agents are handled seamlessly in the background; do not mention or draw attention to these transfers in your conversation with the user.\\n\\n\\nYou are MatchMaker Mike, an expert car salesman who helps customers find their perfect vehicle. Your job is to understand the customer's needs, preferences, and budget, then recommend the best car option. After finding a match, you should hand off to the Finance Specialist for payment planning. When the process is complete and the customer is ready to buy, congratulate them warmly.\", handoff_description='Expert at matching customers with their perfect vehicle based on needs and preferences', handoffs=[Agent(name='financial_planner', instructions='# System context\\nYou are part of a multi-agent system called the Agents SDK, designed to make agent coordination and execution easy. Agents uses two primary abstraction: **Agents** and **Handoffs**. An agent encompasses instructions and tools and can hand off a conversation to another agent when appropriate. Handoffs are achieved by calling a handoff function, generally named `transfer_to_<agent_name>`. Transfers between agents are handled seamlessly in the background; do not mention or draw attention to these transfers in your conversation with the user.\\n\\n\\nYou are Finance Fiona, a financial expert who helps customers understand their car financing options. Create a simple payment plan based on the loan amount needed for the vehicle. Explain the loan terms and monthly payments in simple terms. After creating a financial plan, hand off to the legal counsel for background verification.', handoff_description='Expert at creating car financing plans and explaining financial terms', handoffs=[Agent(name='legal_counsel', instructions='# System context\\nYou are part of a multi-agent system called the Agents SDK, designed to make agent coordination and execution easy. Agents uses two primary abstraction: **Agents** and **Handoffs**. An agent encompasses instructions and tools and can hand off a conversation to another agent when appropriate. Handoffs are achieved by calling a handoff function, generally named `transfer_to_<agent_name>`. Transfers between agents are handled seamlessly in the background; do not mention or draw attention to these transfers in your conversation with the user.\\n\\n\\nYou are Legal Eagle, a legal and compliance specialist who ensures all car purchases meet requirements. You perform a simple background check on the customer to approve their loan. You do not directly talk to the customer, you may only use the tool available to you to ask clarifying questions. After completing the verification, hand off back to the car salesman for him to finalize the purchase.', handoff_description='Expert at verifying buyer eligibility for auto loans', handoffs=[...], model='gpt-4.5-preview', model_settings=ModelSettings(temperature=0.0, top_p=None, frequency_penalty=None, presence_penalty=None, tool_choice=None, parallel_tool_calls=False, truncation=None, max_tokens=None), tools=[FunctionTool(name='perform_background_check', description='Perform a simple background check on the potential buyer.', params_json_schema={'properties': {'name': {'description': \"Buyer's name\", 'title': 'Name', 'type': 'string'}}, 'required': ['name'], 'title': 'perform_background_check_args', 'type': 'object', 'additionalProperties': False}, on_invoke_tool=<function function_tool.<locals>._create_function_tool.<locals>._on_invoke_tool at 0x1091984a0>, strict_json_schema=True)], input_guardrails=[], output_guardrails=[], output_type=None, hooks=None)], model='gpt-4.5-preview', model_settings=ModelSettings(temperature=0.0, top_p=None, frequency_penalty=None, presence_penalty=None, tool_choice=None, parallel_tool_calls=False, truncation=None, max_tokens=None), tools=[FunctionTool(name='create_financial_plan', description='Create a simple financial plan for purchasing a car.', params_json_schema={'properties': {'loan_amount': {'description': 'The loan amount in dollars', 'title': 'Loan Amount', 'type': 'number'}}, 'required': ['loan_amount'], 'title': 'create_financial_plan_args', 'type': 'object', 'additionalProperties': False}, on_invoke_tool=<function function_tool.<locals>._create_function_tool.<locals>._on_invoke_tool at 0x1091b6160>, strict_json_schema=True)], input_guardrails=[], output_guardrails=[], output_type=None, hooks=None)], model='gpt-4.5-preview', model_settings=ModelSettings(temperature=0.0, top_p=None, frequency_penalty=None, presence_penalty=None, tool_choice=None, parallel_tool_calls=False, truncation=None, max_tokens=None), tools=[FunctionTool(name='search_car_inventory', description=\"Search the car inventory based on user's budget and preferences.\", params_json_schema={'properties': {'budget': {'description': 'Maximum budget in dollars', 'title': 'Budget', 'type': 'number'}, 'preferences': {'description': 'User\\'s preferences (e.g., \"SUV, good mileage, family car\")', 'title': 'Preferences', 'type': 'string'}}, 'required': ['budget', 'preferences'], 'title': 'search_car_inventory_args', 'type': 'object', 'additionalProperties': False}, on_invoke_tool=<function function_tool.<locals>._create_function_tool.<locals>._on_invoke_tool at 0x1091b68e0>, strict_json_schema=True)], input_guardrails=[], output_guardrails=[], output_type=None, hooks=None), raw_item=ResponseFunctionToolCall(id='fc_67d716fd36ac8192acb805015460a82c00f8ae43fe6c45e7', arguments='{\\n  \"budget\": 35000,\\n  \"preferences\": \"family car, spacious, safe, good mileage\"\\n}', call_id='call_EhmwerKyvy14O6ZIAzX3gsbt', name='search_car_inventory', type='function_call', status='completed'), type='tool_call_item'),\n",
       " ToolCallOutputItem(agent=Agent(name='car_salesman', instructions=\"# System context\\nYou are part of a multi-agent system called the Agents SDK, designed to make agent coordination and execution easy. Agents uses two primary abstraction: **Agents** and **Handoffs**. An agent encompasses instructions and tools and can hand off a conversation to another agent when appropriate. Handoffs are achieved by calling a handoff function, generally named `transfer_to_<agent_name>`. Transfers between agents are handled seamlessly in the background; do not mention or draw attention to these transfers in your conversation with the user.\\n\\n\\nYou are MatchMaker Mike, an expert car salesman who helps customers find their perfect vehicle. Your job is to understand the customer's needs, preferences, and budget, then recommend the best car option. After finding a match, you should hand off to the Finance Specialist for payment planning. When the process is complete and the customer is ready to buy, congratulate them warmly.\", handoff_description='Expert at matching customers with their perfect vehicle based on needs and preferences', handoffs=[Agent(name='financial_planner', instructions='# System context\\nYou are part of a multi-agent system called the Agents SDK, designed to make agent coordination and execution easy. Agents uses two primary abstraction: **Agents** and **Handoffs**. An agent encompasses instructions and tools and can hand off a conversation to another agent when appropriate. Handoffs are achieved by calling a handoff function, generally named `transfer_to_<agent_name>`. Transfers between agents are handled seamlessly in the background; do not mention or draw attention to these transfers in your conversation with the user.\\n\\n\\nYou are Finance Fiona, a financial expert who helps customers understand their car financing options. Create a simple payment plan based on the loan amount needed for the vehicle. Explain the loan terms and monthly payments in simple terms. After creating a financial plan, hand off to the legal counsel for background verification.', handoff_description='Expert at creating car financing plans and explaining financial terms', handoffs=[Agent(name='legal_counsel', instructions='# System context\\nYou are part of a multi-agent system called the Agents SDK, designed to make agent coordination and execution easy. Agents uses two primary abstraction: **Agents** and **Handoffs**. An agent encompasses instructions and tools and can hand off a conversation to another agent when appropriate. Handoffs are achieved by calling a handoff function, generally named `transfer_to_<agent_name>`. Transfers between agents are handled seamlessly in the background; do not mention or draw attention to these transfers in your conversation with the user.\\n\\n\\nYou are Legal Eagle, a legal and compliance specialist who ensures all car purchases meet requirements. You perform a simple background check on the customer to approve their loan. You do not directly talk to the customer, you may only use the tool available to you to ask clarifying questions. After completing the verification, hand off back to the car salesman for him to finalize the purchase.', handoff_description='Expert at verifying buyer eligibility for auto loans', handoffs=[...], model='gpt-4.5-preview', model_settings=ModelSettings(temperature=0.0, top_p=None, frequency_penalty=None, presence_penalty=None, tool_choice=None, parallel_tool_calls=False, truncation=None, max_tokens=None), tools=[FunctionTool(name='perform_background_check', description='Perform a simple background check on the potential buyer.', params_json_schema={'properties': {'name': {'description': \"Buyer's name\", 'title': 'Name', 'type': 'string'}}, 'required': ['name'], 'title': 'perform_background_check_args', 'type': 'object', 'additionalProperties': False}, on_invoke_tool=<function function_tool.<locals>._create_function_tool.<locals>._on_invoke_tool at 0x1091984a0>, strict_json_schema=True)], input_guardrails=[], output_guardrails=[], output_type=None, hooks=None)], model='gpt-4.5-preview', model_settings=ModelSettings(temperature=0.0, top_p=None, frequency_penalty=None, presence_penalty=None, tool_choice=None, parallel_tool_calls=False, truncation=None, max_tokens=None), tools=[FunctionTool(name='create_financial_plan', description='Create a simple financial plan for purchasing a car.', params_json_schema={'properties': {'loan_amount': {'description': 'The loan amount in dollars', 'title': 'Loan Amount', 'type': 'number'}}, 'required': ['loan_amount'], 'title': 'create_financial_plan_args', 'type': 'object', 'additionalProperties': False}, on_invoke_tool=<function function_tool.<locals>._create_function_tool.<locals>._on_invoke_tool at 0x1091b6160>, strict_json_schema=True)], input_guardrails=[], output_guardrails=[], output_type=None, hooks=None)], model='gpt-4.5-preview', model_settings=ModelSettings(temperature=0.0, top_p=None, frequency_penalty=None, presence_penalty=None, tool_choice=None, parallel_tool_calls=False, truncation=None, max_tokens=None), tools=[FunctionTool(name='search_car_inventory', description=\"Search the car inventory based on user's budget and preferences.\", params_json_schema={'properties': {'budget': {'description': 'Maximum budget in dollars', 'title': 'Budget', 'type': 'number'}, 'preferences': {'description': 'User\\'s preferences (e.g., \"SUV, good mileage, family car\")', 'title': 'Preferences', 'type': 'string'}}, 'required': ['budget', 'preferences'], 'title': 'search_car_inventory_args', 'type': 'object', 'additionalProperties': False}, on_invoke_tool=<function function_tool.<locals>._create_function_tool.<locals>._on_invoke_tool at 0x1091b68e0>, strict_json_schema=True)], input_guardrails=[], output_guardrails=[], output_type=None, hooks=None), raw_item={'call_id': 'call_EhmwerKyvy14O6ZIAzX3gsbt', 'output': \"I've found the perfect car for you:\\n\\nID: C001\\nMake & Model: Toyota RAV4 Hybrid (2023)\\nPrice: $32999\\nFeatures: SUV, excellent fuel economy, spacious interior, advanced safety features\\nAvailability: In stock\\n\", 'type': 'function_call_output'}, output=\"I've found the perfect car for you:\\n\\nID: C001\\nMake & Model: Toyota RAV4 Hybrid (2023)\\nPrice: $32999\\nFeatures: SUV, excellent fuel economy, spacious interior, advanced safety features\\nAvailability: In stock\\n\", type='tool_call_output_item'),\n",
       " MessageOutputItem(agent=Agent(name='car_salesman', instructions=\"# System context\\nYou are part of a multi-agent system called the Agents SDK, designed to make agent coordination and execution easy. Agents uses two primary abstraction: **Agents** and **Handoffs**. An agent encompasses instructions and tools and can hand off a conversation to another agent when appropriate. Handoffs are achieved by calling a handoff function, generally named `transfer_to_<agent_name>`. Transfers between agents are handled seamlessly in the background; do not mention or draw attention to these transfers in your conversation with the user.\\n\\n\\nYou are MatchMaker Mike, an expert car salesman who helps customers find their perfect vehicle. Your job is to understand the customer's needs, preferences, and budget, then recommend the best car option. After finding a match, you should hand off to the Finance Specialist for payment planning. When the process is complete and the customer is ready to buy, congratulate them warmly.\", handoff_description='Expert at matching customers with their perfect vehicle based on needs and preferences', handoffs=[Agent(name='financial_planner', instructions='# System context\\nYou are part of a multi-agent system called the Agents SDK, designed to make agent coordination and execution easy. Agents uses two primary abstraction: **Agents** and **Handoffs**. An agent encompasses instructions and tools and can hand off a conversation to another agent when appropriate. Handoffs are achieved by calling a handoff function, generally named `transfer_to_<agent_name>`. Transfers between agents are handled seamlessly in the background; do not mention or draw attention to these transfers in your conversation with the user.\\n\\n\\nYou are Finance Fiona, a financial expert who helps customers understand their car financing options. Create a simple payment plan based on the loan amount needed for the vehicle. Explain the loan terms and monthly payments in simple terms. After creating a financial plan, hand off to the legal counsel for background verification.', handoff_description='Expert at creating car financing plans and explaining financial terms', handoffs=[Agent(name='legal_counsel', instructions='# System context\\nYou are part of a multi-agent system called the Agents SDK, designed to make agent coordination and execution easy. Agents uses two primary abstraction: **Agents** and **Handoffs**. An agent encompasses instructions and tools and can hand off a conversation to another agent when appropriate. Handoffs are achieved by calling a handoff function, generally named `transfer_to_<agent_name>`. Transfers between agents are handled seamlessly in the background; do not mention or draw attention to these transfers in your conversation with the user.\\n\\n\\nYou are Legal Eagle, a legal and compliance specialist who ensures all car purchases meet requirements. You perform a simple background check on the customer to approve their loan. You do not directly talk to the customer, you may only use the tool available to you to ask clarifying questions. After completing the verification, hand off back to the car salesman for him to finalize the purchase.', handoff_description='Expert at verifying buyer eligibility for auto loans', handoffs=[...], model='gpt-4.5-preview', model_settings=ModelSettings(temperature=0.0, top_p=None, frequency_penalty=None, presence_penalty=None, tool_choice=None, parallel_tool_calls=False, truncation=None, max_tokens=None), tools=[FunctionTool(name='perform_background_check', description='Perform a simple background check on the potential buyer.', params_json_schema={'properties': {'name': {'description': \"Buyer's name\", 'title': 'Name', 'type': 'string'}}, 'required': ['name'], 'title': 'perform_background_check_args', 'type': 'object', 'additionalProperties': False}, on_invoke_tool=<function function_tool.<locals>._create_function_tool.<locals>._on_invoke_tool at 0x1091984a0>, strict_json_schema=True)], input_guardrails=[], output_guardrails=[], output_type=None, hooks=None)], model='gpt-4.5-preview', model_settings=ModelSettings(temperature=0.0, top_p=None, frequency_penalty=None, presence_penalty=None, tool_choice=None, parallel_tool_calls=False, truncation=None, max_tokens=None), tools=[FunctionTool(name='create_financial_plan', description='Create a simple financial plan for purchasing a car.', params_json_schema={'properties': {'loan_amount': {'description': 'The loan amount in dollars', 'title': 'Loan Amount', 'type': 'number'}}, 'required': ['loan_amount'], 'title': 'create_financial_plan_args', 'type': 'object', 'additionalProperties': False}, on_invoke_tool=<function function_tool.<locals>._create_function_tool.<locals>._on_invoke_tool at 0x1091b6160>, strict_json_schema=True)], input_guardrails=[], output_guardrails=[], output_type=None, hooks=None)], model='gpt-4.5-preview', model_settings=ModelSettings(temperature=0.0, top_p=None, frequency_penalty=None, presence_penalty=None, tool_choice=None, parallel_tool_calls=False, truncation=None, max_tokens=None), tools=[FunctionTool(name='search_car_inventory', description=\"Search the car inventory based on user's budget and preferences.\", params_json_schema={'properties': {'budget': {'description': 'Maximum budget in dollars', 'title': 'Budget', 'type': 'number'}, 'preferences': {'description': 'User\\'s preferences (e.g., \"SUV, good mileage, family car\")', 'title': 'Preferences', 'type': 'string'}}, 'required': ['budget', 'preferences'], 'title': 'search_car_inventory_args', 'type': 'object', 'additionalProperties': False}, on_invoke_tool=<function function_tool.<locals>._create_function_tool.<locals>._on_invoke_tool at 0x1091b68e0>, strict_json_schema=True)], input_guardrails=[], output_guardrails=[], output_type=None, hooks=None), raw_item=ResponseOutputMessage(id='msg_67d71700da088192b0a516a0dbbb633400f8ae43fe6c45e7', content=[ResponseOutputText(annotations=[], text=\"Great news, John! I've found the perfect match for your family:\\n\\n**2023 Toyota RAV4 Hybrid**\\n- **Price:** $32,999\\n- **Type:** SUV\\n- **Features:** Excellent fuel economy, spacious interior, advanced safety features\\n- **Availability:** In stock\\n\\nThis vehicle fits comfortably within your budget and is ideal for a family with two kids, offering both safety and efficiency.\\n\\nI'll now connect you with our Finance Specialist to help you set up your financing plan with a $20,000 loan. Congratulations on your excellent choice!\", type='output_text')], role='assistant', status='completed', type='message'), type='message_output_item'),\n",
       " HandoffCallItem(agent=Agent(name='car_salesman', instructions=\"# System context\\nYou are part of a multi-agent system called the Agents SDK, designed to make agent coordination and execution easy. Agents uses two primary abstraction: **Agents** and **Handoffs**. An agent encompasses instructions and tools and can hand off a conversation to another agent when appropriate. Handoffs are achieved by calling a handoff function, generally named `transfer_to_<agent_name>`. Transfers between agents are handled seamlessly in the background; do not mention or draw attention to these transfers in your conversation with the user.\\n\\n\\nYou are MatchMaker Mike, an expert car salesman who helps customers find their perfect vehicle. Your job is to understand the customer's needs, preferences, and budget, then recommend the best car option. After finding a match, you should hand off to the Finance Specialist for payment planning. When the process is complete and the customer is ready to buy, congratulate them warmly.\", handoff_description='Expert at matching customers with their perfect vehicle based on needs and preferences', handoffs=[Agent(name='financial_planner', instructions='# System context\\nYou are part of a multi-agent system called the Agents SDK, designed to make agent coordination and execution easy. Agents uses two primary abstraction: **Agents** and **Handoffs**. An agent encompasses instructions and tools and can hand off a conversation to another agent when appropriate. Handoffs are achieved by calling a handoff function, generally named `transfer_to_<agent_name>`. Transfers between agents are handled seamlessly in the background; do not mention or draw attention to these transfers in your conversation with the user.\\n\\n\\nYou are Finance Fiona, a financial expert who helps customers understand their car financing options. Create a simple payment plan based on the loan amount needed for the vehicle. Explain the loan terms and monthly payments in simple terms. After creating a financial plan, hand off to the legal counsel for background verification.', handoff_description='Expert at creating car financing plans and explaining financial terms', handoffs=[Agent(name='legal_counsel', instructions='# System context\\nYou are part of a multi-agent system called the Agents SDK, designed to make agent coordination and execution easy. Agents uses two primary abstraction: **Agents** and **Handoffs**. An agent encompasses instructions and tools and can hand off a conversation to another agent when appropriate. Handoffs are achieved by calling a handoff function, generally named `transfer_to_<agent_name>`. Transfers between agents are handled seamlessly in the background; do not mention or draw attention to these transfers in your conversation with the user.\\n\\n\\nYou are Legal Eagle, a legal and compliance specialist who ensures all car purchases meet requirements. You perform a simple background check on the customer to approve their loan. You do not directly talk to the customer, you may only use the tool available to you to ask clarifying questions. After completing the verification, hand off back to the car salesman for him to finalize the purchase.', handoff_description='Expert at verifying buyer eligibility for auto loans', handoffs=[...], model='gpt-4.5-preview', model_settings=ModelSettings(temperature=0.0, top_p=None, frequency_penalty=None, presence_penalty=None, tool_choice=None, parallel_tool_calls=False, truncation=None, max_tokens=None), tools=[FunctionTool(name='perform_background_check', description='Perform a simple background check on the potential buyer.', params_json_schema={'properties': {'name': {'description': \"Buyer's name\", 'title': 'Name', 'type': 'string'}}, 'required': ['name'], 'title': 'perform_background_check_args', 'type': 'object', 'additionalProperties': False}, on_invoke_tool=<function function_tool.<locals>._create_function_tool.<locals>._on_invoke_tool at 0x1091984a0>, strict_json_schema=True)], input_guardrails=[], output_guardrails=[], output_type=None, hooks=None)], model='gpt-4.5-preview', model_settings=ModelSettings(temperature=0.0, top_p=None, frequency_penalty=None, presence_penalty=None, tool_choice=None, parallel_tool_calls=False, truncation=None, max_tokens=None), tools=[FunctionTool(name='create_financial_plan', description='Create a simple financial plan for purchasing a car.', params_json_schema={'properties': {'loan_amount': {'description': 'The loan amount in dollars', 'title': 'Loan Amount', 'type': 'number'}}, 'required': ['loan_amount'], 'title': 'create_financial_plan_args', 'type': 'object', 'additionalProperties': False}, on_invoke_tool=<function function_tool.<locals>._create_function_tool.<locals>._on_invoke_tool at 0x1091b6160>, strict_json_schema=True)], input_guardrails=[], output_guardrails=[], output_type=None, hooks=None)], model='gpt-4.5-preview', model_settings=ModelSettings(temperature=0.0, top_p=None, frequency_penalty=None, presence_penalty=None, tool_choice=None, parallel_tool_calls=False, truncation=None, max_tokens=None), tools=[FunctionTool(name='search_car_inventory', description=\"Search the car inventory based on user's budget and preferences.\", params_json_schema={'properties': {'budget': {'description': 'Maximum budget in dollars', 'title': 'Budget', 'type': 'number'}, 'preferences': {'description': 'User\\'s preferences (e.g., \"SUV, good mileage, family car\")', 'title': 'Preferences', 'type': 'string'}}, 'required': ['budget', 'preferences'], 'title': 'search_car_inventory_args', 'type': 'object', 'additionalProperties': False}, on_invoke_tool=<function function_tool.<locals>._create_function_tool.<locals>._on_invoke_tool at 0x1091b68e0>, strict_json_schema=True)], input_guardrails=[], output_guardrails=[], output_type=None, hooks=None), raw_item=ResponseFunctionToolCall(id='fc_67d7170dd8c481929573eb44a2b6fb2b00f8ae43fe6c45e7', arguments='{}', call_id='call_aI6yo9BpGiYbETVkHJ0YLMS1', name='transfer_to_financial_planner', type='function_call', status='completed'), type='handoff_call_item'),\n",
       " HandoffOutputItem(agent=Agent(name='car_salesman', instructions=\"# System context\\nYou are part of a multi-agent system called the Agents SDK, designed to make agent coordination and execution easy. Agents uses two primary abstraction: **Agents** and **Handoffs**. An agent encompasses instructions and tools and can hand off a conversation to another agent when appropriate. Handoffs are achieved by calling a handoff function, generally named `transfer_to_<agent_name>`. Transfers between agents are handled seamlessly in the background; do not mention or draw attention to these transfers in your conversation with the user.\\n\\n\\nYou are MatchMaker Mike, an expert car salesman who helps customers find their perfect vehicle. Your job is to understand the customer's needs, preferences, and budget, then recommend the best car option. After finding a match, you should hand off to the Finance Specialist for payment planning. When the process is complete and the customer is ready to buy, congratulate them warmly.\", handoff_description='Expert at matching customers with their perfect vehicle based on needs and preferences', handoffs=[Agent(name='financial_planner', instructions='# System context\\nYou are part of a multi-agent system called the Agents SDK, designed to make agent coordination and execution easy. Agents uses two primary abstraction: **Agents** and **Handoffs**. An agent encompasses instructions and tools and can hand off a conversation to another agent when appropriate. Handoffs are achieved by calling a handoff function, generally named `transfer_to_<agent_name>`. Transfers between agents are handled seamlessly in the background; do not mention or draw attention to these transfers in your conversation with the user.\\n\\n\\nYou are Finance Fiona, a financial expert who helps customers understand their car financing options. Create a simple payment plan based on the loan amount needed for the vehicle. Explain the loan terms and monthly payments in simple terms. After creating a financial plan, hand off to the legal counsel for background verification.', handoff_description='Expert at creating car financing plans and explaining financial terms', handoffs=[Agent(name='legal_counsel', instructions='# System context\\nYou are part of a multi-agent system called the Agents SDK, designed to make agent coordination and execution easy. Agents uses two primary abstraction: **Agents** and **Handoffs**. An agent encompasses instructions and tools and can hand off a conversation to another agent when appropriate. Handoffs are achieved by calling a handoff function, generally named `transfer_to_<agent_name>`. Transfers between agents are handled seamlessly in the background; do not mention or draw attention to these transfers in your conversation with the user.\\n\\n\\nYou are Legal Eagle, a legal and compliance specialist who ensures all car purchases meet requirements. You perform a simple background check on the customer to approve their loan. You do not directly talk to the customer, you may only use the tool available to you to ask clarifying questions. After completing the verification, hand off back to the car salesman for him to finalize the purchase.', handoff_description='Expert at verifying buyer eligibility for auto loans', handoffs=[...], model='gpt-4.5-preview', model_settings=ModelSettings(temperature=0.0, top_p=None, frequency_penalty=None, presence_penalty=None, tool_choice=None, parallel_tool_calls=False, truncation=None, max_tokens=None), tools=[FunctionTool(name='perform_background_check', description='Perform a simple background check on the potential buyer.', params_json_schema={'properties': {'name': {'description': \"Buyer's name\", 'title': 'Name', 'type': 'string'}}, 'required': ['name'], 'title': 'perform_background_check_args', 'type': 'object', 'additionalProperties': False}, on_invoke_tool=<function function_tool.<locals>._create_function_tool.<locals>._on_invoke_tool at 0x1091984a0>, strict_json_schema=True)], input_guardrails=[], output_guardrails=[], output_type=None, hooks=None)], model='gpt-4.5-preview', model_settings=ModelSettings(temperature=0.0, top_p=None, frequency_penalty=None, presence_penalty=None, tool_choice=None, parallel_tool_calls=False, truncation=None, max_tokens=None), tools=[FunctionTool(name='create_financial_plan', description='Create a simple financial plan for purchasing a car.', params_json_schema={'properties': {'loan_amount': {'description': 'The loan amount in dollars', 'title': 'Loan Amount', 'type': 'number'}}, 'required': ['loan_amount'], 'title': 'create_financial_plan_args', 'type': 'object', 'additionalProperties': False}, on_invoke_tool=<function function_tool.<locals>._create_function_tool.<locals>._on_invoke_tool at 0x1091b6160>, strict_json_schema=True)], input_guardrails=[], output_guardrails=[], output_type=None, hooks=None)], model='gpt-4.5-preview', model_settings=ModelSettings(temperature=0.0, top_p=None, frequency_penalty=None, presence_penalty=None, tool_choice=None, parallel_tool_calls=False, truncation=None, max_tokens=None), tools=[FunctionTool(name='search_car_inventory', description=\"Search the car inventory based on user's budget and preferences.\", params_json_schema={'properties': {'budget': {'description': 'Maximum budget in dollars', 'title': 'Budget', 'type': 'number'}, 'preferences': {'description': 'User\\'s preferences (e.g., \"SUV, good mileage, family car\")', 'title': 'Preferences', 'type': 'string'}}, 'required': ['budget', 'preferences'], 'title': 'search_car_inventory_args', 'type': 'object', 'additionalProperties': False}, on_invoke_tool=<function function_tool.<locals>._create_function_tool.<locals>._on_invoke_tool at 0x1091b68e0>, strict_json_schema=True)], input_guardrails=[], output_guardrails=[], output_type=None, hooks=None), raw_item={'call_id': 'call_aI6yo9BpGiYbETVkHJ0YLMS1', 'output': \"{'assistant': 'financial_planner'}\", 'type': 'function_call_output'}, source_agent=Agent(name='car_salesman', instructions=\"# System context\\nYou are part of a multi-agent system called the Agents SDK, designed to make agent coordination and execution easy. Agents uses two primary abstraction: **Agents** and **Handoffs**. An agent encompasses instructions and tools and can hand off a conversation to another agent when appropriate. Handoffs are achieved by calling a handoff function, generally named `transfer_to_<agent_name>`. Transfers between agents are handled seamlessly in the background; do not mention or draw attention to these transfers in your conversation with the user.\\n\\n\\nYou are MatchMaker Mike, an expert car salesman who helps customers find their perfect vehicle. Your job is to understand the customer's needs, preferences, and budget, then recommend the best car option. After finding a match, you should hand off to the Finance Specialist for payment planning. When the process is complete and the customer is ready to buy, congratulate them warmly.\", handoff_description='Expert at matching customers with their perfect vehicle based on needs and preferences', handoffs=[Agent(name='financial_planner', instructions='# System context\\nYou are part of a multi-agent system called the Agents SDK, designed to make agent coordination and execution easy. Agents uses two primary abstraction: **Agents** and **Handoffs**. An agent encompasses instructions and tools and can hand off a conversation to another agent when appropriate. Handoffs are achieved by calling a handoff function, generally named `transfer_to_<agent_name>`. Transfers between agents are handled seamlessly in the background; do not mention or draw attention to these transfers in your conversation with the user.\\n\\n\\nYou are Finance Fiona, a financial expert who helps customers understand their car financing options. Create a simple payment plan based on the loan amount needed for the vehicle. Explain the loan terms and monthly payments in simple terms. After creating a financial plan, hand off to the legal counsel for background verification.', handoff_description='Expert at creating car financing plans and explaining financial terms', handoffs=[Agent(name='legal_counsel', instructions='# System context\\nYou are part of a multi-agent system called the Agents SDK, designed to make agent coordination and execution easy. Agents uses two primary abstraction: **Agents** and **Handoffs**. An agent encompasses instructions and tools and can hand off a conversation to another agent when appropriate. Handoffs are achieved by calling a handoff function, generally named `transfer_to_<agent_name>`. Transfers between agents are handled seamlessly in the background; do not mention or draw attention to these transfers in your conversation with the user.\\n\\n\\nYou are Legal Eagle, a legal and compliance specialist who ensures all car purchases meet requirements. You perform a simple background check on the customer to approve their loan. You do not directly talk to the customer, you may only use the tool available to you to ask clarifying questions. After completing the verification, hand off back to the car salesman for him to finalize the purchase.', handoff_description='Expert at verifying buyer eligibility for auto loans', handoffs=[...], model='gpt-4.5-preview', model_settings=ModelSettings(temperature=0.0, top_p=None, frequency_penalty=None, presence_penalty=None, tool_choice=None, parallel_tool_calls=False, truncation=None, max_tokens=None), tools=[FunctionTool(name='perform_background_check', description='Perform a simple background check on the potential buyer.', params_json_schema={'properties': {'name': {'description': \"Buyer's name\", 'title': 'Name', 'type': 'string'}}, 'required': ['name'], 'title': 'perform_background_check_args', 'type': 'object', 'additionalProperties': False}, on_invoke_tool=<function function_tool.<locals>._create_function_tool.<locals>._on_invoke_tool at 0x1091984a0>, strict_json_schema=True)], input_guardrails=[], output_guardrails=[], output_type=None, hooks=None)], model='gpt-4.5-preview', model_settings=ModelSettings(temperature=0.0, top_p=None, frequency_penalty=None, presence_penalty=None, tool_choice=None, parallel_tool_calls=False, truncation=None, max_tokens=None), tools=[FunctionTool(name='create_financial_plan', description='Create a simple financial plan for purchasing a car.', params_json_schema={'properties': {'loan_amount': {'description': 'The loan amount in dollars', 'title': 'Loan Amount', 'type': 'number'}}, 'required': ['loan_amount'], 'title': 'create_financial_plan_args', 'type': 'object', 'additionalProperties': False}, on_invoke_tool=<function function_tool.<locals>._create_function_tool.<locals>._on_invoke_tool at 0x1091b6160>, strict_json_schema=True)], input_guardrails=[], output_guardrails=[], output_type=None, hooks=None)], model='gpt-4.5-preview', model_settings=ModelSettings(temperature=0.0, top_p=None, frequency_penalty=None, presence_penalty=None, tool_choice=None, parallel_tool_calls=False, truncation=None, max_tokens=None), tools=[FunctionTool(name='search_car_inventory', description=\"Search the car inventory based on user's budget and preferences.\", params_json_schema={'properties': {'budget': {'description': 'Maximum budget in dollars', 'title': 'Budget', 'type': 'number'}, 'preferences': {'description': 'User\\'s preferences (e.g., \"SUV, good mileage, family car\")', 'title': 'Preferences', 'type': 'string'}}, 'required': ['budget', 'preferences'], 'title': 'search_car_inventory_args', 'type': 'object', 'additionalProperties': False}, on_invoke_tool=<function function_tool.<locals>._create_function_tool.<locals>._on_invoke_tool at 0x1091b68e0>, strict_json_schema=True)], input_guardrails=[], output_guardrails=[], output_type=None, hooks=None), target_agent=Agent(name='financial_planner', instructions='# System context\\nYou are part of a multi-agent system called the Agents SDK, designed to make agent coordination and execution easy. Agents uses two primary abstraction: **Agents** and **Handoffs**. An agent encompasses instructions and tools and can hand off a conversation to another agent when appropriate. Handoffs are achieved by calling a handoff function, generally named `transfer_to_<agent_name>`. Transfers between agents are handled seamlessly in the background; do not mention or draw attention to these transfers in your conversation with the user.\\n\\n\\nYou are Finance Fiona, a financial expert who helps customers understand their car financing options. Create a simple payment plan based on the loan amount needed for the vehicle. Explain the loan terms and monthly payments in simple terms. After creating a financial plan, hand off to the legal counsel for background verification.', handoff_description='Expert at creating car financing plans and explaining financial terms', handoffs=[Agent(name='legal_counsel', instructions='# System context\\nYou are part of a multi-agent system called the Agents SDK, designed to make agent coordination and execution easy. Agents uses two primary abstraction: **Agents** and **Handoffs**. An agent encompasses instructions and tools and can hand off a conversation to another agent when appropriate. Handoffs are achieved by calling a handoff function, generally named `transfer_to_<agent_name>`. Transfers between agents are handled seamlessly in the background; do not mention or draw attention to these transfers in your conversation with the user.\\n\\n\\nYou are Legal Eagle, a legal and compliance specialist who ensures all car purchases meet requirements. You perform a simple background check on the customer to approve their loan. You do not directly talk to the customer, you may only use the tool available to you to ask clarifying questions. After completing the verification, hand off back to the car salesman for him to finalize the purchase.', handoff_description='Expert at verifying buyer eligibility for auto loans', handoffs=[Agent(name='car_salesman', instructions=\"# System context\\nYou are part of a multi-agent system called the Agents SDK, designed to make agent coordination and execution easy. Agents uses two primary abstraction: **Agents** and **Handoffs**. An agent encompasses instructions and tools and can hand off a conversation to another agent when appropriate. Handoffs are achieved by calling a handoff function, generally named `transfer_to_<agent_name>`. Transfers between agents are handled seamlessly in the background; do not mention or draw attention to these transfers in your conversation with the user.\\n\\n\\nYou are MatchMaker Mike, an expert car salesman who helps customers find their perfect vehicle. Your job is to understand the customer's needs, preferences, and budget, then recommend the best car option. After finding a match, you should hand off to the Finance Specialist for payment planning. When the process is complete and the customer is ready to buy, congratulate them warmly.\", handoff_description='Expert at matching customers with their perfect vehicle based on needs and preferences', handoffs=[...], model='gpt-4.5-preview', model_settings=ModelSettings(temperature=0.0, top_p=None, frequency_penalty=None, presence_penalty=None, tool_choice=None, parallel_tool_calls=False, truncation=None, max_tokens=None), tools=[FunctionTool(name='search_car_inventory', description=\"Search the car inventory based on user's budget and preferences.\", params_json_schema={'properties': {'budget': {'description': 'Maximum budget in dollars', 'title': 'Budget', 'type': 'number'}, 'preferences': {'description': 'User\\'s preferences (e.g., \"SUV, good mileage, family car\")', 'title': 'Preferences', 'type': 'string'}}, 'required': ['budget', 'preferences'], 'title': 'search_car_inventory_args', 'type': 'object', 'additionalProperties': False}, on_invoke_tool=<function function_tool.<locals>._create_function_tool.<locals>._on_invoke_tool at 0x1091b68e0>, strict_json_schema=True)], input_guardrails=[], output_guardrails=[], output_type=None, hooks=None)], model='gpt-4.5-preview', model_settings=ModelSettings(temperature=0.0, top_p=None, frequency_penalty=None, presence_penalty=None, tool_choice=None, parallel_tool_calls=False, truncation=None, max_tokens=None), tools=[FunctionTool(name='perform_background_check', description='Perform a simple background check on the potential buyer.', params_json_schema={'properties': {'name': {'description': \"Buyer's name\", 'title': 'Name', 'type': 'string'}}, 'required': ['name'], 'title': 'perform_background_check_args', 'type': 'object', 'additionalProperties': False}, on_invoke_tool=<function function_tool.<locals>._create_function_tool.<locals>._on_invoke_tool at 0x1091984a0>, strict_json_schema=True)], input_guardrails=[], output_guardrails=[], output_type=None, hooks=None)], model='gpt-4.5-preview', model_settings=ModelSettings(temperature=0.0, top_p=None, frequency_penalty=None, presence_penalty=None, tool_choice=None, parallel_tool_calls=False, truncation=None, max_tokens=None), tools=[FunctionTool(name='create_financial_plan', description='Create a simple financial plan for purchasing a car.', params_json_schema={'properties': {'loan_amount': {'description': 'The loan amount in dollars', 'title': 'Loan Amount', 'type': 'number'}}, 'required': ['loan_amount'], 'title': 'create_financial_plan_args', 'type': 'object', 'additionalProperties': False}, on_invoke_tool=<function function_tool.<locals>._create_function_tool.<locals>._on_invoke_tool at 0x1091b6160>, strict_json_schema=True)], input_guardrails=[], output_guardrails=[], output_type=None, hooks=None), type='handoff_output_item'),\n",
       " ToolCallItem(agent=Agent(name='financial_planner', instructions='# System context\\nYou are part of a multi-agent system called the Agents SDK, designed to make agent coordination and execution easy. Agents uses two primary abstraction: **Agents** and **Handoffs**. An agent encompasses instructions and tools and can hand off a conversation to another agent when appropriate. Handoffs are achieved by calling a handoff function, generally named `transfer_to_<agent_name>`. Transfers between agents are handled seamlessly in the background; do not mention or draw attention to these transfers in your conversation with the user.\\n\\n\\nYou are Finance Fiona, a financial expert who helps customers understand their car financing options. Create a simple payment plan based on the loan amount needed for the vehicle. Explain the loan terms and monthly payments in simple terms. After creating a financial plan, hand off to the legal counsel for background verification.', handoff_description='Expert at creating car financing plans and explaining financial terms', handoffs=[Agent(name='legal_counsel', instructions='# System context\\nYou are part of a multi-agent system called the Agents SDK, designed to make agent coordination and execution easy. Agents uses two primary abstraction: **Agents** and **Handoffs**. An agent encompasses instructions and tools and can hand off a conversation to another agent when appropriate. Handoffs are achieved by calling a handoff function, generally named `transfer_to_<agent_name>`. Transfers between agents are handled seamlessly in the background; do not mention or draw attention to these transfers in your conversation with the user.\\n\\n\\nYou are Legal Eagle, a legal and compliance specialist who ensures all car purchases meet requirements. You perform a simple background check on the customer to approve their loan. You do not directly talk to the customer, you may only use the tool available to you to ask clarifying questions. After completing the verification, hand off back to the car salesman for him to finalize the purchase.', handoff_description='Expert at verifying buyer eligibility for auto loans', handoffs=[Agent(name='car_salesman', instructions=\"# System context\\nYou are part of a multi-agent system called the Agents SDK, designed to make agent coordination and execution easy. Agents uses two primary abstraction: **Agents** and **Handoffs**. An agent encompasses instructions and tools and can hand off a conversation to another agent when appropriate. Handoffs are achieved by calling a handoff function, generally named `transfer_to_<agent_name>`. Transfers between agents are handled seamlessly in the background; do not mention or draw attention to these transfers in your conversation with the user.\\n\\n\\nYou are MatchMaker Mike, an expert car salesman who helps customers find their perfect vehicle. Your job is to understand the customer's needs, preferences, and budget, then recommend the best car option. After finding a match, you should hand off to the Finance Specialist for payment planning. When the process is complete and the customer is ready to buy, congratulate them warmly.\", handoff_description='Expert at matching customers with their perfect vehicle based on needs and preferences', handoffs=[...], model='gpt-4.5-preview', model_settings=ModelSettings(temperature=0.0, top_p=None, frequency_penalty=None, presence_penalty=None, tool_choice=None, parallel_tool_calls=False, truncation=None, max_tokens=None), tools=[FunctionTool(name='search_car_inventory', description=\"Search the car inventory based on user's budget and preferences.\", params_json_schema={'properties': {'budget': {'description': 'Maximum budget in dollars', 'title': 'Budget', 'type': 'number'}, 'preferences': {'description': 'User\\'s preferences (e.g., \"SUV, good mileage, family car\")', 'title': 'Preferences', 'type': 'string'}}, 'required': ['budget', 'preferences'], 'title': 'search_car_inventory_args', 'type': 'object', 'additionalProperties': False}, on_invoke_tool=<function function_tool.<locals>._create_function_tool.<locals>._on_invoke_tool at 0x1091b68e0>, strict_json_schema=True)], input_guardrails=[], output_guardrails=[], output_type=None, hooks=None)], model='gpt-4.5-preview', model_settings=ModelSettings(temperature=0.0, top_p=None, frequency_penalty=None, presence_penalty=None, tool_choice=None, parallel_tool_calls=False, truncation=None, max_tokens=None), tools=[FunctionTool(name='perform_background_check', description='Perform a simple background check on the potential buyer.', params_json_schema={'properties': {'name': {'description': \"Buyer's name\", 'title': 'Name', 'type': 'string'}}, 'required': ['name'], 'title': 'perform_background_check_args', 'type': 'object', 'additionalProperties': False}, on_invoke_tool=<function function_tool.<locals>._create_function_tool.<locals>._on_invoke_tool at 0x1091984a0>, strict_json_schema=True)], input_guardrails=[], output_guardrails=[], output_type=None, hooks=None)], model='gpt-4.5-preview', model_settings=ModelSettings(temperature=0.0, top_p=None, frequency_penalty=None, presence_penalty=None, tool_choice=None, parallel_tool_calls=False, truncation=None, max_tokens=None), tools=[FunctionTool(name='create_financial_plan', description='Create a simple financial plan for purchasing a car.', params_json_schema={'properties': {'loan_amount': {'description': 'The loan amount in dollars', 'title': 'Loan Amount', 'type': 'number'}}, 'required': ['loan_amount'], 'title': 'create_financial_plan_args', 'type': 'object', 'additionalProperties': False}, on_invoke_tool=<function function_tool.<locals>._create_function_tool.<locals>._on_invoke_tool at 0x1091b6160>, strict_json_schema=True)], input_guardrails=[], output_guardrails=[], output_type=None, hooks=None), raw_item=ResponseFunctionToolCall(id='fc_67d71710977481928b91518e6a0a0aee00f8ae43fe6c45e7', arguments='{\\n  \"loan_amount\": 20000\\n}', call_id='call_Q1y6IsvaeHu0oEY5WZ2snqe6', name='create_financial_plan', type='function_call', status='completed'), type='tool_call_item'),\n",
       " ToolCallOutputItem(agent=Agent(name='financial_planner', instructions='# System context\\nYou are part of a multi-agent system called the Agents SDK, designed to make agent coordination and execution easy. Agents uses two primary abstraction: **Agents** and **Handoffs**. An agent encompasses instructions and tools and can hand off a conversation to another agent when appropriate. Handoffs are achieved by calling a handoff function, generally named `transfer_to_<agent_name>`. Transfers between agents are handled seamlessly in the background; do not mention or draw attention to these transfers in your conversation with the user.\\n\\n\\nYou are Finance Fiona, a financial expert who helps customers understand their car financing options. Create a simple payment plan based on the loan amount needed for the vehicle. Explain the loan terms and monthly payments in simple terms. After creating a financial plan, hand off to the legal counsel for background verification.', handoff_description='Expert at creating car financing plans and explaining financial terms', handoffs=[Agent(name='legal_counsel', instructions='# System context\\nYou are part of a multi-agent system called the Agents SDK, designed to make agent coordination and execution easy. Agents uses two primary abstraction: **Agents** and **Handoffs**. An agent encompasses instructions and tools and can hand off a conversation to another agent when appropriate. Handoffs are achieved by calling a handoff function, generally named `transfer_to_<agent_name>`. Transfers between agents are handled seamlessly in the background; do not mention or draw attention to these transfers in your conversation with the user.\\n\\n\\nYou are Legal Eagle, a legal and compliance specialist who ensures all car purchases meet requirements. You perform a simple background check on the customer to approve their loan. You do not directly talk to the customer, you may only use the tool available to you to ask clarifying questions. After completing the verification, hand off back to the car salesman for him to finalize the purchase.', handoff_description='Expert at verifying buyer eligibility for auto loans', handoffs=[Agent(name='car_salesman', instructions=\"# System context\\nYou are part of a multi-agent system called the Agents SDK, designed to make agent coordination and execution easy. Agents uses two primary abstraction: **Agents** and **Handoffs**. An agent encompasses instructions and tools and can hand off a conversation to another agent when appropriate. Handoffs are achieved by calling a handoff function, generally named `transfer_to_<agent_name>`. Transfers between agents are handled seamlessly in the background; do not mention or draw attention to these transfers in your conversation with the user.\\n\\n\\nYou are MatchMaker Mike, an expert car salesman who helps customers find their perfect vehicle. Your job is to understand the customer's needs, preferences, and budget, then recommend the best car option. After finding a match, you should hand off to the Finance Specialist for payment planning. When the process is complete and the customer is ready to buy, congratulate them warmly.\", handoff_description='Expert at matching customers with their perfect vehicle based on needs and preferences', handoffs=[...], model='gpt-4.5-preview', model_settings=ModelSettings(temperature=0.0, top_p=None, frequency_penalty=None, presence_penalty=None, tool_choice=None, parallel_tool_calls=False, truncation=None, max_tokens=None), tools=[FunctionTool(name='search_car_inventory', description=\"Search the car inventory based on user's budget and preferences.\", params_json_schema={'properties': {'budget': {'description': 'Maximum budget in dollars', 'title': 'Budget', 'type': 'number'}, 'preferences': {'description': 'User\\'s preferences (e.g., \"SUV, good mileage, family car\")', 'title': 'Preferences', 'type': 'string'}}, 'required': ['budget', 'preferences'], 'title': 'search_car_inventory_args', 'type': 'object', 'additionalProperties': False}, on_invoke_tool=<function function_tool.<locals>._create_function_tool.<locals>._on_invoke_tool at 0x1091b68e0>, strict_json_schema=True)], input_guardrails=[], output_guardrails=[], output_type=None, hooks=None)], model='gpt-4.5-preview', model_settings=ModelSettings(temperature=0.0, top_p=None, frequency_penalty=None, presence_penalty=None, tool_choice=None, parallel_tool_calls=False, truncation=None, max_tokens=None), tools=[FunctionTool(name='perform_background_check', description='Perform a simple background check on the potential buyer.', params_json_schema={'properties': {'name': {'description': \"Buyer's name\", 'title': 'Name', 'type': 'string'}}, 'required': ['name'], 'title': 'perform_background_check_args', 'type': 'object', 'additionalProperties': False}, on_invoke_tool=<function function_tool.<locals>._create_function_tool.<locals>._on_invoke_tool at 0x1091984a0>, strict_json_schema=True)], input_guardrails=[], output_guardrails=[], output_type=None, hooks=None)], model='gpt-4.5-preview', model_settings=ModelSettings(temperature=0.0, top_p=None, frequency_penalty=None, presence_penalty=None, tool_choice=None, parallel_tool_calls=False, truncation=None, max_tokens=None), tools=[FunctionTool(name='create_financial_plan', description='Create a simple financial plan for purchasing a car.', params_json_schema={'properties': {'loan_amount': {'description': 'The loan amount in dollars', 'title': 'Loan Amount', 'type': 'number'}}, 'required': ['loan_amount'], 'title': 'create_financial_plan_args', 'type': 'object', 'additionalProperties': False}, on_invoke_tool=<function function_tool.<locals>._create_function_tool.<locals>._on_invoke_tool at 0x1091b6160>, strict_json_schema=True)], input_guardrails=[], output_guardrails=[], output_type=None, hooks=None), raw_item={'call_id': 'call_Q1y6IsvaeHu0oEY5WZ2snqe6', 'output': 'Financial Plan Summary:\\n\\nLoan Amount: $20000.00\\nInterest Rate: 5.0% (fixed)\\nLoan Term: 3 years\\nMonthly Payment: $599.42\\nTotal Amount Paid: $21579.05\\nTotal Interest Paid: $1579.05\\n', 'type': 'function_call_output'}, output='Financial Plan Summary:\\n\\nLoan Amount: $20000.00\\nInterest Rate: 5.0% (fixed)\\nLoan Term: 3 years\\nMonthly Payment: $599.42\\nTotal Amount Paid: $21579.05\\nTotal Interest Paid: $1579.05\\n', type='tool_call_output_item'),\n",
       " MessageOutputItem(agent=Agent(name='financial_planner', instructions='# System context\\nYou are part of a multi-agent system called the Agents SDK, designed to make agent coordination and execution easy. Agents uses two primary abstraction: **Agents** and **Handoffs**. An agent encompasses instructions and tools and can hand off a conversation to another agent when appropriate. Handoffs are achieved by calling a handoff function, generally named `transfer_to_<agent_name>`. Transfers between agents are handled seamlessly in the background; do not mention or draw attention to these transfers in your conversation with the user.\\n\\n\\nYou are Finance Fiona, a financial expert who helps customers understand their car financing options. Create a simple payment plan based on the loan amount needed for the vehicle. Explain the loan terms and monthly payments in simple terms. After creating a financial plan, hand off to the legal counsel for background verification.', handoff_description='Expert at creating car financing plans and explaining financial terms', handoffs=[Agent(name='legal_counsel', instructions='# System context\\nYou are part of a multi-agent system called the Agents SDK, designed to make agent coordination and execution easy. Agents uses two primary abstraction: **Agents** and **Handoffs**. An agent encompasses instructions and tools and can hand off a conversation to another agent when appropriate. Handoffs are achieved by calling a handoff function, generally named `transfer_to_<agent_name>`. Transfers between agents are handled seamlessly in the background; do not mention or draw attention to these transfers in your conversation with the user.\\n\\n\\nYou are Legal Eagle, a legal and compliance specialist who ensures all car purchases meet requirements. You perform a simple background check on the customer to approve their loan. You do not directly talk to the customer, you may only use the tool available to you to ask clarifying questions. After completing the verification, hand off back to the car salesman for him to finalize the purchase.', handoff_description='Expert at verifying buyer eligibility for auto loans', handoffs=[Agent(name='car_salesman', instructions=\"# System context\\nYou are part of a multi-agent system called the Agents SDK, designed to make agent coordination and execution easy. Agents uses two primary abstraction: **Agents** and **Handoffs**. An agent encompasses instructions and tools and can hand off a conversation to another agent when appropriate. Handoffs are achieved by calling a handoff function, generally named `transfer_to_<agent_name>`. Transfers between agents are handled seamlessly in the background; do not mention or draw attention to these transfers in your conversation with the user.\\n\\n\\nYou are MatchMaker Mike, an expert car salesman who helps customers find their perfect vehicle. Your job is to understand the customer's needs, preferences, and budget, then recommend the best car option. After finding a match, you should hand off to the Finance Specialist for payment planning. When the process is complete and the customer is ready to buy, congratulate them warmly.\", handoff_description='Expert at matching customers with their perfect vehicle based on needs and preferences', handoffs=[...], model='gpt-4.5-preview', model_settings=ModelSettings(temperature=0.0, top_p=None, frequency_penalty=None, presence_penalty=None, tool_choice=None, parallel_tool_calls=False, truncation=None, max_tokens=None), tools=[FunctionTool(name='search_car_inventory', description=\"Search the car inventory based on user's budget and preferences.\", params_json_schema={'properties': {'budget': {'description': 'Maximum budget in dollars', 'title': 'Budget', 'type': 'number'}, 'preferences': {'description': 'User\\'s preferences (e.g., \"SUV, good mileage, family car\")', 'title': 'Preferences', 'type': 'string'}}, 'required': ['budget', 'preferences'], 'title': 'search_car_inventory_args', 'type': 'object', 'additionalProperties': False}, on_invoke_tool=<function function_tool.<locals>._create_function_tool.<locals>._on_invoke_tool at 0x1091b68e0>, strict_json_schema=True)], input_guardrails=[], output_guardrails=[], output_type=None, hooks=None)], model='gpt-4.5-preview', model_settings=ModelSettings(temperature=0.0, top_p=None, frequency_penalty=None, presence_penalty=None, tool_choice=None, parallel_tool_calls=False, truncation=None, max_tokens=None), tools=[FunctionTool(name='perform_background_check', description='Perform a simple background check on the potential buyer.', params_json_schema={'properties': {'name': {'description': \"Buyer's name\", 'title': 'Name', 'type': 'string'}}, 'required': ['name'], 'title': 'perform_background_check_args', 'type': 'object', 'additionalProperties': False}, on_invoke_tool=<function function_tool.<locals>._create_function_tool.<locals>._on_invoke_tool at 0x1091984a0>, strict_json_schema=True)], input_guardrails=[], output_guardrails=[], output_type=None, hooks=None)], model='gpt-4.5-preview', model_settings=ModelSettings(temperature=0.0, top_p=None, frequency_penalty=None, presence_penalty=None, tool_choice=None, parallel_tool_calls=False, truncation=None, max_tokens=None), tools=[FunctionTool(name='create_financial_plan', description='Create a simple financial plan for purchasing a car.', params_json_schema={'properties': {'loan_amount': {'description': 'The loan amount in dollars', 'title': 'Loan Amount', 'type': 'number'}}, 'required': ['loan_amount'], 'title': 'create_financial_plan_args', 'type': 'object', 'additionalProperties': False}, on_invoke_tool=<function function_tool.<locals>._create_function_tool.<locals>._on_invoke_tool at 0x1091b6160>, strict_json_schema=True)], input_guardrails=[], output_guardrails=[], output_type=None, hooks=None), raw_item=ResponseOutputMessage(id='msg_67d71712ec748192809b9328d4d392cf00f8ae43fe6c45e7', content=[ResponseOutputText(annotations=[], text=\"Here's your simple financial plan, John:\\n\\n### Financial Plan Summary:\\n- **Loan Amount:** $20,000\\n- **Interest Rate:** 5.0% (fixed)\\n- **Loan Term:** 3 years (36 months)\\n- **Monthly Payment:** $599.42\\n- **Total Amount Paid:** $21,579.05\\n- **Total Interest Paid:** $1,579.05\\n\\nThis plan offers predictable monthly payments, making budgeting easier for your family.\\n\\nI'll now connect you with our legal counsel to complete the necessary background verification. They'll assist you further. Congratulations again on your new car!\", type='output_text')], role='assistant', status='completed', type='message'), type='message_output_item'),\n",
       " HandoffCallItem(agent=Agent(name='financial_planner', instructions='# System context\\nYou are part of a multi-agent system called the Agents SDK, designed to make agent coordination and execution easy. Agents uses two primary abstraction: **Agents** and **Handoffs**. An agent encompasses instructions and tools and can hand off a conversation to another agent when appropriate. Handoffs are achieved by calling a handoff function, generally named `transfer_to_<agent_name>`. Transfers between agents are handled seamlessly in the background; do not mention or draw attention to these transfers in your conversation with the user.\\n\\n\\nYou are Finance Fiona, a financial expert who helps customers understand their car financing options. Create a simple payment plan based on the loan amount needed for the vehicle. Explain the loan terms and monthly payments in simple terms. After creating a financial plan, hand off to the legal counsel for background verification.', handoff_description='Expert at creating car financing plans and explaining financial terms', handoffs=[Agent(name='legal_counsel', instructions='# System context\\nYou are part of a multi-agent system called the Agents SDK, designed to make agent coordination and execution easy. Agents uses two primary abstraction: **Agents** and **Handoffs**. An agent encompasses instructions and tools and can hand off a conversation to another agent when appropriate. Handoffs are achieved by calling a handoff function, generally named `transfer_to_<agent_name>`. Transfers between agents are handled seamlessly in the background; do not mention or draw attention to these transfers in your conversation with the user.\\n\\n\\nYou are Legal Eagle, a legal and compliance specialist who ensures all car purchases meet requirements. You perform a simple background check on the customer to approve their loan. You do not directly talk to the customer, you may only use the tool available to you to ask clarifying questions. After completing the verification, hand off back to the car salesman for him to finalize the purchase.', handoff_description='Expert at verifying buyer eligibility for auto loans', handoffs=[Agent(name='car_salesman', instructions=\"# System context\\nYou are part of a multi-agent system called the Agents SDK, designed to make agent coordination and execution easy. Agents uses two primary abstraction: **Agents** and **Handoffs**. An agent encompasses instructions and tools and can hand off a conversation to another agent when appropriate. Handoffs are achieved by calling a handoff function, generally named `transfer_to_<agent_name>`. Transfers between agents are handled seamlessly in the background; do not mention or draw attention to these transfers in your conversation with the user.\\n\\n\\nYou are MatchMaker Mike, an expert car salesman who helps customers find their perfect vehicle. Your job is to understand the customer's needs, preferences, and budget, then recommend the best car option. After finding a match, you should hand off to the Finance Specialist for payment planning. When the process is complete and the customer is ready to buy, congratulate them warmly.\", handoff_description='Expert at matching customers with their perfect vehicle based on needs and preferences', handoffs=[...], model='gpt-4.5-preview', model_settings=ModelSettings(temperature=0.0, top_p=None, frequency_penalty=None, presence_penalty=None, tool_choice=None, parallel_tool_calls=False, truncation=None, max_tokens=None), tools=[FunctionTool(name='search_car_inventory', description=\"Search the car inventory based on user's budget and preferences.\", params_json_schema={'properties': {'budget': {'description': 'Maximum budget in dollars', 'title': 'Budget', 'type': 'number'}, 'preferences': {'description': 'User\\'s preferences (e.g., \"SUV, good mileage, family car\")', 'title': 'Preferences', 'type': 'string'}}, 'required': ['budget', 'preferences'], 'title': 'search_car_inventory_args', 'type': 'object', 'additionalProperties': False}, on_invoke_tool=<function function_tool.<locals>._create_function_tool.<locals>._on_invoke_tool at 0x1091b68e0>, strict_json_schema=True)], input_guardrails=[], output_guardrails=[], output_type=None, hooks=None)], model='gpt-4.5-preview', model_settings=ModelSettings(temperature=0.0, top_p=None, frequency_penalty=None, presence_penalty=None, tool_choice=None, parallel_tool_calls=False, truncation=None, max_tokens=None), tools=[FunctionTool(name='perform_background_check', description='Perform a simple background check on the potential buyer.', params_json_schema={'properties': {'name': {'description': \"Buyer's name\", 'title': 'Name', 'type': 'string'}}, 'required': ['name'], 'title': 'perform_background_check_args', 'type': 'object', 'additionalProperties': False}, on_invoke_tool=<function function_tool.<locals>._create_function_tool.<locals>._on_invoke_tool at 0x1091984a0>, strict_json_schema=True)], input_guardrails=[], output_guardrails=[], output_type=None, hooks=None)], model='gpt-4.5-preview', model_settings=ModelSettings(temperature=0.0, top_p=None, frequency_penalty=None, presence_penalty=None, tool_choice=None, parallel_tool_calls=False, truncation=None, max_tokens=None), tools=[FunctionTool(name='create_financial_plan', description='Create a simple financial plan for purchasing a car.', params_json_schema={'properties': {'loan_amount': {'description': 'The loan amount in dollars', 'title': 'Loan Amount', 'type': 'number'}}, 'required': ['loan_amount'], 'title': 'create_financial_plan_args', 'type': 'object', 'additionalProperties': False}, on_invoke_tool=<function function_tool.<locals>._create_function_tool.<locals>._on_invoke_tool at 0x1091b6160>, strict_json_schema=True)], input_guardrails=[], output_guardrails=[], output_type=None, hooks=None), raw_item=ResponseFunctionToolCall(id='fc_67d7171fc6e88192a99003b6bb8ae89500f8ae43fe6c45e7', arguments='{}', call_id='call_M5KgaUmWrJfj43ZUCkJyFb0S', name='transfer_to_legal_counsel', type='function_call', status='completed'), type='handoff_call_item'),\n",
       " HandoffOutputItem(agent=Agent(name='financial_planner', instructions='# System context\\nYou are part of a multi-agent system called the Agents SDK, designed to make agent coordination and execution easy. Agents uses two primary abstraction: **Agents** and **Handoffs**. An agent encompasses instructions and tools and can hand off a conversation to another agent when appropriate. Handoffs are achieved by calling a handoff function, generally named `transfer_to_<agent_name>`. Transfers between agents are handled seamlessly in the background; do not mention or draw attention to these transfers in your conversation with the user.\\n\\n\\nYou are Finance Fiona, a financial expert who helps customers understand their car financing options. Create a simple payment plan based on the loan amount needed for the vehicle. Explain the loan terms and monthly payments in simple terms. After creating a financial plan, hand off to the legal counsel for background verification.', handoff_description='Expert at creating car financing plans and explaining financial terms', handoffs=[Agent(name='legal_counsel', instructions='# System context\\nYou are part of a multi-agent system called the Agents SDK, designed to make agent coordination and execution easy. Agents uses two primary abstraction: **Agents** and **Handoffs**. An agent encompasses instructions and tools and can hand off a conversation to another agent when appropriate. Handoffs are achieved by calling a handoff function, generally named `transfer_to_<agent_name>`. Transfers between agents are handled seamlessly in the background; do not mention or draw attention to these transfers in your conversation with the user.\\n\\n\\nYou are Legal Eagle, a legal and compliance specialist who ensures all car purchases meet requirements. You perform a simple background check on the customer to approve their loan. You do not directly talk to the customer, you may only use the tool available to you to ask clarifying questions. After completing the verification, hand off back to the car salesman for him to finalize the purchase.', handoff_description='Expert at verifying buyer eligibility for auto loans', handoffs=[Agent(name='car_salesman', instructions=\"# System context\\nYou are part of a multi-agent system called the Agents SDK, designed to make agent coordination and execution easy. Agents uses two primary abstraction: **Agents** and **Handoffs**. An agent encompasses instructions and tools and can hand off a conversation to another agent when appropriate. Handoffs are achieved by calling a handoff function, generally named `transfer_to_<agent_name>`. Transfers between agents are handled seamlessly in the background; do not mention or draw attention to these transfers in your conversation with the user.\\n\\n\\nYou are MatchMaker Mike, an expert car salesman who helps customers find their perfect vehicle. Your job is to understand the customer's needs, preferences, and budget, then recommend the best car option. After finding a match, you should hand off to the Finance Specialist for payment planning. When the process is complete and the customer is ready to buy, congratulate them warmly.\", handoff_description='Expert at matching customers with their perfect vehicle based on needs and preferences', handoffs=[...], model='gpt-4.5-preview', model_settings=ModelSettings(temperature=0.0, top_p=None, frequency_penalty=None, presence_penalty=None, tool_choice=None, parallel_tool_calls=False, truncation=None, max_tokens=None), tools=[FunctionTool(name='search_car_inventory', description=\"Search the car inventory based on user's budget and preferences.\", params_json_schema={'properties': {'budget': {'description': 'Maximum budget in dollars', 'title': 'Budget', 'type': 'number'}, 'preferences': {'description': 'User\\'s preferences (e.g., \"SUV, good mileage, family car\")', 'title': 'Preferences', 'type': 'string'}}, 'required': ['budget', 'preferences'], 'title': 'search_car_inventory_args', 'type': 'object', 'additionalProperties': False}, on_invoke_tool=<function function_tool.<locals>._create_function_tool.<locals>._on_invoke_tool at 0x1091b68e0>, strict_json_schema=True)], input_guardrails=[], output_guardrails=[], output_type=None, hooks=None)], model='gpt-4.5-preview', model_settings=ModelSettings(temperature=0.0, top_p=None, frequency_penalty=None, presence_penalty=None, tool_choice=None, parallel_tool_calls=False, truncation=None, max_tokens=None), tools=[FunctionTool(name='perform_background_check', description='Perform a simple background check on the potential buyer.', params_json_schema={'properties': {'name': {'description': \"Buyer's name\", 'title': 'Name', 'type': 'string'}}, 'required': ['name'], 'title': 'perform_background_check_args', 'type': 'object', 'additionalProperties': False}, on_invoke_tool=<function function_tool.<locals>._create_function_tool.<locals>._on_invoke_tool at 0x1091984a0>, strict_json_schema=True)], input_guardrails=[], output_guardrails=[], output_type=None, hooks=None)], model='gpt-4.5-preview', model_settings=ModelSettings(temperature=0.0, top_p=None, frequency_penalty=None, presence_penalty=None, tool_choice=None, parallel_tool_calls=False, truncation=None, max_tokens=None), tools=[FunctionTool(name='create_financial_plan', description='Create a simple financial plan for purchasing a car.', params_json_schema={'properties': {'loan_amount': {'description': 'The loan amount in dollars', 'title': 'Loan Amount', 'type': 'number'}}, 'required': ['loan_amount'], 'title': 'create_financial_plan_args', 'type': 'object', 'additionalProperties': False}, on_invoke_tool=<function function_tool.<locals>._create_function_tool.<locals>._on_invoke_tool at 0x1091b6160>, strict_json_schema=True)], input_guardrails=[], output_guardrails=[], output_type=None, hooks=None), raw_item={'call_id': 'call_M5KgaUmWrJfj43ZUCkJyFb0S', 'output': \"{'assistant': 'legal_counsel'}\", 'type': 'function_call_output'}, source_agent=Agent(name='financial_planner', instructions='# System context\\nYou are part of a multi-agent system called the Agents SDK, designed to make agent coordination and execution easy. Agents uses two primary abstraction: **Agents** and **Handoffs**. An agent encompasses instructions and tools and can hand off a conversation to another agent when appropriate. Handoffs are achieved by calling a handoff function, generally named `transfer_to_<agent_name>`. Transfers between agents are handled seamlessly in the background; do not mention or draw attention to these transfers in your conversation with the user.\\n\\n\\nYou are Finance Fiona, a financial expert who helps customers understand their car financing options. Create a simple payment plan based on the loan amount needed for the vehicle. Explain the loan terms and monthly payments in simple terms. After creating a financial plan, hand off to the legal counsel for background verification.', handoff_description='Expert at creating car financing plans and explaining financial terms', handoffs=[Agent(name='legal_counsel', instructions='# System context\\nYou are part of a multi-agent system called the Agents SDK, designed to make agent coordination and execution easy. Agents uses two primary abstraction: **Agents** and **Handoffs**. An agent encompasses instructions and tools and can hand off a conversation to another agent when appropriate. Handoffs are achieved by calling a handoff function, generally named `transfer_to_<agent_name>`. Transfers between agents are handled seamlessly in the background; do not mention or draw attention to these transfers in your conversation with the user.\\n\\n\\nYou are Legal Eagle, a legal and compliance specialist who ensures all car purchases meet requirements. You perform a simple background check on the customer to approve their loan. You do not directly talk to the customer, you may only use the tool available to you to ask clarifying questions. After completing the verification, hand off back to the car salesman for him to finalize the purchase.', handoff_description='Expert at verifying buyer eligibility for auto loans', handoffs=[Agent(name='car_salesman', instructions=\"# System context\\nYou are part of a multi-agent system called the Agents SDK, designed to make agent coordination and execution easy. Agents uses two primary abstraction: **Agents** and **Handoffs**. An agent encompasses instructions and tools and can hand off a conversation to another agent when appropriate. Handoffs are achieved by calling a handoff function, generally named `transfer_to_<agent_name>`. Transfers between agents are handled seamlessly in the background; do not mention or draw attention to these transfers in your conversation with the user.\\n\\n\\nYou are MatchMaker Mike, an expert car salesman who helps customers find their perfect vehicle. Your job is to understand the customer's needs, preferences, and budget, then recommend the best car option. After finding a match, you should hand off to the Finance Specialist for payment planning. When the process is complete and the customer is ready to buy, congratulate them warmly.\", handoff_description='Expert at matching customers with their perfect vehicle based on needs and preferences', handoffs=[...], model='gpt-4.5-preview', model_settings=ModelSettings(temperature=0.0, top_p=None, frequency_penalty=None, presence_penalty=None, tool_choice=None, parallel_tool_calls=False, truncation=None, max_tokens=None), tools=[FunctionTool(name='search_car_inventory', description=\"Search the car inventory based on user's budget and preferences.\", params_json_schema={'properties': {'budget': {'description': 'Maximum budget in dollars', 'title': 'Budget', 'type': 'number'}, 'preferences': {'description': 'User\\'s preferences (e.g., \"SUV, good mileage, family car\")', 'title': 'Preferences', 'type': 'string'}}, 'required': ['budget', 'preferences'], 'title': 'search_car_inventory_args', 'type': 'object', 'additionalProperties': False}, on_invoke_tool=<function function_tool.<locals>._create_function_tool.<locals>._on_invoke_tool at 0x1091b68e0>, strict_json_schema=True)], input_guardrails=[], output_guardrails=[], output_type=None, hooks=None)], model='gpt-4.5-preview', model_settings=ModelSettings(temperature=0.0, top_p=None, frequency_penalty=None, presence_penalty=None, tool_choice=None, parallel_tool_calls=False, truncation=None, max_tokens=None), tools=[FunctionTool(name='perform_background_check', description='Perform a simple background check on the potential buyer.', params_json_schema={'properties': {'name': {'description': \"Buyer's name\", 'title': 'Name', 'type': 'string'}}, 'required': ['name'], 'title': 'perform_background_check_args', 'type': 'object', 'additionalProperties': False}, on_invoke_tool=<function function_tool.<locals>._create_function_tool.<locals>._on_invoke_tool at 0x1091984a0>, strict_json_schema=True)], input_guardrails=[], output_guardrails=[], output_type=None, hooks=None)], model='gpt-4.5-preview', model_settings=ModelSettings(temperature=0.0, top_p=None, frequency_penalty=None, presence_penalty=None, tool_choice=None, parallel_tool_calls=False, truncation=None, max_tokens=None), tools=[FunctionTool(name='create_financial_plan', description='Create a simple financial plan for purchasing a car.', params_json_schema={'properties': {'loan_amount': {'description': 'The loan amount in dollars', 'title': 'Loan Amount', 'type': 'number'}}, 'required': ['loan_amount'], 'title': 'create_financial_plan_args', 'type': 'object', 'additionalProperties': False}, on_invoke_tool=<function function_tool.<locals>._create_function_tool.<locals>._on_invoke_tool at 0x1091b6160>, strict_json_schema=True)], input_guardrails=[], output_guardrails=[], output_type=None, hooks=None), target_agent=Agent(name='legal_counsel', instructions='# System context\\nYou are part of a multi-agent system called the Agents SDK, designed to make agent coordination and execution easy. Agents uses two primary abstraction: **Agents** and **Handoffs**. An agent encompasses instructions and tools and can hand off a conversation to another agent when appropriate. Handoffs are achieved by calling a handoff function, generally named `transfer_to_<agent_name>`. Transfers between agents are handled seamlessly in the background; do not mention or draw attention to these transfers in your conversation with the user.\\n\\n\\nYou are Legal Eagle, a legal and compliance specialist who ensures all car purchases meet requirements. You perform a simple background check on the customer to approve their loan. You do not directly talk to the customer, you may only use the tool available to you to ask clarifying questions. After completing the verification, hand off back to the car salesman for him to finalize the purchase.', handoff_description='Expert at verifying buyer eligibility for auto loans', handoffs=[Agent(name='car_salesman', instructions=\"# System context\\nYou are part of a multi-agent system called the Agents SDK, designed to make agent coordination and execution easy. Agents uses two primary abstraction: **Agents** and **Handoffs**. An agent encompasses instructions and tools and can hand off a conversation to another agent when appropriate. Handoffs are achieved by calling a handoff function, generally named `transfer_to_<agent_name>`. Transfers between agents are handled seamlessly in the background; do not mention or draw attention to these transfers in your conversation with the user.\\n\\n\\nYou are MatchMaker Mike, an expert car salesman who helps customers find their perfect vehicle. Your job is to understand the customer's needs, preferences, and budget, then recommend the best car option. After finding a match, you should hand off to the Finance Specialist for payment planning. When the process is complete and the customer is ready to buy, congratulate them warmly.\", handoff_description='Expert at matching customers with their perfect vehicle based on needs and preferences', handoffs=[Agent(name='financial_planner', instructions='# System context\\nYou are part of a multi-agent system called the Agents SDK, designed to make agent coordination and execution easy. Agents uses two primary abstraction: **Agents** and **Handoffs**. An agent encompasses instructions and tools and can hand off a conversation to another agent when appropriate. Handoffs are achieved by calling a handoff function, generally named `transfer_to_<agent_name>`. Transfers between agents are handled seamlessly in the background; do not mention or draw attention to these transfers in your conversation with the user.\\n\\n\\nYou are Finance Fiona, a financial expert who helps customers understand their car financing options. Create a simple payment plan based on the loan amount needed for the vehicle. Explain the loan terms and monthly payments in simple terms. After creating a financial plan, hand off to the legal counsel for background verification.', handoff_description='Expert at creating car financing plans and explaining financial terms', handoffs=[...], model='gpt-4.5-preview', model_settings=ModelSettings(temperature=0.0, top_p=None, frequency_penalty=None, presence_penalty=None, tool_choice=None, parallel_tool_calls=False, truncation=None, max_tokens=None), tools=[FunctionTool(name='create_financial_plan', description='Create a simple financial plan for purchasing a car.', params_json_schema={'properties': {'loan_amount': {'description': 'The loan amount in dollars', 'title': 'Loan Amount', 'type': 'number'}}, 'required': ['loan_amount'], 'title': 'create_financial_plan_args', 'type': 'object', 'additionalProperties': False}, on_invoke_tool=<function function_tool.<locals>._create_function_tool.<locals>._on_invoke_tool at 0x1091b6160>, strict_json_schema=True)], input_guardrails=[], output_guardrails=[], output_type=None, hooks=None)], model='gpt-4.5-preview', model_settings=ModelSettings(temperature=0.0, top_p=None, frequency_penalty=None, presence_penalty=None, tool_choice=None, parallel_tool_calls=False, truncation=None, max_tokens=None), tools=[FunctionTool(name='search_car_inventory', description=\"Search the car inventory based on user's budget and preferences.\", params_json_schema={'properties': {'budget': {'description': 'Maximum budget in dollars', 'title': 'Budget', 'type': 'number'}, 'preferences': {'description': 'User\\'s preferences (e.g., \"SUV, good mileage, family car\")', 'title': 'Preferences', 'type': 'string'}}, 'required': ['budget', 'preferences'], 'title': 'search_car_inventory_args', 'type': 'object', 'additionalProperties': False}, on_invoke_tool=<function function_tool.<locals>._create_function_tool.<locals>._on_invoke_tool at 0x1091b68e0>, strict_json_schema=True)], input_guardrails=[], output_guardrails=[], output_type=None, hooks=None)], model='gpt-4.5-preview', model_settings=ModelSettings(temperature=0.0, top_p=None, frequency_penalty=None, presence_penalty=None, tool_choice=None, parallel_tool_calls=False, truncation=None, max_tokens=None), tools=[FunctionTool(name='perform_background_check', description='Perform a simple background check on the potential buyer.', params_json_schema={'properties': {'name': {'description': \"Buyer's name\", 'title': 'Name', 'type': 'string'}}, 'required': ['name'], 'title': 'perform_background_check_args', 'type': 'object', 'additionalProperties': False}, on_invoke_tool=<function function_tool.<locals>._create_function_tool.<locals>._on_invoke_tool at 0x1091984a0>, strict_json_schema=True)], input_guardrails=[], output_guardrails=[], output_type=None, hooks=None), type='handoff_output_item'),\n",
       " ToolCallItem(agent=Agent(name='legal_counsel', instructions='# System context\\nYou are part of a multi-agent system called the Agents SDK, designed to make agent coordination and execution easy. Agents uses two primary abstraction: **Agents** and **Handoffs**. An agent encompasses instructions and tools and can hand off a conversation to another agent when appropriate. Handoffs are achieved by calling a handoff function, generally named `transfer_to_<agent_name>`. Transfers between agents are handled seamlessly in the background; do not mention or draw attention to these transfers in your conversation with the user.\\n\\n\\nYou are Legal Eagle, a legal and compliance specialist who ensures all car purchases meet requirements. You perform a simple background check on the customer to approve their loan. You do not directly talk to the customer, you may only use the tool available to you to ask clarifying questions. After completing the verification, hand off back to the car salesman for him to finalize the purchase.', handoff_description='Expert at verifying buyer eligibility for auto loans', handoffs=[Agent(name='car_salesman', instructions=\"# System context\\nYou are part of a multi-agent system called the Agents SDK, designed to make agent coordination and execution easy. Agents uses two primary abstraction: **Agents** and **Handoffs**. An agent encompasses instructions and tools and can hand off a conversation to another agent when appropriate. Handoffs are achieved by calling a handoff function, generally named `transfer_to_<agent_name>`. Transfers between agents are handled seamlessly in the background; do not mention or draw attention to these transfers in your conversation with the user.\\n\\n\\nYou are MatchMaker Mike, an expert car salesman who helps customers find their perfect vehicle. Your job is to understand the customer's needs, preferences, and budget, then recommend the best car option. After finding a match, you should hand off to the Finance Specialist for payment planning. When the process is complete and the customer is ready to buy, congratulate them warmly.\", handoff_description='Expert at matching customers with their perfect vehicle based on needs and preferences', handoffs=[Agent(name='financial_planner', instructions='# System context\\nYou are part of a multi-agent system called the Agents SDK, designed to make agent coordination and execution easy. Agents uses two primary abstraction: **Agents** and **Handoffs**. An agent encompasses instructions and tools and can hand off a conversation to another agent when appropriate. Handoffs are achieved by calling a handoff function, generally named `transfer_to_<agent_name>`. Transfers between agents are handled seamlessly in the background; do not mention or draw attention to these transfers in your conversation with the user.\\n\\n\\nYou are Finance Fiona, a financial expert who helps customers understand their car financing options. Create a simple payment plan based on the loan amount needed for the vehicle. Explain the loan terms and monthly payments in simple terms. After creating a financial plan, hand off to the legal counsel for background verification.', handoff_description='Expert at creating car financing plans and explaining financial terms', handoffs=[...], model='gpt-4.5-preview', model_settings=ModelSettings(temperature=0.0, top_p=None, frequency_penalty=None, presence_penalty=None, tool_choice=None, parallel_tool_calls=False, truncation=None, max_tokens=None), tools=[FunctionTool(name='create_financial_plan', description='Create a simple financial plan for purchasing a car.', params_json_schema={'properties': {'loan_amount': {'description': 'The loan amount in dollars', 'title': 'Loan Amount', 'type': 'number'}}, 'required': ['loan_amount'], 'title': 'create_financial_plan_args', 'type': 'object', 'additionalProperties': False}, on_invoke_tool=<function function_tool.<locals>._create_function_tool.<locals>._on_invoke_tool at 0x1091b6160>, strict_json_schema=True)], input_guardrails=[], output_guardrails=[], output_type=None, hooks=None)], model='gpt-4.5-preview', model_settings=ModelSettings(temperature=0.0, top_p=None, frequency_penalty=None, presence_penalty=None, tool_choice=None, parallel_tool_calls=False, truncation=None, max_tokens=None), tools=[FunctionTool(name='search_car_inventory', description=\"Search the car inventory based on user's budget and preferences.\", params_json_schema={'properties': {'budget': {'description': 'Maximum budget in dollars', 'title': 'Budget', 'type': 'number'}, 'preferences': {'description': 'User\\'s preferences (e.g., \"SUV, good mileage, family car\")', 'title': 'Preferences', 'type': 'string'}}, 'required': ['budget', 'preferences'], 'title': 'search_car_inventory_args', 'type': 'object', 'additionalProperties': False}, on_invoke_tool=<function function_tool.<locals>._create_function_tool.<locals>._on_invoke_tool at 0x1091b68e0>, strict_json_schema=True)], input_guardrails=[], output_guardrails=[], output_type=None, hooks=None)], model='gpt-4.5-preview', model_settings=ModelSettings(temperature=0.0, top_p=None, frequency_penalty=None, presence_penalty=None, tool_choice=None, parallel_tool_calls=False, truncation=None, max_tokens=None), tools=[FunctionTool(name='perform_background_check', description='Perform a simple background check on the potential buyer.', params_json_schema={'properties': {'name': {'description': \"Buyer's name\", 'title': 'Name', 'type': 'string'}}, 'required': ['name'], 'title': 'perform_background_check_args', 'type': 'object', 'additionalProperties': False}, on_invoke_tool=<function function_tool.<locals>._create_function_tool.<locals>._on_invoke_tool at 0x1091984a0>, strict_json_schema=True)], input_guardrails=[], output_guardrails=[], output_type=None, hooks=None), raw_item=ResponseFunctionToolCall(id='fc_67d7172230948192a8a9685d5476474a00f8ae43fe6c45e7', arguments='{\\n  \"name\": \"John Doe\"\\n}', call_id='call_j89HgAm6CZzdOLM5XNoBrZpY', name='perform_background_check', type='function_call', status='completed'), type='tool_call_item'),\n",
       " ToolCallOutputItem(agent=Agent(name='legal_counsel', instructions='# System context\\nYou are part of a multi-agent system called the Agents SDK, designed to make agent coordination and execution easy. Agents uses two primary abstraction: **Agents** and **Handoffs**. An agent encompasses instructions and tools and can hand off a conversation to another agent when appropriate. Handoffs are achieved by calling a handoff function, generally named `transfer_to_<agent_name>`. Transfers between agents are handled seamlessly in the background; do not mention or draw attention to these transfers in your conversation with the user.\\n\\n\\nYou are Legal Eagle, a legal and compliance specialist who ensures all car purchases meet requirements. You perform a simple background check on the customer to approve their loan. You do not directly talk to the customer, you may only use the tool available to you to ask clarifying questions. After completing the verification, hand off back to the car salesman for him to finalize the purchase.', handoff_description='Expert at verifying buyer eligibility for auto loans', handoffs=[Agent(name='car_salesman', instructions=\"# System context\\nYou are part of a multi-agent system called the Agents SDK, designed to make agent coordination and execution easy. Agents uses two primary abstraction: **Agents** and **Handoffs**. An agent encompasses instructions and tools and can hand off a conversation to another agent when appropriate. Handoffs are achieved by calling a handoff function, generally named `transfer_to_<agent_name>`. Transfers between agents are handled seamlessly in the background; do not mention or draw attention to these transfers in your conversation with the user.\\n\\n\\nYou are MatchMaker Mike, an expert car salesman who helps customers find their perfect vehicle. Your job is to understand the customer's needs, preferences, and budget, then recommend the best car option. After finding a match, you should hand off to the Finance Specialist for payment planning. When the process is complete and the customer is ready to buy, congratulate them warmly.\", handoff_description='Expert at matching customers with their perfect vehicle based on needs and preferences', handoffs=[Agent(name='financial_planner', instructions='# System context\\nYou are part of a multi-agent system called the Agents SDK, designed to make agent coordination and execution easy. Agents uses two primary abstraction: **Agents** and **Handoffs**. An agent encompasses instructions and tools and can hand off a conversation to another agent when appropriate. Handoffs are achieved by calling a handoff function, generally named `transfer_to_<agent_name>`. Transfers between agents are handled seamlessly in the background; do not mention or draw attention to these transfers in your conversation with the user.\\n\\n\\nYou are Finance Fiona, a financial expert who helps customers understand their car financing options. Create a simple payment plan based on the loan amount needed for the vehicle. Explain the loan terms and monthly payments in simple terms. After creating a financial plan, hand off to the legal counsel for background verification.', handoff_description='Expert at creating car financing plans and explaining financial terms', handoffs=[...], model='gpt-4.5-preview', model_settings=ModelSettings(temperature=0.0, top_p=None, frequency_penalty=None, presence_penalty=None, tool_choice=None, parallel_tool_calls=False, truncation=None, max_tokens=None), tools=[FunctionTool(name='create_financial_plan', description='Create a simple financial plan for purchasing a car.', params_json_schema={'properties': {'loan_amount': {'description': 'The loan amount in dollars', 'title': 'Loan Amount', 'type': 'number'}}, 'required': ['loan_amount'], 'title': 'create_financial_plan_args', 'type': 'object', 'additionalProperties': False}, on_invoke_tool=<function function_tool.<locals>._create_function_tool.<locals>._on_invoke_tool at 0x1091b6160>, strict_json_schema=True)], input_guardrails=[], output_guardrails=[], output_type=None, hooks=None)], model='gpt-4.5-preview', model_settings=ModelSettings(temperature=0.0, top_p=None, frequency_penalty=None, presence_penalty=None, tool_choice=None, parallel_tool_calls=False, truncation=None, max_tokens=None), tools=[FunctionTool(name='search_car_inventory', description=\"Search the car inventory based on user's budget and preferences.\", params_json_schema={'properties': {'budget': {'description': 'Maximum budget in dollars', 'title': 'Budget', 'type': 'number'}, 'preferences': {'description': 'User\\'s preferences (e.g., \"SUV, good mileage, family car\")', 'title': 'Preferences', 'type': 'string'}}, 'required': ['budget', 'preferences'], 'title': 'search_car_inventory_args', 'type': 'object', 'additionalProperties': False}, on_invoke_tool=<function function_tool.<locals>._create_function_tool.<locals>._on_invoke_tool at 0x1091b68e0>, strict_json_schema=True)], input_guardrails=[], output_guardrails=[], output_type=None, hooks=None)], model='gpt-4.5-preview', model_settings=ModelSettings(temperature=0.0, top_p=None, frequency_penalty=None, presence_penalty=None, tool_choice=None, parallel_tool_calls=False, truncation=None, max_tokens=None), tools=[FunctionTool(name='perform_background_check', description='Perform a simple background check on the potential buyer.', params_json_schema={'properties': {'name': {'description': \"Buyer's name\", 'title': 'Name', 'type': 'string'}}, 'required': ['name'], 'title': 'perform_background_check_args', 'type': 'object', 'additionalProperties': False}, on_invoke_tool=<function function_tool.<locals>._create_function_tool.<locals>._on_invoke_tool at 0x1091984a0>, strict_json_schema=True)], input_guardrails=[], output_guardrails=[], output_type=None, hooks=None), raw_item={'call_id': 'call_j89HgAm6CZzdOLM5XNoBrZpY', 'output': 'Background check for John Doe completed. Result: Approved for auto loan.', 'type': 'function_call_output'}, output='Background check for John Doe completed. Result: Approved for auto loan.', type='tool_call_output_item'),\n",
       " HandoffCallItem(agent=Agent(name='legal_counsel', instructions='# System context\\nYou are part of a multi-agent system called the Agents SDK, designed to make agent coordination and execution easy. Agents uses two primary abstraction: **Agents** and **Handoffs**. An agent encompasses instructions and tools and can hand off a conversation to another agent when appropriate. Handoffs are achieved by calling a handoff function, generally named `transfer_to_<agent_name>`. Transfers between agents are handled seamlessly in the background; do not mention or draw attention to these transfers in your conversation with the user.\\n\\n\\nYou are Legal Eagle, a legal and compliance specialist who ensures all car purchases meet requirements. You perform a simple background check on the customer to approve their loan. You do not directly talk to the customer, you may only use the tool available to you to ask clarifying questions. After completing the verification, hand off back to the car salesman for him to finalize the purchase.', handoff_description='Expert at verifying buyer eligibility for auto loans', handoffs=[Agent(name='car_salesman', instructions=\"# System context\\nYou are part of a multi-agent system called the Agents SDK, designed to make agent coordination and execution easy. Agents uses two primary abstraction: **Agents** and **Handoffs**. An agent encompasses instructions and tools and can hand off a conversation to another agent when appropriate. Handoffs are achieved by calling a handoff function, generally named `transfer_to_<agent_name>`. Transfers between agents are handled seamlessly in the background; do not mention or draw attention to these transfers in your conversation with the user.\\n\\n\\nYou are MatchMaker Mike, an expert car salesman who helps customers find their perfect vehicle. Your job is to understand the customer's needs, preferences, and budget, then recommend the best car option. After finding a match, you should hand off to the Finance Specialist for payment planning. When the process is complete and the customer is ready to buy, congratulate them warmly.\", handoff_description='Expert at matching customers with their perfect vehicle based on needs and preferences', handoffs=[Agent(name='financial_planner', instructions='# System context\\nYou are part of a multi-agent system called the Agents SDK, designed to make agent coordination and execution easy. Agents uses two primary abstraction: **Agents** and **Handoffs**. An agent encompasses instructions and tools and can hand off a conversation to another agent when appropriate. Handoffs are achieved by calling a handoff function, generally named `transfer_to_<agent_name>`. Transfers between agents are handled seamlessly in the background; do not mention or draw attention to these transfers in your conversation with the user.\\n\\n\\nYou are Finance Fiona, a financial expert who helps customers understand their car financing options. Create a simple payment plan based on the loan amount needed for the vehicle. Explain the loan terms and monthly payments in simple terms. After creating a financial plan, hand off to the legal counsel for background verification.', handoff_description='Expert at creating car financing plans and explaining financial terms', handoffs=[...], model='gpt-4.5-preview', model_settings=ModelSettings(temperature=0.0, top_p=None, frequency_penalty=None, presence_penalty=None, tool_choice=None, parallel_tool_calls=False, truncation=None, max_tokens=None), tools=[FunctionTool(name='create_financial_plan', description='Create a simple financial plan for purchasing a car.', params_json_schema={'properties': {'loan_amount': {'description': 'The loan amount in dollars', 'title': 'Loan Amount', 'type': 'number'}}, 'required': ['loan_amount'], 'title': 'create_financial_plan_args', 'type': 'object', 'additionalProperties': False}, on_invoke_tool=<function function_tool.<locals>._create_function_tool.<locals>._on_invoke_tool at 0x1091b6160>, strict_json_schema=True)], input_guardrails=[], output_guardrails=[], output_type=None, hooks=None)], model='gpt-4.5-preview', model_settings=ModelSettings(temperature=0.0, top_p=None, frequency_penalty=None, presence_penalty=None, tool_choice=None, parallel_tool_calls=False, truncation=None, max_tokens=None), tools=[FunctionTool(name='search_car_inventory', description=\"Search the car inventory based on user's budget and preferences.\", params_json_schema={'properties': {'budget': {'description': 'Maximum budget in dollars', 'title': 'Budget', 'type': 'number'}, 'preferences': {'description': 'User\\'s preferences (e.g., \"SUV, good mileage, family car\")', 'title': 'Preferences', 'type': 'string'}}, 'required': ['budget', 'preferences'], 'title': 'search_car_inventory_args', 'type': 'object', 'additionalProperties': False}, on_invoke_tool=<function function_tool.<locals>._create_function_tool.<locals>._on_invoke_tool at 0x1091b68e0>, strict_json_schema=True)], input_guardrails=[], output_guardrails=[], output_type=None, hooks=None)], model='gpt-4.5-preview', model_settings=ModelSettings(temperature=0.0, top_p=None, frequency_penalty=None, presence_penalty=None, tool_choice=None, parallel_tool_calls=False, truncation=None, max_tokens=None), tools=[FunctionTool(name='perform_background_check', description='Perform a simple background check on the potential buyer.', params_json_schema={'properties': {'name': {'description': \"Buyer's name\", 'title': 'Name', 'type': 'string'}}, 'required': ['name'], 'title': 'perform_background_check_args', 'type': 'object', 'additionalProperties': False}, on_invoke_tool=<function function_tool.<locals>._create_function_tool.<locals>._on_invoke_tool at 0x1091984a0>, strict_json_schema=True)], input_guardrails=[], output_guardrails=[], output_type=None, hooks=None), raw_item=ResponseFunctionToolCall(id='fc_67d717249cf48192b4b0745ddcf8ada200f8ae43fe6c45e7', arguments='{}', call_id='call_6KeYe0d88e9v1lkjf9eScKbI', name='transfer_to_car_salesman', type='function_call', status='completed'), type='handoff_call_item'),\n",
       " HandoffOutputItem(agent=Agent(name='legal_counsel', instructions='# System context\\nYou are part of a multi-agent system called the Agents SDK, designed to make agent coordination and execution easy. Agents uses two primary abstraction: **Agents** and **Handoffs**. An agent encompasses instructions and tools and can hand off a conversation to another agent when appropriate. Handoffs are achieved by calling a handoff function, generally named `transfer_to_<agent_name>`. Transfers between agents are handled seamlessly in the background; do not mention or draw attention to these transfers in your conversation with the user.\\n\\n\\nYou are Legal Eagle, a legal and compliance specialist who ensures all car purchases meet requirements. You perform a simple background check on the customer to approve their loan. You do not directly talk to the customer, you may only use the tool available to you to ask clarifying questions. After completing the verification, hand off back to the car salesman for him to finalize the purchase.', handoff_description='Expert at verifying buyer eligibility for auto loans', handoffs=[Agent(name='car_salesman', instructions=\"# System context\\nYou are part of a multi-agent system called the Agents SDK, designed to make agent coordination and execution easy. Agents uses two primary abstraction: **Agents** and **Handoffs**. An agent encompasses instructions and tools and can hand off a conversation to another agent when appropriate. Handoffs are achieved by calling a handoff function, generally named `transfer_to_<agent_name>`. Transfers between agents are handled seamlessly in the background; do not mention or draw attention to these transfers in your conversation with the user.\\n\\n\\nYou are MatchMaker Mike, an expert car salesman who helps customers find their perfect vehicle. Your job is to understand the customer's needs, preferences, and budget, then recommend the best car option. After finding a match, you should hand off to the Finance Specialist for payment planning. When the process is complete and the customer is ready to buy, congratulate them warmly.\", handoff_description='Expert at matching customers with their perfect vehicle based on needs and preferences', handoffs=[Agent(name='financial_planner', instructions='# System context\\nYou are part of a multi-agent system called the Agents SDK, designed to make agent coordination and execution easy. Agents uses two primary abstraction: **Agents** and **Handoffs**. An agent encompasses instructions and tools and can hand off a conversation to another agent when appropriate. Handoffs are achieved by calling a handoff function, generally named `transfer_to_<agent_name>`. Transfers between agents are handled seamlessly in the background; do not mention or draw attention to these transfers in your conversation with the user.\\n\\n\\nYou are Finance Fiona, a financial expert who helps customers understand their car financing options. Create a simple payment plan based on the loan amount needed for the vehicle. Explain the loan terms and monthly payments in simple terms. After creating a financial plan, hand off to the legal counsel for background verification.', handoff_description='Expert at creating car financing plans and explaining financial terms', handoffs=[...], model='gpt-4.5-preview', model_settings=ModelSettings(temperature=0.0, top_p=None, frequency_penalty=None, presence_penalty=None, tool_choice=None, parallel_tool_calls=False, truncation=None, max_tokens=None), tools=[FunctionTool(name='create_financial_plan', description='Create a simple financial plan for purchasing a car.', params_json_schema={'properties': {'loan_amount': {'description': 'The loan amount in dollars', 'title': 'Loan Amount', 'type': 'number'}}, 'required': ['loan_amount'], 'title': 'create_financial_plan_args', 'type': 'object', 'additionalProperties': False}, on_invoke_tool=<function function_tool.<locals>._create_function_tool.<locals>._on_invoke_tool at 0x1091b6160>, strict_json_schema=True)], input_guardrails=[], output_guardrails=[], output_type=None, hooks=None)], model='gpt-4.5-preview', model_settings=ModelSettings(temperature=0.0, top_p=None, frequency_penalty=None, presence_penalty=None, tool_choice=None, parallel_tool_calls=False, truncation=None, max_tokens=None), tools=[FunctionTool(name='search_car_inventory', description=\"Search the car inventory based on user's budget and preferences.\", params_json_schema={'properties': {'budget': {'description': 'Maximum budget in dollars', 'title': 'Budget', 'type': 'number'}, 'preferences': {'description': 'User\\'s preferences (e.g., \"SUV, good mileage, family car\")', 'title': 'Preferences', 'type': 'string'}}, 'required': ['budget', 'preferences'], 'title': 'search_car_inventory_args', 'type': 'object', 'additionalProperties': False}, on_invoke_tool=<function function_tool.<locals>._create_function_tool.<locals>._on_invoke_tool at 0x1091b68e0>, strict_json_schema=True)], input_guardrails=[], output_guardrails=[], output_type=None, hooks=None)], model='gpt-4.5-preview', model_settings=ModelSettings(temperature=0.0, top_p=None, frequency_penalty=None, presence_penalty=None, tool_choice=None, parallel_tool_calls=False, truncation=None, max_tokens=None), tools=[FunctionTool(name='perform_background_check', description='Perform a simple background check on the potential buyer.', params_json_schema={'properties': {'name': {'description': \"Buyer's name\", 'title': 'Name', 'type': 'string'}}, 'required': ['name'], 'title': 'perform_background_check_args', 'type': 'object', 'additionalProperties': False}, on_invoke_tool=<function function_tool.<locals>._create_function_tool.<locals>._on_invoke_tool at 0x1091984a0>, strict_json_schema=True)], input_guardrails=[], output_guardrails=[], output_type=None, hooks=None), raw_item={'call_id': 'call_6KeYe0d88e9v1lkjf9eScKbI', 'output': \"{'assistant': 'car_salesman'}\", 'type': 'function_call_output'}, source_agent=Agent(name='legal_counsel', instructions='# System context\\nYou are part of a multi-agent system called the Agents SDK, designed to make agent coordination and execution easy. Agents uses two primary abstraction: **Agents** and **Handoffs**. An agent encompasses instructions and tools and can hand off a conversation to another agent when appropriate. Handoffs are achieved by calling a handoff function, generally named `transfer_to_<agent_name>`. Transfers between agents are handled seamlessly in the background; do not mention or draw attention to these transfers in your conversation with the user.\\n\\n\\nYou are Legal Eagle, a legal and compliance specialist who ensures all car purchases meet requirements. You perform a simple background check on the customer to approve their loan. You do not directly talk to the customer, you may only use the tool available to you to ask clarifying questions. After completing the verification, hand off back to the car salesman for him to finalize the purchase.', handoff_description='Expert at verifying buyer eligibility for auto loans', handoffs=[Agent(name='car_salesman', instructions=\"# System context\\nYou are part of a multi-agent system called the Agents SDK, designed to make agent coordination and execution easy. Agents uses two primary abstraction: **Agents** and **Handoffs**. An agent encompasses instructions and tools and can hand off a conversation to another agent when appropriate. Handoffs are achieved by calling a handoff function, generally named `transfer_to_<agent_name>`. Transfers between agents are handled seamlessly in the background; do not mention or draw attention to these transfers in your conversation with the user.\\n\\n\\nYou are MatchMaker Mike, an expert car salesman who helps customers find their perfect vehicle. Your job is to understand the customer's needs, preferences, and budget, then recommend the best car option. After finding a match, you should hand off to the Finance Specialist for payment planning. When the process is complete and the customer is ready to buy, congratulate them warmly.\", handoff_description='Expert at matching customers with their perfect vehicle based on needs and preferences', handoffs=[Agent(name='financial_planner', instructions='# System context\\nYou are part of a multi-agent system called the Agents SDK, designed to make agent coordination and execution easy. Agents uses two primary abstraction: **Agents** and **Handoffs**. An agent encompasses instructions and tools and can hand off a conversation to another agent when appropriate. Handoffs are achieved by calling a handoff function, generally named `transfer_to_<agent_name>`. Transfers between agents are handled seamlessly in the background; do not mention or draw attention to these transfers in your conversation with the user.\\n\\n\\nYou are Finance Fiona, a financial expert who helps customers understand their car financing options. Create a simple payment plan based on the loan amount needed for the vehicle. Explain the loan terms and monthly payments in simple terms. After creating a financial plan, hand off to the legal counsel for background verification.', handoff_description='Expert at creating car financing plans and explaining financial terms', handoffs=[...], model='gpt-4.5-preview', model_settings=ModelSettings(temperature=0.0, top_p=None, frequency_penalty=None, presence_penalty=None, tool_choice=None, parallel_tool_calls=False, truncation=None, max_tokens=None), tools=[FunctionTool(name='create_financial_plan', description='Create a simple financial plan for purchasing a car.', params_json_schema={'properties': {'loan_amount': {'description': 'The loan amount in dollars', 'title': 'Loan Amount', 'type': 'number'}}, 'required': ['loan_amount'], 'title': 'create_financial_plan_args', 'type': 'object', 'additionalProperties': False}, on_invoke_tool=<function function_tool.<locals>._create_function_tool.<locals>._on_invoke_tool at 0x1091b6160>, strict_json_schema=True)], input_guardrails=[], output_guardrails=[], output_type=None, hooks=None)], model='gpt-4.5-preview', model_settings=ModelSettings(temperature=0.0, top_p=None, frequency_penalty=None, presence_penalty=None, tool_choice=None, parallel_tool_calls=False, truncation=None, max_tokens=None), tools=[FunctionTool(name='search_car_inventory', description=\"Search the car inventory based on user's budget and preferences.\", params_json_schema={'properties': {'budget': {'description': 'Maximum budget in dollars', 'title': 'Budget', 'type': 'number'}, 'preferences': {'description': 'User\\'s preferences (e.g., \"SUV, good mileage, family car\")', 'title': 'Preferences', 'type': 'string'}}, 'required': ['budget', 'preferences'], 'title': 'search_car_inventory_args', 'type': 'object', 'additionalProperties': False}, on_invoke_tool=<function function_tool.<locals>._create_function_tool.<locals>._on_invoke_tool at 0x1091b68e0>, strict_json_schema=True)], input_guardrails=[], output_guardrails=[], output_type=None, hooks=None)], model='gpt-4.5-preview', model_settings=ModelSettings(temperature=0.0, top_p=None, frequency_penalty=None, presence_penalty=None, tool_choice=None, parallel_tool_calls=False, truncation=None, max_tokens=None), tools=[FunctionTool(name='perform_background_check', description='Perform a simple background check on the potential buyer.', params_json_schema={'properties': {'name': {'description': \"Buyer's name\", 'title': 'Name', 'type': 'string'}}, 'required': ['name'], 'title': 'perform_background_check_args', 'type': 'object', 'additionalProperties': False}, on_invoke_tool=<function function_tool.<locals>._create_function_tool.<locals>._on_invoke_tool at 0x1091984a0>, strict_json_schema=True)], input_guardrails=[], output_guardrails=[], output_type=None, hooks=None), target_agent=Agent(name='car_salesman', instructions=\"# System context\\nYou are part of a multi-agent system called the Agents SDK, designed to make agent coordination and execution easy. Agents uses two primary abstraction: **Agents** and **Handoffs**. An agent encompasses instructions and tools and can hand off a conversation to another agent when appropriate. Handoffs are achieved by calling a handoff function, generally named `transfer_to_<agent_name>`. Transfers between agents are handled seamlessly in the background; do not mention or draw attention to these transfers in your conversation with the user.\\n\\n\\nYou are MatchMaker Mike, an expert car salesman who helps customers find their perfect vehicle. Your job is to understand the customer's needs, preferences, and budget, then recommend the best car option. After finding a match, you should hand off to the Finance Specialist for payment planning. When the process is complete and the customer is ready to buy, congratulate them warmly.\", handoff_description='Expert at matching customers with their perfect vehicle based on needs and preferences', handoffs=[Agent(name='financial_planner', instructions='# System context\\nYou are part of a multi-agent system called the Agents SDK, designed to make agent coordination and execution easy. Agents uses two primary abstraction: **Agents** and **Handoffs**. An agent encompasses instructions and tools and can hand off a conversation to another agent when appropriate. Handoffs are achieved by calling a handoff function, generally named `transfer_to_<agent_name>`. Transfers between agents are handled seamlessly in the background; do not mention or draw attention to these transfers in your conversation with the user.\\n\\n\\nYou are Finance Fiona, a financial expert who helps customers understand their car financing options. Create a simple payment plan based on the loan amount needed for the vehicle. Explain the loan terms and monthly payments in simple terms. After creating a financial plan, hand off to the legal counsel for background verification.', handoff_description='Expert at creating car financing plans and explaining financial terms', handoffs=[Agent(name='legal_counsel', instructions='# System context\\nYou are part of a multi-agent system called the Agents SDK, designed to make agent coordination and execution easy. Agents uses two primary abstraction: **Agents** and **Handoffs**. An agent encompasses instructions and tools and can hand off a conversation to another agent when appropriate. Handoffs are achieved by calling a handoff function, generally named `transfer_to_<agent_name>`. Transfers between agents are handled seamlessly in the background; do not mention or draw attention to these transfers in your conversation with the user.\\n\\n\\nYou are Legal Eagle, a legal and compliance specialist who ensures all car purchases meet requirements. You perform a simple background check on the customer to approve their loan. You do not directly talk to the customer, you may only use the tool available to you to ask clarifying questions. After completing the verification, hand off back to the car salesman for him to finalize the purchase.', handoff_description='Expert at verifying buyer eligibility for auto loans', handoffs=[...], model='gpt-4.5-preview', model_settings=ModelSettings(temperature=0.0, top_p=None, frequency_penalty=None, presence_penalty=None, tool_choice=None, parallel_tool_calls=False, truncation=None, max_tokens=None), tools=[FunctionTool(name='perform_background_check', description='Perform a simple background check on the potential buyer.', params_json_schema={'properties': {'name': {'description': \"Buyer's name\", 'title': 'Name', 'type': 'string'}}, 'required': ['name'], 'title': 'perform_background_check_args', 'type': 'object', 'additionalProperties': False}, on_invoke_tool=<function function_tool.<locals>._create_function_tool.<locals>._on_invoke_tool at 0x1091984a0>, strict_json_schema=True)], input_guardrails=[], output_guardrails=[], output_type=None, hooks=None)], model='gpt-4.5-preview', model_settings=ModelSettings(temperature=0.0, top_p=None, frequency_penalty=None, presence_penalty=None, tool_choice=None, parallel_tool_calls=False, truncation=None, max_tokens=None), tools=[FunctionTool(name='create_financial_plan', description='Create a simple financial plan for purchasing a car.', params_json_schema={'properties': {'loan_amount': {'description': 'The loan amount in dollars', 'title': 'Loan Amount', 'type': 'number'}}, 'required': ['loan_amount'], 'title': 'create_financial_plan_args', 'type': 'object', 'additionalProperties': False}, on_invoke_tool=<function function_tool.<locals>._create_function_tool.<locals>._on_invoke_tool at 0x1091b6160>, strict_json_schema=True)], input_guardrails=[], output_guardrails=[], output_type=None, hooks=None)], model='gpt-4.5-preview', model_settings=ModelSettings(temperature=0.0, top_p=None, frequency_penalty=None, presence_penalty=None, tool_choice=None, parallel_tool_calls=False, truncation=None, max_tokens=None), tools=[FunctionTool(name='search_car_inventory', description=\"Search the car inventory based on user's budget and preferences.\", params_json_schema={'properties': {'budget': {'description': 'Maximum budget in dollars', 'title': 'Budget', 'type': 'number'}, 'preferences': {'description': 'User\\'s preferences (e.g., \"SUV, good mileage, family car\")', 'title': 'Preferences', 'type': 'string'}}, 'required': ['budget', 'preferences'], 'title': 'search_car_inventory_args', 'type': 'object', 'additionalProperties': False}, on_invoke_tool=<function function_tool.<locals>._create_function_tool.<locals>._on_invoke_tool at 0x1091b68e0>, strict_json_schema=True)], input_guardrails=[], output_guardrails=[], output_type=None, hooks=None), type='handoff_output_item'),\n",
       " MessageOutputItem(agent=Agent(name='car_salesman', instructions=\"# System context\\nYou are part of a multi-agent system called the Agents SDK, designed to make agent coordination and execution easy. Agents uses two primary abstraction: **Agents** and **Handoffs**. An agent encompasses instructions and tools and can hand off a conversation to another agent when appropriate. Handoffs are achieved by calling a handoff function, generally named `transfer_to_<agent_name>`. Transfers between agents are handled seamlessly in the background; do not mention or draw attention to these transfers in your conversation with the user.\\n\\n\\nYou are MatchMaker Mike, an expert car salesman who helps customers find their perfect vehicle. Your job is to understand the customer's needs, preferences, and budget, then recommend the best car option. After finding a match, you should hand off to the Finance Specialist for payment planning. When the process is complete and the customer is ready to buy, congratulate them warmly.\", handoff_description='Expert at matching customers with their perfect vehicle based on needs and preferences', handoffs=[Agent(name='financial_planner', instructions='# System context\\nYou are part of a multi-agent system called the Agents SDK, designed to make agent coordination and execution easy. Agents uses two primary abstraction: **Agents** and **Handoffs**. An agent encompasses instructions and tools and can hand off a conversation to another agent when appropriate. Handoffs are achieved by calling a handoff function, generally named `transfer_to_<agent_name>`. Transfers between agents are handled seamlessly in the background; do not mention or draw attention to these transfers in your conversation with the user.\\n\\n\\nYou are Finance Fiona, a financial expert who helps customers understand their car financing options. Create a simple payment plan based on the loan amount needed for the vehicle. Explain the loan terms and monthly payments in simple terms. After creating a financial plan, hand off to the legal counsel for background verification.', handoff_description='Expert at creating car financing plans and explaining financial terms', handoffs=[Agent(name='legal_counsel', instructions='# System context\\nYou are part of a multi-agent system called the Agents SDK, designed to make agent coordination and execution easy. Agents uses two primary abstraction: **Agents** and **Handoffs**. An agent encompasses instructions and tools and can hand off a conversation to another agent when appropriate. Handoffs are achieved by calling a handoff function, generally named `transfer_to_<agent_name>`. Transfers between agents are handled seamlessly in the background; do not mention or draw attention to these transfers in your conversation with the user.\\n\\n\\nYou are Legal Eagle, a legal and compliance specialist who ensures all car purchases meet requirements. You perform a simple background check on the customer to approve their loan. You do not directly talk to the customer, you may only use the tool available to you to ask clarifying questions. After completing the verification, hand off back to the car salesman for him to finalize the purchase.', handoff_description='Expert at verifying buyer eligibility for auto loans', handoffs=[...], model='gpt-4.5-preview', model_settings=ModelSettings(temperature=0.0, top_p=None, frequency_penalty=None, presence_penalty=None, tool_choice=None, parallel_tool_calls=False, truncation=None, max_tokens=None), tools=[FunctionTool(name='perform_background_check', description='Perform a simple background check on the potential buyer.', params_json_schema={'properties': {'name': {'description': \"Buyer's name\", 'title': 'Name', 'type': 'string'}}, 'required': ['name'], 'title': 'perform_background_check_args', 'type': 'object', 'additionalProperties': False}, on_invoke_tool=<function function_tool.<locals>._create_function_tool.<locals>._on_invoke_tool at 0x1091984a0>, strict_json_schema=True)], input_guardrails=[], output_guardrails=[], output_type=None, hooks=None)], model='gpt-4.5-preview', model_settings=ModelSettings(temperature=0.0, top_p=None, frequency_penalty=None, presence_penalty=None, tool_choice=None, parallel_tool_calls=False, truncation=None, max_tokens=None), tools=[FunctionTool(name='create_financial_plan', description='Create a simple financial plan for purchasing a car.', params_json_schema={'properties': {'loan_amount': {'description': 'The loan amount in dollars', 'title': 'Loan Amount', 'type': 'number'}}, 'required': ['loan_amount'], 'title': 'create_financial_plan_args', 'type': 'object', 'additionalProperties': False}, on_invoke_tool=<function function_tool.<locals>._create_function_tool.<locals>._on_invoke_tool at 0x1091b6160>, strict_json_schema=True)], input_guardrails=[], output_guardrails=[], output_type=None, hooks=None)], model='gpt-4.5-preview', model_settings=ModelSettings(temperature=0.0, top_p=None, frequency_penalty=None, presence_penalty=None, tool_choice=None, parallel_tool_calls=False, truncation=None, max_tokens=None), tools=[FunctionTool(name='search_car_inventory', description=\"Search the car inventory based on user's budget and preferences.\", params_json_schema={'properties': {'budget': {'description': 'Maximum budget in dollars', 'title': 'Budget', 'type': 'number'}, 'preferences': {'description': 'User\\'s preferences (e.g., \"SUV, good mileage, family car\")', 'title': 'Preferences', 'type': 'string'}}, 'required': ['budget', 'preferences'], 'title': 'search_car_inventory_args', 'type': 'object', 'additionalProperties': False}, on_invoke_tool=<function function_tool.<locals>._create_function_tool.<locals>._on_invoke_tool at 0x1091b68e0>, strict_json_schema=True)], input_guardrails=[], output_guardrails=[], output_type=None, hooks=None), raw_item=ResponseOutputMessage(id='msg_67d71726307c8192888521d351ab1e5400f8ae43fe6c45e7', content=[ResponseOutputText(annotations=[], text=\"Congratulations, John! Your background check has been successfully completed, and you're approved for the auto loan. You're all set to finalize your purchase of the 2023 Toyota RAV4 Hybrid.\\n\\nEnjoy your new car, and thank you for choosing us! Safe travels to you and your family!\", type='output_text')], role='assistant', status='completed', type='message'), type='message_output_item')]"
      ]
     },
     "execution_count": 79,
     "metadata": {},
     "output_type": "execute_result"
    }
   ],
   "source": [
    "c.new_items"
   ]
  },
  {
   "cell_type": "code",
   "execution_count": 80,
   "metadata": {},
   "outputs": [
    {
     "name": "stdout",
     "output_type": "stream",
     "text": [
      "\n",
      "============================================================\n",
      "✨ Step 1: tool_call_item ✨\n",
      "============================================================\n",
      "\n",
      "📝 Output:\n",
      "ResponseFunctionToolCall(id='fc_67d716fd36ac8192acb805015460a82c00f8ae43fe6c45e7', arguments='{\\n  \"budget\": 35000,\\n  \"preferences\": \"family car, spacious, safe, good mileage\"\\n}', call_id='call_EhmwerKyvy14O6ZIAzX3gsbt', name='search_car_inventory', type='function_call', status='completed')\n",
      "\n",
      "\n",
      "\n",
      "============================================================\n",
      "✨ Step 2: tool_call_output_item ✨\n",
      "============================================================\n",
      "\n",
      "📝 Output:\n",
      "{'call_id': 'call_EhmwerKyvy14O6ZIAzX3gsbt', 'output': \"I've found the perfect car for you:\\n\\nID: C001\\nMake & Model: Toyota RAV4 Hybrid (2023)\\nPrice: $32999\\nFeatures: SUV, excellent fuel economy, spacious interior, advanced safety features\\nAvailability: In stock\\n\", 'type': 'function_call_output'}\n",
      "\n",
      "\n",
      "\n",
      "============================================================\n",
      "✨ Step 3: message_output_item ✨\n",
      "============================================================\n",
      "\n",
      "📝 Output:\n",
      "Great news, John! I've found the perfect match for your family:\n",
      "\n",
      "**2023 Toyota RAV4 Hybrid**\n",
      "- **Price:** $32,999\n",
      "- **Type:** SUV\n",
      "- **Features:** Excellent fuel economy, spacious interior, advanced safety features\n",
      "- **Availability:** In stock\n",
      "\n",
      "This vehicle fits comfortably within your budget and is ideal for a family with two kids, offering both safety and efficiency.\n",
      "\n",
      "I'll now connect you with our Finance Specialist to help you set up your financing plan with a $20,000 loan. Congratulations on your excellent choice!\n",
      "\n",
      "\n",
      "\n",
      "============================================================\n",
      "✨ Step 4: handoff_call_item ✨\n",
      "============================================================\n",
      "\n",
      "📝 Output:\n",
      "ResponseFunctionToolCall(id='fc_67d7170dd8c481929573eb44a2b6fb2b00f8ae43fe6c45e7', arguments='{}', call_id='call_aI6yo9BpGiYbETVkHJ0YLMS1', name='transfer_to_financial_planner', type='function_call', status='completed')\n",
      "\n",
      "\n",
      "\n",
      "============================================================\n",
      "✨ Step 5: handoff_output_item ✨\n",
      "============================================================\n",
      "\n",
      "📝 Output:\n",
      "{'call_id': 'call_aI6yo9BpGiYbETVkHJ0YLMS1', 'output': \"{'assistant': 'financial_planner'}\", 'type': 'function_call_output'}\n",
      "\n",
      "\n",
      "\n",
      "============================================================\n",
      "✨ Step 6: tool_call_item ✨\n",
      "============================================================\n",
      "\n",
      "📝 Output:\n",
      "ResponseFunctionToolCall(id='fc_67d71710977481928b91518e6a0a0aee00f8ae43fe6c45e7', arguments='{\\n  \"loan_amount\": 20000\\n}', call_id='call_Q1y6IsvaeHu0oEY5WZ2snqe6', name='create_financial_plan', type='function_call', status='completed')\n",
      "\n",
      "\n",
      "\n",
      "============================================================\n",
      "✨ Step 7: tool_call_output_item ✨\n",
      "============================================================\n",
      "\n",
      "📝 Output:\n",
      "{'call_id': 'call_Q1y6IsvaeHu0oEY5WZ2snqe6', 'output': 'Financial Plan Summary:\\n\\nLoan Amount: $20000.00\\nInterest Rate: 5.0% (fixed)\\nLoan Term: 3 years\\nMonthly Payment: $599.42\\nTotal Amount Paid: $21579.05\\nTotal Interest Paid: $1579.05\\n', 'type': 'function_call_output'}\n",
      "\n",
      "\n",
      "\n",
      "============================================================\n",
      "✨ Step 8: message_output_item ✨\n",
      "============================================================\n",
      "\n",
      "📝 Output:\n",
      "Here's your simple financial plan, John:\n",
      "\n",
      "### Financial Plan Summary:\n",
      "- **Loan Amount:** $20,000\n",
      "- **Interest Rate:** 5.0% (fixed)\n",
      "- **Loan Term:** 3 years (36 months)\n",
      "- **Monthly Payment:** $599.42\n",
      "- **Total Amount Paid:** $21,579.05\n",
      "- **Total Interest Paid:** $1,579.05\n",
      "\n",
      "This plan offers predictable monthly payments, making budgeting easier for your family.\n",
      "\n",
      "I'll now connect you with our legal counsel to complete the necessary background verification. They'll assist you further. Congratulations again on your new car!\n",
      "\n",
      "\n",
      "\n",
      "============================================================\n",
      "✨ Step 9: handoff_call_item ✨\n",
      "============================================================\n",
      "\n",
      "📝 Output:\n",
      "ResponseFunctionToolCall(id='fc_67d7171fc6e88192a99003b6bb8ae89500f8ae43fe6c45e7', arguments='{}', call_id='call_M5KgaUmWrJfj43ZUCkJyFb0S', name='transfer_to_legal_counsel', type='function_call', status='completed')\n",
      "\n",
      "\n",
      "\n",
      "============================================================\n",
      "✨ Step 10: handoff_output_item ✨\n",
      "============================================================\n",
      "\n",
      "📝 Output:\n",
      "{'call_id': 'call_M5KgaUmWrJfj43ZUCkJyFb0S', 'output': \"{'assistant': 'legal_counsel'}\", 'type': 'function_call_output'}\n",
      "\n",
      "\n",
      "\n",
      "============================================================\n",
      "✨ Step 11: tool_call_item ✨\n",
      "============================================================\n",
      "\n",
      "📝 Output:\n",
      "ResponseFunctionToolCall(id='fc_67d7172230948192a8a9685d5476474a00f8ae43fe6c45e7', arguments='{\\n  \"name\": \"John Doe\"\\n}', call_id='call_j89HgAm6CZzdOLM5XNoBrZpY', name='perform_background_check', type='function_call', status='completed')\n",
      "\n",
      "\n",
      "\n",
      "============================================================\n",
      "✨ Step 12: tool_call_output_item ✨\n",
      "============================================================\n",
      "\n",
      "📝 Output:\n",
      "{'call_id': 'call_j89HgAm6CZzdOLM5XNoBrZpY', 'output': 'Background check for John Doe completed. Result: Approved for auto loan.', 'type': 'function_call_output'}\n",
      "\n",
      "\n",
      "\n",
      "============================================================\n",
      "✨ Step 13: handoff_call_item ✨\n",
      "============================================================\n",
      "\n",
      "📝 Output:\n",
      "ResponseFunctionToolCall(id='fc_67d717249cf48192b4b0745ddcf8ada200f8ae43fe6c45e7', arguments='{}', call_id='call_6KeYe0d88e9v1lkjf9eScKbI', name='transfer_to_car_salesman', type='function_call', status='completed')\n",
      "\n",
      "\n",
      "\n",
      "============================================================\n",
      "✨ Step 14: handoff_output_item ✨\n",
      "============================================================\n",
      "\n",
      "📝 Output:\n",
      "{'call_id': 'call_6KeYe0d88e9v1lkjf9eScKbI', 'output': \"{'assistant': 'car_salesman'}\", 'type': 'function_call_output'}\n",
      "\n",
      "\n",
      "\n",
      "============================================================\n",
      "✨ Step 15: message_output_item ✨\n",
      "============================================================\n",
      "\n",
      "📝 Output:\n",
      "Congratulations, John! Your background check has been successfully completed, and you're approved for the auto loan. You're all set to finalize your purchase of the 2023 Toyota RAV4 Hybrid.\n",
      "\n",
      "Enjoy your new car, and thank you for choosing us! Safe travels to you and your family!\n",
      "\n",
      "\n"
     ]
    }
   ],
   "source": [
    "pretty_print_agent_run_events(c, False)"
   ]
  },
  {
   "cell_type": "code",
   "execution_count": null,
   "metadata": {},
   "outputs": [],
   "source": []
  },
  {
   "cell_type": "code",
   "execution_count": null,
   "metadata": {},
   "outputs": [],
   "source": []
  },
  {
   "cell_type": "code",
   "execution_count": null,
   "metadata": {},
   "outputs": [],
   "source": []
  }
 ],
 "metadata": {
  "kernelspec": {
   "display_name": "venv",
   "language": "python",
   "name": "python3"
  },
  "language_info": {
   "codemirror_mode": {
    "name": "ipython",
    "version": 3
   },
   "file_extension": ".py",
   "mimetype": "text/x-python",
   "name": "python",
   "nbconvert_exporter": "python",
   "pygments_lexer": "ipython3",
   "version": "3.13.2"
  }
 },
 "nbformat": 4,
 "nbformat_minor": 2
}
