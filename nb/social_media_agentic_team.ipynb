{
 "cells": [
  {
   "cell_type": "markdown",
   "metadata": {},
   "source": [
    "### Social Media Agentic Team\n",
    "\n",
    "Experiment with an agentic team of social media agents. Given a topic / social media post idea, multiple agents will kick off to generate content for specific social media platforms."
   ]
  },
  {
   "cell_type": "code",
   "execution_count": 1,
   "metadata": {},
   "outputs": [],
   "source": [
    "import os \n",
    "import sys\n",
    "sys.path.append('..')\n",
    "\n",
    "from dotenv import load_dotenv\n",
    "load_dotenv()\n",
    "\n",
    "from IPython.display import display, Markdown, Image\n",
    "import base64\n",
    "\n",
    "from utils.llm import chat_completion\n",
    "\n",
    "from openai import OpenAI\n",
    "client = OpenAI()\n",
    "\n",
    "from langchain_openai import ChatOpenAI\n",
    "from langchain_core.messages import BaseMessage, SystemMessage, ToolMessage\n",
    "from langgraph.graph.message import add_messages\n",
    "from langchain_core.tools import tool\n",
    "from langgraph.prebuilt import ToolNode\n",
    "from langgraph.graph import START, END, StateGraph\n",
    "\n",
    "from pydantic import BaseModel, Field\n",
    "from typing import Annotated, Sequence, TypedDict, List, Dict\n",
    "import json"
   ]
  },
  {
   "cell_type": "code",
   "execution_count": null,
   "metadata": {},
   "outputs": [],
   "source": []
  },
  {
   "cell_type": "markdown",
   "metadata": {},
   "source": [
    "### Create tools for each agent"
   ]
  },
  {
   "cell_type": "markdown",
   "metadata": {},
   "source": [
    "#### 1. Image generation"
   ]
  },
  {
   "cell_type": "code",
   "execution_count": 2,
   "metadata": {},
   "outputs": [],
   "source": [
    "# name image - when saving, we will ask AI to name the image\n",
    "\n",
    "def name_image(image_prompt: str):\n",
    "\n",
    "    completion = client.chat.completions.create(\n",
    "        model=\"gpt-4o\",\n",
    "        messages=[\n",
    "            {\"role\": \"system\", \"content\": \"You assist with naming images. Given an image prompt, you will return a name for the image to save it to a png. Do not add the extension to the name.\"},\n",
    "            {\"role\": \"user\", \"content\": image_prompt}\n",
    "        ]\n",
    "    )\n",
    "\n",
    "    generated_name = completion.choices[0].message.content\n",
    "    print(f'Generated name: {generated_name}')\n",
    "\n",
    "    return generated_name\n",
    "\n",
    "# generate image\n",
    "\n",
    "def generate_image(image_prompt: str):\n",
    "\n",
    "    response = client.images.generate(\n",
    "        model=\"dall-e-3\",\n",
    "        prompt=image_prompt,\n",
    "        size=\"1024x1024\",\n",
    "        quality=\"hd\",\n",
    "        style=\"vivid\",\n",
    "        n=1,\n",
    "        response_format = \"b64_json\" #url\n",
    "    )\n",
    "\n",
    "    revised_prompt = response.data[0].revised_prompt\n",
    "    #url = response.data[0].url\n",
    "    base64_image = response.data[0].b64_json\n",
    "\n",
    "    print(f'Successfully generated image')\n",
    "\n",
    "    return revised_prompt, base64_image\n",
    "\n",
    "# save image\n",
    "\n",
    "def save_image(image_name: str, base64_image: str):\n",
    "\n",
    "    img_data = base64.b64decode(base64_image)\n",
    "    path = f\"social_media_agentic_team_temp/{image_name}.png\"\n",
    "\n",
    "    with open(path, \"wb\") as f:\n",
    "        f.write(img_data)\n",
    "\n",
    "    print(f'Successfully saved image to {path}')\n",
    "\n",
    "    return path\n",
    "\n",
    "# image tool\n",
    "\n",
    "@tool\n",
    "def image_generation_tool(image_prompt: str):\n",
    "\n",
    "    \"\"\"\n",
    "    Generate an image given a description.\n",
    "    \"\"\"\n",
    "\n",
    "    revised_prompt, base64_image = generate_image(image_prompt)\n",
    "    image_name = name_image(revised_prompt)\n",
    "    path = save_image(image_name, base64_image)\n",
    "\n",
    "    return f\"Image generated and saved to {path}\""
   ]
  },
  {
   "cell_type": "markdown",
   "metadata": {},
   "source": [
    "Test `DALL-E-3` image generation."
   ]
  },
  {
   "cell_type": "code",
   "execution_count": 3,
   "metadata": {},
   "outputs": [
    {
     "name": "stderr",
     "output_type": "stream",
     "text": [
      "/var/folders/lh/3twyh2mn2mnbfn9wvxvwyb3w0000gp/T/ipykernel_58462/3396530320.py:2: LangChainDeprecationWarning: The method `BaseTool.__call__` was deprecated in langchain-core 0.1.47 and will be removed in 1.0. Use invoke instead.\n",
      "  image_generation_tool(image_prompt)\n"
     ]
    },
    {
     "name": "stdout",
     "output_type": "stream",
     "text": [
      "Successfully generated image\n",
      "Generated name: GPU_Release_Event_Surge\n",
      "Successfully saved image to social_media_agentic_team_temp/GPU_Release_Event_Surge.png\n"
     ]
    },
    {
     "data": {
      "text/plain": [
       "'Image generated and saved to social_media_agentic_team_temp/GPU_Release_Event_Surge.png'"
      ]
     },
     "execution_count": 3,
     "metadata": {},
     "output_type": "execute_result"
    }
   ],
   "source": [
    "image_prompt = \"Never before seen demand for GPUs\"\n",
    "image_generation_tool(image_prompt)"
   ]
  },
  {
   "cell_type": "code",
   "execution_count": 4,
   "metadata": {},
   "outputs": [
    {
     "data": {
      "text/markdown": [
       "\n",
       "\n",
       "## Test Markdown with Image\n",
       "\n",
       "Here is the image:\n",
       "\n",
       "<img src=\"social_media_agentic_team_temp/GPU_Release_Event_Surge.png\" width=\"450\"/>\n",
       "\n",
       "End of test markdown.\n"
      ],
      "text/plain": [
       "<IPython.core.display.Markdown object>"
      ]
     },
     "metadata": {},
     "output_type": "display_data"
    }
   ],
   "source": [
    "path = 'social_media_agentic_team_temp/GPU_Release_Event_Surge.png'\n",
    "\n",
    "markdown_text = f\"\"\"\n",
    "\n",
    "## Test Markdown with Image\n",
    "\n",
    "Here is the image:\n",
    "\n",
    "<img src=\"{path}\" width=\"450\"/>\n",
    "\n",
    "End of test markdown.\n",
    "\"\"\"\n",
    "\n",
    "display(Markdown(markdown_text))\n"
   ]
  },
  {
   "cell_type": "code",
   "execution_count": null,
   "metadata": {},
   "outputs": [],
   "source": []
  },
  {
   "cell_type": "markdown",
   "metadata": {},
   "source": [
    "#### 2. Perplexity AI Research"
   ]
  },
  {
   "cell_type": "code",
   "execution_count": 5,
   "metadata": {},
   "outputs": [],
   "source": [
    "model_name_pplx = \"llama-3.1-sonar-large-128k-online\"\n",
    "pplx_client = OpenAI(api_key=os.getenv('PPLX_API_KEY'), base_url=\"https://api.perplexity.ai\")\n",
    "temperature = 0.0\n",
    "system_msg_pplx = \"You are an expert social media content creator. You provide helpful, professional advice to the user.\"\n",
    "\n",
    "def perplexity_research(user_message: str):\n",
    "\n",
    "    print(f'Perplexity research tool called with message: {user_message}')\n",
    "\n",
    "    response_pplx = chat_completion(\n",
    "            messages=[\n",
    "                {\"role\": \"system\", \"content\": system_msg_pplx},\n",
    "            {\"role\": \"user\", \"content\": user_message}\n",
    "        ],\n",
    "        model_name=model_name_pplx,\n",
    "        temperature=temperature,\n",
    "        client=pplx_client\n",
    "    )\n",
    "\n",
    "    response = response_pplx.choices[0].message.content\n",
    "    citations = response_pplx.citations\n",
    "\n",
    "    return response, citations\n",
    "\n",
    "@tool\n",
    "def perplexity_research_tool(user_message: str):\n",
    "    \"\"\"\n",
    "    Use Perplexity AI to research a topic.\n",
    "    \"\"\"\n",
    "    response, citations = perplexity_research(user_message)\n",
    "    pplx_output = f\"Insights from Perplexity AI:\\n\\n{response}\\n\\nCitations:\\n{citations}\"\n",
    "\n",
    "    return pplx_output"
   ]
  },
  {
   "cell_type": "markdown",
   "metadata": {},
   "source": [
    "Test perplexity research tool"
   ]
  },
  {
   "cell_type": "code",
   "execution_count": 6,
   "metadata": {},
   "outputs": [
    {
     "name": "stdout",
     "output_type": "stream",
     "text": [
      "Perplexity research tool called with message: Who is most likely to compete with Nvidia in the GPU market?\n"
     ]
    },
    {
     "data": {
      "text/markdown": [
       "Insights from Perplexity AI:\n",
       "\n",
       "In the GPU market, the primary competitors to Nvidia are:\n",
       "\n",
       "## Advanced Micro Devices (AMD)\n",
       "AMD is Nvidia's most significant and long-standing competitor in the GPU market. AMD offers cost-effective graphics cards, such as its Radeon series, which compete directly with Nvidia's products in terms of performance and price. Despite Nvidia's dominant market share, AMD has managed to carve out a considerable portion of the market and has seen recent successes with big orders from companies like Microsoft, Meta, and OpenAI[1][2][4].\n",
       "\n",
       "## Intel\n",
       "Intel, although newer to the GPU market, is also a notable competitor. Intel has launched its Xe Graphics and ARC GPUs, leveraging its expertise in integrated circuits to develop competitive GPU offerings. However, Intel's current market share in the GPU sector is minimal, and it faces significant challenges in gaining traction against Nvidia and AMD[1][2][3].\n",
       "\n",
       "Other companies, such as Sapphire Technology, Qualcomm, and Broadcom, also play roles in the broader semiconductor and GPU markets, but they are not as directly competitive with Nvidia in the high-performance GPU segment as AMD and Intel are.\n",
       "\n",
       "### Market Share Dynamics\n",
       "- Nvidia currently holds around 88-90% of the GPU market share, with AMD's share declining to around 12% and Intel's share being negligible[3][5].\n",
       "- Despite the dominance of Nvidia, analysts believe there is still room for AMD to compete, particularly in the mid-range segment, and for Intel to potentially make an impact with future GPU releases[1][3][4].\n",
       "\n",
       "Citations:\n",
       "['https://www.nerdwallet.com/article/investing/nvidia-competitors', 'https://www.cheddarflow.com/blog/exploring-the-top-nvidia-competitors-in-2023/', 'https://www.techradar.com/computing/gpu/nvidia-now-owns-88-of-the-gpu-market-but-that-might-not-be-a-bad-thing-yet', 'https://fortune.com/2024/07/02/nvidia-competition-ai-chip-gpu-startups-analysts/', 'https://www.techpowerup.com/forums/threads/nvidias-gpu-market-share-hits-90-in-q4-2024-gets-closer-to-full-monopoly.329842/']"
      ],
      "text/plain": [
       "<IPython.core.display.Markdown object>"
      ]
     },
     "metadata": {},
     "output_type": "display_data"
    }
   ],
   "source": [
    "pplx_research_question = \"Who is most likely to compete with Nvidia in the GPU market?\"\n",
    "pplx_test_output = perplexity_research_tool(pplx_research_question)\n",
    "\n",
    "display(Markdown(pplx_test_output))"
   ]
  },
  {
   "cell_type": "code",
   "execution_count": null,
   "metadata": {},
   "outputs": [],
   "source": []
  },
  {
   "cell_type": "code",
   "execution_count": 7,
   "metadata": {},
   "outputs": [
    {
     "name": "stdout",
     "output_type": "stream",
     "text": [
      "image_generation_tool, perplexity_research_tool\n"
     ]
    }
   ],
   "source": [
    "tools = [image_generation_tool, perplexity_research_tool]\n",
    "tool_node = ToolNode(tools)\n",
    "\n",
    "tools_dict = {tool.name: tool for tool in tools}\n",
    "tools_str = \", \".join([tool.name for tool in tools])\n",
    "print(tools_str)"
   ]
  },
  {
   "cell_type": "code",
   "execution_count": null,
   "metadata": {},
   "outputs": [],
   "source": []
  },
  {
   "cell_type": "markdown",
   "metadata": {},
   "source": [
    "### 2. Prompts"
   ]
  },
  {
   "cell_type": "code",
   "execution_count": 8,
   "metadata": {},
   "outputs": [],
   "source": [
    "planning_system_msg = \"You are an expert social media content creator. You provide helpful, professional advice to the user. You are given a topic and a social media platform. You will provide a plan for the content to be created.\"\n",
    "\n",
    "planning_instruction = \"\"\"\n",
    "The user wants to create a post about the following topic: \n",
    "<topic>{topic}</topic>.\n",
    "\n",
    "The selected social media platform is: \n",
    "<platform>{platform}</platform>.\n",
    "\n",
    "Background information about the user and the audience: \n",
    "<background_info>{background_info}</background_info>.\n",
    "\n",
    "Return a plan for the content to be created. You can use the following tools:\n",
    "<tools>{tools}</tools>.\n",
    "\n",
    "Make sure to only generate one image.\n",
    "\"\"\"\n",
    "\n",
    "creation_system_msg = \"You are an expert social media content creator. You are given tools and a plan for the content to be created. Using your expertise and reasoning, you will create the content.\"\n",
    "\n",
    "creation_instruction = \"\"\"\n",
    "The user wants to create a post about the following topic: \n",
    "<topic>{topic}</topic>.\n",
    "\n",
    "The selected social media platform is: \n",
    "<platform>{platform}</platform>.\n",
    "\n",
    "Background information about the user and the audience: \n",
    "<background_info>{background_info}</background_info>.\n",
    "\n",
    "You have been provided with the following tools:\n",
    "<tools>{tools}</tools>.\n",
    "\n",
    "Once you've done your research, called the necessary tools generate and return with the content. Remember, your content is a social media post. For the visual content (images), embed the image path like you would in markdown, but set the width to 450px.\n",
    "\n",
    "Example to include image in markdown:\n",
    "<img src=\"folder/name.png\" width=\"450\"/>\n",
    "\n",
    "Remember to follow the plan and adhere to the instructions given.\n",
    "\"\"\""
   ]
  },
  {
   "cell_type": "code",
   "execution_count": null,
   "metadata": {},
   "outputs": [],
   "source": []
  },
  {
   "cell_type": "markdown",
   "metadata": {},
   "source": [
    "### 3. Structured Outputs"
   ]
  },
  {
   "cell_type": "code",
   "execution_count": 9,
   "metadata": {},
   "outputs": [],
   "source": [
    "class SocialMediaPostStep(BaseModel):\n",
    "    step_number: int = Field(description=\"The number of the step\")\n",
    "    step_description: str = Field(description=\"A description of the step\")\n",
    "    step_reasoning: str = Field(description=\"The reasoning behind the step\")\n",
    "    step_tool: str = Field(description=\"The tool to be used for the step\")\n",
    "\n",
    "class SocialMediaPostPlan(BaseModel):\n",
    "    steps: List[SocialMediaPostStep] = Field(description=\"The steps to create the social media post\")"
   ]
  },
  {
   "cell_type": "code",
   "execution_count": null,
   "metadata": {},
   "outputs": [],
   "source": []
  },
  {
   "cell_type": "markdown",
   "metadata": {},
   "source": [
    "### 4. LLMs"
   ]
  },
  {
   "cell_type": "code",
   "execution_count": 10,
   "metadata": {},
   "outputs": [],
   "source": [
    "planner_model = \"gpt-4o-2024-11-20\"\n",
    "content_creator_model = \"gpt-4o-2024-11-20\"\n",
    "\n",
    "planner_llm = ChatOpenAI(model=planner_model, temperature=0.0).with_structured_output(SocialMediaPostPlan, method=\"json_schema\", include_raw=True)\n",
    "content_creator_llm = ChatOpenAI(model=content_creator_model, temperature=0.0).bind_tools(tools)"
   ]
  },
  {
   "cell_type": "code",
   "execution_count": null,
   "metadata": {},
   "outputs": [],
   "source": []
  },
  {
   "cell_type": "markdown",
   "metadata": {},
   "source": [
    "### 5. Constructing the Graph\n",
    "\n",
    "1. Construct graph at social media platform levle\n",
    "2. Connect graphs to metagraph"
   ]
  },
  {
   "cell_type": "code",
   "execution_count": 11,
   "metadata": {},
   "outputs": [],
   "source": [
    "class SubGraph(TypedDict):\n",
    "\n",
    "    topic: str\n",
    "    platform: str\n",
    "    background_info: str\n",
    "    \n",
    "    messages: Annotated[Sequence[BaseMessage], add_messages]"
   ]
  },
  {
   "cell_type": "code",
   "execution_count": 12,
   "metadata": {},
   "outputs": [],
   "source": [
    "\n",
    "def planner_node(state: SubGraph):\n",
    "\n",
    "    print(f'Planning for content-topic: {state[\"topic\"]} for platform: {state[\"platform\"]}')\n",
    "\n",
    "    system_message = SystemMessage(content=planning_system_msg)\n",
    "    user_message = planning_instruction.format(\n",
    "        topic=state[\"topic\"], \n",
    "        platform=state[\"platform\"], \n",
    "        background_info=state[\"background_info\"], \n",
    "        tools=tools_str\n",
    "        )\n",
    "    \n",
    "    response = planner_llm.invoke([system_message] + [user_message])\n",
    "\n",
    "    return {\"messages\": [response['raw']]}\n",
    "\n",
    "def content_creator_node(state: SubGraph):\n",
    "\n",
    "    print(f'Creating content with tool calling')\n",
    "\n",
    "    system_message = SystemMessage(content=creation_system_msg)\n",
    "    user_message = creation_instruction.format(\n",
    "        topic=state[\"topic\"], \n",
    "        platform=state[\"platform\"], \n",
    "        background_info=state[\"background_info\"], \n",
    "        tools=tools_str\n",
    "        )\n",
    "    \n",
    "    response = content_creator_llm.invoke([system_message] + [user_message] + state[\"messages\"])\n",
    "\n",
    "    return {\"messages\": [response]}\n",
    "\n",
    "def tools_node(state: SubGraph):\n",
    "    \n",
    "    outputs = []\n",
    "    for tool_call in state[\"messages\"][-1].tool_calls:\n",
    "        tool_result = tools_dict[tool_call[\"name\"]].invoke(tool_call[\"args\"])\n",
    "        outputs.append(\n",
    "            ToolMessage(\n",
    "                content=json.dumps(tool_result),\n",
    "                name=tool_call[\"name\"],\n",
    "                tool_call_id=tool_call[\"id\"],\n",
    "            )\n",
    "        )\n",
    "    return {\"messages\": outputs}\n",
    "\n",
    "def should_continue(state: SubGraph):\n",
    "    \n",
    "    messages = state[\"messages\"]\n",
    "    last_message = messages[-1]\n",
    "\n",
    "    if last_message.tool_calls:\n",
    "        return \"continue\"\n",
    "    else:\n",
    "        return \"end\""
   ]
  },
  {
   "cell_type": "code",
   "execution_count": 13,
   "metadata": {},
   "outputs": [],
   "source": [
    "workflow = StateGraph(SubGraph)\n",
    "\n",
    "workflow.add_node(\"planner\", planner_node)\n",
    "workflow.add_node(\"content_creator\", content_creator_node)\n",
    "workflow.add_node(\"tools\", tools_node)\n",
    "\n",
    "workflow.add_edge(START, \"planner\")\n",
    "workflow.add_edge(\"planner\", \"content_creator\")\n",
    "workflow.add_edge(\"tools\", \"content_creator\")\n",
    "\n",
    "workflow.add_conditional_edges(\"content_creator\", should_continue, {'continue': \"tools\", 'end': END})\n",
    "\n",
    "app = workflow.compile()"
   ]
  },
  {
   "cell_type": "code",
   "execution_count": 14,
   "metadata": {},
   "outputs": [
    {
     "data": {
      "image/jpeg": "[encoded data removed]",
      "text/plain": [
       "<IPython.core.display.Image object>"
      ]
     },
     "metadata": {},
     "output_type": "display_data"
    }
   ],
   "source": [
    "graph_image = app.get_graph().draw_mermaid_png()\n",
    "with open(\"../output/social_media_experiment/langgraph_subgraph.png\", \"wb\") as f:\n",
    "    f.write(graph_image)\n",
    "display(Image(graph_image))"
   ]
  },
  {
   "cell_type": "code",
   "execution_count": 15,
   "metadata": {},
   "outputs": [
    {
     "name": "stdout",
     "output_type": "stream",
     "text": [
      "Planning for content-topic: Bitcoin's future for platform: X / Twitter\n",
      "Creating content with tool calling\n",
      "Perplexity research tool called with message: What are the current trends and expert opinions on Bitcoin's future?\n",
      "Creating content with tool calling\n",
      "Successfully generated image\n",
      "Generated name: Futuristic_Bitcoin_Radiance\n",
      "Successfully saved image to social_media_agentic_team_temp/Futuristic_Bitcoin_Radiance.png\n",
      "Creating content with tool calling\n"
     ]
    }
   ],
   "source": [
    "tester_state = {\n",
    "    \"topic\": \"Bitcoin's future\",\n",
    "    \"platform\": \"X / Twitter\",\n",
    "    \"background_info\": \"I have just started investing into Bitcoin\",\n",
    "}\n",
    "\n",
    "test_run = app.invoke(tester_state)"
   ]
  },
  {
   "cell_type": "code",
   "execution_count": 16,
   "metadata": {},
   "outputs": [
    {
     "name": "stdout",
     "output_type": "stream",
     "text": [
      "🚀 As a new Bitcoin investor, I'm excited about its future! Experts predict Bitcoin could hit $200K by 2025, driven by institutional adoption and ETF approvals. 🌟 The journey ahead looks promising, but volatility is part of the game. Are you ready for the ride? #Bitcoin #Crypto\n",
      "\n",
      "<img src=\"social_media_agentic_team_temp/Futuristic_Bitcoin_Radiance.png\" width=\"450\"/>\n"
     ]
    }
   ],
   "source": [
    "print(test_run['messages'][-1].content)"
   ]
  },
  {
   "cell_type": "code",
   "execution_count": 17,
   "metadata": {},
   "outputs": [
    {
     "data": {
      "text/markdown": [
       "🚀 As a new Bitcoin investor, I'm excited about its future! Experts predict Bitcoin could hit $200K by 2025, driven by institutional adoption and ETF approvals. 🌟 The journey ahead looks promising, but volatility is part of the game. Are you ready for the ride? #Bitcoin #Crypto\n",
       "\n",
       "<img src=\"social_media_agentic_team_temp/Futuristic_Bitcoin_Radiance.png\" width=\"450\"/>"
      ],
      "text/plain": [
       "<IPython.core.display.Markdown object>"
      ]
     },
     "metadata": {},
     "output_type": "display_data"
    }
   ],
   "source": [
    "display(Markdown(test_run['messages'][-1].content))"
   ]
  },
  {
   "cell_type": "code",
   "execution_count": null,
   "metadata": {},
   "outputs": [],
   "source": []
  },
  {
   "cell_type": "code",
   "execution_count": 18,
   "metadata": {},
   "outputs": [
    {
     "name": "stdout",
     "output_type": "stream",
     "text": [
      "Planning for content-topic: Upcoming Super Bowl for platform: X / Twitter\n",
      "Creating content with tool calling\n",
      "Perplexity research tool called with message: What are the details of the upcoming Super Bowl, including the date, location, and teams playing?\n",
      "Creating content with tool calling\n",
      "Successfully generated image\n",
      "Generated name: GridironSpectacle_LIX_2025_NewOrleans\n",
      "Successfully saved image to social_media_agentic_team_temp/GridironSpectacle_LIX_2025_NewOrleans.png\n",
      "Creating content with tool calling\n"
     ]
    },
    {
     "data": {
      "text/markdown": [
       "Here’s the social media post for X / Twitter:\n",
       "\n",
       "---\n",
       "\n",
       "🏈 The countdown is on! Super Bowl LIX is happening on **February 9, 2025**, at the iconic **Caesars Superdome** in New Orleans! 🌟\n",
       "\n",
       "🎤 Halftime show by **Kendrick Lamar**  \n",
       "🎶 National anthem by **Jon Batiste**  \n",
       "\n",
       "Who do you think will make it to the big game? Let’s hear your predictions! 🏆🔥  \n",
       "\n",
       "<img src=\"social_media_agentic_team_temp/GridironSpectacle_LIX_2025_NewOrleans.png\" width=\"450\"/>  \n",
       "\n",
       "---\n",
       "\n",
       "This post combines excitement, key details, and a call to action to engage your audience."
      ],
      "text/plain": [
       "<IPython.core.display.Markdown object>"
      ]
     },
     "metadata": {},
     "output_type": "display_data"
    }
   ],
   "source": [
    "tester_state = {\n",
    "    \"topic\": \"Upcoming Super Bowl\",\n",
    "    \"platform\": \"X / Twitter\",\n",
    "    \"background_info\": \"Big NFL fan, looking forward to this year's Super Bowl\",\n",
    "}\n",
    "\n",
    "test_run = app.invoke(tester_state)\n",
    "\n",
    "display(Markdown(test_run['messages'][-1].content))"
   ]
  },
  {
   "cell_type": "code",
   "execution_count": null,
   "metadata": {},
   "outputs": [],
   "source": []
  },
  {
   "cell_type": "markdown",
   "metadata": {},
   "source": [
    "## Create multiple subgraphs for multiple platforms"
   ]
  },
  {
   "cell_type": "code",
   "execution_count": 24,
   "metadata": {},
   "outputs": [],
   "source": [
    "### placeholder code\n",
    "\n",
    "def create_subgraph():\n",
    "\n",
    "    workflow = StateGraph(SubGraph)\n",
    "\n",
    "    workflow.add_node(\"planner\", planner_node)\n",
    "    workflow.add_node(\"content_creator\", content_creator_node)\n",
    "    workflow.add_node(\"tools\", tools_node)\n",
    "\n",
    "    workflow.add_edge(START, \"planner\")\n",
    "    workflow.add_edge(\"planner\", \"content_creator\")\n",
    "    workflow.add_edge(\"tools\", \"content_creator\")\n",
    "\n",
    "    workflow.add_conditional_edges(\"content_creator\", should_continue, {'continue': \"tools\", 'end': END})\n",
    "\n",
    "    app = workflow.compile()\n",
    "\n",
    "    return app\n",
    "\n",
    "app_X = create_subgraph()\n",
    "app_Facebook = create_subgraph()\n",
    "app_Instagram = create_subgraph()\n",
    "app_LinkedIn = create_subgraph()\n",
    "app_TikTok = create_subgraph()\n",
    "\n",
    "class MetaGraph(TypedDict):\n",
    "    messages: Annotated[Sequence[BaseMessage], add_messages]\n",
    "\n",
    "def forward_to_platform(state: MetaGraph):\n",
    "    pass\n",
    "\n",
    "meta_graph = StateGraph(MetaGraph)\n",
    "\n",
    "meta_graph.add_node(\"forward_to_platform\", forward_to_platform)\n",
    "meta_graph.add_node(\"app_X\", app_X)\n",
    "meta_graph.add_node(\"app_Facebook\", app_Facebook)\n",
    "meta_graph.add_node(\"app_Instagram\", app_Instagram)\n",
    "meta_graph.add_node(\"app_LinkedIn\", app_LinkedIn)\n",
    "meta_graph.add_node(\"app_TikTok\", app_TikTok)\n",
    "\n",
    "meta_graph.add_edge(START, \"forward_to_platform\")\n",
    "meta_graph.add_edge(\"forward_to_platform\", \"app_X\")\n",
    "meta_graph.add_edge(\"forward_to_platform\", \"app_Facebook\")\n",
    "meta_graph.add_edge(\"forward_to_platform\", \"app_Instagram\")\n",
    "meta_graph.add_edge(\"forward_to_platform\", \"app_LinkedIn\")\n",
    "meta_graph.add_edge(\"forward_to_platform\", \"app_TikTok\")\n",
    "\n",
    "meta_app = meta_graph.compile()"
   ]
  },
  {
   "cell_type": "code",
   "execution_count": 25,
   "metadata": {},
   "outputs": [
    {
     "data": {
      "image/jpeg": "[encoded data removed]",
      "text/plain": [
       "<IPython.core.display.Image object>"
      ]
     },
     "metadata": {},
     "output_type": "display_data"
    }
   ],
   "source": [
    "graph_image = meta_app.get_graph().draw_mermaid_png()\n",
    "#with open(\"../output/social_media_experiment/langgraph_subgraph.png\", \"wb\") as f:\n",
    "#    f.write(graph_image)\n",
    "display(Image(graph_image))"
   ]
  },
  {
   "cell_type": "code",
   "execution_count": null,
   "metadata": {},
   "outputs": [],
   "source": []
  }
 ],
 "metadata": {
  "kernelspec": {
   "display_name": "venv",
   "language": "python",
   "name": "python3"
  },
  "language_info": {
   "codemirror_mode": {
    "name": "ipython",
    "version": 3
   },
   "file_extension": ".py",
   "mimetype": "text/x-python",
   "name": "python",
   "nbconvert_exporter": "python",
   "pygments_lexer": "ipython3",
   "version": "3.13.1"
  }
 },
 "nbformat": 4,
 "nbformat_minor": 2
}
