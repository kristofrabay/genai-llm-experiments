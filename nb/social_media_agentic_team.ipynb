{
 "cells": [
  {
   "cell_type": "markdown",
   "metadata": {},
   "source": [
    "### Social Media Agentic Team\n",
    "\n",
    "Experiment with an agentic team of social media agents. Given a topic / social media post idea, multiple agents will kick off to generate content for specific social media platforms."
   ]
  },
  {
   "cell_type": "code",
   "execution_count": 52,
   "metadata": {},
   "outputs": [],
   "source": [
    "import os \n",
    "import sys\n",
    "sys.path.append('..')\n",
    "\n",
    "from dotenv import load_dotenv\n",
    "load_dotenv()\n",
    "\n",
    "from IPython.display import display, Markdown\n",
    "import base64\n",
    "\n",
    "from utils.llm import chat_completion\n",
    "\n",
    "from openai import OpenAI\n",
    "client = OpenAI()\n",
    "\n",
    "from langchain_core.messages import AIMessage\n",
    "from langchain_core.tools import tool\n",
    "from langgraph.prebuilt import ToolNode\n",
    "\n",
    "from pydantic import BaseModel, Field\n",
    "from typing import Annotated, Sequence, TypedDict, List, Dict"
   ]
  },
  {
   "cell_type": "code",
   "execution_count": null,
   "metadata": {},
   "outputs": [],
   "source": []
  },
  {
   "cell_type": "markdown",
   "metadata": {},
   "source": [
    "### Create tools for each agent"
   ]
  },
  {
   "cell_type": "markdown",
   "metadata": {},
   "source": [
    "#### 1. Image generation"
   ]
  },
  {
   "cell_type": "code",
   "execution_count": 14,
   "metadata": {},
   "outputs": [],
   "source": [
    "# name image - when saving, we will ask AI to name the image\n",
    "\n",
    "def name_image(image_prompt: str):\n",
    "\n",
    "    completion = client.chat.completions.create(\n",
    "        model=\"gpt-4o\",\n",
    "        messages=[\n",
    "            {\"role\": \"system\", \"content\": \"You assist with naming images. Given an image prompt, you will return a name for the image to save it to a png. Do not add the extension to the name.\"},\n",
    "            {\"role\": \"user\", \"content\": image_prompt}\n",
    "        ]\n",
    "    )\n",
    "\n",
    "    generated_name = completion.choices[0].message.content\n",
    "    print(f'Generated name: {generated_name}')\n",
    "\n",
    "    return generated_name\n",
    "\n",
    "# generate image\n",
    "\n",
    "def generate_image(image_prompt: str):\n",
    "\n",
    "    response = client.images.generate(\n",
    "        model=\"dall-e-3\",\n",
    "        prompt=image_prompt,\n",
    "        size=\"1024x1024\",\n",
    "        quality=\"hd\",\n",
    "        style=\"vivid\",\n",
    "        n=1,\n",
    "        response_format = \"b64_json\" #url\n",
    "    )\n",
    "\n",
    "    revised_prompt = response.data[0].revised_prompt\n",
    "    #url = response.data[0].url\n",
    "    base64_image = response.data[0].b64_json\n",
    "\n",
    "    print(f'Successfully generated image')\n",
    "\n",
    "    return revised_prompt, base64_image\n",
    "\n",
    "# save image\n",
    "\n",
    "def save_image(image_name: str, base64_image: str):\n",
    "\n",
    "    img_data = base64.b64decode(base64_image)\n",
    "    path = f\"social_media_agentic_team_temp/{image_name}.png\"\n",
    "\n",
    "    with open(path, \"wb\") as f:\n",
    "        f.write(img_data)\n",
    "\n",
    "    print(f'Successfully saved image to {path}')\n",
    "\n",
    "    return path\n",
    "\n",
    "# image tool\n",
    "\n",
    "@tool\n",
    "def image_generation_tool(image_prompt: str):\n",
    "\n",
    "    \"\"\"\n",
    "    Generate an image given a description.\n",
    "    \"\"\"\n",
    "\n",
    "    revised_prompt, base64_image = generate_image(image_prompt)\n",
    "    image_name = name_image(revised_prompt)\n",
    "    path = save_image(image_name, base64_image)\n",
    "\n",
    "    return f\"Image generated and saved to {path}\""
   ]
  },
  {
   "cell_type": "markdown",
   "metadata": {},
   "source": [
    "Test `DALL-E-3` image generation."
   ]
  },
  {
   "cell_type": "code",
   "execution_count": 15,
   "metadata": {},
   "outputs": [
    {
     "name": "stdout",
     "output_type": "stream",
     "text": [
      "Successfully generated image\n",
      "Generated name: GPU_Frenzy_in_Hardware_Store\n",
      "Successfully saved image to social_media_agentic_team_temp/GPU_Frenzy_in_Hardware_Store.png\n"
     ]
    },
    {
     "data": {
      "text/plain": [
       "'Image generated and saved to social_media_agentic_team_temp/GPU_Frenzy_in_Hardware_Store.png'"
      ]
     },
     "execution_count": 15,
     "metadata": {},
     "output_type": "execute_result"
    }
   ],
   "source": [
    "image_prompt = \"Never before seen demand for GPUs\"\n",
    "image_generation_tool(image_prompt)"
   ]
  },
  {
   "cell_type": "code",
   "execution_count": 22,
   "metadata": {},
   "outputs": [
    {
     "data": {
      "text/markdown": [
       "\n",
       "\n",
       "## Test Markdown with Image\n",
       "\n",
       "Here is the image:\n",
       "\n",
       "<img src=\"social_media_agentic_team_temp/GPU_Frenzy_in_Hardware_Store.png\" width=\"450\"/>\n",
       "\n",
       "End of test markdown.\n"
      ],
      "text/plain": [
       "<IPython.core.display.Markdown object>"
      ]
     },
     "metadata": {},
     "output_type": "display_data"
    }
   ],
   "source": [
    "path = 'social_media_agentic_team_temp/GPU_Frenzy_in_Hardware_Store.png'\n",
    "\n",
    "markdown_text = f\"\"\"\n",
    "\n",
    "## Test Markdown with Image\n",
    "\n",
    "Here is the image:\n",
    "\n",
    "<img src=\"{path}\" width=\"450\"/>\n",
    "\n",
    "End of test markdown.\n",
    "\"\"\"\n",
    "\n",
    "display(Markdown(markdown_text))\n"
   ]
  },
  {
   "cell_type": "code",
   "execution_count": null,
   "metadata": {},
   "outputs": [],
   "source": []
  },
  {
   "cell_type": "markdown",
   "metadata": {},
   "source": [
    "#### 2. Perplexity AI Research"
   ]
  },
  {
   "cell_type": "code",
   "execution_count": 48,
   "metadata": {},
   "outputs": [],
   "source": [
    "model_name_pplx = \"llama-3.1-sonar-large-128k-online\"\n",
    "pplx_client = OpenAI(api_key=os.getenv('PPLX_API_KEY'), base_url=\"https://api.perplexity.ai\")\n",
    "temperature = 0.0\n",
    "system_msg_pplx = \"You are an expert social media content creator. You provide helpful, professional advice to the user.\"\n",
    "\n",
    "def perplexity_research(user_message: str):\n",
    "\n",
    "    response_pplx = chat_completion(\n",
    "            messages=[\n",
    "                {\"role\": \"system\", \"content\": system_msg_pplx},\n",
    "            {\"role\": \"user\", \"content\": user_message}\n",
    "        ],\n",
    "        model_name=model_name_pplx,\n",
    "        temperature=temperature,\n",
    "        client=pplx_client\n",
    "    )\n",
    "\n",
    "    response = response_pplx.choices[0].message.content\n",
    "    citations = response_pplx.citations\n",
    "\n",
    "    return response, citations\n",
    "\n",
    "@tool\n",
    "def perplexity_research_tool(user_message: str):\n",
    "    \"\"\"\n",
    "    Use Perplexity AI to research a topic.\n",
    "    \"\"\"\n",
    "\n",
    "    response, citations = perplexity_research(user_message)\n",
    "    pplx_output = f\"Insights from Perplexity AI:\\n\\n{response}\\n\\nCitations:\\n{citations}\"\n",
    "\n",
    "    return pplx_output"
   ]
  },
  {
   "cell_type": "markdown",
   "metadata": {},
   "source": [
    "Test perplexity research tool"
   ]
  },
  {
   "cell_type": "code",
   "execution_count": 49,
   "metadata": {},
   "outputs": [
    {
     "data": {
      "text/markdown": [
       "Insights from Perplexity AI:\n",
       "\n",
       "In the GPU market, the primary competitors to Nvidia are:\n",
       "\n",
       "## Advanced Micro Devices (AMD)\n",
       "AMD is Nvidia's most significant and longstanding competitor in the GPU market. AMD offers cost-effective graphics cards, such as its Radeon series, which compete directly with Nvidia's products in terms of performance and price. Despite Nvidia's dominant market share, AMD has managed to maintain a considerable portion of the market, particularly in the mid-range segment[1][2][3].\n",
       "\n",
       "## Intel\n",
       "Intel, although newer to the GPU market, is also a notable competitor. Intel has launched its Xe Graphics and ARC GPUs, leveraging its expertise in integrated circuits to develop competitive GPU offerings. However, Intel's current market share in the GPU sector is minimal, and it faces significant challenges in gaining traction against Nvidia and AMD[1][2][3].\n",
       "\n",
       "## Other Notable Players\n",
       "While not as prominent in the GPU market, other companies like Sapphire Technology, which specializes in customized AMD-based graphics cards, and startups focusing on specific AI chip solutions, also contribute to the competitive landscape. However, their impact is currently more niche compared to the broader market influence of AMD and Intel[2][4].\n",
       "\n",
       "In summary, AMD is the most likely and significant competitor to Nvidia in the GPU market, given its established presence and competitive offerings. Intel, though still developing its market presence, also poses a potential challenge, especially with its integrated circuit expertise.\n",
       "\n",
       "Citations:\n",
       "['https://www.nerdwallet.com/article/investing/nvidia-competitors', 'https://www.cheddarflow.com/blog/exploring-the-top-nvidia-competitors-in-2023/', 'https://www.techradar.com/computing/gpu/nvidia-now-owns-88-of-the-gpu-market-but-that-might-not-be-a-bad-thing-yet', 'https://fortune.com/2024/07/02/nvidia-competition-ai-chip-gpu-startups-analysts/', 'https://www.techpowerup.com/forums/threads/nvidias-gpu-market-share-hits-90-in-q4-2024-gets-closer-to-full-monopoly.329842/']"
      ],
      "text/plain": [
       "<IPython.core.display.Markdown object>"
      ]
     },
     "metadata": {},
     "output_type": "display_data"
    }
   ],
   "source": [
    "pplx_research_question = \"Who is most likely to compete with Nvidia in the GPU market?\"\n",
    "pplx_test_output = perplexity_research_tool(pplx_research_question)\n",
    "\n",
    "display(Markdown(pplx_test_output))"
   ]
  },
  {
   "cell_type": "code",
   "execution_count": null,
   "metadata": {},
   "outputs": [],
   "source": []
  },
  {
   "cell_type": "markdown",
   "metadata": {},
   "source": [
    "### 2. Prompts"
   ]
  },
  {
   "cell_type": "code",
   "execution_count": null,
   "metadata": {},
   "outputs": [],
   "source": [
    "planning_system_msg = \"You are an expert social media content creator. You provide helpful, professional advice to the user. You are given a topic and a social media platform. You will provide a plan for the content to be created.\"\n",
    "\n",
    "planning_instruction = \"\"\"\n",
    "The user wants to create a post about the following topic: \n",
    "<topic>{topic}</topic>.\n",
    "\n",
    "The selected social media platform is: \n",
    "<platform>{platform}</platform>.\n",
    "\n",
    "Background information about the user and the audience: \n",
    "<background_info>{background_info}</background_info>.\n",
    "\n",
    "Return a plan for the content to be created. You can use the following tools:\n",
    "<tools>{tools}</tools>.\n",
    "\"\"\"\n",
    "\n",
    "creation_system_msg = \"You are an expert social media content creator. You are given tools and a plan for the content to be created. Using your expertise and reasoning, you will create the content.\"\n",
    "\n",
    "creation_instruction = \"\"\"\n",
    "The user wants to create a post about the following topic: \n",
    "<topic>{topic}</topic>.\n",
    "\n",
    "The selected social media platform is: \n",
    "<platform>{platform}</platform>.\n",
    "\n",
    "Background information about the user and the audience: \n",
    "<background_info>{background_info}</background_info>.\n",
    "\n",
    "The plan for the content to be created is: \n",
    "<plan>{plan}</plan>.\n",
    "\n",
    "You have been provided with the following tools:\n",
    "<tools>{tools}</tools>.\n",
    "\n",
    "Once you've done your research, called the necessary tools generate and return with the content. The social media post should be written in markdown format. For the visual content, embed the image path in the markdown.\n",
    "\n",
    "Remember to adhere to the instructions given.\n",
    "\"\"\""
   ]
  },
  {
   "cell_type": "code",
   "execution_count": null,
   "metadata": {},
   "outputs": [],
   "source": []
  },
  {
   "cell_type": "markdown",
   "metadata": {},
   "source": [
    "### 3. Structured Outputs"
   ]
  },
  {
   "cell_type": "code",
   "execution_count": 53,
   "metadata": {},
   "outputs": [],
   "source": [
    "class SocialMediaPostStep(BaseModel):\n",
    "    step_number: int = Field(description=\"The number of the step\")\n",
    "    step_description: str = Field(description=\"A description of the step\")\n",
    "    step_reasoning: str = Field(description=\"The reasoning behind the step\")\n",
    "    step_tool: str = Field(description=\"The tool to be used for the step\")\n",
    "\n",
    "class SocialMediaPostPlan(BaseModel):\n",
    "    steps: List[SocialMediaPostStep] = Field(description=\"The steps to create the social media post\")"
   ]
  },
  {
   "cell_type": "code",
   "execution_count": null,
   "metadata": {},
   "outputs": [],
   "source": []
  }
 ],
 "metadata": {
  "kernelspec": {
   "display_name": "venv",
   "language": "python",
   "name": "python3"
  },
  "language_info": {
   "codemirror_mode": {
    "name": "ipython",
    "version": 3
   },
   "file_extension": ".py",
   "mimetype": "text/x-python",
   "name": "python",
   "nbconvert_exporter": "python",
   "pygments_lexer": "ipython3",
   "version": "3.13.1"
  }
 },
 "nbformat": 4,
 "nbformat_minor": 2
}
