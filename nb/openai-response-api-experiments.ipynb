{
 "cells": [
  {
   "cell_type": "markdown",
   "metadata": {},
   "source": [
    "## Testing OpenAI's new Responses API\n",
    "\n",
    "OpenAI announced on March 11th, 2025 new Responses API and Agents SDK (https://openai.com/index/new-tools-for-building-agents/) \n",
    "\n",
    "This notebook aims to test these new products"
   ]
  },
  {
   "cell_type": "code",
   "execution_count": 1,
   "metadata": {},
   "outputs": [],
   "source": [
    "import os\n",
    "\n",
    "from dotenv import load_dotenv\n",
    "load_dotenv()\n",
    "\n",
    "import requests\n",
    "from io import BytesIO\n",
    "import base64\n",
    "\n",
    "from openai import OpenAI\n",
    "client = OpenAI()\n",
    "\n",
    "from pydantic import BaseModel, Field\n",
    "import json\n",
    "\n",
    "from IPython.display import display, Markdown\n",
    "import time\n",
    "\n",
    "#prev openai version: 1.59.8\n",
    "#new openai version: 1.66.2"
   ]
  },
  {
   "cell_type": "markdown",
   "metadata": {},
   "source": [
    "Syntax"
   ]
  },
  {
   "cell_type": "code",
   "execution_count": 8,
   "metadata": {},
   "outputs": [],
   "source": [
    "MODEL_NAME = \"gpt-4o\"\n",
    "instruction = \"Write a one-sentence bedtime story about a unicorn.\"\n",
    "\n",
    "### ChatCompletions\n",
    "\n",
    "completion = client.chat.completions.create(\n",
    "    model=MODEL_NAME,\n",
    "    temperature=0.0,\n",
    "    messages=[\n",
    "        {\n",
    "            \"role\": \"user\",\n",
    "            \"content\": instruction\n",
    "        }\n",
    "    ]\n",
    ")\n",
    "\n",
    "### Responses API\n",
    "\n",
    "response = client.responses.create(\n",
    "    model=MODEL_NAME,\n",
    "    temperature=0.0,\n",
    "    input=[\n",
    "        {\n",
    "            \"role\": \"user\",\n",
    "            \"content\": instruction\n",
    "        }\n",
    "    ]\n",
    ")"
   ]
  },
  {
   "cell_type": "code",
   "execution_count": 9,
   "metadata": {},
   "outputs": [
    {
     "name": "stdout",
     "output_type": "stream",
     "text": [
      "ChatCompletion response: \n",
      "In a moonlit meadow, a gentle unicorn named Luna sprinkled stardust with her shimmering horn, lulling the entire forest into a peaceful, enchanted slumber.\n",
      "------------------------------------------------------------\n",
      "Responses response: \n",
      "Under the shimmering moonlight, Luna the unicorn gently trotted through the enchanted forest, her mane sparkling with stardust, as she whispered dreams of magic and wonder to all the sleeping creatures.\n"
     ]
    }
   ],
   "source": [
    "print(f'ChatCompletion response: \\n{completion.choices[0].message.content}')\n",
    "print('---' * 20)\n",
    "print(f'Responses response: \\n{response.output_text}')"
   ]
  },
  {
   "cell_type": "code",
   "execution_count": 18,
   "metadata": {},
   "outputs": [
    {
     "data": {
      "text/plain": [
       "True"
      ]
     },
     "execution_count": 18,
     "metadata": {},
     "output_type": "execute_result"
    }
   ],
   "source": [
    "response.output_text == response.output[0].content[0].text"
   ]
  },
  {
   "cell_type": "code",
   "execution_count": null,
   "metadata": {},
   "outputs": [],
   "source": []
  },
  {
   "cell_type": "markdown",
   "metadata": {},
   "source": [
    "Explore new Responses output object"
   ]
  },
  {
   "cell_type": "code",
   "execution_count": 37,
   "metadata": {},
   "outputs": [],
   "source": [
    "MODEL_NAME = \"o3-mini\"\n",
    "\n",
    "system_message = \"You are a witty joke writer. You have no political correctness filter. You're number one goal is to tell jokes without being afraid of offending anyone\"\n",
    "\n",
    "topic = \"us-canada geopolitical relations\"\n",
    "\n",
    "response = client.responses.create(\n",
    "    model=MODEL_NAME,\n",
    "    temperature=None if 'o3' in MODEL_NAME or 'o1' in MODEL_NAME else 0.0,\n",
    "    reasoning={\n",
    "        \"effort\": \"high\",\n",
    "        #\"generate_summary\" : \"concise\" # detailed\n",
    "        },\n",
    "    instructions=system_message,\n",
    "    input=[\n",
    "        {\n",
    "            \"role\": \"user\",\n",
    "            \"content\": f\"Given the user's preferred topic, generate a joke. User's topic: {topic}\"\n",
    "        }\n",
    "    ]\n",
    ")"
   ]
  },
  {
   "cell_type": "code",
   "execution_count": 38,
   "metadata": {},
   "outputs": [
    {
     "name": "stdout",
     "output_type": "stream",
     "text": [
      "Why did the U.S. call off its plans to invade Canada? Because every time a missile was about to launch, Ottawa simply shouted, \"Sorry, eh?\"—proving that a barrage of polite apologies is the ultimate weapon of mass deterrence!\n"
     ]
    }
   ],
   "source": [
    "print(response.output_text)"
   ]
  },
  {
   "cell_type": "code",
   "execution_count": 49,
   "metadata": {},
   "outputs": [
    {
     "name": "stdout",
     "output_type": "stream",
     "text": [
      "Input tokens: 83\n",
      "Reasoning tokens: 3264\n",
      "Net output tokens: 52\n",
      "Output tokens: 3316\n"
     ]
    }
   ],
   "source": [
    "input_tokens = response.usage.input_tokens\n",
    "output_tokens = response.usage.output_tokens\n",
    "reasoning_tokens = response.usage.output_tokens_details.reasoning_tokens\n",
    "net_output_tokens = output_tokens - reasoning_tokens\n",
    "\n",
    "print(f'Input tokens: {input_tokens}')\n",
    "print(f'Reasoning tokens: {reasoning_tokens}')\n",
    "print(f'Net output tokens: {net_output_tokens}')\n",
    "print(f'Output tokens: {output_tokens}')"
   ]
  },
  {
   "cell_type": "code",
   "execution_count": 51,
   "metadata": {},
   "outputs": [
    {
     "data": {
      "text/plain": [
       "Reasoning(effort='high', generate_summary=None)"
      ]
     },
     "execution_count": 51,
     "metadata": {},
     "output_type": "execute_result"
    }
   ],
   "source": [
    "response.reasoning"
   ]
  },
  {
   "cell_type": "code",
   "execution_count": 52,
   "metadata": {},
   "outputs": [
    {
     "data": {
      "text/plain": [
       "[ResponseReasoningItem(id='rs_67d1cdee27a08192beb956158fb8a02d04bbb1bb73a141e7', summary=[], type='reasoning', status=None),\n",
       " ResponseOutputMessage(id='msg_67d1cdf354348192a050188302163acc04bbb1bb73a141e7', content=[ResponseOutputText(annotations=[], text='Why did the U.S. call off its plans to invade Canada? Because every time a missile was about to launch, Ottawa simply shouted, \"Sorry, eh?\"—proving that a barrage of polite apologies is the ultimate weapon of mass deterrence!', type='output_text')], role='assistant', status='completed', type='message')]"
      ]
     },
     "execution_count": 52,
     "metadata": {},
     "output_type": "execute_result"
    }
   ],
   "source": [
    "response.output"
   ]
  },
  {
   "cell_type": "code",
   "execution_count": 55,
   "metadata": {},
   "outputs": [
    {
     "data": {
      "text/plain": [
       "'Why did the U.S. call off its plans to invade Canada? Because every time a missile was about to launch, Ottawa simply shouted, \"Sorry, eh?\"—proving that a barrage of polite apologies is the ultimate weapon of mass deterrence!'"
      ]
     },
     "execution_count": 55,
     "metadata": {},
     "output_type": "execute_result"
    }
   ],
   "source": [
    "response.output[-1].content[0].text"
   ]
  },
  {
   "cell_type": "code",
   "execution_count": null,
   "metadata": {},
   "outputs": [],
   "source": []
  },
  {
   "cell_type": "markdown",
   "metadata": {},
   "source": [
    "Structured output\n",
    "\n",
    "The direct BaseModel passing is still in beta, so will convert class to JSON schema\n",
    "\n",
    "https://platform.openai.com/docs/guides/structured-outputs?api-mode=responses&example=structured-data"
   ]
  },
  {
   "cell_type": "code",
   "execution_count": 84,
   "metadata": {},
   "outputs": [],
   "source": [
    "class Joke(BaseModel):\n",
    "    \"\"\"A joke about the user's preferred topic\"\"\"\n",
    "\n",
    "    joke: str = Field(description=\"A joke about the user's preferred topic\")\n",
    "    explanation: str = Field(description=\"An explanation of the joke\")\n",
    "\n",
    "    @classmethod\n",
    "    def get_name(cls):\n",
    "        return \"joke\""
   ]
  },
  {
   "cell_type": "code",
   "execution_count": 87,
   "metadata": {},
   "outputs": [],
   "source": [
    "structured_format = {\n",
    "    \"format\": {\n",
    "        \"type\": \"json_schema\",\n",
    "        \"name\": Joke.get_name(),\n",
    "        \"schema\": {\n",
    "            **Joke.model_json_schema(),\n",
    "            \"additionalProperties\": False\n",
    "        },\n",
    "        \"strict\": True\n",
    "    }\n",
    "}"
   ]
  },
  {
   "cell_type": "code",
   "execution_count": null,
   "metadata": {},
   "outputs": [],
   "source": [
    "response = client.responses.create(\n",
    "    model=MODEL_NAME,\n",
    "    temperature=None if 'o3' in MODEL_NAME or 'o1' in MODEL_NAME else 0.0,\n",
    "    reasoning={\n",
    "        \"effort\": \"high\",\n",
    "        #\"generate_summary\" : \"concise\" # detailed\n",
    "        },\n",
    "    instructions=system_message,\n",
    "    input=[\n",
    "        {\n",
    "            \"role\": \"user\",\n",
    "            \"content\": f\"Given the user's preferred topic, generate a joke. User's topic: {topic}\"\n",
    "        }\n",
    "    ],\n",
    "    text=structured_format\n",
    ")"
   ]
  },
  {
   "cell_type": "code",
   "execution_count": 94,
   "metadata": {},
   "outputs": [
    {
     "name": "stdout",
     "output_type": "stream",
     "text": [
      "{'joke': \"At the latest summit, the US declared, 'We need a wall to keep out our problems,' while Canada just smiled and said, 'Sorry, eh? How about we resolve them over some hockey and maple syrup instead?'\", 'explanation': 'This joke plays on the classic stereotypes: the US with its bold, sometimes confrontational policies (like building walls), and Canada with its trademark politeness and laid-back charm, suggesting that even geopolitical disputes could be smoothed over with a friendly game of hockey and a taste of maple syrup.'}\n"
     ]
    }
   ],
   "source": [
    "try:\n",
    "    response_dict = json.loads(response.output[-1].content[0].text)\n",
    "except json.JSONDecodeError as e:\n",
    "    response_dict = response.output[-1].content[0].text\n",
    "\n",
    "print(response_dict)"
   ]
  },
  {
   "cell_type": "code",
   "execution_count": null,
   "metadata": {},
   "outputs": [],
   "source": []
  },
  {
   "cell_type": "code",
   "execution_count": null,
   "metadata": {},
   "outputs": [],
   "source": []
  },
  {
   "cell_type": "code",
   "execution_count": null,
   "metadata": {},
   "outputs": [],
   "source": []
  },
  {
   "cell_type": "code",
   "execution_count": null,
   "metadata": {},
   "outputs": [],
   "source": []
  },
  {
   "cell_type": "markdown",
   "metadata": {},
   "source": [
    "#### Web search tool\n",
    "\n",
    "https://platform.openai.com/docs/guides/tools-web-search?api-mode=responses\n",
    "\n",
    "Available values for `search_context_size`:\n",
    "\n",
    "- high: Most comprehensive context, highest cost, slower response.\n",
    "- medium (default): Balanced context, cost, and latency.\n",
    "- low: Least context, lowest cost, fastest response, but potentially lower answer quality.\n",
    "\n",
    "Bots: https://platform.openai.com/docs/bots"
   ]
  },
  {
   "cell_type": "code",
   "execution_count": 105,
   "metadata": {},
   "outputs": [],
   "source": [
    "MODEL_NAME = 'gpt-4o'\n",
    "\n",
    "response = client.responses.create(\n",
    "    model=MODEL_NAME,\n",
    "    temperature=None if 'o3' in MODEL_NAME or 'o1' in MODEL_NAME else 0.0,\n",
    "    instructions=system_message,\n",
    "    input=[\n",
    "        {\n",
    "            \"role\": \"user\",\n",
    "            \"content\": f\"Given the user's preferred topic, generate a joke. User's topic: {topic}. Make sure your knowledge is up to date about the topic and cite your sources!\"\n",
    "        }\n",
    "    ],\n",
    "    tools=[{\n",
    "        \"type\": \"web_search_preview\",\n",
    "        \"search_context_size\": \"low\",\n",
    "    }],\n",
    ")"
   ]
  },
  {
   "cell_type": "code",
   "execution_count": 106,
   "metadata": {},
   "outputs": [
    {
     "data": {
      "text/plain": [
       "[ResponseFunctionWebSearch(id='ws_67d2cbd4a52c8192a0f61e3ac6b8e4a50c3c7808f881c0ef', status='completed', type='web_search_call'),\n",
       " ResponseOutputMessage(id='msg_67d2cbd81fd48192a4220fa8f2dcdc760c3c7808f881c0ef', content=[ResponseOutputText(annotations=[AnnotationURLCitation(end_index=319, start_index=226, title=\"Canada's incoming prime minister says he'll meet Trump if Canadian sovereignty is respected\", type='url_citation', url='https://apnews.com/article/413e1d8ab73b059f6bf92aa79e40d5a2?utm_source=openai')], text=\"Why did the United States propose making Canada the 51st state?\\n\\nBecause they figured, if you're going to impose tariffs on your neighbor's steel and aluminum, you might as well go all the way and annex their maple syrup too! ([apnews.com](https://apnews.com/article/413e1d8ab73b059f6bf92aa79e40d5a2?utm_source=openai))\\n\\n*Note: This joke references recent tensions between the U.S. and Canada over tariffs and President Trump's remarks about Canada becoming the 51st state.* \", type='output_text')], role='assistant', status='completed', type='message')]"
      ]
     },
     "execution_count": 106,
     "metadata": {},
     "output_type": "execute_result"
    }
   ],
   "source": [
    "response.output"
   ]
  },
  {
   "cell_type": "code",
   "execution_count": 107,
   "metadata": {},
   "outputs": [
    {
     "data": {
      "text/plain": [
       "{'id': 'ws_67d2cbd4a52c8192a0f61e3ac6b8e4a50c3c7808f881c0ef',\n",
       " 'status': 'completed',\n",
       " 'type': 'web_search_call'}"
      ]
     },
     "execution_count": 107,
     "metadata": {},
     "output_type": "execute_result"
    }
   ],
   "source": [
    "response.output[0].model_dump()"
   ]
  },
  {
   "cell_type": "code",
   "execution_count": 108,
   "metadata": {},
   "outputs": [
    {
     "data": {
      "text/plain": [
       "{'id': 'msg_67d2cbd81fd48192a4220fa8f2dcdc760c3c7808f881c0ef',\n",
       " 'content': [{'annotations': [{'end_index': 319,\n",
       "     'start_index': 226,\n",
       "     'title': \"Canada's incoming prime minister says he'll meet Trump if Canadian sovereignty is respected\",\n",
       "     'type': 'url_citation',\n",
       "     'url': 'https://apnews.com/article/413e1d8ab73b059f6bf92aa79e40d5a2?utm_source=openai'}],\n",
       "   'text': \"Why did the United States propose making Canada the 51st state?\\n\\nBecause they figured, if you're going to impose tariffs on your neighbor's steel and aluminum, you might as well go all the way and annex their maple syrup too! ([apnews.com](https://apnews.com/article/413e1d8ab73b059f6bf92aa79e40d5a2?utm_source=openai))\\n\\n*Note: This joke references recent tensions between the U.S. and Canada over tariffs and President Trump's remarks about Canada becoming the 51st state.* \",\n",
       "   'type': 'output_text'}],\n",
       " 'role': 'assistant',\n",
       " 'status': 'completed',\n",
       " 'type': 'message'}"
      ]
     },
     "execution_count": 108,
     "metadata": {},
     "output_type": "execute_result"
    }
   ],
   "source": [
    "response.output[-1].model_dump()"
   ]
  },
  {
   "cell_type": "code",
   "execution_count": 109,
   "metadata": {},
   "outputs": [],
   "source": [
    "### save output\n",
    "\n",
    "output = {\n",
    "   \"id\":\"msg_67d2cbd81fd48192a4220fa8f2dcdc760c3c7808f881c0ef\",\n",
    "   \"content\":[\n",
    "      {\n",
    "         \"annotations\":[\n",
    "            {\n",
    "               \"end_index\":319,\n",
    "               \"start_index\":226,\n",
    "               \"title\":\"Canada's incoming prime minister says he'll meet Trump if Canadian sovereignty is respected\",\n",
    "               \"type\":\"url_citation\",\n",
    "               \"url\":\"https://apnews.com/article/413e1d8ab73b059f6bf92aa79e40d5a2?utm_source=openai\"\n",
    "            }\n",
    "         ],\n",
    "         \"text\":\"Why did the United States propose making Canada the 51st state?\\n\\nBecause they figured, if you're going to impose tariffs on your neighbor's steel and aluminum, you might as well go all the way and annex their maple syrup too! ([apnews.com](https://apnews.com/article/413e1d8ab73b059f6bf92aa79e40d5a2?utm_source=openai))\\n\\n*Note: This joke references recent tensions between the U.S. and Canada over tariffs and President Trump's remarks about Canada becoming the 51st state.* \",\n",
    "         \"type\":\"output_text\"\n",
    "      }\n",
    "   ],\n",
    "   \"role\":\"assistant\",\n",
    "   \"status\":\"completed\",\n",
    "   \"type\":\"message\"\n",
    "}"
   ]
  },
  {
   "cell_type": "code",
   "execution_count": 111,
   "metadata": {},
   "outputs": [
    {
     "data": {
      "text/plain": [
       "{'annotations': [{'end_index': 319,\n",
       "   'start_index': 226,\n",
       "   'title': \"Canada's incoming prime minister says he'll meet Trump if Canadian sovereignty is respected\",\n",
       "   'type': 'url_citation',\n",
       "   'url': 'https://apnews.com/article/413e1d8ab73b059f6bf92aa79e40d5a2?utm_source=openai'}],\n",
       " 'text': \"Why did the United States propose making Canada the 51st state?\\n\\nBecause they figured, if you're going to impose tariffs on your neighbor's steel and aluminum, you might as well go all the way and annex their maple syrup too! ([apnews.com](https://apnews.com/article/413e1d8ab73b059f6bf92aa79e40d5a2?utm_source=openai))\\n\\n*Note: This joke references recent tensions between the U.S. and Canada over tariffs and President Trump's remarks about Canada becoming the 51st state.* \",\n",
       " 'type': 'output_text'}"
      ]
     },
     "execution_count": 111,
     "metadata": {},
     "output_type": "execute_result"
    }
   ],
   "source": [
    "output['content'][0]"
   ]
  },
  {
   "cell_type": "code",
   "execution_count": 113,
   "metadata": {},
   "outputs": [
    {
     "name": "stdout",
     "output_type": "stream",
     "text": [
      "Why did the United States propose making Canada the 51st state?\n",
      "\n",
      "Because they figured, if you're going to impose tariffs on your neighbor's steel and aluminum, you might as well go all the way and annex their maple syrup too! ([apnews.com](https://apnews.com/article/413e1d8ab73b059f6bf92aa79e40d5a2?utm_source=openai))\n",
      "\n",
      "*Note: This joke references recent tensions between the U.S. and Canada over tariffs and President Trump's remarks about Canada becoming the 51st state.* \n"
     ]
    }
   ],
   "source": [
    "print(output['content'][0]['text'])"
   ]
  },
  {
   "cell_type": "code",
   "execution_count": 114,
   "metadata": {},
   "outputs": [
    {
     "name": "stdout",
     "output_type": "stream",
     "text": [
      "([apnews.com](https://apnews.com/article/413e1d8ab73b059f6bf92aa79e40d5a2?utm_source=openai))\n"
     ]
    }
   ],
   "source": [
    "print(output['content'][0]['text'][226:319])"
   ]
  },
  {
   "cell_type": "code",
   "execution_count": null,
   "metadata": {},
   "outputs": [],
   "source": []
  },
  {
   "cell_type": "markdown",
   "metadata": {},
   "source": [
    "News search and summarization"
   ]
  },
  {
   "cell_type": "code",
   "execution_count": 122,
   "metadata": {},
   "outputs": [],
   "source": [
    "MODEL_NAME = 'gpt-4o'\n",
    "\n",
    "sys = \"Your job is to keep users up to date with the US stock market news. You are a professional market analyst.\"\n",
    "\n",
    "usr = \"The US stock market has been dropping for a while. I'd like to know the underlying reasoning behind and for how many more weeks / months we expect downward trends.\"\n",
    "\n",
    "response = client.responses.create(\n",
    "    model=MODEL_NAME,\n",
    "    temperature=None if 'o3' in MODEL_NAME or 'o1' in MODEL_NAME else 0.0,\n",
    "    instructions=sys,\n",
    "    input=[\n",
    "        {\n",
    "            \"role\": \"user\",\n",
    "            \"content\": usr\n",
    "        }\n",
    "    ],\n",
    "    tools=[{\n",
    "        \"type\": \"web_search_preview\",\n",
    "        \"search_context_size\": \"high\",\n",
    "    }],\n",
    ")"
   ]
  },
  {
   "cell_type": "code",
   "execution_count": 123,
   "metadata": {},
   "outputs": [
    {
     "data": {
      "text/plain": [
       "[ResponseFunctionWebSearch(id='ws_67d2d0e6f7188192852eacf5cd1fc6db0a06afc8514ea352', status='completed', type='web_search_call'),\n",
       " ResponseOutputMessage(id='msg_67d2d0e9c2bc8192aad8186da12afb940a06afc8514ea352', content=[ResponseOutputText(annotations=[AnnotationURLCitation(end_index=601, start_index=452, title='Corporate gloom deepens as new Trump tariffs take effect', type='url_citation', url='https://www.reuters.com/business/retail-consumer/corporate-gloom-deepens-new-trump-tariffs-take-effect-2025-03-12/?utm_source=openai'), AnnotationURLCitation(end_index=1070, start_index=916, title='Futures slip as government funding bill deadline looms, growth fears persist', type='url_citation', url='https://www.reuters.com/markets/us/futures-slip-government-funding-bill-deadline-looms-growth-fears-persist-2025-03-13/?utm_source=openai'), AnnotationURLCitation(end_index=1600, start_index=1451, title='Corporate gloom deepens as new Trump tariffs take effect', type='url_citation', url='https://www.reuters.com/business/retail-consumer/corporate-gloom-deepens-new-trump-tariffs-take-effect-2025-03-12/?utm_source=openai'), AnnotationURLCitation(end_index=2139, start_index=1902, title='Ominous market signals show more trouble could await US stocks', type='url_citation', url='https://www.reuters.com/markets/us/ominous-market-signals-show-more-trouble-could-await-us-stocks-2025-03-12/?utm_source=openai'), AnnotationURLCitation(end_index=2139, start_index=1902, title=\"Introducing the 'Maleficent 7'\", type='url_citation', url='https://www.ft.com/content/d8772ea6-ce65-47ba-bd3b-31758cf7c135?utm_source=openai'), AnnotationURLCitation(end_index=2509, start_index=2376, title='Goldman Sachs lowers S&P 500 year-end target to 6,200', type='url_citation', url='https://www.reuters.com/markets/us/goldman-sachs-cuts-sp-500-2025-year-end-target-6200-2025-03-12/?utm_source=openai'), AnnotationURLCitation(end_index=2852, start_index=2718, title='Stifel expects S&P 500 to peak in early 2025 before falling', type='url_citation', url='https://www.reuters.com/markets/us/stifel-expects-sp-500-peak-early-2025-before-falling-2024-12-12/?utm_source=openai'), AnnotationURLCitation(end_index=3389, start_index=3197, title='Corporate gloom deepens as new Trump tariffs take effect', type='url_citation', url='https://www.reuters.com/business/retail-consumer/corporate-gloom-deepens-new-trump-tariffs-take-effect-2025-03-12/?utm_source=openai'), AnnotationURLCitation(end_index=3609, start_index=3392, title='Futures slip as government funding bill deadline looms, growth fears persist', type='url_citation', url='https://www.reuters.com/markets/us/futures-slip-government-funding-bill-deadline-looms-growth-fears-persist-2025-03-13/?utm_source=openai'), AnnotationURLCitation(end_index=3805, start_index=3612, title='Ominous market signals show more trouble could await US stocks', type='url_citation', url='https://www.reuters.com/markets/us/ominous-market-signals-show-more-trouble-could-await-us-stocks-2025-03-12/?utm_source=openai')], text='The recent downturn in the U.S. stock market can be attributed to several key factors:\\n\\n1. **Trade Policies and Tariffs**: President Donald Trump\\'s administration has implemented new tariffs on steel and aluminum imports, leading to increased costs for businesses and concerns about inflation. This has particularly affected industries like automotive and manufacturing, with companies such as Porsche considering price hikes to offset tariff impacts. ([reuters.com](https://www.reuters.com/business/retail-consumer/corporate-gloom-deepens-new-trump-tariffs-take-effect-2025-03-12/?utm_source=openai))\\n\\n2. **Government Funding Uncertainty**: Investors are apprehensive about a potential government shutdown due to delays in passing a funding bill. The Senate is currently focused on a stopgap measure to prevent a partial shutdown, which could be extended until April 11. This uncertainty adds to market volatility. ([reuters.com](https://www.reuters.com/markets/us/futures-slip-government-funding-bill-deadline-looms-growth-fears-persist-2025-03-13/?utm_source=openai))\\n\\n3. **Economic Indicators and Recession Fears**: Despite a slight easing in inflation, the escalation of trade wars and policy unpredictability have heightened fears of an economic slowdown or recession. Analysts have noted that continuous geopolitical shifts make long-term business planning challenging, with over 900 major U.S. companies discussing tariffs in future outlooks. ([reuters.com](https://www.reuters.com/business/retail-consumer/corporate-gloom-deepens-new-trump-tariffs-take-effect-2025-03-12/?utm_source=openai))\\n\\n4. **Market Technicals and Valuations**: The S&P 500 has fallen below critical trend lines, and major stocks like Nvidia and Tesla have seen significant declines. The \"Magnificent 7\" tech stocks have been rebranded as the \"Maleficent 7\" due to their substantial contributions to the market downturn. ([reuters.com](https://www.reuters.com/markets/us/ominous-market-signals-show-more-trouble-could-await-us-stocks-2025-03-12/?utm_source=openai), [ft.com](https://www.ft.com/content/d8772ea6-ce65-47ba-bd3b-31758cf7c135?utm_source=openai))\\n\\nAs for the duration of this downward trend, forecasts vary:\\n\\n- **Goldman Sachs** has reduced its year-end target for the S&P 500 Index in 2025 from 6,500 to 6,200, citing increased policy uncertainty and concerns over economic growth. ([reuters.com](https://www.reuters.com/markets/us/goldman-sachs-cuts-sp-500-2025-year-end-target-6200-2025-03-12/?utm_source=openai))\\n\\n- **Stifel** anticipates that the S&P 500 will peak in early 2025 before declining by 10% to 15% in the latter half of the year, attributing this forecast to slowed economic growth and persistent inflation. ([reuters.com](https://www.reuters.com/markets/us/stifel-expects-sp-500-peak-early-2025-before-falling-2024-12-12/?utm_source=openai))\\n\\nGiven these projections, the market may experience continued volatility over the next several months. However, it\\'s important to note that market conditions are influenced by a complex interplay of factors, and predictions can change as new information becomes available.\\n\\n\\n## Recent Developments in U.S. Stock Market and Economic Policies:\\n- [Corporate gloom deepens as new Trump tariffs take effect](https://www.reuters.com/business/retail-consumer/corporate-gloom-deepens-new-trump-tariffs-take-effect-2025-03-12/?utm_source=openai)\\n- [Futures slip as government funding bill deadline looms, growth fears persist](https://www.reuters.com/markets/us/futures-slip-government-funding-bill-deadline-looms-growth-fears-persist-2025-03-13/?utm_source=openai)\\n- [Ominous market signals show more trouble could await US stocks](https://www.reuters.com/markets/us/ominous-market-signals-show-more-trouble-could-await-us-stocks-2025-03-12/?utm_source=openai) ', type='output_text')], role='assistant', status='completed', type='message')]"
      ]
     },
     "execution_count": 123,
     "metadata": {},
     "output_type": "execute_result"
    }
   ],
   "source": [
    "response.output"
   ]
  },
  {
   "cell_type": "code",
   "execution_count": 129,
   "metadata": {},
   "outputs": [
    {
     "data": {
      "text/plain": [
       "{'annotations': [{'end_index': 601,\n",
       "   'start_index': 452,\n",
       "   'title': 'Corporate gloom deepens as new Trump tariffs take effect',\n",
       "   'type': 'url_citation',\n",
       "   'url': 'https://www.reuters.com/business/retail-consumer/corporate-gloom-deepens-new-trump-tariffs-take-effect-2025-03-12/?utm_source=openai'},\n",
       "  {'end_index': 1070,\n",
       "   'start_index': 916,\n",
       "   'title': 'Futures slip as government funding bill deadline looms, growth fears persist',\n",
       "   'type': 'url_citation',\n",
       "   'url': 'https://www.reuters.com/markets/us/futures-slip-government-funding-bill-deadline-looms-growth-fears-persist-2025-03-13/?utm_source=openai'},\n",
       "  {'end_index': 1600,\n",
       "   'start_index': 1451,\n",
       "   'title': 'Corporate gloom deepens as new Trump tariffs take effect',\n",
       "   'type': 'url_citation',\n",
       "   'url': 'https://www.reuters.com/business/retail-consumer/corporate-gloom-deepens-new-trump-tariffs-take-effect-2025-03-12/?utm_source=openai'},\n",
       "  {'end_index': 2139,\n",
       "   'start_index': 1902,\n",
       "   'title': 'Ominous market signals show more trouble could await US stocks',\n",
       "   'type': 'url_citation',\n",
       "   'url': 'https://www.reuters.com/markets/us/ominous-market-signals-show-more-trouble-could-await-us-stocks-2025-03-12/?utm_source=openai'},\n",
       "  {'end_index': 2139,\n",
       "   'start_index': 1902,\n",
       "   'title': \"Introducing the 'Maleficent 7'\",\n",
       "   'type': 'url_citation',\n",
       "   'url': 'https://www.ft.com/content/d8772ea6-ce65-47ba-bd3b-31758cf7c135?utm_source=openai'},\n",
       "  {'end_index': 2509,\n",
       "   'start_index': 2376,\n",
       "   'title': 'Goldman Sachs lowers S&P 500 year-end target to 6,200',\n",
       "   'type': 'url_citation',\n",
       "   'url': 'https://www.reuters.com/markets/us/goldman-sachs-cuts-sp-500-2025-year-end-target-6200-2025-03-12/?utm_source=openai'},\n",
       "  {'end_index': 2852,\n",
       "   'start_index': 2718,\n",
       "   'title': 'Stifel expects S&P 500 to peak in early 2025 before falling',\n",
       "   'type': 'url_citation',\n",
       "   'url': 'https://www.reuters.com/markets/us/stifel-expects-sp-500-peak-early-2025-before-falling-2024-12-12/?utm_source=openai'},\n",
       "  {'end_index': 3389,\n",
       "   'start_index': 3197,\n",
       "   'title': 'Corporate gloom deepens as new Trump tariffs take effect',\n",
       "   'type': 'url_citation',\n",
       "   'url': 'https://www.reuters.com/business/retail-consumer/corporate-gloom-deepens-new-trump-tariffs-take-effect-2025-03-12/?utm_source=openai'},\n",
       "  {'end_index': 3609,\n",
       "   'start_index': 3392,\n",
       "   'title': 'Futures slip as government funding bill deadline looms, growth fears persist',\n",
       "   'type': 'url_citation',\n",
       "   'url': 'https://www.reuters.com/markets/us/futures-slip-government-funding-bill-deadline-looms-growth-fears-persist-2025-03-13/?utm_source=openai'},\n",
       "  {'end_index': 3805,\n",
       "   'start_index': 3612,\n",
       "   'title': 'Ominous market signals show more trouble could await US stocks',\n",
       "   'type': 'url_citation',\n",
       "   'url': 'https://www.reuters.com/markets/us/ominous-market-signals-show-more-trouble-could-await-us-stocks-2025-03-12/?utm_source=openai'}],\n",
       " 'text': 'The recent downturn in the U.S. stock market can be attributed to several key factors:\\n\\n1. **Trade Policies and Tariffs**: President Donald Trump\\'s administration has implemented new tariffs on steel and aluminum imports, leading to increased costs for businesses and concerns about inflation. This has particularly affected industries like automotive and manufacturing, with companies such as Porsche considering price hikes to offset tariff impacts. ([reuters.com](https://www.reuters.com/business/retail-consumer/corporate-gloom-deepens-new-trump-tariffs-take-effect-2025-03-12/?utm_source=openai))\\n\\n2. **Government Funding Uncertainty**: Investors are apprehensive about a potential government shutdown due to delays in passing a funding bill. The Senate is currently focused on a stopgap measure to prevent a partial shutdown, which could be extended until April 11. This uncertainty adds to market volatility. ([reuters.com](https://www.reuters.com/markets/us/futures-slip-government-funding-bill-deadline-looms-growth-fears-persist-2025-03-13/?utm_source=openai))\\n\\n3. **Economic Indicators and Recession Fears**: Despite a slight easing in inflation, the escalation of trade wars and policy unpredictability have heightened fears of an economic slowdown or recession. Analysts have noted that continuous geopolitical shifts make long-term business planning challenging, with over 900 major U.S. companies discussing tariffs in future outlooks. ([reuters.com](https://www.reuters.com/business/retail-consumer/corporate-gloom-deepens-new-trump-tariffs-take-effect-2025-03-12/?utm_source=openai))\\n\\n4. **Market Technicals and Valuations**: The S&P 500 has fallen below critical trend lines, and major stocks like Nvidia and Tesla have seen significant declines. The \"Magnificent 7\" tech stocks have been rebranded as the \"Maleficent 7\" due to their substantial contributions to the market downturn. ([reuters.com](https://www.reuters.com/markets/us/ominous-market-signals-show-more-trouble-could-await-us-stocks-2025-03-12/?utm_source=openai), [ft.com](https://www.ft.com/content/d8772ea6-ce65-47ba-bd3b-31758cf7c135?utm_source=openai))\\n\\nAs for the duration of this downward trend, forecasts vary:\\n\\n- **Goldman Sachs** has reduced its year-end target for the S&P 500 Index in 2025 from 6,500 to 6,200, citing increased policy uncertainty and concerns over economic growth. ([reuters.com](https://www.reuters.com/markets/us/goldman-sachs-cuts-sp-500-2025-year-end-target-6200-2025-03-12/?utm_source=openai))\\n\\n- **Stifel** anticipates that the S&P 500 will peak in early 2025 before declining by 10% to 15% in the latter half of the year, attributing this forecast to slowed economic growth and persistent inflation. ([reuters.com](https://www.reuters.com/markets/us/stifel-expects-sp-500-peak-early-2025-before-falling-2024-12-12/?utm_source=openai))\\n\\nGiven these projections, the market may experience continued volatility over the next several months. However, it\\'s important to note that market conditions are influenced by a complex interplay of factors, and predictions can change as new information becomes available.\\n\\n\\n## Recent Developments in U.S. Stock Market and Economic Policies:\\n- [Corporate gloom deepens as new Trump tariffs take effect](https://www.reuters.com/business/retail-consumer/corporate-gloom-deepens-new-trump-tariffs-take-effect-2025-03-12/?utm_source=openai)\\n- [Futures slip as government funding bill deadline looms, growth fears persist](https://www.reuters.com/markets/us/futures-slip-government-funding-bill-deadline-looms-growth-fears-persist-2025-03-13/?utm_source=openai)\\n- [Ominous market signals show more trouble could await US stocks](https://www.reuters.com/markets/us/ominous-market-signals-show-more-trouble-could-await-us-stocks-2025-03-12/?utm_source=openai) ',\n",
       " 'type': 'output_text'}"
      ]
     },
     "execution_count": 129,
     "metadata": {},
     "output_type": "execute_result"
    }
   ],
   "source": [
    "response.output[1].content[0].model_dump()"
   ]
  },
  {
   "cell_type": "code",
   "execution_count": 130,
   "metadata": {},
   "outputs": [
    {
     "data": {
      "text/plain": [
       "[{'end_index': 601,\n",
       "  'start_index': 452,\n",
       "  'title': 'Corporate gloom deepens as new Trump tariffs take effect',\n",
       "  'type': 'url_citation',\n",
       "  'url': 'https://www.reuters.com/business/retail-consumer/corporate-gloom-deepens-new-trump-tariffs-take-effect-2025-03-12/?utm_source=openai'},\n",
       " {'end_index': 1070,\n",
       "  'start_index': 916,\n",
       "  'title': 'Futures slip as government funding bill deadline looms, growth fears persist',\n",
       "  'type': 'url_citation',\n",
       "  'url': 'https://www.reuters.com/markets/us/futures-slip-government-funding-bill-deadline-looms-growth-fears-persist-2025-03-13/?utm_source=openai'},\n",
       " {'end_index': 1600,\n",
       "  'start_index': 1451,\n",
       "  'title': 'Corporate gloom deepens as new Trump tariffs take effect',\n",
       "  'type': 'url_citation',\n",
       "  'url': 'https://www.reuters.com/business/retail-consumer/corporate-gloom-deepens-new-trump-tariffs-take-effect-2025-03-12/?utm_source=openai'},\n",
       " {'end_index': 2139,\n",
       "  'start_index': 1902,\n",
       "  'title': 'Ominous market signals show more trouble could await US stocks',\n",
       "  'type': 'url_citation',\n",
       "  'url': 'https://www.reuters.com/markets/us/ominous-market-signals-show-more-trouble-could-await-us-stocks-2025-03-12/?utm_source=openai'},\n",
       " {'end_index': 2139,\n",
       "  'start_index': 1902,\n",
       "  'title': \"Introducing the 'Maleficent 7'\",\n",
       "  'type': 'url_citation',\n",
       "  'url': 'https://www.ft.com/content/d8772ea6-ce65-47ba-bd3b-31758cf7c135?utm_source=openai'},\n",
       " {'end_index': 2509,\n",
       "  'start_index': 2376,\n",
       "  'title': 'Goldman Sachs lowers S&P 500 year-end target to 6,200',\n",
       "  'type': 'url_citation',\n",
       "  'url': 'https://www.reuters.com/markets/us/goldman-sachs-cuts-sp-500-2025-year-end-target-6200-2025-03-12/?utm_source=openai'},\n",
       " {'end_index': 2852,\n",
       "  'start_index': 2718,\n",
       "  'title': 'Stifel expects S&P 500 to peak in early 2025 before falling',\n",
       "  'type': 'url_citation',\n",
       "  'url': 'https://www.reuters.com/markets/us/stifel-expects-sp-500-peak-early-2025-before-falling-2024-12-12/?utm_source=openai'},\n",
       " {'end_index': 3389,\n",
       "  'start_index': 3197,\n",
       "  'title': 'Corporate gloom deepens as new Trump tariffs take effect',\n",
       "  'type': 'url_citation',\n",
       "  'url': 'https://www.reuters.com/business/retail-consumer/corporate-gloom-deepens-new-trump-tariffs-take-effect-2025-03-12/?utm_source=openai'},\n",
       " {'end_index': 3609,\n",
       "  'start_index': 3392,\n",
       "  'title': 'Futures slip as government funding bill deadline looms, growth fears persist',\n",
       "  'type': 'url_citation',\n",
       "  'url': 'https://www.reuters.com/markets/us/futures-slip-government-funding-bill-deadline-looms-growth-fears-persist-2025-03-13/?utm_source=openai'},\n",
       " {'end_index': 3805,\n",
       "  'start_index': 3612,\n",
       "  'title': 'Ominous market signals show more trouble could await US stocks',\n",
       "  'type': 'url_citation',\n",
       "  'url': 'https://www.reuters.com/markets/us/ominous-market-signals-show-more-trouble-could-await-us-stocks-2025-03-12/?utm_source=openai'}]"
      ]
     },
     "execution_count": 130,
     "metadata": {},
     "output_type": "execute_result"
    }
   ],
   "source": [
    "response.output[1].content[0].model_dump()['annotations']"
   ]
  },
  {
   "cell_type": "code",
   "execution_count": 134,
   "metadata": {},
   "outputs": [],
   "source": [
    "def count_unique_titles(citations_list):\n",
    "    # Extract all titles\n",
    "    titles = [citation['title'] for citation in citations_list if 'title' in citation]\n",
    "    \n",
    "    # Count unique titles\n",
    "    unique_titles = set(titles)\n",
    "    unique_count = len(unique_titles)\n",
    "    \n",
    "    # Create a dictionary with counts and URLs for each title\n",
    "    title_info = {}\n",
    "    for citation in citations_list:\n",
    "        if 'title' not in citation:\n",
    "            continue\n",
    "            \n",
    "        title = citation['title']\n",
    "        url = citation.get('url', 'No URL provided')\n",
    "        \n",
    "        if title not in title_info:\n",
    "            title_info[title] = {'count': 1, 'urls': [url]}\n",
    "        else:\n",
    "            title_info[title]['count'] += 1\n",
    "            if url not in title_info[title]['urls']:\n",
    "                title_info[title]['urls'].append(url)\n",
    "    \n",
    "    return unique_count, title_info"
   ]
  },
  {
   "cell_type": "code",
   "execution_count": 133,
   "metadata": {},
   "outputs": [
    {
     "name": "stdout",
     "output_type": "stream",
     "text": [
      "Number of unique titles: 6\n",
      "\n",
      "Title information:\n",
      "\n",
      "- 'Corporate gloom deepens as new Trump tariffs take effect'\n",
      "  Count: 3\n",
      "  URLs:\n",
      "    * https://www.reuters.com/business/retail-consumer/corporate-gloom-deepens-new-trump-tariffs-take-effect-2025-03-12/?utm_source=openai\n",
      "\n",
      "- 'Futures slip as government funding bill deadline looms, growth fears persist'\n",
      "  Count: 2\n",
      "  URLs:\n",
      "    * https://www.reuters.com/markets/us/futures-slip-government-funding-bill-deadline-looms-growth-fears-persist-2025-03-13/?utm_source=openai\n",
      "\n",
      "- 'Ominous market signals show more trouble could await US stocks'\n",
      "  Count: 2\n",
      "  URLs:\n",
      "    * https://www.reuters.com/markets/us/ominous-market-signals-show-more-trouble-could-await-us-stocks-2025-03-12/?utm_source=openai\n",
      "\n",
      "- 'Introducing the 'Maleficent 7''\n",
      "  Count: 1\n",
      "  URLs:\n",
      "    * https://www.ft.com/content/d8772ea6-ce65-47ba-bd3b-31758cf7c135?utm_source=openai\n",
      "\n",
      "- 'Goldman Sachs lowers S&P 500 year-end target to 6,200'\n",
      "  Count: 1\n",
      "  URLs:\n",
      "    * https://www.reuters.com/markets/us/goldman-sachs-cuts-sp-500-2025-year-end-target-6200-2025-03-12/?utm_source=openai\n",
      "\n",
      "- 'Stifel expects S&P 500 to peak in early 2025 before falling'\n",
      "  Count: 1\n",
      "  URLs:\n",
      "    * https://www.reuters.com/markets/us/stifel-expects-sp-500-peak-early-2025-before-falling-2024-12-12/?utm_source=openai\n"
     ]
    }
   ],
   "source": [
    "unique_count, title_info = count_unique_titles(response.output[1].content[0].model_dump()['annotations'])\n",
    "\n",
    "print(f\"Number of unique titles: {unique_count}\")\n",
    "print(\"\\nTitle information:\")\n",
    "for title, info in title_info.items():\n",
    "    print(f\"\\n- '{title}'\")\n",
    "    print(f\"  Count: {info['count']}\")\n",
    "    print(f\"  URLs:\")\n",
    "    for url in info['urls']:\n",
    "        print(f\"    * {url}\")"
   ]
  },
  {
   "cell_type": "code",
   "execution_count": 138,
   "metadata": {},
   "outputs": [
    {
     "data": {
      "text/markdown": [
       "The recent downturn in the U.S. stock market can be attributed to several key factors:\n",
       "\n",
       "1. **Trade Policies and Tariffs**: President Donald Trump's administration has implemented new tariffs on steel and aluminum imports, leading to increased costs for businesses and concerns about inflation. This has particularly affected industries like automotive and manufacturing, with companies such as Porsche considering price hikes to offset tariff impacts. ([reuters.com](https://www.reuters.com/business/retail-consumer/corporate-gloom-deepens-new-trump-tariffs-take-effect-2025-03-12/?utm_source=openai))\n",
       "\n",
       "2. **Government Funding Uncertainty**: Investors are apprehensive about a potential government shutdown due to delays in passing a funding bill. The Senate is currently focused on a stopgap measure to prevent a partial shutdown, which could be extended until April 11. This uncertainty adds to market volatility. ([reuters.com](https://www.reuters.com/markets/us/futures-slip-government-funding-bill-deadline-looms-growth-fears-persist-2025-03-13/?utm_source=openai))\n",
       "\n",
       "3. **Economic Indicators and Recession Fears**: Despite a slight easing in inflation, the escalation of trade wars and policy unpredictability have heightened fears of an economic slowdown or recession. Analysts have noted that continuous geopolitical shifts make long-term business planning challenging, with over 900 major U.S. companies discussing tariffs in future outlooks. ([reuters.com](https://www.reuters.com/business/retail-consumer/corporate-gloom-deepens-new-trump-tariffs-take-effect-2025-03-12/?utm_source=openai))\n",
       "\n",
       "4. **Market Technicals and Valuations**: The S&P 500 has fallen below critical trend lines, and major stocks like Nvidia and Tesla have seen significant declines. The \"Magnificent 7\" tech stocks have been rebranded as the \"Maleficent 7\" due to their substantial contributions to the market downturn. ([reuters.com](https://www.reuters.com/markets/us/ominous-market-signals-show-more-trouble-could-await-us-stocks-2025-03-12/?utm_source=openai), [ft.com](https://www.ft.com/content/d8772ea6-ce65-47ba-bd3b-31758cf7c135?utm_source=openai))\n",
       "\n",
       "As for the duration of this downward trend, forecasts vary:\n",
       "\n",
       "- **Goldman Sachs** has reduced its year-end target for the S&P 500 Index in 2025 from 6,500 to 6,200, citing increased policy uncertainty and concerns over economic growth. ([reuters.com](https://www.reuters.com/markets/us/goldman-sachs-cuts-sp-500-2025-year-end-target-6200-2025-03-12/?utm_source=openai))\n",
       "\n",
       "- **Stifel** anticipates that the S&P 500 will peak in early 2025 before declining by 10% to 15% in the latter half of the year, attributing this forecast to slowed economic growth and persistent inflation. ([reuters.com](https://www.reuters.com/markets/us/stifel-expects-sp-500-peak-early-2025-before-falling-2024-12-12/?utm_source=openai))\n",
       "\n",
       "Given these projections, the market may experience continued volatility over the next several months. However, it's important to note that market conditions are influenced by a complex interplay of factors, and predictions can change as new information becomes available.\n",
       "\n",
       "\n",
       "## Recent Developments in U.S. Stock Market and Economic Policies:\n",
       "- [Corporate gloom deepens as new Trump tariffs take effect](https://www.reuters.com/business/retail-consumer/corporate-gloom-deepens-new-trump-tariffs-take-effect-2025-03-12/?utm_source=openai)\n",
       "- [Futures slip as government funding bill deadline looms, growth fears persist](https://www.reuters.com/markets/us/futures-slip-government-funding-bill-deadline-looms-growth-fears-persist-2025-03-13/?utm_source=openai)\n",
       "- [Ominous market signals show more trouble could await US stocks](https://www.reuters.com/markets/us/ominous-market-signals-show-more-trouble-could-await-us-stocks-2025-03-12/?utm_source=openai) "
      ],
      "text/plain": [
       "<IPython.core.display.Markdown object>"
      ]
     },
     "metadata": {},
     "output_type": "display_data"
    }
   ],
   "source": [
    "display(Markdown(response.output[1].content[0].model_dump()['text']))"
   ]
  },
  {
   "cell_type": "code",
   "execution_count": null,
   "metadata": {},
   "outputs": [],
   "source": []
  },
  {
   "cell_type": "markdown",
   "metadata": {},
   "source": [
    "Web search with the old Chat.Completions API\n",
    "\n",
    "Using `gpt-4o-search-preview` model"
   ]
  },
  {
   "cell_type": "code",
   "execution_count": 144,
   "metadata": {},
   "outputs": [],
   "source": [
    "sys = \"Your job is to keep users up to date with the US stock market news. You are a professional market analyst.\"\n",
    "\n",
    "usr = \"The US stock market has been dropping for a while. I'd like to know the underlying reasoning behind and for how many more weeks / months we expect downward trends.\"\n",
    "\n",
    "r = client.chat.completions.create(\n",
    "    model=\"gpt-4o-search-preview\",\n",
    "    messages=[\n",
    "        {\n",
    "            \"role\": \"system\",\n",
    "            \"content\": sys\n",
    "        },\n",
    "        {\n",
    "            \"role\": \"user\",\n",
    "            \"content\": usr\n",
    "        }\n",
    "    ],\n",
    ")"
   ]
  },
  {
   "cell_type": "code",
   "execution_count": 152,
   "metadata": {},
   "outputs": [
    {
     "data": {
      "text/markdown": [
       "The recent downturn in the U.S. stock market can be attributed to several interrelated factors:\n",
       "\n",
       "1. **Trade Policies and Tariffs**: President Donald Trump's implementation of tariffs on European Union goods has intensified global trade tensions, leading to concerns about potential economic slowdowns. ([reuters.com](https://www.reuters.com/markets/global-markets-trading-day-2025-03-12/?utm_source=openai))\n",
       "\n",
       "2. **Investor Shift to Value Stocks**: Amid market volatility, investors are reallocating funds from growth-oriented stocks, particularly in the technology sector, to value stocks in sectors like banks, energy, and utilities. This shift reflects a move towards stability in uncertain times. ([reuters.com](https://www.reuters.com/markets/us/us-investors-seek-refuge-value-funds-2025-03-12/?utm_source=openai))\n",
       "\n",
       "3. **Hedge Fund De-risking**: Hedge funds have been reducing their equity positions and leverage to mitigate losses during increased market volatility. This de-risking has contributed to downward pressure on stock prices. ([ft.com](https://www.ft.com/content/a642cc9d-5c7c-4254-b6c1-be0bdc6fb4f1?utm_source=openai))\n",
       "\n",
       "4. **Economic Indicators**: Recent data, including an uptick in the U.S. unemployment rate and jobless claims, has renewed fears of a potential recession. Such indicators can negatively impact investor confidence and market performance. ([cbsnews.com](https://www.cbsnews.com/news/why-is-the-stock-market-down-what-should-investors-do/?utm_source=openai))\n",
       "\n",
       "As of March 13, 2025, major indices reflect these trends:\n",
       "\n",
       "- **S&P 500 (SPY)**: Currently at 558.87 USD, up 0.55% from the previous close.\n",
       "\n",
       "- **Dow Jones Industrial Average (DIA)**: At 413.95 USD, down 0.20% from the previous close.\n",
       "\n",
       "- **Nasdaq Composite (QQQ)**: At 476.92 USD, up 1.16% from the previous close.\n",
       "\n",
       "Predicting the exact duration of market downturns is challenging due to the complex interplay of economic policies, global events, and investor sentiment. While some analysts suggest that the market may experience continued volatility in the coming weeks, others believe that the recent de-risking by hedge funds and shifts towards value stocks could stabilize the market sooner. It's essential to monitor ongoing economic indicators and policy developments to gauge the market's trajectory.\n",
       "\n",
       "\n",
       "## Recent Developments in U.S. Stock Market:\n",
       "- [US investors seek refuge in value funds](https://www.reuters.com/markets/us/us-investors-seek-refuge-value-funds-2025-03-12/?utm_source=openai)\n",
       "- [Hedge funds slash bets as Trump's trade war causes 'a lot of pain'](https://www.ft.com/content/a642cc9d-5c7c-4254-b6c1-be0bdc6fb4f1?utm_source=openai)\n",
       "- [Trading Day: Finally, a bounce on Wall Street. But for how long?](https://www.reuters.com/markets/global-markets-trading-day-2025-03-12/?utm_source=openai) "
      ],
      "text/plain": [
       "<IPython.core.display.Markdown object>"
      ]
     },
     "metadata": {},
     "output_type": "display_data"
    }
   ],
   "source": [
    "display(Markdown(r.choices[0].message.content))"
   ]
  },
  {
   "cell_type": "code",
   "execution_count": 160,
   "metadata": {},
   "outputs": [
    {
     "data": {
      "text/plain": [
       "[Annotation(type='url_citation', url_citation=AnnotationURLCitation(end_index=407, start_index=302, title='Trading Day: Finally, a bounce on Wall Street. But for how long?', url='https://www.reuters.com/markets/global-markets-trading-day-2025-03-12/?utm_source=openai')),\n",
       " Annotation(type='url_citation', url_citation=AnnotationURLCitation(end_index=818, start_index=700, title='US investors seek refuge in value funds', url='https://www.reuters.com/markets/us/us-investors-seek-refuge-value-funds-2025-03-12/?utm_source=openai')),\n",
       " Annotation(type='url_citation', url_citation=AnnotationURLCitation(end_index=1135, start_index=1042, title=\"Hedge funds slash bets as Trump's trade war causes 'a lot of pain'\", url='https://www.ft.com/content/a642cc9d-5c7c-4254-b6c1-be0bdc6fb4f1?utm_source=openai')),\n",
       " Annotation(type='url_citation', url_citation=AnnotationURLCitation(end_index=1492, start_index=1374, title='4 reasons the stock market is plunging — and what experts say you should do - CBS News', url='https://www.cbsnews.com/news/why-is-the-stock-market-down-what-should-investors-do/?utm_source=openai')),\n",
       " Annotation(type='url_citation', url_citation=AnnotationURLCitation(end_index=2493, start_index=2349, title='US investors seek refuge in value funds', url='https://www.reuters.com/markets/us/us-investors-seek-refuge-value-funds-2025-03-12/?utm_source=openai')),\n",
       " Annotation(type='url_citation', url_citation=AnnotationURLCitation(end_index=2647, start_index=2496, title=\"Hedge funds slash bets as Trump's trade war causes 'a lot of pain'\", url='https://www.ft.com/content/a642cc9d-5c7c-4254-b6c1-be0bdc6fb4f1?utm_source=openai')),\n",
       " Annotation(type='url_citation', url_citation=AnnotationURLCitation(end_index=2806, start_index=2650, title='Trading Day: Finally, a bounce on Wall Street. But for how long?', url='https://www.reuters.com/markets/global-markets-trading-day-2025-03-12/?utm_source=openai'))]"
      ]
     },
     "execution_count": 160,
     "metadata": {},
     "output_type": "execute_result"
    }
   ],
   "source": [
    "r.choices[0].message.annotations"
   ]
  },
  {
   "cell_type": "code",
   "execution_count": null,
   "metadata": {},
   "outputs": [],
   "source": []
  },
  {
   "cell_type": "markdown",
   "metadata": {},
   "source": [
    "Additional tools\n",
    "\n",
    "Custom tools: define functions and provide as JSON schemas"
   ]
  },
  {
   "cell_type": "code",
   "execution_count": 164,
   "metadata": {},
   "outputs": [],
   "source": [
    "import requests\n",
    "\n",
    "def get_weather(latitude: float, longitude: float):\n",
    "\n",
    "    \"\"\"Get current temperature for provided coordinates in celsius.\"\"\"\n",
    "\n",
    "    response = requests.get(f\"https://api.open-meteo.com/v1/forecast?latitude={latitude}&longitude={longitude}&current=temperature_2m,wind_speed_10m&hourly=temperature_2m,relative_humidity_2m,wind_speed_10m\")\n",
    "    data = response.json()\n",
    "    \n",
    "    return data['current']['temperature_2m']"
   ]
  },
  {
   "cell_type": "code",
   "execution_count": 165,
   "metadata": {},
   "outputs": [
    {
     "name": "stdout",
     "output_type": "stream",
     "text": [
      "Weather data for Budapest is: 12.4 C\n"
     ]
    }
   ],
   "source": [
    "### test on Budapest\n",
    "\n",
    "lat = '47.497913'\n",
    "lon = '19.040236'\n",
    "\n",
    "bp_weather = get_weather(lat, lon)\n",
    "print(f'Weather data for Budapest is: {bp_weather} C')"
   ]
  },
  {
   "cell_type": "code",
   "execution_count": 169,
   "metadata": {},
   "outputs": [
    {
     "name": "stdout",
     "output_type": "stream",
     "text": [
      "{'type': 'function', 'name': 'get_weather', 'description': 'Get current temperature for provided coordinates in celsius.', 'parameters': {'type': 'object', 'properties': {'latitude': {'type': 'number'}, 'longitude': {'type': 'number'}}, 'required': ['latitude', 'longitude'], 'additionalProperties': False}, 'strict': True}\n"
     ]
    }
   ],
   "source": [
    "import inspect\n",
    "\n",
    "def function_to_json(func) -> dict:\n",
    "    \"\"\"\n",
    "    Converts a Python function into a JSON-serializable dictionary\n",
    "    that describes the function's signature for LLM function calling.\n",
    "    \"\"\"\n",
    "    type_map = {\n",
    "        str: \"string\",\n",
    "        int: \"integer\",\n",
    "        float: \"number\",\n",
    "        bool: \"boolean\",\n",
    "        list: \"array\",\n",
    "        dict: \"object\",\n",
    "        type(None): \"null\",\n",
    "    }\n",
    "    \n",
    "    signature = inspect.signature(func)\n",
    "    parameters = {}\n",
    "    \n",
    "    for param in signature.parameters.values():\n",
    "        param_type = type_map.get(param.annotation, \"string\")\n",
    "        parameters[param.name] = {\"type\": param_type}\n",
    "    \n",
    "    required = [\n",
    "        param.name\n",
    "        for param in signature.parameters.values()\n",
    "        if param.default == inspect._empty\n",
    "    ]\n",
    "    \n",
    "    return {\n",
    "        \"type\": \"function\",\n",
    "        \"name\": func.__name__,\n",
    "        \"description\": func.__doc__ or \"\",\n",
    "        \"parameters\": {\n",
    "            \"type\": \"object\",\n",
    "            \"properties\": parameters,\n",
    "            \"required\": required,\n",
    "            \"additionalProperties\": False\n",
    "        },\n",
    "        \"strict\": True\n",
    "}\n",
    "\n",
    "# Generate the schema\n",
    "tool_schema = function_to_json(get_weather)\n",
    "print(tool_schema)"
   ]
  },
  {
   "cell_type": "code",
   "execution_count": null,
   "metadata": {},
   "outputs": [
    {
     "data": {
      "text/plain": [
       "[ResponseFunctionToolCall(id='fc_67d328ff8f188192b2585555471780480b90233318eabe11', arguments='{\"latitude\":40.7128,\"longitude\":-74.006}', call_id='call_zBRYrfNAZEllq8bb1FxeARRR', name='get_weather', type='function_call', status='completed')]"
      ]
     },
     "execution_count": 173,
     "metadata": {},
     "output_type": "execute_result"
    }
   ],
   "source": [
    "user_msg = 'What is the weather like in New York?'\n",
    "\n",
    "response = client.responses.create(\n",
    "    model='gpt-4o',\n",
    "    temperature=None if 'o3' in MODEL_NAME or 'o1' in MODEL_NAME else 0.0,\n",
    "    instructions=\"You are a helpful AI assistant\",\n",
    "    input=[\n",
    "        {\n",
    "            \"role\": \"user\",\n",
    "            \"content\": user_msg\n",
    "        }\n",
    "    ],\n",
    "    tools=[tool_schema],\n",
    ")\n",
    "\n",
    "response.output"
   ]
  },
  {
   "cell_type": "markdown",
   "metadata": {},
   "source": [
    "Coordinates make sense: https://www.latlong.net/c/?lat=40.7143&long=-74.0060\n",
    "\n",
    "Now add more tools!"
   ]
  },
  {
   "cell_type": "code",
   "execution_count": 175,
   "metadata": {},
   "outputs": [
    {
     "data": {
      "text/plain": [
       "[ResponseFunctionWebSearch(id='ws_67d32a06fce48192bc3e8e2bd8806de90d396eb2505debc1', status='completed', type='web_search_call'),\n",
       " ResponseOutputMessage(id='msg_67d32a0a0a4c81928f04084d36ec50aa0d396eb2505debc1', content=[ResponseOutputText(annotations=[], text='As of March 13, 2025, NVIDIA Corporation (NVDA) stock is trading at $117.35, up $1.61 (1.39%) from the previous close.\\n\\n## Stock market information for NVIDIA Corp (NVDA)\\n- NVIDIA Corp is a equity in the USA market.\\n- The price is 117.35 USD currently with a change of 1.61 USD (0.01%) from the previous close.\\n- The latest open price was 116.99 USD and the intraday volume is 220606315.\\n- The intraday high is 117.73 USD and the intraday low is 113.85 USD.\\n- The latest trade time is Thursday, March 13, 18:39:37 UTC.\\n\\n\\nIn New York, NY, the current weather is mostly cloudy with a temperature of 48°F (9°C).\\n\\n## Weather for New York, NY:\\nCurrent Conditions: Mostly cloudy, 48°F (9°C)\\n\\nDaily Forecast:\\n* Thursday, March 13: Low: 41°F (5°C), High: 50°F (10°C), Description: Cooler with a blend of sun and clouds\\n* Friday, March 14: Low: 42°F (6°C), High: 51°F (10°C), Description: Intervals of clouds and sun\\n* Saturday, March 15: Low: 49°F (10°C), High: 52°F (11°C), Description: Mostly cloudy\\n* Sunday, March 16: Low: 54°F (12°C), High: 61°F (16°C), Description: Windy with a thick cloud cover; a brief afternoon shower or two\\n* Monday, March 17: Low: 38°F (4°C), High: 59°F (15°C), Description: Considerable cloudiness\\n* Tuesday, March 18: Low: 45°F (7°C), High: 55°F (13°C), Description: Plenty of sunshine\\n* Wednesday, March 19: Low: 51°F (10°C), High: 61°F (16°C), Description: Mild with times of clouds and sun\\n ', type='output_text')], role='assistant', status='completed', type='message'),\n",
       " ResponseFunctionToolCall(id='fc_67d32a0d573081929a48a8a47a4fe2010d396eb2505debc1', arguments='{\"latitude\":40.7128,\"longitude\":-74.006}', call_id='call_AXvtm9QNY4T2QqXsxIsRv3TK', name='get_weather', type='function_call', status='completed')]"
      ]
     },
     "execution_count": 175,
     "metadata": {},
     "output_type": "execute_result"
    }
   ],
   "source": [
    "user_msg = 'First tell me the current NVIDIA stock price, then look up the weather in New York!'\n",
    "\n",
    "response = client.responses.create(\n",
    "    model='gpt-4o',\n",
    "    temperature=None if 'o3' in MODEL_NAME or 'o1' in MODEL_NAME else 0.0,\n",
    "    instructions=\"You are a helpful AI assistant\",\n",
    "    input=[\n",
    "        {\n",
    "            \"role\": \"user\",\n",
    "            \"content\": user_msg\n",
    "        }\n",
    "    ],\n",
    "    tools=[\n",
    "        tool_schema,\n",
    "        {\n",
    "            \"type\": \"web_search_preview\",\n",
    "            \"search_context_size\": \"high\",\n",
    "        }\n",
    "        ],\n",
    ")\n",
    "\n",
    "\n",
    "response.output"
   ]
  },
  {
   "cell_type": "markdown",
   "metadata": {},
   "source": [
    "First, it called the web search, it also ran the 'function', as it should, then it called my function and is waiting for me to run it!"
   ]
  },
  {
   "cell_type": "code",
   "execution_count": null,
   "metadata": {},
   "outputs": [],
   "source": []
  },
  {
   "cell_type": "markdown",
   "metadata": {},
   "source": [
    "#### File Search\n",
    "\n",
    "https://platform.openai.com/docs/guides/tools-file-search \n",
    "\n",
    "https://platform.openai.com/docs/guides/retrieval\n",
    "\n",
    "Additional functionality: direct vectorDB retrieval (so far it was only doing retrieval natively during the completion)\n",
    "\n",
    "Process:\n",
    "\n",
    "1. Upload file\n",
    "2. Create vectorDB\n",
    "3. Add file to vectorDB\n",
    "4. Test performing a query on the vectorDB\n",
    "5. Use Responses API to perform a query on the vectorDB and generate a response"
   ]
  },
  {
   "cell_type": "code",
   "execution_count": 177,
   "metadata": {},
   "outputs": [
    {
     "name": "stdout",
     "output_type": "stream",
     "text": [
      "file-6r4nJmfjHtHMuZG5vTyhDa\n"
     ]
    }
   ],
   "source": [
    "### 1. Upload file\n",
    "\n",
    "def create_file(client, file_path):\n",
    "    if file_path.startswith(\"http://\") or file_path.startswith(\"https://\"):\n",
    "        # Download the file content from the URL\n",
    "        response = requests.get(file_path)\n",
    "        file_content = BytesIO(response.content)\n",
    "        file_name = file_path.split(\"/\")[-1]\n",
    "        file_tuple = (file_name, file_content)\n",
    "        result = client.files.create(\n",
    "            file=file_tuple,\n",
    "            purpose=\"assistants\"\n",
    "        )\n",
    "    else:\n",
    "        # Handle local file path\n",
    "        with open(file_path, \"rb\") as file_content:\n",
    "            result = client.files.create(\n",
    "                file=file_content,\n",
    "                purpose=\"assistants\"\n",
    "            )\n",
    "    print(result.id)\n",
    "    return result.id\n",
    "\n",
    "file_id = create_file(client, \"https://ir.tesla.com/_flysystem/s3/sec/000162828025003063/tsla-20241231-gen.pdf\")"
   ]
  },
  {
   "cell_type": "code",
   "execution_count": 178,
   "metadata": {},
   "outputs": [
    {
     "name": "stdout",
     "output_type": "stream",
     "text": [
      "vs_67d3373d85408191aa3d67ae6d215087\n"
     ]
    }
   ],
   "source": [
    "### 2. Create vectorDB\n",
    "\n",
    "vector_store = client.vector_stores.create(\n",
    "    name=\"test-vector-store-tesla-10k\"\n",
    ")\n",
    "print(vector_store.id)"
   ]
  },
  {
   "cell_type": "code",
   "execution_count": 181,
   "metadata": {},
   "outputs": [
    {
     "name": "stdout",
     "output_type": "stream",
     "text": [
      "SyncCursorPage[VectorStoreFile](data=[VectorStoreFile(id='file-6r4nJmfjHtHMuZG5vTyhDa', created_at=1741895828, last_error=None, object='vector_store.file', status='completed', usage_bytes=711145, vector_store_id='vs_67d3373d85408191aa3d67ae6d215087', attributes={}, chunking_strategy=StaticFileChunkingStrategyObject(static=StaticFileChunkingStrategy(chunk_overlap_tokens=200, max_chunk_size_tokens=1000), type='static'))], has_more=False, object='list', first_id='file-6r4nJmfjHtHMuZG5vTyhDa', last_id='file-6r4nJmfjHtHMuZG5vTyhDa')\n"
     ]
    }
   ],
   "source": [
    "### 3. Add file to vectorDB\n",
    "\n",
    "client.vector_stores.files.create(\n",
    "    vector_store_id=vector_store.id,\n",
    "    file_id=file_id,\n",
    "    chunking_strategy={\n",
    "        \"type\": \"static\",\n",
    "        \"static\": {\n",
    "            \"max_chunk_size_tokens\": 1000,\n",
    "            \"chunk_overlap_tokens\": 200\n",
    "        }\n",
    "    }\n",
    ")\n",
    "\n",
    "result = client.vector_stores.files.list(\n",
    "    vector_store_id=vector_store.id\n",
    ")\n",
    "print(result)"
   ]
  },
  {
   "cell_type": "code",
   "execution_count": 184,
   "metadata": {},
   "outputs": [],
   "source": [
    "### 4. Test performing a query on the vectorDB\n",
    "\n",
    "user_query = \"Where are the production sites and what models are produced?\"\n",
    "\n",
    "results = client.vector_stores.search(\n",
    "    vector_store_id=vector_store.id,\n",
    "    query=user_query,\n",
    "    max_num_results = 5,\n",
    "    rewrite_query=True\n",
    ")"
   ]
  },
  {
   "cell_type": "code",
   "execution_count": 186,
   "metadata": {},
   "outputs": [
    {
     "data": {
      "text/plain": [
       "['What are the production sites and models produced?']"
      ]
     },
     "execution_count": 186,
     "metadata": {},
     "output_type": "execute_result"
    }
   ],
   "source": [
    "results.search_query"
   ]
  },
  {
   "cell_type": "code",
   "execution_count": 189,
   "metadata": {},
   "outputs": [
    {
     "data": {
      "text/plain": [
       "[VectorStoreSearchResponse(attributes={}, content=[Content(text='We\\tended\\t2024\\twith\\t$36.56\\tbillion\\tin\\tcash\\tand\\tcash\\tequivalents\\tand\\tinvestments,\\trepresenting\\tan\\tincrease\\tof\\t$7.47\\tbillion\\tfrom\\tthe\\tend\\tof\\t2023.\\nOur\\tcash\\tflows\\tprovided\\tby\\toperating\\tactivities\\twere\\t$14.92\\tbillion\\tin\\t2024\\tcompared\\tto\\t$13.26\\tbillion\\tin\\t2023,\\trepresenting\\tan\\tincrease\\tof\\t$1.67\\tbillion.\\nCapital\\texpenditures\\tamounted\\tto\\t$11.34\\tbillion\\tin\\t2024\\tcompared\\tto\\t$8.90\\tbillion\\tin\\t2023,\\trepresenting\\tan\\tincrease\\tof\\t$2.44\\tbillion.\\tOverall\\tgrowth\\thas\\nallowed\\tour\\tbusiness\\tto\\tgenerally\\tfund\\titself,\\tand\\twe\\twill\\tcontinue\\tinvesting\\tin\\ta\\tnumber\\tof\\tcapital-intensive\\tprojects\\tand\\tresearch\\tand\\tdevelopment\\tin\\nupcoming\\tperiods.\\n\\n32\\n\\n\\n\\nManagement\\tOpportunities,\\tChallenges\\tand\\tUncertainties\\tand\\t2025\\tOutlook\\nAutomotive—Production\\n\\nThe\\tfollowing\\tis\\ta\\tsummary\\tof\\tthe\\tstatus\\tof\\tproduction\\tof\\teach\\tof\\tour\\tannounced\\tvehicle\\tmodels\\tin\\tproduction\\tand\\tunder\\tdevelopment,\\tas\\tof\\tthe\\ndate\\tof\\tthis\\tAnnual\\tReport\\ton\\tForm\\t10-K:\\n\\nRegion Vehicle\\tModel(s) Production\\tStatus\\n\\nCalifornia Model\\tS\\t/\\tModel\\tX Active\\n\\t Model\\t3\\t/\\tModel\\tY Active\\nShanghai Model\\t3\\t/\\tModel\\tY Active\\nBerlin Model\\tY Active\\nTexas Model\\tY Active\\n\\t Cybertruck Active\\n\\nCybercab In\\tdevelopment\\nNevada Tesla\\tSemi Pilot\\tproduction\\nTBD Roadster In\\tdevelopment\\n\\nWe\\tare\\tfocused\\ton\\tgrowing\\tour\\tmanufacturing\\tcapacity,\\twhich\\tincludes\\tcapacity\\tfor\\tmanufacturing\\tnewer\\tvehicle\\tmodels\\tsuch\\tas\\tour\\tCybertruck,\\nTesla\\tSemi\\tand\\tfuture\\tvehicles\\tutilizing\\taspects\\tof\\tour\\tnext\\tgeneration\\tplatform,\\tand\\tramping\\tthe\\tproduction\\tat\\tour\\tGigafactories\\tto\\ttheir\\tinstalled\\nproduction\\tcapacities\\tas\\twell\\tas\\tincreasing\\tproduction\\trate\\tand\\tefficiency\\tat\\tour\\tcurrent\\tfactories.\\tThe\\tnext\\tphase\\tof\\tproduction\\tgrowth\\twill\\tdepend\\ton\\tthe\\ncontinued\\tramp\\tat\\tour\\tfactories\\tand\\tbe\\tinitiated\\tby\\tadvances\\tin\\tautonomy\\tand\\tthe\\tintroduction\\tof\\tnew\\tproducts,\\tincluding\\tthose\\tbuilt\\ton\\tour\\tnext\\ngeneration\\tvehicle\\tplatform,\\tas\\twell\\tas\\tour\\tability\\tto\\tadd\\tto\\tour\\tavailable\\tsources\\tof\\tbattery\\tcell\\tsupply\\tby\\tmanufacturing\\tour\\town\\tcells\\tthat\\twe\\tare\\ndeveloping\\tto\\thave\\thigh-volume\\toutput,\\tlower\\tcapital\\tand\\tproduction\\tcosts\\tand\\tlonger\\trange.\\tOur\\tgoals\\tare\\tto\\timprove\\tvehicle\\tperformance,\\tdecrease\\nproduction\\tcosts\\tand\\tincrease\\taffordability\\tand\\tcustomer\\tawareness.\\n\\nThese\\tplans\\tare\\tsubject\\tto\\tuncertainties\\tinherent\\tin\\testablishing\\tand\\tramping\\tmanufacturing\\toperations,\\twhich\\tmay\\tbe\\texacerbated\\tby\\tnew\\tproduct\\nand\\tmanufacturing\\ttechnologies\\twe\\tintroduce,\\tthe\\tnumber\\tof\\tconcurrent\\tinternational\\tprojects,\\tany\\tindustry-wide\\tcomponent\\tconstraints,\\tlabor\\tshortages\\nand\\tany\\tfuture\\timpact\\tfrom\\tevents\\toutside\\tof\\tour\\tcontrol.\\tFor\\texample,\\tduring\\tthe\\tfirst\\tquarter\\tof\\t2024,\\twe\\texperienced\\ta\\tsequential\\tdecline\\tin\\tproduction\\nvolumes\\tpartially\\tcaused\\tby\\tthe\\tearly\\tphase\\tof\\tthe\\tproduction\\tramp\\tof\\tthe\\tupdated\\tModel\\t3\\tat\\tour\\tFremont\\tfactory,\\tand\\tfactory\\tshutdowns\\tat\\tGigafactory\\nBerlin-Brandenburg\\tresulting\\tfrom\\tshipping\\tdiversions\\tcaused\\tby\\tthe\\tRed\\tSea\\tconflict\\tand\\tan\\tarson\\tattack.\\tIn\\tthe\\tfirst\\tquarter\\tof\\t2025,\\tas\\twe\\tlaunch\\tour\\nNew\\tModel\\tY\\tworldwide,\\twe\\tmay\\tsimilarly\\texperience\\tdelays\\tor\\tdeclines\\tin\\tproduction\\tvolumes\\tdue\\tto\\tsimultaneous\\tmanufacturing\\tramps\\tin\\tfacilities\\ton\\nthree\\tcontinents.\\tMoreover,\\twe\\thave\\tset\\tambitious\\ttechnological\\ttargets\\twith\\tour\\tplans\\tfor\\tbattery\\tcells\\tas\\twell\\tas\\tfor\\titerative\\tmanufacturing\\tand\\tdesign\\nimprovements\\tfor\\tour\\tvehicles\\twith\\teach\\tnew\\tfactory.', type='text')], file_id='file-6r4nJmfjHtHMuZG5vTyhDa', filename='tsla-20241231-gen.pdf', score=0.7555930531956415),\n",
       " VectorStoreSearchResponse(attributes={}, content=[Content(text='In\\t2022,\\twe\\talso\\tbegan\\tearly\\tproduction\\tand\\tdeliveries\\tof\\ta\\tcommercial\\telectric\\tvehicle,\\tthe\\tTesla\\tSemi.\\tWe\\thave\\tplanned\\telectric\\tvehicles\\tto\\naddress\\tadditional\\tvehicle\\tmarkets,\\tand\\tcontinue\\tleveraging\\tdevelopments\\tin\\tour\\tproprietary\\tFull\\tSelf-Driving\\t(“FSD”)\\t(Supervised)\\tfeatures,\\tincluding\\nthrough\\tour\\tpurpose-built\\tRobotaxi\\tproduct\\t-\\tCybercab,\\tand\\tbattery\\tcell\\tand\\tother\\ttechnologies.\\tFor\\tpurposes\\tof\\tthis\\tfiling,\\tuse\\tof\\tthe\\tterm\\t“FSD\\n(Supervised)”\\tincludes\\tthe\\tequivalent\\tnaming\\tconvention,\\t“FSD\\t(Capability)”\\tthat\\tis\\tused\\tin\\tthe\\tEuropean,\\tMiddle\\tEast\\tand\\tAsia-Pacific\\tregions.\\n\\nEnergy\\tGeneration\\tand\\tStorage\\n\\nEnergy\\tStorage\\tProducts\\n\\nPowerwall\\tand\\tMegapack\\tare\\tour\\tlithium-ion\\tbattery\\tenergy\\tstorage\\tproducts.\\tPowerwall,\\twhich\\twe\\tsell\\tdirectly\\tto\\tcustomers,\\tas\\twell\\tas\\tthrough\\nchannel\\tpartners,\\tis\\tdesigned\\tto\\tstore\\tenergy\\tat\\ta\\thome\\tor\\tsmall\\tcommercial\\tfacility.\\tMegapack\\tis\\tan\\tenergy\\tstorage\\tsolution\\tfor\\tcommercial,\\tindustrial,\\nutility\\tand\\tenergy\\tgeneration\\tcustomers,\\tmultiple\\tof\\twhich\\tmay\\tbe\\tgrouped\\ttogether\\tto\\tform\\tlarger\\tinstallations\\tof\\tgigawatt\\thours\\t(“GWh”)\\tor\\tgreater\\ncapacity.\\n\\nWe\\talso\\tcontinue\\tto\\tdevelop\\tsoftware\\tcapabilities\\tfor\\tremotely\\tcontrolling\\tand\\tdispatching\\tour\\tenergy\\tstorage\\tsystems\\tacross\\ta\\twide\\trange\\tof\\nmarkets\\tand\\tapplications,\\tincluding\\tthrough\\tour\\treal-time\\tenergy\\tcontrol\\tand\\toptimization\\tplatforms.\\n\\n2\\n\\nfile:///tmp/knp_snappy679b5e49ddff15.49570065.html#ie9fbbc0a99a6483f9fc1594c1ef72807_148\\n\\n\\nTable\\tof\\tContents\\n\\nSolar\\tEnergy\\tOfferings\\n\\nWe\\tsell\\tretrofit\\tsolar\\tenergy\\tsystems\\tto\\tcustomers\\tand\\tchannel\\tpartners.\\tWe\\tpurchase\\tmost\\tof\\tthe\\tcomponents\\tfor\\tour\\tretrofit\\tsolar\\tenergy\\tsystems\\nfrom\\tmultiple\\tsources\\tto\\tensure\\tcompetitive\\tpricing\\tand\\tadequate\\tsupply.\\tWe\\talso\\tdesign\\tand\\tmanufacture\\tcertain\\tcomponents\\tfor\\tour\\tsolar\\tenergy\\nproducts.\\n\\nWe\\tsell\\tour\\tSolar\\tRoof,\\twhich\\tcombines\\tpremium\\tglass\\troof\\ttiles\\twith\\tenergy\\tgeneration,\\tto\\tconsumers,\\tincluding\\tthrough\\tchannel\\tcustomers.\\tWe\\ncontinue\\tto\\timprove\\tour\\tinstallation\\tcapability\\tand\\tefficiency,\\tincluding\\tthrough\\tcollaboration\\twith\\treal\\testate\\tdevelopers\\tand\\tbuilders\\ton\\tnew\\thomes.\\n\\nTechnology\\n\\nAutomotive\\n\\nBattery\\tand\\tPowertrain\\n\\nOur\\tcore\\tvehicle\\ttechnology\\tcompetencies\\tinclude\\tpowertrain\\tengineering\\tand\\tmanufacturing\\tand\\tour\\tability\\tto\\tdesign\\tvehicles\\tthat\\tutilize\\tthe\\nunique\\tadvantages\\tof\\tan\\telectric\\tpowertrain.\\tWe\\thave\\tdesigned\\tour\\tproprietary\\tpowertrain\\tsystems\\tto\\tbe\\tadaptable,\\tefficient,\\treliable\\tand\\tcost-effective\\nwhile\\twithstanding\\tthe\\trigors\\tof\\tan\\tautomotive\\tenvironment.\\tWe\\toffer\\tdual\\tmotor\\tpowertrain\\tvehicles,\\twhich\\tuse\\ttwo\\telectric\\tmotors\\tto\\tmaximize\\ttraction\\nand\\tperformance\\tin\\tan\\tall-wheel\\tdrive\\tconfiguration,\\tas\\twell\\tas\\tvehicle\\tpowertrain\\ttechnology\\tfeaturing\\tthree\\telectric\\tmotors\\tfor\\tfurther\\tincreased\\nperformance\\tin\\tcertain\\tversions\\tof\\tModel\\tS\\tand\\tModel\\tX,\\tCybertruck\\tand\\tthe\\tTesla\\tSemi.\\n\\nWe\\tmaintain\\textensive\\ttesting\\tand\\tR&D\\tcapabilities\\tfor\\tbattery\\tcells,\\tpacks\\tand\\tsystems,\\tand\\thave\\tbuilt\\tan\\texpansive\\tbody\\tof\\tknowledge\\ton\\tlithium-\\nion\\tcell\\tchemistry\\ttypes\\tand\\tperformance\\tcharacteristics.\\tIn\\torder\\tto\\tenable\\ta\\tgreater\\tsupply\\tof\\tcells\\tfor\\tour\\tproducts\\twith\\thigher\\tenergy\\tdensity\\tat\\tlower\\ncosts,\\twe\\thave\\tdeveloped\\ta\\tnew\\tproprietary\\tlithium-ion\\tbattery\\tcell\\tand\\timproved\\tmanufacturing\\tprocesses.\\n\\nVehicle\\tControl\\tand\\tInfotainment\\tSoftware', type='text')], file_id='file-6r4nJmfjHtHMuZG5vTyhDa', filename='tsla-20241231-gen.pdf', score=0.7084097286207148),\n",
       " VectorStoreSearchResponse(attributes={}, content=[Content(text='For\\tretrofit\\tsolar\\tenergy\\tsystems,\\twe\\tprovide\\tseparate\\tlimited\\twarranties\\tfor\\tworkmanship\\tand\\tagainst\\troof\\tleaks,\\tand\\tfor\\tSolar\\tRoof,\\twe\\talso\\nprovide\\tlimited\\twarranties\\tfor\\tdefects\\tand\\tweatherization.\\tFor\\tcomponents\\tnot\\tmanufactured\\tby\\tus,\\twe\\tgenerally\\tpass-through\\tthe\\tapplicable\\nmanufacturers’\\twarranties.\\n\\nAs\\tpart\\tof\\tour\\thistorical\\tsolar\\tenergy\\tsystem\\tand\\tenergy\\tstorage\\tcontracts,\\twe\\tmay\\tprovide\\tthe\\tcustomer\\twith\\tperformance\\tguarantees\\tthat\\tcommit\\nthat\\tthe\\tunderlying\\tsystem\\twill\\tmeet\\tor\\texceed\\tthe\\tminimum\\tenergy\\tgeneration\\tor\\tperformance\\trequirements\\tspecified\\tin\\tthe\\tcontract.\\n\\nFinancial\\tServices\\n\\nAutomotive\\n\\nPurchase\\tFinancing\\tand\\tLeases\\n\\nWe\\toffer\\tleasing\\tand/or\\tloan\\tfinancing\\tarrangements\\tfor\\tour\\tvehicles\\tin\\tcertain\\tjurisdictions\\tin\\tNorth\\tAmerica,\\tEurope\\tand/or\\tAsia\\tourselves\\tand\\nthrough\\tvarious\\tfinancial\\tinstitutions.\\tUnder\\tcertain\\tof\\tsuch\\tprograms,\\twe\\thave\\tprovided\\tresale\\tvalue\\tguarantees\\tor\\tbuyback\\tguarantees\\tthat\\tmay\\nobligate\\tus\\tto\\tcover\\ta\\tresale\\tloss\\tup\\tto\\ta\\tcertain\\tlimit\\tor\\trepurchase\\tthe\\tsubject\\tvehicles\\tat\\tpre-determined\\tvalues.\\n\\nInsurance\\n\\nIn\\t2021,\\twe\\tlaunched\\tour\\tinsurance\\tproduct\\tusing\\treal-time\\tdriving\\tbehavior\\tin\\tselect\\tstates,\\twhich\\toffers\\trates\\tthat\\tare\\toften\\tbetter\\tthan\\tother\\nalternatives\\tand\\tpromotes\\tsafer\\tdriving.\\tOur\\tinsurance\\tproducts\\tare\\tcurrently\\tavailable\\tin\\t12\\tstates\\tand\\twe\\tplan\\tto\\texpand\\tthe\\tmarkets\\tin\\twhich\\twe\\toffer\\ninsurance\\tproducts,\\tas\\tpart\\tof\\tour\\tongoing\\teffort\\tto\\tdecrease\\tthe\\ttotal\\tcost\\tof\\townership\\tfor\\tour\\tcustomers.\\n\\nEnergy\\tGeneration\\tand\\tStorage\\n\\nWe\\toffer\\tcertain\\tfinancing\\toptions\\tto\\tour\\tresidential\\tcustomers,\\twhich\\tenable\\tthe\\tcustomer\\tto\\tpurchase\\tand\\town\\tenergy\\tsystems\\tcomprised\\tof\\tsolar,\\nSolar\\tRoof\\tand/or\\tPowerwall\\tbatteries.\\tOur\\tsolar\\tPPAs,\\toffered\\tprimarily\\tto\\tcommercial\\tcustomers,\\tcharge\\ta\\tfee\\tper\\tkilowatt-hour\\tbased\\ton\\tthe\\tamount\\tof\\nelectricity\\tproduced\\tby\\tour\\tsolar\\tenergy\\tsystems.\\n\\nManufacturing\\n\\nWe\\tcurrently\\thave\\tmanufacturing\\tfacilities\\tin\\tthe\\tU.S.\\tin\\tCalifornia,\\tNew\\tYork,\\tTexas\\tand\\tNevada.\\tAt\\tthese\\tfacilities,\\twe\\tmanufacture\\tand\\tassemble,\\namong\\tother\\tthings,\\tvehicles,\\tcertain\\tvehicle\\tparts\\tand\\tcomponents,\\tsuch\\tas\\tour\\tbattery\\tpacks\\tand\\tbattery\\tcells,\\tenergy\\tstorage\\tcomponents\\tand\\nsystems\\tand\\tsolar\\tproducts\\tand\\tcomponents.\\n\\nInternationally,\\twe\\talso\\thave\\tmanufacturing\\tfacilities\\tin\\tChina\\tand\\tGermany,\\twhich\\tallows\\tus\\tto\\tincrease\\tthe\\taffordability\\tof\\tour\\tvehicles\\tfor\\ncustomers\\tin\\tlocal\\tmarkets\\tby\\treducing\\ttransportation\\tand\\tmanufacturing\\tcosts\\tand\\teliminating\\tthe\\timpact\\tof\\tunfavorable\\ttariffs.\\tIn\\tMarch\\t2023,\\twe\\nannounced\\tthe\\tlocation\\tof\\tour\\tnext\\tGigafactory\\tin\\tMonterrey,\\tMexico.\\tGenerally,\\twe\\tcontinue\\tto\\texpand\\tproduction\\tcapacity\\tat\\tour\\texisting\\tfacilities.\\tWe\\nalso\\tintend\\tto\\tfurther\\tincrease\\tcost-competitiveness\\tin\\tour\\tsignificant\\tmarkets\\tby\\tstrategically\\tadding\\tlocal\\tmanufacturing.\\n\\nSupply\\tChain\\n\\nOur\\tproducts\\tuse\\tthousands\\tof\\tparts\\tthat\\tare\\tsourced\\tfrom\\thundreds\\tof\\tsuppliers\\tacross\\tthe\\tworld.\\tWe\\thave\\tdeveloped\\tclose\\trelationships\\twith\\nvendors\\tof\\tkey\\tparts\\tsuch\\tas\\tbattery\\tcells,\\telectronics\\tand\\tcomplex\\tvehicle\\tassemblies.\\tCertain\\tcomponents\\tpurchased\\tfrom\\tthese\\tsuppliers\\tare\\tshared\\tor\\nare\\tsimilar\\tacross\\tmany\\tproduct\\tlines,\\tallowing\\tus\\tto\\ttake\\tadvantage\\tof\\tpricing\\tefficiencies\\tfrom\\teconomies\\tof\\tscale.\\n\\n6\\n\\nfile:///tmp/knp_snappy679b5e49ddff15.49570065.html#ie9fbbc0a99a6483f9fc1594c1ef72807_148', type='text')], file_id='file-6r4nJmfjHtHMuZG5vTyhDa', filename='tsla-20241231-gen.pdf', score=0.5902185340403266),\n",
       " VectorStoreSearchResponse(attributes={}, content=[Content(text='13\\n\\nfile:///tmp/knp_snappy679b5e49ddff15.49570065.html#ie9fbbc0a99a6483f9fc1594c1ef72807_148\\n\\n\\nTable\\tof\\tContents\\n\\nIn\\tparticular,\\tour\\tfuture\\tbusiness\\tdepends\\tin\\tlarge\\tpart\\ton\\tincreasing\\tthe\\tproduction\\tof\\tmass-market\\tvehicles.\\tIn\\torder\\tto\\tbe\\tsuccessful,\\twe\\twill\\tneed\\nto\\timplement,\\tmaintain\\tand\\tramp\\tefficient\\tand\\tcost-effective\\tmanufacturing\\tcapabilities,\\tprocesses\\tand\\tsupply\\tchains\\tand\\tachieve\\tthe\\tdesign\\ttolerances,\\nhigh\\tquality\\tand\\toutput\\trates\\twe\\thave\\tplanned\\tat\\tour\\tmanufacturing\\tfacilities\\tin\\tCalifornia,\\tNevada,\\tTexas,\\tChina,\\tGermany\\tand\\tany\\tfuture\\tsites\\tsuch\\tas\\nMexico.\\tWe\\twill\\talso\\tneed\\tto\\thire,\\ttrain\\tand\\tcompensate\\tskilled\\temployees\\tto\\toperate\\tthese\\tfacilities.\\tBottlenecks\\tand\\tother\\tunexpected\\tchallenges\\tsuch\\nas\\tthose\\twe\\texperienced\\tin\\tthe\\tpast\\tmay\\tarise\\tduring\\tour\\tproduction\\tramps,\\tand\\twe\\tmust\\taddress\\tthem\\tpromptly\\twhile\\tcontinuing\\tto\\timprove\\nmanufacturing\\tprocesses\\tand\\treducing\\tcosts.\\tIf\\twe\\tare\\tnot\\tsuccessful\\tin\\tachieving\\tthese\\tgoals,\\twe\\tcould\\tface\\tdelays\\tin\\testablishing\\tand/or\\tsustaining\\tour\\nproduct\\tramps\\tor\\tbe\\tunable\\tto\\tmeet\\tour\\trelated\\tcost\\tand\\tprofitability\\ttargets.\\n\\nWe\\thave\\texperienced,\\tand\\tmay\\talso\\texperience\\tsimilar\\tfuture\\tdelays\\tin\\tlaunching\\tand/or\\tramping\\tproduction\\tof\\tour\\tenergy\\tstorage\\tproducts\\tand\\nSolar\\tRoof;\\tnew\\tproduct\\tversions\\tor\\tvariants;\\tnew\\tvehicles;\\tand\\tfuture\\tproducts,\\tfeatures\\tand\\tservices\\tbased\\ton\\tartificial\\tintelligence.\\tLikewise,\\twe\\tmay\\nencounter\\tdelays\\twith\\tthe\\tdesign,\\tconstruction\\tand\\tregulatory\\tor\\tother\\tapprovals\\tnecessary\\tto\\tbuild\\tand\\tbring\\tonline\\tfuture\\tmanufacturing\\tfacilities\\tand\\nproducts.\\tIn\\taddition,\\tas\\twe\\tcontinue\\tto\\tdevelop\\tour\\tartificial\\tintelligence\\tservices\\tand\\tproducts,\\twe\\tmay\\tface\\tmany\\tadditional\\tchallenges,\\tincluding\\tthe\\navailability\\tand\\tcost\\tof\\tenergy,\\tprocessing\\tpower\\tlimitations\\tand\\tthe\\tsubstantial\\tpower\\trequirements\\tfor\\tour\\tdata\\tcenters.\\n\\nAny\\tdelay\\tor\\tother\\tcomplication\\tin\\tramping\\tthe\\tproduction\\tof\\tour\\tcurrent\\tproducts\\tor\\tthe\\tdevelopment,\\tmanufacture,\\tlaunch\\tand\\tproduction\\tramp\\tof\\nour\\tfuture\\tproducts,\\tfeatures\\tand\\tservices,\\tor\\tin\\tdoing\\tso\\tcost-effectively\\tand\\twith\\thigh\\tquality,\\tmay\\tharm\\tour\\tbrand,\\tbusiness,\\tprospects,\\tfinancial\\ncondition\\tand\\toperating\\tresults.\\n\\nOur\\tsuppliers\\tmay\\tfail\\tto\\tdeliver\\tcomponents\\taccording\\tto\\tschedules,\\tprices,\\tquality\\tand\\tvolumes\\tthat\\tare\\tacceptable\\tto\\tus,\\tor\\twe\\nmay\\tbe\\tunable\\tto\\tmanage\\tthese\\tcomponents\\teffectively.', type='text')], file_id='file-6r4nJmfjHtHMuZG5vTyhDa', filename='tsla-20241231-gen.pdf', score=0.4148730968943008),\n",
       " VectorStoreSearchResponse(attributes={}, content=[Content(text='Table\\tof\\tContents\\n\\nEnergy\\tGeneration\\tand\\tStorage\\n\\nEnergy\\tStorage\\tProducts\\n\\nWe\\tleverage\\tmany\\tof\\tthe\\tcomponent-level\\ttechnologies\\tfrom\\tour\\tvehicles\\tin\\tour\\tenergy\\tstorage\\tproducts.\\tBy\\ttaking\\ta\\tmodular\\tapproach\\tto\\tthe\\ndesign\\tof\\tbattery\\tsystems,\\twe\\tcan\\toptimize\\tmanufacturing\\tcapacity\\tof\\tour\\tenergy\\tstorage\\tproducts.\\tAdditionally,\\tour\\texpertise\\tin\\tpower\\telectronics\\nenables\\tour\\tbattery\\tsystems\\tto\\tinterconnect\\twith\\telectricity\\tgrids\\twhile\\tproviding\\tfast-acting\\tsystems\\tfor\\tpower\\tinjection\\tand\\tabsorption.\\tWe\\thave\\talso\\ndeveloped\\tsoftware\\tto\\tremotely\\tcontrol\\tand\\tdispatch\\tour\\tenergy\\tstorage\\tsystems.\\n\\nSolar\\tEnergy\\tSystems\\n\\nWe\\thave\\tengineered\\tSolar\\tRoof\\tover\\tnumerous\\titerations\\tto\\tcombine\\taesthetic\\tappeal\\tand\\tdurability\\twith\\tpower\\tgeneration.\\tThe\\tefficiency\\tof\\tour\\nsolar\\tenergy\\tproducts\\tis\\taided\\tby\\tour\\town\\tsolar\\tinverter,\\twhich\\tincorporates\\tour\\tpower\\telectronics\\ttechnologies.\\tWe\\tdesigned\\tboth\\tproducts\\tto\\tintegrate\\nwith\\tPowerwall.\\n\\nDesign\\tand\\tEngineering\\n\\nAutomotive\\n\\nWe\\thave\\testablished\\tsignificant\\tin-house\\tcapabilities\\tin\\tthe\\tdesign\\tand\\ttest\\tengineering\\tof\\telectric\\tvehicles\\tand\\ttheir\\tcomponents\\tand\\tsystems.\\tOur\\nteam\\thas\\tsignificant\\texperience\\tin\\tcomputer-aided\\tdesign\\tas\\twell\\tas\\tdurability,\\tstrength\\tand\\tcrash\\ttest\\tsimulations,\\twhich\\treduces\\tthe\\tproduct\\ndevelopment\\ttime\\tof\\tnew\\tmodels.\\tWe\\thave\\talso\\tachieved\\tcomplex\\tengineering\\tfeats\\tin\\tstamping,\\tcasting\\tand\\tthermal\\tsystems,\\tand\\tdeveloped\\ta\\tmethod\\nto\\tintegrate\\tbatteries\\tdirectly\\twith\\tvehicle\\tbody\\tstructures\\twithout\\tseparate\\tbattery\\tpacks\\tto\\toptimize\\tmanufacturability,\\tweight,\\trange\\tand\\tcost\\ncharacteristics.\\n\\nWe\\tare\\talso\\texpanding\\tour\\tmanufacturing\\toperations\\tglobally\\twhile\\ttaking\\taction\\tto\\tlocalize\\tour\\tvehicle\\tdesigns\\tand\\tproduction\\tfor\\tparticular\\nmarkets,\\tincluding\\tcountry-specific\\tmarket\\tdemands\\tand\\tfactory\\toptimizations\\tfor\\tlocal\\tworkforces.\\tAs\\twe\\tincrease\\tour\\tcapabilities,\\tparticularly\\tin\\tthe\\nareas\\tof\\tautomation,\\tdie-making\\tand\\tline-building,\\twe\\tare\\talso\\tmaking\\tstrides\\tin\\tthe\\tsimulations\\tmodeling\\tthese\\tcapabilities\\tprior\\tto\\tconstruction.\\n\\nEnergy\\tGeneration\\tand\\tStorage\\n\\nOur\\texpertise\\tin\\telectrical,\\tmechanical,\\tcivil\\tand\\tsoftware\\tengineering\\tallows\\tus\\tto\\tdesign,\\tengineer,\\tmanufacture\\tand\\tinstall\\tenergy\\tgenerating\\tand\\nstorage\\tproducts\\tand\\tcomponents,\\tincluding\\tat\\tthe\\tresidential\\tthrough\\tutility\\tscale.\\tFor\\texample,\\tthe\\tmodular\\tdesign\\tof\\tour\\tMegapack\\tutility-scale\\tbattery\\nline\\tis\\tintended\\tto\\tsignificantly\\treduce\\tthe\\tamount\\tof\\tassembly\\trequired\\tin\\tthe\\tfield.\\tWe\\talso\\tcustomize\\tsolutions\\tincluding\\tour\\tenergy\\tstorage\\tproducts,\\nsolar\\tenergy\\tsystems\\tand/or\\tSolar\\tRoof\\tfor\\tcustomers\\tto\\tmeet\\ttheir\\tspecific\\tneeds.\\n\\nSales\\tand\\tMarketing\\n\\nHistorically,\\twe\\thave\\tbeen\\table\\tto\\tachieve\\tsales\\twithout\\ttraditional\\tadvertising\\tand\\tat\\trelatively\\tlow\\tmarketing\\tcosts.\\tWe\\tcontinue\\tto\\tmonitor\\tour\\npublic\\tnarrative\\tand\\tbrand,\\tand\\ttailor\\tour\\tmarketing\\tefforts\\taccordingly,\\tincluding\\tthrough\\tinvestments\\tin\\tcustomer\\teducation\\tand\\tadvertising\\tas\\nnecessary.\\n\\nAutomotive\\n\\nDirect\\tSales\\n\\nOur\\tvehicle\\tsales\\tchannels\\tcurrently\\tinclude\\tour\\twebsite\\tand\\tan\\tinternational\\tnetwork\\tof\\tcompany-owned\\tstores.\\tIn\\tsome\\tjurisdictions,\\twe\\talso\\thave\\ngalleries\\tto\\teducate\\tand\\tinform\\tcustomers\\tabout\\tour\\tproducts,\\tbut\\tsuch\\tlocations\\tdo\\tnot\\ttransact\\tin\\tthe\\tsale\\tof\\tvehicles.\\tWe\\tbelieve\\tthis\\tinfrastructure\\nenables\\tus\\tto\\tbetter\\tcontrol\\tcosts\\tof\\tinventory,\\tmanage\\twarranty\\tservice\\tand\\tpricing,\\teducate\\tconsumers\\tabout\\telectric\\tvehicles,\\tmake\\tour\\tvehicles\\tmore\\naffordable,\\tmaintain\\tand\\tstrengthen\\tthe\\tTesla\\tbrand\\tand\\tobtain\\trapid\\tcustomer\\tfeedback.', type='text')], file_id='file-6r4nJmfjHtHMuZG5vTyhDa', filename='tsla-20241231-gen.pdf', score=0.393693261065368)]"
      ]
     },
     "execution_count": 189,
     "metadata": {},
     "output_type": "execute_result"
    }
   ],
   "source": [
    "results.data"
   ]
  },
  {
   "cell_type": "code",
   "execution_count": null,
   "metadata": {},
   "outputs": [
    {
     "name": "stdout",
     "output_type": "stream",
     "text": [
      "The production sites and their corresponding models are as follows:\n",
      "\n",
      "- **California**: Model S, Model X, Model 3, Model Y\n",
      "- **Shanghai**: Model 3, Model Y\n",
      "- **Berlin**: Model Y\n",
      "- **Texas**: Model Y, Cybertruck\n",
      "- **Nevada**: Tesla Semi (Pilot production)\n",
      "\n",
      "Additionally, the Cybercab and Roadster are in development, with the location for Roadster production to be determined.\n"
     ]
    }
   ],
   "source": [
    "### Manual RAG\n",
    "\n",
    "context = '\\n'.join('\\n'.join(content.text for content in result.content) for result in results.data)\n",
    "\n",
    "completion = client.chat.completions.create(\n",
    "    model=\"gpt-4o\",\n",
    "    messages=[\n",
    "        {\n",
    "            \"role\": \"developer\",\n",
    "            \"content\": \"Produce a concise answer to the query based on the provided sources.\"\n",
    "        },\n",
    "        {\n",
    "            \"role\": \"user\",\n",
    "            \"content\": f\"Sources: {context}\\n\\nQuery: '{user_query}'\"\n",
    "        }\n",
    "    ],\n",
    ")\n",
    "\n",
    "print(completion.choices[0].message.content)"
   ]
  },
  {
   "cell_type": "code",
   "execution_count": 217,
   "metadata": {},
   "outputs": [],
   "source": [
    "### 5. Actually use file search in Responses API\n",
    "\n",
    "response = client.responses.create(\n",
    "    model=\"gpt-4o\",\n",
    "    temperature=0.0,\n",
    "    input=[\n",
    "        {\n",
    "            \"role\": \"developer\",\n",
    "            \"content\": \"Produce a concise answer to the query based on the available knowledge base\"\n",
    "        },\n",
    "        {\n",
    "            \"role\": \"user\",\n",
    "            \"content\": f\"Query: '{user_query}'\"\n",
    "        }\n",
    "    ],\n",
    "    tools=[{\n",
    "        \"type\": \"file_search\",\n",
    "        \"vector_store_ids\": [vector_store.id],\n",
    "        \"max_num_results\": 5\n",
    "    }],\n",
    "    #include=[\"output[*].file_search_call.search_results\"]\n",
    ")"
   ]
  },
  {
   "cell_type": "code",
   "execution_count": 223,
   "metadata": {},
   "outputs": [
    {
     "data": {
      "text/plain": [
       "{'input_tokens': 6734,\n",
       " 'output_tokens': 133,\n",
       " 'output_tokens_details': {'reasoning_tokens': 0},\n",
       " 'total_tokens': 6867,\n",
       " 'input_tokens_details': {'cached_tokens': 0}}"
      ]
     },
     "execution_count": 223,
     "metadata": {},
     "output_type": "execute_result"
    }
   ],
   "source": [
    "response.usage.model_dump()"
   ]
  },
  {
   "cell_type": "code",
   "execution_count": 218,
   "metadata": {},
   "outputs": [
    {
     "data": {
      "text/plain": [
       "[ResponseFileSearchToolCall(id='fs_67d33cb03724819298118c49eb53676a0e52104bf5e1d42e', queries=['Where are the production sites and what models are produced?'], status='completed', type='file_search_call', results=None),\n",
       " ResponseOutputMessage(id='msg_67d33cb2e48081929a617adac601355e0e52104bf5e1d42e', content=[ResponseOutputText(annotations=[AnnotationFileCitation(file_id='file-6r4nJmfjHtHMuZG5vTyhDa', index=310, type='file_citation', filename='tsla-20241231-gen.pdf')], text='The production sites and models produced are as follows:\\n\\n- **California**: Model S, Model X, Model 3, Model Y\\n- **Shanghai**: Model 3, Model Y\\n- **Berlin**: Model Y\\n- **Texas**: Model Y, Cybertruck\\n- **Nevada**: Tesla Semi (Pilot production)\\n- **TBD**: Roadster (In development)\\n- **Cybercab**: In development.', type='output_text')], role='assistant', status='completed', type='message')]"
      ]
     },
     "execution_count": 218,
     "metadata": {},
     "output_type": "execute_result"
    }
   ],
   "source": [
    "response.output"
   ]
  },
  {
   "cell_type": "code",
   "execution_count": 219,
   "metadata": {},
   "outputs": [
    {
     "data": {
      "text/plain": [
       "[AnnotationFileCitation(file_id='file-6r4nJmfjHtHMuZG5vTyhDa', index=310, type='file_citation', filename='tsla-20241231-gen.pdf')]"
      ]
     },
     "execution_count": 219,
     "metadata": {},
     "output_type": "execute_result"
    }
   ],
   "source": [
    "response.output[-1].content[0].annotations"
   ]
  },
  {
   "cell_type": "code",
   "execution_count": 220,
   "metadata": {},
   "outputs": [
    {
     "name": "stdout",
     "output_type": "stream",
     "text": [
      "The production sites and models produced are as follows:\n",
      "\n",
      "- **California**: Model S, Model X, Model 3, Model Y\n",
      "- **Shanghai**: Model 3, Model Y\n",
      "- **Berlin**: Model Y\n",
      "- **Texas**: Model Y, Cybertruck\n",
      "- **Nevada**: Tesla Semi (Pilot production)\n",
      "- **TBD**: Roadster (In development)\n",
      "- **Cybercab**: In development.\n"
     ]
    }
   ],
   "source": [
    "print(response.output[-1].content[0].text)"
   ]
  },
  {
   "cell_type": "code",
   "execution_count": null,
   "metadata": {},
   "outputs": [],
   "source": []
  },
  {
   "cell_type": "code",
   "execution_count": null,
   "metadata": {},
   "outputs": [],
   "source": []
  },
  {
   "cell_type": "markdown",
   "metadata": {},
   "source": [
    "#### Computer Use\n",
    "\n",
    "https://platform.openai.com/docs/guides/tools-computer-use"
   ]
  },
  {
   "cell_type": "code",
   "execution_count": 273,
   "metadata": {},
   "outputs": [],
   "source": [
    "import asyncio\n",
    "from playwright.async_api import async_playwright\n",
    "\n",
    "async def handle_model_action(page, action):\n",
    "    \"\"\"\n",
    "    Given a computer action (e.g., click, double_click, scroll, etc.),\n",
    "    execute the corresponding operation on the Playwright page.\n",
    "    \"\"\"\n",
    "    action_type = action.type\n",
    "    \n",
    "    try:\n",
    "        match action_type:\n",
    "\n",
    "            case \"click\":\n",
    "                x, y = action.x, action.y\n",
    "                button = action.button\n",
    "                print(f\"Action: click at ({x}, {y}) with button '{button}'\")\n",
    "                # Not handling things like middle click, etc.\n",
    "                if button != \"left\" and button != \"right\":\n",
    "                    button = \"left\"\n",
    "                await page.mouse.click(x, y, button=button)\n",
    "\n",
    "            case \"scroll\":\n",
    "                x, y = action.x, action.y\n",
    "                scroll_x, scroll_y = action.scroll_x, action.scroll_y\n",
    "                print(f\"Action: scroll at ({x}, {y}) with offsets (scroll_x={scroll_x}, scroll_y={scroll_y})\")\n",
    "                await page.mouse.move(x, y)\n",
    "                await page.evaluate(f\"window.scrollBy({scroll_x}, {scroll_y})\")\n",
    "\n",
    "            case \"keypress\":\n",
    "                keys = action.keys\n",
    "                for k in keys:\n",
    "                    print(f\"Action: keypress '{k}'\")\n",
    "                    # A simple mapping for common keys; expand as needed.\n",
    "                    if k.lower() == \"enter\":\n",
    "                        await page.keyboard.press(\"Enter\")\n",
    "                    elif k.lower() == \"space\":\n",
    "                        await page.keyboard.press(\" \")\n",
    "                    else:\n",
    "                        await page.keyboard.press(k)\n",
    "            \n",
    "            case \"type\":\n",
    "                text = action.text\n",
    "                print(f\"Action: type text: {text}\")\n",
    "                await page.keyboard.type(text)\n",
    "            \n",
    "            case \"wait\":\n",
    "                print(f\"Action: wait\")\n",
    "                await asyncio.sleep(2)\n",
    "\n",
    "            case \"screenshot\":\n",
    "                # Nothing to do as screenshot is taken at each turn\n",
    "                print(f\"Action: screenshot\")\n",
    "\n",
    "            # Handle other actions here\n",
    "\n",
    "            case _:\n",
    "                print(f\"Unrecognized action: {action}\")\n",
    "\n",
    "    except Exception as e:\n",
    "        print(f\"Error handling action {action}: {e}\")\n",
    "        \n",
    "\n",
    "async def computer_use_loop(page, response):\n",
    "    \"\"\"\n",
    "    Run the loop that executes computer actions until no 'computer_call' is found.\n",
    "    \"\"\"\n",
    "    while True:\n",
    "        computer_calls = [item for item in response.output if item.type == \"computer_call\"]\n",
    "        if not computer_calls:\n",
    "            print(\"No computer call found. Output from model:\")\n",
    "            for item in response.output:\n",
    "                print(item)\n",
    "            break  # Exit when no computer calls are issued.\n",
    "\n",
    "        # We expect at most one computer call per response.\n",
    "        computer_call = computer_calls[0]\n",
    "        last_call_id = computer_call.call_id\n",
    "        action = computer_call.action\n",
    "\n",
    "        # Execute the action (function defined in step 3)\n",
    "        await handle_model_action(page, action)\n",
    "        await asyncio.sleep(1)  # Allow time for changes to take effect.\n",
    "\n",
    "        # Take a screenshot after the action (function defined in step 4)\n",
    "        screenshot_bytes = await page.screenshot()\n",
    "        screenshot_base64 = base64.b64encode(screenshot_bytes).decode(\"utf-8\")\n",
    "\n",
    "        # Send the screenshot back as a computer_call_output\n",
    "        response = client.responses.create(\n",
    "            model=\"computer-use-preview\",\n",
    "            previous_response_id=response.id,\n",
    "            tools=[\n",
    "                {\n",
    "                    \"type\": \"computer_use_preview\",\n",
    "                    \"display_width\": 1024,\n",
    "                    \"display_height\": 768,\n",
    "                    \"environment\": \"browser\"\n",
    "                }\n",
    "            ],\n",
    "            input=[\n",
    "                {\n",
    "                    \"call_id\": last_call_id,\n",
    "                    \"type\": \"computer_call_output\",\n",
    "                    \"output\": {\n",
    "                        \"type\": \"input_image\",\n",
    "                        \"image_url\": f\"data:image/png;base64,{screenshot_base64}\"\n",
    "                    }\n",
    "                }\n",
    "            ],\n",
    "            truncation=\"auto\"\n",
    "        )\n",
    "\n",
    "    return response\n",
    "\n",
    "async def run_playwright_async(response):\n",
    "    # Start playwright asynchronously\n",
    "    async with async_playwright() as playwright:\n",
    "        # Launch browser\n",
    "        browser = await playwright.chromium.launch(headless=False)\n",
    "        page = await browser.new_page()\n",
    "        await page.set_viewport_size({\"width\": 1024, \"height\": 768})\n",
    "        await page.goto(\"https://bing.com\")\n",
    "        \n",
    "        # Run your existing computer_use_loop, but make it async\n",
    "        try:\n",
    "            await computer_use_loop(page, response)\n",
    "\n",
    "        except Exception as e:\n",
    "            print(f\"Error: {str(e)}\")\n",
    "                \n",
    "        finally:\n",
    "            await browser.close()"
   ]
  },
  {
   "cell_type": "code",
   "execution_count": 274,
   "metadata": {},
   "outputs": [],
   "source": [
    "response = client.responses.create(\n",
    "    model=\"computer-use-preview\",\n",
    "    tools=[{\n",
    "        \"type\": \"computer_use_preview\",\n",
    "        \"display_width\": 1024,\n",
    "        \"display_height\": 768,\n",
    "        \"environment\": \"browser\" # other possible values: \"mac\", \"windows\", \"ubuntu\"\n",
    "    }],\n",
    "    input=[\n",
    "        {\n",
    "            \"role\": \"system\",\n",
    "            \"content\": \"You assist users with their online browsing requests\"\n",
    "        },\n",
    "        {\n",
    "            \"role\": \"user\",\n",
    "            \"content\": \"Go to hasznaltauto.hu, look for Tesla Model 3 manufactured in or after 2020 and priced below 12m HUF.\"\n",
    "        }\n",
    "    ],\n",
    "    truncation=\"auto\"\n",
    ")"
   ]
  },
  {
   "cell_type": "code",
   "execution_count": 275,
   "metadata": {},
   "outputs": [
    {
     "name": "stdout",
     "output_type": "stream",
     "text": [
      "[ResponseComputerToolCall(id='cu_67d36c6eb4bc8192bd7a39a5a81e8def0d875e8d7246b2ee', action=ActionScreenshot(type='screenshot'), call_id='call_VZf3jFosQML8BQ4A70IsB7T3', pending_safety_checks=[], status='completed', type='computer_call')]\n"
     ]
    }
   ],
   "source": [
    "print(response.output)"
   ]
  },
  {
   "cell_type": "code",
   "execution_count": 277,
   "metadata": {},
   "outputs": [
    {
     "name": "stdout",
     "output_type": "stream",
     "text": [
      "Action: screenshot\n",
      "Error: Error code: 400 - {'error': {'message': 'Previous response cannot be used for this organization due to Zero Data Retention.', 'type': 'invalid_request_error', 'param': 'previous_response_id', 'code': 'unsupported_parameter'}}\n"
     ]
    }
   ],
   "source": [
    "await run_playwright_async(response)"
   ]
  },
  {
   "cell_type": "code",
   "execution_count": null,
   "metadata": {},
   "outputs": [],
   "source": []
  },
  {
   "cell_type": "code",
   "execution_count": null,
   "metadata": {},
   "outputs": [],
   "source": []
  },
  {
   "cell_type": "code",
   "execution_count": 57,
   "metadata": {},
   "outputs": [],
   "source": []
  },
  {
   "cell_type": "markdown",
   "metadata": {},
   "source": [
    "Takeaways:\n",
    "\n",
    "General:\n",
    "\n",
    "- system_message can be passed as `instructions` parameter or as a separate `system` message in the `input` parameter.\n",
    "- there is a `generate_summary` parameter that could be used to show concise or detailed reasoning - but does not work yet with any of the reasoning models.\n",
    "- no direct Structured Output support, but `json_schema` in `text` field works\n",
    "\n",
    "Web search:\n",
    "- for non-obvious web queries, ask in the prompt the model to cite its sources otherwise the `annotations` is empty\n",
    "- only `gpt-4o` and `gpt-4.5` support - does not run with o1 or o3-mini\n",
    "- `gpt-4.5-preview` finished in 7 minutes but with incomplete status\n",
    "- for market news search the used web sources are high quality (ft, reuters)\n",
    "- `gpt-4o` + web search tool in Responses API ~ `gpt-4o-search-preview` in Chat.Competions API\n",
    "- additional tools also can be called - citations should be enforced in the prompt\n",
    "\n",
    "File search:\n",
    "- direct retrieval is available\n",
    "- custom chunking and retrieval settings are available\n",
    "- basically native RAG\n",
    "- PDF parsing is not that good - extra tabs are inserted for an example 10K report\n",
    "- citation not that useful - what is `index`?\n"
   ]
  },
  {
   "cell_type": "code",
   "execution_count": null,
   "metadata": {},
   "outputs": [],
   "source": []
  }
 ],
 "metadata": {
  "kernelspec": {
   "display_name": "venv",
   "language": "python",
   "name": "python3"
  },
  "language_info": {
   "codemirror_mode": {
    "name": "ipython",
    "version": 3
   },
   "file_extension": ".py",
   "mimetype": "text/x-python",
   "name": "python",
   "nbconvert_exporter": "python",
   "pygments_lexer": "ipython3",
   "version": "3.13.1"
  }
 },
 "nbformat": 4,
 "nbformat_minor": 2
}
