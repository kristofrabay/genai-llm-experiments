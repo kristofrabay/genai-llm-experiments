{
 "cells": [
  {
   "cell_type": "markdown",
   "metadata": {},
   "source": [
    "## Experiment with flight data APIs\n",
    "\n",
    "Initial goal: compare deterministic optimal (cheapest) flight search to agent-driven one"
   ]
  },
  {
   "cell_type": "code",
   "execution_count": 52,
   "metadata": {},
   "outputs": [],
   "source": [
    "from utils.utils import get_flights_to_destinations, plot_price_distribution\n",
    "\n",
    "import nest_asyncio\n",
    "nest_asyncio.apply()\n",
    "\n",
    "import json\n",
    "import pandas as pd\n",
    "from datetime import datetime\n",
    "\n",
    "from dotenv import load_dotenv\n",
    "load_dotenv()\n",
    "\n",
    "from openai import AsyncOpenAI\n",
    "client = AsyncOpenAI()\n",
    "from langchain_core.utils.function_calling import convert_to_openai_tool\n",
    "\n",
    "from IPython.display import Markdown, display\n",
    "\n",
    "import warnings\n",
    "warnings.filterwarnings(\"ignore\")"
   ]
  },
  {
   "cell_type": "markdown",
   "metadata": {},
   "source": [
    "Test query with the function"
   ]
  },
  {
   "cell_type": "code",
   "execution_count": 3,
   "metadata": {},
   "outputs": [],
   "source": [
    "flights_df = get_flights_to_destinations(\n",
    "    date=\"2025-05-02\",\n",
    "    from_airport=\"EWR\",\n",
    "    to_airports=[\n",
    "        \"ORY\",  # Orly\n",
    "        \"BVA\",  # Beauvais\n",
    "        \"CDG\",  # Charles de Gaulle\n",
    "    ],\n",
    "    max_stops=1,\n",
    "    #trip=\"one-way\",\n",
    "    #passengers_adults=2,\n",
    ")"
   ]
  },
  {
   "cell_type": "code",
   "execution_count": 4,
   "metadata": {},
   "outputs": [
    {
     "data": {
      "image/png": "[encoded data removed]",
      "text/plain": [
       "<Figure size 700x400 with 1 Axes>"
      ]
     },
     "metadata": {},
     "output_type": "display_data"
    }
   ],
   "source": [
    "fig = plot_price_distribution(flights_df)"
   ]
  },
  {
   "cell_type": "code",
   "execution_count": 5,
   "metadata": {},
   "outputs": [
    {
     "data": {
      "text/html": [
       "<div>\n",
       "<style scoped>\n",
       "    .dataframe tbody tr th:only-of-type {\n",
       "        vertical-align: middle;\n",
       "    }\n",
       "\n",
       "    .dataframe tbody tr th {\n",
       "        vertical-align: top;\n",
       "    }\n",
       "\n",
       "    .dataframe thead th {\n",
       "        text-align: right;\n",
       "    }\n",
       "</style>\n",
       "<table border=\"1\" class=\"dataframe\">\n",
       "  <thead>\n",
       "    <tr style=\"text-align: right;\">\n",
       "      <th></th>\n",
       "      <th>count</th>\n",
       "    </tr>\n",
       "    <tr>\n",
       "      <th>name</th>\n",
       "      <th></th>\n",
       "    </tr>\n",
       "  </thead>\n",
       "  <tbody>\n",
       "    <tr>\n",
       "      <th>Tap Air Portugal</th>\n",
       "      <td>32</td>\n",
       "    </tr>\n",
       "    <tr>\n",
       "      <th>Delta</th>\n",
       "      <td>17</td>\n",
       "    </tr>\n",
       "    <tr>\n",
       "      <th>Delta, Air France</th>\n",
       "      <td>10</td>\n",
       "    </tr>\n",
       "    <tr>\n",
       "      <th>United, Tap Air Portugal</th>\n",
       "      <td>8</td>\n",
       "    </tr>\n",
       "    <tr>\n",
       "      <th>French bee</th>\n",
       "      <td>2</td>\n",
       "    </tr>\n",
       "    <tr>\n",
       "      <th>Self transferThis trip includes tickets from multiple airlines. Missed connections may be protected by the booking provider.</th>\n",
       "      <td>2</td>\n",
       "    </tr>\n",
       "    <tr>\n",
       "      <th>LOT</th>\n",
       "      <td>2</td>\n",
       "    </tr>\n",
       "    <tr>\n",
       "      <th>La Compagnie</th>\n",
       "      <td>2</td>\n",
       "    </tr>\n",
       "    <tr>\n",
       "      <th>Icelandair</th>\n",
       "      <td>2</td>\n",
       "    </tr>\n",
       "    <tr>\n",
       "      <th>United</th>\n",
       "      <td>2</td>\n",
       "    </tr>\n",
       "    <tr>\n",
       "      <th>Air France</th>\n",
       "      <td>1</td>\n",
       "    </tr>\n",
       "  </tbody>\n",
       "</table>\n",
       "</div>"
      ],
      "text/plain": [
       "                                                    count\n",
       "name                                                     \n",
       "Tap Air Portugal                                       32\n",
       "Delta                                                  17\n",
       "Delta, Air France                                      10\n",
       "United, Tap Air Portugal                                8\n",
       "French bee                                              2\n",
       "Self transferThis trip includes tickets from mu...      2\n",
       "LOT                                                     2\n",
       "La Compagnie                                            2\n",
       "Icelandair                                              2\n",
       "United                                                  2\n",
       "Air France                                              1"
      ]
     },
     "execution_count": 5,
     "metadata": {},
     "output_type": "execute_result"
    }
   ],
   "source": [
    "pd.DataFrame(flights_df['name'].value_counts())"
   ]
  },
  {
   "cell_type": "code",
   "execution_count": 6,
   "metadata": {},
   "outputs": [
    {
     "data": {
      "text/html": [
       "<div>\n",
       "<style scoped>\n",
       "    .dataframe tbody tr th:only-of-type {\n",
       "        vertical-align: middle;\n",
       "    }\n",
       "\n",
       "    .dataframe tbody tr th {\n",
       "        vertical-align: top;\n",
       "    }\n",
       "\n",
       "    .dataframe thead th {\n",
       "        text-align: right;\n",
       "    }\n",
       "</style>\n",
       "<table border=\"1\" class=\"dataframe\">\n",
       "  <thead>\n",
       "    <tr style=\"text-align: right;\">\n",
       "      <th></th>\n",
       "      <th>price</th>\n",
       "      <th>departure_date</th>\n",
       "      <th>departure_time</th>\n",
       "      <th>arrival_date</th>\n",
       "      <th>arrival_time</th>\n",
       "      <th>duration_hours</th>\n",
       "      <th>name</th>\n",
       "      <th>stops</th>\n",
       "      <th>is_best</th>\n",
       "      <th>price_denomination</th>\n",
       "    </tr>\n",
       "  </thead>\n",
       "  <tbody>\n",
       "    <tr>\n",
       "      <th>0</th>\n",
       "      <td>179194</td>\n",
       "      <td>2025-05-02</td>\n",
       "      <td>23:00</td>\n",
       "      <td>2025-05-03</td>\n",
       "      <td>12:15</td>\n",
       "      <td>7.250</td>\n",
       "      <td>French bee</td>\n",
       "      <td>0</td>\n",
       "      <td>True</td>\n",
       "      <td>HUF</td>\n",
       "    </tr>\n",
       "    <tr>\n",
       "      <th>1</th>\n",
       "      <td>403642</td>\n",
       "      <td>2025-05-02</td>\n",
       "      <td>20:25</td>\n",
       "      <td>2025-05-03</td>\n",
       "      <td>21:55</td>\n",
       "      <td>19.500</td>\n",
       "      <td>Self transferThis trip includes tickets from m...</td>\n",
       "      <td>1</td>\n",
       "      <td>True</td>\n",
       "      <td>HUF</td>\n",
       "    </tr>\n",
       "    <tr>\n",
       "      <th>2</th>\n",
       "      <td>601430</td>\n",
       "      <td>2025-05-02</td>\n",
       "      <td>20:20</td>\n",
       "      <td>2025-05-03</td>\n",
       "      <td>19:25</td>\n",
       "      <td>17.083</td>\n",
       "      <td>LOT</td>\n",
       "      <td>1</td>\n",
       "      <td>True</td>\n",
       "      <td>HUF</td>\n",
       "    </tr>\n",
       "  </tbody>\n",
       "</table>\n",
       "</div>"
      ],
      "text/plain": [
       "    price departure_date departure_time arrival_date arrival_time  \\\n",
       "0  179194     2025-05-02          23:00   2025-05-03        12:15   \n",
       "1  403642     2025-05-02          20:25   2025-05-03        21:55   \n",
       "2  601430     2025-05-02          20:20   2025-05-03        19:25   \n",
       "\n",
       "   duration_hours                                               name stops  \\\n",
       "0           7.250                                         French bee     0   \n",
       "1          19.500  Self transferThis trip includes tickets from m...     1   \n",
       "2          17.083                                                LOT     1   \n",
       "\n",
       "   is_best price_denomination  \n",
       "0     True                HUF  \n",
       "1     True                HUF  \n",
       "2     True                HUF  "
      ]
     },
     "execution_count": 6,
     "metadata": {},
     "output_type": "execute_result"
    }
   ],
   "source": [
    "flights_df.head(3)"
   ]
  },
  {
   "cell_type": "code",
   "execution_count": null,
   "metadata": {},
   "outputs": [],
   "source": []
  },
  {
   "cell_type": "markdown",
   "metadata": {},
   "source": [
    "### General tool-calling agent\n",
    "\n",
    "Showcasing tool calling capabilities by assigning the above function as a tool to an OpenAI model. Tool will return with the pandas under the hood, the AI will analyze the content and provide an answer"
   ]
  },
  {
   "cell_type": "markdown",
   "metadata": {},
   "source": [
    "1. Set up custom tool"
   ]
  },
  {
   "cell_type": "code",
   "execution_count": 28,
   "metadata": {},
   "outputs": [
    {
     "name": "stdout",
     "output_type": "stream",
     "text": [
      "{\n",
      "    \"type\": \"function\",\n",
      "    \"name\": \"get_flights_to_destinations\",\n",
      "    \"description\": \"Fetch flights to multiple destinations and return a combined DataFrame. Note: The fast_flights API doesn't support multiple destinations in a single call,\\nso this function makes separate API calls for each destination and combines the results.\",\n",
      "    \"parameters\": {\n",
      "        \"type\": \"object\",\n",
      "        \"properties\": {\n",
      "            \"date\": {\n",
      "                \"description\": \"Flight date in YYYY-MM-DD format\",\n",
      "                \"type\": \"string\"\n",
      "            },\n",
      "            \"from_airport\": {\n",
      "                \"description\": \"Departure airport code in IATA format (3-letter codes), such as \\\"BUD\\\"\",\n",
      "                \"type\": \"string\"\n",
      "            },\n",
      "            \"to_airports\": {\n",
      "                \"description\": \"List of destination airport codes in IATA format (3-letter codes), such as [\\\"CDG\\\", \\\"ORY\\\", \\\"BVA\\\"]\",\n",
      "                \"type\": \"array\",\n",
      "                \"items\": {\n",
      "                    \"type\": \"string\"\n",
      "                }\n",
      "            },\n",
      "            \"max_stops\": {\n",
      "                \"description\": \"Maximum number of stops (default: 0)\",\n",
      "                \"default\": 0,\n",
      "                \"type\": \"integer\"\n",
      "            }\n",
      "        },\n",
      "        \"required\": [\n",
      "            \"date\",\n",
      "            \"from_airport\",\n",
      "            \"to_airports\"\n",
      "        ]\n",
      "    }\n",
      "}\n"
     ]
    }
   ],
   "source": [
    "def convert_to_openai_tool_format(func):\n",
    "    \"\"\"\n",
    "    Convert a function to the OpenAI tool format with the correct structure.\n",
    "    \"\"\"\n",
    "    # Get the original tool definition\n",
    "    tool_def = convert_to_openai_tool(func)\n",
    "    \n",
    "    # Restructure to match the required format\n",
    "    return {\n",
    "        \"type\": \"function\",\n",
    "        \"name\": tool_def[\"function\"][\"name\"],\n",
    "        \"description\": tool_def[\"function\"][\"description\"],\n",
    "        \"parameters\": tool_def[\"function\"][\"parameters\"]\n",
    "    }\n",
    "\n",
    "get_flights = convert_to_openai_tool_format(get_flights_to_destinations)\n",
    "print(json.dumps(get_flights, indent=4))"
   ]
  },
  {
   "cell_type": "markdown",
   "metadata": {},
   "source": [
    "2. Set up OpenAI responses API wrapper"
   ]
  },
  {
   "cell_type": "code",
   "execution_count": 86,
   "metadata": {},
   "outputs": [],
   "source": [
    "system_message = \"You are a helpful personal assistant. You are able to get real-time flight information for a given destination and date. You answer users' questions about flight prices and availability.\"\n",
    "\n",
    "user_message_template = \"\"\"\n",
    "<current_datetime>\n",
    "The current date and time is {current_datetime}.\n",
    "</current_datetime>\n",
    "\n",
    "<instructions>\n",
    "Your sole purpose is to answer user's questions. You aim to be informative and helpful, providing concise but complete answers. The user may ask you any questions. For general questions, use your own knowledge. For flight information, use the available tools.\n",
    "</instructions>\n",
    "\n",
    "<user_question>\n",
    "{question}\n",
    "</user_question>\n",
    "\"\"\"\n",
    "\n",
    "async def ai(question: str, tools=[get_flights], stream=False, model=\"gpt-4.1\"):\n",
    "\n",
    "    current_datetime = datetime.now().strftime('%Y-%m-%d %H:%M')\n",
    "    \n",
    "    if stream:\n",
    "        # Streaming\n",
    "        stream_response = await client.responses.create(\n",
    "            model=model,\n",
    "            input=[\n",
    "                {\"role\": \"system\", \"content\": system_message},\n",
    "                {\n",
    "                    \"role\": \"user\", \n",
    "                    \"content\": user_message_template.format(\n",
    "                        question=question, \n",
    "                        current_datetime=current_datetime\n",
    "                        )        \n",
    "                },\n",
    "            ],\n",
    "            tools=tools,\n",
    "            stream=True,\n",
    "        )\n",
    "\n",
    "        text_chunks = []\n",
    "        md_display = display(Markdown(\"\"), display_id=True)\n",
    "\n",
    "        async for event in stream_response:\n",
    "            #if hasattr(event, \"type\") and \"text.delta\" in event.type:\n",
    "            #    text_chunks.append(event.delta)\n",
    "            #    #print(event.delta, end=\"\", flush=True)\n",
    "            #    md_display.update(Markdown(\"\".join(text_chunks)))\n",
    "            #print(event)\n",
    "            text_chunks.append(event)\n",
    "        \n",
    "        return text_chunks[-1].response #\"\".join(text_chunks)\n",
    "    \n",
    "    else:\n",
    "        response = await client.responses.create(\n",
    "            model=model,\n",
    "            input=[\n",
    "                {\"role\": \"system\", \"content\": system_message},\n",
    "                {\n",
    "                    \"role\": \"user\", \n",
    "                    \"content\": user_message_template.format(\n",
    "                        question=question, \n",
    "                        current_datetime=current_datetime\n",
    "                        )        \n",
    "                },\n",
    "            ],\n",
    "            tools=tools,\n",
    "        )\n",
    "\n",
    "        return response#.output_text"
   ]
  },
  {
   "cell_type": "markdown",
   "metadata": {},
   "source": [
    "Simple test"
   ]
  },
  {
   "cell_type": "code",
   "execution_count": 59,
   "metadata": {},
   "outputs": [
    {
     "data": {
      "text/markdown": [
       "The difference between declarative and imperative generally refers to two different approaches to programming and problem-solving:\n",
       "\n",
       "**Imperative:**\n",
       "- You tell the system exactly how to do something, step-by-step.\n",
       "- Focuses on *how* the task should be accomplished.\n",
       "- The code describes the control flow (the steps to achieve the result).\n",
       "- Examples: C, Java (traditional usage), Python (when used with loops and explicit assignments).\n",
       "- Example code (imperative way to sum numbers in an array):\n",
       "\n",
       "  ```python\n",
       "  total = 0\n",
       "  for num in numbers:\n",
       "      total += num\n",
       "  ```\n",
       "\n",
       "**Declarative:**\n",
       "- You tell the system *what* you want, not *how* to do it.\n",
       "- Focuses on describing the desired result.\n",
       "- The code expresses the logic of computation without describing its control flow.\n",
       "- Examples: SQL, HTML, React (to some extent), functional programming (like Haskell).\n",
       "- Example code (declarative way to sum numbers in an array):\n",
       "\n",
       "  ```python\n",
       "  total = sum(numbers)\n",
       "  ```\n",
       "\n",
       "**Summary:**  \n",
       "- Imperative: How to do it (explicit instructions).\n",
       "- Declarative: What you want (specify result, not process)."
      ],
      "text/plain": [
       "<IPython.core.display.Markdown object>"
      ]
     },
     "metadata": {},
     "output_type": "display_data"
    }
   ],
   "source": [
    "q = 'what is the difference between declarative and imperative?'\n",
    "a = await ai(q, stream=True)"
   ]
  },
  {
   "cell_type": "code",
   "execution_count": 63,
   "metadata": {},
   "outputs": [],
   "source": [
    "#display(Markdown(a))"
   ]
  },
  {
   "cell_type": "markdown",
   "metadata": {},
   "source": [
    "Test with flight related question"
   ]
  },
  {
   "cell_type": "code",
   "execution_count": 91,
   "metadata": {},
   "outputs": [
    {
     "data": {
      "text/markdown": [],
      "text/plain": [
       "<IPython.core.display.Markdown object>"
      ]
     },
     "metadata": {},
     "output_type": "display_data"
    }
   ],
   "source": [
    "q = 'How much would it cost to fly from Budapest to London on 2025-04-25?'\n",
    "a = await ai(q, stream=True)"
   ]
  },
  {
   "cell_type": "code",
   "execution_count": 92,
   "metadata": {},
   "outputs": [
    {
     "data": {
      "text/plain": [
       "{'id': 'fc_68057dab715c819280f0efab03046b6609e9b37c3fbd086a',\n",
       " 'arguments': '{\"date\":\"2025-04-25\",\"from_airport\":\"BUD\",\"to_airports\":[\"LHR\",\"LGW\",\"LTN\",\"STN\",\"LCY\"]}',\n",
       " 'call_id': 'call_AEJTQMEXbe22QYrk3dyCz1I1',\n",
       " 'name': 'get_flights_to_destinations',\n",
       " 'type': 'function_call',\n",
       " 'status': 'completed'}"
      ]
     },
     "execution_count": 92,
     "metadata": {},
     "output_type": "execute_result"
    }
   ],
   "source": [
    "a.output[0].__dict__"
   ]
  },
  {
   "cell_type": "code",
   "execution_count": null,
   "metadata": {},
   "outputs": [],
   "source": []
  }
 ],
 "metadata": {
  "kernelspec": {
   "display_name": "venv",
   "language": "python",
   "name": "python3"
  },
  "language_info": {
   "codemirror_mode": {
    "name": "ipython",
    "version": 3
   },
   "file_extension": ".py",
   "mimetype": "text/x-python",
   "name": "python",
   "nbconvert_exporter": "python",
   "pygments_lexer": "ipython3",
   "version": "3.13.2"
  }
 },
 "nbformat": 4,
 "nbformat_minor": 2
}
