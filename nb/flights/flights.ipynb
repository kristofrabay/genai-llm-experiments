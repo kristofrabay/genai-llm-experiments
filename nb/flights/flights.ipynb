{
 "cells": [
  {
   "cell_type": "markdown",
   "metadata": {},
   "source": [
    "## Experiment with flight data APIs\n",
    "\n",
    "Initial goal: compare deterministic optimal (cheapest) flight search to agent-driven one"
   ]
  },
  {
   "cell_type": "code",
   "execution_count": 1,
   "metadata": {},
   "outputs": [],
   "source": [
    "from utils.utils import get_flights_to_destinations, plot_price_distribution\n",
    "\n",
    "import nest_asyncio\n",
    "nest_asyncio.apply()\n",
    "\n",
    "import json\n",
    "import pandas as pd\n",
    "from datetime import datetime\n",
    "\n",
    "from dotenv import load_dotenv\n",
    "load_dotenv()\n",
    "\n",
    "from openai import AsyncOpenAI\n",
    "client = AsyncOpenAI()\n",
    "from agents import Agent, Runner, ModelSettings, WebSearchTool\n",
    "\n",
    "from IPython.display import Markdown, display\n",
    "\n",
    "import warnings\n",
    "warnings.filterwarnings(\"ignore\")"
   ]
  },
  {
   "cell_type": "markdown",
   "metadata": {},
   "source": [
    "Test query with the function"
   ]
  },
  {
   "cell_type": "code",
   "execution_count": 2,
   "metadata": {},
   "outputs": [],
   "source": [
    "flights_df = get_flights_to_destinations(\n",
    "    date=\"2025-05-02\",\n",
    "    from_airport=\"EWR\",\n",
    "    to_airports=[\n",
    "        \"ORY\",  # Orly\n",
    "        \"CDG\",  # Charles de Gaulle\n",
    "    ],\n",
    "    max_stops=1,\n",
    "    #trip=\"one-way\",\n",
    "    #passengers_adults=2,\n",
    ")"
   ]
  },
  {
   "cell_type": "code",
   "execution_count": 3,
   "metadata": {},
   "outputs": [
    {
     "data": {
      "image/png": "[encoded data removed]",
      "text/plain": [
       "<Figure size 700x400 with 1 Axes>"
      ]
     },
     "metadata": {},
     "output_type": "display_data"
    }
   ],
   "source": [
    "fig = plot_price_distribution(flights_df)"
   ]
  },
  {
   "cell_type": "code",
   "execution_count": 4,
   "metadata": {},
   "outputs": [
    {
     "data": {
      "text/html": [
       "<div>\n",
       "<style scoped>\n",
       "    .dataframe tbody tr th:only-of-type {\n",
       "        vertical-align: middle;\n",
       "    }\n",
       "\n",
       "    .dataframe tbody tr th {\n",
       "        vertical-align: top;\n",
       "    }\n",
       "\n",
       "    .dataframe thead th {\n",
       "        text-align: right;\n",
       "    }\n",
       "</style>\n",
       "<table border=\"1\" class=\"dataframe\">\n",
       "  <thead>\n",
       "    <tr style=\"text-align: right;\">\n",
       "      <th></th>\n",
       "      <th>count</th>\n",
       "    </tr>\n",
       "    <tr>\n",
       "      <th>name</th>\n",
       "      <th></th>\n",
       "    </tr>\n",
       "  </thead>\n",
       "  <tbody>\n",
       "    <tr>\n",
       "      <th>Tap Air Portugal</th>\n",
       "      <td>32</td>\n",
       "    </tr>\n",
       "    <tr>\n",
       "      <th>Delta</th>\n",
       "      <td>19</td>\n",
       "    </tr>\n",
       "    <tr>\n",
       "      <th>Delta, Air France</th>\n",
       "      <td>13</td>\n",
       "    </tr>\n",
       "    <tr>\n",
       "      <th>United</th>\n",
       "      <td>11</td>\n",
       "    </tr>\n",
       "    <tr>\n",
       "      <th>United, Tap Air Portugal</th>\n",
       "      <td>8</td>\n",
       "    </tr>\n",
       "    <tr>\n",
       "      <th>British Airways</th>\n",
       "      <td>6</td>\n",
       "    </tr>\n",
       "    <tr>\n",
       "      <th>Air Canada</th>\n",
       "      <td>6</td>\n",
       "    </tr>\n",
       "    <tr>\n",
       "      <th>Lufthansa</th>\n",
       "      <td>5</td>\n",
       "    </tr>\n",
       "    <tr>\n",
       "      <th>Turkish Airlines</th>\n",
       "      <td>5</td>\n",
       "    </tr>\n",
       "    <tr>\n",
       "      <th>United, Lufthansa</th>\n",
       "      <td>4</td>\n",
       "    </tr>\n",
       "    <tr>\n",
       "      <th>Scandinavian Airlines</th>\n",
       "      <td>4</td>\n",
       "    </tr>\n",
       "    <tr>\n",
       "      <th>Aer Lingus</th>\n",
       "      <td>4</td>\n",
       "    </tr>\n",
       "    <tr>\n",
       "      <th>Porter Airlines, Air Transat</th>\n",
       "      <td>3</td>\n",
       "    </tr>\n",
       "    <tr>\n",
       "      <th>Austrian</th>\n",
       "      <td>3</td>\n",
       "    </tr>\n",
       "    <tr>\n",
       "      <th>Scandinavian Airlines, Air France</th>\n",
       "      <td>3</td>\n",
       "    </tr>\n",
       "    <tr>\n",
       "      <th>SWISS</th>\n",
       "      <td>3</td>\n",
       "    </tr>\n",
       "    <tr>\n",
       "      <th>Icelandair</th>\n",
       "      <td>3</td>\n",
       "    </tr>\n",
       "    <tr>\n",
       "      <th>Self transferThis trip includes tickets from multiple airlines. Missed connections may be protected by the booking provider.</th>\n",
       "      <td>2</td>\n",
       "    </tr>\n",
       "    <tr>\n",
       "      <th>American</th>\n",
       "      <td>2</td>\n",
       "    </tr>\n",
       "    <tr>\n",
       "      <th>United, SWISS</th>\n",
       "      <td>2</td>\n",
       "    </tr>\n",
       "    <tr>\n",
       "      <th>La Compagnie</th>\n",
       "      <td>2</td>\n",
       "    </tr>\n",
       "    <tr>\n",
       "      <th>LOT</th>\n",
       "      <td>2</td>\n",
       "    </tr>\n",
       "    <tr>\n",
       "      <th>French bee</th>\n",
       "      <td>2</td>\n",
       "    </tr>\n",
       "    <tr>\n",
       "      <th>Lufthansa, Lufthansa City Airlines</th>\n",
       "      <td>1</td>\n",
       "    </tr>\n",
       "    <tr>\n",
       "      <th>United, ITA</th>\n",
       "      <td>1</td>\n",
       "    </tr>\n",
       "    <tr>\n",
       "      <th>United, Brussels Airlines</th>\n",
       "      <td>1</td>\n",
       "    </tr>\n",
       "    <tr>\n",
       "      <th>Emirates, Aegean</th>\n",
       "      <td>1</td>\n",
       "    </tr>\n",
       "    <tr>\n",
       "      <th>Air France</th>\n",
       "      <td>1</td>\n",
       "    </tr>\n",
       "  </tbody>\n",
       "</table>\n",
       "</div>"
      ],
      "text/plain": [
       "                                                    count\n",
       "name                                                     \n",
       "Tap Air Portugal                                       32\n",
       "Delta                                                  19\n",
       "Delta, Air France                                      13\n",
       "United                                                 11\n",
       "United, Tap Air Portugal                                8\n",
       "British Airways                                         6\n",
       "Air Canada                                              6\n",
       "Lufthansa                                               5\n",
       "Turkish Airlines                                        5\n",
       "United, Lufthansa                                       4\n",
       "Scandinavian Airlines                                   4\n",
       "Aer Lingus                                              4\n",
       "Porter Airlines, Air Transat                            3\n",
       "Austrian                                                3\n",
       "Scandinavian Airlines, Air France                       3\n",
       "SWISS                                                   3\n",
       "Icelandair                                              3\n",
       "Self transferThis trip includes tickets from mu...      2\n",
       "American                                                2\n",
       "United, SWISS                                           2\n",
       "La Compagnie                                            2\n",
       "LOT                                                     2\n",
       "French bee                                              2\n",
       "Lufthansa, Lufthansa City Airlines                      1\n",
       "United, ITA                                             1\n",
       "United, Brussels Airlines                               1\n",
       "Emirates, Aegean                                        1\n",
       "Air France                                              1"
      ]
     },
     "execution_count": 4,
     "metadata": {},
     "output_type": "execute_result"
    }
   ],
   "source": [
    "pd.DataFrame(flights_df['name'].value_counts())"
   ]
  },
  {
   "cell_type": "code",
   "execution_count": 5,
   "metadata": {},
   "outputs": [
    {
     "data": {
      "text/html": [
       "<div>\n",
       "<style scoped>\n",
       "    .dataframe tbody tr th:only-of-type {\n",
       "        vertical-align: middle;\n",
       "    }\n",
       "\n",
       "    .dataframe tbody tr th {\n",
       "        vertical-align: top;\n",
       "    }\n",
       "\n",
       "    .dataframe thead th {\n",
       "        text-align: right;\n",
       "    }\n",
       "</style>\n",
       "<table border=\"1\" class=\"dataframe\">\n",
       "  <thead>\n",
       "    <tr style=\"text-align: right;\">\n",
       "      <th></th>\n",
       "      <th>price</th>\n",
       "      <th>departure_date</th>\n",
       "      <th>departure_time</th>\n",
       "      <th>arrival_date</th>\n",
       "      <th>arrival_time</th>\n",
       "      <th>duration_hours</th>\n",
       "      <th>name</th>\n",
       "      <th>stops</th>\n",
       "      <th>is_best</th>\n",
       "      <th>price_denomination</th>\n",
       "    </tr>\n",
       "  </thead>\n",
       "  <tbody>\n",
       "    <tr>\n",
       "      <th>0</th>\n",
       "      <td>179194</td>\n",
       "      <td>2025-05-02</td>\n",
       "      <td>23:00</td>\n",
       "      <td>2025-05-03</td>\n",
       "      <td>12:15</td>\n",
       "      <td>7.250</td>\n",
       "      <td>French bee</td>\n",
       "      <td>0</td>\n",
       "      <td>True</td>\n",
       "      <td>HUF</td>\n",
       "    </tr>\n",
       "    <tr>\n",
       "      <th>1</th>\n",
       "      <td>403785</td>\n",
       "      <td>2025-05-02</td>\n",
       "      <td>20:25</td>\n",
       "      <td>2025-05-03</td>\n",
       "      <td>21:55</td>\n",
       "      <td>19.500</td>\n",
       "      <td>Self transferThis trip includes tickets from m...</td>\n",
       "      <td>1</td>\n",
       "      <td>True</td>\n",
       "      <td>HUF</td>\n",
       "    </tr>\n",
       "    <tr>\n",
       "      <th>2</th>\n",
       "      <td>601430</td>\n",
       "      <td>2025-05-02</td>\n",
       "      <td>20:20</td>\n",
       "      <td>2025-05-03</td>\n",
       "      <td>19:25</td>\n",
       "      <td>17.083</td>\n",
       "      <td>LOT</td>\n",
       "      <td>1</td>\n",
       "      <td>True</td>\n",
       "      <td>HUF</td>\n",
       "    </tr>\n",
       "  </tbody>\n",
       "</table>\n",
       "</div>"
      ],
      "text/plain": [
       "    price departure_date departure_time arrival_date arrival_time  \\\n",
       "0  179194     2025-05-02          23:00   2025-05-03        12:15   \n",
       "1  403785     2025-05-02          20:25   2025-05-03        21:55   \n",
       "2  601430     2025-05-02          20:20   2025-05-03        19:25   \n",
       "\n",
       "   duration_hours                                               name stops  \\\n",
       "0           7.250                                         French bee     0   \n",
       "1          19.500  Self transferThis trip includes tickets from m...     1   \n",
       "2          17.083                                                LOT     1   \n",
       "\n",
       "   is_best price_denomination  \n",
       "0     True                HUF  \n",
       "1     True                HUF  \n",
       "2     True                HUF  "
      ]
     },
     "execution_count": 5,
     "metadata": {},
     "output_type": "execute_result"
    }
   ],
   "source": [
    "flights_df.head(3)"
   ]
  },
  {
   "cell_type": "code",
   "execution_count": null,
   "metadata": {},
   "outputs": [],
   "source": []
  },
  {
   "cell_type": "markdown",
   "metadata": {},
   "source": [
    "### General tool-calling agent\n",
    "\n",
    "Showcasing tool calling capabilities by assigning the above function as a tool to an OpenAI model. Tool will return with the pandas under the hood, the AI will analyze the content and provide an answer"
   ]
  },
  {
   "cell_type": "markdown",
   "metadata": {},
   "source": [
    "1. Set up custom tool"
   ]
  },
  {
   "cell_type": "code",
   "execution_count": 2,
   "metadata": {},
   "outputs": [],
   "source": [
    "from utils.utils import get_flights_to_destinations_tool"
   ]
  },
  {
   "cell_type": "markdown",
   "metadata": {},
   "source": [
    "2. Set up OpenAI responses API wrapper"
   ]
  },
  {
   "cell_type": "code",
   "execution_count": 29,
   "metadata": {},
   "outputs": [],
   "source": [
    "system_message = \"You are a helpful personal assistant. You are able to get real-time flight information for a given destination and date. You answer users' questions about flight prices and availability.\"\n",
    "\n",
    "user_message_template = \"\"\"\n",
    "<current_datetime>\n",
    "The current date and time is {current_datetime}.\n",
    "</current_datetime>\n",
    "\n",
    "<instructions>\n",
    "Your sole purpose is to answer user's questions. You aim to be informative and helpful, providing concise but complete answers. The user may ask you any questions. For general questions, use your own knowledge. For flight information, use the available tools.\n",
    "\n",
    "When answering about flights, be thorough in your response. Include information about the price distribution, offer a few different options across various airlines and times, and highlight the best deal based on price and convenience. Mention both the cheapest options and any premium alternatives that might provide better value.\n",
    "</instructions>\n",
    "\n",
    "<user_question>\n",
    "{question}\n",
    "</user_question>\n",
    "\"\"\"\n",
    "\n",
    "async def ai(question: str, tools=[get_flights_to_destinations_tool], stream=False, model=\"gpt-4.1\"):\n",
    "    \n",
    "    current_datetime = datetime.now().strftime('%Y-%m-%d %H:%M')\n",
    "    \n",
    "    agent = Agent(\n",
    "        name=\"Flight Assistant\",\n",
    "        instructions=system_message,\n",
    "        model=model,\n",
    "        tools=tools,\n",
    "    )\n",
    "    \n",
    "    formatted_question = user_message_template.format(\n",
    "        question=question,\n",
    "        current_datetime=current_datetime\n",
    "    )\n",
    "    \n",
    "    if stream:\n",
    "        result = await Runner.run(agent, formatted_question)\n",
    "        return result\n",
    "    else:\n",
    "        result = await Runner.run(agent, formatted_question)\n",
    "        return result"
   ]
  },
  {
   "cell_type": "markdown",
   "metadata": {},
   "source": [
    "Simple test"
   ]
  },
  {
   "cell_type": "code",
   "execution_count": 17,
   "metadata": {},
   "outputs": [],
   "source": [
    "q = 'what is the difference between declarative and imperative?'\n",
    "a = await ai(q, stream=True)"
   ]
  },
  {
   "cell_type": "code",
   "execution_count": 18,
   "metadata": {},
   "outputs": [
    {
     "data": {
      "text/markdown": [
       "The difference between declarative and imperative refers to two different styles of expressing instructions or logic, especially in programming, but also in other contexts like language and logic:\n",
       "\n",
       "**Imperative:**\n",
       "- Describes how to do something, step by step.\n",
       "- Focuses on the process and control flow.\n",
       "- Gives explicit commands for every action needed to reach the goal.\n",
       "- Example (in programming):  \n",
       "  ```\n",
       "  let sum = 0;\n",
       "  for (let i = 1; i <= 100; i++) {\n",
       "      sum += i;\n",
       "  }\n",
       "  ```\n",
       "  (You are telling the computer exactly how to sum numbers from 1 to 100.)\n",
       "\n",
       "**Declarative:**\n",
       "- Describes what you want to achieve, without necessarily detailing how to do it.\n",
       "- Focuses on the outcome.\n",
       "- Lets the underlying system figure out the steps to reach the desired result.\n",
       "- Example (in programming):  \n",
       "  ```\n",
       "  sum = sum(1..100)\n",
       "  ```\n",
       "  (You declare that you want the sum of numbers from 1 to 100, but don’t specify how to iterate.)\n",
       "\n",
       "**Summary:**  \n",
       "Imperative tells \"how\" to do it (gives instructions step by step), while declarative tells \"what\" to do (states the desired result)."
      ],
      "text/plain": [
       "<IPython.core.display.Markdown object>"
      ]
     },
     "metadata": {},
     "output_type": "display_data"
    }
   ],
   "source": [
    "display(Markdown(a.final_output))"
   ]
  },
  {
   "cell_type": "code",
   "execution_count": null,
   "metadata": {},
   "outputs": [],
   "source": []
  },
  {
   "cell_type": "markdown",
   "metadata": {},
   "source": [
    "Test with flight related question"
   ]
  },
  {
   "cell_type": "code",
   "execution_count": 30,
   "metadata": {},
   "outputs": [],
   "source": [
    "q = 'How much would it cost to fly from Budapest to London on 2025-04-25?'\n",
    "a = await ai(q, stream=True)"
   ]
  },
  {
   "cell_type": "code",
   "execution_count": 31,
   "metadata": {},
   "outputs": [
    {
     "data": {
      "text/markdown": [
       "Here are the flight options from Budapest (BUD) to London on 2025-04-25:\n",
       "\n",
       "### Cheapest Options (All Prices in HUF)\n",
       "- Ryanair: from 60,644 HUF\n",
       "  - Departure: 05:45 | Arrival: 07:20 | Duration: 2h 35m\n",
       "  - Other Ryanair options: 09:50 (arr. 11:25), 15:15 (arr. 16:50), 22:40 (arr. 00:15 next day)\n",
       "\n",
       "- Wizz Air: from 75,960 HUF\n",
       "  - Departure: 06:00 | Arrival: 07:45 | Duration: 2h 45m\n",
       "  - Other Wizz Air options: 08:40, 13:15, 17:00, 16:45\n",
       "\n",
       "- easyJet: 107,700 HUF\n",
       "  - Departure: 21:05 | Arrival: 22:45 | Duration: 2h 40m\n",
       "\n",
       "### Premium Options\n",
       "- British Airways: from 251,200 HUF\n",
       "  - Departure: 12:55 | Arrival: 14:40 | Duration: 2h 45m\n",
       "  - Other BA options: 14:55, 17:45, 07:10\n",
       "\n",
       "### Price Distribution\n",
       "- Ultra low-cost (Ryanair, Wizz Air): 60,644–120,518 HUF\n",
       "- Standard/Legacy (British Airways): 251,200–526,000 HUF\n",
       "\n",
       "### Recommendations\n",
       "\n",
       "- Best value (cheapest): Ryanair departing 05:45, 60,644 HUF—direct, early morning.\n",
       "- Most convenient (premium): British Airways at midday (12:55), 251,200 HUF—direct, full-service airline.\n",
       "\n",
       "If you want something in between (later time but still low cost), look at Wizz Air’s 17:00 flight for 76,580 HUF.\n",
       "\n",
       "Let me know if you have a preferred time, airline, or want details on baggage, return flights, or airport options!"
      ],
      "text/plain": [
       "<IPython.core.display.Markdown object>"
      ]
     },
     "metadata": {},
     "output_type": "display_data"
    }
   ],
   "source": [
    "display(Markdown(a.final_output))"
   ]
  },
  {
   "cell_type": "code",
   "execution_count": 32,
   "metadata": {},
   "outputs": [
    {
     "data": {
      "text/plain": [
       "[ToolCallItem(agent=Agent(name='Flight Assistant', instructions=\"You are a helpful personal assistant. You are able to get real-time flight information for a given destination and date. You answer users' questions about flight prices and availability.\", handoff_description=None, handoffs=[], model='gpt-4.1', model_settings=ModelSettings(temperature=None, top_p=None, frequency_penalty=None, presence_penalty=None, tool_choice=None, parallel_tool_calls=False, truncation=None, max_tokens=None), tools=[FunctionTool(name='get_flights_to_destinations_tool', description=\"Fetch flights to multiple destinations and return a combined DataFrame.\\n\\nNote: The fast_flights API doesn't support multiple destinations in a single call,\\nso this function makes separate API calls for each destination and combines the results.\", params_json_schema={'properties': {'date': {'description': 'Flight date in YYYY-MM-DD format', 'title': 'Date', 'type': 'string'}, 'from_airport': {'description': 'Departure airport code in IATA format (3-letter codes), such as \"BUD\"', 'title': 'From Airport', 'type': 'string'}, 'to_airports': {'description': 'List of destination airport codes in IATA format (3-letter codes), such as [\"CDG\", \"ORY\", \"BVA\"]', 'items': {'type': 'string'}, 'title': 'To Airports', 'type': 'array'}, 'max_stops': {'description': 'Maximum number of stops (default: 0)', 'title': 'Max Stops', 'type': 'integer'}}, 'required': ['date', 'from_airport', 'to_airports', 'max_stops'], 'title': 'get_flights_to_destinations_tool_args', 'type': 'object', 'additionalProperties': False}, on_invoke_tool=<function function_tool.<locals>._create_function_tool.<locals>._on_invoke_tool at 0x12dffdd00>, strict_json_schema=True)], input_guardrails=[], output_guardrails=[], output_type=None, hooks=None), raw_item=ResponseFunctionToolCall(id='fc_6805845ab98881928f0064c17e3b93bf066620510e0f31e1', arguments='{\"date\":\"2025-04-25\",\"from_airport\":\"BUD\",\"to_airports\":[\"LHR\",\"LGW\",\"LTN\",\"STN\",\"LCY\"],\"max_stops\":0}', call_id='call_bPRXHXpgFfTgU0CEqml0J5wH', name='get_flights_to_destinations_tool', type='function_call', status='completed'), type='tool_call_item'),\n",
       " ToolCallOutputItem(agent=Agent(name='Flight Assistant', instructions=\"You are a helpful personal assistant. You are able to get real-time flight information for a given destination and date. You answer users' questions about flight prices and availability.\", handoff_description=None, handoffs=[], model='gpt-4.1', model_settings=ModelSettings(temperature=None, top_p=None, frequency_penalty=None, presence_penalty=None, tool_choice=None, parallel_tool_calls=False, truncation=None, max_tokens=None), tools=[FunctionTool(name='get_flights_to_destinations_tool', description=\"Fetch flights to multiple destinations and return a combined DataFrame.\\n\\nNote: The fast_flights API doesn't support multiple destinations in a single call,\\nso this function makes separate API calls for each destination and combines the results.\", params_json_schema={'properties': {'date': {'description': 'Flight date in YYYY-MM-DD format', 'title': 'Date', 'type': 'string'}, 'from_airport': {'description': 'Departure airport code in IATA format (3-letter codes), such as \"BUD\"', 'title': 'From Airport', 'type': 'string'}, 'to_airports': {'description': 'List of destination airport codes in IATA format (3-letter codes), such as [\"CDG\", \"ORY\", \"BVA\"]', 'items': {'type': 'string'}, 'title': 'To Airports', 'type': 'array'}, 'max_stops': {'description': 'Maximum number of stops (default: 0)', 'title': 'Max Stops', 'type': 'integer'}}, 'required': ['date', 'from_airport', 'to_airports', 'max_stops'], 'title': 'get_flights_to_destinations_tool_args', 'type': 'object', 'additionalProperties': False}, on_invoke_tool=<function function_tool.<locals>._create_function_tool.<locals>._on_invoke_tool at 0x12dffdd00>, strict_json_schema=True)], input_guardrails=[], output_guardrails=[], output_type=None, hooks=None), raw_item={'call_id': 'call_bPRXHXpgFfTgU0CEqml0J5wH', 'output': '     price departure_date departure_time arrival_date arrival_time  \\\\\\n0   251200     2025-04-25          12:55   2025-04-25        14:40   \\n1   251200     2025-04-25          17:45   2025-04-25        19:25   \\n2   404200     2025-04-25          14:55   2025-04-25        16:40   \\n3   526000     2025-04-25          07:10   2025-04-25        09:00   \\n4   251200     2025-04-25          12:55   2025-04-25        14:40   \\n5   251200     2025-04-25          17:45   2025-04-25        19:25   \\n6   404200     2025-04-25          14:55   2025-04-25        16:40   \\n7    84946     2025-04-25          08:40   2025-04-25        10:30   \\n8   106182     2025-04-25          16:45   2025-04-25        18:35   \\n9   107700     2025-04-25          21:05   2025-04-25        22:45   \\n10   84946     2025-04-25          08:40   2025-04-25        10:30   \\n11  106182     2025-04-25          16:45   2025-04-25        18:35   \\n12   75960     2025-04-25          06:00   2025-04-25        07:45   \\n13   76580     2025-04-25          17:00   2025-04-25        18:45   \\n14   84946     2025-04-25          13:15   2025-04-25        15:00   \\n15   75960     2025-04-25          06:00   2025-04-25        07:45   \\n16   76580     2025-04-25          17:00   2025-04-25        18:45   \\n17   60644     2025-04-25          05:45   2025-04-25        07:20   \\n18   90798     2025-04-25          09:50   2025-04-25        11:25   \\n19  120518     2025-04-25          15:15   2025-04-25        16:50   \\n20  120518     2025-04-25          22:40   2025-04-26        00:15   \\n21   60644     2025-04-25          05:45   2025-04-25        07:20   \\n22   90798     2025-04-25          09:50   2025-04-25        11:25   \\n23  120518     2025-04-25          15:15   2025-04-25        16:50   \\n\\n    duration_hours             name  stops  is_best price_denomination  \\n0            2.750  British Airways      0     True                HUF  \\n1            2.667  British Airways      0     True                HUF  \\n2            2.750  British Airways      0     True                HUF  \\n3            2.833  British Airways      0     True                HUF  \\n4            2.750  British Airways      0    False                HUF  \\n5            2.667  British Airways      0    False                HUF  \\n6            2.750  British Airways      0    False                HUF  \\n7            2.833         Wizz Air      0     True                HUF  \\n8            2.833         Wizz Air      0     True                HUF  \\n9            2.667          easyJet      0     True                HUF  \\n10           2.833         Wizz Air      0    False                HUF  \\n11           2.833         Wizz Air      0    False                HUF  \\n12           2.750         Wizz Air      0     True                HUF  \\n13           2.750         Wizz Air      0     True                HUF  \\n14           2.750         Wizz Air      0     True                HUF  \\n15           2.750         Wizz Air      0    False                HUF  \\n16           2.750         Wizz Air      0    False                HUF  \\n17           2.583          Ryanair      0     True                HUF  \\n18           2.583          Ryanair      0     True                HUF  \\n19           2.583          Ryanair      0     True                HUF  \\n20           2.583          Ryanair      0     True                HUF  \\n21           2.583          Ryanair      0    False                HUF  \\n22           2.583          Ryanair      0    False                HUF  \\n23           2.583          Ryanair      0    False                HUF  ', 'type': 'function_call_output'}, output='     price departure_date departure_time arrival_date arrival_time  \\\\\\n0   251200     2025-04-25          12:55   2025-04-25        14:40   \\n1   251200     2025-04-25          17:45   2025-04-25        19:25   \\n2   404200     2025-04-25          14:55   2025-04-25        16:40   \\n3   526000     2025-04-25          07:10   2025-04-25        09:00   \\n4   251200     2025-04-25          12:55   2025-04-25        14:40   \\n5   251200     2025-04-25          17:45   2025-04-25        19:25   \\n6   404200     2025-04-25          14:55   2025-04-25        16:40   \\n7    84946     2025-04-25          08:40   2025-04-25        10:30   \\n8   106182     2025-04-25          16:45   2025-04-25        18:35   \\n9   107700     2025-04-25          21:05   2025-04-25        22:45   \\n10   84946     2025-04-25          08:40   2025-04-25        10:30   \\n11  106182     2025-04-25          16:45   2025-04-25        18:35   \\n12   75960     2025-04-25          06:00   2025-04-25        07:45   \\n13   76580     2025-04-25          17:00   2025-04-25        18:45   \\n14   84946     2025-04-25          13:15   2025-04-25        15:00   \\n15   75960     2025-04-25          06:00   2025-04-25        07:45   \\n16   76580     2025-04-25          17:00   2025-04-25        18:45   \\n17   60644     2025-04-25          05:45   2025-04-25        07:20   \\n18   90798     2025-04-25          09:50   2025-04-25        11:25   \\n19  120518     2025-04-25          15:15   2025-04-25        16:50   \\n20  120518     2025-04-25          22:40   2025-04-26        00:15   \\n21   60644     2025-04-25          05:45   2025-04-25        07:20   \\n22   90798     2025-04-25          09:50   2025-04-25        11:25   \\n23  120518     2025-04-25          15:15   2025-04-25        16:50   \\n\\n    duration_hours             name  stops  is_best price_denomination  \\n0            2.750  British Airways      0     True                HUF  \\n1            2.667  British Airways      0     True                HUF  \\n2            2.750  British Airways      0     True                HUF  \\n3            2.833  British Airways      0     True                HUF  \\n4            2.750  British Airways      0    False                HUF  \\n5            2.667  British Airways      0    False                HUF  \\n6            2.750  British Airways      0    False                HUF  \\n7            2.833         Wizz Air      0     True                HUF  \\n8            2.833         Wizz Air      0     True                HUF  \\n9            2.667          easyJet      0     True                HUF  \\n10           2.833         Wizz Air      0    False                HUF  \\n11           2.833         Wizz Air      0    False                HUF  \\n12           2.750         Wizz Air      0     True                HUF  \\n13           2.750         Wizz Air      0     True                HUF  \\n14           2.750         Wizz Air      0     True                HUF  \\n15           2.750         Wizz Air      0    False                HUF  \\n16           2.750         Wizz Air      0    False                HUF  \\n17           2.583          Ryanair      0     True                HUF  \\n18           2.583          Ryanair      0     True                HUF  \\n19           2.583          Ryanair      0     True                HUF  \\n20           2.583          Ryanair      0     True                HUF  \\n21           2.583          Ryanair      0    False                HUF  \\n22           2.583          Ryanair      0    False                HUF  \\n23           2.583          Ryanair      0    False                HUF  ', type='tool_call_output_item'),\n",
       " MessageOutputItem(agent=Agent(name='Flight Assistant', instructions=\"You are a helpful personal assistant. You are able to get real-time flight information for a given destination and date. You answer users' questions about flight prices and availability.\", handoff_description=None, handoffs=[], model='gpt-4.1', model_settings=ModelSettings(temperature=None, top_p=None, frequency_penalty=None, presence_penalty=None, tool_choice=None, parallel_tool_calls=False, truncation=None, max_tokens=None), tools=[FunctionTool(name='get_flights_to_destinations_tool', description=\"Fetch flights to multiple destinations and return a combined DataFrame.\\n\\nNote: The fast_flights API doesn't support multiple destinations in a single call,\\nso this function makes separate API calls for each destination and combines the results.\", params_json_schema={'properties': {'date': {'description': 'Flight date in YYYY-MM-DD format', 'title': 'Date', 'type': 'string'}, 'from_airport': {'description': 'Departure airport code in IATA format (3-letter codes), such as \"BUD\"', 'title': 'From Airport', 'type': 'string'}, 'to_airports': {'description': 'List of destination airport codes in IATA format (3-letter codes), such as [\"CDG\", \"ORY\", \"BVA\"]', 'items': {'type': 'string'}, 'title': 'To Airports', 'type': 'array'}, 'max_stops': {'description': 'Maximum number of stops (default: 0)', 'title': 'Max Stops', 'type': 'integer'}}, 'required': ['date', 'from_airport', 'to_airports', 'max_stops'], 'title': 'get_flights_to_destinations_tool_args', 'type': 'object', 'additionalProperties': False}, on_invoke_tool=<function function_tool.<locals>._create_function_tool.<locals>._on_invoke_tool at 0x12dffdd00>, strict_json_schema=True)], input_guardrails=[], output_guardrails=[], output_type=None, hooks=None), raw_item=ResponseOutputMessage(id='msg_6805848233148192a3d7df290967a169066620510e0f31e1', content=[ResponseOutputText(annotations=[], text='Here are the flight options from Budapest (BUD) to London on 2025-04-25:\\n\\n### Cheapest Options (All Prices in HUF)\\n- Ryanair: from 60,644 HUF\\n  - Departure: 05:45 | Arrival: 07:20 | Duration: 2h 35m\\n  - Other Ryanair options: 09:50 (arr. 11:25), 15:15 (arr. 16:50), 22:40 (arr. 00:15 next day)\\n\\n- Wizz Air: from 75,960 HUF\\n  - Departure: 06:00 | Arrival: 07:45 | Duration: 2h 45m\\n  - Other Wizz Air options: 08:40, 13:15, 17:00, 16:45\\n\\n- easyJet: 107,700 HUF\\n  - Departure: 21:05 | Arrival: 22:45 | Duration: 2h 40m\\n\\n### Premium Options\\n- British Airways: from 251,200 HUF\\n  - Departure: 12:55 | Arrival: 14:40 | Duration: 2h 45m\\n  - Other BA options: 14:55, 17:45, 07:10\\n\\n### Price Distribution\\n- Ultra low-cost (Ryanair, Wizz Air): 60,644–120,518 HUF\\n- Standard/Legacy (British Airways): 251,200–526,000 HUF\\n\\n### Recommendations\\n\\n- Best value (cheapest): Ryanair departing 05:45, 60,644 HUF—direct, early morning.\\n- Most convenient (premium): British Airways at midday (12:55), 251,200 HUF—direct, full-service airline.\\n\\nIf you want something in between (later time but still low cost), look at Wizz Air’s 17:00 flight for 76,580 HUF.\\n\\nLet me know if you have a preferred time, airline, or want details on baggage, return flights, or airport options!', type='output_text')], role='assistant', status='completed', type='message'), type='message_output_item')]"
      ]
     },
     "execution_count": 32,
     "metadata": {},
     "output_type": "execute_result"
    }
   ],
   "source": [
    "a.new_items"
   ]
  },
  {
   "cell_type": "code",
   "execution_count": 33,
   "metadata": {},
   "outputs": [
    {
     "data": {
      "text/plain": [
       "[ModelResponse(output=[ResponseFunctionToolCall(id='fc_6805845ab98881928f0064c17e3b93bf066620510e0f31e1', arguments='{\"date\":\"2025-04-25\",\"from_airport\":\"BUD\",\"to_airports\":[\"LHR\",\"LGW\",\"LTN\",\"STN\",\"LCY\"],\"max_stops\":0}', call_id='call_bPRXHXpgFfTgU0CEqml0J5wH', name='get_flights_to_destinations_tool', type='function_call', status='completed')], usage=Usage(requests=1, input_tokens=390, output_tokens=58, total_tokens=448), referenceable_id='resp_68058459fd7c8192888b55b0c3216836066620510e0f31e1'),\n",
       " ModelResponse(output=[ResponseOutputMessage(id='msg_6805848233148192a3d7df290967a169066620510e0f31e1', content=[ResponseOutputText(annotations=[], text='Here are the flight options from Budapest (BUD) to London on 2025-04-25:\\n\\n### Cheapest Options (All Prices in HUF)\\n- Ryanair: from 60,644 HUF\\n  - Departure: 05:45 | Arrival: 07:20 | Duration: 2h 35m\\n  - Other Ryanair options: 09:50 (arr. 11:25), 15:15 (arr. 16:50), 22:40 (arr. 00:15 next day)\\n\\n- Wizz Air: from 75,960 HUF\\n  - Departure: 06:00 | Arrival: 07:45 | Duration: 2h 45m\\n  - Other Wizz Air options: 08:40, 13:15, 17:00, 16:45\\n\\n- easyJet: 107,700 HUF\\n  - Departure: 21:05 | Arrival: 22:45 | Duration: 2h 40m\\n\\n### Premium Options\\n- British Airways: from 251,200 HUF\\n  - Departure: 12:55 | Arrival: 14:40 | Duration: 2h 45m\\n  - Other BA options: 14:55, 17:45, 07:10\\n\\n### Price Distribution\\n- Ultra low-cost (Ryanair, Wizz Air): 60,644–120,518 HUF\\n- Standard/Legacy (British Airways): 251,200–526,000 HUF\\n\\n### Recommendations\\n\\n- Best value (cheapest): Ryanair departing 05:45, 60,644 HUF—direct, early morning.\\n- Most convenient (premium): British Airways at midday (12:55), 251,200 HUF—direct, full-service airline.\\n\\nIf you want something in between (later time but still low cost), look at Wizz Air’s 17:00 flight for 76,580 HUF.\\n\\nLet me know if you have a preferred time, airline, or want details on baggage, return flights, or airport options!', type='output_text')], role='assistant', status='completed', type='message')], usage=Usage(requests=1, input_tokens=1694, output_tokens=443, total_tokens=2137), referenceable_id='resp_6805848145c08192a8f7c8de7dcfbe84066620510e0f31e1')]"
      ]
     },
     "execution_count": 33,
     "metadata": {},
     "output_type": "execute_result"
    }
   ],
   "source": [
    "a.raw_responses"
   ]
  },
  {
   "cell_type": "code",
   "execution_count": null,
   "metadata": {},
   "outputs": [],
   "source": []
  }
 ],
 "metadata": {
  "kernelspec": {
   "display_name": "venv",
   "language": "python",
   "name": "python3"
  },
  "language_info": {
   "codemirror_mode": {
    "name": "ipython",
    "version": 3
   },
   "file_extension": ".py",
   "mimetype": "text/x-python",
   "name": "python",
   "nbconvert_exporter": "python",
   "pygments_lexer": "ipython3",
   "version": "3.13.2"
  }
 },
 "nbformat": 4,
 "nbformat_minor": 2
}
