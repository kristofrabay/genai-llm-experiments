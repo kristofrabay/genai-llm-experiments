{
 "cells": [
  {
   "cell_type": "markdown",
   "metadata": {},
   "source": [
    "## Experiment with flight data APIs\n",
    "\n",
    "Initial goal: compare deterministic optimal (cheapest) flight search to agent-driven one"
   ]
  },
  {
   "cell_type": "code",
   "execution_count": 1,
   "metadata": {},
   "outputs": [],
   "source": [
    "from utils.utils import get_flights_to_destinations, plot_price_distribution\n",
    "\n",
    "import nest_asyncio\n",
    "nest_asyncio.apply()\n",
    "\n",
    "import pandas as pd"
   ]
  },
  {
   "cell_type": "markdown",
   "metadata": {},
   "source": [
    "Test query with the function"
   ]
  },
  {
   "cell_type": "code",
   "execution_count": 2,
   "metadata": {},
   "outputs": [],
   "source": [
    "flights_df = get_flights_to_destinations(\n",
    "    date=\"2025-05-02\",\n",
    "    from_airport=\"EWR\",\n",
    "    to_airports=[\n",
    "        \"ORY\",  # Orly\n",
    "        \"BVA\",  # Beauvais\n",
    "        \"CDG\",  # Charles de Gaulle\n",
    "    ],\n",
    "    max_stops=1,\n",
    "    #trip=\"one-way\",\n",
    "    #passengers_adults=2,\n",
    ")"
   ]
  },
  {
   "cell_type": "code",
   "execution_count": 3,
   "metadata": {},
   "outputs": [
    {
     "data": {
      "image/png": "[encoded data removed]",
      "text/plain": [
       "<Figure size 700x400 with 1 Axes>"
      ]
     },
     "metadata": {},
     "output_type": "display_data"
    }
   ],
   "source": [
    "fig = plot_price_distribution(flights_df)"
   ]
  },
  {
   "cell_type": "code",
   "execution_count": 4,
   "metadata": {},
   "outputs": [
    {
     "data": {
      "text/html": [
       "<div>\n",
       "<style scoped>\n",
       "    .dataframe tbody tr th:only-of-type {\n",
       "        vertical-align: middle;\n",
       "    }\n",
       "\n",
       "    .dataframe tbody tr th {\n",
       "        vertical-align: top;\n",
       "    }\n",
       "\n",
       "    .dataframe thead th {\n",
       "        text-align: right;\n",
       "    }\n",
       "</style>\n",
       "<table border=\"1\" class=\"dataframe\">\n",
       "  <thead>\n",
       "    <tr style=\"text-align: right;\">\n",
       "      <th></th>\n",
       "      <th>count</th>\n",
       "    </tr>\n",
       "    <tr>\n",
       "      <th>name</th>\n",
       "      <th></th>\n",
       "    </tr>\n",
       "  </thead>\n",
       "  <tbody>\n",
       "    <tr>\n",
       "      <th>Tap Air Portugal</th>\n",
       "      <td>32</td>\n",
       "    </tr>\n",
       "    <tr>\n",
       "      <th>United, Tap Air Portugal</th>\n",
       "      <td>8</td>\n",
       "    </tr>\n",
       "    <tr>\n",
       "      <th>Delta</th>\n",
       "      <td>8</td>\n",
       "    </tr>\n",
       "    <tr>\n",
       "      <th>French bee</th>\n",
       "      <td>2</td>\n",
       "    </tr>\n",
       "    <tr>\n",
       "      <th>Self transferThis trip includes tickets from multiple airlines. Missed connections may be protected by the booking provider.</th>\n",
       "      <td>2</td>\n",
       "    </tr>\n",
       "    <tr>\n",
       "      <th>LOT</th>\n",
       "      <td>2</td>\n",
       "    </tr>\n",
       "    <tr>\n",
       "      <th>La Compagnie</th>\n",
       "      <td>2</td>\n",
       "    </tr>\n",
       "    <tr>\n",
       "      <th>Icelandair</th>\n",
       "      <td>2</td>\n",
       "    </tr>\n",
       "    <tr>\n",
       "      <th>United</th>\n",
       "      <td>2</td>\n",
       "    </tr>\n",
       "    <tr>\n",
       "      <th>Delta, Air France</th>\n",
       "      <td>2</td>\n",
       "    </tr>\n",
       "    <tr>\n",
       "      <th>Air France</th>\n",
       "      <td>1</td>\n",
       "    </tr>\n",
       "  </tbody>\n",
       "</table>\n",
       "</div>"
      ],
      "text/plain": [
       "                                                    count\n",
       "name                                                     \n",
       "Tap Air Portugal                                       32\n",
       "United, Tap Air Portugal                                8\n",
       "Delta                                                   8\n",
       "French bee                                              2\n",
       "Self transferThis trip includes tickets from mu...      2\n",
       "LOT                                                     2\n",
       "La Compagnie                                            2\n",
       "Icelandair                                              2\n",
       "United                                                  2\n",
       "Delta, Air France                                       2\n",
       "Air France                                              1"
      ]
     },
     "execution_count": 4,
     "metadata": {},
     "output_type": "execute_result"
    }
   ],
   "source": [
    "pd.DataFrame(flights_df['name'].value_counts())"
   ]
  },
  {
   "cell_type": "code",
   "execution_count": 5,
   "metadata": {},
   "outputs": [
    {
     "data": {
      "text/html": [
       "<div>\n",
       "<style scoped>\n",
       "    .dataframe tbody tr th:only-of-type {\n",
       "        vertical-align: middle;\n",
       "    }\n",
       "\n",
       "    .dataframe tbody tr th {\n",
       "        vertical-align: top;\n",
       "    }\n",
       "\n",
       "    .dataframe thead th {\n",
       "        text-align: right;\n",
       "    }\n",
       "</style>\n",
       "<table border=\"1\" class=\"dataframe\">\n",
       "  <thead>\n",
       "    <tr style=\"text-align: right;\">\n",
       "      <th></th>\n",
       "      <th>price</th>\n",
       "      <th>departure_date</th>\n",
       "      <th>departure_time</th>\n",
       "      <th>arrival_date</th>\n",
       "      <th>arrival_time</th>\n",
       "      <th>duration_hours</th>\n",
       "      <th>name</th>\n",
       "      <th>stops</th>\n",
       "      <th>is_best</th>\n",
       "      <th>price_denomination</th>\n",
       "    </tr>\n",
       "  </thead>\n",
       "  <tbody>\n",
       "    <tr>\n",
       "      <th>0</th>\n",
       "      <td>179194</td>\n",
       "      <td>2025-05-02</td>\n",
       "      <td>23:00</td>\n",
       "      <td>2025-05-03</td>\n",
       "      <td>12:15</td>\n",
       "      <td>7.250</td>\n",
       "      <td>French bee</td>\n",
       "      <td>0</td>\n",
       "      <td>True</td>\n",
       "      <td>HUF</td>\n",
       "    </tr>\n",
       "    <tr>\n",
       "      <th>1</th>\n",
       "      <td>403649</td>\n",
       "      <td>2025-05-02</td>\n",
       "      <td>20:25</td>\n",
       "      <td>2025-05-03</td>\n",
       "      <td>21:55</td>\n",
       "      <td>19.500</td>\n",
       "      <td>Self transferThis trip includes tickets from m...</td>\n",
       "      <td>1</td>\n",
       "      <td>True</td>\n",
       "      <td>HUF</td>\n",
       "    </tr>\n",
       "    <tr>\n",
       "      <th>2</th>\n",
       "      <td>601430</td>\n",
       "      <td>2025-05-02</td>\n",
       "      <td>20:20</td>\n",
       "      <td>2025-05-03</td>\n",
       "      <td>19:25</td>\n",
       "      <td>17.083</td>\n",
       "      <td>LOT</td>\n",
       "      <td>1</td>\n",
       "      <td>True</td>\n",
       "      <td>HUF</td>\n",
       "    </tr>\n",
       "  </tbody>\n",
       "</table>\n",
       "</div>"
      ],
      "text/plain": [
       "    price departure_date departure_time arrival_date arrival_time  \\\n",
       "0  179194     2025-05-02          23:00   2025-05-03        12:15   \n",
       "1  403649     2025-05-02          20:25   2025-05-03        21:55   \n",
       "2  601430     2025-05-02          20:20   2025-05-03        19:25   \n",
       "\n",
       "   duration_hours                                               name stops  \\\n",
       "0           7.250                                         French bee     0   \n",
       "1          19.500  Self transferThis trip includes tickets from m...     1   \n",
       "2          17.083                                                LOT     1   \n",
       "\n",
       "   is_best price_denomination  \n",
       "0     True                HUF  \n",
       "1     True                HUF  \n",
       "2     True                HUF  "
      ]
     },
     "execution_count": 5,
     "metadata": {},
     "output_type": "execute_result"
    }
   ],
   "source": [
    "flights_df.head(3)"
   ]
  },
  {
   "cell_type": "code",
   "execution_count": null,
   "metadata": {},
   "outputs": [],
   "source": []
  },
  {
   "cell_type": "markdown",
   "metadata": {},
   "source": [
    "### General tool-calling agent\n",
    "\n",
    "Showcasing tool calling capabilities by assigning the above function as a tool to an OpenAI model. Tool will return with the pandas under the hood, the AI will analyze the content and provide an answer"
   ]
  },
  {
   "cell_type": "code",
   "execution_count": null,
   "metadata": {},
   "outputs": [],
   "source": []
  },
  {
   "cell_type": "code",
   "execution_count": null,
   "metadata": {},
   "outputs": [],
   "source": []
  }
 ],
 "metadata": {
  "kernelspec": {
   "display_name": "venv",
   "language": "python",
   "name": "python3"
  },
  "language_info": {
   "codemirror_mode": {
    "name": "ipython",
    "version": 3
   },
   "file_extension": ".py",
   "mimetype": "text/x-python",
   "name": "python",
   "nbconvert_exporter": "python",
   "pygments_lexer": "ipython3",
   "version": "3.13.2"
  }
 },
 "nbformat": 4,
 "nbformat_minor": 2
}
