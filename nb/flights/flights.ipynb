{
 "cells": [
  {
   "cell_type": "markdown",
   "metadata": {},
   "source": [
    "## Experiment with flight data APIs\n",
    "\n",
    "Initial goal: compare deterministic optimal (cheapest) flight search to agent-driven one"
   ]
  },
  {
   "cell_type": "code",
   "execution_count": 1,
   "metadata": {},
   "outputs": [],
   "source": [
    "from utils.utils import get_flights_to_destinations, plot_price_distribution\n",
    "\n",
    "import nest_asyncio\n",
    "nest_asyncio.apply()\n",
    "\n",
    "import pandas as pd\n",
    "from datetime import datetime, timedelta\n",
    "from tqdm import tqdm\n",
    "\n",
    "from dotenv import load_dotenv\n",
    "load_dotenv()\n",
    "\n",
    "from openai import AsyncOpenAI\n",
    "client = AsyncOpenAI()\n",
    "\n",
    "from IPython.display import Markdown, display\n",
    "\n",
    "import warnings\n",
    "warnings.filterwarnings(\"ignore\")"
   ]
  },
  {
   "cell_type": "markdown",
   "metadata": {},
   "source": [
    "Test query with the function"
   ]
  },
  {
   "cell_type": "code",
   "execution_count": 2,
   "metadata": {},
   "outputs": [],
   "source": [
    "flights_df = get_flights_to_destinations(\n",
    "    date=\"2025-05-02\",\n",
    "    from_airport=\"EWR\",\n",
    "    to_airports=[\n",
    "        \"ORY\",  # Orly\n",
    "        \"CDG\",  # Charles de Gaulle\n",
    "    ],\n",
    "    max_stops=1,\n",
    "    #trip=\"one-way\",\n",
    "    #passengers_adults=2,\n",
    ")"
   ]
  },
  {
   "cell_type": "code",
   "execution_count": 3,
   "metadata": {},
   "outputs": [
    {
     "data": {
      "image/png": "[encoded data removed]",
      "text/plain": [
       "<Figure size 700x400 with 1 Axes>"
      ]
     },
     "metadata": {},
     "output_type": "display_data"
    }
   ],
   "source": [
    "fig = plot_price_distribution(flights_df)"
   ]
  },
  {
   "cell_type": "code",
   "execution_count": 4,
   "metadata": {},
   "outputs": [
    {
     "data": {
      "text/html": [
       "<div>\n",
       "<style scoped>\n",
       "    .dataframe tbody tr th:only-of-type {\n",
       "        vertical-align: middle;\n",
       "    }\n",
       "\n",
       "    .dataframe tbody tr th {\n",
       "        vertical-align: top;\n",
       "    }\n",
       "\n",
       "    .dataframe thead th {\n",
       "        text-align: right;\n",
       "    }\n",
       "</style>\n",
       "<table border=\"1\" class=\"dataframe\">\n",
       "  <thead>\n",
       "    <tr style=\"text-align: right;\">\n",
       "      <th></th>\n",
       "      <th>price</th>\n",
       "      <th>departure_date</th>\n",
       "      <th>departure_time</th>\n",
       "      <th>arrival_date</th>\n",
       "      <th>arrival_time</th>\n",
       "      <th>duration_hours</th>\n",
       "      <th>name</th>\n",
       "      <th>stops</th>\n",
       "      <th>is_best</th>\n",
       "      <th>price_denomination</th>\n",
       "    </tr>\n",
       "  </thead>\n",
       "  <tbody>\n",
       "    <tr>\n",
       "      <th>0</th>\n",
       "      <td>179194</td>\n",
       "      <td>2025-05-02</td>\n",
       "      <td>23:00</td>\n",
       "      <td>2025-05-03</td>\n",
       "      <td>12:15</td>\n",
       "      <td>7.250</td>\n",
       "      <td>French bee</td>\n",
       "      <td>0</td>\n",
       "      <td>True</td>\n",
       "      <td>HUF</td>\n",
       "    </tr>\n",
       "    <tr>\n",
       "      <th>1</th>\n",
       "      <td>408432</td>\n",
       "      <td>2025-05-02</td>\n",
       "      <td>20:25</td>\n",
       "      <td>2025-05-03</td>\n",
       "      <td>21:55</td>\n",
       "      <td>19.500</td>\n",
       "      <td>Self transferThis trip includes tickets from m...</td>\n",
       "      <td>1</td>\n",
       "      <td>True</td>\n",
       "      <td>HUF</td>\n",
       "    </tr>\n",
       "    <tr>\n",
       "      <th>2</th>\n",
       "      <td>601430</td>\n",
       "      <td>2025-05-02</td>\n",
       "      <td>20:20</td>\n",
       "      <td>2025-05-03</td>\n",
       "      <td>19:25</td>\n",
       "      <td>17.083</td>\n",
       "      <td>LOT</td>\n",
       "      <td>1</td>\n",
       "      <td>True</td>\n",
       "      <td>HUF</td>\n",
       "    </tr>\n",
       "  </tbody>\n",
       "</table>\n",
       "</div>"
      ],
      "text/plain": [
       "    price departure_date departure_time arrival_date arrival_time  \\\n",
       "0  179194     2025-05-02          23:00   2025-05-03        12:15   \n",
       "1  408432     2025-05-02          20:25   2025-05-03        21:55   \n",
       "2  601430     2025-05-02          20:20   2025-05-03        19:25   \n",
       "\n",
       "   duration_hours                                               name stops  \\\n",
       "0           7.250                                         French bee     0   \n",
       "1          19.500  Self transferThis trip includes tickets from m...     1   \n",
       "2          17.083                                                LOT     1   \n",
       "\n",
       "   is_best price_denomination  \n",
       "0     True                HUF  \n",
       "1     True                HUF  \n",
       "2     True                HUF  "
      ]
     },
     "execution_count": 4,
     "metadata": {},
     "output_type": "execute_result"
    }
   ],
   "source": [
    "flights_df.head(3)"
   ]
  },
  {
   "cell_type": "code",
   "execution_count": null,
   "metadata": {},
   "outputs": [],
   "source": []
  },
  {
   "cell_type": "markdown",
   "metadata": {},
   "source": [
    "### General tool-calling agent\n",
    "\n",
    "Showcasing tool calling capabilities by assigning the above function as a tool to an OpenAI model. Tool will return with the pandas under the hood, the AI will analyze the content and provide an answer"
   ]
  },
  {
   "cell_type": "markdown",
   "metadata": {},
   "source": [
    "1. Set up custom tool"
   ]
  },
  {
   "cell_type": "code",
   "execution_count": 5,
   "metadata": {},
   "outputs": [],
   "source": [
    "from agents import WebSearchTool\n",
    "from utils.tools import get_flights_to_destinations_tool, add_tool\n",
    "from utils.prompts import system_message, user_message_template\n",
    "from utils.ai import ai, conversation"
   ]
  },
  {
   "cell_type": "markdown",
   "metadata": {},
   "source": [
    "2. Set up `ai` args"
   ]
  },
  {
   "cell_type": "code",
   "execution_count": 6,
   "metadata": {},
   "outputs": [],
   "source": [
    "payload = {\n",
    "    \"agent_name\": \"Flight Assistant\",\n",
    "    \"system_message\": system_message,\n",
    "    \"user_message_template\": user_message_template,\n",
    "    \"tools\": [get_flights_to_destinations_tool, add_tool, WebSearchTool()],\n",
    "    \"stream\": True,\n",
    "    \"model\": \"gpt-4.1\",\n",
    "    \"format_to_md\": True\n",
    "}"
   ]
  },
  {
   "cell_type": "markdown",
   "metadata": {},
   "source": [
    "Simple test"
   ]
  },
  {
   "cell_type": "code",
   "execution_count": 4,
   "metadata": {},
   "outputs": [
    {
     "data": {
      "text/markdown": [
       "The result of 4 + 10 is 14.\n",
       "\n",
       "Now, to answer your second question:\n",
       "- Declarative and imperative are two major programming paradigms:\n",
       "  - Declarative programming focuses on describing what you want to achieve, without specifying the exact steps to do it. Examples include SQL (for databases) and HTML (for structure of webpages). You state the desired outcome.\n",
       "  - Imperative programming is about describing how to achieve a result, step by step. You explicitly tell the computer what to do and how to do it. Languages like C, Java, and Python are commonly used in this paradigm.\n",
       "\n",
       "In short: Declarative = what, Imperative = how."
      ],
      "text/plain": [
       "<IPython.core.display.Markdown object>"
      ]
     },
     "metadata": {},
     "output_type": "display_data"
    },
    {
     "name": "stdout",
     "output_type": "stream",
     "text": [
      "Tool add_tool called with arguments: {\"a\":4,\"b\":10}\n",
      "Tool call 3j6k9Ej0bF33MU6CkJ0an3sn returned with results: 14\n"
     ]
    }
   ],
   "source": [
    "q = 'first, tell me what 4 + 10 is using the add tool, then tell me what is the difference between declarative and imperative?'\n",
    "a = await ai(q, **payload)"
   ]
  },
  {
   "cell_type": "code",
   "execution_count": 7,
   "metadata": {},
   "outputs": [
    {
     "data": {
      "text/markdown": [
       "The result of 4 + 10 is 14.\n",
       "\n",
       "Now, to answer your second question:\n",
       "- Declarative and imperative are two major programming paradigms:\n",
       "  - Declarative programming focuses on describing what you want to achieve, without specifying the exact steps to do it. Examples include SQL (for databases) and HTML (for structure of webpages). You state the desired outcome.\n",
       "  - Imperative programming is about describing how to achieve a result, step by step. You explicitly tell the computer what to do and how to do it. Languages like C, Java, and Python are commonly used in this paradigm.\n",
       "\n",
       "In short: Declarative = what, Imperative = how."
      ],
      "text/plain": [
       "<IPython.core.display.Markdown object>"
      ]
     },
     "metadata": {},
     "output_type": "display_data"
    }
   ],
   "source": [
    "display(Markdown(a.final_output))"
   ]
  },
  {
   "cell_type": "code",
   "execution_count": null,
   "metadata": {},
   "outputs": [],
   "source": []
  },
  {
   "cell_type": "code",
   "execution_count": null,
   "metadata": {},
   "outputs": [],
   "source": [
    "q = 'first, tell me what 4 + 10 is using the add tool, then search for latest sp500 news'\n",
    "a = await ai(q, **payload)"
   ]
  },
  {
   "cell_type": "code",
   "execution_count": null,
   "metadata": {},
   "outputs": [],
   "source": []
  },
  {
   "cell_type": "markdown",
   "metadata": {},
   "source": [
    "Test with flight related question"
   ]
  },
  {
   "cell_type": "code",
   "execution_count": 7,
   "metadata": {},
   "outputs": [
    {
     "data": {
      "text/markdown": [
       "Here are the cheapest flight options from Budapest (BUD) to Madrid (MAD) for tomorrow, April 22, 2025:\n",
       "\n",
       "### Cheapest Direct Flights\n",
       "- **Ryanair**\n",
       "  - Price: 214,598 HUF\n",
       "  - Departure: 20:10 | Arrival: 23:30 (3h 20m nonstop)\n",
       "  - This is the best deal for a direct flight.\n",
       "- **Wizz Air**\n",
       "  - Price: 248,130 HUF\n",
       "  - Departure: 16:00 | Arrival: 19:30 (3h 30m nonstop)\n",
       "- **Iberia**\n",
       "  - Price: 405,800 HUF\n",
       "  - Departure: 15:30 | Arrival: 18:50 (3h 20m nonstop)\n",
       "\n",
       "### Cheapest 1-Stop (Connecting) Flights\n",
       "- **Brussels Airlines**\n",
       "  - Price: 370,400 HUF\n",
       "  - Departure: 06:35 | Arrival: 11:50 (5h 15m, 1 stop)\n",
       "- **Self Transfer (multiple airlines)**\n",
       "  - Price: 224,614 HUF\n",
       "  - Departure: 13:05 | Arrival: Next day—12:10 (23h 5m, 1 stop)\n",
       "  - Long layover, but can sometimes offer better flexibility.\n",
       "\n",
       "### Price Distribution\n",
       "- **Cheapest direct flight:** 214,598 HUF (Ryanair, evening).\n",
       "- **Average price for direct flights:** 214,000–405,800 HUF.\n",
       "- **Premium/premium economy options:** Often exceed 800,000 HUF, with business class and traditional airlines (KLM, British Airways, Lufthansa) ranging from ~838,400 HUF to over 1,250,000 HUF.\n",
       "\n",
       "### Recommendations:\n",
       "- For best value and convenience, Ryanair’s direct flight at 20:10 is recommended.\n",
       "- For a slightly earlier direct flight, Wizz Air at 16:00 is another solid choice, at a modest price increase.\n",
       "- If a morning departure is needed and you don’t mind one stop, Brussels Airlines at 06:35 offers a good compromise.\n",
       "\n",
       "Would you like details on baggage, seat selection, or how to book? Let me know your preferences!"
      ],
      "text/plain": [
       "<IPython.core.display.Markdown object>"
      ]
     },
     "metadata": {},
     "output_type": "display_data"
    },
    {
     "name": "stdout",
     "output_type": "stream",
     "text": [
      "Tool get_flights_to_destinations_tool called with arguments: {\"date\":\"2025-04-22\",\"from_airport\":\"BUD\",\"to_airports\":[\"MAD\"],\"max_stops\":1}\n",
      "Tool call C4DNBxjLdaRtpHTQrb6fber9 returned with results:       price departure_date departure_time arrival_date arrival_time  \\\n",
      "0    214598     2025-04-22          20:10   2025-04-22        23:30   \n",
      "1    248130     2025-04-22          16:00   2025-04-22        19:30   \n",
      "2    370400     2025-04-22          0\n"
     ]
    }
   ],
   "source": [
    "q = 'cheap flights budapest madrid tomorrow'\n",
    "a = await ai(q, **payload)"
   ]
  },
  {
   "cell_type": "code",
   "execution_count": 8,
   "metadata": {},
   "outputs": [
    {
     "data": {
      "text/markdown": [
       "Here are the cheapest flight options from Budapest (BUD) to Madrid (MAD) for tomorrow, April 22, 2025:\n",
       "\n",
       "### Cheapest Direct Flights\n",
       "- **Ryanair**\n",
       "  - Price: 214,598 HUF\n",
       "  - Departure: 20:10 | Arrival: 23:30 (3h 20m nonstop)\n",
       "  - This is the best deal for a direct flight.\n",
       "- **Wizz Air**\n",
       "  - Price: 248,130 HUF\n",
       "  - Departure: 16:00 | Arrival: 19:30 (3h 30m nonstop)\n",
       "- **Iberia**\n",
       "  - Price: 405,800 HUF\n",
       "  - Departure: 15:30 | Arrival: 18:50 (3h 20m nonstop)\n",
       "\n",
       "### Cheapest 1-Stop (Connecting) Flights\n",
       "- **Brussels Airlines**\n",
       "  - Price: 370,400 HUF\n",
       "  - Departure: 06:35 | Arrival: 11:50 (5h 15m, 1 stop)\n",
       "- **Self Transfer (multiple airlines)**\n",
       "  - Price: 224,614 HUF\n",
       "  - Departure: 13:05 | Arrival: Next day—12:10 (23h 5m, 1 stop)\n",
       "  - Long layover, but can sometimes offer better flexibility.\n",
       "\n",
       "### Price Distribution\n",
       "- **Cheapest direct flight:** 214,598 HUF (Ryanair, evening).\n",
       "- **Average price for direct flights:** 214,000–405,800 HUF.\n",
       "- **Premium/premium economy options:** Often exceed 800,000 HUF, with business class and traditional airlines (KLM, British Airways, Lufthansa) ranging from ~838,400 HUF to over 1,250,000 HUF.\n",
       "\n",
       "### Recommendations:\n",
       "- For best value and convenience, Ryanair’s direct flight at 20:10 is recommended.\n",
       "- For a slightly earlier direct flight, Wizz Air at 16:00 is another solid choice, at a modest price increase.\n",
       "- If a morning departure is needed and you don’t mind one stop, Brussels Airlines at 06:35 offers a good compromise.\n",
       "\n",
       "Would you like details on baggage, seat selection, or how to book? Let me know your preferences!"
      ],
      "text/plain": [
       "<IPython.core.display.Markdown object>"
      ]
     },
     "metadata": {},
     "output_type": "display_data"
    }
   ],
   "source": [
    "display(Markdown(a.final_output))"
   ]
  },
  {
   "cell_type": "code",
   "execution_count": 9,
   "metadata": {},
   "outputs": [
    {
     "data": {
      "text/plain": [
       "[ToolCallItem(agent=Agent(name='Flight Assistant', instructions=\"You are a helpful personal assistant. You are able to get real-time flight information for a given destination and date. You answer users' questions about flight prices and availability.\", handoff_description=None, handoffs=[], model='gpt-4.1', model_settings=ModelSettings(temperature=None, top_p=None, frequency_penalty=None, presence_penalty=None, tool_choice=None, parallel_tool_calls=False, truncation=None, max_tokens=None), tools=[FunctionTool(name='get_flights_to_destinations_tool', description='Fetch flights to multiple destinations and return a combined DataFrame.', params_json_schema={'properties': {'date': {'description': 'Flight date in YYYY-MM-DD format', 'title': 'Date', 'type': 'string'}, 'from_airport': {'description': 'Departure airport code in IATA format (3-letter codes), such as \"BUD\"', 'title': 'From Airport', 'type': 'string'}, 'to_airports': {'description': 'List of destination airport codes in IATA format (3-letter codes), such as [\"CDG\", \"ORY\", \"BVA\"]', 'items': {'type': 'string'}, 'title': 'To Airports', 'type': 'array'}, 'max_stops': {'description': 'Maximum number of stops (default: 0)', 'title': 'Max Stops', 'type': 'integer'}}, 'required': ['date', 'from_airport', 'to_airports', 'max_stops'], 'title': 'get_flights_to_destinations_tool_args', 'type': 'object', 'additionalProperties': False}, on_invoke_tool=<function function_tool.<locals>._create_function_tool.<locals>._on_invoke_tool at 0x1263fd9e0>, strict_json_schema=True), FunctionTool(name='add_tool', description='Add two numbers together', params_json_schema={'properties': {'a': {'title': 'A', 'type': 'integer'}, 'b': {'title': 'B', 'type': 'integer'}}, 'required': ['a', 'b'], 'title': 'add_tool_args', 'type': 'object', 'additionalProperties': False}, on_invoke_tool=<function function_tool.<locals>._create_function_tool.<locals>._on_invoke_tool at 0x1263fc680>, strict_json_schema=True), WebSearchTool(user_location=None, search_context_size='medium')], input_guardrails=[], output_guardrails=[], output_type=None, hooks=None), raw_item=ResponseFunctionToolCall(id='fc_680641537f448192b303ae875ebfa60e0b8d84e233da1ea9', arguments='{\"date\":\"2025-04-22\",\"from_airport\":\"BUD\",\"to_airports\":[\"MAD\"],\"max_stops\":1}', call_id='call_C4DNBxjLdaRtpHTQrb6fber9', name='get_flights_to_destinations_tool', type='function_call', status='completed'), type='tool_call_item'),\n",
       " ToolCallOutputItem(agent=Agent(name='Flight Assistant', instructions=\"You are a helpful personal assistant. You are able to get real-time flight information for a given destination and date. You answer users' questions about flight prices and availability.\", handoff_description=None, handoffs=[], model='gpt-4.1', model_settings=ModelSettings(temperature=None, top_p=None, frequency_penalty=None, presence_penalty=None, tool_choice=None, parallel_tool_calls=False, truncation=None, max_tokens=None), tools=[FunctionTool(name='get_flights_to_destinations_tool', description='Fetch flights to multiple destinations and return a combined DataFrame.', params_json_schema={'properties': {'date': {'description': 'Flight date in YYYY-MM-DD format', 'title': 'Date', 'type': 'string'}, 'from_airport': {'description': 'Departure airport code in IATA format (3-letter codes), such as \"BUD\"', 'title': 'From Airport', 'type': 'string'}, 'to_airports': {'description': 'List of destination airport codes in IATA format (3-letter codes), such as [\"CDG\", \"ORY\", \"BVA\"]', 'items': {'type': 'string'}, 'title': 'To Airports', 'type': 'array'}, 'max_stops': {'description': 'Maximum number of stops (default: 0)', 'title': 'Max Stops', 'type': 'integer'}}, 'required': ['date', 'from_airport', 'to_airports', 'max_stops'], 'title': 'get_flights_to_destinations_tool_args', 'type': 'object', 'additionalProperties': False}, on_invoke_tool=<function function_tool.<locals>._create_function_tool.<locals>._on_invoke_tool at 0x1263fd9e0>, strict_json_schema=True), FunctionTool(name='add_tool', description='Add two numbers together', params_json_schema={'properties': {'a': {'title': 'A', 'type': 'integer'}, 'b': {'title': 'B', 'type': 'integer'}}, 'required': ['a', 'b'], 'title': 'add_tool_args', 'type': 'object', 'additionalProperties': False}, on_invoke_tool=<function function_tool.<locals>._create_function_tool.<locals>._on_invoke_tool at 0x1263fc680>, strict_json_schema=True), WebSearchTool(user_location=None, search_context_size='medium')], input_guardrails=[], output_guardrails=[], output_type=None, hooks=None), raw_item={'call_id': 'call_C4DNBxjLdaRtpHTQrb6fber9', 'output': '      price departure_date departure_time arrival_date arrival_time  \\\\\\n0    214598     2025-04-22          20:10   2025-04-22        23:30   \\n1    248130     2025-04-22          16:00   2025-04-22        19:30   \\n2    370400     2025-04-22          06:35   2025-04-22        11:50   \\n3    405800     2025-04-22          15:30   2025-04-22        18:50   \\n4    224614     2025-04-22          13:05   2025-04-23        12:10   \\n..      ...            ...            ...          ...          ...   \\n92   838400     2025-04-22          06:20   2025-04-22        12:05   \\n93   838400     2025-04-22          06:20   2025-04-22        19:30   \\n94  1051600     2025-04-22          18:20   2025-04-23        11:15   \\n95  1173600     2025-04-22          14:35   2025-04-23        11:15   \\n96  1256000     2025-04-22          17:30   2025-04-23        10:20   \\n\\n    duration_hours                                               name  stops  \\\\\\n0            3.333                                            Ryanair      0   \\n1            3.500                                           Wizz Air      0   \\n2            5.250                                  Brussels Airlines      1   \\n3            3.333                                             Iberia      0   \\n4           23.083  Self transferThis trip includes tickets from m...      1   \\n..             ...                                                ...    ...   \\n92           5.750                                                KLM      1   \\n93          13.167                                                KLM      1   \\n94          16.917                                    British Airways      1   \\n95          20.667                                    British Airways      1   \\n96          16.833                                  Lufthansa, Iberia      1   \\n\\n    is_best price_denomination  \\n0      True                HUF  \\n1      True                HUF  \\n2      True                HUF  \\n3      True                HUF  \\n4     False                HUF  \\n..      ...                ...  \\n92    False                HUF  \\n93    False                HUF  \\n94    False                HUF  \\n95    False                HUF  \\n96    False                HUF  \\n\\n[97 rows x 10 columns]', 'type': 'function_call_output'}, output='      price departure_date departure_time arrival_date arrival_time  \\\\\\n0    214598     2025-04-22          20:10   2025-04-22        23:30   \\n1    248130     2025-04-22          16:00   2025-04-22        19:30   \\n2    370400     2025-04-22          06:35   2025-04-22        11:50   \\n3    405800     2025-04-22          15:30   2025-04-22        18:50   \\n4    224614     2025-04-22          13:05   2025-04-23        12:10   \\n..      ...            ...            ...          ...          ...   \\n92   838400     2025-04-22          06:20   2025-04-22        12:05   \\n93   838400     2025-04-22          06:20   2025-04-22        19:30   \\n94  1051600     2025-04-22          18:20   2025-04-23        11:15   \\n95  1173600     2025-04-22          14:35   2025-04-23        11:15   \\n96  1256000     2025-04-22          17:30   2025-04-23        10:20   \\n\\n    duration_hours                                               name  stops  \\\\\\n0            3.333                                            Ryanair      0   \\n1            3.500                                           Wizz Air      0   \\n2            5.250                                  Brussels Airlines      1   \\n3            3.333                                             Iberia      0   \\n4           23.083  Self transferThis trip includes tickets from m...      1   \\n..             ...                                                ...    ...   \\n92           5.750                                                KLM      1   \\n93          13.167                                                KLM      1   \\n94          16.917                                    British Airways      1   \\n95          20.667                                    British Airways      1   \\n96          16.833                                  Lufthansa, Iberia      1   \\n\\n    is_best price_denomination  \\n0      True                HUF  \\n1      True                HUF  \\n2      True                HUF  \\n3      True                HUF  \\n4     False                HUF  \\n..      ...                ...  \\n92    False                HUF  \\n93    False                HUF  \\n94    False                HUF  \\n95    False                HUF  \\n96    False                HUF  \\n\\n[97 rows x 10 columns]', type='tool_call_output_item'),\n",
       " MessageOutputItem(agent=Agent(name='Flight Assistant', instructions=\"You are a helpful personal assistant. You are able to get real-time flight information for a given destination and date. You answer users' questions about flight prices and availability.\", handoff_description=None, handoffs=[], model='gpt-4.1', model_settings=ModelSettings(temperature=None, top_p=None, frequency_penalty=None, presence_penalty=None, tool_choice=None, parallel_tool_calls=False, truncation=None, max_tokens=None), tools=[FunctionTool(name='get_flights_to_destinations_tool', description='Fetch flights to multiple destinations and return a combined DataFrame.', params_json_schema={'properties': {'date': {'description': 'Flight date in YYYY-MM-DD format', 'title': 'Date', 'type': 'string'}, 'from_airport': {'description': 'Departure airport code in IATA format (3-letter codes), such as \"BUD\"', 'title': 'From Airport', 'type': 'string'}, 'to_airports': {'description': 'List of destination airport codes in IATA format (3-letter codes), such as [\"CDG\", \"ORY\", \"BVA\"]', 'items': {'type': 'string'}, 'title': 'To Airports', 'type': 'array'}, 'max_stops': {'description': 'Maximum number of stops (default: 0)', 'title': 'Max Stops', 'type': 'integer'}}, 'required': ['date', 'from_airport', 'to_airports', 'max_stops'], 'title': 'get_flights_to_destinations_tool_args', 'type': 'object', 'additionalProperties': False}, on_invoke_tool=<function function_tool.<locals>._create_function_tool.<locals>._on_invoke_tool at 0x1263fd9e0>, strict_json_schema=True), FunctionTool(name='add_tool', description='Add two numbers together', params_json_schema={'properties': {'a': {'title': 'A', 'type': 'integer'}, 'b': {'title': 'B', 'type': 'integer'}}, 'required': ['a', 'b'], 'title': 'add_tool_args', 'type': 'object', 'additionalProperties': False}, on_invoke_tool=<function function_tool.<locals>._create_function_tool.<locals>._on_invoke_tool at 0x1263fc680>, strict_json_schema=True), WebSearchTool(user_location=None, search_context_size='medium')], input_guardrails=[], output_guardrails=[], output_type=None, hooks=None), raw_item=ResponseOutputMessage(id='msg_68064157f0bc81928c139a41353972070b8d84e233da1ea9', content=[ResponseOutputText(annotations=[], text='Here are the cheapest flight options from Budapest (BUD) to Madrid (MAD) for tomorrow, April 22, 2025:\\n\\n### Cheapest Direct Flights\\n- **Ryanair**\\n  - Price: 214,598 HUF\\n  - Departure: 20:10 | Arrival: 23:30 (3h 20m nonstop)\\n  - This is the best deal for a direct flight.\\n- **Wizz Air**\\n  - Price: 248,130 HUF\\n  - Departure: 16:00 | Arrival: 19:30 (3h 30m nonstop)\\n- **Iberia**\\n  - Price: 405,800 HUF\\n  - Departure: 15:30 | Arrival: 18:50 (3h 20m nonstop)\\n\\n### Cheapest 1-Stop (Connecting) Flights\\n- **Brussels Airlines**\\n  - Price: 370,400 HUF\\n  - Departure: 06:35 | Arrival: 11:50 (5h 15m, 1 stop)\\n- **Self Transfer (multiple airlines)**\\n  - Price: 224,614 HUF\\n  - Departure: 13:05 | Arrival: Next day—12:10 (23h 5m, 1 stop)\\n  - Long layover, but can sometimes offer better flexibility.\\n\\n### Price Distribution\\n- **Cheapest direct flight:** 214,598 HUF (Ryanair, evening).\\n- **Average price for direct flights:** 214,000–405,800 HUF.\\n- **Premium/premium economy options:** Often exceed 800,000 HUF, with business class and traditional airlines (KLM, British Airways, Lufthansa) ranging from ~838,400 HUF to over 1,250,000 HUF.\\n\\n### Recommendations:\\n- For best value and convenience, Ryanair’s direct flight at 20:10 is recommended.\\n- For a slightly earlier direct flight, Wizz Air at 16:00 is another solid choice, at a modest price increase.\\n- If a morning departure is needed and you don’t mind one stop, Brussels Airlines at 06:35 offers a good compromise.\\n\\nWould you like details on baggage, seat selection, or how to book? Let me know your preferences!', type='output_text')], role='assistant', status='completed', type='message'), type='message_output_item')]"
      ]
     },
     "execution_count": 9,
     "metadata": {},
     "output_type": "execute_result"
    }
   ],
   "source": [
    "a.new_items"
   ]
  },
  {
   "cell_type": "code",
   "execution_count": 10,
   "metadata": {},
   "outputs": [
    {
     "data": {
      "text/plain": [
       "[ModelResponse(output=[ResponseFunctionToolCall(id='fc_680641537f448192b303ae875ebfa60e0b8d84e233da1ea9', arguments='{\"date\":\"2025-04-22\",\"from_airport\":\"BUD\",\"to_airports\":[\"MAD\"],\"max_stops\":1}', call_id='call_C4DNBxjLdaRtpHTQrb6fber9', name='get_flights_to_destinations_tool', type='function_call', status='completed')], usage=Usage(requests=1, input_tokens=674, output_tokens=45, total_tokens=719), referenceable_id='resp_6806415281f48192b3239c2bb024cfcb0b8d84e233da1ea9'),\n",
       " ModelResponse(output=[ResponseOutputMessage(id='msg_68064157f0bc81928c139a41353972070b8d84e233da1ea9', content=[ResponseOutputText(annotations=[], text='Here are the cheapest flight options from Budapest (BUD) to Madrid (MAD) for tomorrow, April 22, 2025:\\n\\n### Cheapest Direct Flights\\n- **Ryanair**\\n  - Price: 214,598 HUF\\n  - Departure: 20:10 | Arrival: 23:30 (3h 20m nonstop)\\n  - This is the best deal for a direct flight.\\n- **Wizz Air**\\n  - Price: 248,130 HUF\\n  - Departure: 16:00 | Arrival: 19:30 (3h 30m nonstop)\\n- **Iberia**\\n  - Price: 405,800 HUF\\n  - Departure: 15:30 | Arrival: 18:50 (3h 20m nonstop)\\n\\n### Cheapest 1-Stop (Connecting) Flights\\n- **Brussels Airlines**\\n  - Price: 370,400 HUF\\n  - Departure: 06:35 | Arrival: 11:50 (5h 15m, 1 stop)\\n- **Self Transfer (multiple airlines)**\\n  - Price: 224,614 HUF\\n  - Departure: 13:05 | Arrival: Next day—12:10 (23h 5m, 1 stop)\\n  - Long layover, but can sometimes offer better flexibility.\\n\\n### Price Distribution\\n- **Cheapest direct flight:** 214,598 HUF (Ryanair, evening).\\n- **Average price for direct flights:** 214,000–405,800 HUF.\\n- **Premium/premium economy options:** Often exceed 800,000 HUF, with business class and traditional airlines (KLM, British Airways, Lufthansa) ranging from ~838,400 HUF to over 1,250,000 HUF.\\n\\n### Recommendations:\\n- For best value and convenience, Ryanair’s direct flight at 20:10 is recommended.\\n- For a slightly earlier direct flight, Wizz Air at 16:00 is another solid choice, at a modest price increase.\\n- If a morning departure is needed and you don’t mind one stop, Brussels Airlines at 06:35 offers a good compromise.\\n\\nWould you like details on baggage, seat selection, or how to book? Let me know your preferences!', type='output_text')], role='assistant', status='completed', type='message')], usage=Usage(requests=1, input_tokens=1325, output_tokens=474, total_tokens=1799), referenceable_id='resp_68064155eab48192a0c9509695cc4cdf0b8d84e233da1ea9')]"
      ]
     },
     "execution_count": 10,
     "metadata": {},
     "output_type": "execute_result"
    }
   ],
   "source": [
    "a.raw_responses"
   ]
  },
  {
   "cell_type": "code",
   "execution_count": null,
   "metadata": {},
   "outputs": [],
   "source": []
  },
  {
   "cell_type": "code",
   "execution_count": null,
   "metadata": {},
   "outputs": [],
   "source": []
  },
  {
   "cell_type": "markdown",
   "metadata": {},
   "source": [
    "Complex question"
   ]
  },
  {
   "cell_type": "code",
   "execution_count": 43,
   "metadata": {},
   "outputs": [],
   "source": [
    "model_for_complex_question = 'o1'\n",
    "\n",
    "q = 'I want to find the best deal for flying to Madeira from Budapest any time between 2025-07-01 and 2025-07-15. I will want to spend at least 5, at most 8 days there. I will be traveling with my girlfriend. Ideally I only want to have at most 1 stop. Find the optimal flight for me. I want to have the cheapest flight possible.'\n",
    "\n",
    "a = await ai(q, **payload.update({\"model\": model_for_complex_question}))"
   ]
  },
  {
   "cell_type": "code",
   "execution_count": null,
   "metadata": {},
   "outputs": [],
   "source": [
    "display(Markdown(a.final_output))"
   ]
  },
  {
   "cell_type": "code",
   "execution_count": null,
   "metadata": {},
   "outputs": [],
   "source": [
    "a.new_items"
   ]
  },
  {
   "cell_type": "code",
   "execution_count": null,
   "metadata": {},
   "outputs": [],
   "source": []
  },
  {
   "cell_type": "code",
   "execution_count": null,
   "metadata": {},
   "outputs": [],
   "source": []
  },
  {
   "cell_type": "markdown",
   "metadata": {},
   "source": [
    "#### Implement conversation memory"
   ]
  },
  {
   "cell_type": "code",
   "execution_count": 2,
   "metadata": {},
   "outputs": [],
   "source": [
    "payload = {\n",
    "    \"agent_name\": \"Flight Assistant\",\n",
    "    \"system_message\": system_message,\n",
    "    \"user_message_template\": user_message_template,\n",
    "    \"tools\": [get_flights_to_destinations_tool, add_tool, WebSearchTool()],\n",
    "    \"stream\": True,\n",
    "    \"model\": \"gpt-4.1\",\n",
    "    \"format_to_md\": False\n",
    "}"
   ]
  },
  {
   "cell_type": "code",
   "execution_count": 3,
   "metadata": {},
   "outputs": [
    {
     "name": "stdout",
     "output_type": "stream",
     "text": [
      "\n",
      "\n",
      "=== Human ===\n",
      "yo\n",
      "\n",
      "=== AI ===\n",
      "Hello! How can I help you today? If you’re looking for flight information, just let me know your travel details (such as cities, dates, and preferences), and I’ll find the best options for you. Or, feel free to ask me anything else!\n",
      "\n",
      "=== Human ===\n",
      "5555555-345342423\n",
      "\n",
      "=== AI ===\n",
      "It looks like you've entered \"5555555-345342423.\" Could you clarify what this refers to or let me know how I can assist you further? If you’re looking for flight information or have another question, please give me a bit more detail so I can help you effectively!\n",
      "\n",
      "=== Human ===\n",
      "213421+3453412\n",
      "\n",
      "=== AI ===\n",
      "Tool add_tool called with arguments: {\"a\":213421,\"b\":3453412}\n",
      "Tool call mO68x5iV1J9aH2zeieMj68CI returned with results: 3666833\n",
      "213,421 + 3,453,412 equals 3,666,833. If you have any other questions, whether about calculations, flights, or anything else, just let me know!\n",
      "\n",
      "=== Human ===\n",
      "quit\n"
     ]
    },
    {
     "name": "stderr",
     "output_type": "stream",
     "text": [
      "Tracing client error 403: {\n",
      "  \"error\": {\n",
      "    \"message\": \"Traces ingestion is not permitted for zero data retention organizations.\",\n",
      "    \"type\": \"invalid_request_error\",\n",
      "    \"param\": null,\n",
      "    \"code\": \"zdr_forbidden\"\n",
      "  }\n",
      "}\n",
      "Tracing client error 403: {\n",
      "  \"error\": {\n",
      "    \"message\": \"Traces ingestion is not permitted for zero data retention organizations.\",\n",
      "    \"type\": \"invalid_request_error\",\n",
      "    \"param\": null,\n",
      "    \"code\": \"zdr_forbidden\"\n",
      "  }\n",
      "}\n",
      "Tracing client error 403: {\n",
      "  \"error\": {\n",
      "    \"message\": \"Traces ingestion is not permitted for zero data retention organizations.\",\n",
      "    \"type\": \"invalid_request_error\",\n",
      "    \"param\": null,\n",
      "    \"code\": \"zdr_forbidden\"\n",
      "  }\n",
      "}\n",
      "Tracing client error 403: {\n",
      "  \"error\": {\n",
      "    \"message\": \"Traces ingestion is not permitted for zero data retention organizations.\",\n",
      "    \"type\": \"invalid_request_error\",\n",
      "    \"param\": null,\n",
      "    \"code\": \"zdr_forbidden\"\n",
      "  }\n",
      "}\n",
      "Tracing client error 403: {\n",
      "  \"error\": {\n",
      "    \"message\": \"Traces ingestion is not permitted for zero data retention organizations.\",\n",
      "    \"type\": \"invalid_request_error\",\n",
      "    \"param\": null,\n",
      "    \"code\": \"zdr_forbidden\"\n",
      "  }\n",
      "}\n"
     ]
    }
   ],
   "source": [
    "await conversation(payload)"
   ]
  },
  {
   "cell_type": "code",
   "execution_count": null,
   "metadata": {},
   "outputs": [],
   "source": []
  },
  {
   "cell_type": "markdown",
   "metadata": {},
   "source": [
    "### Try manual price checks"
   ]
  },
  {
   "cell_type": "code",
   "execution_count": 50,
   "metadata": {},
   "outputs": [],
   "source": [
    "def find_cheapest_round_trip(\n",
    "    outbound_date,\n",
    "    total_travel_time_min,\n",
    "    total_travel_time_max,\n",
    "    outbound_date_flexibility,\n",
    "    from_airport,\n",
    "    to_airports,\n",
    "    max_stops=1\n",
    "):\n",
    "    \"\"\"\n",
    "    Find the cheapest round trip flights based on flexible dates and travel duration.\n",
    "    \n",
    "    Args:\n",
    "        outbound_date (str): Starting date for outbound flight in format 'YYYY-MM-DD'\n",
    "        total_travel_time_min (int): Minimum number of days for the trip\n",
    "        total_travel_time_max (int): Maximum number of days for the trip\n",
    "        outbound_date_flexibility (int): Number of days to check after the outbound date\n",
    "        from_airport (str): Departure airport code\n",
    "        to_airports (list): List of destination airport codes\n",
    "        max_stops (int): Maximum number of stops allowed\n",
    "        \n",
    "    Returns:\n",
    "        tuple: (best_combination_df, all_combinations_df) where:\n",
    "            - best_combination_df is a DataFrame with the cheapest round trip\n",
    "            - all_combinations_df is a DataFrame with all combinations tried\n",
    "    \"\"\"\n",
    "    \n",
    "    # Convert outbound_date to datetime\n",
    "    outbound_date_dt = datetime.strptime(outbound_date, \"%Y-%m-%d\")\n",
    "    \n",
    "    # Initialize results storage\n",
    "    all_combinations = []\n",
    "    \n",
    "    # Loop through each potential outbound date with tqdm progress bar\n",
    "    for outbound_offset in tqdm(range(outbound_date_flexibility + 1), desc=\"Checking outbound dates\"):\n",
    "        current_outbound_date = outbound_date_dt + timedelta(days=outbound_offset)\n",
    "        current_outbound_str = current_outbound_date.strftime(\"%Y-%m-%d\")\n",
    "        \n",
    "        # Get outbound flights\n",
    "        outbound_flights = get_flights_to_destinations(\n",
    "            date=current_outbound_str,\n",
    "            from_airport=from_airport,\n",
    "            to_airports=to_airports,\n",
    "            max_stops=max_stops\n",
    "        )\n",
    "        \n",
    "        if outbound_flights.empty:\n",
    "            continue\n",
    "            \n",
    "        # Add direction indicator\n",
    "        outbound_flights['direction'] = 'outbound'\n",
    "        \n",
    "        # Loop through each potential return date based on min/max travel time\n",
    "        for travel_days in tqdm(range(total_travel_time_min, total_travel_time_max + 1), \n",
    "                               desc=f\"Checking return dates for outbound {current_outbound_str}\", \n",
    "                               leave=False):\n",
    "            return_date = current_outbound_date + timedelta(days=travel_days)\n",
    "            return_date_str = return_date.strftime(\"%Y-%m-%d\")\n",
    "            \n",
    "            # Get return flights\n",
    "            return_flights = get_flights_to_destinations(\n",
    "                date=return_date_str,\n",
    "                from_airport=to_airports[0],  # Assuming the first airport in the list is the main one\n",
    "                to_airports=[from_airport],\n",
    "                max_stops=max_stops\n",
    "            )\n",
    "            \n",
    "            if return_flights.empty:\n",
    "                continue\n",
    "                \n",
    "            # Add direction indicator\n",
    "            return_flights['direction'] = 'return'\n",
    "            \n",
    "            # Find cheapest combination\n",
    "            min_outbound_price = outbound_flights['price'].min()\n",
    "            min_return_price = return_flights['price'].min()\n",
    "            total_price = min_outbound_price + min_return_price\n",
    "            \n",
    "            # Get the cheapest outbound and return flights\n",
    "            cheapest_outbound = outbound_flights.loc[outbound_flights['price'] == min_outbound_price].iloc[0]\n",
    "            cheapest_return = return_flights.loc[return_flights['price'] == min_return_price].iloc[0]\n",
    "            \n",
    "            # Combine all flights for this date combination\n",
    "            combined_flights = pd.concat([outbound_flights, return_flights])\n",
    "            \n",
    "            # Store the combination details\n",
    "            all_combinations.append({\n",
    "                'outbound_date': current_outbound_str,\n",
    "                'return_date': return_date_str,\n",
    "                'travel_days': travel_days,\n",
    "                'total_price': total_price,\n",
    "                'outbound_price': min_outbound_price,\n",
    "                'return_price': min_return_price,\n",
    "                'cheapest_outbound': cheapest_outbound,\n",
    "                'cheapest_return': cheapest_return,\n",
    "                'all_flights': combined_flights\n",
    "            })\n",
    "    \n",
    "    # Convert to DataFrame\n",
    "    if not all_combinations:\n",
    "        return pd.DataFrame(), pd.DataFrame()\n",
    "    \n",
    "    combinations_df = pd.DataFrame([\n",
    "        {\n",
    "            'outbound_date': combo['outbound_date'],\n",
    "            'return_date': combo['return_date'],\n",
    "            'travel_days': combo['travel_days'],\n",
    "            'total_price': combo['total_price'],\n",
    "            'outbound_price': combo['outbound_price'],\n",
    "            'return_price': combo['return_price'],\n",
    "            'outbound_airline': combo['cheapest_outbound']['name'],\n",
    "            'return_airline': combo['cheapest_return']['name'],\n",
    "            'outbound_stops': combo['cheapest_outbound']['stops'],\n",
    "            'return_stops': combo['cheapest_return']['stops'],\n",
    "            'outbound_duration': combo['cheapest_outbound']['duration_hours'],\n",
    "            'return_duration': combo['cheapest_return']['duration_hours'],\n",
    "        }\n",
    "        for combo in all_combinations\n",
    "    ])\n",
    "    \n",
    "    # Find the cheapest overall combination\n",
    "    best_combination_idx = combinations_df['total_price'].idxmin()\n",
    "    best_combination = all_combinations[best_combination_idx]['all_flights']\n",
    "    \n",
    "    # Sort combinations by total price\n",
    "    combinations_df = combinations_df.sort_values('total_price')\n",
    "    \n",
    "    return best_combination, combinations_df"
   ]
  },
  {
   "cell_type": "code",
   "execution_count": null,
   "metadata": {},
   "outputs": [],
   "source": [
    "# Example usage:\n",
    "best_flights, all_combinations = find_cheapest_round_trip(\n",
    "    outbound_date=\"2025-07-10\",\n",
    "    total_travel_time_min=10,\n",
    "    total_travel_time_max=16,\n",
    "    outbound_date_flexibility=30,\n",
    "    from_airport=\"BUD\",\n",
    "    to_airports=[\"JFK\", \"EWR\", \"LAX\", \"SFO\"],\n",
    "    max_stops=2\n",
    ")"
   ]
  },
  {
   "cell_type": "code",
   "execution_count": null,
   "metadata": {},
   "outputs": [],
   "source": [
    "all_combinations.sort_values(['total_price']).head(10)"
   ]
  },
  {
   "cell_type": "code",
   "execution_count": null,
   "metadata": {},
   "outputs": [],
   "source": []
  }
 ],
 "metadata": {
  "kernelspec": {
   "display_name": "venv",
   "language": "python",
   "name": "python3"
  },
  "language_info": {
   "codemirror_mode": {
    "name": "ipython",
    "version": 3
   },
   "file_extension": ".py",
   "mimetype": "text/x-python",
   "name": "python",
   "nbconvert_exporter": "python",
   "pygments_lexer": "ipython3",
   "version": "3.13.2"
  }
 },
 "nbformat": 4,
 "nbformat_minor": 2
}
