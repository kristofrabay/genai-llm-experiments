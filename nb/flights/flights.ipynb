{
 "cells": [
  {
   "cell_type": "markdown",
   "metadata": {},
   "source": [
    "## Experiment with flight data APIs\n",
    "\n",
    "Initial goal: compare deterministic optimal (cheapest) flight search to agent-driven one"
   ]
  },
  {
   "cell_type": "code",
   "execution_count": 1,
   "metadata": {},
   "outputs": [],
   "source": [
    "from utils.utils import get_flights_to_destinations, plot_price_distribution\n",
    "\n",
    "import nest_asyncio\n",
    "nest_asyncio.apply()\n",
    "\n",
    "import json\n",
    "import pandas as pd\n",
    "from datetime import datetime\n",
    "\n",
    "from dotenv import load_dotenv\n",
    "load_dotenv()\n",
    "import os\n",
    "\n",
    "from openai import AsyncOpenAI\n",
    "client = AsyncOpenAI()\n",
    "from agents import Agent, Runner, ModelSettings, WebSearchTool\n",
    "\n",
    "from IPython.display import Markdown, display\n",
    "\n",
    "import warnings\n",
    "warnings.filterwarnings(\"ignore\")"
   ]
  },
  {
   "cell_type": "markdown",
   "metadata": {},
   "source": [
    "Test query with the function"
   ]
  },
  {
   "cell_type": "code",
   "execution_count": 2,
   "metadata": {},
   "outputs": [],
   "source": [
    "flights_df = get_flights_to_destinations(\n",
    "    date=\"2025-05-02\",\n",
    "    from_airport=\"EWR\",\n",
    "    to_airports=[\n",
    "        \"ORY\",  # Orly\n",
    "        \"CDG\",  # Charles de Gaulle\n",
    "    ],\n",
    "    max_stops=1,\n",
    "    #trip=\"one-way\",\n",
    "    #passengers_adults=2,\n",
    ")"
   ]
  },
  {
   "cell_type": "code",
   "execution_count": 3,
   "metadata": {},
   "outputs": [
    {
     "data": {
      "image/png": "[encoded data removed]",
      "text/plain": [
       "<Figure size 700x400 with 1 Axes>"
      ]
     },
     "metadata": {},
     "output_type": "display_data"
    }
   ],
   "source": [
    "fig = plot_price_distribution(flights_df)"
   ]
  },
  {
   "cell_type": "code",
   "execution_count": 4,
   "metadata": {},
   "outputs": [
    {
     "data": {
      "text/html": [
       "<div>\n",
       "<style scoped>\n",
       "    .dataframe tbody tr th:only-of-type {\n",
       "        vertical-align: middle;\n",
       "    }\n",
       "\n",
       "    .dataframe tbody tr th {\n",
       "        vertical-align: top;\n",
       "    }\n",
       "\n",
       "    .dataframe thead th {\n",
       "        text-align: right;\n",
       "    }\n",
       "</style>\n",
       "<table border=\"1\" class=\"dataframe\">\n",
       "  <thead>\n",
       "    <tr style=\"text-align: right;\">\n",
       "      <th></th>\n",
       "      <th>count</th>\n",
       "    </tr>\n",
       "    <tr>\n",
       "      <th>name</th>\n",
       "      <th></th>\n",
       "    </tr>\n",
       "  </thead>\n",
       "  <tbody>\n",
       "    <tr>\n",
       "      <th>Tap Air Portugal</th>\n",
       "      <td>32</td>\n",
       "    </tr>\n",
       "    <tr>\n",
       "      <th>Delta</th>\n",
       "      <td>19</td>\n",
       "    </tr>\n",
       "    <tr>\n",
       "      <th>Delta, Air France</th>\n",
       "      <td>13</td>\n",
       "    </tr>\n",
       "    <tr>\n",
       "      <th>United</th>\n",
       "      <td>11</td>\n",
       "    </tr>\n",
       "    <tr>\n",
       "      <th>United, Tap Air Portugal</th>\n",
       "      <td>8</td>\n",
       "    </tr>\n",
       "    <tr>\n",
       "      <th>British Airways</th>\n",
       "      <td>6</td>\n",
       "    </tr>\n",
       "    <tr>\n",
       "      <th>Air Canada</th>\n",
       "      <td>6</td>\n",
       "    </tr>\n",
       "    <tr>\n",
       "      <th>Lufthansa</th>\n",
       "      <td>5</td>\n",
       "    </tr>\n",
       "    <tr>\n",
       "      <th>Turkish Airlines</th>\n",
       "      <td>5</td>\n",
       "    </tr>\n",
       "    <tr>\n",
       "      <th>United, Lufthansa</th>\n",
       "      <td>4</td>\n",
       "    </tr>\n",
       "    <tr>\n",
       "      <th>Scandinavian Airlines</th>\n",
       "      <td>4</td>\n",
       "    </tr>\n",
       "    <tr>\n",
       "      <th>Aer Lingus</th>\n",
       "      <td>4</td>\n",
       "    </tr>\n",
       "    <tr>\n",
       "      <th>Porter Airlines, Air Transat</th>\n",
       "      <td>3</td>\n",
       "    </tr>\n",
       "    <tr>\n",
       "      <th>Austrian</th>\n",
       "      <td>3</td>\n",
       "    </tr>\n",
       "    <tr>\n",
       "      <th>Scandinavian Airlines, Air France</th>\n",
       "      <td>3</td>\n",
       "    </tr>\n",
       "    <tr>\n",
       "      <th>SWISS</th>\n",
       "      <td>3</td>\n",
       "    </tr>\n",
       "    <tr>\n",
       "      <th>Icelandair</th>\n",
       "      <td>3</td>\n",
       "    </tr>\n",
       "    <tr>\n",
       "      <th>Self transferThis trip includes tickets from multiple airlines. Missed connections may be protected by the booking provider.</th>\n",
       "      <td>2</td>\n",
       "    </tr>\n",
       "    <tr>\n",
       "      <th>American</th>\n",
       "      <td>2</td>\n",
       "    </tr>\n",
       "    <tr>\n",
       "      <th>United, SWISS</th>\n",
       "      <td>2</td>\n",
       "    </tr>\n",
       "    <tr>\n",
       "      <th>La Compagnie</th>\n",
       "      <td>2</td>\n",
       "    </tr>\n",
       "    <tr>\n",
       "      <th>LOT</th>\n",
       "      <td>2</td>\n",
       "    </tr>\n",
       "    <tr>\n",
       "      <th>French bee</th>\n",
       "      <td>2</td>\n",
       "    </tr>\n",
       "    <tr>\n",
       "      <th>Lufthansa, Lufthansa City Airlines</th>\n",
       "      <td>1</td>\n",
       "    </tr>\n",
       "    <tr>\n",
       "      <th>United, ITA</th>\n",
       "      <td>1</td>\n",
       "    </tr>\n",
       "    <tr>\n",
       "      <th>United, Brussels Airlines</th>\n",
       "      <td>1</td>\n",
       "    </tr>\n",
       "    <tr>\n",
       "      <th>Emirates, Aegean</th>\n",
       "      <td>1</td>\n",
       "    </tr>\n",
       "    <tr>\n",
       "      <th>Air France</th>\n",
       "      <td>1</td>\n",
       "    </tr>\n",
       "  </tbody>\n",
       "</table>\n",
       "</div>"
      ],
      "text/plain": [
       "                                                    count\n",
       "name                                                     \n",
       "Tap Air Portugal                                       32\n",
       "Delta                                                  19\n",
       "Delta, Air France                                      13\n",
       "United                                                 11\n",
       "United, Tap Air Portugal                                8\n",
       "British Airways                                         6\n",
       "Air Canada                                              6\n",
       "Lufthansa                                               5\n",
       "Turkish Airlines                                        5\n",
       "United, Lufthansa                                       4\n",
       "Scandinavian Airlines                                   4\n",
       "Aer Lingus                                              4\n",
       "Porter Airlines, Air Transat                            3\n",
       "Austrian                                                3\n",
       "Scandinavian Airlines, Air France                       3\n",
       "SWISS                                                   3\n",
       "Icelandair                                              3\n",
       "Self transferThis trip includes tickets from mu...      2\n",
       "American                                                2\n",
       "United, SWISS                                           2\n",
       "La Compagnie                                            2\n",
       "LOT                                                     2\n",
       "French bee                                              2\n",
       "Lufthansa, Lufthansa City Airlines                      1\n",
       "United, ITA                                             1\n",
       "United, Brussels Airlines                               1\n",
       "Emirates, Aegean                                        1\n",
       "Air France                                              1"
      ]
     },
     "execution_count": 4,
     "metadata": {},
     "output_type": "execute_result"
    }
   ],
   "source": [
    "pd.DataFrame(flights_df['name'].value_counts())"
   ]
  },
  {
   "cell_type": "code",
   "execution_count": 5,
   "metadata": {},
   "outputs": [
    {
     "data": {
      "text/html": [
       "<div>\n",
       "<style scoped>\n",
       "    .dataframe tbody tr th:only-of-type {\n",
       "        vertical-align: middle;\n",
       "    }\n",
       "\n",
       "    .dataframe tbody tr th {\n",
       "        vertical-align: top;\n",
       "    }\n",
       "\n",
       "    .dataframe thead th {\n",
       "        text-align: right;\n",
       "    }\n",
       "</style>\n",
       "<table border=\"1\" class=\"dataframe\">\n",
       "  <thead>\n",
       "    <tr style=\"text-align: right;\">\n",
       "      <th></th>\n",
       "      <th>price</th>\n",
       "      <th>departure_date</th>\n",
       "      <th>departure_time</th>\n",
       "      <th>arrival_date</th>\n",
       "      <th>arrival_time</th>\n",
       "      <th>duration_hours</th>\n",
       "      <th>name</th>\n",
       "      <th>stops</th>\n",
       "      <th>is_best</th>\n",
       "      <th>price_denomination</th>\n",
       "    </tr>\n",
       "  </thead>\n",
       "  <tbody>\n",
       "    <tr>\n",
       "      <th>0</th>\n",
       "      <td>179194</td>\n",
       "      <td>2025-05-02</td>\n",
       "      <td>23:00</td>\n",
       "      <td>2025-05-03</td>\n",
       "      <td>12:15</td>\n",
       "      <td>7.250</td>\n",
       "      <td>French bee</td>\n",
       "      <td>0</td>\n",
       "      <td>True</td>\n",
       "      <td>HUF</td>\n",
       "    </tr>\n",
       "    <tr>\n",
       "      <th>1</th>\n",
       "      <td>403785</td>\n",
       "      <td>2025-05-02</td>\n",
       "      <td>20:25</td>\n",
       "      <td>2025-05-03</td>\n",
       "      <td>21:55</td>\n",
       "      <td>19.500</td>\n",
       "      <td>Self transferThis trip includes tickets from m...</td>\n",
       "      <td>1</td>\n",
       "      <td>True</td>\n",
       "      <td>HUF</td>\n",
       "    </tr>\n",
       "    <tr>\n",
       "      <th>2</th>\n",
       "      <td>601430</td>\n",
       "      <td>2025-05-02</td>\n",
       "      <td>20:20</td>\n",
       "      <td>2025-05-03</td>\n",
       "      <td>19:25</td>\n",
       "      <td>17.083</td>\n",
       "      <td>LOT</td>\n",
       "      <td>1</td>\n",
       "      <td>True</td>\n",
       "      <td>HUF</td>\n",
       "    </tr>\n",
       "  </tbody>\n",
       "</table>\n",
       "</div>"
      ],
      "text/plain": [
       "    price departure_date departure_time arrival_date arrival_time  \\\n",
       "0  179194     2025-05-02          23:00   2025-05-03        12:15   \n",
       "1  403785     2025-05-02          20:25   2025-05-03        21:55   \n",
       "2  601430     2025-05-02          20:20   2025-05-03        19:25   \n",
       "\n",
       "   duration_hours                                               name stops  \\\n",
       "0           7.250                                         French bee     0   \n",
       "1          19.500  Self transferThis trip includes tickets from m...     1   \n",
       "2          17.083                                                LOT     1   \n",
       "\n",
       "   is_best price_denomination  \n",
       "0     True                HUF  \n",
       "1     True                HUF  \n",
       "2     True                HUF  "
      ]
     },
     "execution_count": 5,
     "metadata": {},
     "output_type": "execute_result"
    }
   ],
   "source": [
    "flights_df.head(3)"
   ]
  },
  {
   "cell_type": "code",
   "execution_count": null,
   "metadata": {},
   "outputs": [],
   "source": []
  },
  {
   "cell_type": "markdown",
   "metadata": {},
   "source": [
    "### General tool-calling agent\n",
    "\n",
    "Showcasing tool calling capabilities by assigning the above function as a tool to an OpenAI model. Tool will return with the pandas under the hood, the AI will analyze the content and provide an answer"
   ]
  },
  {
   "cell_type": "markdown",
   "metadata": {},
   "source": [
    "1. Set up custom tool"
   ]
  },
  {
   "cell_type": "code",
   "execution_count": 2,
   "metadata": {},
   "outputs": [],
   "source": [
    "from utils.utils import get_flights_to_destinations_tool"
   ]
  },
  {
   "cell_type": "markdown",
   "metadata": {},
   "source": [
    "2. Set up OpenAI responses API wrapper"
   ]
  },
  {
   "cell_type": "code",
   "execution_count": 29,
   "metadata": {},
   "outputs": [],
   "source": [
    "system_message = \"You are a helpful personal assistant. You are able to get real-time flight information for a given destination and date. You answer users' questions about flight prices and availability.\"\n",
    "\n",
    "user_message_template = \"\"\"\n",
    "<current_datetime>\n",
    "The current date and time is {current_datetime}.\n",
    "</current_datetime>\n",
    "\n",
    "<instructions>\n",
    "Your sole purpose is to answer user's questions. You aim to be informative and helpful, providing concise but complete answers. The user may ask you any questions. For general questions, use your own knowledge. For flight information, use the available tools.\n",
    "\n",
    "When answering about flights, be thorough in your response. Include information about the price distribution, offer a few different options across various airlines and times, and highlight the best deal based on price and convenience. Mention both the cheapest options and any premium alternatives that might provide better value.\n",
    "</instructions>\n",
    "\n",
    "<user_question>\n",
    "{question}\n",
    "</user_question>\n",
    "\"\"\"\n",
    "\n",
    "async def ai(question: str, tools=[get_flights_to_destinations_tool], stream=False, model=\"gpt-4.1\"):\n",
    "    \n",
    "    current_datetime = datetime.now().strftime('%Y-%m-%d %H:%M')\n",
    "    \n",
    "    agent = Agent(\n",
    "        name=\"Flight Assistant\",\n",
    "        instructions=system_message,\n",
    "        model=model,\n",
    "        tools=tools,\n",
    "    )\n",
    "    \n",
    "    formatted_question = user_message_template.format(\n",
    "        question=question,\n",
    "        current_datetime=current_datetime\n",
    "    )\n",
    "    \n",
    "    if stream:\n",
    "        # TODO implement streaming\n",
    "        result = await Runner.run(agent, formatted_question)\n",
    "        return result\n",
    "    else:\n",
    "        result = await Runner.run(agent, formatted_question)\n",
    "        return result"
   ]
  },
  {
   "cell_type": "markdown",
   "metadata": {},
   "source": [
    "Simple test"
   ]
  },
  {
   "cell_type": "code",
   "execution_count": 17,
   "metadata": {},
   "outputs": [],
   "source": [
    "q = 'what is the difference between declarative and imperative?'\n",
    "a = await ai(q, stream=True)"
   ]
  },
  {
   "cell_type": "code",
   "execution_count": 18,
   "metadata": {},
   "outputs": [
    {
     "data": {
      "text/markdown": [
       "The difference between declarative and imperative refers to two different styles of expressing instructions or logic, especially in programming, but also in other contexts like language and logic:\n",
       "\n",
       "**Imperative:**\n",
       "- Describes how to do something, step by step.\n",
       "- Focuses on the process and control flow.\n",
       "- Gives explicit commands for every action needed to reach the goal.\n",
       "- Example (in programming):  \n",
       "  ```\n",
       "  let sum = 0;\n",
       "  for (let i = 1; i <= 100; i++) {\n",
       "      sum += i;\n",
       "  }\n",
       "  ```\n",
       "  (You are telling the computer exactly how to sum numbers from 1 to 100.)\n",
       "\n",
       "**Declarative:**\n",
       "- Describes what you want to achieve, without necessarily detailing how to do it.\n",
       "- Focuses on the outcome.\n",
       "- Lets the underlying system figure out the steps to reach the desired result.\n",
       "- Example (in programming):  \n",
       "  ```\n",
       "  sum = sum(1..100)\n",
       "  ```\n",
       "  (You declare that you want the sum of numbers from 1 to 100, but don’t specify how to iterate.)\n",
       "\n",
       "**Summary:**  \n",
       "Imperative tells \"how\" to do it (gives instructions step by step), while declarative tells \"what\" to do (states the desired result)."
      ],
      "text/plain": [
       "<IPython.core.display.Markdown object>"
      ]
     },
     "metadata": {},
     "output_type": "display_data"
    }
   ],
   "source": [
    "display(Markdown(a.final_output))"
   ]
  },
  {
   "cell_type": "code",
   "execution_count": null,
   "metadata": {},
   "outputs": [],
   "source": []
  },
  {
   "cell_type": "markdown",
   "metadata": {},
   "source": [
    "Test with flight related question"
   ]
  },
  {
   "cell_type": "code",
   "execution_count": 30,
   "metadata": {},
   "outputs": [],
   "source": [
    "q = 'How much would it cost to fly from Budapest to London on 2025-04-25?'\n",
    "a = await ai(q, stream=True)"
   ]
  },
  {
   "cell_type": "code",
   "execution_count": 31,
   "metadata": {},
   "outputs": [
    {
     "data": {
      "text/markdown": [
       "Here are the flight options from Budapest (BUD) to London on 2025-04-25:\n",
       "\n",
       "### Cheapest Options (All Prices in HUF)\n",
       "- Ryanair: from 60,644 HUF\n",
       "  - Departure: 05:45 | Arrival: 07:20 | Duration: 2h 35m\n",
       "  - Other Ryanair options: 09:50 (arr. 11:25), 15:15 (arr. 16:50), 22:40 (arr. 00:15 next day)\n",
       "\n",
       "- Wizz Air: from 75,960 HUF\n",
       "  - Departure: 06:00 | Arrival: 07:45 | Duration: 2h 45m\n",
       "  - Other Wizz Air options: 08:40, 13:15, 17:00, 16:45\n",
       "\n",
       "- easyJet: 107,700 HUF\n",
       "  - Departure: 21:05 | Arrival: 22:45 | Duration: 2h 40m\n",
       "\n",
       "### Premium Options\n",
       "- British Airways: from 251,200 HUF\n",
       "  - Departure: 12:55 | Arrival: 14:40 | Duration: 2h 45m\n",
       "  - Other BA options: 14:55, 17:45, 07:10\n",
       "\n",
       "### Price Distribution\n",
       "- Ultra low-cost (Ryanair, Wizz Air): 60,644–120,518 HUF\n",
       "- Standard/Legacy (British Airways): 251,200–526,000 HUF\n",
       "\n",
       "### Recommendations\n",
       "\n",
       "- Best value (cheapest): Ryanair departing 05:45, 60,644 HUF—direct, early morning.\n",
       "- Most convenient (premium): British Airways at midday (12:55), 251,200 HUF—direct, full-service airline.\n",
       "\n",
       "If you want something in between (later time but still low cost), look at Wizz Air’s 17:00 flight for 76,580 HUF.\n",
       "\n",
       "Let me know if you have a preferred time, airline, or want details on baggage, return flights, or airport options!"
      ],
      "text/plain": [
       "<IPython.core.display.Markdown object>"
      ]
     },
     "metadata": {},
     "output_type": "display_data"
    }
   ],
   "source": [
    "display(Markdown(a.final_output))"
   ]
  },
  {
   "cell_type": "code",
   "execution_count": 32,
   "metadata": {},
   "outputs": [
    {
     "data": {
      "text/plain": [
       "[ToolCallItem(agent=Agent(name='Flight Assistant', instructions=\"You are a helpful personal assistant. You are able to get real-time flight information for a given destination and date. You answer users' questions about flight prices and availability.\", handoff_description=None, handoffs=[], model='gpt-4.1', model_settings=ModelSettings(temperature=None, top_p=None, frequency_penalty=None, presence_penalty=None, tool_choice=None, parallel_tool_calls=False, truncation=None, max_tokens=None), tools=[FunctionTool(name='get_flights_to_destinations_tool', description=\"Fetch flights to multiple destinations and return a combined DataFrame.\\n\\nNote: The fast_flights API doesn't support multiple destinations in a single call,\\nso this function makes separate API calls for each destination and combines the results.\", params_json_schema={'properties': {'date': {'description': 'Flight date in YYYY-MM-DD format', 'title': 'Date', 'type': 'string'}, 'from_airport': {'description': 'Departure airport code in IATA format (3-letter codes), such as \"BUD\"', 'title': 'From Airport', 'type': 'string'}, 'to_airports': {'description': 'List of destination airport codes in IATA format (3-letter codes), such as [\"CDG\", \"ORY\", \"BVA\"]', 'items': {'type': 'string'}, 'title': 'To Airports', 'type': 'array'}, 'max_stops': {'description': 'Maximum number of stops (default: 0)', 'title': 'Max Stops', 'type': 'integer'}}, 'required': ['date', 'from_airport', 'to_airports', 'max_stops'], 'title': 'get_flights_to_destinations_tool_args', 'type': 'object', 'additionalProperties': False}, on_invoke_tool=<function function_tool.<locals>._create_function_tool.<locals>._on_invoke_tool at 0x12dffdd00>, strict_json_schema=True)], input_guardrails=[], output_guardrails=[], output_type=None, hooks=None), raw_item=ResponseFunctionToolCall(id='fc_6805845ab98881928f0064c17e3b93bf066620510e0f31e1', arguments='{\"date\":\"2025-04-25\",\"from_airport\":\"BUD\",\"to_airports\":[\"LHR\",\"LGW\",\"LTN\",\"STN\",\"LCY\"],\"max_stops\":0}', call_id='call_bPRXHXpgFfTgU0CEqml0J5wH', name='get_flights_to_destinations_tool', type='function_call', status='completed'), type='tool_call_item'),\n",
       " ToolCallOutputItem(agent=Agent(name='Flight Assistant', instructions=\"You are a helpful personal assistant. You are able to get real-time flight information for a given destination and date. You answer users' questions about flight prices and availability.\", handoff_description=None, handoffs=[], model='gpt-4.1', model_settings=ModelSettings(temperature=None, top_p=None, frequency_penalty=None, presence_penalty=None, tool_choice=None, parallel_tool_calls=False, truncation=None, max_tokens=None), tools=[FunctionTool(name='get_flights_to_destinations_tool', description=\"Fetch flights to multiple destinations and return a combined DataFrame.\\n\\nNote: The fast_flights API doesn't support multiple destinations in a single call,\\nso this function makes separate API calls for each destination and combines the results.\", params_json_schema={'properties': {'date': {'description': 'Flight date in YYYY-MM-DD format', 'title': 'Date', 'type': 'string'}, 'from_airport': {'description': 'Departure airport code in IATA format (3-letter codes), such as \"BUD\"', 'title': 'From Airport', 'type': 'string'}, 'to_airports': {'description': 'List of destination airport codes in IATA format (3-letter codes), such as [\"CDG\", \"ORY\", \"BVA\"]', 'items': {'type': 'string'}, 'title': 'To Airports', 'type': 'array'}, 'max_stops': {'description': 'Maximum number of stops (default: 0)', 'title': 'Max Stops', 'type': 'integer'}}, 'required': ['date', 'from_airport', 'to_airports', 'max_stops'], 'title': 'get_flights_to_destinations_tool_args', 'type': 'object', 'additionalProperties': False}, on_invoke_tool=<function function_tool.<locals>._create_function_tool.<locals>._on_invoke_tool at 0x12dffdd00>, strict_json_schema=True)], input_guardrails=[], output_guardrails=[], output_type=None, hooks=None), raw_item={'call_id': 'call_bPRXHXpgFfTgU0CEqml0J5wH', 'output': '     price departure_date departure_time arrival_date arrival_time  \\\\\\n0   251200     2025-04-25          12:55   2025-04-25        14:40   \\n1   251200     2025-04-25          17:45   2025-04-25        19:25   \\n2   404200     2025-04-25          14:55   2025-04-25        16:40   \\n3   526000     2025-04-25          07:10   2025-04-25        09:00   \\n4   251200     2025-04-25          12:55   2025-04-25        14:40   \\n5   251200     2025-04-25          17:45   2025-04-25        19:25   \\n6   404200     2025-04-25          14:55   2025-04-25        16:40   \\n7    84946     2025-04-25          08:40   2025-04-25        10:30   \\n8   106182     2025-04-25          16:45   2025-04-25        18:35   \\n9   107700     2025-04-25          21:05   2025-04-25        22:45   \\n10   84946     2025-04-25          08:40   2025-04-25        10:30   \\n11  106182     2025-04-25          16:45   2025-04-25        18:35   \\n12   75960     2025-04-25          06:00   2025-04-25        07:45   \\n13   76580     2025-04-25          17:00   2025-04-25        18:45   \\n14   84946     2025-04-25          13:15   2025-04-25        15:00   \\n15   75960     2025-04-25          06:00   2025-04-25        07:45   \\n16   76580     2025-04-25          17:00   2025-04-25        18:45   \\n17   60644     2025-04-25          05:45   2025-04-25        07:20   \\n18   90798     2025-04-25          09:50   2025-04-25        11:25   \\n19  120518     2025-04-25          15:15   2025-04-25        16:50   \\n20  120518     2025-04-25          22:40   2025-04-26        00:15   \\n21   60644     2025-04-25          05:45   2025-04-25        07:20   \\n22   90798     2025-04-25          09:50   2025-04-25        11:25   \\n23  120518     2025-04-25          15:15   2025-04-25        16:50   \\n\\n    duration_hours             name  stops  is_best price_denomination  \\n0            2.750  British Airways      0     True                HUF  \\n1            2.667  British Airways      0     True                HUF  \\n2            2.750  British Airways      0     True                HUF  \\n3            2.833  British Airways      0     True                HUF  \\n4            2.750  British Airways      0    False                HUF  \\n5            2.667  British Airways      0    False                HUF  \\n6            2.750  British Airways      0    False                HUF  \\n7            2.833         Wizz Air      0     True                HUF  \\n8            2.833         Wizz Air      0     True                HUF  \\n9            2.667          easyJet      0     True                HUF  \\n10           2.833         Wizz Air      0    False                HUF  \\n11           2.833         Wizz Air      0    False                HUF  \\n12           2.750         Wizz Air      0     True                HUF  \\n13           2.750         Wizz Air      0     True                HUF  \\n14           2.750         Wizz Air      0     True                HUF  \\n15           2.750         Wizz Air      0    False                HUF  \\n16           2.750         Wizz Air      0    False                HUF  \\n17           2.583          Ryanair      0     True                HUF  \\n18           2.583          Ryanair      0     True                HUF  \\n19           2.583          Ryanair      0     True                HUF  \\n20           2.583          Ryanair      0     True                HUF  \\n21           2.583          Ryanair      0    False                HUF  \\n22           2.583          Ryanair      0    False                HUF  \\n23           2.583          Ryanair      0    False                HUF  ', 'type': 'function_call_output'}, output='     price departure_date departure_time arrival_date arrival_time  \\\\\\n0   251200     2025-04-25          12:55   2025-04-25        14:40   \\n1   251200     2025-04-25          17:45   2025-04-25        19:25   \\n2   404200     2025-04-25          14:55   2025-04-25        16:40   \\n3   526000     2025-04-25          07:10   2025-04-25        09:00   \\n4   251200     2025-04-25          12:55   2025-04-25        14:40   \\n5   251200     2025-04-25          17:45   2025-04-25        19:25   \\n6   404200     2025-04-25          14:55   2025-04-25        16:40   \\n7    84946     2025-04-25          08:40   2025-04-25        10:30   \\n8   106182     2025-04-25          16:45   2025-04-25        18:35   \\n9   107700     2025-04-25          21:05   2025-04-25        22:45   \\n10   84946     2025-04-25          08:40   2025-04-25        10:30   \\n11  106182     2025-04-25          16:45   2025-04-25        18:35   \\n12   75960     2025-04-25          06:00   2025-04-25        07:45   \\n13   76580     2025-04-25          17:00   2025-04-25        18:45   \\n14   84946     2025-04-25          13:15   2025-04-25        15:00   \\n15   75960     2025-04-25          06:00   2025-04-25        07:45   \\n16   76580     2025-04-25          17:00   2025-04-25        18:45   \\n17   60644     2025-04-25          05:45   2025-04-25        07:20   \\n18   90798     2025-04-25          09:50   2025-04-25        11:25   \\n19  120518     2025-04-25          15:15   2025-04-25        16:50   \\n20  120518     2025-04-25          22:40   2025-04-26        00:15   \\n21   60644     2025-04-25          05:45   2025-04-25        07:20   \\n22   90798     2025-04-25          09:50   2025-04-25        11:25   \\n23  120518     2025-04-25          15:15   2025-04-25        16:50   \\n\\n    duration_hours             name  stops  is_best price_denomination  \\n0            2.750  British Airways      0     True                HUF  \\n1            2.667  British Airways      0     True                HUF  \\n2            2.750  British Airways      0     True                HUF  \\n3            2.833  British Airways      0     True                HUF  \\n4            2.750  British Airways      0    False                HUF  \\n5            2.667  British Airways      0    False                HUF  \\n6            2.750  British Airways      0    False                HUF  \\n7            2.833         Wizz Air      0     True                HUF  \\n8            2.833         Wizz Air      0     True                HUF  \\n9            2.667          easyJet      0     True                HUF  \\n10           2.833         Wizz Air      0    False                HUF  \\n11           2.833         Wizz Air      0    False                HUF  \\n12           2.750         Wizz Air      0     True                HUF  \\n13           2.750         Wizz Air      0     True                HUF  \\n14           2.750         Wizz Air      0     True                HUF  \\n15           2.750         Wizz Air      0    False                HUF  \\n16           2.750         Wizz Air      0    False                HUF  \\n17           2.583          Ryanair      0     True                HUF  \\n18           2.583          Ryanair      0     True                HUF  \\n19           2.583          Ryanair      0     True                HUF  \\n20           2.583          Ryanair      0     True                HUF  \\n21           2.583          Ryanair      0    False                HUF  \\n22           2.583          Ryanair      0    False                HUF  \\n23           2.583          Ryanair      0    False                HUF  ', type='tool_call_output_item'),\n",
       " MessageOutputItem(agent=Agent(name='Flight Assistant', instructions=\"You are a helpful personal assistant. You are able to get real-time flight information for a given destination and date. You answer users' questions about flight prices and availability.\", handoff_description=None, handoffs=[], model='gpt-4.1', model_settings=ModelSettings(temperature=None, top_p=None, frequency_penalty=None, presence_penalty=None, tool_choice=None, parallel_tool_calls=False, truncation=None, max_tokens=None), tools=[FunctionTool(name='get_flights_to_destinations_tool', description=\"Fetch flights to multiple destinations and return a combined DataFrame.\\n\\nNote: The fast_flights API doesn't support multiple destinations in a single call,\\nso this function makes separate API calls for each destination and combines the results.\", params_json_schema={'properties': {'date': {'description': 'Flight date in YYYY-MM-DD format', 'title': 'Date', 'type': 'string'}, 'from_airport': {'description': 'Departure airport code in IATA format (3-letter codes), such as \"BUD\"', 'title': 'From Airport', 'type': 'string'}, 'to_airports': {'description': 'List of destination airport codes in IATA format (3-letter codes), such as [\"CDG\", \"ORY\", \"BVA\"]', 'items': {'type': 'string'}, 'title': 'To Airports', 'type': 'array'}, 'max_stops': {'description': 'Maximum number of stops (default: 0)', 'title': 'Max Stops', 'type': 'integer'}}, 'required': ['date', 'from_airport', 'to_airports', 'max_stops'], 'title': 'get_flights_to_destinations_tool_args', 'type': 'object', 'additionalProperties': False}, on_invoke_tool=<function function_tool.<locals>._create_function_tool.<locals>._on_invoke_tool at 0x12dffdd00>, strict_json_schema=True)], input_guardrails=[], output_guardrails=[], output_type=None, hooks=None), raw_item=ResponseOutputMessage(id='msg_6805848233148192a3d7df290967a169066620510e0f31e1', content=[ResponseOutputText(annotations=[], text='Here are the flight options from Budapest (BUD) to London on 2025-04-25:\\n\\n### Cheapest Options (All Prices in HUF)\\n- Ryanair: from 60,644 HUF\\n  - Departure: 05:45 | Arrival: 07:20 | Duration: 2h 35m\\n  - Other Ryanair options: 09:50 (arr. 11:25), 15:15 (arr. 16:50), 22:40 (arr. 00:15 next day)\\n\\n- Wizz Air: from 75,960 HUF\\n  - Departure: 06:00 | Arrival: 07:45 | Duration: 2h 45m\\n  - Other Wizz Air options: 08:40, 13:15, 17:00, 16:45\\n\\n- easyJet: 107,700 HUF\\n  - Departure: 21:05 | Arrival: 22:45 | Duration: 2h 40m\\n\\n### Premium Options\\n- British Airways: from 251,200 HUF\\n  - Departure: 12:55 | Arrival: 14:40 | Duration: 2h 45m\\n  - Other BA options: 14:55, 17:45, 07:10\\n\\n### Price Distribution\\n- Ultra low-cost (Ryanair, Wizz Air): 60,644–120,518 HUF\\n- Standard/Legacy (British Airways): 251,200–526,000 HUF\\n\\n### Recommendations\\n\\n- Best value (cheapest): Ryanair departing 05:45, 60,644 HUF—direct, early morning.\\n- Most convenient (premium): British Airways at midday (12:55), 251,200 HUF—direct, full-service airline.\\n\\nIf you want something in between (later time but still low cost), look at Wizz Air’s 17:00 flight for 76,580 HUF.\\n\\nLet me know if you have a preferred time, airline, or want details on baggage, return flights, or airport options!', type='output_text')], role='assistant', status='completed', type='message'), type='message_output_item')]"
      ]
     },
     "execution_count": 32,
     "metadata": {},
     "output_type": "execute_result"
    }
   ],
   "source": [
    "a.new_items"
   ]
  },
  {
   "cell_type": "code",
   "execution_count": 33,
   "metadata": {},
   "outputs": [
    {
     "data": {
      "text/plain": [
       "[ModelResponse(output=[ResponseFunctionToolCall(id='fc_6805845ab98881928f0064c17e3b93bf066620510e0f31e1', arguments='{\"date\":\"2025-04-25\",\"from_airport\":\"BUD\",\"to_airports\":[\"LHR\",\"LGW\",\"LTN\",\"STN\",\"LCY\"],\"max_stops\":0}', call_id='call_bPRXHXpgFfTgU0CEqml0J5wH', name='get_flights_to_destinations_tool', type='function_call', status='completed')], usage=Usage(requests=1, input_tokens=390, output_tokens=58, total_tokens=448), referenceable_id='resp_68058459fd7c8192888b55b0c3216836066620510e0f31e1'),\n",
       " ModelResponse(output=[ResponseOutputMessage(id='msg_6805848233148192a3d7df290967a169066620510e0f31e1', content=[ResponseOutputText(annotations=[], text='Here are the flight options from Budapest (BUD) to London on 2025-04-25:\\n\\n### Cheapest Options (All Prices in HUF)\\n- Ryanair: from 60,644 HUF\\n  - Departure: 05:45 | Arrival: 07:20 | Duration: 2h 35m\\n  - Other Ryanair options: 09:50 (arr. 11:25), 15:15 (arr. 16:50), 22:40 (arr. 00:15 next day)\\n\\n- Wizz Air: from 75,960 HUF\\n  - Departure: 06:00 | Arrival: 07:45 | Duration: 2h 45m\\n  - Other Wizz Air options: 08:40, 13:15, 17:00, 16:45\\n\\n- easyJet: 107,700 HUF\\n  - Departure: 21:05 | Arrival: 22:45 | Duration: 2h 40m\\n\\n### Premium Options\\n- British Airways: from 251,200 HUF\\n  - Departure: 12:55 | Arrival: 14:40 | Duration: 2h 45m\\n  - Other BA options: 14:55, 17:45, 07:10\\n\\n### Price Distribution\\n- Ultra low-cost (Ryanair, Wizz Air): 60,644–120,518 HUF\\n- Standard/Legacy (British Airways): 251,200–526,000 HUF\\n\\n### Recommendations\\n\\n- Best value (cheapest): Ryanair departing 05:45, 60,644 HUF—direct, early morning.\\n- Most convenient (premium): British Airways at midday (12:55), 251,200 HUF—direct, full-service airline.\\n\\nIf you want something in between (later time but still low cost), look at Wizz Air’s 17:00 flight for 76,580 HUF.\\n\\nLet me know if you have a preferred time, airline, or want details on baggage, return flights, or airport options!', type='output_text')], role='assistant', status='completed', type='message')], usage=Usage(requests=1, input_tokens=1694, output_tokens=443, total_tokens=2137), referenceable_id='resp_6805848145c08192a8f7c8de7dcfbe84066620510e0f31e1')]"
      ]
     },
     "execution_count": 33,
     "metadata": {},
     "output_type": "execute_result"
    }
   ],
   "source": [
    "a.raw_responses"
   ]
  },
  {
   "cell_type": "code",
   "execution_count": null,
   "metadata": {},
   "outputs": [],
   "source": []
  },
  {
   "cell_type": "markdown",
   "metadata": {},
   "source": [
    "Complex question"
   ]
  },
  {
   "cell_type": "code",
   "execution_count": 43,
   "metadata": {},
   "outputs": [],
   "source": [
    "model_for_complex_question = 'o1'\n",
    "\n",
    "q = 'I want to find the best deal for flying to Madeira from Budapest any time between 2025-07-01 and 2025-07-15. I will want to spend at least 5, at most 8 days there. I will be traveling with my girlfriend. Ideally I only want to have at most 1 stop. Find the optimal flight for me. I want to have the cheapest flight possible.'\n",
    "a = await ai(q, model=model_for_complex_question)"
   ]
  },
  {
   "cell_type": "code",
   "execution_count": 46,
   "metadata": {},
   "outputs": [
    {
     "data": {
      "text/markdown": [
       "Below is an option that, based on currently available data, yields the lowest total fare (departure on July 1, returning on July 8). This trip length is 6 nights on the ground in Madeira (arriving the morning of July 2 and leaving on July 8), which fits your “5 to 8 days” requirement.\n",
       "\n",
       "1) Outbound (Budapest → Madeira):\n",
       "   • Date/Time: Departs Tue, July 1 at 20:00, arrives Wed, July 2 at 09:35  \n",
       "   • Airline(s): SWISS + Edelweiss Air (1 stop)  \n",
       "   • Duration: ~14h 35m  \n",
       "   • Price: 180,800 HUF\n",
       "\n",
       "2) Return (Madeira → Budapest):\n",
       "   • Date/Time: Departs Tue, July 8 at 09:50, arrives Wed, July 9 at 07:50  \n",
       "   • “Self-transfer” itinerary with 1 stop (multiple carriers)  \n",
       "   • Price: 82,651 HUF\n",
       "\n",
       "Total Fare (per person): 180,800 + 82,651 = 263,451 HUF  \n",
       "For two travelers, simply double that amount.\n",
       "\n",
       "Why this is optimal for a budget:\n",
       "• Among all combinations checked (departing July 1, returning on different dates between July 6 and July 9 to satisfy 5–8 days), this pairing yields the lowest combined cost.  \n",
       "• If you prefer fewer stopovers or a shorter travel time, there are single-stop or direct flights with slightly higher fares (for example, returning on July 7 for around 110,000 HUF rather than ~83,000 HUF on July 8). However, they add to the overall ticket price.\n",
       "\n",
       "If you have flexibility to change departure dates, it is worth checking July 2 or 3 departures as well—sometimes midweek can be cheaper. But with the data at hand, this July 1–8 plan is the least expensive option."
      ],
      "text/plain": [
       "<IPython.core.display.Markdown object>"
      ]
     },
     "metadata": {},
     "output_type": "display_data"
    }
   ],
   "source": [
    "display(Markdown(a.final_output))"
   ]
  },
  {
   "cell_type": "code",
   "execution_count": 44,
   "metadata": {},
   "outputs": [
    {
     "data": {
      "text/plain": [
       "[ReasoningItem(agent=Agent(name='Flight Assistant', instructions=\"You are a helpful personal assistant. You are able to get real-time flight information for a given destination and date. You answer users' questions about flight prices and availability.\", handoff_description=None, handoffs=[], model='o1', model_settings=ModelSettings(temperature=None, top_p=None, frequency_penalty=None, presence_penalty=None, tool_choice=None, parallel_tool_calls=False, truncation=None, max_tokens=None), tools=[FunctionTool(name='get_flights_to_destinations_tool', description=\"Fetch flights to multiple destinations and return a combined DataFrame.\\n\\nNote: The fast_flights API doesn't support multiple destinations in a single call,\\nso this function makes separate API calls for each destination and combines the results.\", params_json_schema={'properties': {'date': {'description': 'Flight date in YYYY-MM-DD format', 'title': 'Date', 'type': 'string'}, 'from_airport': {'description': 'Departure airport code in IATA format (3-letter codes), such as \"BUD\"', 'title': 'From Airport', 'type': 'string'}, 'to_airports': {'description': 'List of destination airport codes in IATA format (3-letter codes), such as [\"CDG\", \"ORY\", \"BVA\"]', 'items': {'type': 'string'}, 'title': 'To Airports', 'type': 'array'}, 'max_stops': {'description': 'Maximum number of stops (default: 0)', 'title': 'Max Stops', 'type': 'integer'}}, 'required': ['date', 'from_airport', 'to_airports', 'max_stops'], 'title': 'get_flights_to_destinations_tool_args', 'type': 'object', 'additionalProperties': False}, on_invoke_tool=<function function_tool.<locals>._create_function_tool.<locals>._on_invoke_tool at 0x12dffdd00>, strict_json_schema=True)], input_guardrails=[], output_guardrails=[], output_type=None, hooks=None), raw_item=ResponseReasoningItem(id='rs_6805871f4e34819288a7bb10d789d71501c0da4612e130cd', summary=[], type='reasoning', status=None), type='reasoning_item'),\n",
       " ToolCallItem(agent=Agent(name='Flight Assistant', instructions=\"You are a helpful personal assistant. You are able to get real-time flight information for a given destination and date. You answer users' questions about flight prices and availability.\", handoff_description=None, handoffs=[], model='o1', model_settings=ModelSettings(temperature=None, top_p=None, frequency_penalty=None, presence_penalty=None, tool_choice=None, parallel_tool_calls=False, truncation=None, max_tokens=None), tools=[FunctionTool(name='get_flights_to_destinations_tool', description=\"Fetch flights to multiple destinations and return a combined DataFrame.\\n\\nNote: The fast_flights API doesn't support multiple destinations in a single call,\\nso this function makes separate API calls for each destination and combines the results.\", params_json_schema={'properties': {'date': {'description': 'Flight date in YYYY-MM-DD format', 'title': 'Date', 'type': 'string'}, 'from_airport': {'description': 'Departure airport code in IATA format (3-letter codes), such as \"BUD\"', 'title': 'From Airport', 'type': 'string'}, 'to_airports': {'description': 'List of destination airport codes in IATA format (3-letter codes), such as [\"CDG\", \"ORY\", \"BVA\"]', 'items': {'type': 'string'}, 'title': 'To Airports', 'type': 'array'}, 'max_stops': {'description': 'Maximum number of stops (default: 0)', 'title': 'Max Stops', 'type': 'integer'}}, 'required': ['date', 'from_airport', 'to_airports', 'max_stops'], 'title': 'get_flights_to_destinations_tool_args', 'type': 'object', 'additionalProperties': False}, on_invoke_tool=<function function_tool.<locals>._create_function_tool.<locals>._on_invoke_tool at 0x12dffdd00>, strict_json_schema=True)], input_guardrails=[], output_guardrails=[], output_type=None, hooks=None), raw_item=ResponseFunctionToolCall(id='fc_68058722a33481929dd8ef47f3eee83201c0da4612e130cd', arguments='{\\n  \"date\": \"2025-07-01\",\\n  \"from_airport\": \"BUD\",\\n  \"to_airports\": [\\n    \"FNC\"\\n  ],\\n  \"max_stops\": 1\\n}', call_id='call_GyUkJnV91vo4JWNt3M8eon9G', name='get_flights_to_destinations_tool', type='function_call', status='completed'), type='tool_call_item'),\n",
       " ToolCallOutputItem(agent=Agent(name='Flight Assistant', instructions=\"You are a helpful personal assistant. You are able to get real-time flight information for a given destination and date. You answer users' questions about flight prices and availability.\", handoff_description=None, handoffs=[], model='o1', model_settings=ModelSettings(temperature=None, top_p=None, frequency_penalty=None, presence_penalty=None, tool_choice=None, parallel_tool_calls=False, truncation=None, max_tokens=None), tools=[FunctionTool(name='get_flights_to_destinations_tool', description=\"Fetch flights to multiple destinations and return a combined DataFrame.\\n\\nNote: The fast_flights API doesn't support multiple destinations in a single call,\\nso this function makes separate API calls for each destination and combines the results.\", params_json_schema={'properties': {'date': {'description': 'Flight date in YYYY-MM-DD format', 'title': 'Date', 'type': 'string'}, 'from_airport': {'description': 'Departure airport code in IATA format (3-letter codes), such as \"BUD\"', 'title': 'From Airport', 'type': 'string'}, 'to_airports': {'description': 'List of destination airport codes in IATA format (3-letter codes), such as [\"CDG\", \"ORY\", \"BVA\"]', 'items': {'type': 'string'}, 'title': 'To Airports', 'type': 'array'}, 'max_stops': {'description': 'Maximum number of stops (default: 0)', 'title': 'Max Stops', 'type': 'integer'}}, 'required': ['date', 'from_airport', 'to_airports', 'max_stops'], 'title': 'get_flights_to_destinations_tool_args', 'type': 'object', 'additionalProperties': False}, on_invoke_tool=<function function_tool.<locals>._create_function_tool.<locals>._on_invoke_tool at 0x12dffdd00>, strict_json_schema=True)], input_guardrails=[], output_guardrails=[], output_type=None, hooks=None), raw_item={'call_id': 'call_GyUkJnV91vo4JWNt3M8eon9G', 'output': '     price departure_date departure_time arrival_date arrival_time  \\\\\\n0   180800     2025-07-01          20:00   2025-07-02        09:35   \\n1   210000     2025-07-01          11:35   2025-07-01        18:55   \\n2   423800     2025-07-01          06:00   2025-07-01        14:40   \\n3   226400     2025-07-01          14:55   2025-07-02        09:35   \\n4   246800     2025-07-01          06:20   2025-07-01        18:55   \\n5   267400     2025-07-01          06:05   2025-07-02        10:30   \\n6   267400     2025-07-01          08:25   2025-07-02        10:30   \\n7   267400     2025-07-01          13:25   2025-07-02        10:30   \\n8   267400     2025-07-01          17:30   2025-07-02        10:30   \\n9   321200     2025-07-01          09:30   2025-07-02        09:35   \\n10  384400     2025-07-01          18:20   2025-07-02        11:10   \\n11  430200     2025-07-01          14:35   2025-07-02        11:10   \\n12  432400     2025-07-01          14:20   2025-07-02        16:30   \\n13  432400     2025-07-01          19:05   2025-07-02        16:30   \\n14  526400     2025-07-01          11:40   2025-07-02        11:10   \\n15  598200     2025-07-01          07:25   2025-07-01        17:50   \\n16  180800     2025-07-01          20:00   2025-07-02        09:35   \\n17  210000     2025-07-01          11:35   2025-07-01        18:55   \\n18  226400     2025-07-01          14:55   2025-07-02        09:35   \\n19  246800     2025-07-01          06:20   2025-07-01        18:55   \\n20  267400     2025-07-01          06:05   2025-07-02        10:30   \\n21  267400     2025-07-01          08:25   2025-07-02        10:30   \\n22  267400     2025-07-01          13:25   2025-07-02        10:30   \\n23  267400     2025-07-01          17:30   2025-07-02        10:30   \\n24  321200     2025-07-01          09:30   2025-07-02        09:35   \\n25  384400     2025-07-01          18:20   2025-07-02        11:10   \\n26  430200     2025-07-01          14:35   2025-07-02        11:10   \\n27  432400     2025-07-01          14:20   2025-07-02        16:30   \\n28  432400     2025-07-01          19:05   2025-07-02        16:30   \\n29  526400     2025-07-01          11:40   2025-07-02        11:10   \\n30  598200     2025-07-01          07:25   2025-07-01        17:50   \\n\\n    duration_hours                          name  stops  is_best  \\\\\\n0           14.583          SWISS, Edelweiss Air      1     True   \\n1            8.333                KLM, Transavia      1     True   \\n2            9.667  Lufthansa, Discover Airlines      1     True   \\n3           19.667          SWISS, Edelweiss Air      1    False   \\n4           13.583                KLM, Transavia      1    False   \\n5           29.417  Lufthansa, Discover Airlines      1    False   \\n6           27.083  Lufthansa, Discover Airlines      1    False   \\n7           22.083  Lufthansa, Discover Airlines      1    False   \\n8              NaN  Lufthansa, Discover Airlines      1    False   \\n9           25.083          SWISS, Edelweiss Air      1    False   \\n10          17.833               British Airways      1    False   \\n11          21.583               British Airways      1    False   \\n12          27.167  Lufthansa, Discover Airlines      1    False   \\n13          22.417  Lufthansa, Discover Airlines      1    False   \\n14          24.500               British Airways      1    False   \\n15          11.417               British Airways      1    False   \\n16          14.583          SWISS, Edelweiss Air      1    False   \\n17           8.333                KLM, Transavia      1    False   \\n18          19.667          SWISS, Edelweiss Air      1    False   \\n19          13.583                KLM, Transavia      1    False   \\n20          29.417  Lufthansa, Discover Airlines      1    False   \\n21          27.083  Lufthansa, Discover Airlines      1    False   \\n22          22.083  Lufthansa, Discover Airlines      1    False   \\n23             NaN  Lufthansa, Discover Airlines      1    False   \\n24          25.083          SWISS, Edelweiss Air      1    False   \\n25          17.833               British Airways      1    False   \\n26          21.583               British Airways      1    False   \\n27          27.167  Lufthansa, Discover Airlines      1    False   \\n28          22.417  Lufthansa, Discover Airlines      1    False   \\n29          24.500               British Airways      1    False   \\n30          11.417               British Airways      1    False   \\n\\n   price_denomination  \\n0                 HUF  \\n1                 HUF  \\n2                 HUF  \\n3                 HUF  \\n4                 HUF  \\n5                 HUF  \\n6                 HUF  \\n7                 HUF  \\n8                 HUF  \\n9                 HUF  \\n10                HUF  \\n11                HUF  \\n12                HUF  \\n13                HUF  \\n14                HUF  \\n15                HUF  \\n16                HUF  \\n17                HUF  \\n18                HUF  \\n19                HUF  \\n20                HUF  \\n21                HUF  \\n22                HUF  \\n23                HUF  \\n24                HUF  \\n25                HUF  \\n26                HUF  \\n27                HUF  \\n28                HUF  \\n29                HUF  \\n30                HUF  ', 'type': 'function_call_output'}, output='     price departure_date departure_time arrival_date arrival_time  \\\\\\n0   180800     2025-07-01          20:00   2025-07-02        09:35   \\n1   210000     2025-07-01          11:35   2025-07-01        18:55   \\n2   423800     2025-07-01          06:00   2025-07-01        14:40   \\n3   226400     2025-07-01          14:55   2025-07-02        09:35   \\n4   246800     2025-07-01          06:20   2025-07-01        18:55   \\n5   267400     2025-07-01          06:05   2025-07-02        10:30   \\n6   267400     2025-07-01          08:25   2025-07-02        10:30   \\n7   267400     2025-07-01          13:25   2025-07-02        10:30   \\n8   267400     2025-07-01          17:30   2025-07-02        10:30   \\n9   321200     2025-07-01          09:30   2025-07-02        09:35   \\n10  384400     2025-07-01          18:20   2025-07-02        11:10   \\n11  430200     2025-07-01          14:35   2025-07-02        11:10   \\n12  432400     2025-07-01          14:20   2025-07-02        16:30   \\n13  432400     2025-07-01          19:05   2025-07-02        16:30   \\n14  526400     2025-07-01          11:40   2025-07-02        11:10   \\n15  598200     2025-07-01          07:25   2025-07-01        17:50   \\n16  180800     2025-07-01          20:00   2025-07-02        09:35   \\n17  210000     2025-07-01          11:35   2025-07-01        18:55   \\n18  226400     2025-07-01          14:55   2025-07-02        09:35   \\n19  246800     2025-07-01          06:20   2025-07-01        18:55   \\n20  267400     2025-07-01          06:05   2025-07-02        10:30   \\n21  267400     2025-07-01          08:25   2025-07-02        10:30   \\n22  267400     2025-07-01          13:25   2025-07-02        10:30   \\n23  267400     2025-07-01          17:30   2025-07-02        10:30   \\n24  321200     2025-07-01          09:30   2025-07-02        09:35   \\n25  384400     2025-07-01          18:20   2025-07-02        11:10   \\n26  430200     2025-07-01          14:35   2025-07-02        11:10   \\n27  432400     2025-07-01          14:20   2025-07-02        16:30   \\n28  432400     2025-07-01          19:05   2025-07-02        16:30   \\n29  526400     2025-07-01          11:40   2025-07-02        11:10   \\n30  598200     2025-07-01          07:25   2025-07-01        17:50   \\n\\n    duration_hours                          name  stops  is_best  \\\\\\n0           14.583          SWISS, Edelweiss Air      1     True   \\n1            8.333                KLM, Transavia      1     True   \\n2            9.667  Lufthansa, Discover Airlines      1     True   \\n3           19.667          SWISS, Edelweiss Air      1    False   \\n4           13.583                KLM, Transavia      1    False   \\n5           29.417  Lufthansa, Discover Airlines      1    False   \\n6           27.083  Lufthansa, Discover Airlines      1    False   \\n7           22.083  Lufthansa, Discover Airlines      1    False   \\n8              NaN  Lufthansa, Discover Airlines      1    False   \\n9           25.083          SWISS, Edelweiss Air      1    False   \\n10          17.833               British Airways      1    False   \\n11          21.583               British Airways      1    False   \\n12          27.167  Lufthansa, Discover Airlines      1    False   \\n13          22.417  Lufthansa, Discover Airlines      1    False   \\n14          24.500               British Airways      1    False   \\n15          11.417               British Airways      1    False   \\n16          14.583          SWISS, Edelweiss Air      1    False   \\n17           8.333                KLM, Transavia      1    False   \\n18          19.667          SWISS, Edelweiss Air      1    False   \\n19          13.583                KLM, Transavia      1    False   \\n20          29.417  Lufthansa, Discover Airlines      1    False   \\n21          27.083  Lufthansa, Discover Airlines      1    False   \\n22          22.083  Lufthansa, Discover Airlines      1    False   \\n23             NaN  Lufthansa, Discover Airlines      1    False   \\n24          25.083          SWISS, Edelweiss Air      1    False   \\n25          17.833               British Airways      1    False   \\n26          21.583               British Airways      1    False   \\n27          27.167  Lufthansa, Discover Airlines      1    False   \\n28          22.417  Lufthansa, Discover Airlines      1    False   \\n29          24.500               British Airways      1    False   \\n30          11.417               British Airways      1    False   \\n\\n   price_denomination  \\n0                 HUF  \\n1                 HUF  \\n2                 HUF  \\n3                 HUF  \\n4                 HUF  \\n5                 HUF  \\n6                 HUF  \\n7                 HUF  \\n8                 HUF  \\n9                 HUF  \\n10                HUF  \\n11                HUF  \\n12                HUF  \\n13                HUF  \\n14                HUF  \\n15                HUF  \\n16                HUF  \\n17                HUF  \\n18                HUF  \\n19                HUF  \\n20                HUF  \\n21                HUF  \\n22                HUF  \\n23                HUF  \\n24                HUF  \\n25                HUF  \\n26                HUF  \\n27                HUF  \\n28                HUF  \\n29                HUF  \\n30                HUF  ', type='tool_call_output_item'),\n",
       " ReasoningItem(agent=Agent(name='Flight Assistant', instructions=\"You are a helpful personal assistant. You are able to get real-time flight information for a given destination and date. You answer users' questions about flight prices and availability.\", handoff_description=None, handoffs=[], model='o1', model_settings=ModelSettings(temperature=None, top_p=None, frequency_penalty=None, presence_penalty=None, tool_choice=None, parallel_tool_calls=False, truncation=None, max_tokens=None), tools=[FunctionTool(name='get_flights_to_destinations_tool', description=\"Fetch flights to multiple destinations and return a combined DataFrame.\\n\\nNote: The fast_flights API doesn't support multiple destinations in a single call,\\nso this function makes separate API calls for each destination and combines the results.\", params_json_schema={'properties': {'date': {'description': 'Flight date in YYYY-MM-DD format', 'title': 'Date', 'type': 'string'}, 'from_airport': {'description': 'Departure airport code in IATA format (3-letter codes), such as \"BUD\"', 'title': 'From Airport', 'type': 'string'}, 'to_airports': {'description': 'List of destination airport codes in IATA format (3-letter codes), such as [\"CDG\", \"ORY\", \"BVA\"]', 'items': {'type': 'string'}, 'title': 'To Airports', 'type': 'array'}, 'max_stops': {'description': 'Maximum number of stops (default: 0)', 'title': 'Max Stops', 'type': 'integer'}}, 'required': ['date', 'from_airport', 'to_airports', 'max_stops'], 'title': 'get_flights_to_destinations_tool_args', 'type': 'object', 'additionalProperties': False}, on_invoke_tool=<function function_tool.<locals>._create_function_tool.<locals>._on_invoke_tool at 0x12dffdd00>, strict_json_schema=True)], input_guardrails=[], output_guardrails=[], output_type=None, hooks=None), raw_item=ResponseReasoningItem(id='rs_6805874f4b1c8192a86276ad768c1b1601c0da4612e130cd', summary=[], type='reasoning', status=None), type='reasoning_item'),\n",
       " ToolCallItem(agent=Agent(name='Flight Assistant', instructions=\"You are a helpful personal assistant. You are able to get real-time flight information for a given destination and date. You answer users' questions about flight prices and availability.\", handoff_description=None, handoffs=[], model='o1', model_settings=ModelSettings(temperature=None, top_p=None, frequency_penalty=None, presence_penalty=None, tool_choice=None, parallel_tool_calls=False, truncation=None, max_tokens=None), tools=[FunctionTool(name='get_flights_to_destinations_tool', description=\"Fetch flights to multiple destinations and return a combined DataFrame.\\n\\nNote: The fast_flights API doesn't support multiple destinations in a single call,\\nso this function makes separate API calls for each destination and combines the results.\", params_json_schema={'properties': {'date': {'description': 'Flight date in YYYY-MM-DD format', 'title': 'Date', 'type': 'string'}, 'from_airport': {'description': 'Departure airport code in IATA format (3-letter codes), such as \"BUD\"', 'title': 'From Airport', 'type': 'string'}, 'to_airports': {'description': 'List of destination airport codes in IATA format (3-letter codes), such as [\"CDG\", \"ORY\", \"BVA\"]', 'items': {'type': 'string'}, 'title': 'To Airports', 'type': 'array'}, 'max_stops': {'description': 'Maximum number of stops (default: 0)', 'title': 'Max Stops', 'type': 'integer'}}, 'required': ['date', 'from_airport', 'to_airports', 'max_stops'], 'title': 'get_flights_to_destinations_tool_args', 'type': 'object', 'additionalProperties': False}, on_invoke_tool=<function function_tool.<locals>._create_function_tool.<locals>._on_invoke_tool at 0x12dffdd00>, strict_json_schema=True)], input_guardrails=[], output_guardrails=[], output_type=None, hooks=None), raw_item=ResponseFunctionToolCall(id='fc_68058753063881929d0cedff17ddeb6d01c0da4612e130cd', arguments='{\"date\":\"2025-07-06\",\"from_airport\":\"FNC\",\"to_airports\":[\"BUD\"],\"max_stops\":1}', call_id='call_p1BVkzCQK5QbHWj3sUGOkeqv', name='get_flights_to_destinations_tool', type='function_call', status='completed'), type='tool_call_item'),\n",
       " ToolCallOutputItem(agent=Agent(name='Flight Assistant', instructions=\"You are a helpful personal assistant. You are able to get real-time flight information for a given destination and date. You answer users' questions about flight prices and availability.\", handoff_description=None, handoffs=[], model='o1', model_settings=ModelSettings(temperature=None, top_p=None, frequency_penalty=None, presence_penalty=None, tool_choice=None, parallel_tool_calls=False, truncation=None, max_tokens=None), tools=[FunctionTool(name='get_flights_to_destinations_tool', description=\"Fetch flights to multiple destinations and return a combined DataFrame.\\n\\nNote: The fast_flights API doesn't support multiple destinations in a single call,\\nso this function makes separate API calls for each destination and combines the results.\", params_json_schema={'properties': {'date': {'description': 'Flight date in YYYY-MM-DD format', 'title': 'Date', 'type': 'string'}, 'from_airport': {'description': 'Departure airport code in IATA format (3-letter codes), such as \"BUD\"', 'title': 'From Airport', 'type': 'string'}, 'to_airports': {'description': 'List of destination airport codes in IATA format (3-letter codes), such as [\"CDG\", \"ORY\", \"BVA\"]', 'items': {'type': 'string'}, 'title': 'To Airports', 'type': 'array'}, 'max_stops': {'description': 'Maximum number of stops (default: 0)', 'title': 'Max Stops', 'type': 'integer'}}, 'required': ['date', 'from_airport', 'to_airports', 'max_stops'], 'title': 'get_flights_to_destinations_tool_args', 'type': 'object', 'additionalProperties': False}, on_invoke_tool=<function function_tool.<locals>._create_function_tool.<locals>._on_invoke_tool at 0x12dffdd00>, strict_json_schema=True)], input_guardrails=[], output_guardrails=[], output_type=None, hooks=None), raw_item={'call_id': 'call_p1BVkzCQK5QbHWj3sUGOkeqv', 'output': '     price departure_date departure_time arrival_date arrival_time  \\\\\\n0   225089     2025-07-06          10:50   2025-07-06        19:55   \\n1   193161     2025-07-06          09:20   2025-07-06        23:00   \\n2   247305     2025-07-06          19:05   2025-07-07        12:00   \\n3   310189     2025-07-06          10:50   2025-07-07        08:35   \\n4   378799     2025-07-06          16:00   2025-07-07        08:40   \\n5   453559     2025-07-06          16:00   2025-07-07        18:20   \\n6   459848     2025-07-06          09:20   2025-07-06        18:35   \\n7   550290     2025-07-06          16:00   2025-07-06        23:50   \\n8   603414     2025-07-06          16:00   2025-07-07        10:30   \\n9   720646     2025-07-06          16:00   2025-07-07        13:35   \\n10  193161     2025-07-06          09:20   2025-07-06        23:00   \\n11  247305     2025-07-06          19:05   2025-07-07        12:00   \\n12  310189     2025-07-06          10:50   2025-07-07        08:35   \\n13  378799     2025-07-06          16:00   2025-07-07        08:40   \\n14  453559     2025-07-06          16:00   2025-07-07        18:20   \\n15  459848     2025-07-06          09:20   2025-07-06        18:35   \\n16  550290     2025-07-06          16:00   2025-07-06        23:50   \\n17  603414     2025-07-06          16:00   2025-07-07        10:30   \\n18  720646     2025-07-06          16:00   2025-07-07        13:35   \\n\\n    duration_hours                                               name  stops  \\\\\\n0            8.083  Self transferThis trip includes tickets from m...      1   \\n1           12.667  Self transferThis trip includes tickets from m...      1   \\n2           15.917  Self transferThis trip includes tickets from m...      1   \\n3           20.750                                          Eurowings      1   \\n4           15.667                       Discover Airlines, Lufthansa      1   \\n5           25.333                       Discover Airlines, Lufthansa      1   \\n6            8.250  Self transferThis trip includes tickets from m...      1   \\n7            6.833                       Discover Airlines, Lufthansa      1   \\n8           17.500                       Discover Airlines, Lufthansa      1   \\n9           20.583                       Discover Airlines, Lufthansa      1   \\n10          12.667  Self transferThis trip includes tickets from m...      1   \\n11          15.917  Self transferThis trip includes tickets from m...      1   \\n12          20.750                                          Eurowings      1   \\n13          15.667                       Discover Airlines, Lufthansa      1   \\n14          25.333                       Discover Airlines, Lufthansa      1   \\n15           8.250  Self transferThis trip includes tickets from m...      1   \\n16           6.833                       Discover Airlines, Lufthansa      1   \\n17          17.500                       Discover Airlines, Lufthansa      1   \\n18          20.583                       Discover Airlines, Lufthansa      1   \\n\\n    is_best price_denomination  \\n0      True                HUF  \\n1     False                HUF  \\n2     False                HUF  \\n3     False                HUF  \\n4     False                HUF  \\n5     False                HUF  \\n6     False                HUF  \\n7     False                HUF  \\n8     False                HUF  \\n9     False                HUF  \\n10    False                HUF  \\n11    False                HUF  \\n12    False                HUF  \\n13    False                HUF  \\n14    False                HUF  \\n15    False                HUF  \\n16    False                HUF  \\n17    False                HUF  \\n18    False                HUF  ', 'type': 'function_call_output'}, output='     price departure_date departure_time arrival_date arrival_time  \\\\\\n0   225089     2025-07-06          10:50   2025-07-06        19:55   \\n1   193161     2025-07-06          09:20   2025-07-06        23:00   \\n2   247305     2025-07-06          19:05   2025-07-07        12:00   \\n3   310189     2025-07-06          10:50   2025-07-07        08:35   \\n4   378799     2025-07-06          16:00   2025-07-07        08:40   \\n5   453559     2025-07-06          16:00   2025-07-07        18:20   \\n6   459848     2025-07-06          09:20   2025-07-06        18:35   \\n7   550290     2025-07-06          16:00   2025-07-06        23:50   \\n8   603414     2025-07-06          16:00   2025-07-07        10:30   \\n9   720646     2025-07-06          16:00   2025-07-07        13:35   \\n10  193161     2025-07-06          09:20   2025-07-06        23:00   \\n11  247305     2025-07-06          19:05   2025-07-07        12:00   \\n12  310189     2025-07-06          10:50   2025-07-07        08:35   \\n13  378799     2025-07-06          16:00   2025-07-07        08:40   \\n14  453559     2025-07-06          16:00   2025-07-07        18:20   \\n15  459848     2025-07-06          09:20   2025-07-06        18:35   \\n16  550290     2025-07-06          16:00   2025-07-06        23:50   \\n17  603414     2025-07-06          16:00   2025-07-07        10:30   \\n18  720646     2025-07-06          16:00   2025-07-07        13:35   \\n\\n    duration_hours                                               name  stops  \\\\\\n0            8.083  Self transferThis trip includes tickets from m...      1   \\n1           12.667  Self transferThis trip includes tickets from m...      1   \\n2           15.917  Self transferThis trip includes tickets from m...      1   \\n3           20.750                                          Eurowings      1   \\n4           15.667                       Discover Airlines, Lufthansa      1   \\n5           25.333                       Discover Airlines, Lufthansa      1   \\n6            8.250  Self transferThis trip includes tickets from m...      1   \\n7            6.833                       Discover Airlines, Lufthansa      1   \\n8           17.500                       Discover Airlines, Lufthansa      1   \\n9           20.583                       Discover Airlines, Lufthansa      1   \\n10          12.667  Self transferThis trip includes tickets from m...      1   \\n11          15.917  Self transferThis trip includes tickets from m...      1   \\n12          20.750                                          Eurowings      1   \\n13          15.667                       Discover Airlines, Lufthansa      1   \\n14          25.333                       Discover Airlines, Lufthansa      1   \\n15           8.250  Self transferThis trip includes tickets from m...      1   \\n16           6.833                       Discover Airlines, Lufthansa      1   \\n17          17.500                       Discover Airlines, Lufthansa      1   \\n18          20.583                       Discover Airlines, Lufthansa      1   \\n\\n    is_best price_denomination  \\n0      True                HUF  \\n1     False                HUF  \\n2     False                HUF  \\n3     False                HUF  \\n4     False                HUF  \\n5     False                HUF  \\n6     False                HUF  \\n7     False                HUF  \\n8     False                HUF  \\n9     False                HUF  \\n10    False                HUF  \\n11    False                HUF  \\n12    False                HUF  \\n13    False                HUF  \\n14    False                HUF  \\n15    False                HUF  \\n16    False                HUF  \\n17    False                HUF  \\n18    False                HUF  ', type='tool_call_output_item'),\n",
       " ReasoningItem(agent=Agent(name='Flight Assistant', instructions=\"You are a helpful personal assistant. You are able to get real-time flight information for a given destination and date. You answer users' questions about flight prices and availability.\", handoff_description=None, handoffs=[], model='o1', model_settings=ModelSettings(temperature=None, top_p=None, frequency_penalty=None, presence_penalty=None, tool_choice=None, parallel_tool_calls=False, truncation=None, max_tokens=None), tools=[FunctionTool(name='get_flights_to_destinations_tool', description=\"Fetch flights to multiple destinations and return a combined DataFrame.\\n\\nNote: The fast_flights API doesn't support multiple destinations in a single call,\\nso this function makes separate API calls for each destination and combines the results.\", params_json_schema={'properties': {'date': {'description': 'Flight date in YYYY-MM-DD format', 'title': 'Date', 'type': 'string'}, 'from_airport': {'description': 'Departure airport code in IATA format (3-letter codes), such as \"BUD\"', 'title': 'From Airport', 'type': 'string'}, 'to_airports': {'description': 'List of destination airport codes in IATA format (3-letter codes), such as [\"CDG\", \"ORY\", \"BVA\"]', 'items': {'type': 'string'}, 'title': 'To Airports', 'type': 'array'}, 'max_stops': {'description': 'Maximum number of stops (default: 0)', 'title': 'Max Stops', 'type': 'integer'}}, 'required': ['date', 'from_airport', 'to_airports', 'max_stops'], 'title': 'get_flights_to_destinations_tool_args', 'type': 'object', 'additionalProperties': False}, on_invoke_tool=<function function_tool.<locals>._create_function_tool.<locals>._on_invoke_tool at 0x12dffdd00>, strict_json_schema=True)], input_guardrails=[], output_guardrails=[], output_type=None, hooks=None), raw_item=ResponseReasoningItem(id='rs_6805876c05f48192831dc148e6de5fdd01c0da4612e130cd', summary=[], type='reasoning', status=None), type='reasoning_item'),\n",
       " ToolCallItem(agent=Agent(name='Flight Assistant', instructions=\"You are a helpful personal assistant. You are able to get real-time flight information for a given destination and date. You answer users' questions about flight prices and availability.\", handoff_description=None, handoffs=[], model='o1', model_settings=ModelSettings(temperature=None, top_p=None, frequency_penalty=None, presence_penalty=None, tool_choice=None, parallel_tool_calls=False, truncation=None, max_tokens=None), tools=[FunctionTool(name='get_flights_to_destinations_tool', description=\"Fetch flights to multiple destinations and return a combined DataFrame.\\n\\nNote: The fast_flights API doesn't support multiple destinations in a single call,\\nso this function makes separate API calls for each destination and combines the results.\", params_json_schema={'properties': {'date': {'description': 'Flight date in YYYY-MM-DD format', 'title': 'Date', 'type': 'string'}, 'from_airport': {'description': 'Departure airport code in IATA format (3-letter codes), such as \"BUD\"', 'title': 'From Airport', 'type': 'string'}, 'to_airports': {'description': 'List of destination airport codes in IATA format (3-letter codes), such as [\"CDG\", \"ORY\", \"BVA\"]', 'items': {'type': 'string'}, 'title': 'To Airports', 'type': 'array'}, 'max_stops': {'description': 'Maximum number of stops (default: 0)', 'title': 'Max Stops', 'type': 'integer'}}, 'required': ['date', 'from_airport', 'to_airports', 'max_stops'], 'title': 'get_flights_to_destinations_tool_args', 'type': 'object', 'additionalProperties': False}, on_invoke_tool=<function function_tool.<locals>._create_function_tool.<locals>._on_invoke_tool at 0x12dffdd00>, strict_json_schema=True)], input_guardrails=[], output_guardrails=[], output_type=None, hooks=None), raw_item=ResponseFunctionToolCall(id='fc_6805876e83088192b0c7cd12af947be701c0da4612e130cd', arguments='{\"date\":\"2025-07-07\",\"from_airport\":\"FNC\",\"to_airports\":[\"BUD\"],\"max_stops\":1}', call_id='call_iTjAoQbRC2PIKLF4O4ViCQ7p', name='get_flights_to_destinations_tool', type='function_call', status='completed'), type='tool_call_item'),\n",
       " ToolCallOutputItem(agent=Agent(name='Flight Assistant', instructions=\"You are a helpful personal assistant. You are able to get real-time flight information for a given destination and date. You answer users' questions about flight prices and availability.\", handoff_description=None, handoffs=[], model='o1', model_settings=ModelSettings(temperature=None, top_p=None, frequency_penalty=None, presence_penalty=None, tool_choice=None, parallel_tool_calls=False, truncation=None, max_tokens=None), tools=[FunctionTool(name='get_flights_to_destinations_tool', description=\"Fetch flights to multiple destinations and return a combined DataFrame.\\n\\nNote: The fast_flights API doesn't support multiple destinations in a single call,\\nso this function makes separate API calls for each destination and combines the results.\", params_json_schema={'properties': {'date': {'description': 'Flight date in YYYY-MM-DD format', 'title': 'Date', 'type': 'string'}, 'from_airport': {'description': 'Departure airport code in IATA format (3-letter codes), such as \"BUD\"', 'title': 'From Airport', 'type': 'string'}, 'to_airports': {'description': 'List of destination airport codes in IATA format (3-letter codes), such as [\"CDG\", \"ORY\", \"BVA\"]', 'items': {'type': 'string'}, 'title': 'To Airports', 'type': 'array'}, 'max_stops': {'description': 'Maximum number of stops (default: 0)', 'title': 'Max Stops', 'type': 'integer'}}, 'required': ['date', 'from_airport', 'to_airports', 'max_stops'], 'title': 'get_flights_to_destinations_tool_args', 'type': 'object', 'additionalProperties': False}, on_invoke_tool=<function function_tool.<locals>._create_function_tool.<locals>._on_invoke_tool at 0x12dffdd00>, strict_json_schema=True)], input_guardrails=[], output_guardrails=[], output_type=None, hooks=None), raw_item={'call_id': 'call_iTjAoQbRC2PIKLF4O4ViCQ7p', 'output': '     price departure_date departure_time arrival_date arrival_time  \\\\\\n0   110258     2025-07-07          17:50   2025-07-07        23:35   \\n1   123130     2025-07-07          13:25   2025-07-07        23:35   \\n2   127337     2025-07-07          12:15   2025-07-07        22:50   \\n3   136697     2025-07-07          09:55   2025-07-07        23:05   \\n4   193055     2025-07-07          09:55   2025-07-07        18:55   \\n5   294352     2025-07-07          16:45   2025-07-08        08:25   \\n6   354924     2025-07-07          16:45   2025-07-08        19:20   \\n7   364203     2025-07-07          19:00   2025-07-08        10:50   \\n8   459146     2025-07-07          11:00   2025-07-08        14:50   \\n9   463033     2025-07-07          19:00   2025-07-08        17:10   \\n10  758708     2025-07-07          19:00   2025-07-08        13:45   \\n11  123130     2025-07-07          13:25   2025-07-07        23:35   \\n12  127337     2025-07-07          12:15   2025-07-07        22:50   \\n13  136697     2025-07-07          09:55   2025-07-07        23:05   \\n14  193055     2025-07-07          09:55   2025-07-07        18:55   \\n15  294352     2025-07-07          16:45   2025-07-08        08:25   \\n16  354924     2025-07-07          16:45   2025-07-08        19:20   \\n17  364203     2025-07-07          19:00   2025-07-08        10:50   \\n18  459146     2025-07-07          11:00   2025-07-08        14:50   \\n19  463033     2025-07-07          19:00   2025-07-08        17:10   \\n20  758708     2025-07-07          19:00   2025-07-08        13:45   \\n\\n    duration_hours                                               name  stops  \\\\\\n0            4.750                                           Wizz Air      0   \\n1            9.167  Self transferThis trip includes tickets from m...      1   \\n2            9.583  Self transferThis trip includes tickets from m...      1   \\n3           12.167                                     Transavia, KLM      1   \\n4              NaN                                     Transavia, KLM      1   \\n5           14.667  Self transferThis trip includes tickets from m...      1   \\n6           25.583                                          Eurowings      1   \\n7           14.833                                    British Airways      1   \\n8           26.833                                             Iberia      1   \\n9           21.167                                    British Airways      1   \\n10          17.750                                    British Airways      1   \\n11           9.167  Self transferThis trip includes tickets from m...      1   \\n12           9.583  Self transferThis trip includes tickets from m...      1   \\n13          12.167                                     Transavia, KLM      1   \\n14             NaN                                     Transavia, KLM      1   \\n15          14.667  Self transferThis trip includes tickets from m...      1   \\n16          25.583                                          Eurowings      1   \\n17          14.833                                    British Airways      1   \\n18          26.833                                             Iberia      1   \\n19          21.167                                    British Airways      1   \\n20          17.750                                    British Airways      1   \\n\\n    is_best price_denomination  \\n0      True                HUF  \\n1     False                HUF  \\n2     False                HUF  \\n3     False                HUF  \\n4     False                HUF  \\n5     False                HUF  \\n6     False                HUF  \\n7     False                HUF  \\n8     False                HUF  \\n9     False                HUF  \\n10    False                HUF  \\n11    False                HUF  \\n12    False                HUF  \\n13    False                HUF  \\n14    False                HUF  \\n15    False                HUF  \\n16    False                HUF  \\n17    False                HUF  \\n18    False                HUF  \\n19    False                HUF  \\n20    False                HUF  ', 'type': 'function_call_output'}, output='     price departure_date departure_time arrival_date arrival_time  \\\\\\n0   110258     2025-07-07          17:50   2025-07-07        23:35   \\n1   123130     2025-07-07          13:25   2025-07-07        23:35   \\n2   127337     2025-07-07          12:15   2025-07-07        22:50   \\n3   136697     2025-07-07          09:55   2025-07-07        23:05   \\n4   193055     2025-07-07          09:55   2025-07-07        18:55   \\n5   294352     2025-07-07          16:45   2025-07-08        08:25   \\n6   354924     2025-07-07          16:45   2025-07-08        19:20   \\n7   364203     2025-07-07          19:00   2025-07-08        10:50   \\n8   459146     2025-07-07          11:00   2025-07-08        14:50   \\n9   463033     2025-07-07          19:00   2025-07-08        17:10   \\n10  758708     2025-07-07          19:00   2025-07-08        13:45   \\n11  123130     2025-07-07          13:25   2025-07-07        23:35   \\n12  127337     2025-07-07          12:15   2025-07-07        22:50   \\n13  136697     2025-07-07          09:55   2025-07-07        23:05   \\n14  193055     2025-07-07          09:55   2025-07-07        18:55   \\n15  294352     2025-07-07          16:45   2025-07-08        08:25   \\n16  354924     2025-07-07          16:45   2025-07-08        19:20   \\n17  364203     2025-07-07          19:00   2025-07-08        10:50   \\n18  459146     2025-07-07          11:00   2025-07-08        14:50   \\n19  463033     2025-07-07          19:00   2025-07-08        17:10   \\n20  758708     2025-07-07          19:00   2025-07-08        13:45   \\n\\n    duration_hours                                               name  stops  \\\\\\n0            4.750                                           Wizz Air      0   \\n1            9.167  Self transferThis trip includes tickets from m...      1   \\n2            9.583  Self transferThis trip includes tickets from m...      1   \\n3           12.167                                     Transavia, KLM      1   \\n4              NaN                                     Transavia, KLM      1   \\n5           14.667  Self transferThis trip includes tickets from m...      1   \\n6           25.583                                          Eurowings      1   \\n7           14.833                                    British Airways      1   \\n8           26.833                                             Iberia      1   \\n9           21.167                                    British Airways      1   \\n10          17.750                                    British Airways      1   \\n11           9.167  Self transferThis trip includes tickets from m...      1   \\n12           9.583  Self transferThis trip includes tickets from m...      1   \\n13          12.167                                     Transavia, KLM      1   \\n14             NaN                                     Transavia, KLM      1   \\n15          14.667  Self transferThis trip includes tickets from m...      1   \\n16          25.583                                          Eurowings      1   \\n17          14.833                                    British Airways      1   \\n18          26.833                                             Iberia      1   \\n19          21.167                                    British Airways      1   \\n20          17.750                                    British Airways      1   \\n\\n    is_best price_denomination  \\n0      True                HUF  \\n1     False                HUF  \\n2     False                HUF  \\n3     False                HUF  \\n4     False                HUF  \\n5     False                HUF  \\n6     False                HUF  \\n7     False                HUF  \\n8     False                HUF  \\n9     False                HUF  \\n10    False                HUF  \\n11    False                HUF  \\n12    False                HUF  \\n13    False                HUF  \\n14    False                HUF  \\n15    False                HUF  \\n16    False                HUF  \\n17    False                HUF  \\n18    False                HUF  \\n19    False                HUF  \\n20    False                HUF  ', type='tool_call_output_item'),\n",
       " ReasoningItem(agent=Agent(name='Flight Assistant', instructions=\"You are a helpful personal assistant. You are able to get real-time flight information for a given destination and date. You answer users' questions about flight prices and availability.\", handoff_description=None, handoffs=[], model='o1', model_settings=ModelSettings(temperature=None, top_p=None, frequency_penalty=None, presence_penalty=None, tool_choice=None, parallel_tool_calls=False, truncation=None, max_tokens=None), tools=[FunctionTool(name='get_flights_to_destinations_tool', description=\"Fetch flights to multiple destinations and return a combined DataFrame.\\n\\nNote: The fast_flights API doesn't support multiple destinations in a single call,\\nso this function makes separate API calls for each destination and combines the results.\", params_json_schema={'properties': {'date': {'description': 'Flight date in YYYY-MM-DD format', 'title': 'Date', 'type': 'string'}, 'from_airport': {'description': 'Departure airport code in IATA format (3-letter codes), such as \"BUD\"', 'title': 'From Airport', 'type': 'string'}, 'to_airports': {'description': 'List of destination airport codes in IATA format (3-letter codes), such as [\"CDG\", \"ORY\", \"BVA\"]', 'items': {'type': 'string'}, 'title': 'To Airports', 'type': 'array'}, 'max_stops': {'description': 'Maximum number of stops (default: 0)', 'title': 'Max Stops', 'type': 'integer'}}, 'required': ['date', 'from_airport', 'to_airports', 'max_stops'], 'title': 'get_flights_to_destinations_tool_args', 'type': 'object', 'additionalProperties': False}, on_invoke_tool=<function function_tool.<locals>._create_function_tool.<locals>._on_invoke_tool at 0x12dffdd00>, strict_json_schema=True)], input_guardrails=[], output_guardrails=[], output_type=None, hooks=None), raw_item=ResponseReasoningItem(id='rs_680587886ae08192afc48272c731131901c0da4612e130cd', summary=[], type='reasoning', status=None), type='reasoning_item'),\n",
       " ToolCallItem(agent=Agent(name='Flight Assistant', instructions=\"You are a helpful personal assistant. You are able to get real-time flight information for a given destination and date. You answer users' questions about flight prices and availability.\", handoff_description=None, handoffs=[], model='o1', model_settings=ModelSettings(temperature=None, top_p=None, frequency_penalty=None, presence_penalty=None, tool_choice=None, parallel_tool_calls=False, truncation=None, max_tokens=None), tools=[FunctionTool(name='get_flights_to_destinations_tool', description=\"Fetch flights to multiple destinations and return a combined DataFrame.\\n\\nNote: The fast_flights API doesn't support multiple destinations in a single call,\\nso this function makes separate API calls for each destination and combines the results.\", params_json_schema={'properties': {'date': {'description': 'Flight date in YYYY-MM-DD format', 'title': 'Date', 'type': 'string'}, 'from_airport': {'description': 'Departure airport code in IATA format (3-letter codes), such as \"BUD\"', 'title': 'From Airport', 'type': 'string'}, 'to_airports': {'description': 'List of destination airport codes in IATA format (3-letter codes), such as [\"CDG\", \"ORY\", \"BVA\"]', 'items': {'type': 'string'}, 'title': 'To Airports', 'type': 'array'}, 'max_stops': {'description': 'Maximum number of stops (default: 0)', 'title': 'Max Stops', 'type': 'integer'}}, 'required': ['date', 'from_airport', 'to_airports', 'max_stops'], 'title': 'get_flights_to_destinations_tool_args', 'type': 'object', 'additionalProperties': False}, on_invoke_tool=<function function_tool.<locals>._create_function_tool.<locals>._on_invoke_tool at 0x12dffdd00>, strict_json_schema=True)], input_guardrails=[], output_guardrails=[], output_type=None, hooks=None), raw_item=ResponseFunctionToolCall(id='fc_6805878ac07481929c0f1dec45ea206201c0da4612e130cd', arguments='{\"date\":\"2025-07-08\",\"from_airport\":\"FNC\",\"to_airports\":[\"BUD\"],\"max_stops\":1}', call_id='call_3MVdrXybKRjK1gjtu9WEkpq6', name='get_flights_to_destinations_tool', type='function_call', status='completed'), type='tool_call_item'),\n",
       " ToolCallOutputItem(agent=Agent(name='Flight Assistant', instructions=\"You are a helpful personal assistant. You are able to get real-time flight information for a given destination and date. You answer users' questions about flight prices and availability.\", handoff_description=None, handoffs=[], model='o1', model_settings=ModelSettings(temperature=None, top_p=None, frequency_penalty=None, presence_penalty=None, tool_choice=None, parallel_tool_calls=False, truncation=None, max_tokens=None), tools=[FunctionTool(name='get_flights_to_destinations_tool', description=\"Fetch flights to multiple destinations and return a combined DataFrame.\\n\\nNote: The fast_flights API doesn't support multiple destinations in a single call,\\nso this function makes separate API calls for each destination and combines the results.\", params_json_schema={'properties': {'date': {'description': 'Flight date in YYYY-MM-DD format', 'title': 'Date', 'type': 'string'}, 'from_airport': {'description': 'Departure airport code in IATA format (3-letter codes), such as \"BUD\"', 'title': 'From Airport', 'type': 'string'}, 'to_airports': {'description': 'List of destination airport codes in IATA format (3-letter codes), such as [\"CDG\", \"ORY\", \"BVA\"]', 'items': {'type': 'string'}, 'title': 'To Airports', 'type': 'array'}, 'max_stops': {'description': 'Maximum number of stops (default: 0)', 'title': 'Max Stops', 'type': 'integer'}}, 'required': ['date', 'from_airport', 'to_airports', 'max_stops'], 'title': 'get_flights_to_destinations_tool_args', 'type': 'object', 'additionalProperties': False}, on_invoke_tool=<function function_tool.<locals>._create_function_tool.<locals>._on_invoke_tool at 0x12dffdd00>, strict_json_schema=True)], input_guardrails=[], output_guardrails=[], output_type=None, hooks=None), raw_item={'call_id': 'call_3MVdrXybKRjK1gjtu9WEkpq6', 'output': '     price departure_date departure_time arrival_date arrival_time  \\\\\\n0    82651     2025-07-08          09:50   2025-07-09        07:50   \\n1    98341     2025-07-08          09:50   2025-07-08        18:50   \\n2   230112     2025-07-08          15:35   2025-07-08        23:50   \\n3   129599     2025-07-08          18:20   2025-07-09        19:50   \\n4   136934     2025-07-08          18:50   2025-07-09        18:50   \\n5   157476     2025-07-08          11:45   2025-07-09        18:50   \\n6   210403     2025-07-08          09:50   2025-07-08        23:00   \\n7   247297     2025-07-08          15:35   2025-07-09        08:40   \\n8   274341     2025-07-08          09:50   2025-07-08        18:35   \\n9   342150     2025-07-08          18:40   2025-07-09        10:55   \\n10  342150     2025-07-08          18:40   2025-07-09        19:00   \\n11  371905     2025-07-08          10:05   2025-07-09        08:45   \\n12  387016     2025-07-08          10:05   2025-07-08        19:15   \\n13  391483     2025-07-08          15:35   2025-07-09        18:20   \\n14  494071     2025-07-08          18:40   2025-07-09        17:35   \\n15  508308     2025-07-08          10:05   2025-07-09        14:05   \\n16  616098     2025-07-08          15:35   2025-07-09        10:50   \\n17  616098     2025-07-08          15:35   2025-07-09        13:25   \\n18  736655     2025-07-08          18:40   2025-07-09        14:00   \\n19   82651     2025-07-08          09:50   2025-07-09        07:50   \\n20   98341     2025-07-08          09:50   2025-07-08        18:50   \\n21  129599     2025-07-08          18:20   2025-07-09        19:50   \\n22  136934     2025-07-08          18:50   2025-07-09        18:50   \\n23  157476     2025-07-08          11:45   2025-07-09        18:50   \\n24  210403     2025-07-08          09:50   2025-07-08        23:00   \\n25  247297     2025-07-08          15:35   2025-07-09        08:40   \\n26  274341     2025-07-08          09:50   2025-07-08        18:35   \\n27  342150     2025-07-08          18:40   2025-07-09        10:55   \\n28  342150     2025-07-08          18:40   2025-07-09        19:00   \\n29  371905     2025-07-08          10:05   2025-07-09        08:45   \\n30  387016     2025-07-08          10:05   2025-07-08        19:15   \\n31  391483     2025-07-08          15:35   2025-07-09        18:20   \\n32  494071     2025-07-08          18:40   2025-07-09        17:35   \\n33  508308     2025-07-08          10:05   2025-07-09        14:05   \\n34  616098     2025-07-08          15:35   2025-07-09        10:50   \\n35  616098     2025-07-08          15:35   2025-07-09        13:25   \\n36  736655     2025-07-08          18:40   2025-07-09        14:00   \\n\\n                                                 name  stops  is_best  \\\\\\n0   Self transferThis trip includes tickets from m...      1     True   \\n1   Self transferThis trip includes tickets from m...      1     True   \\n2                        Discover Airlines, Lufthansa      1     True   \\n3   Self transferThis trip includes tickets from m...      1    False   \\n4   Self transferThis trip includes tickets from m...      1    False   \\n5   Self transferThis trip includes tickets from m...      1    False   \\n6   Self transferThis trip includes tickets from m...      1    False   \\n7                        Discover Airlines, Lufthansa      1    False   \\n8   Self transferThis trip includes tickets from m...      1    False   \\n9                                     British Airways      1    False   \\n10                                    British Airways      1    False   \\n11                               Edelweiss Air, SWISS      1    False   \\n12                               Edelweiss Air, SWISS      1    False   \\n13                       Discover Airlines, Lufthansa      1    False   \\n14                                    British Airways      1    False   \\n15                               Edelweiss Air, SWISS      1    False   \\n16                       Discover Airlines, Lufthansa      1    False   \\n17                       Discover Airlines, Lufthansa      1    False   \\n18                                    British Airways      1    False   \\n19  Self transferThis trip includes tickets from m...      1    False   \\n20  Self transferThis trip includes tickets from m...      1    False   \\n21  Self transferThis trip includes tickets from m...      1    False   \\n22  Self transferThis trip includes tickets from m...      1    False   \\n23  Self transferThis trip includes tickets from m...      1    False   \\n24  Self transferThis trip includes tickets from m...      1    False   \\n25                       Discover Airlines, Lufthansa      1    False   \\n26  Self transferThis trip includes tickets from m...      1    False   \\n27                                    British Airways      1    False   \\n28                                    British Airways      1    False   \\n29                               Edelweiss Air, SWISS      1    False   \\n30                               Edelweiss Air, SWISS      1    False   \\n31                       Discover Airlines, Lufthansa      1    False   \\n32                                    British Airways      1    False   \\n33                               Edelweiss Air, SWISS      1    False   \\n34                       Discover Airlines, Lufthansa      1    False   \\n35                       Discover Airlines, Lufthansa      1    False   \\n36                                    British Airways      1    False   \\n\\n   price_denomination  duration_hours  \\n0                 HUF             NaN  \\n1                 HUF             NaN  \\n2                 HUF           7.250  \\n3                 HUF          24.500  \\n4                 HUF             NaN  \\n5                 HUF          30.083  \\n6                 HUF          12.167  \\n7                 HUF          16.083  \\n8                 HUF           7.750  \\n9                 HUF          15.250  \\n10                HUF          23.333  \\n11                HUF          21.667  \\n12                HUF           8.167  \\n13                HUF          25.750  \\n14                HUF          21.917  \\n15                HUF             NaN  \\n16                HUF          18.250  \\n17                HUF          20.833  \\n18                HUF          18.333  \\n19                HUF             NaN  \\n20                HUF             NaN  \\n21                HUF          24.500  \\n22                HUF             NaN  \\n23                HUF          30.083  \\n24                HUF          12.167  \\n25                HUF          16.083  \\n26                HUF           7.750  \\n27                HUF          15.250  \\n28                HUF          23.333  \\n29                HUF          21.667  \\n30                HUF           8.167  \\n31                HUF          25.750  \\n32                HUF          21.917  \\n33                HUF             NaN  \\n34                HUF          18.250  \\n35                HUF          20.833  \\n36                HUF          18.333  ', 'type': 'function_call_output'}, output='     price departure_date departure_time arrival_date arrival_time  \\\\\\n0    82651     2025-07-08          09:50   2025-07-09        07:50   \\n1    98341     2025-07-08          09:50   2025-07-08        18:50   \\n2   230112     2025-07-08          15:35   2025-07-08        23:50   \\n3   129599     2025-07-08          18:20   2025-07-09        19:50   \\n4   136934     2025-07-08          18:50   2025-07-09        18:50   \\n5   157476     2025-07-08          11:45   2025-07-09        18:50   \\n6   210403     2025-07-08          09:50   2025-07-08        23:00   \\n7   247297     2025-07-08          15:35   2025-07-09        08:40   \\n8   274341     2025-07-08          09:50   2025-07-08        18:35   \\n9   342150     2025-07-08          18:40   2025-07-09        10:55   \\n10  342150     2025-07-08          18:40   2025-07-09        19:00   \\n11  371905     2025-07-08          10:05   2025-07-09        08:45   \\n12  387016     2025-07-08          10:05   2025-07-08        19:15   \\n13  391483     2025-07-08          15:35   2025-07-09        18:20   \\n14  494071     2025-07-08          18:40   2025-07-09        17:35   \\n15  508308     2025-07-08          10:05   2025-07-09        14:05   \\n16  616098     2025-07-08          15:35   2025-07-09        10:50   \\n17  616098     2025-07-08          15:35   2025-07-09        13:25   \\n18  736655     2025-07-08          18:40   2025-07-09        14:00   \\n19   82651     2025-07-08          09:50   2025-07-09        07:50   \\n20   98341     2025-07-08          09:50   2025-07-08        18:50   \\n21  129599     2025-07-08          18:20   2025-07-09        19:50   \\n22  136934     2025-07-08          18:50   2025-07-09        18:50   \\n23  157476     2025-07-08          11:45   2025-07-09        18:50   \\n24  210403     2025-07-08          09:50   2025-07-08        23:00   \\n25  247297     2025-07-08          15:35   2025-07-09        08:40   \\n26  274341     2025-07-08          09:50   2025-07-08        18:35   \\n27  342150     2025-07-08          18:40   2025-07-09        10:55   \\n28  342150     2025-07-08          18:40   2025-07-09        19:00   \\n29  371905     2025-07-08          10:05   2025-07-09        08:45   \\n30  387016     2025-07-08          10:05   2025-07-08        19:15   \\n31  391483     2025-07-08          15:35   2025-07-09        18:20   \\n32  494071     2025-07-08          18:40   2025-07-09        17:35   \\n33  508308     2025-07-08          10:05   2025-07-09        14:05   \\n34  616098     2025-07-08          15:35   2025-07-09        10:50   \\n35  616098     2025-07-08          15:35   2025-07-09        13:25   \\n36  736655     2025-07-08          18:40   2025-07-09        14:00   \\n\\n                                                 name  stops  is_best  \\\\\\n0   Self transferThis trip includes tickets from m...      1     True   \\n1   Self transferThis trip includes tickets from m...      1     True   \\n2                        Discover Airlines, Lufthansa      1     True   \\n3   Self transferThis trip includes tickets from m...      1    False   \\n4   Self transferThis trip includes tickets from m...      1    False   \\n5   Self transferThis trip includes tickets from m...      1    False   \\n6   Self transferThis trip includes tickets from m...      1    False   \\n7                        Discover Airlines, Lufthansa      1    False   \\n8   Self transferThis trip includes tickets from m...      1    False   \\n9                                     British Airways      1    False   \\n10                                    British Airways      1    False   \\n11                               Edelweiss Air, SWISS      1    False   \\n12                               Edelweiss Air, SWISS      1    False   \\n13                       Discover Airlines, Lufthansa      1    False   \\n14                                    British Airways      1    False   \\n15                               Edelweiss Air, SWISS      1    False   \\n16                       Discover Airlines, Lufthansa      1    False   \\n17                       Discover Airlines, Lufthansa      1    False   \\n18                                    British Airways      1    False   \\n19  Self transferThis trip includes tickets from m...      1    False   \\n20  Self transferThis trip includes tickets from m...      1    False   \\n21  Self transferThis trip includes tickets from m...      1    False   \\n22  Self transferThis trip includes tickets from m...      1    False   \\n23  Self transferThis trip includes tickets from m...      1    False   \\n24  Self transferThis trip includes tickets from m...      1    False   \\n25                       Discover Airlines, Lufthansa      1    False   \\n26  Self transferThis trip includes tickets from m...      1    False   \\n27                                    British Airways      1    False   \\n28                                    British Airways      1    False   \\n29                               Edelweiss Air, SWISS      1    False   \\n30                               Edelweiss Air, SWISS      1    False   \\n31                       Discover Airlines, Lufthansa      1    False   \\n32                                    British Airways      1    False   \\n33                               Edelweiss Air, SWISS      1    False   \\n34                       Discover Airlines, Lufthansa      1    False   \\n35                       Discover Airlines, Lufthansa      1    False   \\n36                                    British Airways      1    False   \\n\\n   price_denomination  duration_hours  \\n0                 HUF             NaN  \\n1                 HUF             NaN  \\n2                 HUF           7.250  \\n3                 HUF          24.500  \\n4                 HUF             NaN  \\n5                 HUF          30.083  \\n6                 HUF          12.167  \\n7                 HUF          16.083  \\n8                 HUF           7.750  \\n9                 HUF          15.250  \\n10                HUF          23.333  \\n11                HUF          21.667  \\n12                HUF           8.167  \\n13                HUF          25.750  \\n14                HUF          21.917  \\n15                HUF             NaN  \\n16                HUF          18.250  \\n17                HUF          20.833  \\n18                HUF          18.333  \\n19                HUF             NaN  \\n20                HUF             NaN  \\n21                HUF          24.500  \\n22                HUF             NaN  \\n23                HUF          30.083  \\n24                HUF          12.167  \\n25                HUF          16.083  \\n26                HUF           7.750  \\n27                HUF          15.250  \\n28                HUF          23.333  \\n29                HUF          21.667  \\n30                HUF           8.167  \\n31                HUF          25.750  \\n32                HUF          21.917  \\n33                HUF             NaN  \\n34                HUF          18.250  \\n35                HUF          20.833  \\n36                HUF          18.333  ', type='tool_call_output_item'),\n",
       " ReasoningItem(agent=Agent(name='Flight Assistant', instructions=\"You are a helpful personal assistant. You are able to get real-time flight information for a given destination and date. You answer users' questions about flight prices and availability.\", handoff_description=None, handoffs=[], model='o1', model_settings=ModelSettings(temperature=None, top_p=None, frequency_penalty=None, presence_penalty=None, tool_choice=None, parallel_tool_calls=False, truncation=None, max_tokens=None), tools=[FunctionTool(name='get_flights_to_destinations_tool', description=\"Fetch flights to multiple destinations and return a combined DataFrame.\\n\\nNote: The fast_flights API doesn't support multiple destinations in a single call,\\nso this function makes separate API calls for each destination and combines the results.\", params_json_schema={'properties': {'date': {'description': 'Flight date in YYYY-MM-DD format', 'title': 'Date', 'type': 'string'}, 'from_airport': {'description': 'Departure airport code in IATA format (3-letter codes), such as \"BUD\"', 'title': 'From Airport', 'type': 'string'}, 'to_airports': {'description': 'List of destination airport codes in IATA format (3-letter codes), such as [\"CDG\", \"ORY\", \"BVA\"]', 'items': {'type': 'string'}, 'title': 'To Airports', 'type': 'array'}, 'max_stops': {'description': 'Maximum number of stops (default: 0)', 'title': 'Max Stops', 'type': 'integer'}}, 'required': ['date', 'from_airport', 'to_airports', 'max_stops'], 'title': 'get_flights_to_destinations_tool_args', 'type': 'object', 'additionalProperties': False}, on_invoke_tool=<function function_tool.<locals>._create_function_tool.<locals>._on_invoke_tool at 0x12dffdd00>, strict_json_schema=True)], input_guardrails=[], output_guardrails=[], output_type=None, hooks=None), raw_item=ResponseReasoningItem(id='rs_680587aa5cc481929b738bc17fbf4fa301c0da4612e130cd', summary=[], type='reasoning', status=None), type='reasoning_item'),\n",
       " ToolCallItem(agent=Agent(name='Flight Assistant', instructions=\"You are a helpful personal assistant. You are able to get real-time flight information for a given destination and date. You answer users' questions about flight prices and availability.\", handoff_description=None, handoffs=[], model='o1', model_settings=ModelSettings(temperature=None, top_p=None, frequency_penalty=None, presence_penalty=None, tool_choice=None, parallel_tool_calls=False, truncation=None, max_tokens=None), tools=[FunctionTool(name='get_flights_to_destinations_tool', description=\"Fetch flights to multiple destinations and return a combined DataFrame.\\n\\nNote: The fast_flights API doesn't support multiple destinations in a single call,\\nso this function makes separate API calls for each destination and combines the results.\", params_json_schema={'properties': {'date': {'description': 'Flight date in YYYY-MM-DD format', 'title': 'Date', 'type': 'string'}, 'from_airport': {'description': 'Departure airport code in IATA format (3-letter codes), such as \"BUD\"', 'title': 'From Airport', 'type': 'string'}, 'to_airports': {'description': 'List of destination airport codes in IATA format (3-letter codes), such as [\"CDG\", \"ORY\", \"BVA\"]', 'items': {'type': 'string'}, 'title': 'To Airports', 'type': 'array'}, 'max_stops': {'description': 'Maximum number of stops (default: 0)', 'title': 'Max Stops', 'type': 'integer'}}, 'required': ['date', 'from_airport', 'to_airports', 'max_stops'], 'title': 'get_flights_to_destinations_tool_args', 'type': 'object', 'additionalProperties': False}, on_invoke_tool=<function function_tool.<locals>._create_function_tool.<locals>._on_invoke_tool at 0x12dffdd00>, strict_json_schema=True)], input_guardrails=[], output_guardrails=[], output_type=None, hooks=None), raw_item=ResponseFunctionToolCall(id='fc_680587b08c9881928faac70f0c71291e01c0da4612e130cd', arguments='{\"date\":\"2025-07-09\",\"from_airport\":\"FNC\",\"to_airports\":[\"BUD\"],\"max_stops\":1}', call_id='call_lEeWlqZfMKvVoSd9p6CWCpb5', name='get_flights_to_destinations_tool', type='function_call', status='completed'), type='tool_call_item'),\n",
       " ToolCallOutputItem(agent=Agent(name='Flight Assistant', instructions=\"You are a helpful personal assistant. You are able to get real-time flight information for a given destination and date. You answer users' questions about flight prices and availability.\", handoff_description=None, handoffs=[], model='o1', model_settings=ModelSettings(temperature=None, top_p=None, frequency_penalty=None, presence_penalty=None, tool_choice=None, parallel_tool_calls=False, truncation=None, max_tokens=None), tools=[FunctionTool(name='get_flights_to_destinations_tool', description=\"Fetch flights to multiple destinations and return a combined DataFrame.\\n\\nNote: The fast_flights API doesn't support multiple destinations in a single call,\\nso this function makes separate API calls for each destination and combines the results.\", params_json_schema={'properties': {'date': {'description': 'Flight date in YYYY-MM-DD format', 'title': 'Date', 'type': 'string'}, 'from_airport': {'description': 'Departure airport code in IATA format (3-letter codes), such as \"BUD\"', 'title': 'From Airport', 'type': 'string'}, 'to_airports': {'description': 'List of destination airport codes in IATA format (3-letter codes), such as [\"CDG\", \"ORY\", \"BVA\"]', 'items': {'type': 'string'}, 'title': 'To Airports', 'type': 'array'}, 'max_stops': {'description': 'Maximum number of stops (default: 0)', 'title': 'Max Stops', 'type': 'integer'}}, 'required': ['date', 'from_airport', 'to_airports', 'max_stops'], 'title': 'get_flights_to_destinations_tool_args', 'type': 'object', 'additionalProperties': False}, on_invoke_tool=<function function_tool.<locals>._create_function_tool.<locals>._on_invoke_tool at 0x12dffdd00>, strict_json_schema=True)], input_guardrails=[], output_guardrails=[], output_type=None, hooks=None), raw_item={'call_id': 'call_lEeWlqZfMKvVoSd9p6CWCpb5', 'output': '     price departure_date departure_time arrival_date arrival_time  \\\\\\n0   121023     2025-07-09          11:45   2025-07-09        22:50   \\n1   141418     2025-07-09          13:55   2025-07-09        23:00   \\n2   162834     2025-07-09          10:20   2025-07-09        23:05   \\n3   193055     2025-07-09          10:20   2025-07-09        18:55   \\n4   283236     2025-07-09          17:20   2025-07-10        08:40   \\n5   298044     2025-07-09          12:00   2025-07-10        01:00   \\n6   324940     2025-07-09          10:25   2025-07-09        19:15   \\n7   342150     2025-07-09          12:00   2025-07-10        10:50   \\n8   371905     2025-07-09          10:25   2025-07-10        08:45   \\n9   381241     2025-07-09          11:35   2025-07-09        23:35   \\n10  440874     2025-07-09          17:20   2025-07-10        10:50   \\n11  447425     2025-07-09          11:35   2025-07-10        07:40   \\n12  447425     2025-07-09          11:35   2025-07-10        09:35   \\n13  447425     2025-07-09          11:35   2025-07-10        12:40   \\n14  453559     2025-07-09          17:20   2025-07-10        13:25   \\n15  453559     2025-07-09          17:20   2025-07-10        18:20   \\n16  494071     2025-07-09          12:00   2025-07-10        13:20   \\n17  596520     2025-07-09          10:25   2025-07-10        14:05   \\n18  840296     2025-07-09          11:35   2025-07-10        16:55   \\n19  121023     2025-07-09          11:45   2025-07-09        22:50   \\n20  141418     2025-07-09          13:55   2025-07-09        23:00   \\n21  162834     2025-07-09          10:20   2025-07-09        23:05   \\n22  283236     2025-07-09          17:20   2025-07-10        08:40   \\n23  298044     2025-07-09          12:00   2025-07-10        01:00   \\n24  324940     2025-07-09          10:25   2025-07-09        19:15   \\n25  342150     2025-07-09          12:00   2025-07-10        10:50   \\n26  371905     2025-07-09          10:25   2025-07-10        08:45   \\n27  381241     2025-07-09          11:35   2025-07-09        23:35   \\n28  440874     2025-07-09          17:20   2025-07-10        10:50   \\n29  447425     2025-07-09          11:35   2025-07-10        07:40   \\n30  447425     2025-07-09          11:35   2025-07-10        09:35   \\n31  447425     2025-07-09          11:35   2025-07-10        12:40   \\n32  453559     2025-07-09          17:20   2025-07-10        13:25   \\n33  453559     2025-07-09          17:20   2025-07-10        18:20   \\n34  494071     2025-07-09          12:00   2025-07-10        13:20   \\n35  596520     2025-07-09          10:25   2025-07-10        14:05   \\n36  840296     2025-07-09          11:35   2025-07-10        16:55   \\n\\n    duration_hours                                               name  stops  \\\\\\n0           10.083  Self transferThis trip includes tickets from m...      1   \\n1            8.083  Self transferThis trip includes tickets from m...      1   \\n2           11.750                                     Transavia, KLM      1   \\n3            7.583                                     Transavia, KLM      1   \\n4           14.333                       Discover Airlines, Lufthansa      1   \\n5              NaN                                    British Airways      1   \\n6            7.833                               Edelweiss Air, SWISS      1   \\n7           21.833                                    British Airways      1   \\n8           21.333                               Edelweiss Air, SWISS      1   \\n9              NaN                       Discover Airlines, Lufthansa      1   \\n10          16.500                       Discover Airlines, Lufthansa      1   \\n11          19.083                       Discover Airlines, Lufthansa      1   \\n12             NaN                       Discover Airlines, Lufthansa      1   \\n13          24.083                       Discover Airlines, Lufthansa      1   \\n14          19.083                       Discover Airlines, Lufthansa      1   \\n15             NaN                       Discover Airlines, Lufthansa      1   \\n16          24.333                                    British Airways      1   \\n17          26.667                               Edelweiss Air, SWISS      1   \\n18          28.333                       Discover Airlines, Lufthansa      1   \\n19          10.083  Self transferThis trip includes tickets from m...      1   \\n20           8.083  Self transferThis trip includes tickets from m...      1   \\n21          11.750                                     Transavia, KLM      1   \\n22          14.333                       Discover Airlines, Lufthansa      1   \\n23             NaN                                    British Airways      1   \\n24           7.833                               Edelweiss Air, SWISS      1   \\n25          21.833                                    British Airways      1   \\n26          21.333                               Edelweiss Air, SWISS      1   \\n27             NaN                       Discover Airlines, Lufthansa      1   \\n28          16.500                       Discover Airlines, Lufthansa      1   \\n29          19.083                       Discover Airlines, Lufthansa      1   \\n30             NaN                       Discover Airlines, Lufthansa      1   \\n31          24.083                       Discover Airlines, Lufthansa      1   \\n32          19.083                       Discover Airlines, Lufthansa      1   \\n33             NaN                       Discover Airlines, Lufthansa      1   \\n34          24.333                                    British Airways      1   \\n35          26.667                               Edelweiss Air, SWISS      1   \\n36          28.333                       Discover Airlines, Lufthansa      1   \\n\\n    is_best price_denomination  \\n0      True                HUF  \\n1      True                HUF  \\n2      True                HUF  \\n3      True                HUF  \\n4     False                HUF  \\n5     False                HUF  \\n6     False                HUF  \\n7     False                HUF  \\n8     False                HUF  \\n9     False                HUF  \\n10    False                HUF  \\n11    False                HUF  \\n12    False                HUF  \\n13    False                HUF  \\n14    False                HUF  \\n15    False                HUF  \\n16    False                HUF  \\n17    False                HUF  \\n18    False                HUF  \\n19    False                HUF  \\n20    False                HUF  \\n21    False                HUF  \\n22    False                HUF  \\n23    False                HUF  \\n24    False                HUF  \\n25    False                HUF  \\n26    False                HUF  \\n27    False                HUF  \\n28    False                HUF  \\n29    False                HUF  \\n30    False                HUF  \\n31    False                HUF  \\n32    False                HUF  \\n33    False                HUF  \\n34    False                HUF  \\n35    False                HUF  \\n36    False                HUF  ', 'type': 'function_call_output'}, output='     price departure_date departure_time arrival_date arrival_time  \\\\\\n0   121023     2025-07-09          11:45   2025-07-09        22:50   \\n1   141418     2025-07-09          13:55   2025-07-09        23:00   \\n2   162834     2025-07-09          10:20   2025-07-09        23:05   \\n3   193055     2025-07-09          10:20   2025-07-09        18:55   \\n4   283236     2025-07-09          17:20   2025-07-10        08:40   \\n5   298044     2025-07-09          12:00   2025-07-10        01:00   \\n6   324940     2025-07-09          10:25   2025-07-09        19:15   \\n7   342150     2025-07-09          12:00   2025-07-10        10:50   \\n8   371905     2025-07-09          10:25   2025-07-10        08:45   \\n9   381241     2025-07-09          11:35   2025-07-09        23:35   \\n10  440874     2025-07-09          17:20   2025-07-10        10:50   \\n11  447425     2025-07-09          11:35   2025-07-10        07:40   \\n12  447425     2025-07-09          11:35   2025-07-10        09:35   \\n13  447425     2025-07-09          11:35   2025-07-10        12:40   \\n14  453559     2025-07-09          17:20   2025-07-10        13:25   \\n15  453559     2025-07-09          17:20   2025-07-10        18:20   \\n16  494071     2025-07-09          12:00   2025-07-10        13:20   \\n17  596520     2025-07-09          10:25   2025-07-10        14:05   \\n18  840296     2025-07-09          11:35   2025-07-10        16:55   \\n19  121023     2025-07-09          11:45   2025-07-09        22:50   \\n20  141418     2025-07-09          13:55   2025-07-09        23:00   \\n21  162834     2025-07-09          10:20   2025-07-09        23:05   \\n22  283236     2025-07-09          17:20   2025-07-10        08:40   \\n23  298044     2025-07-09          12:00   2025-07-10        01:00   \\n24  324940     2025-07-09          10:25   2025-07-09        19:15   \\n25  342150     2025-07-09          12:00   2025-07-10        10:50   \\n26  371905     2025-07-09          10:25   2025-07-10        08:45   \\n27  381241     2025-07-09          11:35   2025-07-09        23:35   \\n28  440874     2025-07-09          17:20   2025-07-10        10:50   \\n29  447425     2025-07-09          11:35   2025-07-10        07:40   \\n30  447425     2025-07-09          11:35   2025-07-10        09:35   \\n31  447425     2025-07-09          11:35   2025-07-10        12:40   \\n32  453559     2025-07-09          17:20   2025-07-10        13:25   \\n33  453559     2025-07-09          17:20   2025-07-10        18:20   \\n34  494071     2025-07-09          12:00   2025-07-10        13:20   \\n35  596520     2025-07-09          10:25   2025-07-10        14:05   \\n36  840296     2025-07-09          11:35   2025-07-10        16:55   \\n\\n    duration_hours                                               name  stops  \\\\\\n0           10.083  Self transferThis trip includes tickets from m...      1   \\n1            8.083  Self transferThis trip includes tickets from m...      1   \\n2           11.750                                     Transavia, KLM      1   \\n3            7.583                                     Transavia, KLM      1   \\n4           14.333                       Discover Airlines, Lufthansa      1   \\n5              NaN                                    British Airways      1   \\n6            7.833                               Edelweiss Air, SWISS      1   \\n7           21.833                                    British Airways      1   \\n8           21.333                               Edelweiss Air, SWISS      1   \\n9              NaN                       Discover Airlines, Lufthansa      1   \\n10          16.500                       Discover Airlines, Lufthansa      1   \\n11          19.083                       Discover Airlines, Lufthansa      1   \\n12             NaN                       Discover Airlines, Lufthansa      1   \\n13          24.083                       Discover Airlines, Lufthansa      1   \\n14          19.083                       Discover Airlines, Lufthansa      1   \\n15             NaN                       Discover Airlines, Lufthansa      1   \\n16          24.333                                    British Airways      1   \\n17          26.667                               Edelweiss Air, SWISS      1   \\n18          28.333                       Discover Airlines, Lufthansa      1   \\n19          10.083  Self transferThis trip includes tickets from m...      1   \\n20           8.083  Self transferThis trip includes tickets from m...      1   \\n21          11.750                                     Transavia, KLM      1   \\n22          14.333                       Discover Airlines, Lufthansa      1   \\n23             NaN                                    British Airways      1   \\n24           7.833                               Edelweiss Air, SWISS      1   \\n25          21.833                                    British Airways      1   \\n26          21.333                               Edelweiss Air, SWISS      1   \\n27             NaN                       Discover Airlines, Lufthansa      1   \\n28          16.500                       Discover Airlines, Lufthansa      1   \\n29          19.083                       Discover Airlines, Lufthansa      1   \\n30             NaN                       Discover Airlines, Lufthansa      1   \\n31          24.083                       Discover Airlines, Lufthansa      1   \\n32          19.083                       Discover Airlines, Lufthansa      1   \\n33             NaN                       Discover Airlines, Lufthansa      1   \\n34          24.333                                    British Airways      1   \\n35          26.667                               Edelweiss Air, SWISS      1   \\n36          28.333                       Discover Airlines, Lufthansa      1   \\n\\n    is_best price_denomination  \\n0      True                HUF  \\n1      True                HUF  \\n2      True                HUF  \\n3      True                HUF  \\n4     False                HUF  \\n5     False                HUF  \\n6     False                HUF  \\n7     False                HUF  \\n8     False                HUF  \\n9     False                HUF  \\n10    False                HUF  \\n11    False                HUF  \\n12    False                HUF  \\n13    False                HUF  \\n14    False                HUF  \\n15    False                HUF  \\n16    False                HUF  \\n17    False                HUF  \\n18    False                HUF  \\n19    False                HUF  \\n20    False                HUF  \\n21    False                HUF  \\n22    False                HUF  \\n23    False                HUF  \\n24    False                HUF  \\n25    False                HUF  \\n26    False                HUF  \\n27    False                HUF  \\n28    False                HUF  \\n29    False                HUF  \\n30    False                HUF  \\n31    False                HUF  \\n32    False                HUF  \\n33    False                HUF  \\n34    False                HUF  \\n35    False                HUF  \\n36    False                HUF  ', type='tool_call_output_item'),\n",
       " ReasoningItem(agent=Agent(name='Flight Assistant', instructions=\"You are a helpful personal assistant. You are able to get real-time flight information for a given destination and date. You answer users' questions about flight prices and availability.\", handoff_description=None, handoffs=[], model='o1', model_settings=ModelSettings(temperature=None, top_p=None, frequency_penalty=None, presence_penalty=None, tool_choice=None, parallel_tool_calls=False, truncation=None, max_tokens=None), tools=[FunctionTool(name='get_flights_to_destinations_tool', description=\"Fetch flights to multiple destinations and return a combined DataFrame.\\n\\nNote: The fast_flights API doesn't support multiple destinations in a single call,\\nso this function makes separate API calls for each destination and combines the results.\", params_json_schema={'properties': {'date': {'description': 'Flight date in YYYY-MM-DD format', 'title': 'Date', 'type': 'string'}, 'from_airport': {'description': 'Departure airport code in IATA format (3-letter codes), such as \"BUD\"', 'title': 'From Airport', 'type': 'string'}, 'to_airports': {'description': 'List of destination airport codes in IATA format (3-letter codes), such as [\"CDG\", \"ORY\", \"BVA\"]', 'items': {'type': 'string'}, 'title': 'To Airports', 'type': 'array'}, 'max_stops': {'description': 'Maximum number of stops (default: 0)', 'title': 'Max Stops', 'type': 'integer'}}, 'required': ['date', 'from_airport', 'to_airports', 'max_stops'], 'title': 'get_flights_to_destinations_tool_args', 'type': 'object', 'additionalProperties': False}, on_invoke_tool=<function function_tool.<locals>._create_function_tool.<locals>._on_invoke_tool at 0x12dffdd00>, strict_json_schema=True)], input_guardrails=[], output_guardrails=[], output_type=None, hooks=None), raw_item=ResponseReasoningItem(id='rs_680587d6ae708192a40e863fac44edc501c0da4612e130cd', summary=[], type='reasoning', status=None), type='reasoning_item'),\n",
       " MessageOutputItem(agent=Agent(name='Flight Assistant', instructions=\"You are a helpful personal assistant. You are able to get real-time flight information for a given destination and date. You answer users' questions about flight prices and availability.\", handoff_description=None, handoffs=[], model='o1', model_settings=ModelSettings(temperature=None, top_p=None, frequency_penalty=None, presence_penalty=None, tool_choice=None, parallel_tool_calls=False, truncation=None, max_tokens=None), tools=[FunctionTool(name='get_flights_to_destinations_tool', description=\"Fetch flights to multiple destinations and return a combined DataFrame.\\n\\nNote: The fast_flights API doesn't support multiple destinations in a single call,\\nso this function makes separate API calls for each destination and combines the results.\", params_json_schema={'properties': {'date': {'description': 'Flight date in YYYY-MM-DD format', 'title': 'Date', 'type': 'string'}, 'from_airport': {'description': 'Departure airport code in IATA format (3-letter codes), such as \"BUD\"', 'title': 'From Airport', 'type': 'string'}, 'to_airports': {'description': 'List of destination airport codes in IATA format (3-letter codes), such as [\"CDG\", \"ORY\", \"BVA\"]', 'items': {'type': 'string'}, 'title': 'To Airports', 'type': 'array'}, 'max_stops': {'description': 'Maximum number of stops (default: 0)', 'title': 'Max Stops', 'type': 'integer'}}, 'required': ['date', 'from_airport', 'to_airports', 'max_stops'], 'title': 'get_flights_to_destinations_tool_args', 'type': 'object', 'additionalProperties': False}, on_invoke_tool=<function function_tool.<locals>._create_function_tool.<locals>._on_invoke_tool at 0x12dffdd00>, strict_json_schema=True)], input_guardrails=[], output_guardrails=[], output_type=None, hooks=None), raw_item=ResponseOutputMessage(id='msg_680587de37908192add9eadd4831af1901c0da4612e130cd', content=[ResponseOutputText(annotations=[], text='Below is an option that, based on currently available data, yields the lowest total fare (departure on July 1, returning on July 8). This trip length is 6 nights on the ground in Madeira (arriving the morning of July 2 and leaving on July 8), which fits your “5 to 8 days” requirement.\\n\\n1) Outbound (Budapest → Madeira):\\n   • Date/Time: Departs Tue, July 1 at 20:00, arrives Wed, July 2 at 09:35  \\n   • Airline(s): SWISS + Edelweiss Air (1 stop)  \\n   • Duration: ~14h 35m  \\n   • Price: 180,800 HUF\\n\\n2) Return (Madeira → Budapest):\\n   • Date/Time: Departs Tue, July 8 at 09:50, arrives Wed, July 9 at 07:50  \\n   • “Self-transfer” itinerary with 1 stop (multiple carriers)  \\n   • Price: 82,651 HUF\\n\\nTotal Fare (per person): 180,800 + 82,651 = 263,451 HUF  \\nFor two travelers, simply double that amount.\\n\\nWhy this is optimal for a budget:\\n• Among all combinations checked (departing July 1, returning on different dates between July 6 and July 9 to satisfy 5–8 days), this pairing yields the lowest combined cost.  \\n• If you prefer fewer stopovers or a shorter travel time, there are single-stop or direct flights with slightly higher fares (for example, returning on July 7 for around 110,000 HUF rather than ~83,000 HUF on July 8). However, they add to the overall ticket price.\\n\\nIf you have flexibility to change departure dates, it is worth checking July 2 or 3 departures as well—sometimes midweek can be cheaper. But with the data at hand, this July 1–8 plan is the least expensive option.', type='output_text')], role='assistant', status='completed', type='message'), type='message_output_item')]"
      ]
     },
     "execution_count": 44,
     "metadata": {},
     "output_type": "execute_result"
    }
   ],
   "source": [
    "a.new_items"
   ]
  },
  {
   "cell_type": "code",
   "execution_count": null,
   "metadata": {},
   "outputs": [],
   "source": []
  }
 ],
 "metadata": {
  "kernelspec": {
   "display_name": "venv",
   "language": "python",
   "name": "python3"
  },
  "language_info": {
   "codemirror_mode": {
    "name": "ipython",
    "version": 3
   },
   "file_extension": ".py",
   "mimetype": "text/x-python",
   "name": "python",
   "nbconvert_exporter": "python",
   "pygments_lexer": "ipython3",
   "version": "3.13.2"
  }
 },
 "nbformat": 4,
 "nbformat_minor": 2
}
