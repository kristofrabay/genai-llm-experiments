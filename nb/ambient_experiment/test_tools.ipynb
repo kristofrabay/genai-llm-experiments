{
 "cells": [
  {
   "cell_type": "markdown",
   "metadata": {},
   "source": [
    "### Test tools and functionsfor the ambient AI agent team experiment"
   ]
  },
  {
   "cell_type": "code",
   "execution_count": 6,
   "metadata": {},
   "outputs": [],
   "source": [
    "from slack_tools import slack_communication\n",
    "\n",
    "from datetime import datetime\n",
    "import pytz"
   ]
  },
  {
   "cell_type": "code",
   "execution_count": 7,
   "metadata": {},
   "outputs": [],
   "source": [
    "result = slack_communication(\n",
    "    \"Current time in Budapest and New York:\\n\"\n",
    "    f\"🇭🇺 Budapest: {datetime.now(pytz.timezone('Europe/Budapest')).strftime('%Y-%m-%d %H:%M')}\\n\"\n",
    "    f\"🗽 New York: {datetime.now(pytz.timezone('America/New_York')).strftime('%Y-%m-%d %H:%M')}\"\n",
    ")"
   ]
  },
  {
   "cell_type": "code",
   "execution_count": 8,
   "metadata": {},
   "outputs": [
    {
     "name": "stdout",
     "output_type": "stream",
     "text": [
      "Message sent, waiting for feedback (timeout: 60s)...\n",
      "Received feedback: good\n"
     ]
    }
   ],
   "source": [
    "# Example usage with a local image:\n",
    "feedback = slack_communication(\n",
    "    \"How's your day going?\", \n",
    "    require_feedback=True,\n",
    ")\n",
    "\n",
    "print(f\"Received feedback: {feedback}\")"
   ]
  },
  {
   "cell_type": "code",
   "execution_count": 62,
   "metadata": {},
   "outputs": [],
   "source": [
    "# Example usage with a local image:\n",
    "result = slack_communication(\n",
    "    \"yo check it out\", \n",
    "    image_path=\"../../output/social_media_experiment/AI rats overtaking New York City_img.png\"\n",
    ")"
   ]
  },
  {
   "cell_type": "code",
   "execution_count": 63,
   "metadata": {},
   "outputs": [
    {
     "name": "stdout",
     "output_type": "stream",
     "text": [
      "Message sent, waiting for feedback (timeout: 60s)...\n",
      "Received feedback: yppppe\n"
     ]
    }
   ],
   "source": [
    "# Example with local image and waiting for feedback:\n",
    "feedback = slack_communication(\n",
    "    \"What do you think of this local image?\", \n",
    "    require_feedback=True,\n",
    "    image_path=\"../../output/social_media_experiment/AI rats overtaking New York City_img.png\"\n",
    ")\n",
    "print(f\"Received feedback: {feedback}\")"
   ]
  },
  {
   "cell_type": "code",
   "execution_count": 64,
   "metadata": {},
   "outputs": [
    {
     "name": "stdout",
     "output_type": "stream",
     "text": [
      "Here's an image from the internet\n"
     ]
    }
   ],
   "source": [
    "# Example usage with a local image:\n",
    "result = slack_communication(\n",
    "    \"Here's an image from the internet\", \n",
    "    image_url=\"https://miro.medium.com/v2/resize:fit:549/1*g-YZo7s0j46lDQfMmQ955A.png\"\n",
    ")\n",
    "print(result)"
   ]
  },
  {
   "cell_type": "code",
   "execution_count": 65,
   "metadata": {},
   "outputs": [
    {
     "name": "stdout",
     "output_type": "stream",
     "text": [
      "Message sent, waiting for feedback (timeout: 60s)...\n",
      "Received feedback: nice logo man!\n"
     ]
    }
   ],
   "source": [
    "# Example usage with a local image:\n",
    "feedback = slack_communication(\n",
    "    \"what do you see here bro?\", \n",
    "    require_feedback=True,\n",
    "    image_url=\"https://miro.medium.com/v2/resize:fit:549/1*g-YZo7s0j46lDQfMmQ955A.png\"\n",
    ")\n",
    "\n",
    "print(f\"Received feedback: {feedback}\")"
   ]
  },
  {
   "cell_type": "code",
   "execution_count": null,
   "metadata": {},
   "outputs": [],
   "source": []
  },
  {
   "cell_type": "code",
   "execution_count": null,
   "metadata": {},
   "outputs": [],
   "source": []
  },
  {
   "cell_type": "markdown",
   "metadata": {},
   "source": [
    "#### Test image input to API"
   ]
  },
  {
   "cell_type": "code",
   "execution_count": 12,
   "metadata": {},
   "outputs": [],
   "source": [
    "import os\n",
    "import dotenv\n",
    "dotenv.load_dotenv()\n",
    "\n",
    "import base64\n",
    "from openai import OpenAI\n",
    "client = OpenAI()\n",
    "\n",
    "# Function to encode the image\n",
    "def encode_image(image_path):\n",
    "    with open(image_path, \"rb\") as image_file:\n",
    "        return base64.b64encode(image_file.read()).decode(\"utf-8\")\n",
    "\n",
    "# Path to your image\n",
    "image_path = \"stock_data/BUDML_FINAL.png\"\n",
    "\n",
    "# Getting the Base64 string\n",
    "base64_image = encode_image(image_path)"
   ]
  },
  {
   "cell_type": "code",
   "execution_count": 13,
   "metadata": {},
   "outputs": [
    {
     "name": "stdout",
     "output_type": "stream",
     "text": [
      "Detail: low\n",
      "It appears to be a line chart labeled “Stock Price Chart for $BUDML.” The x-axis is labeled “Time (seconds)” and the y-axis is labeled “Stock Price (USD).” The blue line shows a stock price starting around 1000 USD, dropping to about 900–950 in the middle of the time span, and then rising above 1200 USD by the end of the timeline.\n",
      "\n",
      "\n",
      "\n",
      "Detail: high\n",
      "It’s a line chart titled “Stock Price Chart for $BUDML,” showing how the stock’s price (on the y-axis, labeled in USD) changes over time in seconds (on the x-axis). The line starts near 1000 USD, dips to around 900 USD at about 70 seconds, then climbs sharply to around 1200 USD by the 150-second mark.\n",
      "\n",
      "\n",
      "\n"
     ]
    }
   ],
   "source": [
    "for detail in [\"low\", \"high\"]:\n",
    "    \n",
    "    completion = client.chat.completions.create(\n",
    "        model=\"o1-2024-12-17\",\n",
    "        messages=[\n",
    "            {\n",
    "                \"role\": \"user\",\n",
    "                \"content\": [\n",
    "                    { \"type\": \"text\", \"text\": \"what's in this image?\" },\n",
    "                    {\n",
    "                        \"type\": \"image_url\",\n",
    "                        \"image_url\": {\n",
    "                            \"url\": f\"data:image/jpeg;base64,{base64_image}\",\n",
    "                            \"detail\": detail\n",
    "                        },\n",
    "                    },\n",
    "                ],\n",
    "            }\n",
    "        ],\n",
    "    )\n",
    "\n",
    "    print(f\"Detail: {detail}\")\n",
    "    print(completion.choices[0].message.content)\n",
    "    print(\"\\n\\n\")"
   ]
  },
  {
   "cell_type": "code",
   "execution_count": 15,
   "metadata": {},
   "outputs": [
    {
     "data": {
      "text/plain": [
       "{'id': 'chatcmpl-BBoGP3KmJcuXNDh8Y3tz9VA42GCwT',\n",
       " 'choices': [Choice(finish_reason='stop', index=0, logprobs=None, message=ChatCompletionMessage(content='It’s a line chart titled “Stock Price Chart for $BUDML,” showing how the stock’s price (on the y-axis, labeled in USD) changes over time in seconds (on the x-axis). The line starts near 1000 USD, dips to around 900 USD at about 70 seconds, then climbs sharply to around 1200 USD by the 150-second mark.', refusal=None, role='assistant', annotations=[], audio=None, function_call=None, tool_calls=None))],\n",
       " 'created': 1742154521,\n",
       " 'model': 'o1-2024-12-17',\n",
       " 'object': 'chat.completion',\n",
       " 'service_tier': 'default',\n",
       " 'system_fingerprint': 'fp_60442b0df0',\n",
       " 'usage': CompletionUsage(completion_tokens=347, prompt_tokens=777, total_tokens=1124, completion_tokens_details=CompletionTokensDetails(accepted_prediction_tokens=0, audio_tokens=0, reasoning_tokens=256, rejected_prediction_tokens=0), prompt_tokens_details=PromptTokensDetails(audio_tokens=0, cached_tokens=0)),\n",
       " '_request_id': 'req_06976b303e145d91b93652c5dc01e1ae'}"
      ]
     },
     "execution_count": 15,
     "metadata": {},
     "output_type": "execute_result"
    }
   ],
   "source": [
    "completion.__dict__"
   ]
  },
  {
   "cell_type": "code",
   "execution_count": null,
   "metadata": {},
   "outputs": [],
   "source": []
  }
 ],
 "metadata": {
  "kernelspec": {
   "display_name": "venv",
   "language": "python",
   "name": "python3"
  },
  "language_info": {
   "codemirror_mode": {
    "name": "ipython",
    "version": 3
   },
   "file_extension": ".py",
   "mimetype": "text/x-python",
   "name": "python",
   "nbconvert_exporter": "python",
   "pygments_lexer": "ipython3",
   "version": "3.13.1"
  }
 },
 "nbformat": 4,
 "nbformat_minor": 2
}
