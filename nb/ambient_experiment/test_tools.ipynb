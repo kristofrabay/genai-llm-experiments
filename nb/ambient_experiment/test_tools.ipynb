{
 "cells": [
  {
   "cell_type": "markdown",
   "metadata": {},
   "source": [
    "### Test tools for the ambient AI agent team experiment"
   ]
  },
  {
   "cell_type": "code",
   "execution_count": 1,
   "metadata": {},
   "outputs": [],
   "source": [
    "import dotenv\n",
    "dotenv.load_dotenv()\n",
    "\n",
    "import os\n",
    "import requests\n",
    "\n",
    "from datetime import datetime\n",
    "import time\n",
    "\n",
    "from slack_sdk import WebClient"
   ]
  },
  {
   "cell_type": "code",
   "execution_count": 2,
   "metadata": {},
   "outputs": [],
   "source": [
    "webhook_url = os.getenv(\"SLACK_WEBHOOK_URL\")\n",
    "channel_id = os.getenv(\"SLACK_CHANNEL_ID\")\n",
    "client = WebClient(token=os.getenv(\"SLACK_BOT_TOKEN\"))\n",
    "\n",
    "def send_slack_message(webhook_url, message):\n",
    "    payload = {\"text\": message,}\n",
    "    response = requests.post(webhook_url, json=payload)\n",
    "    if response.status_code != 200:\n",
    "        raise ValueError(f\"Request to Slack returned an error {response.status_code}: {response.text}\")"
   ]
  },
  {
   "cell_type": "code",
   "execution_count": 3,
   "metadata": {},
   "outputs": [],
   "source": [
    "current_time = datetime.now().strftime(\"%Y-%m-%d %H:%M:%S\")\n",
    "user_message = f\"Right now it is {current_time}\\nAll good?\"\n",
    "\n",
    "send_slack_message(webhook_url, user_message)"
   ]
  },
  {
   "cell_type": "code",
   "execution_count": null,
   "metadata": {},
   "outputs": [],
   "source": []
  },
  {
   "cell_type": "markdown",
   "metadata": {},
   "source": [
    "We can send a message to slack with a button to click."
   ]
  },
  {
   "cell_type": "code",
   "execution_count": 4,
   "metadata": {},
   "outputs": [],
   "source": [
    "payload = {\n",
    "    \"text\": \"MESSAGE HERE. HOW TO PROCEED?\",\n",
    "    \"blocks\" : [\n",
    "        {\n",
    "            \"type\": \"actions\",\n",
    "            \"elements\": [\n",
    "                {\n",
    "                    \"type\": \"button\",\n",
    "                    \"text\": {\"type\": \"plain_text\", \"text\": \"Yes\"},\n",
    "                    \"value\": \"yes\",\n",
    "                    \"action_id\": \"button_click_yes\"\n",
    "                },\n",
    "                {\n",
    "                    \"type\": \"button\",\n",
    "                    \"text\": {\"type\": \"plain_text\", \"text\": \"No\"},\n",
    "                    \"value\": \"no\",\n",
    "                    \"action_id\": \"button_click_no\"\n",
    "                }\n",
    "            ]\n",
    "        }\n",
    "    ]\n",
    "}"
   ]
  },
  {
   "cell_type": "code",
   "execution_count": null,
   "metadata": {},
   "outputs": [],
   "source": []
  },
  {
   "cell_type": "markdown",
   "metadata": {},
   "source": [
    "Send with polling to wait for response."
   ]
  },
  {
   "cell_type": "code",
   "execution_count": 5,
   "metadata": {},
   "outputs": [],
   "source": [
    "def send_message_and_get_ts(message):\n",
    "    response = client.chat_postMessage(channel=channel_id, text=message)\n",
    "    return response[\"ts\"]\n",
    "\n",
    "def poll_for_feedback(channel_id, thread_ts, timeout=60):\n",
    "\n",
    "    start_time = time.time()\n",
    "\n",
    "    while time.time() - start_time < timeout:\n",
    "\n",
    "        response = client.conversations_replies(channel=channel_id, ts=thread_ts)\n",
    "        messages = response.get(\"messages\", [])\n",
    "        \n",
    "        for msg in messages:\n",
    "            # Skip the original message (which has the same ts as thread_ts)\n",
    "            if msg.get(\"ts\") == thread_ts:\n",
    "                continue\n",
    "                \n",
    "            # If we found any reply message that's not the original, return it\n",
    "            return msg.get(\"text\")\n",
    "            \n",
    "        # No reply found yet, wait and try again\n",
    "        time.sleep(5)\n",
    "        \n",
    "    return None"
   ]
  },
  {
   "cell_type": "code",
   "execution_count": 6,
   "metadata": {},
   "outputs": [
    {
     "name": "stdout",
     "output_type": "stream",
     "text": [
      "Waiting for user feedback...\n",
      "Final user feedback: bruh\n"
     ]
    }
   ],
   "source": [
    "# Example usage:\n",
    "message_text = \"Hey from another world man!\"\n",
    "thread_ts = send_message_and_get_ts(message_text)\n",
    "print(\"Waiting for user feedback...\")\n",
    "\n",
    "user_feedback = poll_for_feedback(channel_id, thread_ts)\n",
    "print(\"Final user feedback:\", user_feedback)"
   ]
  },
  {
   "cell_type": "code",
   "execution_count": null,
   "metadata": {},
   "outputs": [],
   "source": []
  },
  {
   "cell_type": "markdown",
   "metadata": {},
   "source": [
    "#### Putting everything together for 1 Slack Function"
   ]
  },
  {
   "cell_type": "code",
   "execution_count": 61,
   "metadata": {},
   "outputs": [],
   "source": [
    "def slack_communication(message, require_feedback=False, timeout=60, image_url=None, image_path=None):\n",
    "    \"\"\"\n",
    "    Send a message to Slack and optionally wait for human feedback.\n",
    "    \n",
    "    Args:\n",
    "        message (str): The message to send to Slack\n",
    "        require_feedback (bool): Whether to wait for human feedback\n",
    "        timeout (int): Maximum time to wait for feedback in seconds\n",
    "        image_url (str): Optional URL of an image to attach (for remote images)\n",
    "        image_path (str): Optional file path to a local image to upload\n",
    "        \n",
    "    Returns:\n",
    "        str: Human feedback if require_feedback=True, otherwise confirmation message\n",
    "    \"\"\"\n",
    "    try:\n",
    "        thread_ts = None\n",
    "        \n",
    "        # Handle local image upload if provided\n",
    "        if image_path:\n",
    "            # Upload the file first\n",
    "            upload_response = client.files_upload_v2(\n",
    "                channel=channel_id,\n",
    "                file=image_path,\n",
    "                initial_comment=message\n",
    "            )\n",
    "            # For local images, we need to send a follow-up message to get the thread_ts\n",
    "            if require_feedback:\n",
    "                if require_feedback:\n",
    "\n",
    "                    thread_ts = None #upload_response.get('file', {}).get('timestamp', {})\n",
    "\n",
    "                    if not thread_ts:\n",
    "                        # Fallback if we can't get thread_ts from file upload\n",
    "                        response = client.chat_postMessage(channel=channel_id, text=\"Respond to the last image here:\")\n",
    "                        \n",
    "                        thread_ts = response[\"ts\"]\n",
    "\n",
    "            else:\n",
    "                return f\"Message and local image posted successfully: {message[:50]}...\" if len(message) > 50 else message\n",
    "        \n",
    "        # Handle remote image URL\n",
    "        elif image_url:\n",
    "            # Prepare blocks for message with image URL\n",
    "            blocks = [\n",
    "                {\n",
    "                    \"type\": \"section\",\n",
    "                    \"text\": {\n",
    "                        \"type\": \"mrkdwn\",\n",
    "                        \"text\": message\n",
    "                    }\n",
    "                },\n",
    "                {\n",
    "                    \"type\": \"image\",\n",
    "                    \"image_url\": image_url,\n",
    "                    \"alt_text\": \"Image\"\n",
    "                }\n",
    "            ]\n",
    "            \n",
    "            response = client.chat_postMessage(\n",
    "                channel=channel_id, \n",
    "                text=message,\n",
    "                blocks=blocks\n",
    "            )\n",
    "            if require_feedback:\n",
    "                thread_ts = response[\"ts\"]\n",
    "\n",
    "            else:\n",
    "                return f\"Message with remote image posted successfully: {message[:50]}...\" if len(message) > 50 else message\n",
    "        \n",
    "        # Text-only message\n",
    "        else:\n",
    "            response = client.chat_postMessage(\n",
    "                channel=channel_id, \n",
    "                text=message\n",
    "            )\n",
    "            if require_feedback:\n",
    "                thread_ts = response[\"ts\"]\n",
    "                \n",
    "            else:\n",
    "                return f\"Message posted successfully: {message[:50]}...\" if len(message) > 50 else message\n",
    "        \n",
    "        # Wait for feedback if required\n",
    "        if require_feedback and thread_ts:\n",
    "            print(f\"Message sent, waiting for feedback (timeout: {timeout}s)...\")\n",
    "            feedback = poll_for_feedback(channel_id, thread_ts, timeout)\n",
    "            \n",
    "            if feedback:\n",
    "                return feedback\n",
    "            else:\n",
    "                return \"No feedback received within the timeout period.\"\n",
    "        \n",
    "    except Exception as e:\n",
    "        return f\"Error sending message: {str(e)}\""
   ]
  },
  {
   "cell_type": "code",
   "execution_count": 66,
   "metadata": {},
   "outputs": [],
   "source": [
    "result = slack_communication(\n",
    "    \"yoooo man!\", \n",
    ")"
   ]
  },
  {
   "cell_type": "code",
   "execution_count": 67,
   "metadata": {},
   "outputs": [
    {
     "name": "stdout",
     "output_type": "stream",
     "text": [
      "Message sent, waiting for feedback (timeout: 60s)...\n",
      "Received feedback: top g\n"
     ]
    }
   ],
   "source": [
    "# Example usage with a local image:\n",
    "feedback = slack_communication(\n",
    "    \"whts yo name man?\", \n",
    "    require_feedback=True,\n",
    ")\n",
    "\n",
    "print(f\"Received feedback: {feedback}\")"
   ]
  },
  {
   "cell_type": "code",
   "execution_count": 62,
   "metadata": {},
   "outputs": [],
   "source": [
    "# Example usage with a local image:\n",
    "result = slack_communication(\n",
    "    \"yo check it out\", \n",
    "    image_path=\"../../output/social_media_experiment/AI rats overtaking New York City_img.png\"\n",
    ")"
   ]
  },
  {
   "cell_type": "code",
   "execution_count": 63,
   "metadata": {},
   "outputs": [
    {
     "name": "stdout",
     "output_type": "stream",
     "text": [
      "Message sent, waiting for feedback (timeout: 60s)...\n",
      "Received feedback: yppppe\n"
     ]
    }
   ],
   "source": [
    "# Example with local image and waiting for feedback:\n",
    "feedback = slack_communication(\n",
    "    \"What do you think of this local image?\", \n",
    "    require_feedback=True,\n",
    "    image_path=\"../../output/social_media_experiment/AI rats overtaking New York City_img.png\"\n",
    ")\n",
    "print(f\"Received feedback: {feedback}\")"
   ]
  },
  {
   "cell_type": "code",
   "execution_count": 64,
   "metadata": {},
   "outputs": [
    {
     "name": "stdout",
     "output_type": "stream",
     "text": [
      "Here's an image from the internet\n"
     ]
    }
   ],
   "source": [
    "# Example usage with a local image:\n",
    "result = slack_communication(\n",
    "    \"Here's an image from the internet\", \n",
    "    image_url=\"https://miro.medium.com/v2/resize:fit:549/1*g-YZo7s0j46lDQfMmQ955A.png\"\n",
    ")\n",
    "print(result)"
   ]
  },
  {
   "cell_type": "code",
   "execution_count": 65,
   "metadata": {},
   "outputs": [
    {
     "name": "stdout",
     "output_type": "stream",
     "text": [
      "Message sent, waiting for feedback (timeout: 60s)...\n",
      "Received feedback: nice logo man!\n"
     ]
    }
   ],
   "source": [
    "# Example usage with a local image:\n",
    "feedback = slack_communication(\n",
    "    \"what do you see here bro?\", \n",
    "    require_feedback=True,\n",
    "    image_url=\"https://miro.medium.com/v2/resize:fit:549/1*g-YZo7s0j46lDQfMmQ955A.png\"\n",
    ")\n",
    "\n",
    "print(f\"Received feedback: {feedback}\")"
   ]
  },
  {
   "cell_type": "code",
   "execution_count": null,
   "metadata": {},
   "outputs": [],
   "source": []
  }
 ],
 "metadata": {
  "kernelspec": {
   "display_name": "venv",
   "language": "python",
   "name": "python3"
  },
  "language_info": {
   "codemirror_mode": {
    "name": "ipython",
    "version": 3
   },
   "file_extension": ".py",
   "mimetype": "text/x-python",
   "name": "python",
   "nbconvert_exporter": "python",
   "pygments_lexer": "ipython3",
   "version": "3.13.1"
  }
 },
 "nbformat": 4,
 "nbformat_minor": 2
}
