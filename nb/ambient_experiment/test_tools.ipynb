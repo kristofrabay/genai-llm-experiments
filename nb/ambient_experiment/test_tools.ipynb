{
 "cells": [
  {
   "cell_type": "markdown",
   "metadata": {},
   "source": [
    "### Test tools for the ambient AI agent team experiment"
   ]
  },
  {
   "cell_type": "code",
   "execution_count": 91,
   "metadata": {},
   "outputs": [],
   "source": [
    "from slack_tools import slack_communication"
   ]
  },
  {
   "cell_type": "code",
   "execution_count": 92,
   "metadata": {},
   "outputs": [],
   "source": [
    "result = slack_communication(\n",
    "    \"yoooo man!\", \n",
    ")"
   ]
  },
  {
   "cell_type": "code",
   "execution_count": 67,
   "metadata": {},
   "outputs": [
    {
     "name": "stdout",
     "output_type": "stream",
     "text": [
      "Message sent, waiting for feedback (timeout: 60s)...\n",
      "Received feedback: top g\n"
     ]
    }
   ],
   "source": [
    "# Example usage with a local image:\n",
    "feedback = slack_communication(\n",
    "    \"whts yo name man?\", \n",
    "    require_feedback=True,\n",
    ")\n",
    "\n",
    "print(f\"Received feedback: {feedback}\")"
   ]
  },
  {
   "cell_type": "code",
   "execution_count": 62,
   "metadata": {},
   "outputs": [],
   "source": [
    "# Example usage with a local image:\n",
    "result = slack_communication(\n",
    "    \"yo check it out\", \n",
    "    image_path=\"../../output/social_media_experiment/AI rats overtaking New York City_img.png\"\n",
    ")"
   ]
  },
  {
   "cell_type": "code",
   "execution_count": 63,
   "metadata": {},
   "outputs": [
    {
     "name": "stdout",
     "output_type": "stream",
     "text": [
      "Message sent, waiting for feedback (timeout: 60s)...\n",
      "Received feedback: yppppe\n"
     ]
    }
   ],
   "source": [
    "# Example with local image and waiting for feedback:\n",
    "feedback = slack_communication(\n",
    "    \"What do you think of this local image?\", \n",
    "    require_feedback=True,\n",
    "    image_path=\"../../output/social_media_experiment/AI rats overtaking New York City_img.png\"\n",
    ")\n",
    "print(f\"Received feedback: {feedback}\")"
   ]
  },
  {
   "cell_type": "code",
   "execution_count": 64,
   "metadata": {},
   "outputs": [
    {
     "name": "stdout",
     "output_type": "stream",
     "text": [
      "Here's an image from the internet\n"
     ]
    }
   ],
   "source": [
    "# Example usage with a local image:\n",
    "result = slack_communication(\n",
    "    \"Here's an image from the internet\", \n",
    "    image_url=\"https://miro.medium.com/v2/resize:fit:549/1*g-YZo7s0j46lDQfMmQ955A.png\"\n",
    ")\n",
    "print(result)"
   ]
  },
  {
   "cell_type": "code",
   "execution_count": 65,
   "metadata": {},
   "outputs": [
    {
     "name": "stdout",
     "output_type": "stream",
     "text": [
      "Message sent, waiting for feedback (timeout: 60s)...\n",
      "Received feedback: nice logo man!\n"
     ]
    }
   ],
   "source": [
    "# Example usage with a local image:\n",
    "feedback = slack_communication(\n",
    "    \"what do you see here bro?\", \n",
    "    require_feedback=True,\n",
    "    image_url=\"https://miro.medium.com/v2/resize:fit:549/1*g-YZo7s0j46lDQfMmQ955A.png\"\n",
    ")\n",
    "\n",
    "print(f\"Received feedback: {feedback}\")"
   ]
  },
  {
   "cell_type": "code",
   "execution_count": null,
   "metadata": {},
   "outputs": [],
   "source": []
  }
 ],
 "metadata": {
  "kernelspec": {
   "display_name": "venv",
   "language": "python",
   "name": "python3"
  },
  "language_info": {
   "codemirror_mode": {
    "name": "ipython",
    "version": 3
   },
   "file_extension": ".py",
   "mimetype": "text/x-python",
   "name": "python",
   "nbconvert_exporter": "python",
   "pygments_lexer": "ipython3",
   "version": "3.13.1"
  }
 },
 "nbformat": 4,
 "nbformat_minor": 2
}
