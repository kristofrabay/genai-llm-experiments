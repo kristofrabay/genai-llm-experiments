{
 "cells": [
  {
   "cell_type": "markdown",
   "metadata": {},
   "source": [
    "Test `citations` in Anthropic\n",
    "\n",
    "You need to provide documents to the API:\n",
    "- PDF\n",
    "- plain txt\n",
    "- custom file"
   ]
  },
  {
   "cell_type": "code",
   "execution_count": 50,
   "metadata": {},
   "outputs": [],
   "source": [
    "from IPython.display import display, Markdown\n",
    "\n",
    "import json\n",
    "import wikipedia\n",
    "\n",
    "from anthropic import Anthropic\n",
    "client = Anthropic()"
   ]
  },
  {
   "cell_type": "code",
   "execution_count": 26,
   "metadata": {},
   "outputs": [],
   "source": [
    "anthropic_model_name = \"claude-3-5-sonnet-20241022\"\n",
    "temperature = 0.0\n",
    "max_tokens = 8192\n",
    "\n",
    "system_message = \"You are a professional QA assistant that can summarize documents and answer questions.\""
   ]
  },
  {
   "cell_type": "code",
   "execution_count": 35,
   "metadata": {},
   "outputs": [],
   "source": [
    "def call_anthropic_API(messages):\n",
    "    \n",
    "    response = client.messages.create(\n",
    "        model=anthropic_model_name,\n",
    "        max_tokens=max_tokens,\n",
    "        temperature=temperature,\n",
    "        system=system_message,\n",
    "        messages=messages\n",
    "    )\n",
    "    \n",
    "    return response\n",
    "\n",
    "def count_anthropic_tokens(text):\n",
    "\n",
    "    response = client.messages.count_tokens(\n",
    "            model=anthropic_model_name,\n",
    "            system=\"\",\n",
    "            messages=[{\n",
    "            \"role\": \"user\",\n",
    "            \"content\": text\n",
    "        }],\n",
    "    )\n",
    "\n",
    "    return eval(response.model_dump_json())"
   ]
  },
  {
   "cell_type": "markdown",
   "metadata": {},
   "source": [
    "Test connection"
   ]
  },
  {
   "cell_type": "code",
   "execution_count": 9,
   "metadata": {},
   "outputs": [
    {
     "name": "stdout",
     "output_type": "stream",
     "text": [
      "Usage: Usage(cache_creation_input_tokens=0, cache_read_input_tokens=0, input_tokens=39, output_tokens=175)\n",
      "Response:\n",
      "\n"
     ]
    },
    {
     "data": {
      "text/markdown": [
       "Falcons and ravens differ in several key ways:\n",
       "\n",
       "Falcons are birds of prey (raptors) with pointed wings, hooked beaks, and powerful talons used for hunting. They're known for their incredible speed and agility in flight.\n",
       "\n",
       "Ravens are corvids (part of the crow family) with broader wings, larger bodies, and straight beaks. They're intelligent scavengers and omnivores, known for problem-solving abilities and complex social behaviors.\n",
       "\n",
       "The main differences are in their:\n",
       "- Diet (falcons hunt live prey; ravens eat almost anything)\n",
       "- Beak shape (hooked vs straight)\n",
       "- Wing shape (pointed vs broad)\n",
       "- Size (ravens are generally larger)\n",
       "- Hunting style (falcons are predators; ravens are opportunistic feeders)"
      ],
      "text/plain": [
       "<IPython.core.display.Markdown object>"
      ]
     },
     "metadata": {},
     "output_type": "display_data"
    }
   ],
   "source": [
    "user_message = \"Concisely, explain the difference between a falcon and a raven.\"\n",
    "\n",
    "test_msg = [\n",
    "    {\n",
    "        \"role\": \"user\",\n",
    "        \"content\": [\n",
    "            {\n",
    "                \"type\": \"text\",\n",
    "                \"text\": user_message\n",
    "            }\n",
    "        ]\n",
    "    }\n",
    "]\n",
    "\n",
    "response = call_anthropic_API(test_msg)\n",
    "\n",
    "print(f'Usage: {response.usage}')\n",
    "print('Response:\\n')\n",
    "display(Markdown(response.content[0].text))"
   ]
  },
  {
   "cell_type": "code",
   "execution_count": null,
   "metadata": {},
   "outputs": [],
   "source": []
  },
  {
   "cell_type": "markdown",
   "metadata": {},
   "source": [
    "### Test `citations`\n",
    "\n",
    "1. for txt files we will use a Wikipedia page\n",
    "2. for PDF we will upload a more complex financial report\n",
    "3. for custom datasources we will use a structured markdown / text source"
   ]
  },
  {
   "cell_type": "markdown",
   "metadata": {},
   "source": [
    "#### 1. plain txt"
   ]
  },
  {
   "cell_type": "markdown",
   "metadata": {},
   "source": [
    "First get some content to a txt file"
   ]
  },
  {
   "cell_type": "code",
   "execution_count": 37,
   "metadata": {},
   "outputs": [
    {
     "name": "stdout",
     "output_type": "stream",
     "text": [
      "Content saved to: ../output/anthropic-citations/tesla-wiki.txt\n"
     ]
    }
   ],
   "source": [
    "output_path = \"../output/anthropic-citations/tesla-wiki.txt\"\n",
    "\n",
    "tesla_wiki_page = wikipedia.page(title=\"Tesla, Inc.\")\n",
    "\n",
    "# Write the content to the file\n",
    "with open(output_path, \"w\", encoding=\"utf-8\") as f:\n",
    "    f.write(f\"Title: {tesla_wiki_page.title}\\n\\n\")\n",
    "    f.write(f\"URL: {tesla_wiki_page.url}\\n\\n\")\n",
    "    f.write(\"Content:\\n\")\n",
    "    f.write(tesla_wiki_page.content)\n",
    "\n",
    "print(f\"Content saved to: {output_path}\")"
   ]
  },
  {
   "cell_type": "code",
   "execution_count": 38,
   "metadata": {},
   "outputs": [
    {
     "name": "stdout",
     "output_type": "stream",
     "text": [
      "First 500 characters of the file:\n",
      "--------------------------------------------------\n",
      "Title: Tesla, Inc.\n",
      "\n",
      "URL: https://en.wikipedia.org/wiki/Tesla,_Inc.\n",
      "\n",
      "Content:\n",
      "Tesla, Inc. ( TESS-lə or  TEZ-lə) is an American multinational automotive and clean energy company. Headquartered in Austin, Texas, it designs, manufactures and sells battery electric vehicles (BEVs), stationary battery energy storage devices from home to grid-scale, solar panels and solar shingles, and related products and services.\n",
      "Tesla was incorporated in July 2003 by Martin Eberhard and Marc Tarpenning as Tesla Mot\n",
      "--------------------------------------------------\n",
      "\n",
      "Total characters in file: 82749\n",
      "Total tokens: 19382\n"
     ]
    }
   ],
   "source": [
    "# Read the file\n",
    "with open(output_path, \"r\", encoding=\"utf-8\") as f:\n",
    "    plain_txt_content = f.read()\n",
    "    \n",
    "# Print first 500 characters\n",
    "print(\"First 500 characters of the file:\")\n",
    "print(\"-\" * 50)\n",
    "print(plain_txt_content[:500])\n",
    "print(\"-\" * 50)\n",
    "print(f\"\\nTotal characters in file: {len(plain_txt_content)}\")\n",
    "print(f\"Total tokens: {count_anthropic_tokens(plain_txt_content)['input_tokens']}\")"
   ]
  },
  {
   "cell_type": "markdown",
   "metadata": {},
   "source": [
    "Call API with citations enabled, passing the document"
   ]
  },
  {
   "cell_type": "code",
   "execution_count": 53,
   "metadata": {},
   "outputs": [],
   "source": [
    "user_message = \"Briefly explain what difficultiesTesla faced between 2010 and 2016\"\n",
    "\n",
    "test_msg = [\n",
    "    {\n",
    "        \"role\": \"user\",\n",
    "        \"content\": [\n",
    "            {\n",
    "                \"type\": \"document\",\n",
    "                \"source\": {\n",
    "                    \"type\": \"text\",\n",
    "                    \"media_type\": \"text/plain\",\n",
    "                    \"data\": plain_txt_content\n",
    "                },\n",
    "                \"title\": \"Tesla Inc.\", # optional\n",
    "                \"context\": \"Wikipedia page about Tesla Inc.\", # optional\n",
    "                \"citations\": {\"enabled\": True}\n",
    "            },\n",
    "            {\n",
    "                \"type\": \"text\",\n",
    "                \"text\": user_message\n",
    "            }\n",
    "        ]\n",
    "    }\n",
    "]\n",
    "\n",
    "response_with_citations = call_anthropic_API(test_msg)"
   ]
  },
  {
   "cell_type": "code",
   "execution_count": 54,
   "metadata": {},
   "outputs": [
    {
     "name": "stdout",
     "output_type": "stream",
     "text": [
      "Usage: Usage(cache_creation_input_tokens=0, cache_read_input_tokens=0, input_tokens=29523, output_tokens=458)\n"
     ]
    }
   ],
   "source": [
    "print(f'Usage: {response_with_citations.usage}')"
   ]
  },
  {
   "cell_type": "markdown",
   "metadata": {},
   "source": [
    "Citations comes back with a little different structure: there is not only one `content` field, list of text blocks, some including citations blocks."
   ]
  },
  {
   "cell_type": "code",
   "execution_count": 55,
   "metadata": {},
   "outputs": [
    {
     "data": {
      "text/plain": [
       "10"
      ]
     },
     "execution_count": 55,
     "metadata": {},
     "output_type": "execute_result"
    }
   ],
   "source": [
    "len(response_with_citations.content)"
   ]
  },
  {
   "cell_type": "code",
   "execution_count": 56,
   "metadata": {},
   "outputs": [
    {
     "data": {
      "text/plain": [
       "[TextBlock(citations=None, text='Based on the documents, here are the key difficulties Tesla faced between 2010-2016:\\n\\n1. Production and Manufacturing Challenges:\\n', type='text'),\n",
       " TextBlock(citations=[CitationCharLocation(cited_text='To speed up production and control costs, Tesla invested heavily in robotics and automation to assemble the Model 3, but the robotics actually slowed the production of the vehicles. This led to significant delays and production problems, a period which the company described as \"production hell\". ', document_index=0, document_title='Tesla Inc.', end_char_index=8056, start_char_index=7759, type='char_location')], text='When trying to produce the Model 3, Tesla invested heavily in robotics and automation for assembly, but this actually slowed down production and led to significant delays and problems, a period which the company described as \"production hell.\"', type='text'),\n",
       " TextBlock(citations=None, text='\\n\\n2. Financial Pressures:\\n', type='text'),\n",
       " TextBlock(citations=[CitationCharLocation(cited_text='This period of \"production hell\" put significant financial pressure on Tesla, and during this time it became one of the most shorted companies in the stock market. ', document_index=0, document_title='Tesla Inc.', end_char_index=8363, start_char_index=8199, type='char_location')], text='The production difficulties put significant financial pressure on Tesla, and during this time it became one of the most shorted companies in the stock market.', type='text'),\n",
       " TextBlock(citations=None, text='\\n\\n3. Battery and Technical Issues:\\n', type='text'),\n",
       " TextBlock(citations=[CitationCharLocation(cited_text='In 2013, a Model S caught fire after the vehicle hit metal debris on a highway in Kent, Washington. Tesla confirmed the fire began in the battery pack and was caused by the impact of an object. As a result of this and other incidents, Tesla announced its decision to extend its current vehicle warranty to cover fire damage. In March 2014, the NHTSA announced that it had closed the investigation into whether the Model S was prone to catch fire, after Tesla said it would provide more protection to its battery packs. All Model S cars manufactured after March 6, 2014, have had the 0.25-inch (6.4 mm) aluminum shield over the battery pack replaced with a new three-layer shield. ', document_index=0, document_title='Tesla Inc.', end_char_index=71662, start_char_index=70982, type='char_location')], text='In 2013, there were safety concerns when a Model S caught fire after hitting metal debris on a highway in Kent, Washington. Tesla confirmed the fire began in the battery pack and was caused by impact. As a result, Tesla had to extend its vehicle warranty to cover fire damage. By March 2014, Tesla had to implement additional protection for its battery packs, adding a new three-layer shield.', type='text'),\n",
       " TextBlock(citations=None, text='\\n\\n4. Autopilot Safety Concerns:\\n', type='text'),\n",
       " TextBlock(citations=[CitationCharLocation(cited_text='=== Autopilot crashes ===\\n\\nA Model S driver died in a collision with a tractor-trailer in 2016, while the vehicle was in Autopilot mode; the driver is believed to be the first person to have died in a Tesla vehicle in Autopilot. The NHTSA investigated the accident but found no safety-related defect trend. ', document_index=0, document_title='Tesla Inc.', end_char_index=72140, start_char_index=71833, type='char_location')], text='In 2016, a Model S driver died in a collision with a tractor-trailer while the vehicle was in Autopilot mode, believed to be the first Autopilot-related death. Though the NHTSA investigated the accident, they found no safety-related defect trend.', type='text'),\n",
       " TextBlock(citations=None, text='\\n\\n5. Software Security Issues:\\n', type='text'),\n",
       " TextBlock(citations=[CitationCharLocation(cited_text=\"=== Software hacking ===\\nIn August 2015, two researchers said they were able to take control of a Tesla Model S by hacking into the car's entertainment system. The hack required the researchers to physically access the car. Tesla issued a security update for the Model S the day after the exploit was announced.\\n\", document_index=0, document_title='Tesla Inc.', end_char_index=74383, start_char_index=74071, type='char_location')], text=\"In August 2015, researchers demonstrated they could take control of a Tesla Model S by hacking into the car's entertainment system, though this required physical access to the car. Tesla had to issue a security update for the Model S after the exploit was announced.\", type='text')]"
      ]
     },
     "execution_count": 56,
     "metadata": {},
     "output_type": "execute_result"
    }
   ],
   "source": [
    "response_with_citations.content"
   ]
  },
  {
   "cell_type": "code",
   "execution_count": 58,
   "metadata": {},
   "outputs": [
    {
     "name": "stdout",
     "output_type": "stream",
     "text": [
      "When trying to produce the Model 3, Tesla invested heavily in robotics and automation for assembly, but this actually slowed down production and led to significant delays and problems, a period which the company described as \"production hell.\"\n"
     ]
    }
   ],
   "source": [
    "print(response_with_citations.content[1].text)"
   ]
  },
  {
   "cell_type": "code",
   "execution_count": 57,
   "metadata": {},
   "outputs": [
    {
     "data": {
      "text/plain": [
       "[CitationCharLocation(cited_text='To speed up production and control costs, Tesla invested heavily in robotics and automation to assemble the Model 3, but the robotics actually slowed the production of the vehicles. This led to significant delays and production problems, a period which the company described as \"production hell\". ', document_index=0, document_title='Tesla Inc.', end_char_index=8056, start_char_index=7759, type='char_location')]"
      ]
     },
     "execution_count": 57,
     "metadata": {},
     "output_type": "execute_result"
    }
   ],
   "source": [
    "response_with_citations.content[1].citations"
   ]
  },
  {
   "cell_type": "markdown",
   "metadata": {},
   "source": [
    "Raw response"
   ]
  },
  {
   "cell_type": "code",
   "execution_count": 59,
   "metadata": {},
   "outputs": [
    {
     "name": "stdout",
     "output_type": "stream",
     "text": [
      "\n",
      "================================================================================\n",
      "Raw response:\n",
      "================================================================================\n",
      "{\n",
      "  \"blocks\": [\n",
      "    {\n",
      "      \"text\": \"Based on the documents, here are the key difficulties Tesla faced between 2010-2016:\\n\\n1. Production and Manufacturing Challenges:\\n\"\n",
      "    },\n",
      "    {\n",
      "      \"text\": \"When trying to produce the Model 3, Tesla invested heavily in robotics and automation for assembly, but this actually slowed down production and led to significant delays and problems, a period which the company described as \\\"production hell.\\\"\",\n",
      "      \"citations\": [\n",
      "        {\n",
      "          \"type\": \"char_location\",\n",
      "          \"cited_text\": \"To speed up production and control costs, Tesla invested heavily in robotics and automation to assemble the Model 3, but the robotics actually slowed the production of the vehicles. This led to significant delays and production problems, a period which the company described as \\\"production hell\\\". \",\n",
      "          \"document_index\": 0,\n",
      "          \"document_title\": \"Tesla Inc.\",\n",
      "          \"start_char_index\": 7759,\n",
      "          \"end_char_index\": 8056\n",
      "        }\n",
      "      ]\n",
      "    },\n",
      "    {\n",
      "      \"text\": \"\\n\\n2. Financial Pressures:\\n\"\n",
      "    },\n",
      "    {\n",
      "      \"text\": \"The production difficulties put significant financial pressure on Tesla, and during this time it became one of the most shorted companies in the stock market.\",\n",
      "      \"citations\": [\n",
      "        {\n",
      "          \"type\": \"char_location\",\n",
      "          \"cited_text\": \"This period of \\\"production hell\\\" put significant financial pressure on Tesla, and during this time it became one of the most shorted companies in the stock market. \",\n",
      "          \"document_index\": 0,\n",
      "          \"document_title\": \"Tesla Inc.\",\n",
      "          \"start_char_index\": 8199,\n",
      "          \"end_char_index\": 8363\n",
      "        }\n",
      "      ]\n",
      "    },\n",
      "    {\n",
      "      \"text\": \"\\n\\n3. Battery and Technical Issues:\\n\"\n",
      "    },\n",
      "    {\n",
      "      \"text\": \"In 2013, there were safety concerns when a Model S caught fire after hitting metal debris on a highway in Kent, Washington. Tesla confirmed the fire began in the battery pack and was caused by impact. As a result, Tesla had to extend its vehicle warranty to cover fire damage. By March 2014, Tesla had to implement additional protection for its battery packs, adding a new three-layer shield.\",\n",
      "      \"citations\": [\n",
      "        {\n",
      "          \"type\": \"char_location\",\n",
      "          \"cited_text\": \"In 2013, a Model S caught fire after the vehicle hit metal debris on a highway in Kent, Washington. Tesla confirmed the fire began in the battery pack and was caused by the impact of an object. As a result of this and other incidents, Tesla announced its decision to extend its current vehicle warranty to cover fire damage. In March 2014, the NHTSA announced that it had closed the investigation into whether the Model S was prone to catch fire, after Tesla said it would provide more protection to its battery packs. All Model S cars manufactured after March 6, 2014, have had the 0.25-inch (6.4 mm) aluminum shield over the battery pack replaced with a new three-layer shield. \",\n",
      "          \"document_index\": 0,\n",
      "          \"document_title\": \"Tesla Inc.\",\n",
      "          \"start_char_index\": 70982,\n",
      "          \"end_char_index\": 71662\n",
      "        }\n",
      "      ]\n",
      "    },\n",
      "    {\n",
      "      \"text\": \"\\n\\n4. Autopilot Safety Concerns:\\n\"\n",
      "    },\n",
      "    {\n",
      "      \"text\": \"In 2016, a Model S driver died in a collision with a tractor-trailer while the vehicle was in Autopilot mode, believed to be the first Autopilot-related death. Though the NHTSA investigated the accident, they found no safety-related defect trend.\",\n",
      "      \"citations\": [\n",
      "        {\n",
      "          \"type\": \"char_location\",\n",
      "          \"cited_text\": \"=== Autopilot crashes ===\\n\\nA Model S driver died in a collision with a tractor-trailer in 2016, while the vehicle was in Autopilot mode; the driver is believed to be the first person to have died in a Tesla vehicle in Autopilot. The NHTSA investigated the accident but found no safety-related defect trend. \",\n",
      "          \"document_index\": 0,\n",
      "          \"document_title\": \"Tesla Inc.\",\n",
      "          \"start_char_index\": 71833,\n",
      "          \"end_char_index\": 72140\n",
      "        }\n",
      "      ]\n",
      "    },\n",
      "    {\n",
      "      \"text\": \"\\n\\n5. Software Security Issues:\\n\"\n",
      "    },\n",
      "    {\n",
      "      \"text\": \"In August 2015, researchers demonstrated they could take control of a Tesla Model S by hacking into the car's entertainment system, though this required physical access to the car. Tesla had to issue a security update for the Model S after the exploit was announced.\",\n",
      "      \"citations\": [\n",
      "        {\n",
      "          \"type\": \"char_location\",\n",
      "          \"cited_text\": \"=== Software hacking ===\\nIn August 2015, two researchers said they were able to take control of a Tesla Model S by hacking into the car's entertainment system. The hack required the researchers to physically access the car. Tesla issued a security update for the Model S the day after the exploit was announced.\\n\",\n",
      "          \"document_index\": 0,\n",
      "          \"document_title\": \"Tesla Inc.\",\n",
      "          \"start_char_index\": 74071,\n",
      "          \"end_char_index\": 74383\n",
      "        }\n",
      "      ]\n",
      "    }\n",
      "  ]\n",
      "}\n"
     ]
    }
   ],
   "source": [
    "print(\"\\n\" + \"=\"*80 + \"\\nRaw response:\\n\" + \"=\"*80)\n",
    "raw_response = {\n",
    "    \"blocks\": []\n",
    "}\n",
    "\n",
    "for content in response_with_citations.content:\n",
    "    if content.type == \"text\":\n",
    "        block = {\n",
    "            \"text\": content.text,\n",
    "        }\n",
    "        if hasattr(content, 'citations') and content.citations:\n",
    "            block[\"citations\"] = [\n",
    "                {\n",
    "                    \"type\": c.type,\n",
    "                    \"cited_text\": c.cited_text,\n",
    "                    \"document_index\": c.document_index,\n",
    "                    \"document_title\": c.document_title,\n",
    "                    \"start_char_index\": c.start_char_index,\n",
    "                    \"end_char_index\": c.end_char_index\n",
    "                } for c in content.citations\n",
    "            ]\n",
    "        raw_response[\"blocks\"].append(block)\n",
    "\n",
    "print(json.dumps(raw_response, indent=2))"
   ]
  },
  {
   "cell_type": "code",
   "execution_count": 63,
   "metadata": {},
   "outputs": [
    {
     "name": "stdout",
     "output_type": "stream",
     "text": [
      "Data saved to: ../output/anthropic-citations/response_with_citations-json.json\n"
     ]
    }
   ],
   "source": [
    "output_data = {\n",
    "    \"user_query\": user_message,  \n",
    "    \"raw_response\": raw_response  \n",
    "}\n",
    "\n",
    "# Save to JSON file\n",
    "output_file = \"../output/anthropic-citations/response_with_citations-json.json\"\n",
    "\n",
    "with open(output_file, 'w', encoding='utf-8') as f:\n",
    "    json.dump(output_data, f, indent=2, ensure_ascii=False)\n",
    "\n",
    "print(f\"Data saved to: {output_file}\")"
   ]
  },
  {
   "cell_type": "code",
   "execution_count": 64,
   "metadata": {},
   "outputs": [
    {
     "name": "stdout",
     "output_type": "stream",
     "text": [
      "Content saved to: ../output/anthropic-citations/response_with_citations-txt.txt\n",
      "Based on the documents, here are the key difficulties Tesla faced between 2010-2016:\n",
      "\n",
      "1. Production and Manufacturing Challenges:\n",
      "When trying to produce the Model 3, Tesla invested heavily in robotics and automation for assembly, but this actually slowed down production and led to significant delays and problems, a period which the company described as \"production hell.\" [1]\n",
      "\n",
      "2. Financial Pressures:\n",
      "The production difficulties put significant financial pressure on Tesla, and during this time it became one of the most shorted companies in the stock market. [2]\n",
      "\n",
      "3. Battery and Technical Issues:\n",
      "In 2013, there were safety concerns when a Model S caught fire after hitting metal debris on a highway in Kent, Washington. Tesla confirmed the fire began in the battery pack and was caused by impact. As a result, Tesla had to extend its vehicle warranty to cover fire damage. By March 2014, Tesla had to implement additional protection for its battery packs, adding a new three-layer shield. [3]\n",
      "\n",
      "4. Autopilot Safety Concerns:\n",
      "In 2016, a Model S driver died in a collision with a tractor-trailer while the vehicle was in Autopilot mode, believed to be the first Autopilot-related death. Though the NHTSA investigated the accident, they found no safety-related defect trend. [4]\n",
      "\n",
      "5. Software Security Issues:\n",
      "In August 2015, researchers demonstrated they could take control of a Tesla Model S by hacking into the car's entertainment system, though this required physical access to the car. Tesla had to issue a security update for the Model S after the exploit was announced. [5]\n",
      "\n",
      "[1] \"To speed up production and control costs, Tesla invested heavily in robotics and automation to assemble the Model 3, but the robotics actually slowed the production of the vehicles. This led to significant delays and production problems, a period which the company described as \"production hell\".\" found in \"Tesla Inc.\"\n",
      "[2] \"This period of \"production hell\" put significant financial pressure on Tesla, and during this time it became one of the most shorted companies in the stock market.\" found in \"Tesla Inc.\"\n",
      "[3] \"In 2013, a Model S caught fire after the vehicle hit metal debris on a highway in Kent, Washington. Tesla confirmed the fire began in the battery pack and was caused by the impact of an object. As a result of this and other incidents, Tesla announced its decision to extend its current vehicle warranty to cover fire damage. In March 2014, the NHTSA announced that it had closed the investigation into whether the Model S was prone to catch fire, after Tesla said it would provide more protection to its battery packs. All Model S cars manufactured after March 6, 2014, have had the 0.25-inch (6.4 mm) aluminum shield over the battery pack replaced with a new three-layer shield.\" found in \"Tesla Inc.\"\n",
      "[4] \"=== Autopilot crashes === A Model S driver died in a collision with a tractor-trailer in 2016, while the vehicle was in Autopilot mode; the driver is believed to be the first person to have died in a Tesla vehicle in Autopilot. The NHTSA investigated the accident but found no safety-related defect trend.\" found in \"Tesla Inc.\"\n",
      "[5] \"=== Software hacking === In August 2015, two researchers said they were able to take control of a Tesla Model S by hacking into the car's entertainment system. The hack required the researchers to physically access the car. Tesla issued a security update for the Model S the day after the exploit was announced.\" found in \"Tesla Inc.\"\n"
     ]
    }
   ],
   "source": [
    "def visualize_citations(response):\n",
    "    \"\"\"\n",
    "    Takes a response object and returns a string with numbered citations.\n",
    "    Example output: \"here is the plain text answer [1][2] here is some more text [3]\"\n",
    "    with a list of citations below.\n",
    "    \"\"\"\n",
    "    # Dictionary to store unique citations\n",
    "    citations_dict = {}\n",
    "    citation_counter = 1\n",
    "    \n",
    "    # Final formatted text\n",
    "    formatted_text = \"\"\n",
    "    citations_list = []\n",
    "    \n",
    "    for content in response.content:\n",
    "        if content.type == \"text\":\n",
    "            text = content.text\n",
    "            if hasattr(content, 'citations') and content.citations:\n",
    "                # Sort citations by their appearance in the text\n",
    "                sorted_citations = sorted(content.citations, \n",
    "                                         key=lambda x: x.start_char_index)\n",
    "                \n",
    "                # Process each citation\n",
    "                for citation in sorted_citations:\n",
    "                    doc_title = citation.document_title\n",
    "                    cited_text = citation.cited_text.replace('\\n', ' ').replace('\\r', ' ')\n",
    "                    # Remove any multiple spaces that might have been created\n",
    "                    cited_text = ' '.join(cited_text.split())\n",
    "                    \n",
    "                    # Create a unique key for this citation\n",
    "                    citation_key = f\"{doc_title}:{cited_text}\"\n",
    "                    \n",
    "                    # If this is a new citation, add it to our dictionary\n",
    "                    if citation_key not in citations_dict:\n",
    "                        citations_dict[citation_key] = citation_counter\n",
    "                        citations_list.append(f\"[{citation_counter}] \\\"{cited_text}\\\" found in \\\"{doc_title}\\\"\")\n",
    "                        citation_counter += 1\n",
    "                    \n",
    "                    # Add the citation number to the text\n",
    "                    citation_num = citations_dict[citation_key]\n",
    "                    text += f\" [{citation_num}]\"\n",
    "            \n",
    "            formatted_text += text\n",
    "    \n",
    "    # Combine the formatted text with the citations list\n",
    "    final_output = formatted_text + \"\\n\\n\" + \"\\n\".join(citations_list)\n",
    "    return final_output\n",
    "\n",
    "formatted_response = visualize_citations(response_with_citations)\n",
    "\n",
    "output_path = \"../output/anthropic-citations/response_with_citations-txt.txt\"\n",
    "\n",
    "# Write the content to the file\n",
    "with open(output_path, \"w\", encoding=\"utf-8\") as f:\n",
    "    f.write(formatted_response)\n",
    "\n",
    "print(f\"Content saved to: {output_path}\")\n",
    "\n",
    "print(formatted_response)"
   ]
  },
  {
   "cell_type": "code",
   "execution_count": null,
   "metadata": {},
   "outputs": [],
   "source": []
  }
 ],
 "metadata": {
  "kernelspec": {
   "display_name": "venv",
   "language": "python",
   "name": "python3"
  },
  "language_info": {
   "codemirror_mode": {
    "name": "ipython",
    "version": 3
   },
   "file_extension": ".py",
   "mimetype": "text/x-python",
   "name": "python",
   "nbconvert_exporter": "python",
   "pygments_lexer": "ipython3",
   "version": "3.13.1"
  }
 },
 "nbformat": 4,
 "nbformat_minor": 2
}
