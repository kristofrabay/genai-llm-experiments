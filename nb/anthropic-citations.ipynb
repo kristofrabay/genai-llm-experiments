{
 "cells": [
  {
   "cell_type": "markdown",
   "metadata": {},
   "source": [
    "Test `citations` in Anthropic\n",
    "\n",
    "You need to provide documents to the API:\n",
    "- PDF\n",
    "- plain txt\n",
    "- custom file"
   ]
  },
  {
   "cell_type": "code",
   "execution_count": 8,
   "metadata": {},
   "outputs": [],
   "source": [
    "from IPython.display import display, Markdown\n",
    "\n",
    "from anthropic import Anthropic\n",
    "client = Anthropic()"
   ]
  },
  {
   "cell_type": "code",
   "execution_count": 4,
   "metadata": {},
   "outputs": [],
   "source": [
    "anthropic_model_name = \"claude-3-5-sonnet-20241022\"\n",
    "temperature = 0.0\n",
    "max_tokens = 8192\n",
    "\n",
    "system_message = \"You are a professional QA assistant that can summarize documents and answer questions.\""
   ]
  },
  {
   "cell_type": "code",
   "execution_count": 6,
   "metadata": {},
   "outputs": [],
   "source": [
    "def call_anthropic_API(messages):\n",
    "    \n",
    "    response = client.messages.create(\n",
    "        model=anthropic_model_name,\n",
    "        max_tokens=max_tokens,\n",
    "        temperature=temperature,\n",
    "        system=system_message,\n",
    "        messages=messages\n",
    "    )\n",
    "    \n",
    "    return response"
   ]
  },
  {
   "cell_type": "markdown",
   "metadata": {},
   "source": [
    "Test connection"
   ]
  },
  {
   "cell_type": "code",
   "execution_count": 9,
   "metadata": {},
   "outputs": [
    {
     "name": "stdout",
     "output_type": "stream",
     "text": [
      "Usage: Usage(cache_creation_input_tokens=0, cache_read_input_tokens=0, input_tokens=39, output_tokens=175)\n",
      "Response:\n",
      "\n"
     ]
    },
    {
     "data": {
      "text/markdown": [
       "Falcons and ravens differ in several key ways:\n",
       "\n",
       "Falcons are birds of prey (raptors) with pointed wings, hooked beaks, and powerful talons used for hunting. They're known for their incredible speed and agility in flight.\n",
       "\n",
       "Ravens are corvids (part of the crow family) with broader wings, larger bodies, and straight beaks. They're intelligent scavengers and omnivores, known for problem-solving abilities and complex social behaviors.\n",
       "\n",
       "The main differences are in their:\n",
       "- Diet (falcons hunt live prey; ravens eat almost anything)\n",
       "- Beak shape (hooked vs straight)\n",
       "- Wing shape (pointed vs broad)\n",
       "- Size (ravens are generally larger)\n",
       "- Hunting style (falcons are predators; ravens are opportunistic feeders)"
      ],
      "text/plain": [
       "<IPython.core.display.Markdown object>"
      ]
     },
     "metadata": {},
     "output_type": "display_data"
    }
   ],
   "source": [
    "user_message = \"Concisely, explain the difference between a falcon and a raven.\"\n",
    "\n",
    "test_msg = [\n",
    "    {\n",
    "        \"role\": \"user\",\n",
    "        \"content\": [\n",
    "            {\n",
    "                \"type\": \"text\",\n",
    "                \"text\": user_message\n",
    "            }\n",
    "        ]\n",
    "    }\n",
    "]\n",
    "\n",
    "response = call_anthropic_API(test_msg)\n",
    "\n",
    "print(f'Usage: {response.usage}')\n",
    "print('Response:\\n')\n",
    "display(Markdown(response.content[0].text))"
   ]
  },
  {
   "cell_type": "code",
   "execution_count": null,
   "metadata": {},
   "outputs": [],
   "source": []
  },
  {
   "cell_type": "markdown",
   "metadata": {},
   "source": [
    "Test `citations`"
   ]
  },
  {
   "cell_type": "code",
   "execution_count": null,
   "metadata": {},
   "outputs": [],
   "source": []
  }
 ],
 "metadata": {
  "kernelspec": {
   "display_name": "venv",
   "language": "python",
   "name": "python3"
  },
  "language_info": {
   "codemirror_mode": {
    "name": "ipython",
    "version": 3
   },
   "file_extension": ".py",
   "mimetype": "text/x-python",
   "name": "python",
   "nbconvert_exporter": "python",
   "pygments_lexer": "ipython3",
   "version": "3.13.1"
  }
 },
 "nbformat": 4,
 "nbformat_minor": 2
}
