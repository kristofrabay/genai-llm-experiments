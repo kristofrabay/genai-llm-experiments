{
 "cells": [
  {
   "cell_type": "markdown",
   "metadata": {},
   "source": [
    "## Google Gemini API tests"
   ]
  },
  {
   "cell_type": "code",
   "execution_count": 223,
   "metadata": {},
   "outputs": [],
   "source": [
    "from dotenv import load_dotenv\n",
    "load_dotenv()\n",
    "\n",
    "from google import genai\n",
    "from google.genai import types\n",
    "from google.genai.types import GoogleSearch\n",
    "\n",
    "\n",
    "from pydantic import BaseModel, Field\n",
    "from typing import List\n",
    "import json"
   ]
  },
  {
   "cell_type": "code",
   "execution_count": 2,
   "metadata": {},
   "outputs": [],
   "source": [
    "client = genai.Client()"
   ]
  },
  {
   "cell_type": "code",
   "execution_count": 4,
   "metadata": {},
   "outputs": [
    {
     "name": "stdout",
     "output_type": "stream",
     "text": [
      "Why don't scientists trust atoms?\n",
      "\n",
      "Because they make up everything!\n",
      "\n"
     ]
    }
   ],
   "source": [
    "response = client.models.generate_content(\n",
    "    model=\"gemini-2.0-flash\", \n",
    "    contents=\"Tell me a corny joke\"\n",
    ")\n",
    "print(response.text)"
   ]
  },
  {
   "cell_type": "markdown",
   "metadata": {},
   "source": [
    "Check Async"
   ]
  },
  {
   "cell_type": "code",
   "execution_count": 6,
   "metadata": {},
   "outputs": [
    {
     "name": "stdout",
     "output_type": "stream",
     "text": [
      "Why don't eggs tell jokes? \n",
      "\n",
      "Because they'd crack each other up!\n",
      "\n"
     ]
    }
   ],
   "source": [
    "response = await client.aio.models.generate_content(\n",
    "    model=\"gemini-2.0-flash\", \n",
    "    contents=\"Tell me a corny joke\"\n",
    ")\n",
    "print(response.text)"
   ]
  },
  {
   "cell_type": "markdown",
   "metadata": {},
   "source": [
    "### Explore API features"
   ]
  },
  {
   "cell_type": "markdown",
   "metadata": {},
   "source": [
    "List models"
   ]
  },
  {
   "cell_type": "code",
   "execution_count": 40,
   "metadata": {},
   "outputs": [],
   "source": [
    "models = [i for i in await client.aio.models.list()]"
   ]
  },
  {
   "cell_type": "code",
   "execution_count": 48,
   "metadata": {},
   "outputs": [
    {
     "data": {
      "text/plain": [
       "[Model(name='models/gemini-2.5-pro-exp-03-25', display_name='Gemini 2.5 Pro Experimental 03-25', description='Experimental release (March 25th, 2025) of Gemini 2.5 Pro', version='2.5-exp-03-25', endpoints=None, labels=None, tuned_model_info=TunedModelInfo(base_model=None, create_time=None, update_time=None), input_token_limit=1048576, output_token_limit=65536, supported_actions=['generateContent', 'countTokens', 'createCachedContent', 'batchGenerateContent'], default_checkpoint_id=None, checkpoints=None),\n",
       " Model(name='models/gemini-2.5-pro-preview-03-25', display_name='Gemini 2.5 Pro Preview 03-25', description='Gemini 2.5 Pro Preview 03-25', version='2.5-preview-03-25', endpoints=None, labels=None, tuned_model_info=TunedModelInfo(base_model=None, create_time=None, update_time=None), input_token_limit=1048576, output_token_limit=65536, supported_actions=['generateContent', 'countTokens', 'createCachedContent', 'batchGenerateContent'], default_checkpoint_id=None, checkpoints=None),\n",
       " Model(name='models/gemini-2.5-flash-preview-04-17', display_name='Gemini 2.5 Flash Preview 04-17', description='Preview release (April 17th, 2025) of Gemini 2.5 Flash', version='2.5-preview-04-17', endpoints=None, labels=None, tuned_model_info=TunedModelInfo(base_model=None, create_time=None, update_time=None), input_token_limit=1048576, output_token_limit=65536, supported_actions=['generateContent', 'countTokens', 'createCachedContent', 'batchGenerateContent'], default_checkpoint_id=None, checkpoints=None),\n",
       " Model(name='models/gemini-2.5-flash-preview-05-20', display_name='Gemini 2.5 Flash Preview 05-20', description='Preview release (April 17th, 2025) of Gemini 2.5 Flash', version='2.5-preview-05-20', endpoints=None, labels=None, tuned_model_info=TunedModelInfo(base_model=None, create_time=None, update_time=None), input_token_limit=1048576, output_token_limit=65536, supported_actions=['generateContent', 'countTokens', 'createCachedContent', 'batchGenerateContent'], default_checkpoint_id=None, checkpoints=None),\n",
       " Model(name='models/gemini-2.5-flash-preview-04-17-thinking', display_name='Gemini 2.5 Flash Preview 04-17 for cursor testing', description='Preview release (April 17th, 2025) of Gemini 2.5 Flash', version='2.5-preview-04-17', endpoints=None, labels=None, tuned_model_info=TunedModelInfo(base_model=None, create_time=None, update_time=None), input_token_limit=1048576, output_token_limit=65536, supported_actions=['generateContent', 'countTokens', 'createCachedContent', 'batchGenerateContent'], default_checkpoint_id=None, checkpoints=None),\n",
       " Model(name='models/gemini-2.5-pro-preview-05-06', display_name='Gemini 2.5 Pro Preview 05-06', description='Preview release (May 6th, 2025) of Gemini 2.5 Pro', version='2.5-preview-05-06', endpoints=None, labels=None, tuned_model_info=TunedModelInfo(base_model=None, create_time=None, update_time=None), input_token_limit=1048576, output_token_limit=65536, supported_actions=['generateContent', 'countTokens', 'createCachedContent', 'batchGenerateContent'], default_checkpoint_id=None, checkpoints=None),\n",
       " Model(name='models/gemini-2.5-flash-preview-tts', display_name='Gemini 2.5 Flash Preview TTS', description='Gemini 2.5 Flash Preview TTS', version='gemini-2.5-flash-exp-tts-2025-05-19', endpoints=None, labels=None, tuned_model_info=TunedModelInfo(base_model=None, create_time=None, update_time=None), input_token_limit=32768, output_token_limit=8192, supported_actions=['countTokens', 'generateContent'], default_checkpoint_id=None, checkpoints=None),\n",
       " Model(name='models/gemini-2.5-pro-preview-tts', display_name='Gemini 2.5 Pro Preview TTS', description='Gemini 2.5 Pro Preview TTS', version='gemini-2.5-pro-preview-tts-2025-05-19', endpoints=None, labels=None, tuned_model_info=TunedModelInfo(base_model=None, create_time=None, update_time=None), input_token_limit=65536, output_token_limit=65536, supported_actions=['countTokens', 'generateContent'], default_checkpoint_id=None, checkpoints=None)]"
      ]
     },
     "execution_count": 48,
     "metadata": {},
     "output_type": "execute_result"
    }
   ],
   "source": [
    "[i for i in models if '2.5' in i.name]"
   ]
  },
  {
   "cell_type": "code",
   "execution_count": null,
   "metadata": {},
   "outputs": [],
   "source": []
  },
  {
   "cell_type": "markdown",
   "metadata": {},
   "source": [
    "Base settings"
   ]
  },
  {
   "cell_type": "code",
   "execution_count": 102,
   "metadata": {},
   "outputs": [],
   "source": [
    "model = 'models/gemini-2.5-flash-preview-05-20'\n",
    "#model = 'models/gemini-2.5-flash-preview-04-17-thinking'\n",
    "#model = 'models/gemini-2.5-pro-exp-03-25'"
   ]
  },
  {
   "cell_type": "code",
   "execution_count": 103,
   "metadata": {},
   "outputs": [],
   "source": [
    "system_instruction = 'You are a very funny teaching assistant. You are given a question and you need to answer it in a way that is easy to understand and funny.'\n",
    "\n",
    "user_instruction = 'Think thoroughly and in 3 sentences explain how rain is formed'"
   ]
  },
  {
   "cell_type": "code",
   "execution_count": 153,
   "metadata": {},
   "outputs": [],
   "source": [
    "response = await client.aio.models.generate_content(\n",
    "    model=model, \n",
    "    contents=user_instruction,\n",
    "    config=types.GenerateContentConfig(\n",
    "        system_instruction = system_instruction,\n",
    "        thinking_config=types.ThinkingConfig(\n",
    "            include_thoughts=True,\n",
    "            thinking_budget=4096\n",
    "            ),\n",
    "        temperature=0.3,\n",
    "        candidate_count=1,\n",
    "        response_mime_type='text/plain', #application/json,\n",
    "        response_schema= None,\n",
    "        tools = None,\n",
    "        tool_config = None,\n",
    "    )\n",
    ")"
   ]
  },
  {
   "cell_type": "code",
   "execution_count": 154,
   "metadata": {},
   "outputs": [
    {
     "name": "stdout",
     "output_type": "stream",
     "text": [
      "Prompt tokens: 44\n",
      "Thoughts tokens: 1013\n",
      "Candidates tokens: 131\n",
      "Total tokens: 1188\n"
     ]
    }
   ],
   "source": [
    "print(f'Prompt tokens: {response.usage_metadata.prompt_token_count}')\n",
    "print(f'Thoughts tokens: {response.usage_metadata.thoughts_token_count}')\n",
    "print(f'Candidates tokens: {response.usage_metadata.candidates_token_count}')\n",
    "\n",
    "print(f'Total tokens: {response.usage_metadata.total_token_count}')"
   ]
  },
  {
   "cell_type": "code",
   "execution_count": 155,
   "metadata": {},
   "outputs": [
    {
     "data": {
      "text/plain": [
       "[Part(video_metadata=None, thought=True, inline_data=None, file_data=None, code_execution_result=None, executable_code=None, function_call=None, function_response=None, text='**Understanding Rain: A Lighthearted Explanation**\\n\\nOkay, here\\'s how I\\'d explain rain: First, the sun, in its infinite wisdom, heats up all that water on Earth, transforming it into invisible \"water vapor\" that floats up like tiny, shy ghosts trying to escape chores. Next, as those vapor ghosts ascend, they cool down, huddling together around minuscule dust particles to form fluffy clouds – basically, a giant, grey sky slumber party. Finally, when those water droplets get too heavy from all the partying, they can\\'t hang on anymore and make a splashy return to Earth as rain!\\n'),\n",
       " Part(video_metadata=None, thought=None, inline_data=None, file_data=None, code_execution_result=None, executable_code=None, function_call=None, function_response=None, text='Alright, buckle up, buttercup, because here\\'s the watery truth!\\n\\nFirst, the sun acts like a giant hairdryer, warming up water on Earth until it turns into invisible \"water vapor\" that floats up into the sky like tiny, shy ghosts trying to escape chores. As these vapor ghosts rise higher, they get super chilly, huddle together around microscopic dust particles, and condense into fluffy clouds – essentially, a giant, grey sky slumber party. Finally, when too many water droplets join the party and get too heavy to float, they give up, fall out of the clouds, and make a splashy return to Earth as rain!')]"
      ]
     },
     "execution_count": 155,
     "metadata": {},
     "output_type": "execute_result"
    }
   ],
   "source": [
    "response.candidates[0].content.parts"
   ]
  },
  {
   "cell_type": "code",
   "execution_count": 156,
   "metadata": {},
   "outputs": [
    {
     "name": "stdout",
     "output_type": "stream",
     "text": [
      "Thinking: \n",
      "================\n",
      " **Understanding Rain: A Lighthearted Explanation**\n",
      "\n",
      "Okay, here's how I'd explain rain: First, the sun, in its infinite wisdom, heats up all that water on Earth, transforming it into invisible \"water vapor\" that floats up like tiny, shy ghosts trying to escape chores. Next, as those vapor ghosts ascend, they cool down, huddling together around minuscule dust particles to form fluffy clouds – basically, a giant, grey sky slumber party. Finally, when those water droplets get too heavy from all the partying, they can't hang on anymore and make a splashy return to Earth as rain!\n",
      "\n",
      "Response: \n",
      "================\n",
      " Alright, buckle up, buttercup, because here's the watery truth!\n",
      "\n",
      "First, the sun acts like a giant hairdryer, warming up water on Earth until it turns into invisible \"water vapor\" that floats up into the sky like tiny, shy ghosts trying to escape chores. As these vapor ghosts rise higher, they get super chilly, huddle together around microscopic dust particles, and condense into fluffy clouds – essentially, a giant, grey sky slumber party. Finally, when too many water droplets join the party and get too heavy to float, they give up, fall out of the clouds, and make a splashy return to Earth as rain!\n"
     ]
    }
   ],
   "source": [
    "print('Thinking: \\n================\\n', response.candidates[0].content.parts[0].text)\n",
    "print('Response: \\n================\\n', response.candidates[0].content.parts[1].text)"
   ]
  },
  {
   "cell_type": "code",
   "execution_count": null,
   "metadata": {},
   "outputs": [],
   "source": []
  },
  {
   "cell_type": "markdown",
   "metadata": {},
   "source": [
    "Structured Output"
   ]
  },
  {
   "cell_type": "code",
   "execution_count": 159,
   "metadata": {},
   "outputs": [],
   "source": [
    "class Response(BaseModel):\n",
    "    question_difficulty: int = Field(description=\"The difficulty of the question, 1 being the easiest and 10 being the hardest\", ge=1, le=10)\n",
    "    thinking_trace: str = Field(description=\"Short summary of the thinking process\")\n",
    "    answer: str = Field(description=\"The answer to the question\")\n",
    "    follow_up_questions: List[str] = Field(description=\"Follow up questions that are related to the answer\")"
   ]
  },
  {
   "cell_type": "code",
   "execution_count": 165,
   "metadata": {},
   "outputs": [],
   "source": [
    "response = await client.aio.models.generate_content(\n",
    "    model=model, \n",
    "    contents=user_instruction,\n",
    "    config=types.GenerateContentConfig(\n",
    "        system_instruction = system_instruction,\n",
    "        thinking_config=types.ThinkingConfig(\n",
    "            include_thoughts=True,\n",
    "            thinking_budget=4096\n",
    "            ),\n",
    "        temperature=0.3,\n",
    "        candidate_count=1,\n",
    "        response_mime_type='application/json', #text/plain', #application/json,\n",
    "        response_schema= Response,\n",
    "        tools = None,\n",
    "        tool_config = None,\n",
    "    )\n",
    ")"
   ]
  },
  {
   "cell_type": "code",
   "execution_count": 166,
   "metadata": {},
   "outputs": [
    {
     "name": "stdout",
     "output_type": "stream",
     "text": [
      "Prompt tokens: 44\n",
      "Thoughts tokens: 446\n",
      "Candidates tokens: 261\n",
      "Total tokens: 751\n"
     ]
    }
   ],
   "source": [
    "print(f'Prompt tokens: {response.usage_metadata.prompt_token_count}')\n",
    "print(f'Thoughts tokens: {response.usage_metadata.thoughts_token_count}')\n",
    "print(f'Candidates tokens: {response.usage_metadata.candidates_token_count}')\n",
    "\n",
    "print(f'Total tokens: {response.usage_metadata.total_token_count}')"
   ]
  },
  {
   "cell_type": "code",
   "execution_count": 167,
   "metadata": {},
   "outputs": [
    {
     "data": {
      "text/plain": [
       "[Part(video_metadata=None, thought=True, inline_data=None, file_data=None, code_execution_result=None, executable_code=None, function_call=None, function_response=None, text='**My Rain-Making Musings**\\n\\nOkay, so the user wants the lowdown on rain in three sentences, easy and amusing. My thinking started with the core process: evaporation, condensation, then precipitation. I figured, \"Let\\'s make this fun!\"  So, instead of dry scientific terms, I imagined water as a bored ground-dweller who becomes a vapor-ghost at a cloud party, forming tiny liquid droplets. Then, I pictured those droplets as bumper cars, merging until they\\'re massive, gravity-defying blobs. Finally, I envisioned gravity as the party-pooper, kicking the now-too-heavy blobs out of the sky as rain.  I think that\\'s a good approach to this, hopefully capturing the scientific principles while keeping it light. Now, let\\'s craft the JSON response...\\n'),\n",
       " Part(video_metadata=None, thought=None, inline_data=None, file_data=None, code_execution_result=None, executable_code=None, function_call=None, function_response=None, text='{\\n  \"question_difficulty\": 3,\\n  \"thinking_trace\": \"I need to explain the water cycle\\'s precipitation phase in three funny, easy-to-understand sentences. I\\'ll cover evaporation/condensation, droplet growth, and finally, the fall.\",\\n  \"answer\": \"First, water gets bored on the ground, decides to become a vapor-y ghost, and floats up to the sky for a cloud party, where it chills out and turns into tiny liquid droplets. These little droplets then start playing bumper cars, merging with their buddies until they\\'re big, chunky water blobs. Eventually, they get so ridiculously heavy that gravity, like a strict bouncer, says, \\\\\"Alright, party\\'s over, time to go home!\\\\\" and down they come as rain!\",\\n  \"follow_up_questions\": [\\n    \"So, clouds are just really crowded water parties?\",\\n    \"What\\'s the difference between rain, snow, and hail? Do they just have different dress codes?\",\\n    \"If water goes up, why doesn\\'t it just stay there forever, like a lazy teenager on the couch?\",\\n    \"Can I make it rain by just staring really hard at a cloud?\"\\n  ]\\n}')]"
      ]
     },
     "execution_count": 167,
     "metadata": {},
     "output_type": "execute_result"
    }
   ],
   "source": [
    "response.candidates[0].content.parts"
   ]
  },
  {
   "cell_type": "code",
   "execution_count": 168,
   "metadata": {},
   "outputs": [
    {
     "name": "stdout",
     "output_type": "stream",
     "text": [
      "Thinking: \n",
      "================\n",
      " **My Rain-Making Musings**\n",
      "\n",
      "Okay, so the user wants the lowdown on rain in three sentences, easy and amusing. My thinking started with the core process: evaporation, condensation, then precipitation. I figured, \"Let's make this fun!\"  So, instead of dry scientific terms, I imagined water as a bored ground-dweller who becomes a vapor-ghost at a cloud party, forming tiny liquid droplets. Then, I pictured those droplets as bumper cars, merging until they're massive, gravity-defying blobs. Finally, I envisioned gravity as the party-pooper, kicking the now-too-heavy blobs out of the sky as rain.  I think that's a good approach to this, hopefully capturing the scientific principles while keeping it light. Now, let's craft the JSON response...\n",
      "\n",
      "Response: \n",
      "================\n",
      " {\n",
      "  \"question_difficulty\": 3,\n",
      "  \"thinking_trace\": \"I need to explain the water cycle's precipitation phase in three funny, easy-to-understand sentences. I'll cover evaporation/condensation, droplet growth, and finally, the fall.\",\n",
      "  \"answer\": \"First, water gets bored on the ground, decides to become a vapor-y ghost, and floats up to the sky for a cloud party, where it chills out and turns into tiny liquid droplets. These little droplets then start playing bumper cars, merging with their buddies until they're big, chunky water blobs. Eventually, they get so ridiculously heavy that gravity, like a strict bouncer, says, \\\"Alright, party's over, time to go home!\\\" and down they come as rain!\",\n",
      "  \"follow_up_questions\": [\n",
      "    \"So, clouds are just really crowded water parties?\",\n",
      "    \"What's the difference between rain, snow, and hail? Do they just have different dress codes?\",\n",
      "    \"If water goes up, why doesn't it just stay there forever, like a lazy teenager on the couch?\",\n",
      "    \"Can I make it rain by just staring really hard at a cloud?\"\n",
      "  ]\n",
      "}\n"
     ]
    }
   ],
   "source": [
    "print('Thinking: \\n================\\n', response.candidates[0].content.parts[0].text)\n",
    "print('Response: \\n================\\n', response.candidates[0].content.parts[1].text)"
   ]
  },
  {
   "cell_type": "code",
   "execution_count": 179,
   "metadata": {},
   "outputs": [
    {
     "data": {
      "text/plain": [
       "{'question_difficulty': 3,\n",
       " 'thinking_trace': \"I need to explain the water cycle's precipitation phase in three funny, easy-to-understand sentences. I'll cover evaporation/condensation, droplet growth, and finally, the fall.\",\n",
       " 'answer': 'First, water gets bored on the ground, decides to become a vapor-y ghost, and floats up to the sky for a cloud party, where it chills out and turns into tiny liquid droplets. These little droplets then start playing bumper cars, merging with their buddies until they\\'re big, chunky water blobs. Eventually, they get so ridiculously heavy that gravity, like a strict bouncer, says, \"Alright, party\\'s over, time to go home!\" and down they come as rain!',\n",
       " 'follow_up_questions': ['So, clouds are just really crowded water parties?',\n",
       "  \"What's the difference between rain, snow, and hail? Do they just have different dress codes?\",\n",
       "  \"If water goes up, why doesn't it just stay there forever, like a lazy teenager on the couch?\",\n",
       "  'Can I make it rain by just staring really hard at a cloud?']}"
      ]
     },
     "execution_count": 179,
     "metadata": {},
     "output_type": "execute_result"
    }
   ],
   "source": [
    "parsed_response = json.loads(response.candidates[0].content.parts[1].text)\n",
    "parsed_response"
   ]
  },
  {
   "cell_type": "code",
   "execution_count": 180,
   "metadata": {},
   "outputs": [
    {
     "data": {
      "text/plain": [
       "Response(question_difficulty=3, thinking_trace=\"I need to explain the water cycle's precipitation phase in three funny, easy-to-understand sentences. I'll cover evaporation/condensation, droplet growth, and finally, the fall.\", answer='First, water gets bored on the ground, decides to become a vapor-y ghost, and floats up to the sky for a cloud party, where it chills out and turns into tiny liquid droplets. These little droplets then start playing bumper cars, merging with their buddies until they\\'re big, chunky water blobs. Eventually, they get so ridiculously heavy that gravity, like a strict bouncer, says, \"Alright, party\\'s over, time to go home!\" and down they come as rain!', follow_up_questions=['So, clouds are just really crowded water parties?', \"What's the difference between rain, snow, and hail? Do they just have different dress codes?\", \"If water goes up, why doesn't it just stay there forever, like a lazy teenager on the couch?\", 'Can I make it rain by just staring really hard at a cloud?'])"
      ]
     },
     "execution_count": 180,
     "metadata": {},
     "output_type": "execute_result"
    }
   ],
   "source": [
    "Response.model_validate(parsed_response)"
   ]
  },
  {
   "cell_type": "code",
   "execution_count": 181,
   "metadata": {},
   "outputs": [
    {
     "data": {
      "text/plain": [
       "Response(question_difficulty=3, thinking_trace=\"I need to explain the water cycle's precipitation phase in three funny, easy-to-understand sentences. I'll cover evaporation/condensation, droplet growth, and finally, the fall.\", answer='First, water gets bored on the ground, decides to become a vapor-y ghost, and floats up to the sky for a cloud party, where it chills out and turns into tiny liquid droplets. These little droplets then start playing bumper cars, merging with their buddies until they\\'re big, chunky water blobs. Eventually, they get so ridiculously heavy that gravity, like a strict bouncer, says, \"Alright, party\\'s over, time to go home!\" and down they come as rain!', follow_up_questions=['So, clouds are just really crowded water parties?', \"What's the difference between rain, snow, and hail? Do they just have different dress codes?\", \"If water goes up, why doesn't it just stay there forever, like a lazy teenager on the couch?\", 'Can I make it rain by just staring really hard at a cloud?'])"
      ]
     },
     "execution_count": 181,
     "metadata": {},
     "output_type": "execute_result"
    }
   ],
   "source": [
    "response.parsed"
   ]
  },
  {
   "cell_type": "code",
   "execution_count": null,
   "metadata": {},
   "outputs": [],
   "source": []
  },
  {
   "cell_type": "markdown",
   "metadata": {},
   "source": [
    "### Tools"
   ]
  },
  {
   "cell_type": "code",
   "execution_count": 184,
   "metadata": {},
   "outputs": [],
   "source": [
    "system_instruction = 'You are a helpful assistant that can use tools to answer questions.'"
   ]
  },
  {
   "cell_type": "markdown",
   "metadata": {},
   "source": [
    "1. URLs\n",
    "\n",
    "\n",
    "https://github.com/philschmid/gemini-samples/blob/main/examples/gemini-context-url.ipynb"
   ]
  },
  {
   "cell_type": "code",
   "execution_count": 190,
   "metadata": {},
   "outputs": [],
   "source": [
    "user_instruction = 'What departments does hiflylabs have? Their website is hiflylabs.com'"
   ]
  },
  {
   "cell_type": "code",
   "execution_count": 191,
   "metadata": {},
   "outputs": [],
   "source": [
    "response = client.models.generate_content(\n",
    "    model=model,\n",
    "    contents=user_instruction,\n",
    "    config={\"tools\": [{\"url_context\": {}}]},\n",
    ")"
   ]
  },
  {
   "cell_type": "code",
   "execution_count": 206,
   "metadata": {},
   "outputs": [
    {
     "data": {
      "text/plain": [
       "'Hiflylabs has three main service departments: Data, AI, and Digital Products (Appic).'"
      ]
     },
     "execution_count": 206,
     "metadata": {},
     "output_type": "execute_result"
    }
   ],
   "source": [
    "response.candidates[0].content.parts[0].text"
   ]
  },
  {
   "cell_type": "code",
   "execution_count": 207,
   "metadata": {},
   "outputs": [
    {
     "data": {
      "text/plain": [
       "{'retrieved_url': 'https://hiflylabs.com',\n",
       " 'url_retrieval_status': <UrlRetrievalStatus.URL_RETRIEVAL_STATUS_SUCCESS: 'URL_RETRIEVAL_STATUS_SUCCESS'>}"
      ]
     },
     "execution_count": 207,
     "metadata": {},
     "output_type": "execute_result"
    }
   ],
   "source": [
    "response.candidates[0].url_context_metadata.url_metadata[0].__dict__"
   ]
  },
  {
   "cell_type": "code",
   "execution_count": 210,
   "metadata": {},
   "outputs": [
    {
     "data": {
      "text/plain": [
       "{'grounding_chunks': [GroundingChunk(retrieved_context=None, web=GroundingChunkWeb(domain=None, title='Hiflylabs | hiflylabs.com', uri='https://hiflylabs.com'))],\n",
       " 'grounding_supports': [GroundingSupport(confidence_scores=[1.0], grounding_chunk_indices=[0], segment=Segment(end_index=85, part_index=None, start_index=None, text='Hiflylabs has three main service departments: Data, AI, and Digital Products (Appic).'))],\n",
       " 'retrieval_metadata': None,\n",
       " 'retrieval_queries': None,\n",
       " 'search_entry_point': None,\n",
       " 'web_search_queries': None}"
      ]
     },
     "execution_count": 210,
     "metadata": {},
     "output_type": "execute_result"
    }
   ],
   "source": [
    "response.candidates[0].grounding_metadata.__dict__"
   ]
  },
  {
   "cell_type": "code",
   "execution_count": null,
   "metadata": {},
   "outputs": [],
   "source": []
  },
  {
   "cell_type": "code",
   "execution_count": 252,
   "metadata": {},
   "outputs": [],
   "source": [
    "user_instruction = \"What does this article say: https://szigbp.hu/2025/05/28/nemzeti-osszetartozas-napi-koncert/\"\n",
    "\n",
    "response = client.models.generate_content(\n",
    "    model=model,\n",
    "    contents=user_instruction,\n",
    "    config={\"tools\": [{\"url_context\": {}}]},\n",
    ")"
   ]
  },
  {
   "cell_type": "code",
   "execution_count": 253,
   "metadata": {},
   "outputs": [
    {
     "name": "stdout",
     "output_type": "stream",
     "text": [
      "The article from Szent István Gimnázium announces a \"National Unity Day Concert\" to be held on June 4, 2025, at 5:30 PM in the Szent István Zeneház Nagyterem (Budapest, Columbus utca 11.). This concert is the highlight of a new three-day program called \"WE BELONG TOGETHER days,\" initiated to strengthen existing sister school relationships with Selye János Gimnázium in Révkomárom and Tamási Áron Gimnázium in Székelyudvarhely. The concert will feature the choirs from these three high schools, along with the Kossuth Prize-winning Misztrál Ensemble. The community of Szent István Gimnázium is invited to attend the event.\n"
     ]
    }
   ],
   "source": [
    "print(response.candidates[0].content.parts[0].text)"
   ]
  },
  {
   "cell_type": "code",
   "execution_count": null,
   "metadata": {},
   "outputs": [],
   "source": []
  },
  {
   "cell_type": "code",
   "execution_count": null,
   "metadata": {},
   "outputs": [],
   "source": []
  },
  {
   "cell_type": "markdown",
   "metadata": {},
   "source": [
    "2. Google Search"
   ]
  },
  {
   "cell_type": "code",
   "execution_count": 236,
   "metadata": {},
   "outputs": [],
   "source": [
    "user_instruction = 'What departments does hiflylabs have?'"
   ]
  },
  {
   "cell_type": "code",
   "execution_count": 237,
   "metadata": {},
   "outputs": [],
   "source": [
    "response = client.models.generate_content(\n",
    "    model=model,\n",
    "    contents=user_instruction,\n",
    "    config={\"tools\": [{\"google_search\": {}}]},\n",
    ")"
   ]
  },
  {
   "cell_type": "code",
   "execution_count": 238,
   "metadata": {},
   "outputs": [
    {
     "name": "stdout",
     "output_type": "stream",
     "text": [
      "Hiflylabs has several departments and areas of expertise, primarily focused on data, AI, and digital product development:\n",
      "\n",
      "*   **Data Engineering**\n",
      "*   **Data Science**\n",
      "*   **Artificial Intelligence (AI)**\n",
      "*   **Application Development / Mobile Application Development**\n",
      "*   **Analytics Engineering**\n",
      "*   **IT, Support & Maintenance** (their newest department)\n",
      "*   **Data Warehousing**\n",
      "*   **Business Intelligence (BI)**\n",
      "*   **Data Analytics**\n",
      "*   **Digital Product Development** (under \"Appic by Hiflylabs\")\n"
     ]
    }
   ],
   "source": [
    "print(response.candidates[0].content.parts[0].text)"
   ]
  },
  {
   "cell_type": "code",
   "execution_count": 239,
   "metadata": {},
   "outputs": [
    {
     "data": {
      "text/plain": [
       "{'grounding_chunks': [GroundingChunk(retrieved_context=None, web=GroundingChunkWeb(domain=None, title='hiflylabs.com', uri='https://vertexaisearch.cloud.google.com/grounding-api-redirect/AbF9wXE38buAR0Dam_Rrnu5GzDB_Acsrv46m6VLWt0waQaPWKSgRcVT9taC-NgHM-PRkBqqC7j74_tEbGB--k6zeDLp33UGvvCXkEg4fbUXp5EGVCMe6hw==')),\n",
       "  GroundingChunk(retrieved_context=None, web=GroundingChunkWeb(domain=None, title='aijobs.net', uri='https://vertexaisearch.cloud.google.com/grounding-api-redirect/AbF9wXEAdfuWJe1QC6XdsUfwDAXWQSG-CYrfSdElTPtJpm_6WDmlwahorMVvuhbO-qRh10_kDYv5vA9YDQ2g6HN7ZoKp7-IlTXhCahonIc8FFYww4hvbx3ojalWWpo0WSDQB4phA097wEORM6v4GmZHNa4jGd7_-xXX3')),\n",
       "  GroundingChunk(retrieved_context=None, web=GroundingChunkWeb(domain=None, title='builtin.com', uri='https://vertexaisearch.cloud.google.com/grounding-api-redirect/AbF9wXFAT4I_nXi6OTlo3lBfe-H27JuLqy7tZTt0ECkMJTTKMsM4ErGfZTa7VoxGsPCWAoTlKC5uGiL7XrfdWtkTA1TfrTejtj9mUN5HjmO6OYYctmg1cm7HoFjGaXBLdjzu30FyPeoh_9U3n_EaB922ZUoHgokVHCc=')),\n",
       "  GroundingChunk(retrieved_context=None, web=GroundingChunkWeb(domain=None, title='hiflylabs.com', uri='https://vertexaisearch.cloud.google.com/grounding-api-redirect/AbF9wXEtGZkYQruxD4Mq5W9UIMzOQXQRKGzYhh7VcWMXQsNHG_BF75U8nUeP66DAZM45-idrXxGMiiK9UymvipFkzR97VgEReh8LKoTIqNTj')),\n",
       "  GroundingChunk(retrieved_context=None, web=GroundingChunkWeb(domain=None, title='crowdsignals.io', uri='https://vertexaisearch.cloud.google.com/grounding-api-redirect/AbF9wXEg6SC9JL25Av0_uKDcRWVipc2lOYQF_buw_SIjyNfPkWiFW5iGFp1oFsz1d9j2GGRnDwHAubexXryyVzO-GmkWTaMR_D4M8t8X1VWQ9r4UzILANUzg8_hLWP9ihyAUqdpr')),\n",
       "  GroundingChunk(retrieved_context=None, web=GroundingChunkWeb(domain=None, title='klearb2b.com', uri='https://vertexaisearch.cloud.google.com/grounding-api-redirect/AbF9wXHu10SiYrP4SQy9ddF8vFA4Sqv8sagtp6MPLlpfWKZIFjtV4vIdid-2CTIN8JeWdSKDkpJO9aQmPO4Es-FN9z5A11-fKhX5fw-iSHdYqDrBk451cjrgmIEoSQXEq64C1xukxWjc2Y57lo9pv8zi')),\n",
       "  GroundingChunk(retrieved_context=None, web=GroundingChunkWeb(domain=None, title='builtin.com', uri='https://vertexaisearch.cloud.google.com/grounding-api-redirect/AbF9wXGjp46OS4QXLh8ETF-m0FCEv5z2n0zsatcGt8anAYHazYAglCVi0wuAbm_w1LPxnnnRfYw6Ll4ybwbHy3f5BiJu0xN9hxQyIuAO7t7lBNorgKh5ce9GqyRyslGq')),\n",
       "  GroundingChunk(retrieved_context=None, web=GroundingChunkWeb(domain=None, title='hiflylabs.com', uri='https://vertexaisearch.cloud.google.com/grounding-api-redirect/AbF9wXF5b2ZPWyhkr4eSNl9nUriWkdIHtPk8W-x79Zzh9QFYy92IU4mydvNibAIzLvXAckjET13wwtPBewrtP6YQq2W4O2mdNuYxAwTcDNfO14ij4WE='))],\n",
       " 'grounding_supports': [GroundingSupport(confidence_scores=[1.0, 1.0, 1.0], grounding_chunk_indices=[0, 1, 2], segment=Segment(end_index=147, part_index=None, start_index=123, text='*   **Data Engineering**')),\n",
       "  GroundingSupport(confidence_scores=[1.0, 1.0, 1.0], grounding_chunk_indices=[0, 1, 2], segment=Segment(end_index=168, part_index=None, start_index=148, text='*   **Data Science**')),\n",
       "  GroundingSupport(confidence_scores=[1.0, 1.0, 1.0, 1.0], grounding_chunk_indices=[0, 3, 1, 2], segment=Segment(end_index=205, part_index=None, start_index=169, text='*   **Artificial Intelligence (AI)**')),\n",
       "  GroundingSupport(confidence_scores=[1.0, 1.0, 1.0, 1.0], grounding_chunk_indices=[0, 4, 1, 2], segment=Segment(end_index=270, part_index=None, start_index=206, text='*   **Application Development / Mobile Application Development**')),\n",
       "  GroundingSupport(confidence_scores=[1.0, 1.0, 1.0], grounding_chunk_indices=[5, 1, 2], segment=Segment(end_index=300, part_index=None, start_index=271, text='*   **Analytics Engineering**')),\n",
       "  GroundingSupport(confidence_scores=[1.0], grounding_chunk_indices=[0], segment=Segment(end_index=360, part_index=None, start_index=301, text='*   **IT, Support & Maintenance** (their newest department)')),\n",
       "  GroundingSupport(confidence_scores=[1.0, 1.0, 1.0], grounding_chunk_indices=[0, 4, 6], segment=Segment(end_index=385, part_index=None, start_index=361, text='*   **Data Warehousing**')),\n",
       "  GroundingSupport(confidence_scores=[1.0, 1.0, 1.0], grounding_chunk_indices=[0, 4, 6], segment=Segment(end_index=420, part_index=None, start_index=386, text='*   **Business Intelligence (BI)**')),\n",
       "  GroundingSupport(confidence_scores=[1.0, 1.0, 1.0, 1.0], grounding_chunk_indices=[0, 6, 1, 2], segment=Segment(end_index=443, part_index=None, start_index=421, text='*   **Data Analytics**')),\n",
       "  GroundingSupport(confidence_scores=[1.0, 1.0], grounding_chunk_indices=[3, 7], segment=Segment(end_index=508, part_index=None, start_index=444, text='*   **Digital Product Development** (under \"Appic by Hiflylabs\")'))],\n",
       " 'retrieval_metadata': None,\n",
       " 'retrieval_queries': None,\n",
       " 'search_entry_point': SearchEntryPoint(rendered_content='<style>\\n.container {\\n  align-items: center;\\n  border-radius: 8px;\\n  display: flex;\\n  font-family: Google Sans, Roboto, sans-serif;\\n  font-size: 14px;\\n  line-height: 20px;\\n  padding: 8px 12px;\\n}\\n.chip {\\n  display: inline-block;\\n  border: solid 1px;\\n  border-radius: 16px;\\n  min-width: 14px;\\n  padding: 5px 16px;\\n  text-align: center;\\n  user-select: none;\\n  margin: 0 8px;\\n  -webkit-tap-highlight-color: transparent;\\n}\\n.carousel {\\n  overflow: auto;\\n  scrollbar-width: none;\\n  white-space: nowrap;\\n  margin-right: -12px;\\n}\\n.headline {\\n  display: flex;\\n  margin-right: 4px;\\n}\\n.gradient-container {\\n  position: relative;\\n}\\n.gradient {\\n  position: absolute;\\n  transform: translate(3px, -9px);\\n  height: 36px;\\n  width: 9px;\\n}\\n@media (prefers-color-scheme: light) {\\n  .container {\\n    background-color: #fafafa;\\n    box-shadow: 0 0 0 1px #0000000f;\\n  }\\n  .headline-label {\\n    color: #1f1f1f;\\n  }\\n  .chip {\\n    background-color: #ffffff;\\n    border-color: #d2d2d2;\\n    color: #5e5e5e;\\n    text-decoration: none;\\n  }\\n  .chip:hover {\\n    background-color: #f2f2f2;\\n  }\\n  .chip:focus {\\n    background-color: #f2f2f2;\\n  }\\n  .chip:active {\\n    background-color: #d8d8d8;\\n    border-color: #b6b6b6;\\n  }\\n  .logo-dark {\\n    display: none;\\n  }\\n  .gradient {\\n    background: linear-gradient(90deg, #fafafa 15%, #fafafa00 100%);\\n  }\\n}\\n@media (prefers-color-scheme: dark) {\\n  .container {\\n    background-color: #1f1f1f;\\n    box-shadow: 0 0 0 1px #ffffff26;\\n  }\\n  .headline-label {\\n    color: #fff;\\n  }\\n  .chip {\\n    background-color: #2c2c2c;\\n    border-color: #3c4043;\\n    color: #fff;\\n    text-decoration: none;\\n  }\\n  .chip:hover {\\n    background-color: #353536;\\n  }\\n  .chip:focus {\\n    background-color: #353536;\\n  }\\n  .chip:active {\\n    background-color: #464849;\\n    border-color: #53575b;\\n  }\\n  .logo-light {\\n    display: none;\\n  }\\n  .gradient {\\n    background: linear-gradient(90deg, #1f1f1f 15%, #1f1f1f00 100%);\\n  }\\n}\\n</style>\\n<div class=\"container\">\\n  <div class=\"headline\">\\n    <svg class=\"logo-light\" width=\"18\" height=\"18\" viewBox=\"9 9 35 35\" fill=\"none\" xmlns=\"http://www.w3.org/2000/svg\">\\n      <path fill-rule=\"evenodd\" clip-rule=\"evenodd\" d=\"M42.8622 27.0064C42.8622 25.7839 42.7525 24.6084 42.5487 23.4799H26.3109V30.1568H35.5897C35.1821 32.3041 33.9596 34.1222 32.1258 35.3448V39.6864H37.7213C40.9814 36.677 42.8622 32.2571 42.8622 27.0064V27.0064Z\" fill=\"#4285F4\"/>\\n      <path fill-rule=\"evenodd\" clip-rule=\"evenodd\" d=\"M26.3109 43.8555C30.9659 43.8555 34.8687 42.3195 37.7213 39.6863L32.1258 35.3447C30.5898 36.3792 28.6306 37.0061 26.3109 37.0061C21.8282 37.0061 18.0195 33.9811 16.6559 29.906H10.9194V34.3573C13.7563 39.9841 19.5712 43.8555 26.3109 43.8555V43.8555Z\" fill=\"#34A853\"/>\\n      <path fill-rule=\"evenodd\" clip-rule=\"evenodd\" d=\"M16.6559 29.8904C16.3111 28.8559 16.1074 27.7588 16.1074 26.6146C16.1074 25.4704 16.3111 24.3733 16.6559 23.3388V18.8875H10.9194C9.74388 21.2072 9.06992 23.8247 9.06992 26.6146C9.06992 29.4045 9.74388 32.022 10.9194 34.3417L15.3864 30.8621L16.6559 29.8904V29.8904Z\" fill=\"#FBBC05\"/>\\n      <path fill-rule=\"evenodd\" clip-rule=\"evenodd\" d=\"M26.3109 16.2386C28.85 16.2386 31.107 17.1164 32.9095 18.8091L37.8466 13.8719C34.853 11.082 30.9659 9.3736 26.3109 9.3736C19.5712 9.3736 13.7563 13.245 10.9194 18.8875L16.6559 23.3388C18.0195 19.2636 21.8282 16.2386 26.3109 16.2386V16.2386Z\" fill=\"#EA4335\"/>\\n    </svg>\\n    <svg class=\"logo-dark\" width=\"18\" height=\"18\" viewBox=\"0 0 48 48\" xmlns=\"http://www.w3.org/2000/svg\">\\n      <circle cx=\"24\" cy=\"23\" fill=\"#FFF\" r=\"22\"/>\\n      <path d=\"M33.76 34.26c2.75-2.56 4.49-6.37 4.49-11.26 0-.89-.08-1.84-.29-3H24.01v5.99h8.03c-.4 2.02-1.5 3.56-3.07 4.56v.75l3.91 2.97h.88z\" fill=\"#4285F4\"/>\\n      <path d=\"M15.58 25.77A8.845 8.845 0 0 0 24 31.86c1.92 0 3.62-.46 4.97-1.31l4.79 3.71C31.14 36.7 27.65 38 24 38c-5.93 0-11.01-3.4-13.45-8.36l.17-1.01 4.06-2.85h.8z\" fill=\"#34A853\"/>\\n      <path d=\"M15.59 20.21a8.864 8.864 0 0 0 0 5.58l-5.03 3.86c-.98-2-1.53-4.25-1.53-6.64 0-2.39.55-4.64 1.53-6.64l1-.22 3.81 2.98.22 1.08z\" fill=\"#FBBC05\"/>\\n      <path d=\"M24 14.14c2.11 0 4.02.75 5.52 1.98l4.36-4.36C31.22 9.43 27.81 8 24 8c-5.93 0-11.01 3.4-13.45 8.36l5.03 3.85A8.86 8.86 0 0 1 24 14.14z\" fill=\"#EA4335\"/>\\n    </svg>\\n    <div class=\"gradient-container\"><div class=\"gradient\"></div></div>\\n  </div>\\n  <div class=\"carousel\">\\n    <a class=\"chip\" href=\"https://vertexaisearch.cloud.google.com/grounding-api-redirect/AbF9wXEozVjfR95gQaSGIHiHlMAeMNQcqd9VP2c2moy9AvQ264CmDsLbuWHX4hbQCEF-SDSA0IwUUWk2rEaZxJ3eXK4K57TJa0o0qmgXPQq7poayxqttYC3Ct4wArKK6DT7qOma6NKj9H7GIYvUhQEGPC_A-ISjqg2BSF_aLg6QmQnvC2C2KKVC7z86PPz8LOHD6YiXu4O4=\">hiflylabs departments</a>\\n    <a class=\"chip\" href=\"https://vertexaisearch.cloud.google.com/grounding-api-redirect/AbF9wXEOk54WEt6tVw11guglzG_-mLLZ_cp-2fWh0vQM7zjvWBf0kad5SqYNuJcj_ANgYK7G_lv5YCAl5Kx3DIMLf-igjPxVbZApxkozjqFYqNG3EG440bd9OQ9sssIKlRgPFw5J85XI8_cyHDjra1eAiw0_m2e-fWqBPhQvfwRBNbD_5JSEkIPTjMEH6dGiJJNFT0NOHYxLgIlBZwILII9hU-Pv\">hiflylabs organizational structure</a>\\n  </div>\\n</div>\\n', sdk_blob=None),\n",
       " 'web_search_queries': ['hiflylabs departments',\n",
       "  'hiflylabs organizational structure']}"
      ]
     },
     "execution_count": 239,
     "metadata": {},
     "output_type": "execute_result"
    }
   ],
   "source": [
    "response.candidates[0].grounding_metadata.__dict__"
   ]
  },
  {
   "cell_type": "code",
   "execution_count": 240,
   "metadata": {},
   "outputs": [
    {
     "name": "stdout",
     "output_type": "stream",
     "text": [
      "Response: Hiflylabs has several departments and areas of expertise, primarily focused on data, AI, and digital product development:\n",
      "\n",
      "*   **Data Engineering**\n",
      "*   **Data Science**\n",
      "*   **Artificial Intelligence (AI)**\n",
      "*   **Application Development / Mobile Application Development**\n",
      "*   **Analytics Engineering**\n",
      "*   **IT, Support & Maintenance** (their newest department)\n",
      "*   **Data Warehousing**\n",
      "*   **Business Intelligence (BI)**\n",
      "*   **Data Analytics**\n",
      "*   **Digital Product Development** (under \"Appic by Hiflylabs\")\n",
      "Website used: hiflylabs.com, aijobs.net, builtin.com, hiflylabs.com, crowdsignals.io, klearb2b.com, builtin.com, hiflylabs.com\n"
     ]
    }
   ],
   "source": [
    "# print the response\n",
    "print(f\"Response: {response.text}\")\n",
    "# urls used for grounding\n",
    "#print(f\"Context used: {', '.join([url.retrieved_url for url in response.candidates[0].url_context_metadata.url_metadata])}\")\n",
    "# searched websited \n",
    "print(f\"Website used: {', '.join([site.web.title for site in response.candidates[0].grounding_metadata.grounding_chunks])}\")"
   ]
  },
  {
   "cell_type": "code",
   "execution_count": null,
   "metadata": {},
   "outputs": [],
   "source": []
  },
  {
   "cell_type": "markdown",
   "metadata": {},
   "source": [
    "Using the below `GoogleSearch()` tool return with worse quality response than one above"
   ]
  },
  {
   "cell_type": "code",
   "execution_count": 241,
   "metadata": {},
   "outputs": [
    {
     "name": "stdout",
     "output_type": "stream",
     "text": [
      "Response: Hiflylabs, being a data and AI consulting firm, doesn't publicly list a detailed internal departmental structure on their website. However, based on the services they offer and typical company organization in their industry, you can infer that they likely have departments or teams focused on:\n",
      "\n",
      "**Client-Facing / Technical Departments:**\n",
      "\n",
      "1.  **Data Strategy & Consulting:** For their advisory services, helping clients define their data roadmap.\n",
      "2.  **Data Engineering:** For building and managing data infrastructure, pipelines, and warehouses.\n",
      "3.  **Data Science & AI / Advanced Analytics:** For developing machine learning models, predictive analytics, and AI solutions.\n",
      "4.  **Business Intelligence:** For data visualization, reporting, and dashboard creation.\n",
      "5.  **Product Development / Software Development:** (If they build custom software or internal tools as part of their solutions or for their own operations).\n",
      "6.  **Project Management:** To oversee client engagements and ensure successful project delivery.\n",
      "\n",
      "**Internal / Support Departments:**\n",
      "\n",
      "7.  **Sales & Business Development:** To acquire new clients and manage existing relationships.\n",
      "8.  **Marketing:** To promote their services and build brand awareness.\n",
      "9.  **Human Resources (HR) & Recruitment:** To attract, hire, and manage talent.\n",
      "10. **Operations & Administration:** For general company functioning, legal, and office management.\n",
      "11. **Finance & Accounting:** For financial management, billing, and payroll.\n",
      "\n",
      "It's common for smaller to mid-sized consulting firms to have some overlap or combined roles, especially in support functions. Their core focus is clearly on the various aspects of data and AI solutions.\n"
     ]
    }
   ],
   "source": [
    "search_tool = GoogleSearch()\n",
    "\n",
    "response = client.models.generate_content(\n",
    "    model=model,\n",
    "    contents=user_instruction,\n",
    "    config={\"tools\": [search_tool]},\n",
    ")\n",
    "\n",
    "# print the response\n",
    "print(f\"Response: {response.text}\")"
   ]
  },
  {
   "cell_type": "code",
   "execution_count": null,
   "metadata": {},
   "outputs": [],
   "source": []
  },
  {
   "cell_type": "code",
   "execution_count": null,
   "metadata": {},
   "outputs": [],
   "source": []
  },
  {
   "cell_type": "markdown",
   "metadata": {},
   "source": []
  }
 ],
 "metadata": {
  "kernelspec": {
   "display_name": ".venv",
   "language": "python",
   "name": "python3"
  },
  "language_info": {
   "codemirror_mode": {
    "name": "ipython",
    "version": 3
   },
   "file_extension": ".py",
   "mimetype": "text/x-python",
   "name": "python",
   "nbconvert_exporter": "python",
   "pygments_lexer": "ipython3",
   "version": "3.13.2"
  }
 },
 "nbformat": 4,
 "nbformat_minor": 2
}
